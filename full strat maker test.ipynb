{
 "cells": [
  {
   "cell_type": "code",
   "execution_count": 4,
   "metadata": {
    "collapsed": true
   },
   "outputs": [
    {
     "ename": "TypeError",
     "evalue": "from_talib() got an unexpected keyword argument 'cart_product'",
     "output_type": "error",
     "traceback": [
      "\u001b[1;31m---------------------------------------------------------------------------\u001b[0m",
      "\u001b[1;31mTypeError\u001b[0m                                 Traceback (most recent call last)",
      "Cell \u001b[1;32mIn[4], line 28\u001b[0m\n\u001b[0;32m     24\u001b[0m sm \u001b[39m=\u001b[39m StrategyMaker()\n\u001b[0;32m     26\u001b[0m price_data \u001b[39m=\u001b[39m pd\u001b[39m.\u001b[39mread_hdf(\u001b[39m\"\u001b[39m\u001b[39m../QuantFreedom/tests/data/prices.hd5\u001b[39m\u001b[39m\"\u001b[39m)\n\u001b[1;32m---> 28\u001b[0m rsi_ind \u001b[39m=\u001b[39m sm\u001b[39m.\u001b[39;49mfrom_talib(\n\u001b[0;32m     29\u001b[0m     func_name\u001b[39m=\u001b[39;49m\u001b[39m\"\u001b[39;49m\u001b[39mrsi\u001b[39;49m\u001b[39m\"\u001b[39;49m,\n\u001b[0;32m     30\u001b[0m     price_data\u001b[39m=\u001b[39;49mprice_data,\n\u001b[0;32m     31\u001b[0m     cart_product\u001b[39m=\u001b[39;49m\u001b[39mFalse\u001b[39;49;00m,\n\u001b[0;32m     32\u001b[0m     combos\u001b[39m=\u001b[39;49m\u001b[39mFalse\u001b[39;49;00m,\n\u001b[0;32m     33\u001b[0m     timeperiod\u001b[39m=\u001b[39;49m[\u001b[39m15\u001b[39;49m, \u001b[39m30\u001b[39;49m],\n\u001b[0;32m     34\u001b[0m )\n\u001b[0;32m     36\u001b[0m \u001b[39m# entries = rsi_ind.is_below(\u001b[39;00m\n\u001b[0;32m     37\u001b[0m \u001b[39m#     user_args=[40, 50],\u001b[39;00m\n\u001b[0;32m     38\u001b[0m \u001b[39m#     candle_ohlc=\"close\",\u001b[39;00m\n\u001b[0;32m     39\u001b[0m \u001b[39m# )\u001b[39;00m\n\u001b[0;32m     40\u001b[0m \n\u001b[0;32m     41\u001b[0m \u001b[39m# entries = sm.combined_data_frame()\u001b[39;00m\n",
      "File \u001b[1;32me:\\Coding\\backtesters\\QuantFreedom\\quantfreedom\\base\\strategy_maker_cls.py:88\u001b[0m, in \u001b[0;36mStrategyMaker.from_talib\u001b[1;34m(self, func_name, price_data, indicator_data, all_possible_combos, column_wise_combos, plot_results, plot_on_data, **kwargs)\u001b[0m\n\u001b[0;32m     77\u001b[0m \u001b[39mdef\u001b[39;00m \u001b[39mfrom_talib\u001b[39m(\n\u001b[0;32m     78\u001b[0m     \u001b[39mself\u001b[39m,\n\u001b[0;32m     79\u001b[0m     func_name: \u001b[39mstr\u001b[39m,\n\u001b[1;32m   (...)\u001b[0m\n\u001b[0;32m     86\u001b[0m     \u001b[39m*\u001b[39m\u001b[39m*\u001b[39mkwargs,\n\u001b[0;32m     87\u001b[0m ):\n\u001b[1;32m---> 88\u001b[0m     indicator \u001b[39m=\u001b[39m from_talib(\n\u001b[0;32m     89\u001b[0m         func_name,\n\u001b[0;32m     90\u001b[0m         price_data,\n\u001b[0;32m     91\u001b[0m         indicator_data,\n\u001b[0;32m     92\u001b[0m         all_possible_combos,\n\u001b[0;32m     93\u001b[0m         column_wise_combos,\n\u001b[0;32m     94\u001b[0m         plot_results,\n\u001b[0;32m     95\u001b[0m         plot_on_data,\n\u001b[0;32m     96\u001b[0m         \u001b[39m*\u001b[39m\u001b[39m*\u001b[39mkwargs,\n\u001b[0;32m     97\u001b[0m     )\n\u001b[0;32m     98\u001b[0m     \u001b[39mself\u001b[39m\u001b[39m.\u001b[39mindicators\u001b[39m.\u001b[39mappend(indicator)\n\u001b[0;32m     99\u001b[0m     \u001b[39mreturn\u001b[39;00m indicator\n",
      "\u001b[1;31mTypeError\u001b[0m: from_talib() got an unexpected keyword argument 'cart_product'"
     ]
    }
   ],
   "source": [
    "import numpy as np\n",
    "import pandas as pd\n",
    "from quantfreedom.base.strategy_maker_cls import StrategyMaker\n",
    "from quantfreedom.enums.enums import (\n",
    "    CandleBody,\n",
    "    LeverageMode,\n",
    "    OrderType,\n",
    "    SizeType,\n",
    "    OrderSettingsArrays,\n",
    "    StaticVariables,\n",
    ")\n",
    "\n",
    "np.set_printoptions(formatter={\"float_kind\": \"{:.2f}\".format})\n",
    "pd.options.display.float_format = \"{:,.2f}\".format\n",
    "\n",
    "# prices = data_download_from_ccxt(\n",
    "#     exchange='bybit',\n",
    "#     start='2020-10-01T00:00:00Z',\n",
    "#     end='2021-04-15T00:00:00Z',\n",
    "#     symbols=['BTCUSDT', 'ETHUSD'],\n",
    "#     timeframe='30m',\n",
    "# )\n",
    "\n",
    "sm = StrategyMaker()\n",
    "\n",
    "price_data = pd.read_hdf(\"../QuantFreedom/tests/data/prices.hd5\")\n",
    "\n",
    "rsi_ind = sm.from_talib(\n",
    "    func_name=\"rsi\",\n",
    "    price_data=price_data,\n",
    "    cart_product=False,\n",
    "    combos=False,\n",
    "    timeperiod=[15, 30],\n",
    ")\n",
    "\n",
    "# entries = rsi_ind.is_below(\n",
    "#     user_args=[40, 50],\n",
    "#     candle_ohlc=\"close\",\n",
    "# )\n",
    "\n",
    "# entries = sm.combined_data_frame()"
   ]
  },
  {
   "cell_type": "code",
   "execution_count": 3,
   "metadata": {},
   "outputs": [],
   "source": [
    "static_vars = StaticVariables(\n",
    "    equity=1000.,\n",
    "    lev_mode=LeverageMode.LeastFreeCashUsed,\n",
    "    order_type=OrderType.LongEntry,\n",
    "    size_type=SizeType.RiskPercentOfAccount,\n",
    ")\n",
    "order_settings = OrderSettingsArrays(\n",
    "    max_equity_risk_pct=6.,\n",
    "    risk_reward=[2,4,5],\n",
    "    size_pct=1.,\n",
    "    sl_based_on=CandleBody.low,\n",
    "    sl_based_on_lookback=30,\n",
    "    sl_based_on_add_pct=.2,\n",
    ")"
   ]
  },
  {
   "cell_type": "code",
   "execution_count": 4,
   "metadata": {
    "collapsed": false
   },
   "outputs": [
    {
     "name": "stdout",
     "output_type": "stream",
     "text": [
      "Checking static variables for errors or conflicts.\n",
      "Turning all variables into arrays.\n",
      "Checking arrays for errors or conflicts ... the backtest will begin shortly, please hold.\n",
      "Creating cartesian product ... after this the backtest will start, I promise :).\n",
      "\n",
      "Starting the backtest now ... and also here are some stats for your backtest.\n",
      "\n",
      "Total symbols: 5\n",
      "Total indicator settings per symbol: 4\n",
      "Total indicator settings to test: 20\n",
      "Total order settings per symbol: 3\n",
      "Total order settings to test: 15\n",
      "Total candles per symbol: 9,408\n",
      "Total candles to test: 564,480\n",
      "\n",
      "Total combinations to test: 60\n"
     ]
    }
   ],
   "source": [
    "strat_results_df, settings_results_df = sm.backtest_df(\n",
    "    price_data=price_data,\n",
    "    static_variables_tuple=static_vars,\n",
    "    order_settings_arrays_tuple=order_settings,\n",
    ")"
   ]
  },
  {
   "cell_type": "code",
   "execution_count": null,
   "metadata": {},
   "outputs": [],
   "source": [
    "# sm.strategy_dashboard([1,18, 8, 6])"
   ]
  },
  {
   "cell_type": "code",
   "execution_count": null,
   "metadata": {},
   "outputs": [],
   "source": []
  }
 ],
 "metadata": {
  "kernelspec": {
   "display_name": "Python 3 (ipykernel)",
   "language": "python",
   "name": "python3"
  },
  "language_info": {
   "codemirror_mode": {
    "name": "ipython",
    "version": 3
   },
   "file_extension": ".py",
   "mimetype": "text/x-python",
   "name": "python",
   "nbconvert_exporter": "python",
   "pygments_lexer": "ipython3",
   "version": "3.10.10"
  }
 },
 "nbformat": 4,
 "nbformat_minor": 1
}
