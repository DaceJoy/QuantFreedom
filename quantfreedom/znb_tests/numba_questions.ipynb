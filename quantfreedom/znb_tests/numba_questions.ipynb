{
  "cells": [
    {
      "cell_type": "code",
      "execution_count": null,
      "metadata": {},
      "outputs": [],
      "source": [
        "import os\n",
        "import sys\n",
        "\n",
        "sys.dont_write_bytecode = True\n",
        "os.environ[\"NUMBA_DISABLE_JIT\"] = \"1\"\n",
        "\n",
        "from my_stuff import MufexKeys\n",
        "from quantfreedom.exchanges.mufex_exchange.mufex import Mufex\n",
        "from time import sleep\n",
        "from numba.experimental import jitclass\n",
        "from numba import njit\n",
        "import numpy as np\n",
        "import talib\n",
        "import pandas as pd\n",
        "from numba import njit\n",
        "import numba\n",
        "\n",
        "\n",
        "mufex_main = Mufex(\n",
        "    api_key=MufexKeys.api_key,\n",
        "    secret_key=MufexKeys.secret_key,\n",
        "    use_test_net=False,\n",
        ")\n",
        "symbol=\"BTCUSDT\"\n",
        "\n",
        "%load_ext autoreload\n",
        "%autoreload 2\n"
      ]
    },
    {
      "cell_type": "code",
      "execution_count": null,
      "metadata": {},
      "outputs": [],
      "source": [
        "candles_np = mufex_main.get_candles_df(\n",
        "    symbol=symbol,\n",
        "    timeframe='1m',\n",
        "    candles_to_dl=300,\n",
        "    limit=200\n",
        ")"
      ]
    },
    {
      "cell_type": "code",
      "execution_count": null,
      "metadata": {},
      "outputs": [],
      "source": [
        "@njit(cache=True,parallel=True)\n",
        "def printerthing(candles_np: np.array):\n",
        "    for i in range(100000000):\n",
        "        for a in range(10000000000):\n",
        "            for x in range(1000000000):\n",
        "                candles_np['open'] * candles_np['close'] * candles_np['high']\n",
        "printerthing(candles_np)"
      ]
    },
    {
      "cell_type": "code",
      "execution_count": null,
      "metadata": {},
      "outputs": [],
      "source": [
        "@njit(cache=True, parallel=False)\n",
        "def printerthing(candles_np: np.array):\n",
        "    for i in range(100000000):\n",
        "        for a in range(10000000000):\n",
        "            for x in range(1000000000):\n",
        "                candles_np[\"open\"] * candles_np[\"close\"] * candles_np[\"high\"]\n",
        "\n",
        "\n",
        "printerthing(candles_np)"
      ]
    },
    {
      "cell_type": "code",
      "execution_count": null,
      "metadata": {},
      "outputs": [],
      "source": [
        "def printerthing(candles_np: np.array):\n",
        "    for i in range(100):\n",
        "        for a in range(1000):\n",
        "            for x in range(300):\n",
        "                candles_np['open'][x] * candles_np['close'][x] * candles_np['high'][x]\n",
        "printerthing(candles_np)"
      ]
    },
    {
      "cell_type": "code",
      "execution_count": null,
      "metadata": {},
      "outputs": [],
      "source": [
        "candles_df = pd.DataFrame(candles_np)"
      ]
    },
    {
      "cell_type": "code",
      "execution_count": null,
      "metadata": {},
      "outputs": [],
      "source": [
        "def printerthing(candles_df: pd.DataFrame):\n",
        "    for i in range(100):\n",
        "        for a in range(1000):\n",
        "            for x in range(300):\n",
        "                candles_df['open'][x] * candles_df['close'][x] * candles_df['high'][x]\n",
        "printerthing(candles_df)"
      ]
    },
    {
      "cell_type": "code",
      "execution_count": null,
      "metadata": {},
      "outputs": [],
      "source": [
        "data = pd.Series(range(1_000_000))\n",
        "roll = data.rolling(10)"
      ]
    },
    {
      "cell_type": "code",
      "execution_count": null,
      "metadata": {},
      "outputs": [],
      "source": [
        "def f(x):\n",
        "    return np.sum(x) + 5"
      ]
    },
    {
      "cell_type": "code",
      "execution_count": null,
      "metadata": {},
      "outputs": [],
      "source": [
        "%timeit -r 1 -n 1 roll.apply(f, engine='numba', raw=True)"
      ]
    },
    {
      "cell_type": "code",
      "execution_count": null,
      "metadata": {},
      "outputs": [],
      "source": [
        "%timeit roll.apply(f, engine='numba', raw=True)"
      ]
    },
    {
      "cell_type": "code",
      "execution_count": null,
      "metadata": {},
      "outputs": [],
      "source": [
        "%timeit roll.apply(f, engine='cython', raw=True)"
      ]
    },
    {
      "cell_type": "code",
      "execution_count": null,
      "metadata": {},
      "outputs": [],
      "source": [
        "numba.config.NUMBA_NUM_THREADS"
      ]
    },
    {
      "cell_type": "code",
      "execution_count": null,
      "metadata": {},
      "outputs": [],
      "source": [
        "numba.set_num_threads(5)\n",
        "print(numba.config.NUMBA_NUM_THREADS)\n",
        "df = pd.DataFrame(np.random.randn(10_000, 100))\n",
        "roll = df.rolling(100)"
      ]
    },
    {
      "cell_type": "code",
      "execution_count": null,
      "metadata": {},
      "outputs": [],
      "source": [
        "%timeit roll.mean(engine=\"numba\", engine_kwargs={\"parallel\": True})"
      ]
    },
    {
      "cell_type": "code",
      "execution_count": null,
      "metadata": {},
      "outputs": [],
      "source": []
    },
    {
      "cell_type": "code",
      "execution_count": null,
      "metadata": {},
      "outputs": [],
      "source": [
        "candles_np_raw = np.array(candles.values.tolist(), dtype=np.float_)"
      ]
    },
    {
      "cell_type": "code",
      "execution_count": null,
      "metadata": {},
      "outputs": [],
      "source": [
        "candles_np_raw"
      ]
    },
    {
      "cell_type": "code",
      "execution_count": null,
      "metadata": {},
      "outputs": [],
      "source": [
        "hello = np.empty(len(candles.values.tolist()), dtype=np.dtype(\n",
        "    [\n",
        "        (\"timestamp\", np.int64),\n",
        "        (\"open\", np.float_),\n",
        "        (\"high\", np.float_),\n",
        "        (\"low\", np.float_),\n",
        "        (\"close\", np.float_),\n",
        "    ],\n",
        "    align=True,\n",
        "))"
      ]
    },
    {
      "cell_type": "code",
      "execution_count": null,
      "metadata": {},
      "outputs": [],
      "source": [
        "hello['timestamp'] = candles_np_raw[:,0]\n",
        "hello['open'] = candles.open\n",
        "hello['high'] = candles.high\n",
        "hello['low'] = candles.low\n",
        "hello['close'] = candles.close"
      ]
    },
    {
      "cell_type": "code",
      "execution_count": null,
      "metadata": {},
      "outputs": [],
      "source": [
        "from quantfreedom.helper_funcs import .float_to_str\n",
        "\n",
        "\n",
        "@njit()\n",
        "def make_msg():\n",
        "    var_1 = 5343.32\n",
        "    var_2 = 1112\n",
        "    msg = \"hey this is a float \" + .float_to_str(var_1) + \" and this is an int \" + str(var_2)\n",
        "    return msg\n",
        "\n",
        "\n",
        "@njit()\n",
        "def print_msg(msg: str):\n",
        "    print(msg)\n",
        "\n",
        "\n",
        "make_msg()"
      ]
    }
  ],
  "metadata": {
    "kernelspec": {
      "display_name": "qfFree",
      "language": "python",
      "name": "python3"
    },
    "language_info": {
      "codemirror_mode": {
        "name": "ipython",
        "version": 3
      },
      "file_extension": ".py",
      "mimetype": "text/x-python",
      "name": "python",
      "nbconvert_exporter": "python",
      "pygments_lexer": "ipython3",
      "version": "3.10.10"
    },
    "orig_nbformat": 4
  },
  "nbformat": 4,
  "nbformat_minor": 2
}
