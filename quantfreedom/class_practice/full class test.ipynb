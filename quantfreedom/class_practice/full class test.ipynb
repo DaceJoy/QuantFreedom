{
 "cells": [
  {
   "cell_type": "code",
   "execution_count": 1,
   "metadata": {},
   "outputs": [],
   "source": [
    "import os\n",
    "import sys\n",
    "\n",
    "sys.dont_write_bytecode = True\n",
    "os.environ[\"NUMBA_DISABLE_JIT\"] = \"1\""
   ]
  },
  {
   "cell_type": "code",
   "execution_count": 2,
   "metadata": {
    "collapsed": true
   },
   "outputs": [],
   "source": [
    "import pandas as pd\n",
    "import numpy as np\n",
    "from quantfreedom.class_practice.enums import *\n",
    "from quantfreedom.class_practice.base import backtest_df_only, plot_one_result\n",
    "\n",
    "\n",
    "price_data = pd.read_hdf(\"../../tests/data/4hBTCETH.hd5\")\n",
    "%load_ext autoreload\n",
    "%autoreload 2\n"
   ]
  },
  {
   "cell_type": "code",
   "execution_count": 3,
   "metadata": {},
   "outputs": [],
   "source": [
    "entries_array = np.array(\n",
    "    [\n",
    "        [False, False, True, True, False, False],\n",
    "        [True, True, True, True, False, False],\n",
    "    ]\n",
    ").T\n",
    "entries = pd.DataFrame(entries_array, index=price_data.index)\n",
    "exit_signals = np.array(\n",
    "    [\n",
    "        [False, False, False, False, False, True],\n",
    "        [False, False, False, False, True, False],\n",
    "    ]\n",
    ").T\n",
    "exit_signals = pd.DataFrame(exit_signals, index=price_data.index)\n"
   ]
  },
  {
   "cell_type": "code",
   "execution_count": 4,
   "metadata": {},
   "outputs": [
    {
     "data": {
      "text/plain": [
       "array([[False,  True],\n",
       "       [False,  True],\n",
       "       [ True,  True],\n",
       "       [ True,  True],\n",
       "       [False, False],\n",
       "       [False, False]])"
      ]
     },
     "execution_count": 4,
     "metadata": {},
     "output_type": "execute_result"
    }
   ],
   "source": [
    "entries_array"
   ]
  },
  {
   "cell_type": "code",
   "execution_count": 5,
   "metadata": {},
   "outputs": [],
   "source": [
    "account_state = AccountState()\n",
    "backtest_settings = BacktestSettings()\n",
    "exchange_settings = ExchangeSettings()\n",
    "order_settings_arrays = OrderSettingsArrays(\n",
    "    risk_account_pct_size=np.array([1.0]) / 100,\n",
    "    sl_based_on_add_pct=np.array([0.01]) / 100,\n",
    "    sl_based_on_lookback=np.array([30]),\n",
    "    risk_reward=np.array([2.0, 5.0]),\n",
    "    leverage_type=np.array([LeverageType.Dynamic]),\n",
    "    sl_candle_body_type=np.array([CandleBodyType.Low]),\n",
    "    increase_position_type=np.array(\n",
    "        [IncreasePositionType.RiskPctAccountEntrySize]),\n",
    "    stop_loss_type=np.array([StopLossType.SLBasedOnCandleBody]),\n",
    "    take_profit_type=np.array([TakeProfitType.RiskReward]),\n",
    "    max_equity_risk_pct=np.array([100]) / 100,\n",
    "    order_type=np.array([OrderType.Long]),\n",
    "    sl_to_be_based_on_candle_body_type=np.array([CandleBodyType.High]),\n",
    "    sl_to_be_when_pct_from_candle_body=np.array([1, 2]) / 100,\n",
    "    sl_to_be_zero_or_entry_type=np.array([SLToBeZeroOrEntryType.ZeroLoss]),\n",
    "    trail_sl_based_on_candle_body_type=np.array([CandleBodyType.Close]),\n",
    "    trail_sl_when_pct_from_candle_body=np.array([2.0]) / 100,\n",
    "    trail_sl_by_pct=np.array([1.0]) / 100,\n",
    "    static_leverage=np.array([1.0]),\n",
    "    tp_fee_type=np.array([TakeProfitFeeType.Limit]),\n",
    ")"
   ]
  },
  {
   "cell_type": "code",
   "execution_count": 6,
   "metadata": {
    "collapsed": false
   },
   "outputs": [
    {
     "name": "stdout",
     "output_type": "stream",
     "text": [
      "Creating cartesian product ... after this the backtest will start, I promise :).\n",
      "\n",
      "Starting the backtest now ... and also here are some stats for your backtest.\n",
      "\n",
      "Total symbols: 2\n",
      "Total indicator settings per symbol: 1\n",
      "Total indicator settings to test: 2\n",
      "Total order settings per symbol: 4\n",
      "Total order settings to test: 8\n",
      "Total candles per symbol: 6\n",
      "Total candles to test: 48\n",
      "\n",
      "Total combinations to test: 8\n"
     ]
    }
   ],
   "source": [
    "order_records_df, strat_res_df, order_set_res_df = backtest_df_only(\n",
    "    account_state=account_state,\n",
    "    order_settings_arrays=order_settings_arrays,\n",
    "    backtest_settings=backtest_settings,\n",
    "    exchange_settings=exchange_settings,\n",
    "    price_data=price_data,\n",
    "    entries=entries,\n",
    ")"
   ]
  },
  {
   "cell_type": "code",
   "execution_count": 11,
   "metadata": {},
   "outputs": [],
   "source": [
    "plot_one_result(\n",
    "    strat_result_index=0,\n",
    "    strat_res_df=strat_res_df,\n",
    "    price_data=price_data,\n",
    "    order_records_df=order_records_df,\n",
    ")"
   ]
  }
 ],
 "metadata": {
  "kernelspec": {
   "display_name": "Python 3 (ipykernel)",
   "language": "python",
   "name": "python3"
  },
  "language_info": {
   "codemirror_mode": {
    "name": "ipython",
    "version": 3
   },
   "file_extension": ".py",
   "mimetype": "text/x-python",
   "name": "python",
   "nbconvert_exporter": "python",
   "pygments_lexer": "ipython3",
   "version": "3.10.10"
  }
 },
 "nbformat": 4,
 "nbformat_minor": 1
}
