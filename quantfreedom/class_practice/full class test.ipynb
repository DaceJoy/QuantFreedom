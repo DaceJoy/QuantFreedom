{
 "cells": [
  {
   "cell_type": "code",
   "execution_count": 11,
   "metadata": {},
   "outputs": [],
   "source": [
    "import os\n",
    "import sys\n",
    "\n",
    "sys.dont_write_bytecode = True\n",
    "os.environ[\"NUMBA_DISABLE_JIT\"] = \"1\""
   ]
  },
  {
   "cell_type": "code",
   "execution_count": 12,
   "metadata": {
    "collapsed": true
   },
   "outputs": [
    {
     "name": "stdout",
     "output_type": "stream",
     "text": [
      "The autoreload extension is already loaded. To reload it, use:\n",
      "  %reload_ext autoreload\n"
     ]
    }
   ],
   "source": [
    "import pandas as pd\n",
    "import numpy as np\n",
    "from quantfreedom.class_practice.enums import *\n",
    "from quantfreedom.class_practice.base import backtest_df_only, plot_one_result\n",
    "\n",
    "\n",
    "price_data = pd.read_hdf(\"../../tests/data/4hBTCETH.hd5\")\n",
    "%load_ext autoreload\n",
    "%autoreload 2\n"
   ]
  },
  {
   "cell_type": "code",
   "execution_count": 13,
   "metadata": {},
   "outputs": [],
   "source": [
    "entries_array = np.array(\n",
    "    [\n",
    "        [False, False, True, True, False, False],\n",
    "        [True, True, True, True, False, False],\n",
    "    ]\n",
    ").T\n",
    "entries = pd.DataFrame(entries_array, index=price_data.index)\n",
    "exit_signals = np.array(\n",
    "    [\n",
    "        [False, False, False, False, False, True],\n",
    "        [False, False, False, False, True, False],\n",
    "    ]\n",
    ").T\n",
    "exit_signals = pd.DataFrame(exit_signals, index=price_data.index)\n"
   ]
  },
  {
   "cell_type": "code",
   "execution_count": 14,
   "metadata": {},
   "outputs": [
    {
     "data": {
      "text/plain": [
       "array([[False,  True],\n",
       "       [False,  True],\n",
       "       [ True,  True],\n",
       "       [ True,  True],\n",
       "       [False, False],\n",
       "       [False, False]])"
      ]
     },
     "execution_count": 14,
     "metadata": {},
     "output_type": "execute_result"
    }
   ],
   "source": [
    "entries_array"
   ]
  },
  {
   "cell_type": "code",
   "execution_count": 15,
   "metadata": {},
   "outputs": [],
   "source": [
    "account_state = AccountState()\n",
    "backtest_settings = BacktestSettings()\n",
    "exchange_settings = ExchangeSettings()\n",
    "order_settings_arrays = OrderSettingsArrays(\n",
    "    risk_account_pct_size=np.array([1.0]) / 100,\n",
    "    sl_based_on_add_pct=np.array([0.01]) / 100,\n",
    "    sl_based_on_lookback=np.array([30]),\n",
    "    risk_reward=np.array([2.0, 5.0]),\n",
    "    leverage_type=np.array([LeverageType.Dynamic]),\n",
    "    sl_candle_body_type=np.array([CandleBodyType.Low]),\n",
    "    increase_position_type=np.array(\n",
    "        [IncreasePositionType.RiskPctAccountEntrySize]),\n",
    "    stop_loss_type=np.array([StopLossType.SLBasedOnCandleBody]),\n",
    "    take_profit_type=np.array([TakeProfitType.RiskReward]),\n",
    "    max_equity_risk_pct=np.array([100]) / 100,\n",
    "    order_type=np.array([OrderType.Long]),\n",
    "    sl_to_be_based_on_candle_body_type=np.array([CandleBodyType.High]),\n",
    "    sl_to_be_when_pct_from_candle_body=np.array([1, 2]) / 100,\n",
    "    sl_to_be_zero_or_entry_type=np.array([SLToBeZeroOrEntryType.ZeroLoss]),\n",
    "    trail_sl_based_on_candle_body_type=np.array([CandleBodyType.Close]),\n",
    "    trail_sl_when_pct_from_candle_body=np.array([2.0]) / 100,\n",
    "    trail_sl_by_pct=np.array([1.0]) / 100,\n",
    "    static_leverage=np.array([1.0]),\n",
    "    tp_fee_type=np.array([TakeProfitFeeType.Limit]),\n",
    ")"
   ]
  },
  {
   "cell_type": "code",
   "execution_count": 16,
   "metadata": {
    "collapsed": false
   },
   "outputs": [
    {
     "name": "stdout",
     "output_type": "stream",
     "text": [
      "Creating cartesian product ... after this the backtest will start, I promise :).\n",
      "\n",
      "Starting the backtest now ... and also here are some stats for your backtest.\n",
      "\n",
      "Total symbols: 2\n",
      "Total indicator settings per symbol: 1\n",
      "Total indicator settings to test: 2\n",
      "Total order settings per symbol: 4\n",
      "Total order settings to test: 8\n",
      "Total candles per symbol: 6\n",
      "Total candles to test: 48\n",
      "\n",
      "Total combinations to test: 8\n"
     ]
    }
   ],
   "source": [
    "order_records_df, strat_res_df, order_set_res_df = backtest_df_only(\n",
    "    account_state=account_state,\n",
    "    order_settings_arrays=order_settings_arrays,\n",
    "    backtest_settings=backtest_settings,\n",
    "    exchange_settings=exchange_settings,\n",
    "    price_data=price_data,\n",
    "    entries=entries,\n",
    ")"
   ]
  },
  {
   "cell_type": "code",
   "execution_count": 17,
   "metadata": {},
   "outputs": [
    {
     "data": {
      "text/html": [
       "<div>\n",
       "<style scoped>\n",
       "    .dataframe tbody tr th:only-of-type {\n",
       "        vertical-align: middle;\n",
       "    }\n",
       "\n",
       "    .dataframe tbody tr th {\n",
       "        vertical-align: top;\n",
       "    }\n",
       "\n",
       "    .dataframe thead th {\n",
       "        text-align: right;\n",
       "    }\n",
       "</style>\n",
       "<table border=\"1\" class=\"dataframe\">\n",
       "  <thead>\n",
       "    <tr style=\"text-align: right;\">\n",
       "      <th></th>\n",
       "      <th>symbol_idx</th>\n",
       "      <th>ind_set_idx</th>\n",
       "      <th>or_set_idx</th>\n",
       "      <th>total_trades</th>\n",
       "      <th>gains_pct</th>\n",
       "      <th>win_rate</th>\n",
       "      <th>to_the_upside</th>\n",
       "      <th>total_pnl</th>\n",
       "      <th>ending_eq</th>\n",
       "    </tr>\n",
       "  </thead>\n",
       "  <tbody>\n",
       "    <tr>\n",
       "      <th>0</th>\n",
       "      <td>1</td>\n",
       "      <td>0</td>\n",
       "      <td>0</td>\n",
       "      <td>3.00</td>\n",
       "      <td>-2.97</td>\n",
       "      <td>0.00</td>\n",
       "      <td>-1.00</td>\n",
       "      <td>-29.70</td>\n",
       "      <td>970.30</td>\n",
       "    </tr>\n",
       "    <tr>\n",
       "      <th>1</th>\n",
       "      <td>1</td>\n",
       "      <td>0</td>\n",
       "      <td>1</td>\n",
       "      <td>3.00</td>\n",
       "      <td>-2.97</td>\n",
       "      <td>0.00</td>\n",
       "      <td>-1.00</td>\n",
       "      <td>-29.70</td>\n",
       "      <td>970.30</td>\n",
       "    </tr>\n",
       "    <tr>\n",
       "      <th>2</th>\n",
       "      <td>1</td>\n",
       "      <td>0</td>\n",
       "      <td>2</td>\n",
       "      <td>3.00</td>\n",
       "      <td>-2.97</td>\n",
       "      <td>0.00</td>\n",
       "      <td>-1.00</td>\n",
       "      <td>-29.70</td>\n",
       "      <td>970.30</td>\n",
       "    </tr>\n",
       "    <tr>\n",
       "      <th>3</th>\n",
       "      <td>1</td>\n",
       "      <td>0</td>\n",
       "      <td>3</td>\n",
       "      <td>3.00</td>\n",
       "      <td>-2.97</td>\n",
       "      <td>0.00</td>\n",
       "      <td>-1.00</td>\n",
       "      <td>-29.70</td>\n",
       "      <td>970.30</td>\n",
       "    </tr>\n",
       "    <tr>\n",
       "      <th>4</th>\n",
       "      <td>0</td>\n",
       "      <td>0</td>\n",
       "      <td>0</td>\n",
       "      <td>2.00</td>\n",
       "      <td>-1.99</td>\n",
       "      <td>0.00</td>\n",
       "      <td>-1.00</td>\n",
       "      <td>-19.90</td>\n",
       "      <td>980.10</td>\n",
       "    </tr>\n",
       "    <tr>\n",
       "      <th>5</th>\n",
       "      <td>0</td>\n",
       "      <td>0</td>\n",
       "      <td>1</td>\n",
       "      <td>2.00</td>\n",
       "      <td>-1.99</td>\n",
       "      <td>0.00</td>\n",
       "      <td>-1.00</td>\n",
       "      <td>-19.90</td>\n",
       "      <td>980.10</td>\n",
       "    </tr>\n",
       "    <tr>\n",
       "      <th>6</th>\n",
       "      <td>0</td>\n",
       "      <td>0</td>\n",
       "      <td>2</td>\n",
       "      <td>2.00</td>\n",
       "      <td>-1.99</td>\n",
       "      <td>0.00</td>\n",
       "      <td>-1.00</td>\n",
       "      <td>-19.90</td>\n",
       "      <td>980.10</td>\n",
       "    </tr>\n",
       "    <tr>\n",
       "      <th>7</th>\n",
       "      <td>0</td>\n",
       "      <td>0</td>\n",
       "      <td>3</td>\n",
       "      <td>2.00</td>\n",
       "      <td>-1.99</td>\n",
       "      <td>0.00</td>\n",
       "      <td>-1.00</td>\n",
       "      <td>-19.90</td>\n",
       "      <td>980.10</td>\n",
       "    </tr>\n",
       "  </tbody>\n",
       "</table>\n",
       "</div>"
      ],
      "text/plain": [
       "   symbol_idx  ind_set_idx  or_set_idx  total_trades  gains_pct  win_rate  \\\n",
       "0           1            0           0          3.00      -2.97      0.00   \n",
       "1           1            0           1          3.00      -2.97      0.00   \n",
       "2           1            0           2          3.00      -2.97      0.00   \n",
       "3           1            0           3          3.00      -2.97      0.00   \n",
       "4           0            0           0          2.00      -1.99      0.00   \n",
       "5           0            0           1          2.00      -1.99      0.00   \n",
       "6           0            0           2          2.00      -1.99      0.00   \n",
       "7           0            0           3          2.00      -1.99      0.00   \n",
       "\n",
       "   to_the_upside  total_pnl  ending_eq  \n",
       "0          -1.00     -29.70     970.30  \n",
       "1          -1.00     -29.70     970.30  \n",
       "2          -1.00     -29.70     970.30  \n",
       "3          -1.00     -29.70     970.30  \n",
       "4          -1.00     -19.90     980.10  \n",
       "5          -1.00     -19.90     980.10  \n",
       "6          -1.00     -19.90     980.10  \n",
       "7          -1.00     -19.90     980.10  "
      ]
     },
     "execution_count": 17,
     "metadata": {},
     "output_type": "execute_result"
    }
   ],
   "source": [
    "strat_res_df"
   ]
  },
  {
   "cell_type": "code",
   "execution_count": 18,
   "metadata": {},
   "outputs": [],
   "source": [
    "plot_one_result(\n",
    "    strat_result_index=0,\n",
    "    strat_res_df=strat_res_df,\n",
    "    price_data=price_data,\n",
    "    order_records_df=order_records_df,\n",
    ")"
   ]
  }
 ],
 "metadata": {
  "kernelspec": {
   "display_name": "Python 3 (ipykernel)",
   "language": "python",
   "name": "python3"
  },
  "language_info": {
   "codemirror_mode": {
    "name": "ipython",
    "version": 3
   },
   "file_extension": ".py",
   "mimetype": "text/x-python",
   "name": "python",
   "nbconvert_exporter": "python",
   "pygments_lexer": "ipython3",
   "version": "3.10.10"
  }
 },
 "nbformat": 4,
 "nbformat_minor": 1
}
