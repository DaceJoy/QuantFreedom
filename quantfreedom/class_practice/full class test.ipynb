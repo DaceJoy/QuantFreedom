{
 "cells": [
  {
   "cell_type": "code",
   "execution_count": 1,
   "metadata": {},
   "outputs": [],
   "source": [
    "# import os\n",
    "# import sys\n",
    "\n",
    "# sys.dont_write_bytecode = True\n",
    "# os.environ[\"NUMBA_DISABLE_JIT\"] = \"1\""
   ]
  },
  {
   "cell_type": "code",
   "execution_count": 29,
   "metadata": {
    "collapsed": true
   },
   "outputs": [
    {
     "name": "stdout",
     "output_type": "stream",
     "text": [
      "The autoreload extension is already loaded. To reload it, use:\n",
      "  %reload_ext autoreload\n"
     ]
    }
   ],
   "source": [
    "import pandas as pd\n",
    "import numpy as np\n",
    "from quantfreedom.class_practice.enums import *\n",
    "from quantfreedom.class_practice.base import backtest_df_only, backtest_sim_6, plot_one_result\n",
    "from quantfreedom.class_practice.helper_funcs import create_os_cart_product_nb\n",
    "from quantfreedom.indicators.talib_ind import from_talib\n",
    "\n",
    "\n",
    "\n",
    "price_data = pd.read_hdf(\"../../tests/data/prices.hd5\")\n",
    "%load_ext autoreload\n",
    "%autoreload 2\n"
   ]
  },
  {
   "cell_type": "code",
   "execution_count": 3,
   "metadata": {},
   "outputs": [
    {
     "data": {
      "text/html": [
       "<div>\n",
       "<style scoped>\n",
       "    .dataframe tbody tr th:only-of-type {\n",
       "        vertical-align: middle;\n",
       "    }\n",
       "\n",
       "    .dataframe tbody tr th {\n",
       "        vertical-align: top;\n",
       "    }\n",
       "\n",
       "    .dataframe thead th {\n",
       "        text-align: right;\n",
       "    }\n",
       "</style>\n",
       "<table border=\"1\" class=\"dataframe\">\n",
       "  <thead>\n",
       "    <tr style=\"text-align: right;\">\n",
       "      <th>candle_info</th>\n",
       "      <th>open</th>\n",
       "      <th>high</th>\n",
       "      <th>low</th>\n",
       "      <th>close</th>\n",
       "    </tr>\n",
       "    <tr>\n",
       "      <th>open_time</th>\n",
       "      <th></th>\n",
       "      <th></th>\n",
       "      <th></th>\n",
       "      <th></th>\n",
       "    </tr>\n",
       "  </thead>\n",
       "  <tbody>\n",
       "    <tr>\n",
       "      <th>2020-10-01 00:00:00</th>\n",
       "      <td>10,759.00</td>\n",
       "      <td>10,817.50</td>\n",
       "      <td>10,759.00</td>\n",
       "      <td>10,790.00</td>\n",
       "    </tr>\n",
       "    <tr>\n",
       "      <th>2020-10-01 00:30:00</th>\n",
       "      <td>10,790.00</td>\n",
       "      <td>10,790.50</td>\n",
       "      <td>10,775.00</td>\n",
       "      <td>10,777.00</td>\n",
       "    </tr>\n",
       "    <tr>\n",
       "      <th>2020-10-01 01:00:00</th>\n",
       "      <td>10,777.00</td>\n",
       "      <td>10,793.00</td>\n",
       "      <td>10,777.00</td>\n",
       "      <td>10,793.00</td>\n",
       "    </tr>\n",
       "    <tr>\n",
       "      <th>2020-10-01 01:30:00</th>\n",
       "      <td>10,793.00</td>\n",
       "      <td>10,836.00</td>\n",
       "      <td>10,792.50</td>\n",
       "      <td>10,822.00</td>\n",
       "    </tr>\n",
       "    <tr>\n",
       "      <th>2020-10-01 02:00:00</th>\n",
       "      <td>10,822.00</td>\n",
       "      <td>10,841.50</td>\n",
       "      <td>10,808.00</td>\n",
       "      <td>10,808.50</td>\n",
       "    </tr>\n",
       "    <tr>\n",
       "      <th>...</th>\n",
       "      <td>...</td>\n",
       "      <td>...</td>\n",
       "      <td>...</td>\n",
       "      <td>...</td>\n",
       "    </tr>\n",
       "    <tr>\n",
       "      <th>2021-04-14 21:30:00</th>\n",
       "      <td>62,703.50</td>\n",
       "      <td>62,812.50</td>\n",
       "      <td>62,615.50</td>\n",
       "      <td>62,795.00</td>\n",
       "    </tr>\n",
       "    <tr>\n",
       "      <th>2021-04-14 22:00:00</th>\n",
       "      <td>62,795.00</td>\n",
       "      <td>62,825.00</td>\n",
       "      <td>62,591.00</td>\n",
       "      <td>62,680.00</td>\n",
       "    </tr>\n",
       "    <tr>\n",
       "      <th>2021-04-14 22:30:00</th>\n",
       "      <td>62,680.00</td>\n",
       "      <td>62,993.00</td>\n",
       "      <td>62,680.00</td>\n",
       "      <td>62,849.50</td>\n",
       "    </tr>\n",
       "    <tr>\n",
       "      <th>2021-04-14 23:00:00</th>\n",
       "      <td>62,849.50</td>\n",
       "      <td>62,999.00</td>\n",
       "      <td>62,750.00</td>\n",
       "      <td>62,999.00</td>\n",
       "    </tr>\n",
       "    <tr>\n",
       "      <th>2021-04-14 23:30:00</th>\n",
       "      <td>62,999.00</td>\n",
       "      <td>62,999.00</td>\n",
       "      <td>62,606.00</td>\n",
       "      <td>62,921.00</td>\n",
       "    </tr>\n",
       "  </tbody>\n",
       "</table>\n",
       "<p>9408 rows × 4 columns</p>\n",
       "</div>"
      ],
      "text/plain": [
       "candle_info              open      high       low     close\n",
       "open_time                                                  \n",
       "2020-10-01 00:00:00 10,759.00 10,817.50 10,759.00 10,790.00\n",
       "2020-10-01 00:30:00 10,790.00 10,790.50 10,775.00 10,777.00\n",
       "2020-10-01 01:00:00 10,777.00 10,793.00 10,777.00 10,793.00\n",
       "2020-10-01 01:30:00 10,793.00 10,836.00 10,792.50 10,822.00\n",
       "2020-10-01 02:00:00 10,822.00 10,841.50 10,808.00 10,808.50\n",
       "...                       ...       ...       ...       ...\n",
       "2021-04-14 21:30:00 62,703.50 62,812.50 62,615.50 62,795.00\n",
       "2021-04-14 22:00:00 62,795.00 62,825.00 62,591.00 62,680.00\n",
       "2021-04-14 22:30:00 62,680.00 62,993.00 62,680.00 62,849.50\n",
       "2021-04-14 23:00:00 62,849.50 62,999.00 62,750.00 62,999.00\n",
       "2021-04-14 23:30:00 62,999.00 62,999.00 62,606.00 62,921.00\n",
       "\n",
       "[9408 rows x 4 columns]"
      ]
     },
     "execution_count": 3,
     "metadata": {},
     "output_type": "execute_result"
    }
   ],
   "source": [
    "price_data['BTCUSDT']"
   ]
  },
  {
   "cell_type": "code",
   "execution_count": 4,
   "metadata": {},
   "outputs": [],
   "source": [
    "rsi_ind = from_talib(\n",
    "    func_name='rsi',\n",
    "    nickname='rsi',\n",
    "    price_data=price_data,\n",
    "    input_names = ['close'],\n",
    "    parameters = {'timeperiod': [15, 20]}\n",
    ")\n",
    "entries = rsi_ind.is_below(\n",
    "    user_args=[40, 50],\n",
    "    candle_ohlc=\"close\",\n",
    ")"
   ]
  },
  {
   "cell_type": "code",
   "execution_count": 5,
   "metadata": {},
   "outputs": [],
   "source": [
    "account_state = AccountState()\n",
    "backtest_settings = BacktestSettings(\n",
    "    divide_records_array_size_by=2,\n",
    "    gains_pct_filter=10.0,\n",
    "    total_trade_filter=10,\n",
    "    upside_filter=0.0,\n",
    ")\n",
    "exchange_settings = ExchangeSettings()\n",
    "order_settings_arrays = OrderSettingsArrays(\n",
    "    risk_account_pct_size=np.array([1.0]) / 100,\n",
    "    sl_based_on_add_pct=np.array([0.01, .02]) / 100,\n",
    "    sl_based_on_lookback=np.array([50]),\n",
    "    risk_reward=np.array([2.0, 5.0]),\n",
    "    leverage_type=np.array([LeverageType.Dynamic]),\n",
    "    sl_candle_body_type=np.array([CandleBodyType.Low]),\n",
    "    increase_position_type=np.array([IncreasePositionType.RiskPctAccountEntrySize]),\n",
    "    stop_loss_type=np.array([StopLossType.SLBasedOnCandleBody]),\n",
    "    take_profit_type=np.array([TakeProfitType.RiskReward]),\n",
    "    max_equity_risk_pct=np.array([3]) / 100,\n",
    "    order_type=np.array([OrderType.Long]),\n",
    "    sl_to_be_based_on_candle_body_type=np.array([CandleBodyType.Nothing]),\n",
    "    sl_to_be_when_pct_from_candle_body=np.array([0.0]) / 100,\n",
    "    sl_to_be_zero_or_entry_type=np.array([SLToBeZeroOrEntryType.Nothing]),\n",
    "    trail_sl_based_on_candle_body_type=np.array([CandleBodyType.High]),\n",
    "    trail_sl_when_pct_from_candle_body=np.array([3.0]) / 100,\n",
    "    trail_sl_by_pct=np.array([1.0]) / 100,\n",
    "    static_leverage=np.array([0.0]),\n",
    "    tp_fee_type=np.array([TakeProfitFeeType.Limit]),\n",
    ")"
   ]
  },
  {
   "cell_type": "code",
   "execution_count": 6,
   "metadata": {},
   "outputs": [],
   "source": [
    "os_cart_arrays = create_os_cart_product_nb(order_settings_arrays=order_settings_arrays)"
   ]
  },
  {
   "cell_type": "code",
   "execution_count": 14,
   "metadata": {},
   "outputs": [
    {
     "data": {
      "text/plain": [
       "['BTCUSDT', 'EOSUSD', 'ETHUSD', 'LTCUSDT', 'XRPUSD']"
      ]
     },
     "execution_count": 14,
     "metadata": {},
     "output_type": "execute_result"
    }
   ],
   "source": [
    "list(price_data.columns.levels[0])"
   ]
  },
  {
   "cell_type": "code",
   "execution_count": 18,
   "metadata": {
    "collapsed": false
   },
   "outputs": [
    {
     "name": "stdout",
     "output_type": "stream",
     "text": [
      "Starting the backtest now ... and also here are some stats for your backtest.\n",
      "\n",
      "Total indicator settings to test: 4\n",
      "Total order settings to test: 4\n",
      "Total combinations of settings to test: 16\n",
      "\n",
      "Total candles: 9,408\n",
      "Total candles to test: 150,528\n"
     ]
    }
   ],
   "source": [
    "strat_res_df = backtest_df_only(\n",
    "    account_state=account_state,\n",
    "    os_cart_arrays=os_cart_arrays,\n",
    "    backtest_settings=backtest_settings,\n",
    "    exchange_settings=exchange_settings,\n",
    "    price_data=price_data['EOSUSD'],\n",
    "    entries=entries['EOSUSD'],\n",
    ")"
   ]
  },
  {
   "cell_type": "code",
   "execution_count": 30,
   "metadata": {},
   "outputs": [],
   "source": [
    "order_records_df = backtest_sim_6(\n",
    "    account_state=account_state,\n",
    "    os_cart_arrays=os_cart_arrays,\n",
    "    exchange_settings=exchange_settings,\n",
    "    price_data=price_data[\"EOSUSD\"],\n",
    "    entries=entries[\"EOSUSD\"],\n",
    "    strat_indexes=[0, 2, 4],\n",
    "    strat_res_df=strat_res_df,\n",
    ")"
   ]
  },
  {
   "cell_type": "code",
   "execution_count": 32,
   "metadata": {},
   "outputs": [],
   "source": [
    "plot_one_result(\n",
    "    strat_res_df=strat_res_df,\n",
    "    strat_result_index=0,\n",
    "    price_data=price_data[\"EOSUSD\"],\n",
    "    order_records_df=order_records_df,\n",
    ")"
   ]
  }
 ],
 "metadata": {
  "kernelspec": {
   "display_name": "Python 3 (ipykernel)",
   "language": "python",
   "name": "python3"
  },
  "language_info": {
   "codemirror_mode": {
    "name": "ipython",
    "version": 3
   },
   "file_extension": ".py",
   "mimetype": "text/x-python",
   "name": "python",
   "nbconvert_exporter": "python",
   "pygments_lexer": "ipython3",
   "version": "3.10.10"
  }
 },
 "nbformat": 4,
 "nbformat_minor": 1
}
