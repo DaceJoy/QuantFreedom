{
 "cells": [
  {
   "cell_type": "code",
   "execution_count": 1,
   "metadata": {},
   "outputs": [
    {
     "name": "stdout",
     "output_type": "stream",
     "text": [
      "It took 00 mins and 02 seconds to download 300 candles\n"
     ]
    }
   ],
   "source": [
    "from my_stuff import MufexKeys\n",
    "from quantfreedom.exchanges.mufex_exchange.mufex import Mufex\n",
    "from lightweight_charts import Chart\n",
    "from time import sleep\n",
    "\n",
    "mufex_main = Mufex(\n",
    "    api_key=MufexKeys.api_key,\n",
    "    secret_key=MufexKeys.secret_key,\n",
    "    use_test_net=False,\n",
    ")\n",
    "symbol=\"BTCUSDT\"\n",
    "candles = mufex_main.get_candles_df(\n",
    "    symbol=symbol,\n",
    "    timeframe='1m',\n",
    "    candles_to_dl=300,\n",
    "    limit=200\n",
    ")\n",
    "%load_ext autoreload\n",
    "%autoreload 2\n"
   ]
  },
  {
   "cell_type": "code",
   "execution_count": 2,
   "metadata": {},
   "outputs": [
    {
     "ename": "KeyboardInterrupt",
     "evalue": "",
     "output_type": "error",
     "traceback": [
      "\u001b[1;31m---------------------------------------------------------------------------\u001b[0m",
      "\u001b[1;31mKeyboardInterrupt\u001b[0m                         Traceback (most recent call last)",
      "\u001b[1;32me:\\Coding\\backtesters\\QuantFreedom\\tests\\lightweight_charts.ipynb Cell 2\u001b[0m line \u001b[0;36m1\n\u001b[0;32m     <a href='vscode-notebook-cell:/e%3A/Coding/backtesters/QuantFreedom/tests/lightweight_charts.ipynb#W1sZmlsZQ%3D%3D?line=15'>16</a>\u001b[0m     chart\u001b[39m.\u001b[39mmarker(text\u001b[39m=\u001b[39m\u001b[39m'\u001b[39m\u001b[39mThe price crossed $20!\u001b[39m\u001b[39m'\u001b[39m)\n\u001b[0;32m     <a href='vscode-notebook-cell:/e%3A/Coding/backtesters/QuantFreedom/tests/lightweight_charts.ipynb#W1sZmlsZQ%3D%3D?line=17'>18</a>\u001b[0m last_close \u001b[39m=\u001b[39m series[\u001b[39m'\u001b[39m\u001b[39mclose\u001b[39m\u001b[39m'\u001b[39m]\n\u001b[1;32m---> <a href='vscode-notebook-cell:/e%3A/Coding/backtesters/QuantFreedom/tests/lightweight_charts.ipynb#W1sZmlsZQ%3D%3D?line=18'>19</a>\u001b[0m sleep(\u001b[39m0.1\u001b[39;49m)\n",
      "\u001b[1;31mKeyboardInterrupt\u001b[0m: "
     ]
    }
   ],
   "source": [
    "chart = Chart()\n",
    "\n",
    "df1 = candles[:150]\n",
    "df2 = candles[150:]\n",
    "\n",
    "chart.set(df1)\n",
    "\n",
    "chart.show()\n",
    "\n",
    "last_close = df1.close.iloc[-1]\n",
    "\n",
    "for i, series in df2.iterrows():\n",
    "    chart.update(series)\n",
    "\n",
    "    if series['close'] > 20 and last_close < 20:\n",
    "        chart.marker(text='The price crossed $20!')\n",
    "        \n",
    "    last_close = series['close']\n",
    "    sleep(0.1)"
   ]
  }
 ],
 "metadata": {
  "kernelspec": {
   "display_name": "qfFree",
   "language": "python",
   "name": "python3"
  },
  "language_info": {
   "codemirror_mode": {
    "name": "ipython",
    "version": 3
   },
   "file_extension": ".py",
   "mimetype": "text/x-python",
   "name": "python",
   "nbconvert_exporter": "python",
   "pygments_lexer": "ipython3",
   "version": "3.10.10"
  }
 },
 "nbformat": 4,
 "nbformat_minor": 2
}
