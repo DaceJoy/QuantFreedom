{
 "cells": [
  {
   "cell_type": "code",
   "execution_count": 1,
   "metadata": {},
   "outputs": [
    {
     "name": "stderr",
     "output_type": "stream",
     "text": [
      "2023-10-10 08:15:17 - apexpro - WARNING - This HTTP class is maintained for compatibility purposes. You should prefer importing market-specific classes, like so: from apexpro import HTTP; \n",
      "2023-10-10 08:15:17 - apexpro - WARNING - STARK public/private key mismatch\n",
      "2023-10-10 08:15:17 - apexpro - WARNING - STARK public/private key mismatch (y)\n",
      "2023-10-10 08:15:20 - apexpro - WARNING - This HTTP class is maintained for compatibility purposes. You should prefer importing market-specific classes, like so: from apexpro import HTTP; \n",
      "2023-10-10 08:15:20 - apexpro - WARNING - This HTTP class is maintained for compatibility purposes. You should prefer importing market-specific classes, like so: from apexpro import HTTP; \n"
     ]
    }
   ],
   "source": [
    "from my_stuff import ApexTestKeys\n",
    "from quantfreedom.exchanges.apex.apex_github.apexpro.constants import APEX_HTTP_TEST, NETWORKID_TEST\n",
    "from quantfreedom.exchanges.apex.apex_github.apexpro.http_private import HttpPrivate\n",
    "from quantfreedom.exchanges.apex.apex_github.apexpro.http_private_stark_key_sign import HttpPrivateStark\n",
    "from quantfreedom.exchanges.apex.apex_github.apexpro.http_public import HttpPublic\n",
    "from quantfreedom.exchanges.apex.apex_github.apexpro.helpers.util import round_size\n",
    "import time\n",
    "\n",
    "\n",
    "# private_client = HttpPrivate(\n",
    "#     APEX_HTTP_TEST,\n",
    "#     network_id=NETWORKID_TEST,\n",
    "#     api_key_credentials={\n",
    "#         \"key\": ApexTestKeys.api_key,\n",
    "#         \"secret\": ApexTestKeys.secret_key,\n",
    "#         \"passphrase\": ApexTestKeys.passphrase,\n",
    "#     },\n",
    "# )\n",
    "# private_client.get_user()\n",
    "# private_client.get_account()\n",
    "# private_client_configs = private_client.configs()\n",
    "\n",
    "private_stark_client = HttpPrivateStark(\n",
    "    APEX_HTTP_TEST,\n",
    "    network_id=NETWORKID_TEST,\n",
    "    stark_public_key=ApexTestKeys.stark_key_public,\n",
    "    stark_private_key=ApexTestKeys.stark_key_private,\n",
    "    stark_public_key_y_coordinate=ApexTestKeys.stark_key_y_coordinate,\n",
    "    api_key_credentials={\n",
    "        \"key\": ApexTestKeys.api_key,\n",
    "        \"secret\": ApexTestKeys.secret_key,\n",
    "        \"passphrase\": ApexTestKeys.passphrase,\n",
    "    },\n",
    ")\n",
    "private_stark_client.get_user()\n",
    "private_stark_client.get_account()\n",
    "private_stark_configs = private_stark_client.configs()\n",
    "\n",
    "public_client = HttpPublic(APEX_HTTP_TEST)\n",
    "public_client_configs = public_client.configs()"
   ]
  },
  {
   "cell_type": "code",
   "execution_count": 2,
   "metadata": {},
   "outputs": [
    {
     "data": {
      "text/plain": [
       "{'baselinePositionValue': '50000.0000',\n",
       " 'crossId': 5,\n",
       " 'crossSymbolId': 10,\n",
       " 'crossSymbolName': 'BTCUSDC',\n",
       " 'digitMerge': '0.5,1,2,5,10',\n",
       " 'displayMaxLeverage': '30',\n",
       " 'displayMinLeverage': '1',\n",
       " 'enableDisplay': True,\n",
       " 'enableOpenPosition': True,\n",
       " 'enableTrade': True,\n",
       " 'fundingImpactMarginNotional': '10',\n",
       " 'fundingInterestRate': '0.0003',\n",
       " 'incrementalInitialMarginRate': '0.00250',\n",
       " 'incrementalMaintenanceMarginRate': '0.00100',\n",
       " 'incrementalPositionValue': '200000.0000',\n",
       " 'initialMarginRate': '0.03333',\n",
       " 'maintenanceMarginRate': '0.00700',\n",
       " 'maxOrderSize': '100',\n",
       " 'maxPositionSize': '130',\n",
       " 'minOrderSize': '0.0010',\n",
       " 'maxMarketPriceRange': '0.025',\n",
       " 'settleCurrencyId': 'USDC',\n",
       " 'starkExOraclePriceQuorum': '3',\n",
       " 'starkExResolution': '10000000000',\n",
       " 'starkExRiskFactor': '128849019',\n",
       " 'starkExSyntheticAssetId': '0x4254432d3130000000000000000000',\n",
       " 'stepSize': '0.001',\n",
       " 'symbol': 'BTC-USDC',\n",
       " 'symbolDisplayName': 'BTCUSDC',\n",
       " 'symbolDisplayName2': 'BTCUSD',\n",
       " 'tickSize': '0.5',\n",
       " 'underlyingCurrencyId': 'BTC',\n",
       " 'maxMaintenanceMarginRate': '0.03000',\n",
       " 'maxPositionValue': '10050000.0000',\n",
       " 'tagIconUrl': '',\n",
       " 'tag': ''}"
      ]
     },
     "execution_count": 2,
     "metadata": {},
     "output_type": "execute_result"
    }
   ],
   "source": [
    "for k, v in enumerate(public_client_configs.get('data').get('perpetualContract')):\n",
    "    if v.get('symbol') == \"BTC-USDC\":\n",
    "        symbolData = v\n",
    "symbolData"
   ]
  },
  {
   "cell_type": "code",
   "execution_count": 3,
   "metadata": {},
   "outputs": [
    {
     "name": "stdout",
     "output_type": "stream",
     "text": [
      "{'data': {'id': '499609086543790956', 'clientId': '44956168638306704', 'clientOrderId': '44956168638306704', 'accountId': '495583522279391852', 'symbol': 'BTC-USDC', 'side': 'BUY', 'price': '27100.0', 'averagePrice': '', 'limitFee': '0.135500', 'fee': '', 'liquidateFee': '', 'triggerPrice': '0.0', 'size': '0.010', 'type': 'LIMIT', 'createdAt': 1696952888520, 'updatedTime': 0, 'expiresAt': 1699372800000, 'status': 'PENDING', 'timeInForce': 'GOOD_TIL_CANCEL', 'reduceOnly': False, 'isPositionTpsl': False, 'orderId': '499609086543790956', 'cancelReason': 'UNKNOWN_ORDER_CANCEL_REASON', 'latestMatchFillPrice': '0.0', 'cumMatchFillSize': '0.000', 'cumMatchFillValue': '0.0000', 'cumMatchFillFee': '0.000000', 'cumSuccessFillSize': '0.000', 'cumSuccessFillValue': '0.0000', 'cumSuccessFillFee': '0.000000', 'triggerPriceType': 'MARKET', 'isOpenTpslOrder': False, 'isSetOpenTp': False, 'isSetOpenSl': False, 'openTpParam': {}, 'openSlParam': {}}, 'timeCost': 82911361}\n"
     ]
    }
   ],
   "source": [
    "currentTime = time.time()\n",
    "limitFeeRate = private_stark_client.account[\"takerFeeRate\"]\n",
    "\n",
    "size = round_size(\"0.01\", symbolData.get(\"stepSize\"))\n",
    "price = round_size(\"27100\", symbolData.get(\"tickSize\"))\n",
    "createOrderRes = private_stark_client.create_order(\n",
    "    symbol=\"BTC-USDC\",\n",
    "    side=\"BUY\",\n",
    "    type=\"LIMIT\",\n",
    "    size=size,\n",
    "    expirationEpochSeconds=currentTime,\n",
    "    price=price,\n",
    "    limitFeeRate=limitFeeRate,\n",
    ")\n",
    "print(createOrderRes)"
   ]
  }
 ],
 "metadata": {
  "kernelspec": {
   "display_name": "qfFree",
   "language": "python",
   "name": "python3"
  },
  "language_info": {
   "codemirror_mode": {
    "name": "ipython",
    "version": 3
   },
   "file_extension": ".py",
   "mimetype": "text/x-python",
   "name": "python",
   "nbconvert_exporter": "python",
   "pygments_lexer": "ipython3",
   "version": "3.10.10"
  },
  "orig_nbformat": 4
 },
 "nbformat": 4,
 "nbformat_minor": 2
}
