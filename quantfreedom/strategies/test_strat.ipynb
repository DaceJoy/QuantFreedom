{
  "cells": [
    {
      "cell_type": "code",
      "execution_count": 2,
      "metadata": {},
      "outputs": [
        {
          "name": "stdout",
          "output_type": "stream",
          "text": [
            "The autoreload extension is already loaded. To reload it, use:\n",
            "  %reload_ext autoreload\n"
          ]
        }
      ],
      "source": [
        "import numpy as np\n",
        "\n",
        "from my_stuff import MufexKeys\n",
        "from quantfreedom.custom_logger import CustomLogger\n",
        "from quantfreedom.enums import CandleProcessingType\n",
        "from quantfreedom.exchanges.mufex_exchange.mufex import Mufex\n",
        "from quantfreedom.strategies.strategy import Strategy\n",
        "from quantfreedom.base import backtest_df_only\n",
        "from quantfreedom.enums import *\n",
        "from quantfreedom.helper_funcs import create_os_cart_product_nb\n",
        "logger = CustomLogger(log_debug=True,disable_logging=False)\n",
        "\n",
        "mufex = Mufex(\n",
        "    api_key=MufexKeys.api_key,\n",
        "    secret_key=MufexKeys.secret_key,\n",
        ")\n",
        "symbol = \"BTCUSDT\"\n",
        "%load_ext autoreload\n",
        "%autoreload 2"
      ]
    },
    {
      "cell_type": "code",
      "execution_count": 3,
      "metadata": {},
      "outputs": [
        {
          "name": "stdout",
          "output_type": "stream",
          "text": [
            "It took 00 mins and 03 seconds to download the candles\n"
          ]
        }
      ],
      "source": [
        "candles = mufex.get_candles_df(symbol=symbol, timeframe='5m', candles_to_dl=2000)"
      ]
    },
    {
      "cell_type": "code",
      "execution_count": 4,
      "metadata": {},
      "outputs": [],
      "source": [
        "mufex.set_exchange_settings(\n",
        "    symbol=symbol,\n",
        "    position_mode=PositionModeType.HedgeMode,\n",
        "    leverage_mode=LeverageModeType.Isolated,\n",
        ")\n",
        "backtest_settings = BacktestSettings()\n",
        "order_settings_arrays = OrderSettingsArrays(\n",
        "    risk_account_pct_size=np.array([1.0]) / 100,\n",
        "    sl_based_on_add_pct=np.array([0.01]) / 100,\n",
        "    sl_based_on_lookback=np.array([50]),\n",
        "    risk_reward=np.array([1.0]),\n",
        "    leverage_type=np.array([LeverageStrategyType.Dynamic]),\n",
        "    sl_candle_body_type=np.array([CandleBodyType.Low]),\n",
        "    increase_position_type=np.array([IncreasePositionType.RiskPctAccountEntrySize]),\n",
        "    stop_loss_type=np.array([StopLossStrategyType.SLBasedOnCandleBody]),\n",
        "    take_profit_type=np.array([TakeProfitStrategyType.Provided]),\n",
        "    max_equity_risk_pct=np.array([4]) / 100,\n",
        "    long_or_short=np.array([LongOrShortType.Long]),\n",
        "    sl_to_be_based_on_candle_body_type=np.array([CandleBodyType.Nothing]),\n",
        "    sl_to_be_when_pct_from_candle_body=np.array([0.0]) / 100,\n",
        "    sl_to_be_zero_or_entry_type=np.array([SLToBeZeroOrEntryType.Nothing]),\n",
        "    trail_sl_based_on_candle_body_type=np.array([CandleBodyType.High]),\n",
        "    trail_sl_when_pct_from_candle_body=np.array([3.0]) / 100,\n",
        "    trail_sl_by_pct=np.array([1.0]) / 100,\n",
        "    static_leverage=np.array([0.0]),\n",
        "    tp_fee_type=np.array([TakeProfitFeeType.Limit]),\n",
        "    num_candles=np.array([150, 250]),\n",
        ")\n",
        "os_cart_arrays = create_os_cart_product_nb(\n",
        "    order_settings_arrays=order_settings_arrays,\n",
        ")"
      ]
    },
    {
      "cell_type": "code",
      "execution_count": 8,
      "metadata": {},
      "outputs": [
        {
          "name": "stdout",
          "output_type": "stream",
          "text": [
            "Starting the backtest now ... and also here are some stats for your backtest.\n",
            "\n",
            "Total indicator settings to test: 1\n",
            "Total order settings to test: 2\n",
            "Total combinations of settings to test: 2\n",
            "\n",
            "Total candles: 2,000\n",
            "Total candles to test: 4,000\n"
          ]
        }
      ],
      "source": [
        "strategy = Strategy(\n",
        "    candle_processing_mode=CandleProcessingType.Backtest,\n",
        "    candles=candles.values,\n",
        "    logger=logger,\n",
        ")\n",
        "candles_reg = backtest_df_only(\n",
        "    starting_equity=1000.0,\n",
        "    backtest_settings=backtest_settings,\n",
        "    os_cart_arrays=os_cart_arrays,\n",
        "    exchange_settings=mufex.exchange_settings,\n",
        "    candles=candles,\n",
        "    strategy=strategy,\n",
        "    logger=logger,\n",
        ")"
      ]
    },
    {
      "cell_type": "code",
      "execution_count": 9,
      "metadata": {},
      "outputs": [
        {
          "data": {
            "text/html": [
              "<div>\n",
              "<style scoped>\n",
              "    .dataframe tbody tr th:only-of-type {\n",
              "        vertical-align: middle;\n",
              "    }\n",
              "\n",
              "    .dataframe tbody tr th {\n",
              "        vertical-align: top;\n",
              "    }\n",
              "\n",
              "    .dataframe thead th {\n",
              "        text-align: right;\n",
              "    }\n",
              "</style>\n",
              "<table border=\"1\" class=\"dataframe\">\n",
              "  <thead>\n",
              "    <tr style=\"text-align: right;\">\n",
              "      <th></th>\n",
              "      <th>ind_set_idx</th>\n",
              "      <th>or_set_idx</th>\n",
              "      <th>total_trades</th>\n",
              "      <th>gains_pct</th>\n",
              "      <th>win_rate</th>\n",
              "      <th>to_the_upside</th>\n",
              "      <th>total_pnl</th>\n",
              "      <th>ending_eq</th>\n",
              "    </tr>\n",
              "  </thead>\n",
              "  <tbody>\n",
              "    <tr>\n",
              "      <th>1</th>\n",
              "      <td>0</td>\n",
              "      <td>0</td>\n",
              "      <td>97.0</td>\n",
              "      <td>-109.977185</td>\n",
              "      <td>27.84</td>\n",
              "      <td>-0.872501</td>\n",
              "      <td>-523.7581</td>\n",
              "      <td>476.242216</td>\n",
              "    </tr>\n",
              "    <tr>\n",
              "      <th>0</th>\n",
              "      <td>0</td>\n",
              "      <td>1</td>\n",
              "      <td>92.0</td>\n",
              "      <td>-110.827194</td>\n",
              "      <td>25.00</td>\n",
              "      <td>-0.864312</td>\n",
              "      <td>-525.6781</td>\n",
              "      <td>474.322113</td>\n",
              "    </tr>\n",
              "  </tbody>\n",
              "</table>\n",
              "</div>"
            ],
            "text/plain": [
              "   ind_set_idx  or_set_idx  total_trades   gains_pct  win_rate  to_the_upside  \\\n",
              "1            0           0          97.0 -109.977185     27.84      -0.872501   \n",
              "0            0           1          92.0 -110.827194     25.00      -0.864312   \n",
              "\n",
              "   total_pnl   ending_eq  \n",
              "1  -523.7581  476.242216  \n",
              "0  -525.6781  474.322113  "
            ]
          },
          "execution_count": 9,
          "metadata": {},
          "output_type": "execute_result"
        }
      ],
      "source": [
        "candles_reg.sort_values(['ind_set_idx','or_set_idx']).iloc[:]"
      ]
    },
    {
      "cell_type": "code",
      "execution_count": 14,
      "metadata": {},
      "outputs": [
        {
          "name": "stdout",
          "output_type": "stream",
          "text": [
            "Starting the backtest now ... and also here are some stats for your backtest.\n",
            "\n",
            "Total indicator settings to test: 1\n",
            "Total order settings to test: 2\n",
            "Total combinations of settings to test: 2\n",
            "\n",
            "Total candles: 2,000\n",
            "Total candles to test: 4,000\n"
          ]
        }
      ],
      "source": [
        "strategy = Strategy(\n",
        "    candle_processing_mode=CandleProcessingType.RealBacktest,\n",
        "    candles=candles.values,\n",
        "    logger=logger,\n",
        ")\n",
        "candle_backtest = backtest_df_only(\n",
        "    starting_equity=1000.0,\n",
        "    backtest_settings=backtest_settings,\n",
        "    os_cart_arrays=os_cart_arrays,\n",
        "    exchange_settings=mufex.exchange_settings,\n",
        "    candles=candles,\n",
        "    strategy=strategy,\n",
        "    logger=logger,\n",
        ")"
      ]
    },
    {
      "cell_type": "code",
      "execution_count": 15,
      "metadata": {},
      "outputs": [
        {
          "data": {
            "text/html": [
              "<div>\n",
              "<style scoped>\n",
              "    .dataframe tbody tr th:only-of-type {\n",
              "        vertical-align: middle;\n",
              "    }\n",
              "\n",
              "    .dataframe tbody tr th {\n",
              "        vertical-align: top;\n",
              "    }\n",
              "\n",
              "    .dataframe thead th {\n",
              "        text-align: right;\n",
              "    }\n",
              "</style>\n",
              "<table border=\"1\" class=\"dataframe\">\n",
              "  <thead>\n",
              "    <tr style=\"text-align: right;\">\n",
              "      <th></th>\n",
              "      <th>ind_set_idx</th>\n",
              "      <th>or_set_idx</th>\n",
              "      <th>total_trades</th>\n",
              "      <th>gains_pct</th>\n",
              "      <th>win_rate</th>\n",
              "      <th>to_the_upside</th>\n",
              "      <th>total_pnl</th>\n",
              "      <th>ending_eq</th>\n",
              "    </tr>\n",
              "  </thead>\n",
              "  <tbody>\n",
              "    <tr>\n",
              "      <th>0</th>\n",
              "      <td>0</td>\n",
              "      <td>0</td>\n",
              "      <td>69.0</td>\n",
              "      <td>-114.622020</td>\n",
              "      <td>17.39</td>\n",
              "      <td>-0.905231</td>\n",
              "      <td>-534.0647</td>\n",
              "      <td>465.935415</td>\n",
              "    </tr>\n",
              "    <tr>\n",
              "      <th>1</th>\n",
              "      <td>0</td>\n",
              "      <td>1</td>\n",
              "      <td>69.0</td>\n",
              "      <td>-147.508619</td>\n",
              "      <td>14.49</td>\n",
              "      <td>-0.917790</td>\n",
              "      <td>-595.9736</td>\n",
              "      <td>404.026334</td>\n",
              "    </tr>\n",
              "  </tbody>\n",
              "</table>\n",
              "</div>"
            ],
            "text/plain": [
              "   ind_set_idx  or_set_idx  total_trades   gains_pct  win_rate  to_the_upside  \\\n",
              "0            0           0          69.0 -114.622020     17.39      -0.905231   \n",
              "1            0           1          69.0 -147.508619     14.49      -0.917790   \n",
              "\n",
              "   total_pnl   ending_eq  \n",
              "0  -534.0647  465.935415  \n",
              "1  -595.9736  404.026334  "
            ]
          },
          "execution_count": 15,
          "metadata": {},
          "output_type": "execute_result"
        }
      ],
      "source": [
        "candle_backtest.sort_values(['ind_set_idx','or_set_idx'])"
      ]
    }
  ],
  "metadata": {
    "kernelspec": {
      "display_name": "qfFree",
      "language": "python",
      "name": "python3"
    },
    "language_info": {
      "codemirror_mode": {
        "name": "ipython",
        "version": 3
      },
      "file_extension": ".py",
      "mimetype": "text/x-python",
      "name": "python",
      "nbconvert_exporter": "python",
      "pygments_lexer": "ipython3",
      "version": "3.10.10"
    },
    "orig_nbformat": 4
  },
  "nbformat": 4,
  "nbformat_minor": 2
}
