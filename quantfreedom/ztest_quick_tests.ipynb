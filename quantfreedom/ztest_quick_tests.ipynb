{
 "cells": [
  {
   "cell_type": "code",
   "execution_count": 6,
   "metadata": {},
   "outputs": [
    {
     "name": "stdout",
     "output_type": "stream",
     "text": [
      "The autoreload extension is already loaded. To reload it, use:\n",
      "  %reload_ext autoreload\n"
     ]
    }
   ],
   "source": [
    "from datetime import datetime, timedelta\n",
    "import pandas as pd\n",
    "import numpy as np\n",
    "import ccxt\n",
    "from collections import namedtuple\n",
    "from typing import NamedTuple\n",
    "\n",
    "%load_ext autoreload\n",
    "%autoreload 2"
   ]
  },
  {
   "cell_type": "code",
   "execution_count": 33,
   "metadata": {},
   "outputs": [],
   "source": [
    "class Exchange:\n",
    "    def __init__(self, api_key) -> None:\n",
    "        self.api_key = api_key\n",
    "\n",
    "    def say_yes(self):\n",
    "        print(\"say yes\")"
   ]
  },
  {
   "cell_type": "code",
   "execution_count": 34,
   "metadata": {},
   "outputs": [],
   "source": [
    "class Mufex(Exchange):\n",
    "    def mufex_printer(self):\n",
    "        print(\"this is mufex printing\")\n",
    "\n",
    "    def symbol_printer(self, symbol: str):\n",
    "        print(symbol)"
   ]
  },
  {
   "cell_type": "code",
   "execution_count": 35,
   "metadata": {},
   "outputs": [],
   "source": [
    "class LiveExchange(Exchange):\n",
    "    def __init__(self, api_key, symbol, timeframe) -> None:\n",
    "        super().__init__(api_key)"
   ]
  },
  {
   "cell_type": "code",
   "execution_count": 36,
   "metadata": {},
   "outputs": [],
   "source": [
    "class LiveMufex(Mufex, LiveExchange):\n",
    "    def __init__(self, api_key, symbol, timeframe) -> None:\n",
    "        super().__init__(api_key, symbol, timeframe)\n",
    "\n",
    "    def live_symbol_printer(self):\n",
    "        self.symbol_printer(symbol=self.symbol)\n",
    "\n",
    "    def api_key_prtiner(self):\n",
    "        print(self.api_key)"
   ]
  },
  {
   "cell_type": "code",
   "execution_count": 30,
   "metadata": {},
   "outputs": [],
   "source": [
    "mufex = LiveMufex(api_key=\"a69s81df651asdf9\", symbol='BTCUSDT')"
   ]
  },
  {
   "cell_type": "code",
   "execution_count": 32,
   "metadata": {},
   "outputs": [
    {
     "name": "stdout",
     "output_type": "stream",
     "text": [
      "this is mufex printing\n"
     ]
    }
   ],
   "source": [
    "mufex.symbol_printer()"
   ]
  }
 ],
 "metadata": {
  "kernelspec": {
   "display_name": "qfFree",
   "language": "python",
   "name": "python3"
  },
  "language_info": {
   "codemirror_mode": {
    "name": "ipython",
    "version": 3
   },
   "file_extension": ".py",
   "mimetype": "text/x-python",
   "name": "python",
   "nbconvert_exporter": "python",
   "pygments_lexer": "ipython3",
   "version": "3.10.10"
  },
  "orig_nbformat": 4
 },
 "nbformat": 4,
 "nbformat_minor": 2
}
