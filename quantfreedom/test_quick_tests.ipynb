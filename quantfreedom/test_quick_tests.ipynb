{
 "cells": [
  {
   "cell_type": "code",
   "execution_count": null,
   "metadata": {},
   "outputs": [],
   "source": [
    "from quantfreedom.exchanges.mufex import HTTP_Request\n",
    "from requests import get\n",
    "from datetime import datetime, timedelta\n",
    "import pandas as pd\n",
    "import numpy as np\n",
    "%load_ext autoreload\n",
    "%autoreload 2"
   ]
  },
  {
   "cell_type": "code",
   "execution_count": null,
   "metadata": {},
   "outputs": [],
   "source": [
    "main_net = 'https://api.mufex.finance/'\n",
    "api_type = 'public/v1/market/kline'\n",
    "full_url = main_net + api_type + '?'\n",
    "timeframe_in_ms = timedelta(minutes=5).seconds * 1000\n",
    "candles_to_dl_ms = 200 * timeframe_in_ms\n",
    "now_time = int(datetime.now().timestamp() * 1000) - timeframe_in_ms\n",
    "params = {\n",
    "        \"category\": \"linear\",\n",
    "        \"symbol\": \"BTCUSDT\",\n",
    "        \"interval\": 5,\n",
    "        \"limit\": 500,\n",
    "        \"start\": now_time - candles_to_dl_ms,\n",
    "        \"end\": now_time,\n",
    "    }\n",
    "candles = np.array(get(url = full_url, params=params).json()['data']['list'], dtype=np.float_)[:,:-2]\n",
    "candles_df = pd.DataFrame(np.array(candles), columns=['timestamp', 'open', 'high', 'low', 'close'])\n",
    "candles_df = candles_df.astype({'timestamp':'int64'})\n",
    "candles_df.timestamp=pd.to_datetime(candles_df.timestamp, unit='ms')"
   ]
  },
  {
   "cell_type": "code",
   "execution_count": null,
   "metadata": {},
   "outputs": [],
   "source": [
    "candles_df"
   ]
  },
  {
   "cell_type": "code",
   "execution_count": null,
   "metadata": {},
   "outputs": [],
   "source": [
    "main_net = 'https://api.mufex.finance/'\n",
    "api_type = '/public/v1/instruments'\n",
    "full_url = main_net + api_type + '?'\n",
    "params = {\n",
    "        \"category\": \"linear\",\n",
    "        \"symbol\": \"BTCUSDT\",\n",
    "        \"limit\": 1000,\n",
    "    }\n",
    "instrument_info = get(url = full_url, params=params).json()"
   ]
  },
  {
   "cell_type": "code",
   "execution_count": null,
   "metadata": {},
   "outputs": [],
   "source": [
    "instrument_info"
   ]
  }
 ],
 "metadata": {
  "kernelspec": {
   "display_name": "qfFree",
   "language": "python",
   "name": "python3"
  },
  "language_info": {
   "codemirror_mode": {
    "name": "ipython",
    "version": 3
   },
   "file_extension": ".py",
   "mimetype": "text/x-python",
   "name": "python",
   "nbconvert_exporter": "python",
   "pygments_lexer": "ipython3",
   "version": "3.10.10"
  },
  "orig_nbformat": 4
 },
 "nbformat": 4,
 "nbformat_minor": 2
}
