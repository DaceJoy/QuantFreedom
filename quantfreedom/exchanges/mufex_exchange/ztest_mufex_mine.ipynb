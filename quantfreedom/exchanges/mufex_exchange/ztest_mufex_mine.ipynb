{
 "cells": [
  {
   "cell_type": "code",
   "execution_count": 1,
   "metadata": {},
   "outputs": [],
   "source": [
    "from my_stuff import MufexTestKeys\n",
    "from quantfreedom.exchanges.mufex_exchange.mufex import Mufex\n",
    "\n",
    "mufex_test = Mufex(\n",
    "    api_key=MufexTestKeys.api_key,\n",
    "    secret_key=MufexTestKeys.secret_key,\n",
    "    use_test_net=True\n",
    ")\n",
    "symbol=\"BTCUSDT\"\n",
    "%load_ext autoreload\n",
    "%autoreload 2\n"
   ]
  },
  {
   "cell_type": "code",
   "execution_count": 2,
   "metadata": {},
   "outputs": [
    {
     "data": {
      "text/html": [
       "<div>\n",
       "<style scoped>\n",
       "    .dataframe tbody tr th:only-of-type {\n",
       "        vertical-align: middle;\n",
       "    }\n",
       "\n",
       "    .dataframe tbody tr th {\n",
       "        vertical-align: top;\n",
       "    }\n",
       "\n",
       "    .dataframe thead th {\n",
       "        text-align: right;\n",
       "    }\n",
       "</style>\n",
       "<table border=\"1\" class=\"dataframe\">\n",
       "  <thead>\n",
       "    <tr style=\"text-align: right;\">\n",
       "      <th></th>\n",
       "      <th>timestamp</th>\n",
       "      <th>open</th>\n",
       "      <th>high</th>\n",
       "      <th>low</th>\n",
       "      <th>close</th>\n",
       "    </tr>\n",
       "  </thead>\n",
       "  <tbody>\n",
       "    <tr>\n",
       "      <th>0</th>\n",
       "      <td>2023-10-04 18:24:00</td>\n",
       "      <td>27538.2</td>\n",
       "      <td>27538.3</td>\n",
       "      <td>27511.8</td>\n",
       "      <td>27512.1</td>\n",
       "    </tr>\n",
       "    <tr>\n",
       "      <th>1</th>\n",
       "      <td>2023-10-04 18:25:00</td>\n",
       "      <td>27512.1</td>\n",
       "      <td>27530.8</td>\n",
       "      <td>27511.3</td>\n",
       "      <td>27526.6</td>\n",
       "    </tr>\n",
       "    <tr>\n",
       "      <th>2</th>\n",
       "      <td>2023-10-04 18:26:00</td>\n",
       "      <td>27526.6</td>\n",
       "      <td>27529.3</td>\n",
       "      <td>27522.2</td>\n",
       "      <td>27522.2</td>\n",
       "    </tr>\n",
       "    <tr>\n",
       "      <th>3</th>\n",
       "      <td>2023-10-04 18:27:00</td>\n",
       "      <td>27522.2</td>\n",
       "      <td>27530.0</td>\n",
       "      <td>27522.2</td>\n",
       "      <td>27530.0</td>\n",
       "    </tr>\n",
       "    <tr>\n",
       "      <th>4</th>\n",
       "      <td>2023-10-04 18:28:00</td>\n",
       "      <td>27530.0</td>\n",
       "      <td>27543.9</td>\n",
       "      <td>27530.0</td>\n",
       "      <td>27543.8</td>\n",
       "    </tr>\n",
       "    <tr>\n",
       "      <th>...</th>\n",
       "      <td>...</td>\n",
       "      <td>...</td>\n",
       "      <td>...</td>\n",
       "      <td>...</td>\n",
       "      <td>...</td>\n",
       "    </tr>\n",
       "    <tr>\n",
       "      <th>295</th>\n",
       "      <td>2023-10-04 23:19:00</td>\n",
       "      <td>27789.5</td>\n",
       "      <td>27804.5</td>\n",
       "      <td>27787.8</td>\n",
       "      <td>27802.1</td>\n",
       "    </tr>\n",
       "    <tr>\n",
       "      <th>296</th>\n",
       "      <td>2023-10-04 23:20:00</td>\n",
       "      <td>27802.1</td>\n",
       "      <td>27802.1</td>\n",
       "      <td>27790.7</td>\n",
       "      <td>27790.8</td>\n",
       "    </tr>\n",
       "    <tr>\n",
       "      <th>297</th>\n",
       "      <td>2023-10-04 23:21:00</td>\n",
       "      <td>27790.8</td>\n",
       "      <td>27790.8</td>\n",
       "      <td>27781.5</td>\n",
       "      <td>27781.7</td>\n",
       "    </tr>\n",
       "    <tr>\n",
       "      <th>298</th>\n",
       "      <td>2023-10-04 23:22:00</td>\n",
       "      <td>27781.7</td>\n",
       "      <td>27790.6</td>\n",
       "      <td>27776.4</td>\n",
       "      <td>27790.6</td>\n",
       "    </tr>\n",
       "    <tr>\n",
       "      <th>299</th>\n",
       "      <td>2023-10-04 23:23:00</td>\n",
       "      <td>27790.6</td>\n",
       "      <td>27790.6</td>\n",
       "      <td>27759.9</td>\n",
       "      <td>27761.8</td>\n",
       "    </tr>\n",
       "  </tbody>\n",
       "</table>\n",
       "<p>300 rows × 5 columns</p>\n",
       "</div>"
      ],
      "text/plain": [
       "              timestamp     open     high      low    close\n",
       "0   2023-10-04 18:24:00  27538.2  27538.3  27511.8  27512.1\n",
       "1   2023-10-04 18:25:00  27512.1  27530.8  27511.3  27526.6\n",
       "2   2023-10-04 18:26:00  27526.6  27529.3  27522.2  27522.2\n",
       "3   2023-10-04 18:27:00  27522.2  27530.0  27522.2  27530.0\n",
       "4   2023-10-04 18:28:00  27530.0  27543.9  27530.0  27543.8\n",
       "..                  ...      ...      ...      ...      ...\n",
       "295 2023-10-04 23:19:00  27789.5  27804.5  27787.8  27802.1\n",
       "296 2023-10-04 23:20:00  27802.1  27802.1  27790.7  27790.8\n",
       "297 2023-10-04 23:21:00  27790.8  27790.8  27781.5  27781.7\n",
       "298 2023-10-04 23:22:00  27781.7  27790.6  27776.4  27790.6\n",
       "299 2023-10-04 23:23:00  27790.6  27790.6  27759.9  27761.8\n",
       "\n",
       "[300 rows x 5 columns]"
      ]
     },
     "execution_count": 2,
     "metadata": {},
     "output_type": "execute_result"
    }
   ],
   "source": [
    "mufex_test.get_candles_df(\n",
    "    symbol=symbol,\n",
    "    timeframe='1m',\n",
    "    candles_to_dl=300,\n",
    "    limit=200\n",
    ")"
   ]
  },
  {
   "cell_type": "code",
   "execution_count": 5,
   "metadata": {},
   "outputs": [
    {
     "name": "stdout",
     "output_type": "stream",
     "text": [
      "Unexpected exception formatting exception. Falling back to standard exception\n"
     ]
    },
    {
     "name": "stderr",
     "output_type": "stream",
     "text": [
      "Traceback (most recent call last):\n",
      "  File \"e:\\coding\\backtesters\\quantfreedom\\quantfreedom\\exchanges\\mufex_exchange\\mufex.py\", line 445, in cancel_all_open_order_per_symbol\n",
      "    except Exception as e:\n",
      "NameError: name 'order_id' is not defined\n",
      "\n",
      "During handling of the above exception, another exception occurred:\n",
      "\n",
      "Traceback (most recent call last):\n",
      "  File \"e:\\Coding\\virtual environments\\qfFree\\lib\\site-packages\\IPython\\core\\interactiveshell.py\", line 3460, in run_code\n",
      "    exec(code_obj, self.user_global_ns, self.user_ns)\n",
      "  File \"C:\\Users\\User\\AppData\\Local\\Temp\\ipykernel_12636\\3437960908.py\", line 1, in <module>\n",
      "    mufex_test.cancel_all_open_order_per_symbol(symbol=symbol)\n",
      "  File \"e:\\coding\\backtesters\\quantfreedom\\quantfreedom\\exchanges\\mufex_exchange\\mufex.py\", line 447, in cancel_all_open_order_per_symbol\n",
      "Exception: cancel_open_order = Something is wrong OK -> name 'order_id' is not defined\n",
      "\n",
      "During handling of the above exception, another exception occurred:\n",
      "\n",
      "Traceback (most recent call last):\n",
      "  File \"e:\\Coding\\virtual environments\\qfFree\\lib\\site-packages\\IPython\\core\\interactiveshell.py\", line 2057, in showtraceback\n",
      "    stb = self.InteractiveTB.structured_traceback(\n",
      "  File \"e:\\Coding\\virtual environments\\qfFree\\lib\\site-packages\\IPython\\core\\ultratb.py\", line 1288, in structured_traceback\n",
      "    return FormattedTB.structured_traceback(\n",
      "  File \"e:\\Coding\\virtual environments\\qfFree\\lib\\site-packages\\IPython\\core\\ultratb.py\", line 1177, in structured_traceback\n",
      "    return VerboseTB.structured_traceback(\n",
      "  File \"e:\\Coding\\virtual environments\\qfFree\\lib\\site-packages\\IPython\\core\\ultratb.py\", line 1030, in structured_traceback\n",
      "    formatted_exception = self.format_exception_as_a_whole(etype, evalue, etb, number_of_lines_of_context,\n",
      "  File \"e:\\Coding\\virtual environments\\qfFree\\lib\\site-packages\\IPython\\core\\ultratb.py\", line 960, in format_exception_as_a_whole\n",
      "    frames.append(self.format_record(record))\n",
      "  File \"e:\\Coding\\virtual environments\\qfFree\\lib\\site-packages\\IPython\\core\\ultratb.py\", line 870, in format_record\n",
      "    frame_info.lines, Colors, self.has_colors, lvals\n",
      "  File \"e:\\Coding\\virtual environments\\qfFree\\lib\\site-packages\\IPython\\core\\ultratb.py\", line 704, in lines\n",
      "    return self._sd.lines\n",
      "  File \"e:\\Coding\\virtual environments\\qfFree\\lib\\site-packages\\stack_data\\utils.py\", line 144, in cached_property_wrapper\n",
      "    value = obj.__dict__[self.func.__name__] = self.func(obj)\n",
      "  File \"e:\\Coding\\virtual environments\\qfFree\\lib\\site-packages\\stack_data\\core.py\", line 734, in lines\n",
      "    pieces = self.included_pieces\n",
      "  File \"e:\\Coding\\virtual environments\\qfFree\\lib\\site-packages\\stack_data\\utils.py\", line 144, in cached_property_wrapper\n",
      "    value = obj.__dict__[self.func.__name__] = self.func(obj)\n",
      "  File \"e:\\Coding\\virtual environments\\qfFree\\lib\\site-packages\\stack_data\\core.py\", line 681, in included_pieces\n",
      "    pos = scope_pieces.index(self.executing_piece)\n",
      "  File \"e:\\Coding\\virtual environments\\qfFree\\lib\\site-packages\\stack_data\\utils.py\", line 144, in cached_property_wrapper\n",
      "    value = obj.__dict__[self.func.__name__] = self.func(obj)\n",
      "  File \"e:\\Coding\\virtual environments\\qfFree\\lib\\site-packages\\stack_data\\core.py\", line 660, in executing_piece\n",
      "    return only(\n",
      "  File \"e:\\Coding\\virtual environments\\qfFree\\lib\\site-packages\\executing\\executing.py\", line 190, in only\n",
      "    raise NotOneValueFound('Expected one value, found 0')\n",
      "executing.executing.NotOneValueFound: Expected one value, found 0\n"
     ]
    }
   ],
   "source": [
    "mufex_test.cancel_all_open_order_per_symbol(symbol=symbol)"
   ]
  },
  {
   "cell_type": "code",
   "execution_count": 2,
   "metadata": {},
   "outputs": [],
   "source": [
    "params = {\n",
    "    \"symbol\": symbol,\n",
    "    \"side\": \"Buy\",\n",
    "    \"positionIdx\": 1,\n",
    "    \"orderType\": \"Market\",\n",
    "    \"qty\": \"0.001\",\n",
    "    \"timeInForce\": \"ImmediateOrCancel\",\n",
    "}\n",
    "entry_order_id = mufex_test.create_order(params=params)"
   ]
  },
  {
   "cell_type": "code",
   "execution_count": 4,
   "metadata": {},
   "outputs": [],
   "source": [
    "params = {\n",
    "    \"symbol\": symbol,\n",
    "    \"side\": \"Sell\",\n",
    "    \"positionIdx\": 1,\n",
    "    \"orderType\": \"Market\",\n",
    "    \"qty\": \"0.05\",\n",
    "    \"timeInForce\": \"ImmediateOrCancel\",\n",
    "    \"triggerPrice\": \"27000\",\n",
    "    \"triggerDirection\": 2,\n",
    "}\n",
    "sl_order_id = mufex_test.create_order(params=params)"
   ]
  },
  {
   "cell_type": "code",
   "execution_count": 7,
   "metadata": {},
   "outputs": [],
   "source": [
    "params = {\n",
    "    \"symbol\": symbol,\n",
    "    \"side\": \"Sell\",\n",
    "    \"positionIdx\": 1,\n",
    "    \"orderType\": \"Limit\",\n",
    "    \"qty\": \"0.05\",\n",
    "    \"price\": \"28600\",\n",
    "    \"timeInForce\": \"PostOnly\",\n",
    "    \"reduceOnly\": True,\n",
    "}\n",
    "tp_order_id = mufex_test.create_order(params=params)"
   ]
  },
  {
   "cell_type": "code",
   "execution_count": 20,
   "metadata": {},
   "outputs": [
    {
     "data": {
      "text/plain": [
       "{'symbol': 'BTCUSDT',\n",
       " 'orderId': '187ea480-32e6-4b62-94f2-29964bc3e8bc',\n",
       " 'side': 'Sell',\n",
       " 'orderType': 'Limit',\n",
       " 'stopOrderType': 'UNKNOWN',\n",
       " 'price': '28600.00',\n",
       " 'qty': '0.001',\n",
       " 'timeInForce': 'PostOnly',\n",
       " 'orderStatus': 'New',\n",
       " 'triggerPrice': '0.00',\n",
       " 'orderLinkId': '',\n",
       " 'createdTime': '1696367610347163910',\n",
       " 'updatedTime': '1696367610358704662',\n",
       " 'takeProfit': '0.00',\n",
       " 'stopLoss': '0.00',\n",
       " 'tpTriggerBy': 'UNKNOWN',\n",
       " 'slTriggerBy': 'UNKNOWN',\n",
       " 'triggerBy': 'UNKNOWN',\n",
       " 'reduceOnly': True,\n",
       " 'leavesQty': '0.001',\n",
       " 'leavesValue': '28.6',\n",
       " 'cumExecQty': '0.000',\n",
       " 'cumExecValue': '0',\n",
       " 'cumExecFee': '0',\n",
       " 'triggerDirection': 0,\n",
       " 'lastPriceOnCreated': '',\n",
       " 'closeOnTrigger': False}"
      ]
     },
     "execution_count": 20,
     "metadata": {},
     "output_type": "execute_result"
    }
   ],
   "source": [
    "mufex_test.get_open_orders_by_order_id(symbol=symbol, order_id=tp_order_id)"
   ]
  },
  {
   "cell_type": "code",
   "execution_count": null,
   "metadata": {},
   "outputs": [
    {
     "data": {
      "text/plain": [
       "{'symbol': 'BTCUSDT',\n",
       " 'orderId': 'ed87adc5-1777-4faa-a97c-08dac66cfea6',\n",
       " 'side': 'Sell',\n",
       " 'orderType': 'Market',\n",
       " 'stopOrderType': 'Stop',\n",
       " 'price': '0.00',\n",
       " 'qty': '0.050',\n",
       " 'timeInForce': 'ImmediateOrCancel',\n",
       " 'orderStatus': 'Untriggered',\n",
       " 'triggerPrice': '27000.00',\n",
       " 'orderLinkId': '',\n",
       " 'createdTime': '1696367607278050721',\n",
       " 'updatedTime': '1696367607278050721',\n",
       " 'takeProfit': '0.00',\n",
       " 'stopLoss': '0.00',\n",
       " 'tpTriggerBy': 'UNKNOWN',\n",
       " 'slTriggerBy': 'UNKNOWN',\n",
       " 'triggerBy': 'LastPrice',\n",
       " 'reduceOnly': False,\n",
       " 'leavesQty': '0.050',\n",
       " 'leavesValue': '0',\n",
       " 'cumExecQty': '0.000',\n",
       " 'cumExecValue': '0',\n",
       " 'cumExecFee': '0',\n",
       " 'triggerDirection': 2,\n",
       " 'lastPriceOnCreated': '',\n",
       " 'closeOnTrigger': False}"
      ]
     },
     "metadata": {},
     "output_type": "display_data"
    }
   ],
   "source": [
    "mufex_test.get_open_orders_by_order_id(symbol=symbol, order_id=sl_order_id)"
   ]
  },
  {
   "cell_type": "code",
   "execution_count": 6,
   "metadata": {},
   "outputs": [
    {
     "ename": "KeyError",
     "evalue": "'orderStatus'",
     "output_type": "error",
     "traceback": [
      "\u001b[1;31m---------------------------------------------------------------------------\u001b[0m",
      "\u001b[1;31mKeyError\u001b[0m                                  Traceback (most recent call last)",
      "\u001b[1;32me:\\Coding\\backtesters\\QuantFreedom\\quantfreedom\\exchanges\\mufex_exchange\\ztest_mufex_mine.ipynb Cell 7\u001b[0m line \u001b[0;36m1\n\u001b[1;32m----> <a href='vscode-notebook-cell:/e%3A/Coding/backtesters/QuantFreedom/quantfreedom/exchanges/mufex_exchange/ztest_mufex_mine.ipynb#W6sZmlsZQ%3D%3D?line=0'>1</a>\u001b[0m mufex_test\u001b[39m.\u001b[39;49mcheck_if_order_filled(symbol\u001b[39m=\u001b[39;49msymbol, order_id\u001b[39m=\u001b[39;49m\u001b[39m'\u001b[39;49m\u001b[39m97926fb2-fff6-4e42-b3a9-7d8f757fdd67\u001b[39;49m\u001b[39m'\u001b[39;49m)\n",
      "File \u001b[1;32me:\\coding\\backtesters\\quantfreedom\\quantfreedom\\exchanges\\mufex_exchange\\mufex.py:618\u001b[0m, in \u001b[0;36mMufex.check_if_order_filled\u001b[1;34m(self, symbol, order_id, **vargs)\u001b[0m\n\u001b[0;32m    617\u001b[0m \u001b[39mdef\u001b[39;00m \u001b[39mcheck_if_order_filled\u001b[39m(\u001b[39mself\u001b[39m, symbol: \u001b[39mstr\u001b[39m, order_id: \u001b[39mstr\u001b[39m, \u001b[39m*\u001b[39m\u001b[39m*\u001b[39mvargs):\n\u001b[1;32m--> 618\u001b[0m     order_status \u001b[39m=\u001b[39m \u001b[39mself\u001b[39;49m\u001b[39m.\u001b[39;49mget_filled_orders_by_order_id(symbol\u001b[39m=\u001b[39;49msymbol, order_id\u001b[39m=\u001b[39;49morder_id)[\u001b[39m\"\u001b[39;49m\u001b[39morderStatus\u001b[39;49m\u001b[39m\"\u001b[39;49m]\n\u001b[0;32m    619\u001b[0m     \u001b[39mif\u001b[39;00m order_status \u001b[39m==\u001b[39m \u001b[39m\"\u001b[39m\u001b[39mFilled\u001b[39m\u001b[39m\"\u001b[39m:\n\u001b[0;32m    620\u001b[0m         \u001b[39mreturn\u001b[39;00m \u001b[39mTrue\u001b[39;00m\n",
      "\u001b[1;31mKeyError\u001b[0m: 'orderStatus'"
     ]
    }
   ],
   "source": [
    "mufex_test.check_if_order_filled(symbol=symbol, order_id='97926fb2-fff6-4e42-b3a9-7d8f757fdd67')"
   ]
  },
  {
   "cell_type": "code",
   "execution_count": null,
   "metadata": {},
   "outputs": [
    {
     "data": {
      "text/plain": [
       "{'symbol': 'BTCUSDT',\n",
       " 'execFee': '1.80290655',\n",
       " 'execId': '30ccc85a-17b1-5f90-8bd7-1c422eae070e',\n",
       " 'execPrice': '0.00',\n",
       " 'execQty': '0.073',\n",
       " 'execType': 'Trade',\n",
       " 'execValue': '2003.2295',\n",
       " 'feeRate': '0.0009',\n",
       " 'lastLiquidityInd': 'RemovedLiquidity',\n",
       " 'leavesQty': '0.000',\n",
       " 'orderId': '97926fb2-fff6-4e42-b3a9-7d8f757fdd67',\n",
       " 'orderLinkId': '631d050c811b4732859bb15ef44a0122',\n",
       " 'orderPrice': '0.00',\n",
       " 'orderQty': '0.073',\n",
       " 'orderType': 'Market',\n",
       " 'stopOrderType': 'UNKNOWN',\n",
       " 'side': 'Buy',\n",
       " 'execTime': '1696390021605',\n",
       " 'closedSize': '0.000',\n",
       " 'crossSeq': '306257444'}"
      ]
     },
     "metadata": {},
     "output_type": "display_data"
    }
   ],
   "source": [
    "mufex_test.get_filled_orders_by_order_id(symbol=symbol, order_id='97926fb2-fff6-4e42-b3a9-7d8f757fdd67')"
   ]
  },
  {
   "cell_type": "code",
   "execution_count": 13,
   "metadata": {},
   "outputs": [
    {
     "data": {
      "text/plain": [
       "{'symbol': 'BTCUSDT',\n",
       " 'side': 'Sell',\n",
       " 'orderType': 'Market',\n",
       " 'price': '0.00',\n",
       " 'qty': '0.050',\n",
       " 'reduceOnly': False,\n",
       " 'timeInForce': 'ImmediateOrCancel',\n",
       " 'orderStatus': 'Untriggered',\n",
       " 'leavesQty': '0.050',\n",
       " 'leavesValue': '0',\n",
       " 'cumExecQty': '0.000',\n",
       " 'cumExecValue': '0',\n",
       " 'cumExecFee': '0',\n",
       " 'lastPriceOnCreated': '0.00',\n",
       " 'rejectReason': 'EC_NoError',\n",
       " 'orderLinkId': '',\n",
       " 'createdTime': '0',\n",
       " 'updatedTime': '0',\n",
       " 'orderId': '221f8b18-6bee-487d-9191-248ee73140ee',\n",
       " 'stopOrderType': 'Stop',\n",
       " 'takeProfit': '0.00',\n",
       " 'stopLoss': '0.00',\n",
       " 'tpTriggerBy': 'UNKNOWN',\n",
       " 'slTriggerBy': 'UNKNOWN',\n",
       " 'triggerPrice': '0.00',\n",
       " 'closeOnTrigger': False,\n",
       " 'triggerDirection': 0,\n",
       " 'positionIdx': 0,\n",
       " 'triggerBy': 'LastPrice'}"
      ]
     },
     "execution_count": 13,
     "metadata": {},
     "output_type": "execute_result"
    }
   ],
   "source": [
    "mufex_test.get_order_id_info(symbol=\"BTCUSDT\", order_id=sl_order_id)"
   ]
  },
  {
   "cell_type": "code",
   "execution_count": 19,
   "metadata": {},
   "outputs": [
    {
     "data": {
      "text/plain": [
       "[{'symbol': 'BTCUSDT',\n",
       "  'side': 'Sell',\n",
       "  'orderType': 'Market',\n",
       "  'price': '0.00',\n",
       "  'qty': '0.050',\n",
       "  'reduceOnly': False,\n",
       "  'timeInForce': 'ImmediateOrCancel',\n",
       "  'orderStatus': 'Untriggered',\n",
       "  'leavesQty': '0.050',\n",
       "  'leavesValue': '0',\n",
       "  'cumExecQty': '0.000',\n",
       "  'cumExecValue': '0',\n",
       "  'cumExecFee': '0',\n",
       "  'lastPriceOnCreated': '0.00',\n",
       "  'rejectReason': 'EC_NoError',\n",
       "  'orderLinkId': '',\n",
       "  'createdTime': '0',\n",
       "  'updatedTime': '0',\n",
       "  'orderId': '221f8b18-6bee-487d-9191-248ee73140ee',\n",
       "  'stopOrderType': 'Stop',\n",
       "  'takeProfit': '0.00',\n",
       "  'stopLoss': '0.00',\n",
       "  'tpTriggerBy': 'UNKNOWN',\n",
       "  'slTriggerBy': 'UNKNOWN',\n",
       "  'triggerPrice': '0.00',\n",
       "  'closeOnTrigger': False,\n",
       "  'triggerDirection': 0,\n",
       "  'positionIdx': 0,\n",
       "  'triggerBy': 'LastPrice'}]"
      ]
     },
     "execution_count": 19,
     "metadata": {},
     "output_type": "execute_result"
    }
   ],
   "source": [
    "mufex_test.get_order_history(symbol=\"BTCUSDT\", params={\"orderFilter\": \"StopOrder\", \"orderId\": sl_order_id})"
   ]
  },
  {
   "cell_type": "code",
   "execution_count": 6,
   "metadata": {},
   "outputs": [
    {
     "data": {
      "text/plain": [
       "{'symbol': 'BTCUSDT',\n",
       " 'side': 'Buy',\n",
       " 'orderType': 'Market',\n",
       " 'price': '27803.70',\n",
       " 'qty': '0.001',\n",
       " 'reduceOnly': False,\n",
       " 'timeInForce': 'ImmediateOrCancel',\n",
       " 'orderStatus': 'Filled',\n",
       " 'leavesQty': '0.000',\n",
       " 'leavesValue': '0',\n",
       " 'cumExecQty': '0.001',\n",
       " 'cumExecValue': '27.6991',\n",
       " 'cumExecFee': '0.02492919',\n",
       " 'lastPriceOnCreated': '0.00',\n",
       " 'rejectReason': 'EC_NoError',\n",
       " 'orderLinkId': '',\n",
       " 'createdTime': '0',\n",
       " 'updatedTime': '0',\n",
       " 'orderId': '35eaa1a9-9ae9-4620-96eb-6ceade357962',\n",
       " 'stopOrderType': 'UNKNOWN',\n",
       " 'takeProfit': '0.00',\n",
       " 'stopLoss': '0.00',\n",
       " 'tpTriggerBy': 'UNKNOWN',\n",
       " 'slTriggerBy': 'UNKNOWN',\n",
       " 'triggerPrice': '0.00',\n",
       " 'closeOnTrigger': False,\n",
       " 'triggerDirection': 0,\n",
       " 'positionIdx': 0,\n",
       " 'triggerBy': 'UNKNOWN'}"
      ]
     },
     "execution_count": 6,
     "metadata": {},
     "output_type": "execute_result"
    }
   ],
   "source": [
    "mufex_test.get_order_history_by_order_id(symbol=symbol, order_id=entry_order_id)\n",
    "# /private/v1/trade/orders"
   ]
  },
  {
   "cell_type": "code",
   "execution_count": 11,
   "metadata": {},
   "outputs": [],
   "source": [
    "pos_info = mufex_test.get_symbol_position_info(symbol=symbol)[0]"
   ]
  },
  {
   "cell_type": "code",
   "execution_count": 12,
   "metadata": {},
   "outputs": [
    {
     "data": {
      "text/plain": [
       "{'positionIdx': 1,\n",
       " 'riskId': '1',\n",
       " 'symbol': 'BTCUSDT',\n",
       " 'side': 'Buy',\n",
       " 'size': '0.001',\n",
       " 'positionValue': '27.6991',\n",
       " 'entryPrice': '27699.1',\n",
       " 'tradeMode': 1,\n",
       " 'autoAddMargin': 0,\n",
       " 'leverage': '130',\n",
       " 'positionBalance': '0.23780758',\n",
       " 'liqPrice': '27596.90',\n",
       " 'bustPrice': '27486.10',\n",
       " 'takeProfit': '0.00',\n",
       " 'stopLoss': '0.00',\n",
       " 'trailingStop': '0.00',\n",
       " 'unrealisedPnl': '0.01018',\n",
       " 'createdTime': '1696083478164',\n",
       " 'updatedTime': '1696507302238',\n",
       " 'tpSlMode': 'Full',\n",
       " 'riskLimitValue': '30000000',\n",
       " 'activePrice': '0.00',\n",
       " 'markPrice': '27709.28',\n",
       " 'cumRealisedPnl': '-91360803.57',\n",
       " 'positionMm': '',\n",
       " 'positionIm': '',\n",
       " 'positionStatus': 'Normal',\n",
       " 'sessionAvgPrice': '0.00'}"
      ]
     },
     "execution_count": 12,
     "metadata": {},
     "output_type": "execute_result"
    }
   ],
   "source": [
    "pos_info"
   ]
  },
  {
   "cell_type": "code",
   "execution_count": 14,
   "metadata": {},
   "outputs": [
    {
     "data": {
      "text/plain": [
       "27.6991"
      ]
     },
     "execution_count": 14,
     "metadata": {},
     "output_type": "execute_result"
    }
   ],
   "source": [
    "float(pos_info['positionValue'])"
   ]
  },
  {
   "cell_type": "code",
   "execution_count": 5,
   "metadata": {},
   "outputs": [
    {
     "data": {
      "text/plain": [
       "{'symbol': 'BTCUSDT',\n",
       " 'execFee': '0.02492919',\n",
       " 'execId': 'f37c0673-6b0b-5078-814c-04dbac90ad91',\n",
       " 'execPrice': '27699.10',\n",
       " 'execQty': '0.001',\n",
       " 'execType': 'Trade',\n",
       " 'execValue': '27.6991',\n",
       " 'feeRate': '0.0009',\n",
       " 'lastLiquidityInd': 'RemovedLiquidity',\n",
       " 'leavesQty': '0.000',\n",
       " 'orderId': '35eaa1a9-9ae9-4620-96eb-6ceade357962',\n",
       " 'orderLinkId': '',\n",
       " 'orderPrice': '27803.70',\n",
       " 'orderQty': '0.001',\n",
       " 'orderType': 'Market',\n",
       " 'stopOrderType': 'UNKNOWN',\n",
       " 'side': 'Buy',\n",
       " 'execTime': '1696505110208',\n",
       " 'closedSize': '0.000',\n",
       " 'crossSeq': '309807548'}"
      ]
     },
     "execution_count": 5,
     "metadata": {},
     "output_type": "execute_result"
    }
   ],
   "source": [
    "mufex_test.get_filled_orders_by_order_id(symbol=symbol, order_id=entry_order_id)\n",
    "# /private/v1/trade/fills"
   ]
  },
  {
   "cell_type": "code",
   "execution_count": 11,
   "metadata": {},
   "outputs": [
    {
     "data": {
      "text/plain": [
       "True"
      ]
     },
     "execution_count": 11,
     "metadata": {},
     "output_type": "execute_result"
    }
   ],
   "source": [
    "mufex_test.set_leverage_value(symbol=\"BTCUSDT\", leverage=61)"
   ]
  },
  {
   "cell_type": "code",
   "execution_count": 6,
   "metadata": {},
   "outputs": [],
   "source": [
    "pos_info = mufex_test.get_symbol_position_info(symbol='BTCUSDT')[0]"
   ]
  },
  {
   "cell_type": "code",
   "execution_count": 10,
   "metadata": {},
   "outputs": [
    {
     "data": {
      "text/plain": [
       "{'positionIdx': 1,\n",
       " 'riskId': '1',\n",
       " 'symbol': 'BTCUSDT',\n",
       " 'side': 'Buy',\n",
       " 'size': '3.636',\n",
       " 'positionValue': '100077.5747',\n",
       " 'entryPrice': '27524.08545105',\n",
       " 'tradeMode': 1,\n",
       " 'autoAddMargin': 0,\n",
       " 'leverage': '61',\n",
       " 'positionBalance': '1729.21038997',\n",
       " 'liqPrice': '27183.00',\n",
       " 'bustPrice': '27072.90',\n",
       " 'takeProfit': '0.00',\n",
       " 'stopLoss': '0.00',\n",
       " 'trailingStop': '0.00',\n",
       " 'unrealisedPnl': '-407.76086',\n",
       " 'createdTime': '1696083478164',\n",
       " 'updatedTime': '1696357704822',\n",
       " 'tpSlMode': 'Full',\n",
       " 'riskLimitValue': '30000000',\n",
       " 'activePrice': '0.00',\n",
       " 'markPrice': '27411.94',\n",
       " 'cumRealisedPnl': '-1061786.52',\n",
       " 'positionMm': '',\n",
       " 'positionIm': '',\n",
       " 'positionStatus': 'Normal',\n",
       " 'sessionAvgPrice': '0.00'}"
      ]
     },
     "execution_count": 10,
     "metadata": {},
     "output_type": "execute_result"
    }
   ],
   "source": [
    "pos_info"
   ]
  },
  {
   "cell_type": "code",
   "execution_count": 2,
   "metadata": {},
   "outputs": [
    {
     "data": {
      "text/plain": [
       "[{'coin': 'USDT',\n",
       "  'equity': '998164.59387778',\n",
       "  'walletBalance': '998164.59387778',\n",
       "  'positionMargin': '0',\n",
       "  'availableBalance': '998164.59387778',\n",
       "  'orderMargin': '0',\n",
       "  'occClosingFee': '0',\n",
       "  'occFundingFee': '0',\n",
       "  'unrealisedPnl': '0',\n",
       "  'cumRealisedPnl': '-1835.40612222',\n",
       "  'givenCash': '0',\n",
       "  'serviceCash': '0'}]"
      ]
     },
     "execution_count": 2,
     "metadata": {},
     "output_type": "execute_result"
    }
   ],
   "source": [
    "mufex_test.get_wallet_info()"
   ]
  },
  {
   "cell_type": "code",
   "execution_count": 21,
   "metadata": {},
   "outputs": [
    {
     "data": {
      "text/plain": [
       "{'coin': 'USDT',\n",
       " 'equity': '998164.67850048',\n",
       " 'walletBalance': '998164.69305048',\n",
       " 'positionMargin': '0.47304934',\n",
       " 'availableBalance': '998164.22000114',\n",
       " 'orderMargin': '0',\n",
       " 'occClosingFee': '0.02423592',\n",
       " 'occFundingFee': '0',\n",
       " 'unrealisedPnl': '-0.01455',\n",
       " 'cumRealisedPnl': '-1835.30694952',\n",
       " 'givenCash': '0',\n",
       " 'serviceCash': '0'}"
      ]
     },
     "execution_count": 21,
     "metadata": {},
     "output_type": "execute_result"
    }
   ],
   "source": [
    "mufex_test.get_wallet_info_of_asset(trading_in=\"USDT\")"
   ]
  }
 ],
 "metadata": {
  "kernelspec": {
   "display_name": "qfFree",
   "language": "python",
   "name": "python3"
  },
  "language_info": {
   "codemirror_mode": {
    "name": "ipython",
    "version": 3
   },
   "file_extension": ".py",
   "mimetype": "text/x-python",
   "name": "python",
   "nbconvert_exporter": "python",
   "pygments_lexer": "ipython3",
   "version": "3.10.10"
  },
  "orig_nbformat": 4
 },
 "nbformat": 4,
 "nbformat_minor": 2
}
