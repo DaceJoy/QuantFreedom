{
 "cells": [
  {
   "cell_type": "code",
   "execution_count": 2,
   "metadata": {},
   "outputs": [
    {
     "name": "stdout",
     "output_type": "stream",
     "text": [
      "The autoreload extension is already loaded. To reload it, use:\n",
      "  %reload_ext autoreload\n"
     ]
    }
   ],
   "source": [
    "from my_stuff import MufexTestKeys\n",
    "from quantfreedom.exchanges.mufex_exchange.mufex import Mufex\n",
    "\n",
    "mufex_test = Mufex(\n",
    "    api_key=MufexTestKeys.api_key,\n",
    "    secret_key=MufexTestKeys.secret_key,\n",
    "    use_test_net=True\n",
    ")\n",
    "symbol=\"BTCUSDT\"\n",
    "%load_ext autoreload\n",
    "%autoreload 2\n"
   ]
  },
  {
   "cell_type": "code",
   "execution_count": null,
   "metadata": {},
   "outputs": [],
   "source": [
    "mufex_test.get_candles_df(\n",
    "    symbol=symbol,\n",
    "    timeframe='1m',\n",
    "    candles_to_dl=300,\n",
    "    limit=200\n",
    ")"
   ]
  },
  {
   "cell_type": "code",
   "execution_count": null,
   "metadata": {},
   "outputs": [],
   "source": [
    "mufex_test.cancel_all_open_order_per_symbol(symbol=symbol)"
   ]
  },
  {
   "cell_type": "code",
   "execution_count": 3,
   "metadata": {},
   "outputs": [],
   "source": [
    "params = {\n",
    "    \"symbol\": symbol,\n",
    "    \"side\": \"Buy\",\n",
    "    \"positionIdx\": 1,\n",
    "    \"orderType\": \"Market\",\n",
    "    \"qty\": \"0.001\",\n",
    "    \"timeInForce\": \"ImmediateOrCancel\",\n",
    "}\n",
    "entry_order_id = mufex_test.create_order(params=params)"
   ]
  },
  {
   "cell_type": "code",
   "execution_count": 4,
   "metadata": {},
   "outputs": [],
   "source": [
    "params = {\n",
    "    \"symbol\": symbol,\n",
    "    \"side\": \"Sell\",\n",
    "    \"positionIdx\": 1,\n",
    "    \"orderType\": \"Market\",\n",
    "    \"qty\": \"0.05\",\n",
    "    \"timeInForce\": \"ImmediateOrCancel\",\n",
    "    \"triggerPrice\": \"27000\",\n",
    "    \"triggerDirection\": 2,\n",
    "}\n",
    "sl_order_id = mufex_test.create_order(params=params)"
   ]
  },
  {
   "cell_type": "code",
   "execution_count": 5,
   "metadata": {},
   "outputs": [],
   "source": [
    "params = {\n",
    "    \"symbol\": symbol,\n",
    "    \"side\": \"Sell\",\n",
    "    \"positionIdx\": 1,\n",
    "    \"orderType\": \"Limit\",\n",
    "    \"qty\": \"0.05\",\n",
    "    \"price\": \"28600\",\n",
    "    \"timeInForce\": \"PostOnly\",\n",
    "    \"reduceOnly\": True,\n",
    "}\n",
    "tp_order_id = mufex_test.create_order(params=params)"
   ]
  },
  {
   "cell_type": "code",
   "execution_count": 10,
   "metadata": {},
   "outputs": [
    {
     "data": {
      "text/plain": [
       "{'symbol': 'BTCUSDT',\n",
       " 'orderId': 'f3cc1483-8b51-4942-af38-264fd7f65df1',\n",
       " 'side': 'Sell',\n",
       " 'orderType': 'Limit',\n",
       " 'stopOrderType': 'UNKNOWN',\n",
       " 'price': '28600.00',\n",
       " 'qty': '0.001',\n",
       " 'timeInForce': 'PostOnly',\n",
       " 'orderStatus': 'New',\n",
       " 'triggerPrice': '0.00',\n",
       " 'orderLinkId': '',\n",
       " 'createdTime': '1696532350465156663',\n",
       " 'updatedTime': '1696532350477711629',\n",
       " 'takeProfit': '0.00',\n",
       " 'stopLoss': '0.00',\n",
       " 'tpTriggerBy': 'UNKNOWN',\n",
       " 'slTriggerBy': 'UNKNOWN',\n",
       " 'triggerBy': 'UNKNOWN',\n",
       " 'reduceOnly': True,\n",
       " 'leavesQty': '0.001',\n",
       " 'leavesValue': '28.6',\n",
       " 'cumExecQty': '0.000',\n",
       " 'cumExecValue': '0',\n",
       " 'cumExecFee': '0',\n",
       " 'triggerDirection': 0,\n",
       " 'lastPriceOnCreated': '',\n",
       " 'closeOnTrigger': False}"
      ]
     },
     "execution_count": 10,
     "metadata": {},
     "output_type": "execute_result"
    }
   ],
   "source": [
    "mufex_test.get_open_order_by_order_id(symbol=symbol, order_id=tp_order_id)"
   ]
  },
  {
   "cell_type": "code",
   "execution_count": 15,
   "metadata": {},
   "outputs": [
    {
     "data": {
      "text/plain": [
       "{'symbol': 'BTCUSDT',\n",
       " 'orderId': 'de9815f4-4956-4b29-83df-ca3cd716c30a',\n",
       " 'side': 'Buy',\n",
       " 'orderType': 'Market',\n",
       " 'stopOrderType': 'UNKNOWN',\n",
       " 'price': '27602.70',\n",
       " 'qty': '0.001',\n",
       " 'timeInForce': 'ImmediateOrCancel',\n",
       " 'orderStatus': 'Filled',\n",
       " 'triggerPrice': '0.00',\n",
       " 'orderLinkId': '',\n",
       " 'createdTime': '1696532347480161929',\n",
       " 'updatedTime': '1696532347540130220',\n",
       " 'takeProfit': '0.00',\n",
       " 'stopLoss': '0.00',\n",
       " 'tpTriggerBy': 'UNKNOWN',\n",
       " 'slTriggerBy': 'UNKNOWN',\n",
       " 'triggerBy': 'UNKNOWN',\n",
       " 'reduceOnly': False,\n",
       " 'leavesQty': '0.000',\n",
       " 'leavesValue': '0',\n",
       " 'cumExecQty': '0.001',\n",
       " 'cumExecValue': '27.4811',\n",
       " 'cumExecFee': '0.02473299',\n",
       " 'triggerDirection': 0,\n",
       " 'lastPriceOnCreated': '',\n",
       " 'closeOnTrigger': False}"
      ]
     },
     "execution_count": 15,
     "metadata": {},
     "output_type": "execute_result"
    }
   ],
   "source": [
    "mufex_test.get_open_order_by_order_id(symbol=symbol, order_id=entry_order_id)"
   ]
  },
  {
   "cell_type": "code",
   "execution_count": 11,
   "metadata": {},
   "outputs": [
    {
     "data": {
      "text/plain": [
       "{'symbol': 'BTCUSDT',\n",
       " 'execFee': '0.02473299',\n",
       " 'execId': '6dbecfe5-56aa-5230-81e9-549cdb4242f7',\n",
       " 'execPrice': '27481.10',\n",
       " 'execQty': '0.001',\n",
       " 'execType': 'Trade',\n",
       " 'execValue': '27.4811',\n",
       " 'feeRate': '0.0009',\n",
       " 'lastLiquidityInd': 'RemovedLiquidity',\n",
       " 'leavesQty': '0.000',\n",
       " 'orderId': 'de9815f4-4956-4b29-83df-ca3cd716c30a',\n",
       " 'orderLinkId': '',\n",
       " 'orderPrice': '27602.70',\n",
       " 'orderQty': '0.001',\n",
       " 'orderType': 'Market',\n",
       " 'stopOrderType': 'UNKNOWN',\n",
       " 'side': 'Buy',\n",
       " 'execTime': '1696532347480',\n",
       " 'closedSize': '0.000',\n",
       " 'crossSeq': '311740887'}"
      ]
     },
     "execution_count": 11,
     "metadata": {},
     "output_type": "execute_result"
    }
   ],
   "source": [
    "mufex_test.get_filled_orders_by_order_id(symbol=symbol, order_id=entry_order_id)"
   ]
  },
  {
   "cell_type": "code",
   "execution_count": 14,
   "metadata": {},
   "outputs": [
    {
     "data": {
      "text/plain": [
       "{'symbol': 'BTCUSDT',\n",
       " 'side': 'Buy',\n",
       " 'orderType': 'Market',\n",
       " 'price': '27602.70',\n",
       " 'qty': '0.001',\n",
       " 'reduceOnly': False,\n",
       " 'timeInForce': 'ImmediateOrCancel',\n",
       " 'orderStatus': 'Filled',\n",
       " 'leavesQty': '0.000',\n",
       " 'leavesValue': '0',\n",
       " 'cumExecQty': '0.001',\n",
       " 'cumExecValue': '27.4811',\n",
       " 'cumExecFee': '0.02473299',\n",
       " 'lastPriceOnCreated': '0.00',\n",
       " 'rejectReason': 'EC_NoError',\n",
       " 'orderLinkId': '',\n",
       " 'createdTime': '0',\n",
       " 'updatedTime': '0',\n",
       " 'orderId': 'de9815f4-4956-4b29-83df-ca3cd716c30a',\n",
       " 'stopOrderType': 'UNKNOWN',\n",
       " 'takeProfit': '0.00',\n",
       " 'stopLoss': '0.00',\n",
       " 'tpTriggerBy': 'UNKNOWN',\n",
       " 'slTriggerBy': 'UNKNOWN',\n",
       " 'triggerPrice': '0.00',\n",
       " 'closeOnTrigger': False,\n",
       " 'triggerDirection': 0,\n",
       " 'positionIdx': 0,\n",
       " 'triggerBy': 'UNKNOWN'}"
      ]
     },
     "execution_count": 14,
     "metadata": {},
     "output_type": "execute_result"
    }
   ],
   "source": [
    "mufex_test.get_order_history_by_order_id(symbol=\"BTCUSDT\", order_id=entry_order_id)"
   ]
  },
  {
   "cell_type": "code",
   "execution_count": null,
   "metadata": {},
   "outputs": [],
   "source": [
    "pos_info = mufex_test.get_symbol_position_info(symbol=symbol)[0]"
   ]
  },
  {
   "cell_type": "code",
   "execution_count": null,
   "metadata": {},
   "outputs": [],
   "source": [
    "pos_info"
   ]
  },
  {
   "cell_type": "code",
   "execution_count": null,
   "metadata": {},
   "outputs": [],
   "source": [
    "float(pos_info['positionValue'])"
   ]
  },
  {
   "cell_type": "code",
   "execution_count": null,
   "metadata": {},
   "outputs": [],
   "source": [
    "mufex_test.get_filled_orders_by_order_id(symbol=symbol, order_id=entry_order_id)\n",
    "# /private/v1/trade/fills"
   ]
  },
  {
   "cell_type": "code",
   "execution_count": null,
   "metadata": {},
   "outputs": [],
   "source": [
    "mufex_test.set_leverage_value(symbol=\"BTCUSDT\", leverage=61)"
   ]
  },
  {
   "cell_type": "code",
   "execution_count": null,
   "metadata": {},
   "outputs": [],
   "source": [
    "pos_info = mufex_test.get_symbol_position_info(symbol='BTCUSDT')[0]"
   ]
  },
  {
   "cell_type": "code",
   "execution_count": null,
   "metadata": {},
   "outputs": [],
   "source": [
    "pos_info"
   ]
  },
  {
   "cell_type": "code",
   "execution_count": null,
   "metadata": {},
   "outputs": [],
   "source": [
    "mufex_test.get_wallet_info()"
   ]
  },
  {
   "cell_type": "code",
   "execution_count": null,
   "metadata": {},
   "outputs": [],
   "source": [
    "mufex_test.get_wallet_info_of_asset(trading_in=\"USDT\")"
   ]
  },
  {
   "cell_type": "code",
   "execution_count": null,
   "metadata": {},
   "outputs": [],
   "source": [
    "datetime.fromtimestamp()"
   ]
  },
  {
   "cell_type": "code",
   "execution_count": null,
   "metadata": {},
   "outputs": [],
   "source": [
    ".strftime('%H hrs %M mins and %S seconds')"
   ]
  }
 ],
 "metadata": {
  "kernelspec": {
   "display_name": "qfFree",
   "language": "python",
   "name": "python3"
  },
  "language_info": {
   "codemirror_mode": {
    "name": "ipython",
    "version": 3
   },
   "file_extension": ".py",
   "mimetype": "text/x-python",
   "name": "python",
   "nbconvert_exporter": "python",
   "pygments_lexer": "ipython3",
   "version": "3.10.10"
  },
  "orig_nbformat": 4
 },
 "nbformat": 4,
 "nbformat_minor": 2
}
