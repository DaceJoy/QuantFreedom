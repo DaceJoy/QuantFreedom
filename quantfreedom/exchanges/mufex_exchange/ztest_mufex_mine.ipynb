{
 "cells": [
  {
   "cell_type": "code",
   "execution_count": 1,
   "metadata": {},
   "outputs": [],
   "source": [
    "from my_stuff import MufexTestKeys\n",
    "from quantfreedom.enums import LongOrShortType\n",
    "from quantfreedom.exchanges.mufex_exchange.mufex import Mufex\n",
    "\n",
    "\n",
    "mufex_test = Mufex(\n",
    "    api_key=MufexTestKeys.api_key,\n",
    "    secret_key=MufexTestKeys.secret,\n",
    "    use_test_net=True\n",
    ")\n",
    "%load_ext autoreload\n",
    "%autoreload 2\n"
   ]
  },
  {
   "cell_type": "code",
   "execution_count": 2,
   "metadata": {},
   "outputs": [
    {
     "ename": "Exception",
     "evalue": "Something is wrong with get_wallet_info_all_coins -> can only concatenate str (not \"NoneType\") to str",
     "output_type": "error",
     "traceback": [
      "\u001b[1;31m---------------------------------------------------------------------------\u001b[0m",
      "\u001b[1;31mTypeError\u001b[0m                                 Traceback (most recent call last)",
      "File \u001b[1;32me:\\coding\\backtesters\\quantfreedom\\quantfreedom\\exchanges\\mufex_exchange\\mufex.py:431\u001b[0m, in \u001b[0;36mMufex.get_wallet_info\u001b[1;34m(self, params, **vargs)\u001b[0m\n\u001b[0;32m    430\u001b[0m \u001b[39mtry\u001b[39;00m:\n\u001b[1;32m--> 431\u001b[0m     response \u001b[39m=\u001b[39m \u001b[39mself\u001b[39;49m\u001b[39m.\u001b[39;49m__HTTP_get_request(end_point\u001b[39m=\u001b[39;49mend_point, params\u001b[39m=\u001b[39;49mparams)\n\u001b[0;32m    432\u001b[0m     response_data \u001b[39m=\u001b[39m response[\u001b[39m\"\u001b[39m\u001b[39mdata\u001b[39m\u001b[39m\"\u001b[39m]\n",
      "File \u001b[1;32me:\\coding\\backtesters\\quantfreedom\\quantfreedom\\exchanges\\mufex_exchange\\mufex.py:102\u001b[0m, in \u001b[0;36mMufex.__HTTP_get_request\u001b[1;34m(self, end_point, params)\u001b[0m\n\u001b[0;32m    101\u001b[0m params_as_path \u001b[39m=\u001b[39m \u001b[39mself\u001b[39m\u001b[39m.\u001b[39m__params_to_path(params\u001b[39m=\u001b[39mparams)\n\u001b[1;32m--> 102\u001b[0m signature \u001b[39m=\u001b[39m \u001b[39mself\u001b[39;49m\u001b[39m.\u001b[39;49m__gen_signature(time_stamp\u001b[39m=\u001b[39;49mtime_stamp, params_as_string\u001b[39m=\u001b[39;49mparams_as_path)\n\u001b[0;32m    103\u001b[0m headers \u001b[39m=\u001b[39m {\n\u001b[0;32m    104\u001b[0m     \u001b[39m\"\u001b[39m\u001b[39mMF-ACCESS-API-KEY\u001b[39m\u001b[39m\"\u001b[39m: \u001b[39mself\u001b[39m\u001b[39m.\u001b[39mapi_key,\n\u001b[0;32m    105\u001b[0m     \u001b[39m\"\u001b[39m\u001b[39mMF-ACCESS-SIGN\u001b[39m\u001b[39m\"\u001b[39m: signature,\n\u001b[1;32m   (...)\u001b[0m\n\u001b[0;32m    109\u001b[0m     \u001b[39m\"\u001b[39m\u001b[39mContent-Type\u001b[39m\u001b[39m\"\u001b[39m: \u001b[39m\"\u001b[39m\u001b[39mapplication/json\u001b[39m\u001b[39m\"\u001b[39m,\n\u001b[0;32m    110\u001b[0m }\n",
      "File \u001b[1;32me:\\coding\\backtesters\\quantfreedom\\quantfreedom\\exchanges\\mufex_exchange\\mufex.py:158\u001b[0m, in \u001b[0;36mMufex.__gen_signature\u001b[1;34m(self, time_stamp, params_as_string)\u001b[0m\n\u001b[0;32m    157\u001b[0m \u001b[39mdef\u001b[39;00m \u001b[39m__gen_signature\u001b[39m(\u001b[39mself\u001b[39m, time_stamp, params_as_string):\n\u001b[1;32m--> 158\u001b[0m     param_str \u001b[39m=\u001b[39m time_stamp \u001b[39m+\u001b[39;49m \u001b[39mself\u001b[39;49m\u001b[39m.\u001b[39;49mapi_key \u001b[39m+\u001b[39;49m \u001b[39m\"\u001b[39;49m\u001b[39m5000\u001b[39;49m\u001b[39m\"\u001b[39;49m \u001b[39m+\u001b[39;49m params_as_string\n\u001b[0;32m    159\u001b[0m     \u001b[39mhash\u001b[39m \u001b[39m=\u001b[39m hmac\u001b[39m.\u001b[39mnew(\u001b[39mbytes\u001b[39m(\u001b[39mself\u001b[39m\u001b[39m.\u001b[39msecret_key, \u001b[39m\"\u001b[39m\u001b[39mutf-8\u001b[39m\u001b[39m\"\u001b[39m), param_str\u001b[39m.\u001b[39mencode(\u001b[39m\"\u001b[39m\u001b[39mutf-8\u001b[39m\u001b[39m\"\u001b[39m), hashlib\u001b[39m.\u001b[39msha256)\n",
      "\u001b[1;31mTypeError\u001b[0m: can only concatenate str (not \"NoneType\") to str",
      "\nDuring handling of the above exception, another exception occurred:\n",
      "\u001b[1;31mException\u001b[0m                                 Traceback (most recent call last)",
      "\u001b[1;32me:\\Coding\\backtesters\\QuantFreedom\\quantfreedom\\exchanges\\mufex_exchange\\ztest_mufex_mine.ipynb Cell 2\u001b[0m line \u001b[0;36m1\n\u001b[1;32m----> <a href='vscode-notebook-cell:/e%3A/Coding/backtesters/QuantFreedom/quantfreedom/exchanges/mufex_exchange/ztest_mufex_mine.ipynb#W1sZmlsZQ%3D%3D?line=0'>1</a>\u001b[0m mufex_test\u001b[39m.\u001b[39;49mget_wallet_info()\n",
      "File \u001b[1;32me:\\coding\\backtesters\\quantfreedom\\quantfreedom\\exchanges\\mufex_exchange\\mufex.py:442\u001b[0m, in \u001b[0;36mMufex.get_wallet_info\u001b[1;34m(self, params, **vargs)\u001b[0m\n\u001b[0;32m    440\u001b[0m         \u001b[39mraise\u001b[39;00m \u001b[39mException\u001b[39;00m(\u001b[39mf\u001b[39m\u001b[39m\"\u001b[39m\u001b[39mNothing sent back in data \u001b[39m\u001b[39m{\u001b[39;00mresponse[\u001b[39m'\u001b[39m\u001b[39mmessage\u001b[39m\u001b[39m'\u001b[39m]\u001b[39m}\u001b[39;00m\u001b[39m\"\u001b[39m)\n\u001b[0;32m    441\u001b[0m \u001b[39mexcept\u001b[39;00m \u001b[39mException\u001b[39;00m \u001b[39mas\u001b[39;00m e:\n\u001b[1;32m--> 442\u001b[0m     \u001b[39mraise\u001b[39;00m \u001b[39mException\u001b[39;00m(\u001b[39mf\u001b[39m\u001b[39m\"\u001b[39m\u001b[39mSomething is wrong with get_wallet_info_all_coins -> \u001b[39m\u001b[39m{\u001b[39;00me\u001b[39m}\u001b[39;00m\u001b[39m\"\u001b[39m)\n",
      "\u001b[1;31mException\u001b[0m: Something is wrong with get_wallet_info_all_coins -> can only concatenate str (not \"NoneType\") to str"
     ]
    }
   ],
   "source": [
    "mufex_test.get_wallet_info()"
   ]
  },
  {
   "cell_type": "code",
   "execution_count": null,
   "metadata": {},
   "outputs": [],
   "source": [
    "mufex_test.create_long_entry_market_order(\n",
    "    asset_amount=.001,\n",
    ")"
   ]
  },
  {
   "cell_type": "code",
   "execution_count": null,
   "metadata": {},
   "outputs": [],
   "source": [
    "market_order_id_2 = mufex_test.create_long_entry_market_order(\n",
    "    asset_amount=0.001,\n",
    ")"
   ]
  },
  {
   "cell_type": "code",
   "execution_count": null,
   "metadata": {},
   "outputs": [],
   "source": [
    "sl_order_id = mufex_test.create_long_sl_order(\n",
    "    asset_amount=0.001,\n",
    "    trigger_price=26400,\n",
    ")"
   ]
  },
  {
   "cell_type": "code",
   "execution_count": null,
   "metadata": {},
   "outputs": [],
   "source": [
    "sl_order_id2 = mufex_test.create_long_sl_order(\n",
    "    asset_amount=0.005,\n",
    "    trigger_price=26400,\n",
    ")"
   ]
  },
  {
   "cell_type": "code",
   "execution_count": null,
   "metadata": {},
   "outputs": [],
   "source": [
    "tp_order_id = mufex_test.create_long_tp_limit_order(\n",
    "    asset_amount=0.006,\n",
    "    tp_price=28000,\n",
    ")"
   ]
  },
  {
   "cell_type": "code",
   "execution_count": null,
   "metadata": {},
   "outputs": [],
   "source": [
    "tp_order_id2 = mufex_test.create_long_tp_limit_order(\n",
    "    asset_amount=0.01,\n",
    "    tp_price=28000,\n",
    ")"
   ]
  },
  {
   "cell_type": "code",
   "execution_count": null,
   "metadata": {},
   "outputs": [],
   "source": [
    "mufex_test.get_wallet_info_all_coins()"
   ]
  },
  {
   "cell_type": "code",
   "execution_count": null,
   "metadata": {},
   "outputs": [],
   "source": [
    "mufex_test.adjust_order(order_id=sl_order_id2, new_price=26800)"
   ]
  },
  {
   "cell_type": "code",
   "execution_count": null,
   "metadata": {},
   "outputs": [],
   "source": [
    "mufex_test.get_order_history(order_id=sl_order_id2)"
   ]
  },
  {
   "cell_type": "code",
   "execution_count": null,
   "metadata": {},
   "outputs": [],
   "source": [
    "mufex_test.get_filled_order_info(order_id=sl_order_id2)"
   ]
  }
 ],
 "metadata": {
  "kernelspec": {
   "display_name": "qfFree",
   "language": "python",
   "name": "python3"
  },
  "language_info": {
   "codemirror_mode": {
    "name": "ipython",
    "version": 3
   },
   "file_extension": ".py",
   "mimetype": "text/x-python",
   "name": "python",
   "nbconvert_exporter": "python",
   "pygments_lexer": "ipython3",
   "version": "3.10.10"
  },
  "orig_nbformat": 4
 },
 "nbformat": 4,
 "nbformat_minor": 2
}
