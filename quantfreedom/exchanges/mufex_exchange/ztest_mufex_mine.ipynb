{
 "cells": [
  {
   "cell_type": "code",
   "execution_count": 3,
   "metadata": {},
   "outputs": [
    {
     "name": "stdout",
     "output_type": "stream",
     "text": [
      "The autoreload extension is already loaded. To reload it, use:\n",
      "  %reload_ext autoreload\n"
     ]
    }
   ],
   "source": [
    "from my_stuff import MufexTestKeys\n",
    "from quantfreedom.exchanges.mufex_exchange.mufex import Mufex\n",
    "\n",
    "mufex_test = Mufex(\n",
    "    api_key=MufexTestKeys.api_key,\n",
    "    secret_key=MufexTestKeys.secret_key,\n",
    "    use_test_net=True\n",
    ")\n",
    "symbol=\"BTCUSDT\"\n",
    "%load_ext autoreload\n",
    "%autoreload 2\n"
   ]
  },
  {
   "cell_type": "code",
   "execution_count": 5,
   "metadata": {},
   "outputs": [
    {
     "data": {
      "text/plain": [
       "[{'symbol': 'BTCUSDT',\n",
       "  'orderId': 'dcf26970-d247-43d2-9188-c1aaed7c47fa',\n",
       "  'side': 'Sell',\n",
       "  'orderType': 'Limit',\n",
       "  'stopOrderType': 'UNKNOWN',\n",
       "  'price': '27655.90',\n",
       "  'qty': '0.182',\n",
       "  'timeInForce': 'PostOnly',\n",
       "  'orderStatus': 'New',\n",
       "  'triggerPrice': '0.00',\n",
       "  'orderLinkId': '99c93c376e904106aae61a73dafd1b82',\n",
       "  'createdTime': '1696546696214644669',\n",
       "  'updatedTime': '1696546696267702720',\n",
       "  'takeProfit': '0.00',\n",
       "  'stopLoss': '0.00',\n",
       "  'tpTriggerBy': 'UNKNOWN',\n",
       "  'slTriggerBy': 'UNKNOWN',\n",
       "  'triggerBy': 'UNKNOWN',\n",
       "  'reduceOnly': True,\n",
       "  'leavesQty': '0.182',\n",
       "  'leavesValue': '5033.3738',\n",
       "  'cumExecQty': '0.000',\n",
       "  'cumExecValue': '0',\n",
       "  'cumExecFee': '0',\n",
       "  'triggerDirection': 0,\n",
       "  'lastPriceOnCreated': '',\n",
       "  'closeOnTrigger': False},\n",
       " {'symbol': 'BTCUSDT',\n",
       "  'orderId': '681be8fb-9bb6-4121-b37d-319144072ca5',\n",
       "  'side': 'Sell',\n",
       "  'orderType': 'Market',\n",
       "  'stopOrderType': 'Stop',\n",
       "  'price': '0.00',\n",
       "  'qty': '0.182',\n",
       "  'timeInForce': 'ImmediateOrCancel',\n",
       "  'orderStatus': 'Untriggered',\n",
       "  'triggerPrice': '27360.00',\n",
       "  'orderLinkId': '56df0726e8ec48a6ac0f38c0278df494',\n",
       "  'createdTime': '1696546695443012014',\n",
       "  'updatedTime': '1696546695443012014',\n",
       "  'takeProfit': '0.00',\n",
       "  'stopLoss': '0.00',\n",
       "  'tpTriggerBy': 'UNKNOWN',\n",
       "  'slTriggerBy': 'UNKNOWN',\n",
       "  'triggerBy': 'LastPrice',\n",
       "  'reduceOnly': True,\n",
       "  'leavesQty': '0.182',\n",
       "  'leavesValue': '0',\n",
       "  'cumExecQty': '0.000',\n",
       "  'cumExecValue': '0',\n",
       "  'cumExecFee': '0',\n",
       "  'triggerDirection': 2,\n",
       "  'lastPriceOnCreated': '',\n",
       "  'closeOnTrigger': False}]"
      ]
     },
     "execution_count": 5,
     "metadata": {},
     "output_type": "execute_result"
    }
   ],
   "source": [
    "mufex_test.get_open_orders(symbol=symbol)"
   ]
  },
  {
   "cell_type": "code",
   "execution_count": null,
   "metadata": {},
   "outputs": [],
   "source": [
    "mufex_test.get_candles_df(\n",
    "    symbol=symbol,\n",
    "    timeframe='1m',\n",
    "    candles_to_dl=300,\n",
    "    limit=200\n",
    ")"
   ]
  },
  {
   "cell_type": "code",
   "execution_count": null,
   "metadata": {},
   "outputs": [],
   "source": [
    "mufex_test.cancel_all_open_order_per_symbol(symbol=symbol)"
   ]
  },
  {
   "cell_type": "code",
   "execution_count": null,
   "metadata": {},
   "outputs": [],
   "source": [
    "params = {\n",
    "    \"symbol\": symbol,\n",
    "    \"side\": \"Buy\",\n",
    "    \"positionIdx\": 1,\n",
    "    \"orderType\": \"Market\",\n",
    "    \"qty\": \"0.001\",\n",
    "    \"timeInForce\": \"ImmediateOrCancel\",\n",
    "}\n",
    "entry_order_id = mufex_test.create_order(params=params)"
   ]
  },
  {
   "cell_type": "code",
   "execution_count": null,
   "metadata": {},
   "outputs": [],
   "source": [
    "params = {\n",
    "    \"symbol\": symbol,\n",
    "    \"side\": \"Sell\",\n",
    "    \"positionIdx\": 1,\n",
    "    \"orderType\": \"Market\",\n",
    "    \"qty\": \"0.05\",\n",
    "    \"timeInForce\": \"ImmediateOrCancel\",\n",
    "    \"triggerPrice\": \"27000\",\n",
    "    \"triggerDirection\": 2,\n",
    "}\n",
    "sl_order_id = mufex_test.create_order(params=params)"
   ]
  },
  {
   "cell_type": "code",
   "execution_count": null,
   "metadata": {},
   "outputs": [],
   "source": [
    "params = {\n",
    "    \"symbol\": symbol,\n",
    "    \"side\": \"Sell\",\n",
    "    \"positionIdx\": 1,\n",
    "    \"orderType\": \"Limit\",\n",
    "    \"qty\": \"0.05\",\n",
    "    \"price\": \"28600\",\n",
    "    \"timeInForce\": \"PostOnly\",\n",
    "    \"reduceOnly\": True,\n",
    "}\n",
    "tp_order_id = mufex_test.create_order(params=params)"
   ]
  },
  {
   "cell_type": "code",
   "execution_count": null,
   "metadata": {},
   "outputs": [],
   "source": [
    "mufex_test.get_open_order_by_order_id(symbol=symbol, order_id=tp_order_id)"
   ]
  },
  {
   "cell_type": "code",
   "execution_count": null,
   "metadata": {},
   "outputs": [],
   "source": [
    "mufex_test.get_open_order_by_order_id(symbol=symbol, order_id=entry_order_id)"
   ]
  },
  {
   "cell_type": "code",
   "execution_count": null,
   "metadata": {},
   "outputs": [],
   "source": [
    "mufex_test.get_filled_orders_by_order_id(symbol=symbol, order_id=entry_order_id)"
   ]
  },
  {
   "cell_type": "code",
   "execution_count": null,
   "metadata": {},
   "outputs": [],
   "source": [
    "mufex_test.get_order_history_by_order_id(symbol=\"BTCUSDT\", order_id=entry_order_id)"
   ]
  },
  {
   "cell_type": "code",
   "execution_count": 3,
   "metadata": {},
   "outputs": [],
   "source": [
    "pos_info = mufex_test.get_symbol_position_info(symbol=symbol)"
   ]
  },
  {
   "cell_type": "code",
   "execution_count": 7,
   "metadata": {},
   "outputs": [
    {
     "data": {
      "text/plain": [
       "27431.5"
      ]
     },
     "execution_count": 7,
     "metadata": {},
     "output_type": "execute_result"
    }
   ],
   "source": [
    "float(pos_info[0]['entryPrice'])"
   ]
  },
  {
   "cell_type": "code",
   "execution_count": null,
   "metadata": {},
   "outputs": [],
   "source": [
    "float(pos_info['positionValue'])"
   ]
  },
  {
   "cell_type": "code",
   "execution_count": null,
   "metadata": {},
   "outputs": [],
   "source": [
    "mufex_test.get_filled_orders_by_order_id(symbol=symbol, order_id=entry_order_id)\n",
    "# /private/v1/trade/fills"
   ]
  },
  {
   "cell_type": "code",
   "execution_count": null,
   "metadata": {},
   "outputs": [],
   "source": [
    "mufex_test.set_leverage_value(symbol=\"BTCUSDT\", leverage=61)"
   ]
  },
  {
   "cell_type": "code",
   "execution_count": null,
   "metadata": {},
   "outputs": [],
   "source": [
    "pos_info = mufex_test.get_symbol_position_info(symbol='BTCUSDT')[0]"
   ]
  },
  {
   "cell_type": "code",
   "execution_count": null,
   "metadata": {},
   "outputs": [],
   "source": [
    "pos_info"
   ]
  },
  {
   "cell_type": "code",
   "execution_count": null,
   "metadata": {},
   "outputs": [],
   "source": [
    "mufex_test.get_wallet_info()"
   ]
  },
  {
   "cell_type": "code",
   "execution_count": null,
   "metadata": {},
   "outputs": [],
   "source": [
    "mufex_test.get_wallet_info_of_asset(trading_in=\"USDT\")"
   ]
  },
  {
   "cell_type": "code",
   "execution_count": null,
   "metadata": {},
   "outputs": [],
   "source": [
    "datetime.fromtimestamp()"
   ]
  },
  {
   "cell_type": "code",
   "execution_count": null,
   "metadata": {},
   "outputs": [],
   "source": [
    ".strftime('%H hrs %M mins and %S seconds')"
   ]
  }
 ],
 "metadata": {
  "kernelspec": {
   "display_name": "qfFree",
   "language": "python",
   "name": "python3"
  },
  "language_info": {
   "codemirror_mode": {
    "name": "ipython",
    "version": 3
   },
   "file_extension": ".py",
   "mimetype": "text/x-python",
   "name": "python",
   "nbconvert_exporter": "python",
   "pygments_lexer": "ipython3",
   "version": "3.10.10"
  },
  "orig_nbformat": 4
 },
 "nbformat": 4,
 "nbformat_minor": 2
}
