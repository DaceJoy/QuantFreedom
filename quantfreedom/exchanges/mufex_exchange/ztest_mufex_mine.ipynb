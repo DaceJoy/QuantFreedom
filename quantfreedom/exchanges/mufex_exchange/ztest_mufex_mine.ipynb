{
 "cells": [
  {
   "cell_type": "code",
   "execution_count": 15,
   "metadata": {},
   "outputs": [
    {
     "ename": "AttributeError",
     "evalue": "'Mufex' object has no attribute 'get_trading_fee_info'",
     "output_type": "error",
     "traceback": [
      "\u001b[1;31m---------------------------------------------------------------------------\u001b[0m",
      "\u001b[1;31mAttributeError\u001b[0m                            Traceback (most recent call last)",
      "\u001b[1;32me:\\Coding\\backtesters\\QuantFreedom\\quantfreedom\\exchanges\\ztest_mufex_mine.ipynb Cell 1\u001b[0m line \u001b[0;36m8\n\u001b[0;32m      <a href='vscode-notebook-cell:/e%3A/Coding/backtesters/QuantFreedom/quantfreedom/exchanges/ztest_mufex_mine.ipynb#W0sZmlsZQ%3D%3D?line=5'>6</a>\u001b[0m \u001b[39mfrom\u001b[39;00m \u001b[39mquantfreedom\u001b[39;00m\u001b[39m.\u001b[39;00m\u001b[39menums\u001b[39;00m \u001b[39mimport\u001b[39;00m LongOrShortType\n\u001b[0;32m      <a href='vscode-notebook-cell:/e%3A/Coding/backtesters/QuantFreedom/quantfreedom/exchanges/ztest_mufex_mine.ipynb#W0sZmlsZQ%3D%3D?line=6'>7</a>\u001b[0m \u001b[39mfrom\u001b[39;00m \u001b[39mquantfreedom\u001b[39;00m\u001b[39m.\u001b[39;00m\u001b[39mexchanges\u001b[39;00m \u001b[39mimport\u001b[39;00m get_exchange_symbols\n\u001b[1;32m----> <a href='vscode-notebook-cell:/e%3A/Coding/backtesters/QuantFreedom/quantfreedom/exchanges/ztest_mufex_mine.ipynb#W0sZmlsZQ%3D%3D?line=7'>8</a>\u001b[0m mufex_test \u001b[39m=\u001b[39m Mufex(\n\u001b[0;32m      <a href='vscode-notebook-cell:/e%3A/Coding/backtesters/QuantFreedom/quantfreedom/exchanges/ztest_mufex_mine.ipynb#W0sZmlsZQ%3D%3D?line=8'>9</a>\u001b[0m     api_key\u001b[39m=\u001b[39;49mMufexTestKeys\u001b[39m.\u001b[39;49mapi_key,\n\u001b[0;32m     <a href='vscode-notebook-cell:/e%3A/Coding/backtesters/QuantFreedom/quantfreedom/exchanges/ztest_mufex_mine.ipynb#W0sZmlsZQ%3D%3D?line=9'>10</a>\u001b[0m     secret_key\u001b[39m=\u001b[39;49mMufexTestKeys\u001b[39m.\u001b[39;49msecret,\n\u001b[0;32m     <a href='vscode-notebook-cell:/e%3A/Coding/backtesters/QuantFreedom/quantfreedom/exchanges/ztest_mufex_mine.ipynb#W0sZmlsZQ%3D%3D?line=10'>11</a>\u001b[0m     use_test_net\u001b[39m=\u001b[39;49m\u001b[39mTrue\u001b[39;49;00m,\n\u001b[0;32m     <a href='vscode-notebook-cell:/e%3A/Coding/backtesters/QuantFreedom/quantfreedom/exchanges/ztest_mufex_mine.ipynb#W0sZmlsZQ%3D%3D?line=11'>12</a>\u001b[0m     symbol\u001b[39m=\u001b[39;49m\u001b[39m\"\u001b[39;49m\u001b[39mBTCUSDT\u001b[39;49m\u001b[39m\"\u001b[39;49m,\n\u001b[0;32m     <a href='vscode-notebook-cell:/e%3A/Coding/backtesters/QuantFreedom/quantfreedom/exchanges/ztest_mufex_mine.ipynb#W0sZmlsZQ%3D%3D?line=12'>13</a>\u001b[0m     timeframe\u001b[39m=\u001b[39;49m\u001b[39m\"\u001b[39;49m\u001b[39m5m\u001b[39;49m\u001b[39m\"\u001b[39;49m,\n\u001b[0;32m     <a href='vscode-notebook-cell:/e%3A/Coding/backtesters/QuantFreedom/quantfreedom/exchanges/ztest_mufex_mine.ipynb#W0sZmlsZQ%3D%3D?line=13'>14</a>\u001b[0m     long_or_short\u001b[39m=\u001b[39;49mLongOrShortType\u001b[39m.\u001b[39;49mLong,\n\u001b[0;32m     <a href='vscode-notebook-cell:/e%3A/Coding/backtesters/QuantFreedom/quantfreedom/exchanges/ztest_mufex_mine.ipynb#W0sZmlsZQ%3D%3D?line=14'>15</a>\u001b[0m )\n\u001b[0;32m     <a href='vscode-notebook-cell:/e%3A/Coding/backtesters/QuantFreedom/quantfreedom/exchanges/ztest_mufex_mine.ipynb#W0sZmlsZQ%3D%3D?line=15'>16</a>\u001b[0m get_ipython()\u001b[39m.\u001b[39mrun_line_magic(\u001b[39m'\u001b[39m\u001b[39mload_ext\u001b[39m\u001b[39m'\u001b[39m, \u001b[39m'\u001b[39m\u001b[39mautoreload\u001b[39m\u001b[39m'\u001b[39m)\n\u001b[0;32m     <a href='vscode-notebook-cell:/e%3A/Coding/backtesters/QuantFreedom/quantfreedom/exchanges/ztest_mufex_mine.ipynb#W0sZmlsZQ%3D%3D?line=16'>17</a>\u001b[0m get_ipython()\u001b[39m.\u001b[39mrun_line_magic(\u001b[39m'\u001b[39m\u001b[39mautoreload\u001b[39m\u001b[39m'\u001b[39m, \u001b[39m'\u001b[39m\u001b[39m2\u001b[39m\u001b[39m'\u001b[39m)\n",
      "File \u001b[1;32me:\\coding\\backtesters\\quantfreedom\\quantfreedom\\exchanges\\mufex.py:87\u001b[0m, in \u001b[0;36mMufex.__init__\u001b[1;34m(self, symbol, timeframe, api_key, secret_key, long_or_short, candles_to_dl, keep_volume_in_candles, use_test_net, position_mode, leverage_mode, category)\u001b[0m\n\u001b[0;32m     84\u001b[0m \u001b[39melif\u001b[39;00m leverage_mode \u001b[39m==\u001b[39m LeverageModeType\u001b[39m.\u001b[39mCross:\n\u001b[0;32m     85\u001b[0m     \u001b[39mself\u001b[39m\u001b[39m.\u001b[39m__set_leverage_mode_cross()\n\u001b[1;32m---> 87\u001b[0m \u001b[39mself\u001b[39;49m\u001b[39m.\u001b[39;49m__set_exchange_settings()\n",
      "File \u001b[1;32me:\\coding\\backtesters\\quantfreedom\\quantfreedom\\exchanges\\mufex.py:649\u001b[0m, in \u001b[0;36mMufex.__set_exchange_settings\u001b[1;34m(self)\u001b[0m\n\u001b[0;32m    648\u001b[0m \u001b[39mdef\u001b[39;00m \u001b[39m__set_exchange_settings\u001b[39m(\u001b[39mself\u001b[39m):\n\u001b[1;32m--> 649\u001b[0m     \u001b[39mself\u001b[39;49m\u001b[39m.\u001b[39;49m__set_fee_pcts()\n\u001b[0;32m    650\u001b[0m     \u001b[39mself\u001b[39m\u001b[39m.\u001b[39m__set_mmr_pct()\n\u001b[0;32m    651\u001b[0m     \u001b[39mself\u001b[39m\u001b[39m.\u001b[39m__set_min_max_leverage_and_coin_size()\n",
      "File \u001b[1;32me:\\coding\\backtesters\\quantfreedom\\quantfreedom\\exchanges\\mufex.py:700\u001b[0m, in \u001b[0;36mMufex.__set_fee_pcts\u001b[1;34m(self)\u001b[0m\n\u001b[0;32m    699\u001b[0m \u001b[39mdef\u001b[39;00m \u001b[39m__set_fee_pcts\u001b[39m(\u001b[39mself\u001b[39m):\n\u001b[1;32m--> 700\u001b[0m     trading_fee_info \u001b[39m=\u001b[39m \u001b[39mself\u001b[39;49m\u001b[39m.\u001b[39;49mget_trading_fee_info()\n\u001b[0;32m    701\u001b[0m     \u001b[39mself\u001b[39m\u001b[39m.\u001b[39mmarket_fee_pct \u001b[39m=\u001b[39m \u001b[39mfloat\u001b[39m(trading_fee_info[\u001b[39m\"\u001b[39m\u001b[39mtakerFeeRate\u001b[39m\u001b[39m\"\u001b[39m])\n\u001b[0;32m    702\u001b[0m     \u001b[39mself\u001b[39m\u001b[39m.\u001b[39mlimit_fee_pct \u001b[39m=\u001b[39m \u001b[39mfloat\u001b[39m(trading_fee_info[\u001b[39m\"\u001b[39m\u001b[39mmakerFeeRate\u001b[39m\u001b[39m\"\u001b[39m])\n",
      "\u001b[1;31mAttributeError\u001b[0m: 'Mufex' object has no attribute 'get_trading_fee_info'"
     ]
    }
   ],
   "source": [
    "from my_stuff import MufexTestKeys\n",
    "from quantfreedom.enums import LongOrShortType\n",
    "from quantfreedom.exchanges.mufex_exchange.mufex import Mufex\n",
    "\n",
    "\n",
    "mufex_test = Mufex(\n",
    "    api_key=MufexTestKeys.api_key,\n",
    "    secret_key=MufexTestKeys.secret,\n",
    "    use_test_net=True,\n",
    "    symbol=\"BTCUSDT\",\n",
    "    timeframe=\"5m\",\n",
    "    long_or_short=LongOrShortType.Long,\n",
    ")\n",
    "%load_ext autoreload\n",
    "%autoreload 2\n"
   ]
  },
  {
   "cell_type": "code",
   "execution_count": null,
   "metadata": {},
   "outputs": [],
   "source": [
    "mufex_test.get_wallet_info()"
   ]
  },
  {
   "cell_type": "code",
   "execution_count": null,
   "metadata": {},
   "outputs": [],
   "source": [
    "mufex_test.create_long_entry_market_order(\n",
    "    asset_amount=.001,\n",
    ")"
   ]
  },
  {
   "cell_type": "code",
   "execution_count": null,
   "metadata": {},
   "outputs": [],
   "source": [
    "market_order_id_2 = mufex_test.create_long_entry_market_order(\n",
    "    asset_amount=0.001,\n",
    ")"
   ]
  },
  {
   "cell_type": "code",
   "execution_count": null,
   "metadata": {},
   "outputs": [],
   "source": [
    "sl_order_id = mufex_test.create_long_sl_order(\n",
    "    asset_amount=0.001,\n",
    "    trigger_price=26400,\n",
    ")"
   ]
  },
  {
   "cell_type": "code",
   "execution_count": null,
   "metadata": {},
   "outputs": [],
   "source": [
    "sl_order_id2 = mufex_test.create_long_sl_order(\n",
    "    asset_amount=0.005,\n",
    "    trigger_price=26400,\n",
    ")"
   ]
  },
  {
   "cell_type": "code",
   "execution_count": null,
   "metadata": {},
   "outputs": [],
   "source": [
    "tp_order_id = mufex_test.create_long_tp_limit_order(\n",
    "    asset_amount=0.006,\n",
    "    tp_price=28000,\n",
    ")"
   ]
  },
  {
   "cell_type": "code",
   "execution_count": null,
   "metadata": {},
   "outputs": [],
   "source": [
    "tp_order_id2 = mufex_test.create_long_tp_limit_order(\n",
    "    asset_amount=0.01,\n",
    "    tp_price=28000,\n",
    ")"
   ]
  },
  {
   "cell_type": "code",
   "execution_count": 14,
   "metadata": {},
   "outputs": [
    {
     "ename": "TypeError",
     "evalue": "'Response' object is not subscriptable",
     "output_type": "error",
     "traceback": [
      "\u001b[1;31m---------------------------------------------------------------------------\u001b[0m",
      "\u001b[1;31mTypeError\u001b[0m                                 Traceback (most recent call last)",
      "\u001b[1;32me:\\Coding\\backtesters\\QuantFreedom\\quantfreedom\\exchanges\\ztest_mufex_mine.ipynb Cell 9\u001b[0m line \u001b[0;36m1\n\u001b[1;32m----> <a href='vscode-notebook-cell:/e%3A/Coding/backtesters/QuantFreedom/quantfreedom/exchanges/ztest_mufex_mine.ipynb#X14sZmlsZQ%3D%3D?line=0'>1</a>\u001b[0m mufex_test\u001b[39m.\u001b[39;49mget_wallet_info_all_coins()\n",
      "File \u001b[1;32me:\\coding\\backtesters\\quantfreedom\\quantfreedom\\exchanges\\mufex.py:676\u001b[0m, in \u001b[0;36mMufex.get_wallet_info_all_coins\u001b[1;34m(self)\u001b[0m\n\u001b[0;32m    674\u001b[0m url \u001b[39m=\u001b[39m \u001b[39m\"\u001b[39m\u001b[39mhttps://api.mufex.finance/private/v1/account/balance\u001b[39m\u001b[39m\"\u001b[39m\n\u001b[0;32m    675\u001b[0m \u001b[39mtry\u001b[39;00m:\n\u001b[1;32m--> 676\u001b[0m     coin_info \u001b[39m=\u001b[39m get(url)[\u001b[39m\"\u001b[39;49m\u001b[39mdata\u001b[39;49m\u001b[39m\"\u001b[39;49m][\u001b[39m\"\u001b[39m\u001b[39mlist\u001b[39m\u001b[39m\"\u001b[39m]\n\u001b[0;32m    677\u001b[0m     \u001b[39mif\u001b[39;00m coin_info:\n\u001b[0;32m    678\u001b[0m         \u001b[39mreturn\u001b[39;00m coin_info\n",
      "\u001b[1;31mTypeError\u001b[0m: 'Response' object is not subscriptable"
     ]
    }
   ],
   "source": [
    "mufex_test.get_wallet_info_all_coins()"
   ]
  },
  {
   "cell_type": "code",
   "execution_count": null,
   "metadata": {},
   "outputs": [],
   "source": [
    "mufex_test.adjust_order(order_id=sl_order_id2, new_price=26800)"
   ]
  },
  {
   "cell_type": "code",
   "execution_count": null,
   "metadata": {},
   "outputs": [],
   "source": [
    "mufex_test.get_order_history(order_id=sl_order_id2)"
   ]
  },
  {
   "cell_type": "code",
   "execution_count": null,
   "metadata": {},
   "outputs": [],
   "source": [
    "mufex_test.get_filled_order_info(order_id=sl_order_id2)"
   ]
  }
 ],
 "metadata": {
  "kernelspec": {
   "display_name": "qfFree",
   "language": "python",
   "name": "python3"
  },
  "language_info": {
   "codemirror_mode": {
    "name": "ipython",
    "version": 3
   },
   "file_extension": ".py",
   "mimetype": "text/x-python",
   "name": "python",
   "nbconvert_exporter": "python",
   "pygments_lexer": "ipython3",
   "version": "3.10.10"
  },
  "orig_nbformat": 4
 },
 "nbformat": 4,
 "nbformat_minor": 2
}
