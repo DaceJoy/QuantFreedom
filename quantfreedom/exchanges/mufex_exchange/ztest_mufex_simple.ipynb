{
 "cells": [
  {
   "cell_type": "code",
   "execution_count": 20,
   "metadata": {},
   "outputs": [
    {
     "name": "stdout",
     "output_type": "stream",
     "text": [
      "The autoreload extension is already loaded. To reload it, use:\n",
      "  %reload_ext autoreload\n"
     ]
    }
   ],
   "source": [
    "import hashlib\n",
    "import hmac\n",
    "import json\n",
    "from time import time\n",
    "from requests import post\n",
    "from my_stuff import MufexKeys, MufexTestKeys\n",
    "\n",
    "\n",
    "class Mufex:\n",
    "    def __init__(self, symbol, api_key, secret_key, use_test_net: bool = False) -> None:\n",
    "        if use_test_net:\n",
    "            self.url_start = \"https://api.testnet.mufex.finance\"\n",
    "        else:\n",
    "            self.url_start = \"https://api.mufex.finance\"\n",
    "        self.symbol = symbol\n",
    "        self.api_key = api_key\n",
    "        self.secret_key = secret_key\n",
    "\n",
    "    def __HTTP_post_request(self, end_point, params):\n",
    "        time_stamp = str(int(time() * 1000))\n",
    "        params_as_string = self.__params_as_string(params=params)\n",
    "        signature = self.__genSignature(time_stamp=time_stamp, paras_as_string=params_as_string)\n",
    "        headers = {\n",
    "            \"MF-ACCESS-API-KEY\": self.api_key,\n",
    "            \"MF-ACCESS-SIGN\": signature,\n",
    "            \"MF-ACCESS-SIGN-TYPE\": \"2\",\n",
    "            \"MF-ACCESS-TIMESTAMP\": time_stamp,\n",
    "            \"MF-ACCESS-RECV-WINDOW\": \"5000\",\n",
    "            \"Content-Type\": \"application/json\",\n",
    "        }\n",
    "        response = post(\n",
    "            url=self.url_start + end_point,\n",
    "            headers=headers,\n",
    "            data=params_as_string,\n",
    "        )\n",
    "        try:\n",
    "            response_json = response.json()\n",
    "            if response_json[\"message\"] != \"OK\":\n",
    "                raise KeyError(f' -> {response_json[\"message\"]}')\n",
    "        except KeyError as e:\n",
    "            raise KeyError(f\"{e}\")\n",
    "        return response_json\n",
    "\n",
    "    def __params_as_string(self, params):\n",
    "        params_as_string = str(json.dumps(params))\n",
    "        return params_as_string\n",
    "\n",
    "    def __genSignature(self, time_stamp, paras_as_string):\n",
    "        param_str = time_stamp + self.api_key + \"5000\" + paras_as_string\n",
    "        hash = hmac.new(bytes(self.secret_key, \"utf-8\"), param_str.encode(\"utf-8\"), hashlib.sha256)\n",
    "        return hash.hexdigest()\n",
    "\n",
    "    def set_position_mode(self, mode):\n",
    "        \"\"\"\n",
    "        https://www.mufex.finance/apidocs/derivatives/contract/index.html?console#t-dv_switchpositionmode\n",
    "        Position mode. 0: One-Way mode. 3: Hedge mode\n",
    "        \"\"\"\n",
    "        end_point = \"/private/v1/account/set-position-mode\"\n",
    "        params = {\n",
    "            \"symbol\": self.symbol,\n",
    "            \"mode\": mode,\n",
    "        }\n",
    "        try:\n",
    "            self.__HTTP_post_request(end_point=end_point, params=params)\n",
    "        except KeyError as e:\n",
    "            raise KeyError(f\"Something is wrong setting postiion mode {e}\")\n",
    "    \n",
    "    def create_order(\n",
    "        self,\n",
    "        params: dict,\n",
    "        **vargs,\n",
    "    ):\n",
    "        \"\"\"\n",
    "        https://www.mufex.finance/apidocs/derivatives/contract/index.html#t-dv_placeorder\n",
    "        \"\"\"\n",
    "        end_point = \"/private/v1/trade/create\"\n",
    "\n",
    "        try:\n",
    "            order_info = self.__HTTP_post_request(end_point=end_point, params=params)[\"data\"]\n",
    "            orderId = order_info[\"orderId\"]\n",
    "        except KeyError as e:\n",
    "            raise KeyError(f\"Something is wrong setting the limit entry order {e}\")\n",
    "        return orderId\n",
    "\n",
    "    def create_long_entry_market_order(\n",
    "        self,\n",
    "        asset_amount: float,\n",
    "        entry_client_id: str,\n",
    "        time_in_force: str = \"GoodTillCancel\",\n",
    "        **vargs,\n",
    "    ):\n",
    "        params = {\n",
    "            \"symbol\": self.symbol,\n",
    "            \"positionIdx\": 1,\n",
    "            \"side\": \"Buy\",\n",
    "            \"orderType\": \"Market\",\n",
    "            \"qty\": str(asset_amount),\n",
    "            \"timeInForce\": time_in_force,\n",
    "            \"orderLinkId\": entry_client_id,\n",
    "        }\n",
    "        self.create_order(params=params)\n",
    "    def create_long_entry_limit_order(\n",
    "        self,\n",
    "        asset_amount: float,\n",
    "        entry_price: float,\n",
    "        entry_client_id: str,\n",
    "        time_in_force: str = \"PostOnly\",\n",
    "        **vargs,\n",
    "    ):\n",
    "        params = {\n",
    "            \"symbol\": self.symbol,\n",
    "            \"positionIdx\": 1,\n",
    "            \"side\": \"Buy\",\n",
    "            \"orderType\": \"Limit\",\n",
    "            \"qty\": str(asset_amount),\n",
    "            \"price\": str(entry_price),\n",
    "            \"timeInForce\": time_in_force,\n",
    "            \"orderLinkId\": entry_client_id,\n",
    "        }\n",
    "        self.create_order(params=params)\n",
    "mufex_main = Mufex(\n",
    "    api_key=MufexKeys.api_key,\n",
    "    secret_key=MufexKeys.secret,\n",
    "    symbol=\"BTCUSDT\",\n",
    ")\n",
    "mufex_test = Mufex(\n",
    "    api_key=MufexTestKeys.api_key,\n",
    "    secret_key=MufexTestKeys.secret,\n",
    "    symbol=\"BTCUSDT\",\n",
    "    use_test_net=True\n",
    ")\n",
    "%load_ext autoreload\n",
    "%autoreload 2"
   ]
  },
  {
   "cell_type": "code",
   "execution_count": 21,
   "metadata": {},
   "outputs": [
    {
     "ename": "KeyError",
     "evalue": "'Something is wrong setting postiion mode \"\\' -> position mode not modified\\'\"'",
     "output_type": "error",
     "traceback": [
      "\u001b[1;31m---------------------------------------------------------------------------\u001b[0m",
      "\u001b[1;31mKeyError\u001b[0m                                  Traceback (most recent call last)",
      "\u001b[1;32me:\\Coding\\backtesters\\QuantFreedom\\quantfreedom\\exchanges\\ztest_mufex_simple.ipynb Cell 2\u001b[0m line \u001b[0;36m3\n\u001b[0;32m     <a href='vscode-notebook-cell:/e%3A/Coding/backtesters/QuantFreedom/quantfreedom/exchanges/ztest_mufex_simple.ipynb#W2sZmlsZQ%3D%3D?line=37'>38</a>\u001b[0m     \u001b[39mif\u001b[39;00m response_json[\u001b[39m\"\u001b[39m\u001b[39mmessage\u001b[39m\u001b[39m\"\u001b[39m] \u001b[39m!=\u001b[39m \u001b[39m\"\u001b[39m\u001b[39mOK\u001b[39m\u001b[39m\"\u001b[39m:\n\u001b[1;32m---> <a href='vscode-notebook-cell:/e%3A/Coding/backtesters/QuantFreedom/quantfreedom/exchanges/ztest_mufex_simple.ipynb#W2sZmlsZQ%3D%3D?line=38'>39</a>\u001b[0m         \u001b[39mraise\u001b[39;00m \u001b[39mKeyError\u001b[39;00m(\u001b[39mf\u001b[39m\u001b[39m'\u001b[39m\u001b[39m -> \u001b[39m\u001b[39m{\u001b[39;00mresponse_json[\u001b[39m\"\u001b[39m\u001b[39mmessage\u001b[39m\u001b[39m\"\u001b[39m]\u001b[39m}\u001b[39;00m\u001b[39m'\u001b[39m)\n\u001b[0;32m     <a href='vscode-notebook-cell:/e%3A/Coding/backtesters/QuantFreedom/quantfreedom/exchanges/ztest_mufex_simple.ipynb#W2sZmlsZQ%3D%3D?line=39'>40</a>\u001b[0m \u001b[39mexcept\u001b[39;00m \u001b[39mKeyError\u001b[39;00m \u001b[39mas\u001b[39;00m e:\n",
      "\u001b[1;31mKeyError\u001b[0m: ' -> position mode not modified'",
      "\nDuring handling of the above exception, another exception occurred:\n",
      "\u001b[1;31mKeyError\u001b[0m                                  Traceback (most recent call last)",
      "\u001b[1;32me:\\Coding\\backtesters\\QuantFreedom\\quantfreedom\\exchanges\\ztest_mufex_simple.ipynb Cell 2\u001b[0m line \u001b[0;36m6\n\u001b[0;32m     <a href='vscode-notebook-cell:/e%3A/Coding/backtesters/QuantFreedom/quantfreedom/exchanges/ztest_mufex_simple.ipynb#W2sZmlsZQ%3D%3D?line=62'>63</a>\u001b[0m \u001b[39mtry\u001b[39;00m:\n\u001b[1;32m---> <a href='vscode-notebook-cell:/e%3A/Coding/backtesters/QuantFreedom/quantfreedom/exchanges/ztest_mufex_simple.ipynb#W2sZmlsZQ%3D%3D?line=63'>64</a>\u001b[0m     \u001b[39mself\u001b[39;49m\u001b[39m.\u001b[39;49m__HTTP_post_request(end_point\u001b[39m=\u001b[39;49mend_point, params\u001b[39m=\u001b[39;49mparams)\n\u001b[0;32m     <a href='vscode-notebook-cell:/e%3A/Coding/backtesters/QuantFreedom/quantfreedom/exchanges/ztest_mufex_simple.ipynb#W2sZmlsZQ%3D%3D?line=64'>65</a>\u001b[0m \u001b[39mexcept\u001b[39;00m \u001b[39mKeyError\u001b[39;00m \u001b[39mas\u001b[39;00m e:\n",
      "\u001b[1;32me:\\Coding\\backtesters\\QuantFreedom\\quantfreedom\\exchanges\\ztest_mufex_simple.ipynb Cell 2\u001b[0m line \u001b[0;36m4\n\u001b[0;32m     <a href='vscode-notebook-cell:/e%3A/Coding/backtesters/QuantFreedom/quantfreedom/exchanges/ztest_mufex_simple.ipynb#W2sZmlsZQ%3D%3D?line=39'>40</a>\u001b[0m \u001b[39mexcept\u001b[39;00m \u001b[39mKeyError\u001b[39;00m \u001b[39mas\u001b[39;00m e:\n\u001b[1;32m---> <a href='vscode-notebook-cell:/e%3A/Coding/backtesters/QuantFreedom/quantfreedom/exchanges/ztest_mufex_simple.ipynb#W2sZmlsZQ%3D%3D?line=40'>41</a>\u001b[0m     \u001b[39mraise\u001b[39;00m \u001b[39mKeyError\u001b[39;00m(\u001b[39mf\u001b[39m\u001b[39m\"\u001b[39m\u001b[39m{\u001b[39;00me\u001b[39m}\u001b[39;00m\u001b[39m\"\u001b[39m)\n\u001b[0;32m     <a href='vscode-notebook-cell:/e%3A/Coding/backtesters/QuantFreedom/quantfreedom/exchanges/ztest_mufex_simple.ipynb#W2sZmlsZQ%3D%3D?line=41'>42</a>\u001b[0m \u001b[39mreturn\u001b[39;00m response_json\n",
      "\u001b[1;31mKeyError\u001b[0m: \"' -> position mode not modified'\"",
      "\nDuring handling of the above exception, another exception occurred:\n",
      "\u001b[1;31mKeyError\u001b[0m                                  Traceback (most recent call last)",
      "\u001b[1;32me:\\Coding\\backtesters\\QuantFreedom\\quantfreedom\\exchanges\\ztest_mufex_simple.ipynb Cell 2\u001b[0m line \u001b[0;36m1\n\u001b[1;32m----> <a href='vscode-notebook-cell:/e%3A/Coding/backtesters/QuantFreedom/quantfreedom/exchanges/ztest_mufex_simple.ipynb#W2sZmlsZQ%3D%3D?line=0'>1</a>\u001b[0m mufex_main\u001b[39m.\u001b[39;49mset_position_mode(mode\u001b[39m=\u001b[39;49m\u001b[39m3\u001b[39;49m)\n",
      "\u001b[1;32me:\\Coding\\backtesters\\QuantFreedom\\quantfreedom\\exchanges\\ztest_mufex_simple.ipynb Cell 2\u001b[0m line \u001b[0;36m6\n\u001b[0;32m     <a href='vscode-notebook-cell:/e%3A/Coding/backtesters/QuantFreedom/quantfreedom/exchanges/ztest_mufex_simple.ipynb#W2sZmlsZQ%3D%3D?line=63'>64</a>\u001b[0m     \u001b[39mself\u001b[39m\u001b[39m.\u001b[39m__HTTP_post_request(end_point\u001b[39m=\u001b[39mend_point, params\u001b[39m=\u001b[39mparams)\n\u001b[0;32m     <a href='vscode-notebook-cell:/e%3A/Coding/backtesters/QuantFreedom/quantfreedom/exchanges/ztest_mufex_simple.ipynb#W2sZmlsZQ%3D%3D?line=64'>65</a>\u001b[0m \u001b[39mexcept\u001b[39;00m \u001b[39mKeyError\u001b[39;00m \u001b[39mas\u001b[39;00m e:\n\u001b[1;32m---> <a href='vscode-notebook-cell:/e%3A/Coding/backtesters/QuantFreedom/quantfreedom/exchanges/ztest_mufex_simple.ipynb#W2sZmlsZQ%3D%3D?line=65'>66</a>\u001b[0m     \u001b[39mraise\u001b[39;00m \u001b[39mKeyError\u001b[39;00m(\u001b[39mf\u001b[39m\u001b[39m\"\u001b[39m\u001b[39mSomething is wrong setting postiion mode \u001b[39m\u001b[39m{\u001b[39;00me\u001b[39m}\u001b[39;00m\u001b[39m\"\u001b[39m)\n",
      "\u001b[1;31mKeyError\u001b[0m: 'Something is wrong setting postiion mode \"\\' -> position mode not modified\\'\"'"
     ]
    }
   ],
   "source": [
    "mufex_main.set_position_mode(mode=3)"
   ]
  },
  {
   "cell_type": "code",
   "execution_count": 26,
   "metadata": {},
   "outputs": [
    {
     "ename": "KeyError",
     "evalue": "'Something is wrong setting postiion mode \"\\' -> position mode not modified\\'\"'",
     "output_type": "error",
     "traceback": [
      "\u001b[1;31m---------------------------------------------------------------------------\u001b[0m",
      "\u001b[1;31mKeyError\u001b[0m                                  Traceback (most recent call last)",
      "\u001b[1;32me:\\Coding\\backtesters\\QuantFreedom\\quantfreedom\\exchanges\\ztest_mufex_simple.ipynb Cell 3\u001b[0m line \u001b[0;36m3\n\u001b[0;32m     <a href='vscode-notebook-cell:/e%3A/Coding/backtesters/QuantFreedom/quantfreedom/exchanges/ztest_mufex_simple.ipynb#W3sZmlsZQ%3D%3D?line=37'>38</a>\u001b[0m     \u001b[39mif\u001b[39;00m response_json[\u001b[39m\"\u001b[39m\u001b[39mmessage\u001b[39m\u001b[39m\"\u001b[39m] \u001b[39m!=\u001b[39m \u001b[39m\"\u001b[39m\u001b[39mOK\u001b[39m\u001b[39m\"\u001b[39m:\n\u001b[1;32m---> <a href='vscode-notebook-cell:/e%3A/Coding/backtesters/QuantFreedom/quantfreedom/exchanges/ztest_mufex_simple.ipynb#W3sZmlsZQ%3D%3D?line=38'>39</a>\u001b[0m         \u001b[39mraise\u001b[39;00m \u001b[39mKeyError\u001b[39;00m(\u001b[39mf\u001b[39m\u001b[39m'\u001b[39m\u001b[39m -> \u001b[39m\u001b[39m{\u001b[39;00mresponse_json[\u001b[39m\"\u001b[39m\u001b[39mmessage\u001b[39m\u001b[39m\"\u001b[39m]\u001b[39m}\u001b[39;00m\u001b[39m'\u001b[39m)\n\u001b[0;32m     <a href='vscode-notebook-cell:/e%3A/Coding/backtesters/QuantFreedom/quantfreedom/exchanges/ztest_mufex_simple.ipynb#W3sZmlsZQ%3D%3D?line=39'>40</a>\u001b[0m \u001b[39mexcept\u001b[39;00m \u001b[39mKeyError\u001b[39;00m \u001b[39mas\u001b[39;00m e:\n",
      "\u001b[1;31mKeyError\u001b[0m: ' -> position mode not modified'",
      "\nDuring handling of the above exception, another exception occurred:\n",
      "\u001b[1;31mKeyError\u001b[0m                                  Traceback (most recent call last)",
      "\u001b[1;32me:\\Coding\\backtesters\\QuantFreedom\\quantfreedom\\exchanges\\ztest_mufex_simple.ipynb Cell 3\u001b[0m line \u001b[0;36m6\n\u001b[0;32m     <a href='vscode-notebook-cell:/e%3A/Coding/backtesters/QuantFreedom/quantfreedom/exchanges/ztest_mufex_simple.ipynb#W3sZmlsZQ%3D%3D?line=62'>63</a>\u001b[0m \u001b[39mtry\u001b[39;00m:\n\u001b[1;32m---> <a href='vscode-notebook-cell:/e%3A/Coding/backtesters/QuantFreedom/quantfreedom/exchanges/ztest_mufex_simple.ipynb#W3sZmlsZQ%3D%3D?line=63'>64</a>\u001b[0m     \u001b[39mself\u001b[39;49m\u001b[39m.\u001b[39;49m__HTTP_post_request(end_point\u001b[39m=\u001b[39;49mend_point, params\u001b[39m=\u001b[39;49mparams)\n\u001b[0;32m     <a href='vscode-notebook-cell:/e%3A/Coding/backtesters/QuantFreedom/quantfreedom/exchanges/ztest_mufex_simple.ipynb#W3sZmlsZQ%3D%3D?line=64'>65</a>\u001b[0m \u001b[39mexcept\u001b[39;00m \u001b[39mKeyError\u001b[39;00m \u001b[39mas\u001b[39;00m e:\n",
      "\u001b[1;32me:\\Coding\\backtesters\\QuantFreedom\\quantfreedom\\exchanges\\ztest_mufex_simple.ipynb Cell 3\u001b[0m line \u001b[0;36m4\n\u001b[0;32m     <a href='vscode-notebook-cell:/e%3A/Coding/backtesters/QuantFreedom/quantfreedom/exchanges/ztest_mufex_simple.ipynb#W3sZmlsZQ%3D%3D?line=39'>40</a>\u001b[0m \u001b[39mexcept\u001b[39;00m \u001b[39mKeyError\u001b[39;00m \u001b[39mas\u001b[39;00m e:\n\u001b[1;32m---> <a href='vscode-notebook-cell:/e%3A/Coding/backtesters/QuantFreedom/quantfreedom/exchanges/ztest_mufex_simple.ipynb#W3sZmlsZQ%3D%3D?line=40'>41</a>\u001b[0m     \u001b[39mraise\u001b[39;00m \u001b[39mKeyError\u001b[39;00m(\u001b[39mf\u001b[39m\u001b[39m\"\u001b[39m\u001b[39m{\u001b[39;00me\u001b[39m}\u001b[39;00m\u001b[39m\"\u001b[39m)\n\u001b[0;32m     <a href='vscode-notebook-cell:/e%3A/Coding/backtesters/QuantFreedom/quantfreedom/exchanges/ztest_mufex_simple.ipynb#W3sZmlsZQ%3D%3D?line=41'>42</a>\u001b[0m \u001b[39mreturn\u001b[39;00m response_json\n",
      "\u001b[1;31mKeyError\u001b[0m: \"' -> position mode not modified'\"",
      "\nDuring handling of the above exception, another exception occurred:\n",
      "\u001b[1;31mKeyError\u001b[0m                                  Traceback (most recent call last)",
      "\u001b[1;32me:\\Coding\\backtesters\\QuantFreedom\\quantfreedom\\exchanges\\ztest_mufex_simple.ipynb Cell 3\u001b[0m line \u001b[0;36m1\n\u001b[1;32m----> <a href='vscode-notebook-cell:/e%3A/Coding/backtesters/QuantFreedom/quantfreedom/exchanges/ztest_mufex_simple.ipynb#W3sZmlsZQ%3D%3D?line=0'>1</a>\u001b[0m mufex_test\u001b[39m.\u001b[39;49mset_position_mode(mode\u001b[39m=\u001b[39;49m\u001b[39m3\u001b[39;49m)\n",
      "\u001b[1;32me:\\Coding\\backtesters\\QuantFreedom\\quantfreedom\\exchanges\\ztest_mufex_simple.ipynb Cell 3\u001b[0m line \u001b[0;36m6\n\u001b[0;32m     <a href='vscode-notebook-cell:/e%3A/Coding/backtesters/QuantFreedom/quantfreedom/exchanges/ztest_mufex_simple.ipynb#W3sZmlsZQ%3D%3D?line=63'>64</a>\u001b[0m     \u001b[39mself\u001b[39m\u001b[39m.\u001b[39m__HTTP_post_request(end_point\u001b[39m=\u001b[39mend_point, params\u001b[39m=\u001b[39mparams)\n\u001b[0;32m     <a href='vscode-notebook-cell:/e%3A/Coding/backtesters/QuantFreedom/quantfreedom/exchanges/ztest_mufex_simple.ipynb#W3sZmlsZQ%3D%3D?line=64'>65</a>\u001b[0m \u001b[39mexcept\u001b[39;00m \u001b[39mKeyError\u001b[39;00m \u001b[39mas\u001b[39;00m e:\n\u001b[1;32m---> <a href='vscode-notebook-cell:/e%3A/Coding/backtesters/QuantFreedom/quantfreedom/exchanges/ztest_mufex_simple.ipynb#W3sZmlsZQ%3D%3D?line=65'>66</a>\u001b[0m     \u001b[39mraise\u001b[39;00m \u001b[39mKeyError\u001b[39;00m(\u001b[39mf\u001b[39m\u001b[39m\"\u001b[39m\u001b[39mSomething is wrong setting postiion mode \u001b[39m\u001b[39m{\u001b[39;00me\u001b[39m}\u001b[39;00m\u001b[39m\"\u001b[39m)\n",
      "\u001b[1;31mKeyError\u001b[0m: 'Something is wrong setting postiion mode \"\\' -> position mode not modified\\'\"'"
     ]
    }
   ],
   "source": [
    "mufex_test.set_position_mode(mode=3)"
   ]
  },
  {
   "cell_type": "code",
   "execution_count": 24,
   "metadata": {},
   "outputs": [],
   "source": [
    "mufex_test.set_position_mode(mode=0)"
   ]
  },
  {
   "cell_type": "code",
   "execution_count": 15,
   "metadata": {},
   "outputs": [],
   "source": [
    "mufex_test.create_long_entry_market_order(\n",
    "    asset_amount=0.001,\n",
    "    entry_client_id=\"sdfwer43523235253\"\n",
    ")"
   ]
  },
  {
   "cell_type": "code",
   "execution_count": 18,
   "metadata": {},
   "outputs": [],
   "source": [
    "mufex_test.create_long_entry_limit_order(\n",
    "    asset_amount=0.001,\n",
    "    entry_client_id=\"561981651681\",\n",
    "    entry_price=27000,\n",
    ")"
   ]
  },
  {
   "cell_type": "code",
   "execution_count": 19,
   "metadata": {},
   "outputs": [
    {
     "ename": "KeyError",
     "evalue": "'Something is wrong setting the limit entry order \"\\' -> upstream server error\\'\"'",
     "output_type": "error",
     "traceback": [
      "\u001b[1;31m---------------------------------------------------------------------------\u001b[0m",
      "\u001b[1;31mKeyError\u001b[0m                                  Traceback (most recent call last)",
      "\u001b[1;32me:\\Coding\\backtesters\\QuantFreedom\\quantfreedom\\exchanges\\ztest_mufex_simple.ipynb Cell 7\u001b[0m line \u001b[0;36m3\n\u001b[0;32m     <a href='vscode-notebook-cell:/e%3A/Coding/backtesters/QuantFreedom/quantfreedom/exchanges/ztest_mufex_simple.ipynb#X10sZmlsZQ%3D%3D?line=37'>38</a>\u001b[0m     \u001b[39mif\u001b[39;00m response_json[\u001b[39m\"\u001b[39m\u001b[39mmessage\u001b[39m\u001b[39m\"\u001b[39m] \u001b[39m!=\u001b[39m \u001b[39m\"\u001b[39m\u001b[39mOK\u001b[39m\u001b[39m\"\u001b[39m:\n\u001b[1;32m---> <a href='vscode-notebook-cell:/e%3A/Coding/backtesters/QuantFreedom/quantfreedom/exchanges/ztest_mufex_simple.ipynb#X10sZmlsZQ%3D%3D?line=38'>39</a>\u001b[0m         \u001b[39mraise\u001b[39;00m \u001b[39mKeyError\u001b[39;00m(\u001b[39mf\u001b[39m\u001b[39m'\u001b[39m\u001b[39m -> \u001b[39m\u001b[39m{\u001b[39;00mresponse_json[\u001b[39m\"\u001b[39m\u001b[39mmessage\u001b[39m\u001b[39m\"\u001b[39m]\u001b[39m}\u001b[39;00m\u001b[39m'\u001b[39m)\n\u001b[0;32m     <a href='vscode-notebook-cell:/e%3A/Coding/backtesters/QuantFreedom/quantfreedom/exchanges/ztest_mufex_simple.ipynb#X10sZmlsZQ%3D%3D?line=39'>40</a>\u001b[0m \u001b[39mexcept\u001b[39;00m \u001b[39mKeyError\u001b[39;00m \u001b[39mas\u001b[39;00m e:\n",
      "\u001b[1;31mKeyError\u001b[0m: ' -> upstream server error'",
      "\nDuring handling of the above exception, another exception occurred:\n",
      "\u001b[1;31mKeyError\u001b[0m                                  Traceback (most recent call last)",
      "\u001b[1;32me:\\Coding\\backtesters\\QuantFreedom\\quantfreedom\\exchanges\\ztest_mufex_simple.ipynb Cell 7\u001b[0m line \u001b[0;36m7\n\u001b[0;32m     <a href='vscode-notebook-cell:/e%3A/Coding/backtesters/QuantFreedom/quantfreedom/exchanges/ztest_mufex_simple.ipynb#X10sZmlsZQ%3D%3D?line=77'>78</a>\u001b[0m \u001b[39mtry\u001b[39;00m:\n\u001b[1;32m---> <a href='vscode-notebook-cell:/e%3A/Coding/backtesters/QuantFreedom/quantfreedom/exchanges/ztest_mufex_simple.ipynb#X10sZmlsZQ%3D%3D?line=78'>79</a>\u001b[0m     order_info \u001b[39m=\u001b[39m \u001b[39mself\u001b[39;49m\u001b[39m.\u001b[39;49m__HTTP_post_request(end_point\u001b[39m=\u001b[39;49mend_point, params\u001b[39m=\u001b[39;49mparams)[\u001b[39m\"\u001b[39m\u001b[39mdata\u001b[39m\u001b[39m\"\u001b[39m]\n\u001b[0;32m     <a href='vscode-notebook-cell:/e%3A/Coding/backtesters/QuantFreedom/quantfreedom/exchanges/ztest_mufex_simple.ipynb#X10sZmlsZQ%3D%3D?line=79'>80</a>\u001b[0m     orderId \u001b[39m=\u001b[39m order_info[\u001b[39m\"\u001b[39m\u001b[39morderId\u001b[39m\u001b[39m\"\u001b[39m]\n",
      "\u001b[1;32me:\\Coding\\backtesters\\QuantFreedom\\quantfreedom\\exchanges\\ztest_mufex_simple.ipynb Cell 7\u001b[0m line \u001b[0;36m4\n\u001b[0;32m     <a href='vscode-notebook-cell:/e%3A/Coding/backtesters/QuantFreedom/quantfreedom/exchanges/ztest_mufex_simple.ipynb#X10sZmlsZQ%3D%3D?line=39'>40</a>\u001b[0m \u001b[39mexcept\u001b[39;00m \u001b[39mKeyError\u001b[39;00m \u001b[39mas\u001b[39;00m e:\n\u001b[1;32m---> <a href='vscode-notebook-cell:/e%3A/Coding/backtesters/QuantFreedom/quantfreedom/exchanges/ztest_mufex_simple.ipynb#X10sZmlsZQ%3D%3D?line=40'>41</a>\u001b[0m     \u001b[39mraise\u001b[39;00m \u001b[39mKeyError\u001b[39;00m(\u001b[39mf\u001b[39m\u001b[39m\"\u001b[39m\u001b[39m{\u001b[39;00me\u001b[39m}\u001b[39;00m\u001b[39m\"\u001b[39m)\n\u001b[0;32m     <a href='vscode-notebook-cell:/e%3A/Coding/backtesters/QuantFreedom/quantfreedom/exchanges/ztest_mufex_simple.ipynb#X10sZmlsZQ%3D%3D?line=41'>42</a>\u001b[0m \u001b[39mreturn\u001b[39;00m response_json\n",
      "\u001b[1;31mKeyError\u001b[0m: \"' -> upstream server error'\"",
      "\nDuring handling of the above exception, another exception occurred:\n",
      "\u001b[1;31mKeyError\u001b[0m                                  Traceback (most recent call last)",
      "\u001b[1;32me:\\Coding\\backtesters\\QuantFreedom\\quantfreedom\\exchanges\\ztest_mufex_simple.ipynb Cell 7\u001b[0m line \u001b[0;36m1\n\u001b[1;32m----> <a href='vscode-notebook-cell:/e%3A/Coding/backtesters/QuantFreedom/quantfreedom/exchanges/ztest_mufex_simple.ipynb#X10sZmlsZQ%3D%3D?line=0'>1</a>\u001b[0m mufex_main\u001b[39m.\u001b[39;49mcreate_long_entry_limit_order(\n\u001b[0;32m      <a href='vscode-notebook-cell:/e%3A/Coding/backtesters/QuantFreedom/quantfreedom/exchanges/ztest_mufex_simple.ipynb#X10sZmlsZQ%3D%3D?line=1'>2</a>\u001b[0m     asset_amount\u001b[39m=\u001b[39;49m\u001b[39m0.001\u001b[39;49m,\n\u001b[0;32m      <a href='vscode-notebook-cell:/e%3A/Coding/backtesters/QuantFreedom/quantfreedom/exchanges/ztest_mufex_simple.ipynb#X10sZmlsZQ%3D%3D?line=2'>3</a>\u001b[0m     entry_client_id\u001b[39m=\u001b[39;49m\u001b[39m\"\u001b[39;49m\u001b[39m561981651681\u001b[39;49m\u001b[39m\"\u001b[39;49m,\n\u001b[0;32m      <a href='vscode-notebook-cell:/e%3A/Coding/backtesters/QuantFreedom/quantfreedom/exchanges/ztest_mufex_simple.ipynb#X10sZmlsZQ%3D%3D?line=3'>4</a>\u001b[0m     entry_price\u001b[39m=\u001b[39;49m\u001b[39m27000\u001b[39;49m,\n\u001b[0;32m      <a href='vscode-notebook-cell:/e%3A/Coding/backtesters/QuantFreedom/quantfreedom/exchanges/ztest_mufex_simple.ipynb#X10sZmlsZQ%3D%3D?line=4'>5</a>\u001b[0m )\n",
      "\u001b[1;32me:\\Coding\\backtesters\\QuantFreedom\\quantfreedom\\exchanges\\ztest_mufex_simple.ipynb Cell 7\u001b[0m line \u001b[0;36m1\n\u001b[0;32m    <a href='vscode-notebook-cell:/e%3A/Coding/backtesters/QuantFreedom/quantfreedom/exchanges/ztest_mufex_simple.ipynb#X10sZmlsZQ%3D%3D?line=102'>103</a>\u001b[0m \u001b[39mdef\u001b[39;00m \u001b[39mcreate_long_entry_limit_order\u001b[39m(\n\u001b[0;32m    <a href='vscode-notebook-cell:/e%3A/Coding/backtesters/QuantFreedom/quantfreedom/exchanges/ztest_mufex_simple.ipynb#X10sZmlsZQ%3D%3D?line=103'>104</a>\u001b[0m     \u001b[39mself\u001b[39m,\n\u001b[0;32m    <a href='vscode-notebook-cell:/e%3A/Coding/backtesters/QuantFreedom/quantfreedom/exchanges/ztest_mufex_simple.ipynb#X10sZmlsZQ%3D%3D?line=104'>105</a>\u001b[0m     asset_amount: \u001b[39mfloat\u001b[39m,\n\u001b[1;32m   (...)\u001b[0m\n\u001b[0;32m    <a href='vscode-notebook-cell:/e%3A/Coding/backtesters/QuantFreedom/quantfreedom/exchanges/ztest_mufex_simple.ipynb#X10sZmlsZQ%3D%3D?line=108'>109</a>\u001b[0m     \u001b[39m*\u001b[39m\u001b[39m*\u001b[39mvargs,\n\u001b[0;32m    <a href='vscode-notebook-cell:/e%3A/Coding/backtesters/QuantFreedom/quantfreedom/exchanges/ztest_mufex_simple.ipynb#X10sZmlsZQ%3D%3D?line=109'>110</a>\u001b[0m ):\n\u001b[0;32m    <a href='vscode-notebook-cell:/e%3A/Coding/backtesters/QuantFreedom/quantfreedom/exchanges/ztest_mufex_simple.ipynb#X10sZmlsZQ%3D%3D?line=110'>111</a>\u001b[0m     params \u001b[39m=\u001b[39m {\n\u001b[0;32m    <a href='vscode-notebook-cell:/e%3A/Coding/backtesters/QuantFreedom/quantfreedom/exchanges/ztest_mufex_simple.ipynb#X10sZmlsZQ%3D%3D?line=111'>112</a>\u001b[0m         \u001b[39m\"\u001b[39m\u001b[39msymbol\u001b[39m\u001b[39m\"\u001b[39m: \u001b[39mself\u001b[39m\u001b[39m.\u001b[39msymbol,\n\u001b[0;32m    <a href='vscode-notebook-cell:/e%3A/Coding/backtesters/QuantFreedom/quantfreedom/exchanges/ztest_mufex_simple.ipynb#X10sZmlsZQ%3D%3D?line=112'>113</a>\u001b[0m         \u001b[39m\"\u001b[39m\u001b[39mpositionIdx\u001b[39m\u001b[39m\"\u001b[39m: \u001b[39m1\u001b[39m,\n\u001b[1;32m   (...)\u001b[0m\n\u001b[0;32m    <a href='vscode-notebook-cell:/e%3A/Coding/backtesters/QuantFreedom/quantfreedom/exchanges/ztest_mufex_simple.ipynb#X10sZmlsZQ%3D%3D?line=118'>119</a>\u001b[0m         \u001b[39m\"\u001b[39m\u001b[39morderLinkId\u001b[39m\u001b[39m\"\u001b[39m: entry_client_id,\n\u001b[0;32m    <a href='vscode-notebook-cell:/e%3A/Coding/backtesters/QuantFreedom/quantfreedom/exchanges/ztest_mufex_simple.ipynb#X10sZmlsZQ%3D%3D?line=119'>120</a>\u001b[0m     }\n\u001b[1;32m--> <a href='vscode-notebook-cell:/e%3A/Coding/backtesters/QuantFreedom/quantfreedom/exchanges/ztest_mufex_simple.ipynb#X10sZmlsZQ%3D%3D?line=120'>121</a>\u001b[0m     \u001b[39mself\u001b[39;49m\u001b[39m.\u001b[39;49mcreate_order(params\u001b[39m=\u001b[39;49mparams)\n",
      "\u001b[1;32me:\\Coding\\backtesters\\QuantFreedom\\quantfreedom\\exchanges\\ztest_mufex_simple.ipynb Cell 7\u001b[0m line \u001b[0;36m8\n\u001b[0;32m     <a href='vscode-notebook-cell:/e%3A/Coding/backtesters/QuantFreedom/quantfreedom/exchanges/ztest_mufex_simple.ipynb#X10sZmlsZQ%3D%3D?line=79'>80</a>\u001b[0m     orderId \u001b[39m=\u001b[39m order_info[\u001b[39m\"\u001b[39m\u001b[39morderId\u001b[39m\u001b[39m\"\u001b[39m]\n\u001b[0;32m     <a href='vscode-notebook-cell:/e%3A/Coding/backtesters/QuantFreedom/quantfreedom/exchanges/ztest_mufex_simple.ipynb#X10sZmlsZQ%3D%3D?line=80'>81</a>\u001b[0m \u001b[39mexcept\u001b[39;00m \u001b[39mKeyError\u001b[39;00m \u001b[39mas\u001b[39;00m e:\n\u001b[1;32m---> <a href='vscode-notebook-cell:/e%3A/Coding/backtesters/QuantFreedom/quantfreedom/exchanges/ztest_mufex_simple.ipynb#X10sZmlsZQ%3D%3D?line=81'>82</a>\u001b[0m     \u001b[39mraise\u001b[39;00m \u001b[39mKeyError\u001b[39;00m(\u001b[39mf\u001b[39m\u001b[39m\"\u001b[39m\u001b[39mSomething is wrong setting the limit entry order \u001b[39m\u001b[39m{\u001b[39;00me\u001b[39m}\u001b[39;00m\u001b[39m\"\u001b[39m)\n\u001b[0;32m     <a href='vscode-notebook-cell:/e%3A/Coding/backtesters/QuantFreedom/quantfreedom/exchanges/ztest_mufex_simple.ipynb#X10sZmlsZQ%3D%3D?line=82'>83</a>\u001b[0m \u001b[39mreturn\u001b[39;00m orderId\n",
      "\u001b[1;31mKeyError\u001b[0m: 'Something is wrong setting the limit entry order \"\\' -> upstream server error\\'\"'"
     ]
    }
   ],
   "source": [
    "mufex_main.create_long_entry_limit_order(\n",
    "    asset_amount=0.001,\n",
    "    entry_client_id=\"561981651681\",\n",
    "    entry_price=27000,\n",
    ")"
   ]
  }
 ],
 "metadata": {
  "kernelspec": {
   "display_name": "qfFree",
   "language": "python",
   "name": "python3"
  },
  "language_info": {
   "codemirror_mode": {
    "name": "ipython",
    "version": 3
   },
   "file_extension": ".py",
   "mimetype": "text/x-python",
   "name": "python",
   "nbconvert_exporter": "python",
   "pygments_lexer": "ipython3",
   "version": "3.10.10"
  },
  "orig_nbformat": 4
 },
 "nbformat": 4,
 "nbformat_minor": 2
}
