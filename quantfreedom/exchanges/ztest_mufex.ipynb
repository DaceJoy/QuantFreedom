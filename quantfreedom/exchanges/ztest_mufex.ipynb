{
 "cells": [
  {
   "cell_type": "code",
   "execution_count": 5,
   "metadata": {},
   "outputs": [
    {
     "ename": "TypeError",
     "evalue": "can only concatenate str (not \"NoneType\") to str",
     "output_type": "error",
     "traceback": [
      "\u001b[1;31m---------------------------------------------------------------------------\u001b[0m",
      "\u001b[1;31mTypeError\u001b[0m                                 Traceback (most recent call last)",
      "\u001b[1;32me:\\Coding\\backtesters\\QuantFreedom\\quantfreedom\\exchanges\\ztest_mufex.ipynb Cell 1\u001b[0m line \u001b[0;36m1\n\u001b[0;32m      <a href='vscode-notebook-cell:/e%3A/Coding/backtesters/QuantFreedom/quantfreedom/exchanges/ztest_mufex.ipynb#W0sZmlsZQ%3D%3D?line=5'>6</a>\u001b[0m \u001b[39mfrom\u001b[39;00m \u001b[39mquantfreedom\u001b[39;00m\u001b[39m.\u001b[39;00m\u001b[39menums\u001b[39;00m \u001b[39mimport\u001b[39;00m PositionIdxType\n\u001b[0;32m      <a href='vscode-notebook-cell:/e%3A/Coding/backtesters/QuantFreedom/quantfreedom/exchanges/ztest_mufex.ipynb#W0sZmlsZQ%3D%3D?line=6'>7</a>\u001b[0m \u001b[39mfrom\u001b[39;00m \u001b[39mquantfreedom\u001b[39;00m\u001b[39m.\u001b[39;00m\u001b[39mexchanges\u001b[39;00m \u001b[39mimport\u001b[39;00m get_exchange_symbols\n\u001b[1;32m---> <a href='vscode-notebook-cell:/e%3A/Coding/backtesters/QuantFreedom/quantfreedom/exchanges/ztest_mufex.ipynb#W0sZmlsZQ%3D%3D?line=9'>10</a>\u001b[0m mufex \u001b[39m=\u001b[39m Mufex(api_key\u001b[39m=\u001b[39;49mMufexMainNetKeys\u001b[39m.\u001b[39;49mapi_key,\n\u001b[0;32m     <a href='vscode-notebook-cell:/e%3A/Coding/backtesters/QuantFreedom/quantfreedom/exchanges/ztest_mufex.ipynb#W0sZmlsZQ%3D%3D?line=10'>11</a>\u001b[0m               secret_key\u001b[39m=\u001b[39;49mMufexMainNetKeys\u001b[39m.\u001b[39;49msecret)\n\u001b[0;32m     <a href='vscode-notebook-cell:/e%3A/Coding/backtesters/QuantFreedom/quantfreedom/exchanges/ztest_mufex.ipynb#W0sZmlsZQ%3D%3D?line=11'>12</a>\u001b[0m get_ipython()\u001b[39m.\u001b[39mrun_line_magic(\u001b[39m'\u001b[39m\u001b[39mload_ext\u001b[39m\u001b[39m'\u001b[39m, \u001b[39m'\u001b[39m\u001b[39mautoreload\u001b[39m\u001b[39m'\u001b[39m)\n\u001b[0;32m     <a href='vscode-notebook-cell:/e%3A/Coding/backtesters/QuantFreedom/quantfreedom/exchanges/ztest_mufex.ipynb#W0sZmlsZQ%3D%3D?line=12'>13</a>\u001b[0m get_ipython()\u001b[39m.\u001b[39mrun_line_magic(\u001b[39m'\u001b[39m\u001b[39mautoreload\u001b[39m\u001b[39m'\u001b[39m, \u001b[39m'\u001b[39m\u001b[39m2\u001b[39m\u001b[39m'\u001b[39m)\n",
      "File \u001b[1;32me:\\coding\\backtesters\\quantfreedom\\quantfreedom\\exchanges\\mufex.py:40\u001b[0m, in \u001b[0;36mMufex.__init__\u001b[1;34m(self, symbol, category, timeframe, api_key, secret_key, keep_volume_in_candles)\u001b[0m\n\u001b[0;32m     37\u001b[0m \u001b[39mself\u001b[39m\u001b[39m.\u001b[39mvolume_yes_no \u001b[39m=\u001b[39m \u001b[39m-\u001b[39m\u001b[39m2\u001b[39m\n\u001b[0;32m     38\u001b[0m \u001b[39mself\u001b[39m\u001b[39m.\u001b[39murl_start \u001b[39m=\u001b[39m \u001b[39m\"\u001b[39m\u001b[39mhttps://api.mufex.finance\u001b[39m\u001b[39m\"\u001b[39m\n\u001b[1;32m---> 40\u001b[0m \u001b[39mself\u001b[39;49m\u001b[39m.\u001b[39;49m__set_exchange_settings()\n\u001b[0;32m     41\u001b[0m \u001b[39m# self.__set_position_mode(position_mode=position_mode)\u001b[39;00m\n\u001b[0;32m     43\u001b[0m \u001b[39mif\u001b[39;00m keep_volume_in_candles:\n",
      "File \u001b[1;32me:\\coding\\backtesters\\quantfreedom\\quantfreedom\\exchanges\\mufex.py:504\u001b[0m, in \u001b[0;36mMufex.__set_exchange_settings\u001b[1;34m(self)\u001b[0m\n\u001b[0;32m    503\u001b[0m \u001b[39mdef\u001b[39;00m \u001b[39m__set_exchange_settings\u001b[39m(\u001b[39mself\u001b[39m):\n\u001b[1;32m--> 504\u001b[0m     \u001b[39mself\u001b[39;49m\u001b[39m.\u001b[39;49m__set_fee_pcts()\n\u001b[0;32m    505\u001b[0m     \u001b[39mself\u001b[39m\u001b[39m.\u001b[39m__set_mmr_pct()\n\u001b[0;32m    506\u001b[0m     \u001b[39mself\u001b[39m\u001b[39m.\u001b[39m__set_min_max_leverage_and_coin_size()\n",
      "File \u001b[1;32me:\\coding\\backtesters\\quantfreedom\\quantfreedom\\exchanges\\mufex.py:523\u001b[0m, in \u001b[0;36mMufex.__set_fee_pcts\u001b[1;34m(self)\u001b[0m\n\u001b[0;32m    519\u001b[0m params \u001b[39m=\u001b[39m {\n\u001b[0;32m    520\u001b[0m     \u001b[39m\"\u001b[39m\u001b[39msymbol\u001b[39m\u001b[39m\"\u001b[39m: \u001b[39mself\u001b[39m\u001b[39m.\u001b[39msymbol,\n\u001b[0;32m    521\u001b[0m }\n\u001b[0;32m    522\u001b[0m \u001b[39mtry\u001b[39;00m:\n\u001b[1;32m--> 523\u001b[0m     trading_fees \u001b[39m=\u001b[39m \u001b[39mself\u001b[39;49m\u001b[39m.\u001b[39;49m__HTTP_get_request(end_point\u001b[39m=\u001b[39;49mend_point, params\u001b[39m=\u001b[39;49mparams)[\u001b[39m\"\u001b[39m\u001b[39mdata\u001b[39m\u001b[39m\"\u001b[39m][\u001b[39m\"\u001b[39m\u001b[39mlist\u001b[39m\u001b[39m\"\u001b[39m][\u001b[39m0\u001b[39m]\n\u001b[0;32m    524\u001b[0m     \u001b[39mself\u001b[39m\u001b[39m.\u001b[39mmarket_fee_pct \u001b[39m=\u001b[39m \u001b[39mfloat\u001b[39m(trading_fees[\u001b[39m\"\u001b[39m\u001b[39mtakerFeeRate\u001b[39m\u001b[39m\"\u001b[39m])\n\u001b[0;32m    525\u001b[0m     \u001b[39mself\u001b[39m\u001b[39m.\u001b[39mlimit_fee_pct \u001b[39m=\u001b[39m \u001b[39mfloat\u001b[39m(trading_fees[\u001b[39m\"\u001b[39m\u001b[39mmakerFeeRate\u001b[39m\u001b[39m\"\u001b[39m])\n",
      "File \u001b[1;32me:\\coding\\backtesters\\quantfreedom\\quantfreedom\\exchanges\\mufex.py:103\u001b[0m, in \u001b[0;36mMufex.__HTTP_get_request\u001b[1;34m(self, end_point, params)\u001b[0m\n\u001b[0;32m    101\u001b[0m time_stamp \u001b[39m=\u001b[39m \u001b[39mstr\u001b[39m(\u001b[39mint\u001b[39m(time\u001b[39m.\u001b[39mtime() \u001b[39m*\u001b[39m \u001b[39m1000\u001b[39m))\n\u001b[0;32m    102\u001b[0m params_as_path \u001b[39m=\u001b[39m \u001b[39mself\u001b[39m\u001b[39m.\u001b[39m__params_to_path(params\u001b[39m=\u001b[39mparams)\n\u001b[1;32m--> 103\u001b[0m signature \u001b[39m=\u001b[39m \u001b[39mself\u001b[39;49m\u001b[39m.\u001b[39;49m__genSignature(time_stamp\u001b[39m=\u001b[39;49mtime_stamp, paras_as_string\u001b[39m=\u001b[39;49mparams_as_path)\n\u001b[0;32m    104\u001b[0m headers \u001b[39m=\u001b[39m {\n\u001b[0;32m    105\u001b[0m     \u001b[39m\"\u001b[39m\u001b[39mMF-ACCESS-API-KEY\u001b[39m\u001b[39m\"\u001b[39m: \u001b[39mself\u001b[39m\u001b[39m.\u001b[39mapi_key,\n\u001b[0;32m    106\u001b[0m     \u001b[39m\"\u001b[39m\u001b[39mMF-ACCESS-SIGN\u001b[39m\u001b[39m\"\u001b[39m: signature,\n\u001b[1;32m   (...)\u001b[0m\n\u001b[0;32m    110\u001b[0m     \u001b[39m\"\u001b[39m\u001b[39mContent-Type\u001b[39m\u001b[39m\"\u001b[39m: \u001b[39m\"\u001b[39m\u001b[39mapplication/json\u001b[39m\u001b[39m\"\u001b[39m,\n\u001b[0;32m    111\u001b[0m }\n\u001b[0;32m    113\u001b[0m response \u001b[39m=\u001b[39m get(\n\u001b[0;32m    114\u001b[0m     url\u001b[39m=\u001b[39m\u001b[39mself\u001b[39m\u001b[39m.\u001b[39murl_start \u001b[39m+\u001b[39m end_point \u001b[39m+\u001b[39m \u001b[39m\"\u001b[39m\u001b[39m?\u001b[39m\u001b[39m\"\u001b[39m \u001b[39m+\u001b[39m params_as_path,\n\u001b[0;32m    115\u001b[0m     headers\u001b[39m=\u001b[39mheaders,\n\u001b[0;32m    116\u001b[0m )\n",
      "File \u001b[1;32me:\\coding\\backtesters\\quantfreedom\\quantfreedom\\exchanges\\mufex.py:499\u001b[0m, in \u001b[0;36mMufex.__genSignature\u001b[1;34m(self, time_stamp, paras_as_string)\u001b[0m\n\u001b[0;32m    498\u001b[0m \u001b[39mdef\u001b[39;00m \u001b[39m__genSignature\u001b[39m(\u001b[39mself\u001b[39m, time_stamp, paras_as_string):\n\u001b[1;32m--> 499\u001b[0m     param_str \u001b[39m=\u001b[39m time_stamp \u001b[39m+\u001b[39;49m \u001b[39mself\u001b[39;49m\u001b[39m.\u001b[39;49mapi_key \u001b[39m+\u001b[39;49m \u001b[39m\"\u001b[39;49m\u001b[39m5000\u001b[39;49m\u001b[39m\"\u001b[39;49m \u001b[39m+\u001b[39;49m paras_as_string\n\u001b[0;32m    500\u001b[0m     \u001b[39mhash\u001b[39m \u001b[39m=\u001b[39m hmac\u001b[39m.\u001b[39mnew(\u001b[39mbytes\u001b[39m(\u001b[39mself\u001b[39m\u001b[39m.\u001b[39msecret_key, \u001b[39m\"\u001b[39m\u001b[39mutf-8\u001b[39m\u001b[39m\"\u001b[39m), param_str\u001b[39m.\u001b[39mencode(\u001b[39m\"\u001b[39m\u001b[39mutf-8\u001b[39m\u001b[39m\"\u001b[39m), hashlib\u001b[39m.\u001b[39msha256)\n\u001b[0;32m    501\u001b[0m     \u001b[39mreturn\u001b[39;00m \u001b[39mhash\u001b[39m\u001b[39m.\u001b[39mhexdigest()\n",
      "\u001b[1;31mTypeError\u001b[0m: can only concatenate str (not \"NoneType\") to str"
     ]
    }
   ],
   "source": [
    "import uuid\n",
    "import pandas as pd\n",
    "import numpy as np\n",
    "from my_stuff import MufexMainNetKeys\n",
    "from quantfreedom.exchanges.mufex import Mufex\n",
    "from quantfreedom.enums import PositionIdxType\n",
    "from quantfreedom.exchanges import get_exchange_symbols\n",
    "\n",
    "\n",
    "mufex = Mufex(api_key=MufexMainNetKeys.api_key,\n",
    "              secret_key=MufexMainNetKeys.secret)\n",
    "%load_ext autoreload\n",
    "%autoreload 2\n"
   ]
  },
  {
   "cell_type": "code",
   "execution_count": 4,
   "metadata": {},
   "outputs": [
    {
     "data": {
      "text/plain": [
       "['ARBUSDT',\n",
       " 'BCHUSDT',\n",
       " 'BNBUSDT',\n",
       " 'BTCUSDT',\n",
       " 'C1000SHIBUSDT',\n",
       " 'COMPUSDT',\n",
       " 'ETHUSDT',\n",
       " 'LINAUSDT',\n",
       " 'LTCUSDT',\n",
       " 'MATICUSDT',\n",
       " 'MKRUSDT',\n",
       " 'OPUSDT',\n",
       " 'SOLUSDT',\n",
       " 'SUIUSDT',\n",
       " 'WLDUSDT',\n",
       " 'XRPUSDT']"
      ]
     },
     "execution_count": 4,
     "metadata": {},
     "output_type": "execute_result"
    }
   ],
   "source": [
    "get_exchange_symbols('mufex')"
   ]
  }
 ],
 "metadata": {
  "kernelspec": {
   "display_name": "qfFree",
   "language": "python",
   "name": "python3"
  },
  "language_info": {
   "codemirror_mode": {
    "name": "ipython",
    "version": 3
   },
   "file_extension": ".py",
   "mimetype": "text/x-python",
   "name": "python",
   "nbconvert_exporter": "python",
   "pygments_lexer": "ipython3",
   "version": "3.10.10"
  },
  "orig_nbformat": 4
 },
 "nbformat": 4,
 "nbformat_minor": 2
}
