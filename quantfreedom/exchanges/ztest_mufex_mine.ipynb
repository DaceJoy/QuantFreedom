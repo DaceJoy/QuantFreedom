{
 "cells": [
  {
   "cell_type": "code",
   "execution_count": 2,
   "metadata": {},
   "outputs": [],
   "source": [
    "import uuid\n",
    "import pandas as pd\n",
    "import numpy as np\n",
    "from my_stuff import MufexTestKeys, MufexKeys\n",
    "from quantfreedom.exchanges.mufex import Mufex\n",
    "from quantfreedom.enums import LongOrShortType\n",
    "from quantfreedom.exchanges import get_exchange_symbols\n",
    "\n",
    "%load_ext autoreload\n",
    "%autoreload 2\n"
   ]
  },
  {
   "cell_type": "code",
   "execution_count": 18,
   "metadata": {},
   "outputs": [],
   "source": [
    "mufex_test = Mufex(\n",
    "    api_key=MufexTestKeys.api_key,\n",
    "    secret_key=MufexTestKeys.secret,\n",
    "    use_test_net=True,\n",
    "    symbol=\"BTCUSDT\",\n",
    "    timeframe=\"5m\",\n",
    "    long_or_short=LongOrShortType.Long,\n",
    ")"
   ]
  },
  {
   "cell_type": "code",
   "execution_count": 35,
   "metadata": {},
   "outputs": [
    {
     "data": {
      "text/plain": [
       "('072f43de-9e0b-40c2-ba99-382f99dc885c', '7298ee1c7755422592de518293a6ee00')"
      ]
     },
     "execution_count": 35,
     "metadata": {},
     "output_type": "execute_result"
    }
   ],
   "source": [
    "mufex_test.create_long_entry_market_order(\n",
    "    asset_amount=.001,\n",
    ")"
   ]
  },
  {
   "cell_type": "code",
   "execution_count": 50,
   "metadata": {},
   "outputs": [],
   "source": [
    "market_order_id_2, _ = mufex_test.create_long_entry_market_order(\n",
    "    asset_amount=0.001,\n",
    ")"
   ]
  },
  {
   "cell_type": "code",
   "execution_count": 36,
   "metadata": {},
   "outputs": [],
   "source": [
    "sl_order_id, _ = mufex_test.create_long_sl_order(\n",
    "    asset_amount=.001,\n",
    "    trigger_price=26400,\n",
    ")"
   ]
  },
  {
   "cell_type": "code",
   "execution_count": 38,
   "metadata": {},
   "outputs": [],
   "source": [
    "sl_order_id2, _ = mufex_test.create_long_sl_order(\n",
    "    asset_amount=.005,\n",
    "    trigger_price=26400,\n",
    ")"
   ]
  },
  {
   "cell_type": "code",
   "execution_count": 39,
   "metadata": {},
   "outputs": [],
   "source": [
    "tp_order_id, _ = mufex_test.create_long_tp_limit_order(\n",
    "    asset_amount=0.006,\n",
    "    tp_price=28000,\n",
    ")"
   ]
  },
  {
   "cell_type": "code",
   "execution_count": 40,
   "metadata": {},
   "outputs": [],
   "source": [
    "tp_order_id2, _ = mufex_test.create_long_tp_limit_order(\n",
    "    asset_amount=0.01,\n",
    "    tp_price=28000,\n",
    ")"
   ]
  },
  {
   "cell_type": "code",
   "execution_count": 56,
   "metadata": {},
   "outputs": [
    {
     "data": {
      "text/plain": [
       "{'symbol': 'BTCUSDT',\n",
       " 'side': 'Sell',\n",
       " 'orderType': 'Market',\n",
       " 'price': '0.00',\n",
       " 'qty': '0.005',\n",
       " 'reduceOnly': True,\n",
       " 'timeInForce': 'ImmediateOrCancel',\n",
       " 'orderStatus': 'Deactivated',\n",
       " 'leavesQty': '0.000',\n",
       " 'leavesValue': '0',\n",
       " 'cumExecQty': '0.000',\n",
       " 'cumExecValue': '0',\n",
       " 'cumExecFee': '0',\n",
       " 'lastPriceOnCreated': '0.00',\n",
       " 'rejectReason': 'EC_NoError',\n",
       " 'orderLinkId': '',\n",
       " 'createdTime': '0',\n",
       " 'updatedTime': '0',\n",
       " 'orderId': 'b5fc7670-ffb7-4b19-a9b6-ad1e1466fa71',\n",
       " 'stopOrderType': 'Stop',\n",
       " 'takeProfit': '0.00',\n",
       " 'stopLoss': '0.00',\n",
       " 'tpTriggerBy': 'UNKNOWN',\n",
       " 'slTriggerBy': 'UNKNOWN',\n",
       " 'triggerPrice': '0.00',\n",
       " 'closeOnTrigger': False,\n",
       " 'triggerDirection': 0,\n",
       " 'positionIdx': 0,\n",
       " 'triggerBy': 'LastPrice'}"
      ]
     },
     "execution_count": 56,
     "metadata": {},
     "output_type": "execute_result"
    }
   ],
   "source": [
    "mufex_test.get_order_history(order_id=sl_order_id2)"
   ]
  },
  {
   "cell_type": "code",
   "execution_count": 53,
   "metadata": {},
   "outputs": [
    {
     "ename": "IndexError",
     "evalue": "list index out of range",
     "output_type": "error",
     "traceback": [
      "\u001b[1;31m---------------------------------------------------------------------------\u001b[0m",
      "\u001b[1;31mIndexError\u001b[0m                                Traceback (most recent call last)",
      "\u001b[1;32me:\\Coding\\backtesters\\QuantFreedom\\quantfreedom\\exchanges\\ztest_mufex_mine.ipynb Cell 10\u001b[0m line \u001b[0;36m1\n\u001b[1;32m----> <a href='vscode-notebook-cell:/e%3A/Coding/backtesters/QuantFreedom/quantfreedom/exchanges/ztest_mufex_mine.ipynb#X16sZmlsZQ%3D%3D?line=0'>1</a>\u001b[0m mufex_test\u001b[39m.\u001b[39;49mget_filled_order_info(order_id\u001b[39m=\u001b[39;49msl_order_id2)\n",
      "File \u001b[1;32me:\\coding\\backtesters\\quantfreedom\\quantfreedom\\exchanges\\mufex.py:447\u001b[0m, in \u001b[0;36mMufex.get_filled_order_info\u001b[1;34m(self, order_id, **vargs)\u001b[0m\n\u001b[0;32m    445\u001b[0m \u001b[39mtry\u001b[39;00m:\n\u001b[0;32m    446\u001b[0m     data_order_info \u001b[39m=\u001b[39m \u001b[39mself\u001b[39m\u001b[39m.\u001b[39m__HTTP_get_request(end_point\u001b[39m=\u001b[39mend_point, params\u001b[39m=\u001b[39mparams)\n\u001b[1;32m--> 447\u001b[0m     order_info \u001b[39m=\u001b[39m data_order_info[\u001b[39m\"\u001b[39;49m\u001b[39mdata\u001b[39;49m\u001b[39m\"\u001b[39;49m][\u001b[39m\"\u001b[39;49m\u001b[39mlist\u001b[39;49m\u001b[39m\"\u001b[39;49m][\u001b[39mself\u001b[39;49m\u001b[39m.\u001b[39;49mside_num]\n\u001b[0;32m    448\u001b[0m     \u001b[39mif\u001b[39;00m order_info:\n\u001b[0;32m    449\u001b[0m         \u001b[39mreturn\u001b[39;00m order_info\n",
      "\u001b[1;31mIndexError\u001b[0m: list index out of range"
     ]
    }
   ],
   "source": [
    "mufex_test.get_filled_order_info(order_id=sl_order_id2)"
   ]
  }
 ],
 "metadata": {
  "kernelspec": {
   "display_name": "qfFree",
   "language": "python",
   "name": "python3"
  },
  "language_info": {
   "codemirror_mode": {
    "name": "ipython",
    "version": 3
   },
   "file_extension": ".py",
   "mimetype": "text/x-python",
   "name": "python",
   "nbconvert_exporter": "python",
   "pygments_lexer": "ipython3",
   "version": "3.10.10"
  },
  "orig_nbformat": 4
 },
 "nbformat": 4,
 "nbformat_minor": 2
}
