{
 "cells": [
  {
   "cell_type": "code",
   "execution_count": 1,
   "metadata": {},
   "outputs": [],
   "source": [
    "from apexpro.http_private import HttpPrivate\n",
    "\n",
    "from apexpro.constants import APEX_HTTP_MAIN, NETWORKID_MAIN\n",
    "\n",
    "key = \"8e194f64-b9af-3b4b-7435-6ff74441a3cc\"\n",
    "secret = \"iPd6XcS9uXvBT1aVMT6A\"\n",
    "passphrase = \"FuENSoWvu6FFfqEusRGaEJc9vfNS4z4RK7uOoQtx\"\n",
    "\n",
    "client = HttpPrivate(\n",
    "    APEX_HTTP_MAIN,\n",
    "    network_id=NETWORKID_MAIN,\n",
    "    api_key_credentials={\"key\": key, \"secret\": secret, \"passphrase\": passphrase},\n",
    ")\n",
    "configs = client.configs()"
   ]
  },
  {
   "cell_type": "code",
   "execution_count": 8,
   "metadata": {},
   "outputs": [],
   "source": [
    "fillsRes = client.fills(limit=100,page=0,symbol=\"BTC-USDC\",side=\"BUY\")\n",
    "print(fillsRes)"
   ]
  }
 ],
 "metadata": {
  "kernelspec": {
   "display_name": "qfFree",
   "language": "python",
   "name": "python3"
  },
  "language_info": {
   "codemirror_mode": {
    "name": "ipython",
    "version": 3
   },
   "file_extension": ".py",
   "mimetype": "text/x-python",
   "name": "python",
   "nbconvert_exporter": "python",
   "pygments_lexer": "ipython3",
   "version": "3.10.10"
  },
  "orig_nbformat": 4
 },
 "nbformat": 4,
 "nbformat_minor": 2
}
