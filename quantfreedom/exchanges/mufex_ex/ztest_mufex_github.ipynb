{
 "cells": [
  {
   "cell_type": "code",
   "execution_count": 1,
   "metadata": {},
   "outputs": [],
   "source": [
    "from quantfreedom.exchanges.mufex_ex.mufex_github import HTTP_Request\n",
    "import uuid\n"
   ]
  },
  {
   "cell_type": "code",
   "execution_count": 8,
   "metadata": {},
   "outputs": [
    {
     "name": "stdout",
     "output_type": "stream",
     "text": [
      "{\"code\":0,\"message\":\"OK\",\"data\":{\"orderId\":\"077d7622-59aa-4ff4-b9b4-51256f05fc44\",\"orderLinkId\":\"ec66e44c62e64ebca20ee7d57f2d2b96\"},\"ext_info\":{},\"time\":1696024424841}\n",
      "Create Elapsed Time : 0:00:00.250530\n"
     ]
    }
   ],
   "source": [
    "endpoint=\"/private/v1/trade/create\"\n",
    "method=\"POST\"\n",
    "orderLinkId=uuid.uuid4().hex\n",
    "params='{\"symbol\": \"BTCUSDT\",\"side\": \"Buy\",\"positionIdx\": 0,\"orderType\": \"Limit\",\"qty\": \"0.001\",\"price\": \"26600\",\"timeInForce\": \"GoodTillCancel\",\"orderLinkId\": \"' + orderLinkId + '\"}'\n",
    "HTTP_Request(endpoint,method,params,\"Create\")\n"
   ]
  }
 ],
 "metadata": {
  "kernelspec": {
   "display_name": "qfFree",
   "language": "python",
   "name": "python3"
  },
  "language_info": {
   "codemirror_mode": {
    "name": "ipython",
    "version": 3
   },
   "file_extension": ".py",
   "mimetype": "text/x-python",
   "name": "python",
   "nbconvert_exporter": "python",
   "pygments_lexer": "ipython3",
   "version": "3.10.10"
  },
  "orig_nbformat": 4
 },
 "nbformat": 4,
 "nbformat_minor": 2
}
