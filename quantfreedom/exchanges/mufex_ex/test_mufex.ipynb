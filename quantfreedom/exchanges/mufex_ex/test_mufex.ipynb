{
 "cells": [
  {
   "cell_type": "code",
   "execution_count": null,
   "metadata": {},
   "outputs": [],
   "source": [
    "from quantfreedom.exchanges.mufex_ex.mufex import Mufex\n",
    "from quantfreedom.utils import pretty\n",
    "from requests import get\n",
    "from datetime import datetime, timedelta\n",
    "import pandas as pd\n",
    "import numpy as np\n",
    "from quantfreedom.enums import PositionIdx, PositionMode\n",
    "import uuid\n",
    "import json\n",
    "from quantfreedom.enums import TriggerDirection\n",
    "\n",
    "\n",
    "mufex = Mufex(apikey=\"VwecPk0ZLIyiKpsFWe\",\n",
    "              secret_key=\"WdpfMuGmdhj8OBNEYTlCTmLjtNrNzIYRIslT\")\n",
    "%load_ext autoreload\n",
    "%autoreload 2\n"
   ]
  },
  {
   "cell_type": "code",
   "execution_count": null,
   "metadata": {},
   "outputs": [],
   "source": [
    "tp_orderId, _ = mufex.create_tp_limit_order(\n",
    "    side=\"Sell\",\n",
    "    positionIdx=PositionIdx.Buy,\n",
    "    qty=0.001,\n",
    "    price=27250,\n",
    "    orderLinkId=uuid.uuid4().hex,\n",
    ")\n"
   ]
  },
  {
   "cell_type": "code",
   "execution_count": null,
   "metadata": {},
   "outputs": [],
   "source": [
    "sl_orderId, _ = mufex.create_sl_order(\n",
    "    side=\"Sell\",\n",
    "    positionIdx=PositionIdx.Buy,\n",
    "    qty=0.001,\n",
    "    orderLinkId=uuid.uuid4().hex,\n",
    "    triggerDirection=TriggerDirection.Fall,\n",
    "    triggerPrice=26400,\n",
    ")\n"
   ]
  },
  {
   "cell_type": "code",
   "execution_count": 48,
   "metadata": {},
   "outputs": [
    {
     "data": {
      "text/plain": [
       "[{'positionIdx': 1,\n",
       "  'riskId': '1',\n",
       "  'symbol': 'BTCUSDT',\n",
       "  'side': 'Buy',\n",
       "  'size': '0.000',\n",
       "  'positionValue': '0',\n",
       "  'entryPrice': '0',\n",
       "  'tradeMode': 1,\n",
       "  'autoAddMargin': 0,\n",
       "  'leverage': '4.8',\n",
       "  'positionBalance': '0',\n",
       "  'liqPrice': '0.00',\n",
       "  'bustPrice': '0.00',\n",
       "  'takeProfit': '0.00',\n",
       "  'stopLoss': '0.00',\n",
       "  'trailingStop': '0.00',\n",
       "  'unrealisedPnl': '0',\n",
       "  'createdTime': '1696021935271',\n",
       "  'updatedTime': '1696034337976',\n",
       "  'tpSlMode': 'Full',\n",
       "  'riskLimitValue': '100000',\n",
       "  'activePrice': '0.00',\n",
       "  'markPrice': '26904.34',\n",
       "  'cumRealisedPnl': '36.24',\n",
       "  'positionMm': '',\n",
       "  'positionIm': '',\n",
       "  'positionStatus': 'Normal',\n",
       "  'sessionAvgPrice': '0.00'},\n",
       " {'positionIdx': 2,\n",
       "  'riskId': '1',\n",
       "  'symbol': 'BTCUSDT',\n",
       "  'side': 'Sell',\n",
       "  'size': '0.000',\n",
       "  'positionValue': '0',\n",
       "  'entryPrice': '0',\n",
       "  'tradeMode': 1,\n",
       "  'autoAddMargin': 0,\n",
       "  'leverage': '6',\n",
       "  'positionBalance': '0',\n",
       "  'liqPrice': '0.00',\n",
       "  'bustPrice': '0.00',\n",
       "  'takeProfit': '0.00',\n",
       "  'stopLoss': '0.00',\n",
       "  'trailingStop': '0.00',\n",
       "  'unrealisedPnl': '0',\n",
       "  'createdTime': '1696021935271',\n",
       "  'updatedTime': '1696034337976',\n",
       "  'tpSlMode': 'Full',\n",
       "  'riskLimitValue': '100000',\n",
       "  'activePrice': '0.00',\n",
       "  'markPrice': '26904.34',\n",
       "  'cumRealisedPnl': '0.00',\n",
       "  'positionMm': '',\n",
       "  'positionIm': '',\n",
       "  'positionStatus': 'Normal',\n",
       "  'sessionAvgPrice': '0.00'}]"
      ]
     },
     "execution_count": 48,
     "metadata": {},
     "output_type": "execute_result"
    }
   ],
   "source": [
    "mufex.get_position_info()"
   ]
  }
 ],
 "metadata": {
  "kernelspec": {
   "display_name": "qfFree",
   "language": "python",
   "name": "python3"
  },
  "language_info": {
   "codemirror_mode": {
    "name": "ipython",
    "version": 3
   },
   "file_extension": ".py",
   "mimetype": "text/x-python",
   "name": "python",
   "nbconvert_exporter": "python",
   "pygments_lexer": "ipython3",
   "version": "3.10.10"
  },
  "orig_nbformat": 4
 },
 "nbformat": 4,
 "nbformat_minor": 2
}
