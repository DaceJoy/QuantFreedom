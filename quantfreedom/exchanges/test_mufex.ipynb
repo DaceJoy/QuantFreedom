{
 "cells": [
  {
   "cell_type": "code",
   "execution_count": 4,
   "metadata": {},
   "outputs": [
    {
     "ename": "AttributeError",
     "evalue": "'Mufex' object has no attribute 'secret_key'",
     "output_type": "error",
     "traceback": [
      "\u001b[1;31m---------------------------------------------------------------------------\u001b[0m",
      "\u001b[1;31mAttributeError\u001b[0m                            Traceback (most recent call last)",
      "\u001b[1;32me:\\Coding\\backtesters\\QuantFreedom\\quantfreedom\\exchanges\\test_mufex.ipynb Cell 1\u001b[0m line \u001b[0;36m8\n\u001b[0;32m      <a href='vscode-notebook-cell:/e%3A/Coding/backtesters/QuantFreedom/quantfreedom/exchanges/test_mufex.ipynb#X24sZmlsZQ%3D%3D?line=4'>5</a>\u001b[0m \u001b[39mimport\u001b[39;00m \u001b[39mpandas\u001b[39;00m \u001b[39mas\u001b[39;00m \u001b[39mpd\u001b[39;00m\n\u001b[0;32m      <a href='vscode-notebook-cell:/e%3A/Coding/backtesters/QuantFreedom/quantfreedom/exchanges/test_mufex.ipynb#X24sZmlsZQ%3D%3D?line=5'>6</a>\u001b[0m \u001b[39mimport\u001b[39;00m \u001b[39mnumpy\u001b[39;00m \u001b[39mas\u001b[39;00m \u001b[39mnp\u001b[39;00m\n\u001b[1;32m----> <a href='vscode-notebook-cell:/e%3A/Coding/backtesters/QuantFreedom/quantfreedom/exchanges/test_mufex.ipynb#X24sZmlsZQ%3D%3D?line=7'>8</a>\u001b[0m mufex \u001b[39m=\u001b[39m Mufex()\n\u001b[0;32m      <a href='vscode-notebook-cell:/e%3A/Coding/backtesters/QuantFreedom/quantfreedom/exchanges/test_mufex.ipynb#X24sZmlsZQ%3D%3D?line=8'>9</a>\u001b[0m get_ipython()\u001b[39m.\u001b[39mrun_line_magic(\u001b[39m'\u001b[39m\u001b[39mload_ext\u001b[39m\u001b[39m'\u001b[39m, \u001b[39m'\u001b[39m\u001b[39mautoreload\u001b[39m\u001b[39m'\u001b[39m)\n\u001b[0;32m     <a href='vscode-notebook-cell:/e%3A/Coding/backtesters/QuantFreedom/quantfreedom/exchanges/test_mufex.ipynb#X24sZmlsZQ%3D%3D?line=9'>10</a>\u001b[0m get_ipython()\u001b[39m.\u001b[39mrun_line_magic(\u001b[39m'\u001b[39m\u001b[39mautoreload\u001b[39m\u001b[39m'\u001b[39m, \u001b[39m'\u001b[39m\u001b[39m2\u001b[39m\u001b[39m'\u001b[39m)\n",
      "File \u001b[1;32me:\\coding\\backtesters\\quantfreedom\\quantfreedom\\exchanges\\mufex.py:35\u001b[0m, in \u001b[0;36mMufex.__init__\u001b[1;34m(self, symbol, category, timeframe, apikey, keep_volume_in_candles)\u001b[0m\n\u001b[0;32m     33\u001b[0m \u001b[39mself\u001b[39m\u001b[39m.\u001b[39murl_start \u001b[39m=\u001b[39m \u001b[39m\"\u001b[39m\u001b[39mhttps://api.mufex.finance\u001b[39m\u001b[39m\"\u001b[39m\n\u001b[0;32m     34\u001b[0m \u001b[39mself\u001b[39m\u001b[39m.\u001b[39mexchange_settings \u001b[39m=\u001b[39m ExchangeSettings()\n\u001b[1;32m---> 35\u001b[0m \u001b[39mself\u001b[39;49m\u001b[39m.\u001b[39;49m__set_exchange_settings()\n\u001b[0;32m     37\u001b[0m \u001b[39mif\u001b[39;00m keep_volume_in_candles:\n\u001b[0;32m     38\u001b[0m     \u001b[39mself\u001b[39m\u001b[39m.\u001b[39mvolume_yes_no \u001b[39m=\u001b[39m \u001b[39m-\u001b[39m\u001b[39m1\u001b[39m\n",
      "File \u001b[1;32me:\\coding\\backtesters\\quantfreedom\\quantfreedom\\exchanges\\mufex.py:139\u001b[0m, in \u001b[0;36mMufex.__set_exchange_settings\u001b[1;34m(self)\u001b[0m\n\u001b[0;32m    138\u001b[0m \u001b[39mdef\u001b[39;00m \u001b[39m__set_exchange_settings\u001b[39m(\u001b[39mself\u001b[39m):\n\u001b[1;32m--> 139\u001b[0m     \u001b[39mself\u001b[39;49m\u001b[39m.\u001b[39;49m__set_fee_pcts()\n\u001b[0;32m    140\u001b[0m     \u001b[39mself\u001b[39m\u001b[39m.\u001b[39m__set_leverage_and_coin_size()\n\u001b[0;32m    141\u001b[0m     \u001b[39mself\u001b[39m\u001b[39m.\u001b[39m__set_mmr_pct()\n",
      "File \u001b[1;32me:\\coding\\backtesters\\quantfreedom\\quantfreedom\\exchanges\\mufex.py:148\u001b[0m, in \u001b[0;36mMufex.__set_fee_pcts\u001b[1;34m(self)\u001b[0m\n\u001b[0;32m    144\u001b[0m end_point \u001b[39m=\u001b[39m \u001b[39m\"\u001b[39m\u001b[39m/private/v1/account/trade-fee\u001b[39m\u001b[39m\"\u001b[39m\n\u001b[0;32m    145\u001b[0m params \u001b[39m=\u001b[39m {\n\u001b[0;32m    146\u001b[0m     \u001b[39m\"\u001b[39m\u001b[39msymbol\u001b[39m\u001b[39m\"\u001b[39m: \u001b[39mself\u001b[39m\u001b[39m.\u001b[39msymbol,\n\u001b[0;32m    147\u001b[0m }\n\u001b[1;32m--> 148\u001b[0m trading_fees \u001b[39m=\u001b[39m \u001b[39mself\u001b[39;49m\u001b[39m.\u001b[39;49m__get_HTTP_request(end_point\u001b[39m=\u001b[39;49mend_point, params\u001b[39m=\u001b[39;49mparams)\u001b[39m.\u001b[39mjson()[\u001b[39m\"\u001b[39m\u001b[39mdata\u001b[39m\u001b[39m\"\u001b[39m][\u001b[39m\"\u001b[39m\u001b[39mlist\u001b[39m\u001b[39m\"\u001b[39m][\u001b[39m0\u001b[39m]\n\u001b[0;32m    149\u001b[0m \u001b[39mself\u001b[39m\u001b[39m.\u001b[39mexchange_settings\u001b[39m.\u001b[39mmarket_fee_pct \u001b[39m=\u001b[39m \u001b[39mfloat\u001b[39m(trading_fees[\u001b[39m\"\u001b[39m\u001b[39mtakerFeeRate\u001b[39m\u001b[39m\"\u001b[39m])\n\u001b[0;32m    150\u001b[0m \u001b[39mself\u001b[39m\u001b[39m.\u001b[39mexchange_settings\u001b[39m.\u001b[39mlimit_fee_pct \u001b[39m=\u001b[39m \u001b[39mfloat\u001b[39m(trading_fees[\u001b[39m\"\u001b[39m\u001b[39mmakerFeeRate\u001b[39m\u001b[39m\"\u001b[39m])\n",
      "File \u001b[1;32me:\\coding\\backtesters\\quantfreedom\\quantfreedom\\exchanges\\mufex.py:120\u001b[0m, in \u001b[0;36mMufex.__get_HTTP_request\u001b[1;34m(self, end_point, params)\u001b[0m\n\u001b[0;32m    118\u001b[0m time_stamp \u001b[39m=\u001b[39m \u001b[39mstr\u001b[39m(\u001b[39mint\u001b[39m(time\u001b[39m.\u001b[39mtime() \u001b[39m*\u001b[39m \u001b[39m10\u001b[39m\u001b[39m*\u001b[39m\u001b[39m*\u001b[39m\u001b[39m3\u001b[39m))\n\u001b[0;32m    119\u001b[0m param_str \u001b[39m=\u001b[39m \u001b[39mstr\u001b[39m(time_stamp) \u001b[39m+\u001b[39m \u001b[39m\"\u001b[39m\u001b[39m5000\u001b[39m\u001b[39m\"\u001b[39m\n\u001b[1;32m--> 120\u001b[0m \u001b[39mhash\u001b[39m \u001b[39m=\u001b[39m hmac\u001b[39m.\u001b[39mnew(\u001b[39mbytes\u001b[39m(\u001b[39mself\u001b[39;49m\u001b[39m.\u001b[39;49msecret_key, \u001b[39m\"\u001b[39m\u001b[39mutf-8\u001b[39m\u001b[39m\"\u001b[39m), param_str\u001b[39m.\u001b[39mencode(\u001b[39m\"\u001b[39m\u001b[39mutf-8\u001b[39m\u001b[39m\"\u001b[39m), hashlib\u001b[39m.\u001b[39msha256)\n\u001b[0;32m    121\u001b[0m signature \u001b[39m=\u001b[39m \u001b[39mhash\u001b[39m\u001b[39m.\u001b[39mhexdigest()\n\u001b[0;32m    122\u001b[0m headers \u001b[39m=\u001b[39m {\n\u001b[0;32m    123\u001b[0m     \u001b[39m\"\u001b[39m\u001b[39mMF-ACCESS-API-KEY\u001b[39m\u001b[39m\"\u001b[39m: \u001b[39mself\u001b[39m\u001b[39m.\u001b[39mapi_key,\n\u001b[0;32m    124\u001b[0m     \u001b[39m\"\u001b[39m\u001b[39mMF-ACCESS-SIGN\u001b[39m\u001b[39m\"\u001b[39m: signature,\n\u001b[1;32m   (...)\u001b[0m\n\u001b[0;32m    128\u001b[0m     \u001b[39m\"\u001b[39m\u001b[39mContent-Type\u001b[39m\u001b[39m\"\u001b[39m: \u001b[39m\"\u001b[39m\u001b[39mapplication/json\u001b[39m\u001b[39m\"\u001b[39m,\n\u001b[0;32m    129\u001b[0m }\n",
      "\u001b[1;31mAttributeError\u001b[0m: 'Mufex' object has no attribute 'secret_key'"
     ]
    }
   ],
   "source": [
    "from quantfreedom.exchanges.mufex import Mufex\n",
    "\n",
    "from requests import get\n",
    "from datetime import datetime, timedelta\n",
    "import pandas as pd\n",
    "import numpy as np\n",
    "\n",
    "mufex = Mufex()\n",
    "%load_ext autoreload\n",
    "%autoreload 2"
   ]
  },
  {
   "cell_type": "code",
   "execution_count": 2,
   "metadata": {},
   "outputs": [
    {
     "name": "stdout",
     "output_type": "stream",
     "text": [
      "since_date_ms=2023-09-28 02:40:41, until_date_ms=2023-09-29 14:55:41\n",
      "Got 200 new candles for since=2023-09-28 02:40:41\n",
      "Getting candles since=2023-09-28 19:20:01\n",
      "Got 200 new candles for since=2023-09-28 19:20:01\n",
      "Getting candles since=2023-09-29 12:00:01\n",
      "Got 35 new candles for since=2023-09-29 12:00:01\n",
      "Getting candles since=2023-09-29 14:55:01\n",
      "Got 0 candles\n",
      "It took 0.02 minutes to create the candles dataframe\n"
     ]
    },
    {
     "data": {
      "text/html": [
       "<div>\n",
       "<style scoped>\n",
       "    .dataframe tbody tr th:only-of-type {\n",
       "        vertical-align: middle;\n",
       "    }\n",
       "\n",
       "    .dataframe tbody tr th {\n",
       "        vertical-align: top;\n",
       "    }\n",
       "\n",
       "    .dataframe thead th {\n",
       "        text-align: right;\n",
       "    }\n",
       "</style>\n",
       "<table border=\"1\" class=\"dataframe\">\n",
       "  <thead>\n",
       "    <tr style=\"text-align: right;\">\n",
       "      <th></th>\n",
       "      <th>timestamp</th>\n",
       "      <th>open</th>\n",
       "      <th>high</th>\n",
       "      <th>low</th>\n",
       "      <th>close</th>\n",
       "    </tr>\n",
       "  </thead>\n",
       "  <tbody>\n",
       "    <tr>\n",
       "      <th>0</th>\n",
       "      <td>2023-09-28 02:45:00</td>\n",
       "      <td>26377.4</td>\n",
       "      <td>26383.7</td>\n",
       "      <td>26365.1</td>\n",
       "      <td>26376.1</td>\n",
       "    </tr>\n",
       "    <tr>\n",
       "      <th>1</th>\n",
       "      <td>2023-09-28 02:50:00</td>\n",
       "      <td>26376.1</td>\n",
       "      <td>26381.5</td>\n",
       "      <td>26348.6</td>\n",
       "      <td>26370.4</td>\n",
       "    </tr>\n",
       "    <tr>\n",
       "      <th>2</th>\n",
       "      <td>2023-09-28 02:55:00</td>\n",
       "      <td>26370.4</td>\n",
       "      <td>26374.1</td>\n",
       "      <td>26368.2</td>\n",
       "      <td>26371.9</td>\n",
       "    </tr>\n",
       "    <tr>\n",
       "      <th>3</th>\n",
       "      <td>2023-09-28 03:00:00</td>\n",
       "      <td>26371.9</td>\n",
       "      <td>26379.0</td>\n",
       "      <td>26357.1</td>\n",
       "      <td>26364.2</td>\n",
       "    </tr>\n",
       "    <tr>\n",
       "      <th>4</th>\n",
       "      <td>2023-09-28 03:05:00</td>\n",
       "      <td>26364.2</td>\n",
       "      <td>26364.2</td>\n",
       "      <td>26326.8</td>\n",
       "      <td>26338.8</td>\n",
       "    </tr>\n",
       "    <tr>\n",
       "      <th>...</th>\n",
       "      <td>...</td>\n",
       "      <td>...</td>\n",
       "      <td>...</td>\n",
       "      <td>...</td>\n",
       "      <td>...</td>\n",
       "    </tr>\n",
       "    <tr>\n",
       "      <th>430</th>\n",
       "      <td>2023-09-29 14:35:00</td>\n",
       "      <td>26900.9</td>\n",
       "      <td>27092.8</td>\n",
       "      <td>26893.0</td>\n",
       "      <td>26974.6</td>\n",
       "    </tr>\n",
       "    <tr>\n",
       "      <th>431</th>\n",
       "      <td>2023-09-29 14:40:00</td>\n",
       "      <td>26974.6</td>\n",
       "      <td>26999.8</td>\n",
       "      <td>26946.6</td>\n",
       "      <td>26985.6</td>\n",
       "    </tr>\n",
       "    <tr>\n",
       "      <th>432</th>\n",
       "      <td>2023-09-29 14:45:00</td>\n",
       "      <td>26985.6</td>\n",
       "      <td>27045.1</td>\n",
       "      <td>26985.6</td>\n",
       "      <td>27022.3</td>\n",
       "    </tr>\n",
       "    <tr>\n",
       "      <th>433</th>\n",
       "      <td>2023-09-29 14:50:00</td>\n",
       "      <td>27022.3</td>\n",
       "      <td>27034.4</td>\n",
       "      <td>26921.9</td>\n",
       "      <td>26931.0</td>\n",
       "    </tr>\n",
       "    <tr>\n",
       "      <th>434</th>\n",
       "      <td>2023-09-29 14:55:00</td>\n",
       "      <td>26931.0</td>\n",
       "      <td>26931.1</td>\n",
       "      <td>26819.3</td>\n",
       "      <td>26897.8</td>\n",
       "    </tr>\n",
       "  </tbody>\n",
       "</table>\n",
       "<p>435 rows × 5 columns</p>\n",
       "</div>"
      ],
      "text/plain": [
       "              timestamp     open     high      low    close\n",
       "0   2023-09-28 02:45:00  26377.4  26383.7  26365.1  26376.1\n",
       "1   2023-09-28 02:50:00  26376.1  26381.5  26348.6  26370.4\n",
       "2   2023-09-28 02:55:00  26370.4  26374.1  26368.2  26371.9\n",
       "3   2023-09-28 03:00:00  26371.9  26379.0  26357.1  26364.2\n",
       "4   2023-09-28 03:05:00  26364.2  26364.2  26326.8  26338.8\n",
       "..                  ...      ...      ...      ...      ...\n",
       "430 2023-09-29 14:35:00  26900.9  27092.8  26893.0  26974.6\n",
       "431 2023-09-29 14:40:00  26974.6  26999.8  26946.6  26985.6\n",
       "432 2023-09-29 14:45:00  26985.6  27045.1  26985.6  27022.3\n",
       "433 2023-09-29 14:50:00  27022.3  27034.4  26921.9  26931.0\n",
       "434 2023-09-29 14:55:00  26931.0  26931.1  26819.3  26897.8\n",
       "\n",
       "[435 rows x 5 columns]"
      ]
     },
     "execution_count": 2,
     "metadata": {},
     "output_type": "execute_result"
    }
   ],
   "source": [
    "mufex.get_candles(candles_to_dl=435)"
   ]
  },
  {
   "cell_type": "code",
   "execution_count": 15,
   "metadata": {},
   "outputs": [
    {
     "data": {
      "text/plain": [
       "'1'"
      ]
     },
     "execution_count": 15,
     "metadata": {},
     "output_type": "execute_result"
    }
   ],
   "source": [
    "mufex.get_symbol_info(symbol='BTCUSDT')[0]['leverageFilter']['minLeverage']"
   ]
  }
 ],
 "metadata": {
  "kernelspec": {
   "display_name": "qfFree",
   "language": "python",
   "name": "python3"
  },
  "language_info": {
   "codemirror_mode": {
    "name": "ipython",
    "version": 3
   },
   "file_extension": ".py",
   "mimetype": "text/x-python",
   "name": "python",
   "nbconvert_exporter": "python",
   "pygments_lexer": "ipython3",
   "version": "3.10.10"
  },
  "orig_nbformat": 4
 },
 "nbformat": 4,
 "nbformat_minor": 2
}
