{
  "cells": [
    {
      "cell_type": "code",
      "execution_count": 1,
      "metadata": {},
      "outputs": [],
      "source": [
        "# import os\n",
        "# import sys\n",
        "\n",
        "# sys.dont_write_bytecode = True\n",
        "# os.environ[\"NUMBA_DISABLE_JIT\"] = \"1\""
      ]
    },
    {
      "cell_type": "code",
      "execution_count": 2,
      "metadata": {},
      "outputs": [],
      "source": [
        "import numpy as np\n",
        "import pandas as pd\n",
        "from numba import njit\n",
        "import logging\n",
        "from my_stuff import MufexKeys\n",
        "from nb_quantfreedom.exchanges.mufex_exchange.mufex import Mufex\n",
        "from nb_quantfreedom.nb_custom_logger import nb_CustomLogger, nb_WontLog\n",
        "from nb_quantfreedom.nb_base import create_classes\n",
        "\n",
        "from nb_quantfreedom.nb_enums import LeverageModeType, PositionModeType\n",
        "from nb_quantfreedom.nb_helper_funcs import nb_dos_cart_product\n",
        "from nb_quantfreedom.nb_helper_funcs import get_to_the_upside_nb, nb_get_dos\n",
        "from nb_quantfreedom.nb_enums import (\n",
        "    BacktestSettings,\n",
        "    CandleBodyType,\n",
        "    CandleProcessingType,\n",
        "    DecreasePosition,\n",
        "    DynamicOrderSettingsArrays,\n",
        "    ExchangeSettings,\n",
        "    IncreasePositionType,\n",
        "    LeverageStrategyType,\n",
        "    LoggerSettings,\n",
        "    LongOrShortType,\n",
        "    MoveStopLoss,\n",
        "    OrderResult,\n",
        "    OrderStatus,\n",
        "    PriceGetterType,\n",
        "    RejectedOrder,\n",
        "    ZeroOrEntryType,\n",
        "    StopLossStrategyType,\n",
        "    TakeProfitFeeType,\n",
        "    TakeProfitStrategyType,\n",
        "    StaticOrderSettings,\n",
        "    ZeroOrEntryType,\n",
        "    strat_df_array_dt,\n",
        ")\n",
        "from nb_quantfreedom.nb_order_handler.nb_decrease_position import nb_DecreasePosition, nb_Long_DP\n",
        "from nb_quantfreedom.nb_order_handler.nb_increase_position import (\n",
        "    nb_IncreasePosition,\n",
        "    nb_Long_RPAandSLB,\n",
        "    nb_Long_SEP,\n",
        ")\n",
        "from nb_quantfreedom.nb_order_handler.nb_leverage import (\n",
        "    nb_Leverage,\n",
        "    nb_Long_DLev,\n",
        "    nb_Long_Leverage,\n",
        "    nb_Long_SLev,\n",
        ")\n",
        "from nb_quantfreedom.nb_order_handler.nb_class_helpers import (\n",
        "    nb_GetMaxPrice,\n",
        "    nb_GetMinPrice,\n",
        "    nb_Long_SLToEntry,\n",
        "    nb_Long_SLToZero,\n",
        "    nb_PriceGetter,\n",
        "    nb_ZeroOrEntry,\n",
        ")\n",
        "\n",
        "from nb_quantfreedom.nb_order_handler.nb_stop_loss import (\n",
        "    nb_Long_SLBCB,\n",
        "    nb_Long_StopLoss,\n",
        "    nb_MoveSL,\n",
        "    nb_StopLoss,\n",
        ")\n",
        "from nb_quantfreedom.nb_order_handler.nb_take_profit import (\n",
        "    nb_Long_RR,\n",
        "    nb_Long_TPHitReg,\n",
        "    nb_TakeProfit,\n",
        ")\n",
        "from nb_quantfreedom.strategies.nb_strategy import (\n",
        "    nb_BacktestInd,\n",
        "    nb_CreateInd,\n",
        "    nb_Strategy,\n",
        "    nb_TradingInd,\n",
        ")\n",
        "\n",
        "mufex_main = Mufex(\n",
        "    api_key=MufexKeys.api_key,\n",
        "    secret_key=MufexKeys.secret_key,\n",
        "    use_test_net=False,\n",
        ")\n",
        "\n",
        "%load_ext autoreload\n",
        "%autoreload 2\n"
      ]
    },
    {
      "cell_type": "code",
      "execution_count": 3,
      "metadata": {},
      "outputs": [
        {
          "name": "stdout",
          "output_type": "stream",
          "text": [
            "It took 00 mins and 00 seconds to download 1000 candles\n"
          ]
        }
      ],
      "source": [
        "candles = mufex_main.get_candles_df(symbol=\"BTCUSDT\", timeframe=\"5m\", limit=1000)"
      ]
    },
    {
      "cell_type": "code",
      "execution_count": 4,
      "metadata": {},
      "outputs": [],
      "source": [
        "mufex_main.set_exchange_settings(\n",
        "    symbol=\"BTCUSDT\",\n",
        "    position_mode=PositionModeType.HedgeMode,\n",
        "    leverage_mode=LeverageModeType.Isolated,\n",
        ")\n",
        "backtest_settings = BacktestSettings()\n",
        "dos_arrays = DynamicOrderSettingsArrays(\n",
        "    entry_size_asset=np.array([0]),\n",
        "    max_equity_risk_pct=np.array([3]),\n",
        "    max_trades=np.array([5]),\n",
        "    num_candles=np.array([60]),\n",
        "    risk_account_pct_size=np.array([3, 5]),\n",
        "    risk_reward=np.array([3]),\n",
        "    sl_based_on_add_pct=np.array([0.01]),\n",
        "    sl_based_on_lookback=np.array([10]),\n",
        "    sl_bcb_type=np.array([CandleBodyType.Low]),\n",
        "    sl_to_be_cb_type=np.array([0]),\n",
        "    sl_to_be_when_pct=np.array([0]),\n",
        "    sl_to_be_ze_type=np.array([0]),\n",
        "    static_leverage=np.array([0]),\n",
        "    trail_sl_bcb_type=np.array([CandleBodyType.Low]),\n",
        "    trail_sl_by_pct=np.array([1.20]),\n",
        "    trail_sl_when_pct=np.array([0.001]),\n",
        ")\n",
        "static_os = StaticOrderSettings(\n",
        "    increase_position_type=IncreasePositionType.RiskPctAccountEntrySize,\n",
        "    leverage_strategy_type=LeverageStrategyType.Dynamic,\n",
        "    long_or_short=LongOrShortType.Long,\n",
        "    logger_bool=True,\n",
        "    pg_min_max_sl_bcb=PriceGetterType.Min,\n",
        "    sl_to_be_bool=False,\n",
        "    z_or_e_type=ZeroOrEntryType.Nothing,\n",
        "    sl_strategy_type=StopLossStrategyType.SLBasedOnCandleBody,\n",
        "    tp_strategy_type=TakeProfitStrategyType.RiskReward,\n",
        "    tp_fee_type=TakeProfitFeeType.Limit,\n",
        "    trail_sl_bool=True,\n",
        ")\n",
        "dos_cart_arrays = nb_dos_cart_product(\n",
        "    dos_arrays=dos_arrays,\n",
        ")"
      ]
    },
    {
      "cell_type": "code",
      "execution_count": 5,
      "metadata": {},
      "outputs": [],
      "source": [
        "(\n",
        "    checker_liq_hit,\n",
        "    checker_sl_hit,\n",
        "    checker_sl_to_be,\n",
        "    checker_tp_hit,\n",
        "    checker_tsl,\n",
        "    dec_pos_calculator,\n",
        "    dos_cart_arrays,\n",
        "    exit_fee_pct,\n",
        "    inc_pos_calculator,\n",
        "    ind_creator,\n",
        "    lev_calculator,\n",
        "    log_logging,\n",
        "    set_z_e,\n",
        "    sl_bcb_price_getter,\n",
        "    sl_calculator,\n",
        "    sl_mover,\n",
        "    strategy,\n",
        "    tp_calculator,\n",
        ") = create_classes(\n",
        "    backtest_settings=backtest_settings,\n",
        "    candle_processing_mode=CandleProcessingType.Backtest,\n",
        "    candles=candles,\n",
        "    dos_cart_arrays=dos_cart_arrays,\n",
        "    exchange_settings=mufex_main.exchange_settings,\n",
        "    logger_settings=None,\n",
        "    # logger_settings=LoggerSettings(log_debug=True, create_trades_logger=False),\n",
        "    starting_equity=1000.0,\n",
        "    static_os=static_os,\n",
        ")"
      ]
    },
    {
      "cell_type": "code",
      "execution_count": 6,
      "metadata": {},
      "outputs": [],
      "source": [
        "@njit()\n",
        "def testingme(log_logging: nb_CustomLogger = log_logging):\n",
        "    return log_logging.log_debug(6)"
      ]
    },
    {
      "cell_type": "code",
      "execution_count": 7,
      "metadata": {},
      "outputs": [
        {
          "ename": "NumbaNotImplementedError",
          "evalue": "Failed in nopython mode pipeline (step: native lowering)\n\u001b[1m\u001b[1m<numba.core.base.OverloadSelector object at 0x00000210FBA94C70>, (instance.jitclass.nb_WontLog#210fba97b80<>,)\u001b[0m\n\u001b[0m\u001b[1mDuring: lowering \"log_logging = arg(0, name=log_logging)\" at C:\\Users\\User\\AppData\\Local\\Temp\\ipykernel_13184\\3834717069.py (1)\u001b[0m",
          "output_type": "error",
          "traceback": [
            "\u001b[1;31m---------------------------------------------------------------------------\u001b[0m",
            "\u001b[1;31mNumbaNotImplementedError\u001b[0m                  Traceback (most recent call last)",
            "\u001b[1;32me:\\Coding\\backtesters\\QuantFreedom\\nb_quantfreedom\\tests\\get_classes.ipynb Cell 7\u001b[0m line \u001b[0;36m1\n\u001b[1;32m----> <a href='vscode-notebook-cell:/e%3A/Coding/backtesters/QuantFreedom/nb_quantfreedom/tests/get_classes.ipynb#W6sZmlsZQ%3D%3D?line=0'>1</a>\u001b[0m testingme()\n",
            "File \u001b[1;32me:\\Coding\\venvs\\qfFree\\lib\\site-packages\\numba\\core\\dispatcher.py:468\u001b[0m, in \u001b[0;36m_DispatcherBase._compile_for_args\u001b[1;34m(self, *args, **kws)\u001b[0m\n\u001b[0;32m    464\u001b[0m         msg \u001b[39m=\u001b[39m (\u001b[39mf\u001b[39m\u001b[39m\"\u001b[39m\u001b[39m{\u001b[39;00m\u001b[39mstr\u001b[39m(e)\u001b[39m.\u001b[39mrstrip()\u001b[39m}\u001b[39;00m\u001b[39m \u001b[39m\u001b[39m\\n\u001b[39;00m\u001b[39m\\n\u001b[39;00m\u001b[39mThis error may have been caused \u001b[39m\u001b[39m\"\u001b[39m\n\u001b[0;32m    465\u001b[0m                \u001b[39mf\u001b[39m\u001b[39m\"\u001b[39m\u001b[39mby the following argument(s):\u001b[39m\u001b[39m\\n\u001b[39;00m\u001b[39m{\u001b[39;00margs_str\u001b[39m}\u001b[39;00m\u001b[39m\\n\u001b[39;00m\u001b[39m\"\u001b[39m)\n\u001b[0;32m    466\u001b[0m         e\u001b[39m.\u001b[39mpatch_message(msg)\n\u001b[1;32m--> 468\u001b[0m     error_rewrite(e, \u001b[39m'\u001b[39;49m\u001b[39mtyping\u001b[39;49m\u001b[39m'\u001b[39;49m)\n\u001b[0;32m    469\u001b[0m \u001b[39mexcept\u001b[39;00m errors\u001b[39m.\u001b[39mUnsupportedError \u001b[39mas\u001b[39;00m e:\n\u001b[0;32m    470\u001b[0m     \u001b[39m# Something unsupported is present in the user code, add help info\u001b[39;00m\n\u001b[0;32m    471\u001b[0m     error_rewrite(e, \u001b[39m'\u001b[39m\u001b[39munsupported_error\u001b[39m\u001b[39m'\u001b[39m)\n",
            "File \u001b[1;32me:\\Coding\\venvs\\qfFree\\lib\\site-packages\\numba\\core\\dispatcher.py:409\u001b[0m, in \u001b[0;36m_DispatcherBase._compile_for_args.<locals>.error_rewrite\u001b[1;34m(e, issue_type)\u001b[0m\n\u001b[0;32m    407\u001b[0m     \u001b[39mraise\u001b[39;00m e\n\u001b[0;32m    408\u001b[0m \u001b[39melse\u001b[39;00m:\n\u001b[1;32m--> 409\u001b[0m     \u001b[39mraise\u001b[39;00m e\u001b[39m.\u001b[39mwith_traceback(\u001b[39mNone\u001b[39;00m)\n",
            "\u001b[1;31mNumbaNotImplementedError\u001b[0m: Failed in nopython mode pipeline (step: native lowering)\n\u001b[1m\u001b[1m<numba.core.base.OverloadSelector object at 0x00000210FBA94C70>, (instance.jitclass.nb_WontLog#210fba97b80<>,)\u001b[0m\n\u001b[0m\u001b[1mDuring: lowering \"log_logging = arg(0, name=log_logging)\" at C:\\Users\\User\\AppData\\Local\\Temp\\ipykernel_13184\\3834717069.py (1)\u001b[0m"
          ]
        }
      ],
      "source": [
        "testingme()"
      ]
    },
    {
      "cell_type": "code",
      "execution_count": null,
      "metadata": {},
      "outputs": [],
      "source": [
        "logger.debug(\"hey\")"
      ]
    },
    {
      "cell_type": "code",
      "execution_count": null,
      "metadata": {},
      "outputs": [],
      "source": [
        "cbt = 4\n",
        "price = 10\n",
        "hello = \"nb_class_helpers.py - nb_GetPrice - nb_price_getter() - candle_body_type=\" + str(cbt) + \" price min=\" + str(price)\n",
        "logger.debug(hello)"
      ]
    },
    {
      "cell_type": "code",
      "execution_count": null,
      "metadata": {},
      "outputs": [],
      "source": [
        "@njit(cache=True)\n",
        "def printtest():\n",
        "    print(\"nb_class_helpers.py - nb_GetPrice - nb_price_getter() - candle_body_type={cbt} price min={price}\".format(\n",
        "    cbt=6, price=5\n",
        "))"
      ]
    },
    {
      "cell_type": "code",
      "execution_count": null,
      "metadata": {},
      "outputs": [],
      "source": [
        "logger.debug('hey')"
      ]
    }
  ],
  "metadata": {
    "kernelspec": {
      "display_name": "qfFree",
      "language": "python",
      "name": "python3"
    },
    "language_info": {
      "codemirror_mode": {
        "name": "ipython",
        "version": 3
      },
      "file_extension": ".py",
      "mimetype": "text/x-python",
      "name": "python",
      "nbconvert_exporter": "python",
      "pygments_lexer": "ipython3",
      "version": "3.10.10"
    },
    "orig_nbformat": 4
  },
  "nbformat": 4,
  "nbformat_minor": 2
}
