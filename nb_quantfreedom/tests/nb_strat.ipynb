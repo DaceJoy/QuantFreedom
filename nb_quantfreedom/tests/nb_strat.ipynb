{
  "cells": [
    {
      "cell_type": "code",
      "execution_count": 1,
      "metadata": {},
      "outputs": [],
      "source": [
        "import os\n",
        "import sys\n",
        "\n",
        "sys.dont_write_bytecode = True\n",
        "os.environ[\"NUMBA_DISABLE_JIT\"] = \"1\"\n"
      ]
    },
    {
      "cell_type": "code",
      "execution_count": 2,
      "metadata": {},
      "outputs": [],
      "source": [
        "\n",
        "from numba import njit\n",
        "import numpy as np\n",
        "from my_stuff import MufexKeys\n",
        "from nb_quantfreedom.exchanges.mufex_exchange.mufex import Mufex\n",
        "mufex_main = Mufex(\n",
        "    api_key=MufexKeys.api_key,\n",
        "    secret_key=MufexKeys.secret_key,\n",
        "    use_test_net=False,\n",
        ")\n",
        "\n",
        "%load_ext autoreload\n",
        "%autoreload 2\n"
      ]
    },
    {
      "cell_type": "code",
      "execution_count": 3,
      "metadata": {},
      "outputs": [
        {
          "name": "stdout",
          "output_type": "stream",
          "text": [
            "It took 00 mins and 00 seconds to download 200 candles\n"
          ]
        }
      ],
      "source": [
        "candles = mufex_main.get_candles_df(\n",
        "    symbol=\"BTCUSDT\",\n",
        "    timeframe=\"5m\",\n",
        ")"
      ]
    },
    {
      "cell_type": "code",
      "execution_count": 4,
      "metadata": {},
      "outputs": [],
      "source": [
        "from nb_quantfreedom.nb_enums import *\n",
        "from nb_quantfreedom.nb_helper_funcs import nb_dos_cart_product\n",
        "\n",
        "\n",
        "mufex_main.set_exchange_settings(\n",
        "    symbol=\"BTCUSDT\",\n",
        "    position_mode=PositionModeType.HedgeMode,\n",
        "    leverage_mode=LeverageModeType.Isolated,\n",
        ")\n",
        "backtest_settings = BacktestSettings()\n",
        "dos_arrays = DynamicOrderSettingsArrays(\n",
        "    entry_size_asset=np.array([0]),\n",
        "    max_equity_risk_pct=np.array([3]),\n",
        "    max_trades=np.array([5]),\n",
        "    num_candles=np.array([61]),\n",
        "    risk_account_pct_size=np.array([0.2, 5]),\n",
        "    risk_reward=np.array([64.5]),\n",
        "    sl_based_on_add_pct=np.array([2]),\n",
        "    sl_based_on_lookback=np.array([6]),\n",
        "    sl_bcb_type=np.array([2]),\n",
        "    sl_to_be_cb_type=np.array([1.948, 6]),\n",
        "    sl_to_be_when_pct=np.array([1000]),\n",
        "    sl_to_be_ze_type=np.array([54.61]),\n",
        "    static_leverage=np.array([153]),\n",
        "    trail_sl_bcb_type=np.array([0.64654]),\n",
        "    trail_sl_by_pct=np.array([1.20]),\n",
        "    trail_sl_when_pct=np.array([156.6]),\n",
        ")\n",
        "static_os = StaticOrderSettings(\n",
        "    increase_position_type=IncreasePositionType.RiskPctAccountEntrySize,\n",
        "    leverage_strategy_type=LeverageStrategyType.Dynamic,\n",
        "    long_or_short=LongOrShortType.Long,\n",
        "    logger_bool=True,\n",
        "    pg_min_max_sl_bcb=PriceGetterType.Min,\n",
        "    sl_to_be_bool=False,\n",
        "    z_or_e_type=ZeroOrEntryType.Nothing,\n",
        "    sl_strategy_type=StopLossStrategyType.SLBasedOnCandleBody,\n",
        "    tp_strategy_type=TakeProfitStrategyType.RiskReward,\n",
        "    tp_fee_type=TakeProfitFeeType.Limit,\n",
        "    trail_sl_bool=True,\n",
        ")\n",
        "dos_cart_arrays = nb_dos_cart_product(\n",
        "    dos_arrays=dos_arrays,\n",
        ")"
      ]
    },
    {
      "cell_type": "code",
      "execution_count": 5,
      "metadata": {},
      "outputs": [
        {
          "ename": "TypeError",
          "evalue": "backtest_df_only() missing 1 required positional argument: 'logger'",
          "output_type": "error",
          "traceback": [
            "\u001b[1;31m---------------------------------------------------------------------------\u001b[0m",
            "\u001b[1;31mTypeError\u001b[0m                                 Traceback (most recent call last)",
            "\u001b[1;32me:\\Coding\\backtesters\\QuantFreedom\\nb_quantfreedom\\tests\\nb_strat.ipynb Cell 5\u001b[0m line \u001b[0;36m1\n\u001b[0;32m      <a href='vscode-notebook-cell:/e%3A/Coding/backtesters/QuantFreedom/nb_quantfreedom/tests/nb_strat.ipynb#W4sZmlsZQ%3D%3D?line=1'>2</a>\u001b[0m \u001b[39mfrom\u001b[39;00m \u001b[39mnb_quantfreedom\u001b[39;00m\u001b[39m.\u001b[39;00m\u001b[39mstrategies\u001b[39;00m\u001b[39m.\u001b[39;00m\u001b[39mstrategy_example\u001b[39;00m \u001b[39mimport\u001b[39;00m StrategyExample\n\u001b[0;32m      <a href='vscode-notebook-cell:/e%3A/Coding/backtesters/QuantFreedom/nb_quantfreedom/tests/nb_strat.ipynb#W4sZmlsZQ%3D%3D?line=4'>5</a>\u001b[0m strategy \u001b[39m=\u001b[39m StrategyExample(\n\u001b[0;32m      <a href='vscode-notebook-cell:/e%3A/Coding/backtesters/QuantFreedom/nb_quantfreedom/tests/nb_strat.ipynb#W4sZmlsZQ%3D%3D?line=5'>6</a>\u001b[0m     candle_processing_mode\u001b[39m=\u001b[39mCandleProcessingType\u001b[39m.\u001b[39mBacktest,\n\u001b[0;32m      <a href='vscode-notebook-cell:/e%3A/Coding/backtesters/QuantFreedom/nb_quantfreedom/tests/nb_strat.ipynb#W4sZmlsZQ%3D%3D?line=6'>7</a>\u001b[0m     candles\u001b[39m=\u001b[39mcandles,\n\u001b[0;32m      <a href='vscode-notebook-cell:/e%3A/Coding/backtesters/QuantFreedom/nb_quantfreedom/tests/nb_strat.ipynb#W4sZmlsZQ%3D%3D?line=7'>8</a>\u001b[0m     rsi_length\u001b[39m=\u001b[39m[\u001b[39m14\u001b[39m],\n\u001b[0;32m      <a href='vscode-notebook-cell:/e%3A/Coding/backtesters/QuantFreedom/nb_quantfreedom/tests/nb_strat.ipynb#W4sZmlsZQ%3D%3D?line=8'>9</a>\u001b[0m     rsi_is_below\u001b[39m=\u001b[39m[\u001b[39m50\u001b[39m],\n\u001b[0;32m     <a href='vscode-notebook-cell:/e%3A/Coding/backtesters/QuantFreedom/nb_quantfreedom/tests/nb_strat.ipynb#W4sZmlsZQ%3D%3D?line=9'>10</a>\u001b[0m )\n\u001b[1;32m---> <a href='vscode-notebook-cell:/e%3A/Coding/backtesters/QuantFreedom/nb_quantfreedom/tests/nb_strat.ipynb#W4sZmlsZQ%3D%3D?line=10'>11</a>\u001b[0m candles_reg \u001b[39m=\u001b[39m backtest_df_only(\n\u001b[0;32m     <a href='vscode-notebook-cell:/e%3A/Coding/backtesters/QuantFreedom/nb_quantfreedom/tests/nb_strat.ipynb#W4sZmlsZQ%3D%3D?line=11'>12</a>\u001b[0m     starting_equity\u001b[39m=\u001b[39;49m\u001b[39m1000.0\u001b[39;49m,\n\u001b[0;32m     <a href='vscode-notebook-cell:/e%3A/Coding/backtesters/QuantFreedom/nb_quantfreedom/tests/nb_strat.ipynb#W4sZmlsZQ%3D%3D?line=12'>13</a>\u001b[0m     dos_cart_arrays\u001b[39m=\u001b[39;49mdos_cart_arrays,\n\u001b[0;32m     <a href='vscode-notebook-cell:/e%3A/Coding/backtesters/QuantFreedom/nb_quantfreedom/tests/nb_strat.ipynb#W4sZmlsZQ%3D%3D?line=13'>14</a>\u001b[0m     backtest_settings\u001b[39m=\u001b[39;49mbacktest_settings,\n\u001b[0;32m     <a href='vscode-notebook-cell:/e%3A/Coding/backtesters/QuantFreedom/nb_quantfreedom/tests/nb_strat.ipynb#W4sZmlsZQ%3D%3D?line=14'>15</a>\u001b[0m     exchange_settings\u001b[39m=\u001b[39;49mmufex_main\u001b[39m.\u001b[39;49mexchange_settings,\n\u001b[0;32m     <a href='vscode-notebook-cell:/e%3A/Coding/backtesters/QuantFreedom/nb_quantfreedom/tests/nb_strat.ipynb#W4sZmlsZQ%3D%3D?line=15'>16</a>\u001b[0m     strategy\u001b[39m=\u001b[39;49mstrategy,\n\u001b[0;32m     <a href='vscode-notebook-cell:/e%3A/Coding/backtesters/QuantFreedom/nb_quantfreedom/tests/nb_strat.ipynb#W4sZmlsZQ%3D%3D?line=16'>17</a>\u001b[0m     candles\u001b[39m=\u001b[39;49mcandles,\n\u001b[0;32m     <a href='vscode-notebook-cell:/e%3A/Coding/backtesters/QuantFreedom/nb_quantfreedom/tests/nb_strat.ipynb#W4sZmlsZQ%3D%3D?line=17'>18</a>\u001b[0m     static_os\u001b[39m=\u001b[39;49mstatic_os,\n\u001b[0;32m     <a href='vscode-notebook-cell:/e%3A/Coding/backtesters/QuantFreedom/nb_quantfreedom/tests/nb_strat.ipynb#W4sZmlsZQ%3D%3D?line=18'>19</a>\u001b[0m )\n",
            "\u001b[1;31mTypeError\u001b[0m: backtest_df_only() missing 1 required positional argument: 'logger'"
          ]
        }
      ],
      "source": [
        "from nb_quantfreedom.nb_base import backtest_df_only\n",
        "from nb_quantfreedom.nb_custom_logger import nb_WillLog\n",
        "from nb_quantfreedom.strategies.strategy_example import StrategyExample\n",
        "\n",
        "\n",
        "strategy = StrategyExample(\n",
        "    candle_processing_mode=CandleProcessingType.Backtest,\n",
        "    candles=candles,\n",
        "    rsi_length=[14],\n",
        "    rsi_is_below=[50],\n",
        ")\n",
        "candles_reg = backtest_df_only(\n",
        "    starting_equity=1000.0,\n",
        "    dos_cart_arrays=dos_cart_arrays,\n",
        "    backtest_settings=backtest_settings,\n",
        "    exchange_settings=mufex_main.exchange_settings,\n",
        "    strategy=strategy,\n",
        "    candles=candles,\n",
        "    static_os=static_os,\n",
        ")"
      ]
    }
  ],
  "metadata": {
    "kernelspec": {
      "display_name": "qfFree",
      "language": "python",
      "name": "python3"
    },
    "language_info": {
      "codemirror_mode": {
        "name": "ipython",
        "version": 3
      },
      "file_extension": ".py",
      "mimetype": "text/x-python",
      "name": "python",
      "nbconvert_exporter": "python",
      "pygments_lexer": "ipython3",
      "version": "3.10.10"
    },
    "orig_nbformat": 4
  },
  "nbformat": 4,
  "nbformat_minor": 2
}
