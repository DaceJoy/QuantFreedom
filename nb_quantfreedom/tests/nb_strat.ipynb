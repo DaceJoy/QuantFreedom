{
  "cells": [
    {
      "cell_type": "code",
      "execution_count": 1,
      "metadata": {},
      "outputs": [],
      "source": [
        "import os\n",
        "import sys\n",
        "\n",
        "sys.dont_write_bytecode = True\n",
        "os.environ[\"NUMBA_DISABLE_JIT\"] = \"1\"\n"
      ]
    },
    {
      "cell_type": "code",
      "execution_count": 2,
      "metadata": {},
      "outputs": [],
      "source": [
        "\n",
        "from numba import njit\n",
        "import numpy as np\n",
        "from my_stuff import MufexKeys\n",
        "from nb_quantfreedom.exchanges.mufex_exchange.mufex import Mufex\n",
        "mufex_main = Mufex(\n",
        "    api_key=MufexKeys.api_key,\n",
        "    secret_key=MufexKeys.secret_key,\n",
        "    use_test_net=False,\n",
        ")\n",
        "\n",
        "%load_ext autoreload\n",
        "%autoreload 2\n"
      ]
    },
    {
      "cell_type": "code",
      "execution_count": 3,
      "metadata": {},
      "outputs": [
        {
          "name": "stdout",
          "output_type": "stream",
          "text": [
            "It took 00 mins and 01 seconds to download 200 candles\n"
          ]
        }
      ],
      "source": [
        "candles = mufex_main.get_candles_df(\n",
        "    symbol=\"BTCUSDT\",\n",
        "    timeframe=\"5m\",\n",
        ")"
      ]
    },
    {
      "cell_type": "code",
      "execution_count": null,
      "metadata": {},
      "outputs": [],
      "source": [
        "from nb_quantfreedom.nb_enums import BacktestSettings, DynamicOrderSettingsArrays, LeverageModeType, PositionModeType, StaticOrderSettings\n",
        "from nb_quantfreedom.nb_helper_funcs import nb_dos_cart_product\n",
        "\n",
        "\n",
        "mufex_main.set_exchange_settings(\n",
        "    symbol=\"BTCUSDT\",\n",
        "    position_mode=PositionModeType.HedgeMode,\n",
        "    leverage_mode=LeverageModeType.Isolated,\n",
        ")\n",
        "backtest_settings = BacktestSettings()\n",
        "dos_arrays = DynamicOrderSettingsArrays(\n",
        "    entry_size_asset=np.array([0]),\n",
        "    max_equity_risk_pct=np.array([3]),\n",
        "    max_trades=np.array([5]),\n",
        "    num_candles=np.array([61]),\n",
        "    risk_account_pct_size=np.array([0.2, 5]),\n",
        "    risk_reward=np.array([64.5]),\n",
        "    sl_based_on_add_pct=np.array([2]),\n",
        "    sl_based_on_lookback=np.array([6]),\n",
        "    sl_bcb_type=np.array([2]),\n",
        "    sl_to_be_cb_type=np.array([1.948, 6]),\n",
        "    sl_to_be_when_pct=np.array([1000]),\n",
        "    sl_to_be_ze_type=np.array([54.61]),\n",
        "    static_leverage=np.array([153]),\n",
        "    trail_sl_bcb_type=np.array([0.64654]),\n",
        "    trail_sl_by_pct=np.array([1.20]),\n",
        "    trail_sl_when_pct=np.array([156.6]),\n",
        ")\n",
        "static_os = StaticOrderSettings(\n",
        "    \n",
        ")\n",
        "dos_cart_arrays = nb_dos_cart_product(\n",
        "    dos_arrays=dos_arrays,\n",
        ")"
      ]
    }
  ],
  "metadata": {
    "kernelspec": {
      "display_name": "qfFree",
      "language": "python",
      "name": "python3"
    },
    "language_info": {
      "codemirror_mode": {
        "name": "ipython",
        "version": 3
      },
      "file_extension": ".py",
      "mimetype": "text/x-python",
      "name": "python",
      "nbconvert_exporter": "python",
      "pygments_lexer": "ipython3",
      "version": "3.10.10"
    },
    "orig_nbformat": 4
  },
  "nbformat": 4,
  "nbformat_minor": 2
}
