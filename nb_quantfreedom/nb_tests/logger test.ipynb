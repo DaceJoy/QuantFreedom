{
  "cells": [
    {
      "cell_type": "code",
      "execution_count": null,
      "metadata": {},
      "outputs": [],
      "source": [
        "# import os\n",
        "# import sys\n",
        "\n",
        "# sys.dont_write_bytecode = True\n",
        "# os.environ[\"NUMBA_DISABLE_JIT\"] = \"1\"\n"
      ]
    },
    {
      "cell_type": "code",
      "execution_count": null,
      "metadata": {},
      "outputs": [],
      "source": [
        "import numpy as np\n",
        "import pandas as pd\n",
        "from numba import njit\n",
        "import logging\n",
        "from my_stuff import MufexKeys\n",
        "from nb_quantfreedom.exchanges.mufex_exchange.mufex import Mufex\n",
        "from nb_quantfreedom.nb_custom_logger import CustomLogger, nb_WontLog\n",
        "\n",
        "from nb_quantfreedom.nb_helper_funcs import get_to_the_upside_nb, nb_get_dos\n",
        "from nb_quantfreedom.nb_enums import (\n",
        "    BacktestSettings,\n",
        "    CandleBodyType,\n",
        "    CandleProcessingType,\n",
        "    DecreasePosition,\n",
        "    DynamicOrderSettingsArrays,\n",
        "    ExchangeSettings,\n",
        "    IncreasePositionType,\n",
        "    LeverageStrategyType,\n",
        "    LoggerSettings,\n",
        "    LongOrShortType,\n",
        "    MoveStopLoss,\n",
        "    OrderResults,\n",
        "    OrderStatus,\n",
        "    PriceGetterType,\n",
        "    RejectedOrder,\n",
        "    ZeroOrEntryType,\n",
        "    StopLossStrategyType,\n",
        "    TakeProfitFeeType,\n",
        "    TakeProfitStrategyType,\n",
        "    StaticOrderSettings,\n",
        "    ZeroOrEntryType,\n",
        "    strat_df_array_dt,\n",
        ")\n",
        "from nb_quantfreedom.nb_order_handler.nb_decrease_position import nb_DecreasePosition, nb_Long_DP\n",
        "from nb_quantfreedom.nb_order_handler.nb_increase_position import (\n",
        "    nb_IncreasePosition,\n",
        "    nb_Long_RPAandSLB,\n",
        "    nb_Long_SEP,\n",
        ")\n",
        "from nb_quantfreedom.nb_order_handler.nb_leverage import (\n",
        "    nb_Leverage,\n",
        "    nb_Long_DLev,\n",
        "    nb_Long_Leverage,\n",
        "    nb_Long_SLev,\n",
        ")\n",
        "from nb_quantfreedom.nb_order_handler.nb_class_helpers import (\n",
        "    nb_GetMaxPrice,\n",
        "    nb_GetMinPrice,\n",
        "    nb_Long_SLToEntry,\n",
        "    nb_Long_SLToZero,\n",
        "    nb_PriceGetter,\n",
        "    nb_ZeroOrEntry,\n",
        ")\n",
        "\n",
        "from nb_quantfreedom.nb_order_handler.nb_stop_loss import (\n",
        "    nb_Long_SLBCB,\n",
        "    nb_Long_StopLoss,\n",
        "    nb_MoveSL,\n",
        "    nb_StopLoss,\n",
        ")\n",
        "from nb_quantfreedom.nb_order_handler.nb_take_profit import (\n",
        "    nb_Long_RR,\n",
        "    nb_Long_TPHitReg,\n",
        "    nb_TakeProfit,\n",
        ")\n",
        "from nb_quantfreedom.strategies.nb_strategy import (\n",
        "    nb_BacktestInd,\n",
        "    nb_CreateInd,\n",
        "    nb_Strategy,\n",
        "    nb_TradingInd,\n",
        ")\n",
        "\n",
        "mufex_main = Mufex(\n",
        "    api_key=MufexKeys.api_key,\n",
        "    secret_key=MufexKeys.secret_key,\n",
        "    use_test_net=False,\n",
        ")\n",
        "\n",
        "%load_ext autoreload\n",
        "%autoreload 2\n"
      ]
    },
    {
      "cell_type": "code",
      "execution_count": null,
      "metadata": {},
      "outputs": [],
      "source": [
        "candles = mufex_main.get_candles_df(\n",
        "    symbol=\"BTCUSDT\",\n",
        "    timeframe=\"5m\",\n",
        "    limit=1000\n",
        ")"
      ]
    },
    {
      "cell_type": "code",
      "execution_count": null,
      "metadata": {},
      "outputs": [],
      "source": [
        "@njit(cache=True)\n",
        "def custom_logger():\n",
        "    CustomLogger().debug(\"hey there\")\n",
        "    \n",
        "@njit(cache=True)\n",
        "def print_logger():\n",
        "    nb_WontLog().debug(\"hey there\")\n",
        "    "
      ]
    },
    {
      "cell_type": "code",
      "execution_count": null,
      "metadata": {},
      "outputs": [],
      "source": [
        "print_logger()"
      ]
    },
    {
      "cell_type": "code",
      "execution_count": null,
      "metadata": {},
      "outputs": [],
      "source": [
        "custom_logger()"
      ]
    }
  ],
  "metadata": {
    "kernelspec": {
      "display_name": "qfFree",
      "language": "python",
      "name": "python3"
    },
    "language_info": {
      "codemirror_mode": {
        "name": "ipython",
        "version": 3
      },
      "file_extension": ".py",
      "mimetype": "text/x-python",
      "name": "python",
      "nbconvert_exporter": "python",
      "pygments_lexer": "ipython3",
      "version": "3.10.10"
    },
    "orig_nbformat": 4
  },
  "nbformat": 4,
  "nbformat_minor": 2
}
