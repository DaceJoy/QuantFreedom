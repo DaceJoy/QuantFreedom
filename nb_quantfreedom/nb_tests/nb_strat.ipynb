{
  "cells": [
    {
      "cell_type": "code",
      "execution_count": 1,
      "metadata": {},
      "outputs": [],
      "source": [
        "import os\n",
        "import sys\n",
        "\n",
        "sys.dont_write_bytecode = True\n",
        "# os.environ[\"NUMBA_DISABLE_JIT\"] = \"1\"\n",
        "# os.environ[\"NUMBA_DEBUG_FRONTEND\"] = \"1\"\n",
        "# os.environ[\"NUMBA_DEBUG\"] = \"1\"\n",
        "# os.environ[\"NUMBA_DEBUGINFO\"] = \"1\"\n",
        "# os.environ[\"NUMBA_SHOW_HELP\"] = \"1\"\n",
        "# os.environ[\"NUMBA_FULL_TRACEBACKS\"] = \"1\"\n",
        "# os.environ[\"NUMBA_DEVELOPER_MODE\"] = \"1\""
      ]
    },
    {
      "cell_type": "code",
      "execution_count": 2,
      "metadata": {},
      "outputs": [],
      "source": [
        "from my_stuff import MufexKeys\n",
        "from nb_quantfreedom.exchanges.mufex_exchange.mufex import Mufex\n",
        "from nb_quantfreedom.nb_base import backtest_df_only\n",
        "from nb_quantfreedom.nb_enums import *\n",
        "from nb_quantfreedom.nb_helper_funcs import nb_dos_cart_product\n",
        "\n",
        "mufex_main = Mufex(\n",
        "    api_key=MufexKeys.api_key,\n",
        "    secret_key=MufexKeys.secret_key,\n",
        "    use_test_net=False,\n",
        ")\n",
        "\n",
        "%load_ext autoreload\n",
        "%autoreload 2\n"
      ]
    },
    {
      "cell_type": "code",
      "execution_count": 3,
      "metadata": {},
      "outputs": [
        {
          "name": "stdout",
          "output_type": "stream",
          "text": [
            "It took 00 mins and 01 seconds to download 200 candles\n"
          ]
        }
      ],
      "source": [
        "candles = mufex_main.get_candles_df(\n",
        "    symbol=\"BTCUSDT\",\n",
        "    timeframe=\"15m\",\n",
        "    candles_to_dl=200,\n",
        ")"
      ]
    },
    {
      "cell_type": "code",
      "execution_count": 4,
      "metadata": {},
      "outputs": [],
      "source": [
        "mufex_main.set_exchange_settings(\n",
        "    symbol=\"BTCUSDT\",\n",
        "    position_mode=PositionModeType.HedgeMode,\n",
        "    leverage_mode=LeverageModeType.Isolated,\n",
        ")\n",
        "backtest_settings = BacktestSettings()\n",
        "dos_arrays = DynamicOrderSettingsArrays(\n",
        "    entry_size_asset=np.array([0]),\n",
        "    max_equity_risk_pct=np.array([3]),\n",
        "    max_trades=np.array([5]),\n",
        "    num_candles=np.array([60]),\n",
        "    risk_account_pct_size=np.array([3, 5]),\n",
        "    risk_reward=np.array([3]),\n",
        "    sl_based_on_add_pct=np.array([.01]),\n",
        "    sl_based_on_lookback=np.array([10]),\n",
        "    sl_bcb_type=np.array([CandleBodyType.Low]),\n",
        "    sl_to_be_cb_type=np.array([0]),\n",
        "    sl_to_be_when_pct=np.array([0]),\n",
        "    sl_to_be_ze_type=np.array([0]),\n",
        "    static_leverage=np.array([0]),\n",
        "    trail_sl_bcb_type=np.array([CandleBodyType.Low]),\n",
        "    trail_sl_by_pct=np.array([1.20]),\n",
        "    trail_sl_when_pct=np.array([.001]),\n",
        ")\n",
        "static_os = StaticOrderSettings(\n",
        "    increase_position_type=IncreasePositionType.SmalletEntrySizeAsset,\n",
        "    leverage_strategy_type=LeverageStrategyType.Dynamic,\n",
        "    long_or_short=LongOrShortType.Long,\n",
        "    logger_bool=True,\n",
        "    pg_min_max_sl_bcb=PriceGetterType.Min,\n",
        "    sl_to_be_bool=False,\n",
        "    z_or_e_type=ZeroOrEntryType.Nothing,\n",
        "    sl_strategy_type=StopLossStrategyType.SLBasedOnCandleBody,\n",
        "    tp_strategy_type=TakeProfitStrategyType.RiskReward,\n",
        "    tp_fee_type=TakeProfitFeeType.Limit,\n",
        "    trail_sl_bool=True,\n",
        ")\n",
        "dos_cart_arrays = nb_dos_cart_product(\n",
        "    dos_arrays=dos_arrays,\n",
        ")"
      ]
    },
    {
      "cell_type": "code",
      "execution_count": 5,
      "metadata": {},
      "outputs": [
        {
          "name": "stdout",
          "output_type": "stream",
          "text": [
            "Starting the backtest now ... and also here are some stats for your backtest.\n",
            "\n",
            "Total indicator settings to test: {total_indicator_settings:,}\n",
            "Total order settings to test: {total_order_settings:,}\n",
            "Total combinations of settings to test: {total_indicator_settings * total_order_settings:,}\n",
            "\n",
            "Total candles: {total_bars:,}\n",
            "Total candles to test: {total_indicator_settings * total_order_settings * total_bars:,}\n"
          ]
        },
        {
          "ename": "TypingError",
          "evalue": "Failed in nopython mode pipeline (step: nopython frontend)\n\u001b[1m\u001b[1m\u001b[1mNo implementation of function Function(<intrinsic exception_match>) found for signature:\n \n >>> exception_match(none, RejectedOrder)\n \nThere are 2 candidate implementations:\n\u001b[1m      - Of which 2 did not match due to:\n      Intrinsic in function 'exception_match': File: numba\\core\\unsafe\\eh.py: Line 47.\n        With argument(s): '(none, RejectedOrder)':\u001b[0m\n\u001b[1m       Rejected as the implementation raised a specific error:\n         UnsupportedError: \u001b[1mException matching is limited to <class 'Exception'>\u001b[0m\u001b[0m\n  raised from e:\\Coding\\venvs\\qfree\\lib\\site-packages\\numba\\core\\unsafe\\eh.py:55\n\u001b[0m\n\u001b[0m\u001b[1mDuring: resolving callee type: Function(<intrinsic exception_match>)\u001b[0m\n\u001b[0m\u001b[1mDuring: typing of call at E:\\Coding\\backtesters\\QuantFreedom\\nb_quantfreedom\\numb_sim.py (175)\n\u001b[0m\n\u001b[1m\nFile \"..\\numb_sim.py\", line 175:\u001b[0m\n\u001b[1mdef nb_run_backtest(\n    <source elided>\n                        )\n\u001b[1m                    except RejectedOrder:\n\u001b[0m                    \u001b[1m^\u001b[0m\u001b[0m\n",
          "output_type": "error",
          "traceback": [
            "\u001b[1;31m---------------------------------------------------------------------------\u001b[0m",
            "\u001b[1;31mTypingError\u001b[0m                               Traceback (most recent call last)",
            "\u001b[1;32me:\\Coding\\backtesters\\QuantFreedom\\nb_quantfreedom\\nb_tests\\nb_strat.ipynb Cell 5\u001b[0m line \u001b[0;36m1\n\u001b[1;32m----> <a href='vscode-notebook-cell:/e%3A/Coding/backtesters/QuantFreedom/nb_quantfreedom/nb_tests/nb_strat.ipynb#W4sZmlsZQ%3D%3D?line=0'>1</a>\u001b[0m backtest_df_only(\n\u001b[0;32m      <a href='vscode-notebook-cell:/e%3A/Coding/backtesters/QuantFreedom/nb_quantfreedom/nb_tests/nb_strat.ipynb#W4sZmlsZQ%3D%3D?line=1'>2</a>\u001b[0m     backtest_settings\u001b[39m=\u001b[39;49mbacktest_settings,\n\u001b[0;32m      <a href='vscode-notebook-cell:/e%3A/Coding/backtesters/QuantFreedom/nb_quantfreedom/nb_tests/nb_strat.ipynb#W4sZmlsZQ%3D%3D?line=2'>3</a>\u001b[0m     candle_processing_mode\u001b[39m=\u001b[39;49mCandleProcessingType\u001b[39m.\u001b[39;49mBacktest,\n\u001b[0;32m      <a href='vscode-notebook-cell:/e%3A/Coding/backtesters/QuantFreedom/nb_quantfreedom/nb_tests/nb_strat.ipynb#W4sZmlsZQ%3D%3D?line=3'>4</a>\u001b[0m     candles\u001b[39m=\u001b[39;49mcandles,\n\u001b[0;32m      <a href='vscode-notebook-cell:/e%3A/Coding/backtesters/QuantFreedom/nb_quantfreedom/nb_tests/nb_strat.ipynb#W4sZmlsZQ%3D%3D?line=4'>5</a>\u001b[0m     dos_cart_arrays\u001b[39m=\u001b[39;49mdos_cart_arrays,\n\u001b[0;32m      <a href='vscode-notebook-cell:/e%3A/Coding/backtesters/QuantFreedom/nb_quantfreedom/nb_tests/nb_strat.ipynb#W4sZmlsZQ%3D%3D?line=5'>6</a>\u001b[0m     exchange_settings\u001b[39m=\u001b[39;49mmufex_main\u001b[39m.\u001b[39;49mexchange_settings,\n\u001b[0;32m      <a href='vscode-notebook-cell:/e%3A/Coding/backtesters/QuantFreedom/nb_quantfreedom/nb_tests/nb_strat.ipynb#W4sZmlsZQ%3D%3D?line=6'>7</a>\u001b[0m     logger_settings\u001b[39m=\u001b[39;49m\u001b[39m'\u001b[39;49m\u001b[39mp\u001b[39;49m\u001b[39m'\u001b[39;49m,\n\u001b[0;32m      <a href='vscode-notebook-cell:/e%3A/Coding/backtesters/QuantFreedom/nb_quantfreedom/nb_tests/nb_strat.ipynb#W4sZmlsZQ%3D%3D?line=7'>8</a>\u001b[0m     \u001b[39m# logger_settings=LoggerSettings(log_debug=True, create_trades_logger=False),\u001b[39;49;00m\n\u001b[0;32m      <a href='vscode-notebook-cell:/e%3A/Coding/backtesters/QuantFreedom/nb_quantfreedom/nb_tests/nb_strat.ipynb#W4sZmlsZQ%3D%3D?line=8'>9</a>\u001b[0m     starting_equity\u001b[39m=\u001b[39;49m\u001b[39m1000.0\u001b[39;49m,\n\u001b[0;32m     <a href='vscode-notebook-cell:/e%3A/Coding/backtesters/QuantFreedom/nb_quantfreedom/nb_tests/nb_strat.ipynb#W4sZmlsZQ%3D%3D?line=9'>10</a>\u001b[0m     static_os\u001b[39m=\u001b[39;49mstatic_os,\n\u001b[0;32m     <a href='vscode-notebook-cell:/e%3A/Coding/backtesters/QuantFreedom/nb_quantfreedom/nb_tests/nb_strat.ipynb#W4sZmlsZQ%3D%3D?line=10'>11</a>\u001b[0m )\n",
            "File \u001b[1;32mE:\\Coding\\backtesters\\QuantFreedom\\nb_quantfreedom\\nb_base.py:221\u001b[0m, in \u001b[0;36mbacktest_df_only\u001b[1;34m(backtest_settings, candle_processing_mode, candles, dos_cart_arrays, exchange_settings, logger_settings, starting_equity, static_os)\u001b[0m\n\u001b[0;32m    218\u001b[0m logger\u001b[39m.\u001b[39mlog_info(\u001b[39m\"\u001b[39m\u001b[39m\\n\u001b[39;00m\u001b[39mTotal candles: \u001b[39m\u001b[39m{total_bars:,}\u001b[39;00m\u001b[39m\"\u001b[39m)\n\u001b[0;32m    219\u001b[0m logger\u001b[39m.\u001b[39mlog_info(\u001b[39m\"\u001b[39m\u001b[39mTotal candles to test: \u001b[39m\u001b[39m{\u001b[39m\u001b[39mtotal_indicator_settings * total_order_settings * total_bars:,}\u001b[39m\u001b[39m\"\u001b[39m)\n\u001b[1;32m--> 221\u001b[0m strategy_result_records \u001b[39m=\u001b[39m nb_run_backtest(\n\u001b[0;32m    222\u001b[0m     backtest_settings\u001b[39m=\u001b[39;49mbacktest_settings,\n\u001b[0;32m    223\u001b[0m     candles\u001b[39m=\u001b[39;49mcandles,\n\u001b[0;32m    224\u001b[0m     checker_liq_hit\u001b[39m=\u001b[39;49mchecker_liq_hit,\n\u001b[0;32m    225\u001b[0m     checker_sl_hit\u001b[39m=\u001b[39;49mchecker_sl_hit,\n\u001b[0;32m    226\u001b[0m     checker_sl_to_be\u001b[39m=\u001b[39;49mchecker_sl_to_be,\n\u001b[0;32m    227\u001b[0m     checker_tp_hit\u001b[39m=\u001b[39;49mchecker_tp_hit,\n\u001b[0;32m    228\u001b[0m     checker_tsl\u001b[39m=\u001b[39;49mchecker_tsl,\n\u001b[0;32m    229\u001b[0m     dec_pos_calculator\u001b[39m=\u001b[39;49mdec_pos_calculator,\n\u001b[0;32m    230\u001b[0m     dos_cart_arrays\u001b[39m=\u001b[39;49mdos_cart_arrays,\n\u001b[0;32m    231\u001b[0m     exchange_settings\u001b[39m=\u001b[39;49mexchange_settings,\n\u001b[0;32m    232\u001b[0m     exit_fee_pct\u001b[39m=\u001b[39;49mexit_fee_pct,\n\u001b[0;32m    233\u001b[0m     inc_pos_calculator\u001b[39m=\u001b[39;49minc_pos_calculator,\n\u001b[0;32m    234\u001b[0m     lev_calculator\u001b[39m=\u001b[39;49mlev_calculator,\n\u001b[0;32m    235\u001b[0m     logger\u001b[39m=\u001b[39;49mlogger,\n\u001b[0;32m    236\u001b[0m     set_z_e\u001b[39m=\u001b[39;49mset_z_e,\n\u001b[0;32m    237\u001b[0m     sl_bcb_price_getter\u001b[39m=\u001b[39;49msl_bcb_price_getter,\n\u001b[0;32m    238\u001b[0m     sl_calculator\u001b[39m=\u001b[39;49msl_calculator,\n\u001b[0;32m    239\u001b[0m     sl_mover\u001b[39m=\u001b[39;49msl_mover,\n\u001b[0;32m    240\u001b[0m     starting_equity\u001b[39m=\u001b[39;49mstarting_equity,\n\u001b[0;32m    241\u001b[0m     strategy\u001b[39m=\u001b[39;49mstrategy,\n\u001b[0;32m    242\u001b[0m     ind_creator\u001b[39m=\u001b[39;49mind_creator,\n\u001b[0;32m    243\u001b[0m     total_bars\u001b[39m=\u001b[39;49mtotal_bars,\n\u001b[0;32m    244\u001b[0m     total_indicator_settings\u001b[39m=\u001b[39;49mtotal_indicator_settings,\n\u001b[0;32m    245\u001b[0m     total_order_settings\u001b[39m=\u001b[39;49mtotal_order_settings,\n\u001b[0;32m    246\u001b[0m     tp_calculator\u001b[39m=\u001b[39;49mtp_calculator,\n\u001b[0;32m    247\u001b[0m )\n\u001b[0;32m    248\u001b[0m \u001b[39mreturn\u001b[39;00m pd\u001b[39m.\u001b[39mDataFrame(strategy_result_records)\n",
            "File \u001b[1;32me:\\Coding\\venvs\\qfree\\lib\\site-packages\\numba\\core\\dispatcher.py:468\u001b[0m, in \u001b[0;36m_DispatcherBase._compile_for_args\u001b[1;34m(self, *args, **kws)\u001b[0m\n\u001b[0;32m    464\u001b[0m         msg \u001b[39m=\u001b[39m (\u001b[39mf\u001b[39m\u001b[39m\"\u001b[39m\u001b[39m{\u001b[39;00m\u001b[39mstr\u001b[39m(e)\u001b[39m.\u001b[39mrstrip()\u001b[39m}\u001b[39;00m\u001b[39m \u001b[39m\u001b[39m\\n\u001b[39;00m\u001b[39m\\n\u001b[39;00m\u001b[39mThis error may have been caused \u001b[39m\u001b[39m\"\u001b[39m\n\u001b[0;32m    465\u001b[0m                \u001b[39mf\u001b[39m\u001b[39m\"\u001b[39m\u001b[39mby the following argument(s):\u001b[39m\u001b[39m\\n\u001b[39;00m\u001b[39m{\u001b[39;00margs_str\u001b[39m}\u001b[39;00m\u001b[39m\\n\u001b[39;00m\u001b[39m\"\u001b[39m)\n\u001b[0;32m    466\u001b[0m         e\u001b[39m.\u001b[39mpatch_message(msg)\n\u001b[1;32m--> 468\u001b[0m     error_rewrite(e, \u001b[39m'\u001b[39;49m\u001b[39mtyping\u001b[39;49m\u001b[39m'\u001b[39;49m)\n\u001b[0;32m    469\u001b[0m \u001b[39mexcept\u001b[39;00m errors\u001b[39m.\u001b[39mUnsupportedError \u001b[39mas\u001b[39;00m e:\n\u001b[0;32m    470\u001b[0m     \u001b[39m# Something unsupported is present in the user code, add help info\u001b[39;00m\n\u001b[0;32m    471\u001b[0m     error_rewrite(e, \u001b[39m'\u001b[39m\u001b[39munsupported_error\u001b[39m\u001b[39m'\u001b[39m)\n",
            "File \u001b[1;32me:\\Coding\\venvs\\qfree\\lib\\site-packages\\numba\\core\\dispatcher.py:409\u001b[0m, in \u001b[0;36m_DispatcherBase._compile_for_args.<locals>.error_rewrite\u001b[1;34m(e, issue_type)\u001b[0m\n\u001b[0;32m    407\u001b[0m     \u001b[39mraise\u001b[39;00m e\n\u001b[0;32m    408\u001b[0m \u001b[39melse\u001b[39;00m:\n\u001b[1;32m--> 409\u001b[0m     \u001b[39mraise\u001b[39;00m e\u001b[39m.\u001b[39mwith_traceback(\u001b[39mNone\u001b[39;00m)\n",
            "\u001b[1;31mTypingError\u001b[0m: Failed in nopython mode pipeline (step: nopython frontend)\n\u001b[1m\u001b[1m\u001b[1mNo implementation of function Function(<intrinsic exception_match>) found for signature:\n \n >>> exception_match(none, RejectedOrder)\n \nThere are 2 candidate implementations:\n\u001b[1m      - Of which 2 did not match due to:\n      Intrinsic in function 'exception_match': File: numba\\core\\unsafe\\eh.py: Line 47.\n        With argument(s): '(none, RejectedOrder)':\u001b[0m\n\u001b[1m       Rejected as the implementation raised a specific error:\n         UnsupportedError: \u001b[1mException matching is limited to <class 'Exception'>\u001b[0m\u001b[0m\n  raised from e:\\Coding\\venvs\\qfree\\lib\\site-packages\\numba\\core\\unsafe\\eh.py:55\n\u001b[0m\n\u001b[0m\u001b[1mDuring: resolving callee type: Function(<intrinsic exception_match>)\u001b[0m\n\u001b[0m\u001b[1mDuring: typing of call at E:\\Coding\\backtesters\\QuantFreedom\\nb_quantfreedom\\numb_sim.py (175)\n\u001b[0m\n\u001b[1m\nFile \"..\\numb_sim.py\", line 175:\u001b[0m\n\u001b[1mdef nb_run_backtest(\n    <source elided>\n                        )\n\u001b[1m                    except RejectedOrder:\n\u001b[0m                    \u001b[1m^\u001b[0m\u001b[0m\n"
          ]
        }
      ],
      "source": [
        "backtest_df_only(\n",
        "    backtest_settings=backtest_settings,\n",
        "    candle_processing_mode=CandleProcessingType.Backtest,\n",
        "    candles=candles,\n",
        "    dos_cart_arrays=dos_cart_arrays,\n",
        "    exchange_settings=mufex_main.exchange_settings,\n",
        "    logger_settings='p',\n",
        "    # logger_settings=LoggerSettings(log_debug=True, create_trades_logger=False),\n",
        "    starting_equity=1000.0,\n",
        "    static_os=static_os,\n",
        ")"
      ]
    }
  ],
  "metadata": {
    "kernelspec": {
      "display_name": "qfFree",
      "language": "python",
      "name": "python3"
    },
    "language_info": {
      "codemirror_mode": {
        "name": "ipython",
        "version": 3
      },
      "file_extension": ".py",
      "mimetype": "text/x-python",
      "name": "python",
      "nbconvert_exporter": "python",
      "pygments_lexer": "ipython3",
      "version": "3.10.10"
    },
    "orig_nbformat": 4
  },
  "nbformat": 4,
  "nbformat_minor": 2
}
