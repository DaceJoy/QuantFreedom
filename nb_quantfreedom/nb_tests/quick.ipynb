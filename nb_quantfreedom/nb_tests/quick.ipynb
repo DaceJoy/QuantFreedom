{
  "cells": [
    {
      "cell_type": "code",
      "execution_count": 2,
      "metadata": {},
      "outputs": [],
      "source": [
        "# import os\n",
        "# import sys\n",
        "\n",
        "# sys.dont_write_bytecode = True\n",
        "# os.environ[\"NUMBA_DISABLE_JIT\"] = \"1\"\n"
      ]
    },
    {
      "cell_type": "code",
      "execution_count": 3,
      "metadata": {},
      "outputs": [],
      "source": [
        "import numpy as np\n",
        "import pandas as pd\n",
        "from my_stuff import MufexKeys\n",
        "from nb_quantfreedom.exchanges.mufex_exchange.mufex import Mufex\n",
        "from nb_quantfreedom.nb_enums import DynamicOrderSettingsArrays\n",
        "from nb_quantfreedom.utils import pretty_qf\n",
        "from requests import get\n",
        "from talib import RSI\n",
        "from numba import njit\n",
        "np.set_printoptions(formatter={\"float_kind\": \"{:.2f}\".format})\n",
        "\n",
        "pd.options.display.float_format = \"{:.2f}\".format\n",
        "\n",
        "mufex_main = Mufex(\n",
        "    api_key=MufexKeys.api_key,\n",
        "    secret_key=MufexKeys.secret_key,\n",
        "    use_test_net=False,\n",
        ")\n",
        "\n",
        "%load_ext autoreload\n",
        "%autoreload 2\n"
      ]
    },
    {
      "cell_type": "code",
      "execution_count": 18,
      "metadata": {},
      "outputs": [
        {
          "name": "stdout",
          "output_type": "stream",
          "text": [
            "It took 00 mins and 00 seconds to download 200 candles\n"
          ]
        }
      ],
      "source": [
        "candles = mufex_main.get_candles_df(\n",
        "    symbol=\"BTCUSDT\",\n",
        "    timeframe=\"15m\",\n",
        "    candles_to_dl=200,\n",
        ")"
      ]
    },
    {
      "cell_type": "code",
      "execution_count": 32,
      "metadata": {},
      "outputs": [
        {
          "ename": "TypingError",
          "evalue": "Failed in nopython mode pipeline (step: nopython frontend)\n\u001b[1m\u001b[1mNo implementation of function Function(<built-in function add>) found for signature:\n \n >>> add(unicode_type, none)\n \nThere are 20 candidate implementations:\n\u001b[1m  - Of which 18 did not match due to:\n  Overload of function 'add': File: <numerous>: Line N/A.\n    With argument(s): '(unicode_type, none)':\u001b[0m\n\u001b[1m   No match.\u001b[0m\n\u001b[1m  - Of which 2 did not match due to:\n  Operator Overload in function 'add': File: unknown: Line unknown.\n    With argument(s): '(unicode_type, none)':\u001b[0m\n\u001b[1m   No match for registered cases:\n    * (int64, int64) -> int64\n    * (int64, uint64) -> int64\n    * (uint64, int64) -> int64\n    * (uint64, uint64) -> uint64\n    * (float32, float32) -> float32\n    * (float64, float64) -> float64\n    * (complex64, complex64) -> complex64\n    * (complex128, complex128) -> complex128\u001b[0m\n\u001b[0m\n\u001b[0m\u001b[1mDuring: typing of intrinsic-call at C:\\Users\\User\\AppData\\Local\\Temp\\ipykernel_21040\\1356445764.py (7)\u001b[0m\n\u001b[1m\nFile \"C:\\Users\\User\\AppData\\Local\\Temp\\ipykernel_21040\\1356445764.py\", line 7:\u001b[0m\n\u001b[1mdef try_func():\n    <source elided>\n    msg = (\n\u001b[1m        \"klsjdflkjsdf \"\n\u001b[0m        \u001b[1m^\u001b[0m\u001b[0m\n",
          "output_type": "error",
          "traceback": [
            "\u001b[1;31m---------------------------------------------------------------------------\u001b[0m",
            "\u001b[1;31mTypingError\u001b[0m                               Traceback (most recent call last)",
            "\u001b[1;32me:\\Coding\\backtesters\\QuantFreedom\\nb_quantfreedom\\nb_tests\\quick.ipynb Cell 4\u001b[0m line \u001b[0;36m1\n\u001b[0;32m      <a href='vscode-notebook-cell:/e%3A/Coding/backtesters/QuantFreedom/nb_quantfreedom/nb_tests/quick.ipynb#W2sZmlsZQ%3D%3D?line=5'>6</a>\u001b[0m     msg \u001b[39m=\u001b[39m (\n\u001b[0;32m      <a href='vscode-notebook-cell:/e%3A/Coding/backtesters/QuantFreedom/nb_quantfreedom/nb_tests/quick.ipynb#W2sZmlsZQ%3D%3D?line=6'>7</a>\u001b[0m         \u001b[39m\"\u001b[39m\u001b[39mklsjdflkjsdf \u001b[39m\u001b[39m\"\u001b[39m\n\u001b[0;32m      <a href='vscode-notebook-cell:/e%3A/Coding/backtesters/QuantFreedom/nb_quantfreedom/nb_tests/quick.ipynb#W2sZmlsZQ%3D%3D?line=7'>8</a>\u001b[0m         \u001b[39m+\u001b[39m \u001b[39mstr\u001b[39m(\u001b[39m4545345\u001b[39m)\n\u001b[1;32m   (...)\u001b[0m\n\u001b[0;32m     <a href='vscode-notebook-cell:/e%3A/Coding/backtesters/QuantFreedom/nb_quantfreedom/nb_tests/quick.ipynb#W2sZmlsZQ%3D%3D?line=11'>12</a>\u001b[0m         \u001b[39m+\u001b[39m \u001b[39mstr\u001b[39m(\u001b[39m349857349857\u001b[39m) \u001b[39m+\u001b[39m \u001b[39mNone\u001b[39;00m\n\u001b[0;32m     <a href='vscode-notebook-cell:/e%3A/Coding/backtesters/QuantFreedom/nb_quantfreedom/nb_tests/quick.ipynb#W2sZmlsZQ%3D%3D?line=12'>13</a>\u001b[0m     )\n\u001b[0;32m     <a href='vscode-notebook-cell:/e%3A/Coding/backtesters/QuantFreedom/nb_quantfreedom/nb_tests/quick.ipynb#W2sZmlsZQ%3D%3D?line=13'>14</a>\u001b[0m     \u001b[39mprint\u001b[39m(msg)\n\u001b[1;32m---> <a href='vscode-notebook-cell:/e%3A/Coding/backtesters/QuantFreedom/nb_quantfreedom/nb_tests/quick.ipynb#W2sZmlsZQ%3D%3D?line=16'>17</a>\u001b[0m try_func()\n",
            "File \u001b[1;32me:\\Coding\\venvs\\qfree\\lib\\site-packages\\numba\\core\\dispatcher.py:468\u001b[0m, in \u001b[0;36m_DispatcherBase._compile_for_args\u001b[1;34m(self, *args, **kws)\u001b[0m\n\u001b[0;32m    464\u001b[0m         msg \u001b[39m=\u001b[39m (\u001b[39mf\u001b[39m\u001b[39m\"\u001b[39m\u001b[39m{\u001b[39;00m\u001b[39mstr\u001b[39m(e)\u001b[39m.\u001b[39mrstrip()\u001b[39m}\u001b[39;00m\u001b[39m \u001b[39m\u001b[39m\\n\u001b[39;00m\u001b[39m\\n\u001b[39;00m\u001b[39mThis error may have been caused \u001b[39m\u001b[39m\"\u001b[39m\n\u001b[0;32m    465\u001b[0m                \u001b[39mf\u001b[39m\u001b[39m\"\u001b[39m\u001b[39mby the following argument(s):\u001b[39m\u001b[39m\\n\u001b[39;00m\u001b[39m{\u001b[39;00margs_str\u001b[39m}\u001b[39;00m\u001b[39m\\n\u001b[39;00m\u001b[39m\"\u001b[39m)\n\u001b[0;32m    466\u001b[0m         e\u001b[39m.\u001b[39mpatch_message(msg)\n\u001b[1;32m--> 468\u001b[0m     error_rewrite(e, \u001b[39m'\u001b[39;49m\u001b[39mtyping\u001b[39;49m\u001b[39m'\u001b[39;49m)\n\u001b[0;32m    469\u001b[0m \u001b[39mexcept\u001b[39;00m errors\u001b[39m.\u001b[39mUnsupportedError \u001b[39mas\u001b[39;00m e:\n\u001b[0;32m    470\u001b[0m     \u001b[39m# Something unsupported is present in the user code, add help info\u001b[39;00m\n\u001b[0;32m    471\u001b[0m     error_rewrite(e, \u001b[39m'\u001b[39m\u001b[39munsupported_error\u001b[39m\u001b[39m'\u001b[39m)\n",
            "File \u001b[1;32me:\\Coding\\venvs\\qfree\\lib\\site-packages\\numba\\core\\dispatcher.py:409\u001b[0m, in \u001b[0;36m_DispatcherBase._compile_for_args.<locals>.error_rewrite\u001b[1;34m(e, issue_type)\u001b[0m\n\u001b[0;32m    407\u001b[0m     \u001b[39mraise\u001b[39;00m e\n\u001b[0;32m    408\u001b[0m \u001b[39melse\u001b[39;00m:\n\u001b[1;32m--> 409\u001b[0m     \u001b[39mraise\u001b[39;00m e\u001b[39m.\u001b[39mwith_traceback(\u001b[39mNone\u001b[39;00m)\n",
            "\u001b[1;31mTypingError\u001b[0m: Failed in nopython mode pipeline (step: nopython frontend)\n\u001b[1m\u001b[1mNo implementation of function Function(<built-in function add>) found for signature:\n \n >>> add(unicode_type, none)\n \nThere are 20 candidate implementations:\n\u001b[1m  - Of which 18 did not match due to:\n  Overload of function 'add': File: <numerous>: Line N/A.\n    With argument(s): '(unicode_type, none)':\u001b[0m\n\u001b[1m   No match.\u001b[0m\n\u001b[1m  - Of which 2 did not match due to:\n  Operator Overload in function 'add': File: unknown: Line unknown.\n    With argument(s): '(unicode_type, none)':\u001b[0m\n\u001b[1m   No match for registered cases:\n    * (int64, int64) -> int64\n    * (int64, uint64) -> int64\n    * (uint64, int64) -> int64\n    * (uint64, uint64) -> uint64\n    * (float32, float32) -> float32\n    * (float64, float64) -> float64\n    * (complex64, complex64) -> complex64\n    * (complex128, complex128) -> complex128\u001b[0m\n\u001b[0m\n\u001b[0m\u001b[1mDuring: typing of intrinsic-call at C:\\Users\\User\\AppData\\Local\\Temp\\ipykernel_21040\\1356445764.py (7)\u001b[0m\n\u001b[1m\nFile \"C:\\Users\\User\\AppData\\Local\\Temp\\ipykernel_21040\\1356445764.py\", line 7:\u001b[0m\n\u001b[1mdef try_func():\n    <source elided>\n    msg = (\n\u001b[1m        \"klsjdflkjsdf \"\n\u001b[0m        \u001b[1m^\u001b[0m\u001b[0m\n"
          ]
        }
      ],
      "source": [
        "from nb_quantfreedom.nb_enums import CandleBodyType, RejectedOrder\n",
        "\n",
        "\n",
        "@njit()\n",
        "def try_func():\n",
        "    msg = (\n",
        "        \"klsjdflkjsdf \"\n",
        "        + str(4545345)\n",
        "        + \"\\naskdjfwoierwejk \"\n",
        "        + str(4895908273.5651651)\n",
        "        + \"aksjdfkljasdkfjasdkjf alskjdf lkajsdf ;lkjsdfl;kjsdf ;lkjsaf laksfj \"\n",
        "        + str(349857349857) + None\n",
        "    )\n",
        "    print(msg)\n",
        "\n",
        "\n",
        "try_func()"
      ]
    },
    {
      "cell_type": "code",
      "execution_count": null,
      "metadata": {},
      "outputs": [],
      "source": [
        "from nb_quantfreedom.nb_helper_funcs import nb_float_to_str, pass_float_to_str, reg_float_to_str\n",
        "\n",
        "\n",
        "@njit()\n",
        "def try_func(tester: callable):\n",
        "    return tester(513.165)\n",
        "\n",
        "\n",
        "\n",
        "try_func(nb_float_to_str)"
      ]
    },
    {
      "cell_type": "code",
      "execution_count": null,
      "metadata": {},
      "outputs": [],
      "source": [
        "candles = mufex_main.get_candles_df(\n",
        "    symbol=\"BTCUSDT\",\n",
        "    timeframe=\"30m\",\n",
        "    limit=200\n",
        ")\n",
        "pd.DataFrame(candles)"
      ]
    },
    {
      "cell_type": "code",
      "execution_count": null,
      "metadata": {},
      "outputs": [],
      "source": [
        "\"hello \" + str(3949)"
      ]
    },
    {
      "cell_type": "code",
      "execution_count": null,
      "metadata": {},
      "outputs": [],
      "source": [
        "issubclass(StopIteration,Exception)"
      ]
    },
    {
      "cell_type": "code",
      "execution_count": null,
      "metadata": {},
      "outputs": [],
      "source": [
        "Exception.__subclasses__()"
      ]
    },
    {
      "cell_type": "code",
      "execution_count": null,
      "metadata": {},
      "outputs": [],
      "source": [
        "for i in range(5000):\n",
        "    closing_p = candles[:, 4]\n",
        "    up = np.zeros(closing_p.size)\n",
        "    down = np.zeros(closing_p.size)\n",
        "    mean_up = np.zeros(closing_p.size)\n",
        "    mean_down = np.zeros(closing_p.size)\n",
        "    rsi = np.full(closing_p.size, np.nan)\n",
        "    for counter in range(1, 13):\n",
        "        pchg = (closing_p[counter] - closing_p[counter - 1]) / closing_p[counter - 1]\n",
        "        if pchg > 0:\n",
        "            up[counter] = pchg\n",
        "        else:\n",
        "            down[counter] = abs(pchg)\n",
        "\n",
        "    for counter in range(14, 200):\n",
        "        pchg = (closing_p[counter] - closing_p[counter - 1]) / closing_p[counter - 1]\n",
        "        if pchg > 0:\n",
        "            up[counter] = pchg\n",
        "        else:\n",
        "            down[counter] = abs(pchg)\n",
        "        mean_up[counter] = np.mean(up[counter - 14 : counter + 1])\n",
        "        mean_down[counter] = np.mean(down[counter - 14 : counter + 1])\n",
        "        rsi[counter] = 100 - 100 / (1 + (mean_up[counter] / mean_down[counter]))"
      ]
    },
    {
      "cell_type": "code",
      "execution_count": null,
      "metadata": {},
      "outputs": [],
      "source": [
        "@njit(cache=True)\n",
        "def numba_test():\n",
        "    closing_p = candles[:, 4]\n",
        "    up = np.zeros(closing_p.size)\n",
        "    down = np.zeros(closing_p.size)\n",
        "    mean_up = np.zeros(closing_p.size)\n",
        "    mean_down = np.zeros(closing_p.size)\n",
        "    rsi = np.full(closing_p.size, np.nan)\n",
        "    for counter in range(1, 13):\n",
        "        pchg = (closing_p[counter] - closing_p[counter - 1]) / closing_p[counter - 1]\n",
        "        if pchg > 0:\n",
        "            up[counter] = pchg\n",
        "        else:\n",
        "            down[counter] = abs(pchg)\n",
        "\n",
        "    for counter in range(14, 200):\n",
        "        pchg = (closing_p[counter] - closing_p[counter - 1]) / closing_p[counter - 1]\n",
        "        if pchg > 0:\n",
        "            up[counter] = pchg\n",
        "        else:\n",
        "            down[counter] = abs(pchg)\n",
        "        mean_up[counter] = np.mean(up[counter - 14 : counter + 1])\n",
        "        mean_down[counter] = np.mean(down[counter - 14 : counter + 1])\n",
        "        rsi[counter] = 100 - 100 / (1 + (mean_up[counter] / mean_down[counter]))\n",
        "for i in range(500000):\n",
        "    numba_test()"
      ]
    },
    {
      "cell_type": "code",
      "execution_count": null,
      "metadata": {},
      "outputs": [],
      "source": [
        "from nb_quantfreedom.indicators.indicators import IndicatorsNB\n",
        "from nb_quantfreedom.nb_enums import CandleBodyType\n",
        "\n",
        "\n",
        "@njit(cache=True)\n",
        "def tester():\n",
        "    return IndicatorsNB().calc_rsi(prices=candles[:, CandleBodyType.Close], period=14)\n",
        "\n",
        "for i in range(500000):\n",
        "    tester()"
      ]
    }
  ],
  "metadata": {
    "kernelspec": {
      "display_name": "qfFree",
      "language": "python",
      "name": "python3"
    },
    "language_info": {
      "codemirror_mode": {
        "name": "ipython",
        "version": 3
      },
      "file_extension": ".py",
      "mimetype": "text/x-python",
      "name": "python",
      "nbconvert_exporter": "python",
      "pygments_lexer": "ipython3",
      "version": "3.10.10"
    },
    "orig_nbformat": 4
  },
  "nbformat": 4,
  "nbformat_minor": 2
}
