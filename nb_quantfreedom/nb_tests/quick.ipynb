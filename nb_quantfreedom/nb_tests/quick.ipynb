{
  "cells": [
    {
      "cell_type": "code",
      "execution_count": 1,
      "metadata": {},
      "outputs": [],
      "source": [
        "# import os\n",
        "# import sys\n",
        "\n",
        "# sys.dont_write_bytecode = True\n",
        "# os.environ[\"NUMBA_DISABLE_JIT\"] = \"1\"\n"
      ]
    },
    {
      "cell_type": "code",
      "execution_count": 2,
      "metadata": {},
      "outputs": [],
      "source": [
        "import numpy as np\n",
        "import pandas as pd\n",
        "from my_stuff import MufexKeys\n",
        "from nb_quantfreedom.exchanges.mufex_exchange.mufex import Mufex\n",
        "from nb_quantfreedom.nb_enums import DynamicOrderSettingsArrays\n",
        "from nb_quantfreedom.utils import pretty_qf\n",
        "from requests import get\n",
        "from talib import RSI\n",
        "from numba import njit\n",
        "np.set_printoptions(formatter={\"float_kind\": \"{:.2f}\".format})\n",
        "\n",
        "pd.options.display.float_format = \"{:.2f}\".format\n",
        "\n",
        "mufex_main = Mufex(\n",
        "    api_key=MufexKeys.api_key,\n",
        "    secret_key=MufexKeys.secret_key,\n",
        "    use_test_net=False,\n",
        ")\n",
        "\n",
        "%load_ext autoreload\n",
        "%autoreload 2\n"
      ]
    },
    {
      "cell_type": "code",
      "execution_count": 3,
      "metadata": {},
      "outputs": [
        {
          "name": "stdout",
          "output_type": "stream",
          "text": [
            "You can't be doing that\n",
            "second exception\n"
          ]
        }
      ],
      "source": [
        "from nb_quantfreedom.nb_enums import RejectedOrder\n",
        "\n",
        "\n",
        "@njit()\n",
        "def try_func():\n",
        "    try:\n",
        "        try:\n",
        "            raise RejectedOrder\n",
        "        except Exception:\n",
        "            print(\"You can't be doing that\")\n",
        "            raise Exception\n",
        "    except Exception:\n",
        "        print(\"second exception\")\n",
        "\n",
        "\n",
        "try_func()"
      ]
    },
    {
      "cell_type": "code",
      "execution_count": 27,
      "metadata": {},
      "outputs": [
        {
          "data": {
            "text/plain": [
              "'513.1649999999999636'"
            ]
          },
          "execution_count": 27,
          "metadata": {},
          "output_type": "execute_result"
        }
      ],
      "source": [
        "from nb_quantfreedom.nb_helper_funcs import nb_float_to_str, pass_float_to_str, reg_float_to_str\n",
        "\n",
        "\n",
        "@njit()\n",
        "def try_func(tester: callable):\n",
        "    return tester(513.165)\n",
        "\n",
        "\n",
        "\n",
        "try_func(nb_float_to_str)"
      ]
    },
    {
      "cell_type": "code",
      "execution_count": null,
      "metadata": {},
      "outputs": [],
      "source": [
        "candles = mufex_main.get_candles_df(\n",
        "    symbol=\"BTCUSDT\",\n",
        "    timeframe=\"30m\",\n",
        "    limit=200\n",
        ")\n",
        "pd.DataFrame(candles)"
      ]
    },
    {
      "cell_type": "code",
      "execution_count": null,
      "metadata": {},
      "outputs": [],
      "source": [
        "\"hello \" + str(3949)"
      ]
    },
    {
      "cell_type": "code",
      "execution_count": null,
      "metadata": {},
      "outputs": [],
      "source": [
        "issubclass(StopIteration,Exception)"
      ]
    },
    {
      "cell_type": "code",
      "execution_count": null,
      "metadata": {},
      "outputs": [],
      "source": [
        "Exception.__subclasses__()"
      ]
    },
    {
      "cell_type": "code",
      "execution_count": null,
      "metadata": {},
      "outputs": [],
      "source": [
        "for i in range(5000):\n",
        "    closing_p = candles[:, 4]\n",
        "    up = np.zeros(closing_p.size)\n",
        "    down = np.zeros(closing_p.size)\n",
        "    mean_up = np.zeros(closing_p.size)\n",
        "    mean_down = np.zeros(closing_p.size)\n",
        "    rsi = np.full(closing_p.size, np.nan)\n",
        "    for counter in range(1, 13):\n",
        "        pchg = (closing_p[counter] - closing_p[counter - 1]) / closing_p[counter - 1]\n",
        "        if pchg > 0:\n",
        "            up[counter] = pchg\n",
        "        else:\n",
        "            down[counter] = abs(pchg)\n",
        "\n",
        "    for counter in range(14, 200):\n",
        "        pchg = (closing_p[counter] - closing_p[counter - 1]) / closing_p[counter - 1]\n",
        "        if pchg > 0:\n",
        "            up[counter] = pchg\n",
        "        else:\n",
        "            down[counter] = abs(pchg)\n",
        "        mean_up[counter] = np.mean(up[counter - 14 : counter + 1])\n",
        "        mean_down[counter] = np.mean(down[counter - 14 : counter + 1])\n",
        "        rsi[counter] = 100 - 100 / (1 + (mean_up[counter] / mean_down[counter]))"
      ]
    },
    {
      "cell_type": "code",
      "execution_count": null,
      "metadata": {},
      "outputs": [],
      "source": [
        "@njit(cache=True)\n",
        "def numba_test():\n",
        "    closing_p = candles[:, 4]\n",
        "    up = np.zeros(closing_p.size)\n",
        "    down = np.zeros(closing_p.size)\n",
        "    mean_up = np.zeros(closing_p.size)\n",
        "    mean_down = np.zeros(closing_p.size)\n",
        "    rsi = np.full(closing_p.size, np.nan)\n",
        "    for counter in range(1, 13):\n",
        "        pchg = (closing_p[counter] - closing_p[counter - 1]) / closing_p[counter - 1]\n",
        "        if pchg > 0:\n",
        "            up[counter] = pchg\n",
        "        else:\n",
        "            down[counter] = abs(pchg)\n",
        "\n",
        "    for counter in range(14, 200):\n",
        "        pchg = (closing_p[counter] - closing_p[counter - 1]) / closing_p[counter - 1]\n",
        "        if pchg > 0:\n",
        "            up[counter] = pchg\n",
        "        else:\n",
        "            down[counter] = abs(pchg)\n",
        "        mean_up[counter] = np.mean(up[counter - 14 : counter + 1])\n",
        "        mean_down[counter] = np.mean(down[counter - 14 : counter + 1])\n",
        "        rsi[counter] = 100 - 100 / (1 + (mean_up[counter] / mean_down[counter]))\n",
        "for i in range(500000):\n",
        "    numba_test()"
      ]
    },
    {
      "cell_type": "code",
      "execution_count": null,
      "metadata": {},
      "outputs": [],
      "source": [
        "from nb_quantfreedom.indicators.indicators import IndicatorsNB\n",
        "from nb_quantfreedom.nb_enums import CandleBodyType\n",
        "\n",
        "\n",
        "@njit(cache=True)\n",
        "def tester():\n",
        "    return IndicatorsNB().calc_rsi(prices=candles[:, CandleBodyType.Close], period=14)\n",
        "\n",
        "for i in range(500000):\n",
        "    tester()"
      ]
    }
  ],
  "metadata": {
    "kernelspec": {
      "display_name": "qfFree",
      "language": "python",
      "name": "python3"
    },
    "language_info": {
      "codemirror_mode": {
        "name": "ipython",
        "version": 3
      },
      "file_extension": ".py",
      "mimetype": "text/x-python",
      "name": "python",
      "nbconvert_exporter": "python",
      "pygments_lexer": "ipython3",
      "version": "3.10.10"
    },
    "orig_nbformat": 4
  },
  "nbformat": 4,
  "nbformat_minor": 2
}
