{
  "cells": [
    {
      "cell_type": "code",
      "execution_count": 1,
      "metadata": {},
      "outputs": [],
      "source": [
        "import os\n",
        "import sys\n",
        "\n",
        "sys.dont_write_bytecode = True\n",
        "os.environ[\"NUMBA_DISABLE_JIT\"] = \"1\"\n"
      ]
    },
    {
      "cell_type": "code",
      "execution_count": 2,
      "metadata": {},
      "outputs": [],
      "source": [
        "import numpy as np\n",
        "import pandas as pd\n",
        "from my_stuff import MufexKeys\n",
        "from nb_quantfreedom.exchanges.mufex_exchange.mufex import Mufex\n",
        "from nb_quantfreedom.nb_enums import DynamicOrderSettingsArrays\n",
        "from nb_quantfreedom.utils import pretty_qf\n",
        "from requests import get\n",
        "from talib import RSI\n",
        "np.set_printoptions(formatter={\"float_kind\": \"{:.2f}\".format})\n",
        "\n",
        "pd.options.display.float_format = \"{:.2f}\".format\n",
        "\n",
        "mufex_main = Mufex(\n",
        "    api_key=MufexKeys.api_key,\n",
        "    secret_key=MufexKeys.secret_key,\n",
        "    use_test_net=False,\n",
        ")\n",
        "\n",
        "%load_ext autoreload\n",
        "%autoreload 2\n"
      ]
    },
    {
      "cell_type": "code",
      "execution_count": 3,
      "metadata": {},
      "outputs": [
        {
          "name": "stdout",
          "output_type": "stream",
          "text": [
            "It took 00 mins and 00 seconds to download 200 candles\n"
          ]
        },
        {
          "data": {
            "text/html": [
              "<div>\n",
              "<style scoped>\n",
              "    .dataframe tbody tr th:only-of-type {\n",
              "        vertical-align: middle;\n",
              "    }\n",
              "\n",
              "    .dataframe tbody tr th {\n",
              "        vertical-align: top;\n",
              "    }\n",
              "\n",
              "    .dataframe thead th {\n",
              "        text-align: right;\n",
              "    }\n",
              "</style>\n",
              "<table border=\"1\" class=\"dataframe\">\n",
              "  <thead>\n",
              "    <tr style=\"text-align: right;\">\n",
              "      <th></th>\n",
              "      <th>0</th>\n",
              "      <th>1</th>\n",
              "      <th>2</th>\n",
              "      <th>3</th>\n",
              "      <th>4</th>\n",
              "    </tr>\n",
              "  </thead>\n",
              "  <tbody>\n",
              "    <tr>\n",
              "      <th>0</th>\n",
              "      <td>1697484600000.00</td>\n",
              "      <td>28572.40</td>\n",
              "      <td>28577.30</td>\n",
              "      <td>28380.90</td>\n",
              "      <td>28452.80</td>\n",
              "    </tr>\n",
              "    <tr>\n",
              "      <th>1</th>\n",
              "      <td>1697486400000.00</td>\n",
              "      <td>28452.80</td>\n",
              "      <td>28633.60</td>\n",
              "      <td>28418.70</td>\n",
              "      <td>28586.50</td>\n",
              "    </tr>\n",
              "    <tr>\n",
              "      <th>2</th>\n",
              "      <td>1697488200000.00</td>\n",
              "      <td>28586.50</td>\n",
              "      <td>28586.50</td>\n",
              "      <td>28305.10</td>\n",
              "      <td>28390.60</td>\n",
              "    </tr>\n",
              "    <tr>\n",
              "      <th>3</th>\n",
              "      <td>1697490000000.00</td>\n",
              "      <td>28390.60</td>\n",
              "      <td>28404.00</td>\n",
              "      <td>28221.30</td>\n",
              "      <td>28348.50</td>\n",
              "    </tr>\n",
              "    <tr>\n",
              "      <th>4</th>\n",
              "      <td>1697491800000.00</td>\n",
              "      <td>28348.50</td>\n",
              "      <td>28442.50</td>\n",
              "      <td>28348.50</td>\n",
              "      <td>28411.80</td>\n",
              "    </tr>\n",
              "    <tr>\n",
              "      <th>...</th>\n",
              "      <td>...</td>\n",
              "      <td>...</td>\n",
              "      <td>...</td>\n",
              "      <td>...</td>\n",
              "      <td>...</td>\n",
              "    </tr>\n",
              "    <tr>\n",
              "      <th>195</th>\n",
              "      <td>1697835600000.00</td>\n",
              "      <td>29565.80</td>\n",
              "      <td>29628.30</td>\n",
              "      <td>29560.00</td>\n",
              "      <td>29593.40</td>\n",
              "    </tr>\n",
              "    <tr>\n",
              "      <th>196</th>\n",
              "      <td>1697837400000.00</td>\n",
              "      <td>29593.40</td>\n",
              "      <td>29624.50</td>\n",
              "      <td>29581.90</td>\n",
              "      <td>29596.60</td>\n",
              "    </tr>\n",
              "    <tr>\n",
              "      <th>197</th>\n",
              "      <td>1697839200000.00</td>\n",
              "      <td>29596.60</td>\n",
              "      <td>29640.70</td>\n",
              "      <td>29574.60</td>\n",
              "      <td>29609.00</td>\n",
              "    </tr>\n",
              "    <tr>\n",
              "      <th>198</th>\n",
              "      <td>1697841000000.00</td>\n",
              "      <td>29609.00</td>\n",
              "      <td>29659.80</td>\n",
              "      <td>29593.90</td>\n",
              "      <td>29649.60</td>\n",
              "    </tr>\n",
              "    <tr>\n",
              "      <th>199</th>\n",
              "      <td>1697842800000.00</td>\n",
              "      <td>29649.60</td>\n",
              "      <td>29773.20</td>\n",
              "      <td>29638.20</td>\n",
              "      <td>29742.00</td>\n",
              "    </tr>\n",
              "  </tbody>\n",
              "</table>\n",
              "<p>200 rows × 5 columns</p>\n",
              "</div>"
            ],
            "text/plain": [
              "                   0        1        2        3        4\n",
              "0   1697484600000.00 28572.40 28577.30 28380.90 28452.80\n",
              "1   1697486400000.00 28452.80 28633.60 28418.70 28586.50\n",
              "2   1697488200000.00 28586.50 28586.50 28305.10 28390.60\n",
              "3   1697490000000.00 28390.60 28404.00 28221.30 28348.50\n",
              "4   1697491800000.00 28348.50 28442.50 28348.50 28411.80\n",
              "..               ...      ...      ...      ...      ...\n",
              "195 1697835600000.00 29565.80 29628.30 29560.00 29593.40\n",
              "196 1697837400000.00 29593.40 29624.50 29581.90 29596.60\n",
              "197 1697839200000.00 29596.60 29640.70 29574.60 29609.00\n",
              "198 1697841000000.00 29609.00 29659.80 29593.90 29649.60\n",
              "199 1697842800000.00 29649.60 29773.20 29638.20 29742.00\n",
              "\n",
              "[200 rows x 5 columns]"
            ]
          },
          "execution_count": 3,
          "metadata": {},
          "output_type": "execute_result"
        }
      ],
      "source": [
        "candles = mufex_main.get_candles_df(\n",
        "    symbol=\"BTCUSDT\",\n",
        "    timeframe=\"30m\",\n",
        "    limit=200\n",
        ")\n",
        "pd.DataFrame(candles)"
      ]
    },
    {
      "cell_type": "code",
      "execution_count": 4,
      "metadata": {},
      "outputs": [],
      "source": [
        "closing_p = candles[:, 4]\n",
        "up = np.zeros(closing_p.size)\n",
        "down = np.zeros(closing_p.size)\n",
        "mean_up = np.zeros(closing_p.size)\n",
        "mean_down = np.zeros(closing_p.size)\n",
        "rsi = np.full(closing_p.size, np.nan)"
      ]
    },
    {
      "cell_type": "code",
      "execution_count": 5,
      "metadata": {},
      "outputs": [],
      "source": [
        "for counter in range(1, 13):\n",
        "    pchg = (closing_p[counter] - closing_p[counter - 1]) / closing_p[counter - 1]\n",
        "    if pchg > 0:\n",
        "        up[counter] = pchg\n",
        "    else:\n",
        "        down[counter] = abs(pchg)\n"
      ]
    },
    {
      "cell_type": "code",
      "execution_count": 6,
      "metadata": {},
      "outputs": [],
      "source": [
        "for counter in range(14, 200):\n",
        "    pchg = (closing_p[counter] - closing_p[counter - 1]) / closing_p[counter - 1]\n",
        "    if pchg > 0:\n",
        "        up[counter] = pchg\n",
        "    else:\n",
        "        down[counter] = abs(pchg)\n",
        "    mean_up[counter] = np.mean(up[counter - 14 : counter + 1])\n",
        "    mean_down[counter] = np.mean(down[counter - 14 : counter + 1])\n",
        "    rsi[counter] = 100 - 100 / (1 + (mean_up[counter] / mean_down[counter]))"
      ]
    },
    {
      "cell_type": "code",
      "execution_count": 7,
      "metadata": {},
      "outputs": [
        {
          "data": {
            "text/plain": [
              "array([nan, nan, nan, nan, nan, nan, nan, nan, nan, nan, nan, nan, nan,\n",
              "       nan, 45.14, 41.04, 40.59, 38.55, 36.97, 38.29, 39.78, 35.16, 42.54,\n",
              "       42.15, 54.08, 52.23, 54.91, 52.21, 54.98, 56.63, 58.30, 55.74,\n",
              "       52.12, 51.35, 40.41, 42.96, 44.97, 51.08, 55.50, 55.12, 55.17,\n",
              "       58.24, 62.00, 51.14, 51.17, 51.63, 45.88, 51.09, 56.14, 56.46,\n",
              "       51.32, 57.36, 52.78, 50.84, 48.76, 49.79, 47.20, 48.98, 45.89,\n",
              "       43.98, 44.62, 53.58, 53.56, 54.03, 56.75, 53.75, 67.91, 65.72,\n",
              "       63.79, 63.73, 62.85, 53.83, 48.54, 50.42, 52.81, 52.96, 35.20,\n",
              "       42.23, 42.85, 41.45, 41.27, 43.87, 41.22, 43.40, 41.59, 39.02,\n",
              "       34.20, 41.03, 39.70, 45.42, 47.44, 51.46, 46.24, 47.86, 44.54,\n",
              "       43.23, 41.22, 44.75, 42.26, 44.54, 43.89, 48.01, 51.03, 50.01,\n",
              "       48.88, 51.33, 55.01, 55.00, 41.28, 37.39, 40.42, 44.01, 45.78,\n",
              "       45.47, 48.39, 53.62, 50.85, 50.90, 48.46, 45.22, 52.83, 55.21,\n",
              "       51.58, 55.17, 58.82, 59.48, 64.96, 58.77, 60.88, 58.81, 62.19,\n",
              "       66.89, 59.29, 61.40, 71.46, 64.36, 67.62, 70.12, 59.84, 60.57,\n",
              "       53.93, 59.10, 59.61, 63.00, 64.94, 62.15, 61.77, 55.36, 52.41,\n",
              "       57.22, 54.65, 54.95, 59.17, 56.83, 52.31, 51.13, 54.01, 62.16,\n",
              "       71.40, 79.86, 74.62, 76.03, 76.61, 65.41, 67.48, 66.04, 68.62,\n",
              "       66.13, 66.00, 75.98, 78.45, 79.26, 79.50, 80.30, 80.51, 82.40,\n",
              "       74.00, 59.54, 56.13, 56.13, 60.83, 54.67, 56.93, 56.57, 55.39,\n",
              "       55.57, 52.05, 51.34, 53.29, 53.43, 51.12, 48.18, 55.62, 56.48,\n",
              "       56.44, 58.03, 58.22, 58.99, 61.51, 66.54])"
            ]
          },
          "execution_count": 7,
          "metadata": {},
          "output_type": "execute_result"
        }
      ],
      "source": [
        "RSI(closing_p, 14)"
      ]
    },
    {
      "cell_type": "code",
      "execution_count": 8,
      "metadata": {},
      "outputs": [
        {
          "data": {
            "text/plain": [
              "array([nan, nan, nan, nan, nan, nan, nan, nan, nan, nan, nan, nan, nan,\n",
              "       nan, 45.68, 41.76, 32.95, 39.20, 39.48, 35.70, 38.11, 25.08, 36.06,\n",
              "       32.33, 55.41, 57.87, 56.37, 53.52, 56.35, 56.38, 64.72, 62.74,\n",
              "       62.37, 64.40, 51.07, 51.95, 59.18, 58.91, 62.74, 52.59, 54.91,\n",
              "       54.93, 62.15, 49.06, 47.20, 45.61, 42.80, 50.29, 55.32, 68.81,\n",
              "       61.31, 64.61, 55.68, 49.36, 47.78, 48.65, 43.32, 40.15, 46.27,\n",
              "       44.41, 44.42, 58.12, 53.25, 46.96, 49.54, 53.02, 62.11, 66.07,\n",
              "       66.94, 70.29, 68.60, 62.57, 55.41, 60.39, 64.54, 64.28, 38.67,\n",
              "       44.82, 44.99, 41.76, 42.98, 26.91, 26.21, 29.46, 28.43, 27.28,\n",
              "       27.59, 36.70, 33.76, 36.64, 38.38, 60.58, 47.21, 48.19, 46.60,\n",
              "       45.47, 40.77, 46.90, 42.40, 46.27, 48.69, 59.63, 56.38, 57.69,\n",
              "       50.15, 49.91, 48.15, 57.38, 39.40, 38.84, 43.57, 49.76, 47.64,\n",
              "       50.82, 51.09, 56.85, 50.28, 46.84, 45.76, 44.02, 48.60, 47.29,\n",
              "       44.66, 62.98, 74.25, 72.99, 74.89, 66.56, 68.69, 64.75, 63.78,\n",
              "       71.41, 63.94, 68.02, 78.44, 69.13, 70.70, 75.55, 64.84, 63.71,\n",
              "       57.69, 58.63, 62.24, 63.74, 66.29, 62.73, 59.76, 59.08, 55.49,\n",
              "       49.82, 52.24, 48.21, 48.71, 55.44, 50.36, 56.18, 51.86, 59.95,\n",
              "       66.93, 75.57, 72.92, 74.53, 79.85, 72.03, 71.87, 72.40, 73.96,\n",
              "       70.64, 71.94, 80.66, 82.79, 82.88, 81.72, 79.64, 73.92, 80.79,\n",
              "       72.43, 59.48, 63.49, 61.61, 66.20, 58.47, 61.68, 61.46, 47.78,\n",
              "       41.17, 35.95, 34.66, 34.27, 33.71, 25.14, 27.00, 48.30, 54.50,\n",
              "       54.47, 46.54, 59.49, 54.75, 59.63, 69.29])"
            ]
          },
          "execution_count": 8,
          "metadata": {},
          "output_type": "execute_result"
        }
      ],
      "source": [
        "rsi"
      ]
    }
  ],
  "metadata": {
    "kernelspec": {
      "display_name": "qfFree",
      "language": "python",
      "name": "python3"
    },
    "language_info": {
      "codemirror_mode": {
        "name": "ipython",
        "version": 3
      },
      "file_extension": ".py",
      "mimetype": "text/x-python",
      "name": "python",
      "nbconvert_exporter": "python",
      "pygments_lexer": "ipython3",
      "version": "3.10.10"
    },
    "orig_nbformat": 4
  },
  "nbformat": 4,
  "nbformat_minor": 2
}
