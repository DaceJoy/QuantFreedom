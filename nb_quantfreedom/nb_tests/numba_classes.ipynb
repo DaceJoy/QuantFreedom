{
 "cells": [
  {
   "cell_type": "code",
   "execution_count": 1,
   "metadata": {},
   "outputs": [],
   "source": [
    "from numba.experimental import jitclass\n",
    "from numba import njit\n",
    "import numpy as np\n",
    "from my_stuff import MufexKeys\n",
    "\n",
    "from nb_quantfreedom.exchanges.mufex_exchange.mufex import Mufex\n",
    "mufex_main = Mufex(\n",
    "    api_key=MufexKeys.api_key,\n",
    "    secret_key=MufexKeys.secret_key,\n",
    "    use_test_net=False,\n",
    ")\n",
    "\n",
    "%load_ext autoreload\n",
    "%autoreload 2\n"
   ]
  },
  {
   "cell_type": "code",
   "execution_count": 2,
   "metadata": {},
   "outputs": [
    {
     "name": "stdout",
     "output_type": "stream",
     "text": [
      "It took 00 mins and 00 seconds to download 61 candles\n"
     ]
    }
   ],
   "source": [
    "candles = mufex_main.get_candles_df(\n",
    "    symbol='BTCUSDT',\n",
    "    timeframe=\"1m\",\n",
    "    since_date_ms=1697237940000,\n",
    "    until_date_ms=1697241540000,\n",
    ")"
   ]
  },
  {
   "cell_type": "code",
   "execution_count": 3,
   "metadata": {},
   "outputs": [],
   "source": [
    "@njit\n",
    "def sl_price_getter(\n",
    "    candle_column: int,\n",
    "    lookback: int,\n",
    "    bar_index: int,\n",
    "    candles: np.array,\n",
    "):\n",
    "    price = candles[lookback : bar_index + 1, candle_column].min()\n",
    "    return price"
   ]
  },
  {
   "cell_type": "code",
   "execution_count": 4,
   "metadata": {},
   "outputs": [],
   "source": [
    "class Leverage:\n",
    "    def __init__(self) -> None:\n",
    "        pass\n",
    "\n",
    "    def market_fee_pct(self):\n",
    "        return 0.0009\n",
    "\n",
    "    def mmr_pct(self):\n",
    "        return 0.005\n",
    "\n",
    "    def max_leverage(self):\n",
    "        return 150.0\n",
    "\n",
    "    def leverage_calculator(self):\n",
    "        raise Exception()\n",
    "\n",
    "    def calc_liq_price(\n",
    "        self,\n",
    "        leverage: float,\n",
    "        entry_size_usd: float,\n",
    "        average_entry: float,\n",
    "        og_available_balance: float,\n",
    "        og_cash_used: float,\n",
    "        og_cash_borrowed: float,\n",
    "    ):\n",
    "        # Getting Order Cost\n",
    "        # https://www.bybithelp.com/HelpCenterKnowledge/bybitHC_Article?id=000001064&language=en_US\n",
    "        initial_margin = entry_size_usd / leverage\n",
    "        fee_to_open = entry_size_usd * 0.0009  # math checked\n",
    "        possible_bankruptcy_fee = entry_size_usd * (leverage - 1) / leverage * self.mmr_pct()\n",
    "        cash_used = initial_margin + fee_to_open + possible_bankruptcy_fee  # math checked\n",
    "\n",
    "        if cash_used > og_available_balance:\n",
    "            raise Exception(\n",
    "                msg=f\"Cash used={cash_used} > available_balance={og_available_balance}\",\n",
    "                order_status=1,\n",
    "            )\n",
    "        else:\n",
    "            # liq formula\n",
    "            # https://www.bybithelp.com/HelpCenterKnowledge/bybitHC_Article?id=000001067&language=en_US\n",
    "            available_balance = round(og_available_balance - cash_used, 4)\n",
    "            cash_used = round(og_cash_used + cash_used, 4)\n",
    "            cash_borrowed = round(og_cash_borrowed + entry_size_usd - cash_used, 4)\n",
    "\n",
    "            liq_price = average_entry * (1 - (1 / leverage) + self.mmr_pct())  # math checked\n",
    "            liq_price = liq_price\n",
    "            can_move_sl_to_be = True\n",
    "\n",
    "        return (\n",
    "            leverage,\n",
    "            liq_price,\n",
    "            available_balance,\n",
    "            cash_used,\n",
    "            cash_borrowed,\n",
    "            can_move_sl_to_be,\n",
    "        )\n",
    "\n",
    "\n",
    "@jitclass()\n",
    "class SetStaticLeverage(Leverage):\n",
    "    def leverage_calculator(\n",
    "        self,\n",
    "        static_leverage: float,\n",
    "        average_entry: float,\n",
    "        entry_size_usd: float,\n",
    "        cash_used: float,\n",
    "        available_balance: float,\n",
    "        cash_borrowed: float,\n",
    "        sl_price: float,\n",
    "    ):\n",
    "        liq_price = self.calc_liq_price(\n",
    "            leverage=static_leverage,\n",
    "            entry_size_usd=entry_size_usd,\n",
    "            average_entry=average_entry,\n",
    "            og_cash_used=cash_used,\n",
    "            og_available_balance=available_balance,\n",
    "            og_cash_borrowed=cash_borrowed,\n",
    "        )\n",
    "        return liq_price\n",
    "\n",
    "\n",
    "@jitclass()\n",
    "class CalcDynamicLeverage(Leverage):\n",
    "    def leverage_calculator(\n",
    "        self,\n",
    "        static_leverage: float,\n",
    "        average_entry: float,\n",
    "        entry_size_usd: float,\n",
    "        cash_used: float,\n",
    "        available_balance: float,\n",
    "        cash_borrowed: float,\n",
    "        sl_price: float,\n",
    "    ):\n",
    "        leverage = -average_entry / ((sl_price - sl_price * 0.001) - average_entry - self.mmr_pct() * average_entry)\n",
    "\n",
    "        if leverage > self.max_leverage():\n",
    "            # print(f\"Setting leverage from {leverage} to max leverage {self.max_leverage()}\")\n",
    "            leverage = self.max_leverage()\n",
    "        elif leverage < 1:\n",
    "            # print(f\"Setting leverage from {leverage} to {1}\")\n",
    "            leverage = 1\n",
    "        else:\n",
    "            # print(f\"Leverage set too {leverage}\")\n",
    "            leverage = leverage\n",
    "\n",
    "        liq_price = self.calc_liq_price(\n",
    "            leverage=leverage,\n",
    "            entry_size_usd=entry_size_usd,\n",
    "            average_entry=average_entry,\n",
    "            og_cash_used=cash_used,\n",
    "            og_available_balance=available_balance,\n",
    "            og_cash_borrowed=cash_borrowed,\n",
    "        )\n",
    "        return liq_price"
   ]
  },
  {
   "cell_type": "code",
   "execution_count": 5,
   "metadata": {},
   "outputs": [],
   "source": [
    "@njit\n",
    "def apply(leverage_calculator: Leverage):\n",
    "    leverage_resuls = leverage_calculator.leverage_calculator(\n",
    "        static_leverage=20.0,\n",
    "        average_entry=26557.6,\n",
    "        entry_size_usd=26.5513,\n",
    "        cash_used=10.0,\n",
    "        available_balance=6948.548,\n",
    "        cash_borrowed=643.15,\n",
    "        sl_price=26544.2,\n",
    "    )\n",
    "    return leverage_resuls\n",
    "\n"
   ]
  },
  {
   "cell_type": "code",
   "execution_count": 6,
   "metadata": {},
   "outputs": [
    {
     "data": {
      "text/plain": [
       "(150.0, 26513.33733333333, 6948.2152, 10.3328, 659.3685, True)"
      ]
     },
     "execution_count": 6,
     "metadata": {},
     "output_type": "execute_result"
    }
   ],
   "source": [
    "leverage_calculator = (SetStaticLeverage(), CalcDynamicLeverage())\n",
    "\n",
    "# print(apply(leverage_calculator[0]))\n",
    "apply(leverage_calculator[1])"
   ]
  }
 ],
 "metadata": {
  "kernelspec": {
   "display_name": "qfFree",
   "language": "python",
   "name": "python3"
  },
  "language_info": {
   "codemirror_mode": {
    "name": "ipython",
    "version": 3
   },
   "file_extension": ".py",
   "mimetype": "text/x-python",
   "name": "python",
   "nbconvert_exporter": "python",
   "pygments_lexer": "ipython3",
   "version": "3.10.10"
  },
  "orig_nbformat": 4
 },
 "nbformat": 4,
 "nbformat_minor": 2
}
