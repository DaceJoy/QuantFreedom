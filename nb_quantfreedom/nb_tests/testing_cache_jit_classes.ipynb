{
  "cells": [
    {
      "cell_type": "code",
      "execution_count": 1,
      "metadata": {},
      "outputs": [],
      "source": [
        "import os\n",
        "import sys\n",
        "\n",
        "sys.dont_write_bytecode = True\n",
        "# os.environ[\"NUMBA_DISABLE_JIT\"] = \"1\"\n",
        "# os.environ[\"NUMBA_DEBUG_FRONTEND\"] = \"1\"\n",
        "# os.environ[\"NUMBA_DEBUG\"] = \"1\"\n",
        "# os.environ[\"NUMBA_DEBUGINFO\"] = \"1\"\n",
        "# os.environ[\"NUMBA_SHOW_HELP\"] = \"1\"\n",
        "# os.environ[\"NUMBA_FULL_TRACEBACKS\"] = \"1\"\n",
        "# os.environ[\"NUMBA_DEVELOPER_MODE\"] = \"1\"\n",
        "os.environ[\"NUMBA_DEBUG_CACHE\"] = \"1\"\n",
        "# os.environ.get(\"NUMBA_DEBUG_CACHE\")"
      ]
    },
    {
      "cell_type": "code",
      "execution_count": 2,
      "metadata": {},
      "outputs": [],
      "source": [
        "import numba\n",
        "from my_stuff import MufexKeys\n",
        "from nb_quantfreedom.exchanges.mufex_exchange.mufex import Mufex\n",
        "from nb_quantfreedom.nb_base import backtest_df_only\n",
        "from nb_quantfreedom.nb_enums import *\n",
        "from nb_quantfreedom.nb_helper_funcs import nb_dos_cart_product\n",
        "from nb_quantfreedom.strategies.nb_strategy import nb_BacktestInd, nb_Strategy\n",
        "from numba.experimental import jitclass\n",
        "from nb_quantfreedom.nb_custom_logger import nb_PrintLogs\n",
        "from nb_quantfreedom.nb_order_handler.nb_class_helpers import nb_GetMinPrice\n",
        "from nb_quantfreedom.utils import clear_cache\n",
        "\n",
        "\n",
        "clear_cache()\n",
        "\n",
        "mufex_main = Mufex(\n",
        "    api_key=MufexKeys.api_key,\n",
        "    secret_key=MufexKeys.secret_key,\n",
        "    use_test_net=False,\n",
        ")\n",
        "\n",
        "%load_ext autoreload\n",
        "%autoreload 2\n"
      ]
    },
    {
      "cell_type": "code",
      "execution_count": 3,
      "metadata": {},
      "outputs": [
        {
          "name": "stdout",
          "output_type": "stream",
          "text": [
            "It took 00 mins and 01 seconds to download 200 candles\n"
          ]
        }
      ],
      "source": [
        "candles = mufex_main.get_candles_df(\n",
        "    symbol=\"BTCUSDT\",\n",
        "    timeframe=\"15m\",\n",
        "    candles_to_dl=200,\n",
        ")"
      ]
    },
    {
      "cell_type": "code",
      "execution_count": 4,
      "metadata": {},
      "outputs": [
        {
          "name": "stdout",
          "output_type": "stream",
          "text": [
            "[cache] index saved to 'C:\\\\Users\\\\User\\\\.ipython\\\\numba_cache\\\\2617390614.callbackFunc-c6d0d087f8.py310.nbi'\n",
            "[cache] data saved to 'C:\\\\Users\\\\User\\\\.ipython\\\\numba_cache\\\\2617390614.callbackFunc-c6d0d087f8.py310.1.nbc'\n",
            "[cache] index saved to 'C:\\\\Users\\\\User\\\\.ipython\\\\numba_cache\\\\2617390614.wrapper-50ed06e03b.py310.nbi'\n",
            "[cache] data saved to 'C:\\\\Users\\\\User\\\\.ipython\\\\numba_cache\\\\2617390614.wrapper-50ed06e03b.py310.1.nbc'\n",
            "hello world\n",
            "callbackFunc\n"
          ]
        }
      ],
      "source": [
        "@jitclass([(\"svoxel\", numba.types.int64[:])])\n",
        "class FeedBuilder(object):\n",
        "    def __init__(self, svoxel):\n",
        "        self.svoxel = svoxel\n",
        "\n",
        "    def hello(self):\n",
        "        print(\"hello world\")\n",
        "\n",
        "    def iterate(self, callback):\n",
        "        callback(self)\n",
        "\n",
        "\n",
        "@numba.njit(cache=True)\n",
        "def callbackFunc(feedBuilder):\n",
        "    feedBuilder.hello()\n",
        "    print(\"callbackFunc\")\n",
        "    # print(feedBuilder.svoxel[1])\n",
        "    # feedBuilder.svoxel[0] = 900\n",
        "    # print(feedBuilder.svoxel[0])\n",
        "\n",
        "\n",
        "@numba.njit(cache=True)\n",
        "def wrapper():\n",
        "    fBuilder = FeedBuilder(np.array([1, 10], np.int64))\n",
        "    fBuilder.iterate(callbackFunc)\n",
        "\n",
        "\n",
        "wrapper()"
      ]
    },
    {
      "cell_type": "code",
      "execution_count": 110,
      "metadata": {},
      "outputs": [
        {
          "name": "stdout",
          "output_type": "stream",
          "text": [
            "[cache] index loaded from 'C:\\\\Users\\\\User\\\\.ipython\\\\numba_cache\\\\3866667757.nb_base-4967266f39.py310.nbi'\n",
            "[cache] data loaded from 'C:\\\\Users\\\\User\\\\.ipython\\\\numba_cache\\\\3866667757.nb_base-4967266f39.py310.1.nbc'\n",
            "738194677.8603731\n",
            "702794.4466513451\n"
          ]
        }
      ],
      "source": [
        "class nb_GlobalVars:\n",
        "    def __init__(\n",
        "        self,\n",
        "        price_tick_step,\n",
        "        market_fee_pct,\n",
        "    ):\n",
        "        self.price_tick_step = price_tick_step\n",
        "        self.market_fee_pct = market_fee_pct\n",
        "\n",
        "\n",
        "global_vars_list = [\n",
        "    (\"price_tick_step\", numba.types.int_),\n",
        "    (\"market_fee_pct\", numba.types.float_),\n",
        "]\n",
        "\n",
        "\n",
        "class TestSLClass:\n",
        "    def __init__(self):\n",
        "        pass\n",
        "\n",
        "    def calc_sl_callback(self, callback):\n",
        "        pass\n",
        "\n",
        "    def calc_sl(self, price, lookback, thinger):\n",
        "        pass\n",
        "\n",
        "\n",
        "@jitclass(global_vars_list)\n",
        "class SLCalc(nb_GlobalVars, TestSLClass):\n",
        "    def calc_sl_callback(self, callback):\n",
        "        callback(self)\n",
        "\n",
        "    def calc_sl(self, price, lookback, thinger):\n",
        "        # print(price)\n",
        "        # print(lookback)\n",
        "        return self.price_tick_step * self.market_fee_pct * price - thinger / lookback\n",
        "\n",
        "\n",
        "@jitclass(global_vars_list)\n",
        "class newSLCals(nb_GlobalVars, TestSLClass):\n",
        "    def calc_sl_callback(self, callback):\n",
        "        callback(self)\n",
        "\n",
        "    def calc_sl(self, price, lookback, thinger):\n",
        "        # print(\"you are dumb\")\n",
        "        # print(\"hey there\")\n",
        "        return self.price_tick_step * self.market_fee_pct * price / lookback / thinger\n",
        "\n",
        "\n",
        "@numba.njit(cache=True)\n",
        "def nb_simulate(sl_calculator: TestSLClass):\n",
        "    hey = 0.0\n",
        "    for ind in range(2, 20):\n",
        "        for dos in range(2, 400):\n",
        "            for bar in range(2, 1000):\n",
        "                hey += sl_calculator.calc_sl(price=ind, lookback=dos, thinger=bar)\n",
        "    print(hey)\n",
        "\n",
        "\n",
        "@numba.njit(cache=True)\n",
        "def nb_base():\n",
        "    sl_calculator = SLCalc(1, 10.5)\n",
        "    sl_calculator.calc_sl_callback(nb_simulate)\n",
        "    sl_calculator = newSLCals(10, 10.3)\n",
        "    sl_calculator.calc_sl_callback(nb_simulate)\n",
        "\n",
        "\n",
        "nb_base()"
      ]
    },
    {
      "cell_type": "code",
      "execution_count": 16,
      "metadata": {},
      "outputs": [
        {
          "name": "stdout",
          "output_type": "stream",
          "text": [
            "[cache] index saved to 'C:\\\\Users\\\\User\\\\.ipython\\\\numba_cache\\\\397867610.a-3c6352f738.py310.nbi'\n",
            "[cache] data saved to 'C:\\\\Users\\\\User\\\\.ipython\\\\numba_cache\\\\397867610.a-3c6352f738.py310.1.nbc'\n",
            "[cache] index saved to 'C:\\\\Users\\\\User\\\\.ipython\\\\numba_cache\\\\397867610.composition-8776885b37.py310.nbi'\n",
            "[cache] data saved to 'C:\\\\Users\\\\User\\\\.ipython\\\\numba_cache\\\\397867610.composition-8776885b37.py310.1.nbc'\n",
            "[cache] index saved to 'C:\\\\Users\\\\User\\\\.ipython\\\\numba_cache\\\\397867610.b-61c07b8194.py310.nbi'\n",
            "[cache] data saved to 'C:\\\\Users\\\\User\\\\.ipython\\\\numba_cache\\\\397867610.b-61c07b8194.py310.1.nbc'\n"
          ]
        },
        {
          "data": {
            "text/plain": [
              "(1.25, 2)"
            ]
          },
          "execution_count": 16,
          "metadata": {},
          "output_type": "execute_result"
        }
      ],
      "source": [
        "@numba.njit(cache=True)\n",
        "def composition(funcs, x):\n",
        "    r = x\n",
        "    for f in funcs[::-1]:\n",
        "        r = f(r)\n",
        "    return r\n",
        "\n",
        "\n",
        "@numba.cfunc(\"float64(float64)\", cache=True)\n",
        "def a(x):\n",
        "    return x + 1.0\n",
        "\n",
        "\n",
        "@numba.njit(cache=True)\n",
        "def b(x):\n",
        "    return x * x\n",
        "\n",
        "\n",
        "composition((a, b), 0.5), 2"
      ]
    },
    {
      "cell_type": "code",
      "execution_count": 77,
      "metadata": {},
      "outputs": [],
      "source": [
        "import numba\n",
        "from numba.core import types\n",
        "\n",
        "@numba.njit()\n",
        "def f1(x, y):\n",
        "    return x + y\n",
        "\n",
        "@numba.njit()\n",
        "def f2(x, y):\n",
        "    return x + y\n",
        "\n",
        "f1(1., 2.)\n",
        "f2(1., 2.)\n",
        "\n",
        "f_list = numba.typed.List.empty_list(types.float64(types.float64, types.float64).as_type())\n",
        "f_list.append(f1)\n",
        "f_list.append(f2)\n",
        "\n",
        "@numba.experimental.jitclass([('funcs', types.ListType(types.float64(types.float64, types.float64).as_type()))])\n",
        "class Handler:\n",
        "\n",
        "    def __init__(self, funcs):\n",
        "        self.funcs = funcs"
      ]
    },
    {
      "cell_type": "code",
      "execution_count": 78,
      "metadata": {},
      "outputs": [
        {
          "data": {
            "text/plain": [
              "jitclass.Handler#1b022991780<funcs:ListType[FunctionType[float64(float64, float64)]]>"
            ]
          },
          "execution_count": 78,
          "metadata": {},
          "output_type": "execute_result"
        }
      ],
      "source": [
        "Handler.class_type"
      ]
    },
    {
      "cell_type": "code",
      "execution_count": 79,
      "metadata": {},
      "outputs": [],
      "source": [
        "import numba\n",
        "from numba.core import types\n",
        "\n",
        "\n",
        "class PClass:\n",
        "    def __init__(self) -> None:\n",
        "        pass\n",
        "\n",
        "\n",
        "@numba.experimental.jitclass()\n",
        "class TestingTEster(PClass):\n",
        "    def f1(x, y):\n",
        "        return x + y\n",
        "\n",
        "    def f2(x, y):\n",
        "        return x + y\n",
        "\n",
        "\n",
        "@numba.experimental.jitclass(\n",
        "    [(\"funcs\", types.ListType(TestingTEster.class_type.instance_type(types.float64(types.float_, types.float_))))]\n",
        ")\n",
        "class JITTEST:\n",
        "    def __init__(self, funcs):\n",
        "        self.funcs = funcs"
      ]
    },
    {
      "cell_type": "code",
      "execution_count": 16,
      "metadata": {},
      "outputs": [
        {
          "ename": "TypingError",
          "evalue": "Failed in nopython mode pipeline (step: nopython frontend)\n\u001b[1m\u001b[1m\u001b[1m\u001b[1mFailed in nopython mode pipeline (step: nopython frontend)\n\u001b[1m\u001b[1mUnknown attribute 'debug' of type Module(<module 'logging' from 'C:\\\\Users\\\\User\\\\AppData\\\\Local\\\\Programs\\\\Python\\\\Python310\\\\lib\\\\logging\\\\__init__.py'>)\n\u001b[1m\nFile \"C:\\Users\\User\\AppData\\Local\\Temp\\ipykernel_3700\\3962179911.py\", line 30:\u001b[0m\n\u001b[1m    def __init__(self, log_debug, log_info):\n        <source elided>\n        elif log_debug is None:\n\u001b[1m            self.log_debug = logging.debug\n\u001b[0m            \u001b[1m^\u001b[0m\u001b[0m\n\u001b[0m\n\u001b[0m\u001b[1mDuring: typing of get attribute at C:\\Users\\User\\AppData\\Local\\Temp\\ipykernel_3700\\3962179911.py (30)\u001b[0m\n\u001b[1m\nFile \"C:\\Users\\User\\AppData\\Local\\Temp\\ipykernel_3700\\3962179911.py\", line 30:\u001b[0m\n\u001b[1m    def __init__(self, log_debug, log_info):\n        <source elided>\n        elif log_debug is None:\n\u001b[1m            self.log_debug = logging.debug\n\u001b[0m            \u001b[1m^\u001b[0m\u001b[0m\n\n\u001b[0m\u001b[1mDuring: resolving callee type: jitclass.PrintTester#200f4209c00<log_debug:FunctionType[none(unicode_type)],log_info:FunctionType[none(unicode_type)]>\u001b[0m\n\u001b[0m\u001b[1mDuring: typing of call at <string> (3)\n\u001b[0m\n\u001b[0m\u001b[1mDuring: resolving callee type: jitclass.PrintTester#200f4209c00<log_debug:FunctionType[none(unicode_type)],log_info:FunctionType[none(unicode_type)]>\u001b[0m\n\u001b[0m\u001b[1mDuring: typing of call at <string> (3)\n\u001b[0m\n\u001b[1m\nFile \"<string>\", line 3:\u001b[0m\n\u001b[1m<source missing, REPL/exec in use?>\u001b[0m\n",
          "output_type": "error",
          "traceback": [
            "\u001b[1;31m---------------------------------------------------------------------------\u001b[0m",
            "\u001b[1;31mTypingError\u001b[0m                               Traceback (most recent call last)",
            "\u001b[1;32me:\\Coding\\backtesters\\QuantFreedom\\nb_quantfreedom\\nb_tests\\testing_cache_jit_classes.ipynb Cell 11\u001b[0m line \u001b[0;36m3\n\u001b[0;32m     <a href='vscode-notebook-cell:/e%3A/Coding/backtesters/QuantFreedom/nb_quantfreedom/nb_tests/testing_cache_jit_classes.ipynb#X12sZmlsZQ%3D%3D?line=29'>30</a>\u001b[0m             \u001b[39mself\u001b[39m\u001b[39m.\u001b[39mlog_debug \u001b[39m=\u001b[39m logging\u001b[39m.\u001b[39mdebug\n\u001b[0;32m     <a href='vscode-notebook-cell:/e%3A/Coding/backtesters/QuantFreedom/nb_quantfreedom/nb_tests/testing_cache_jit_classes.ipynb#X12sZmlsZQ%3D%3D?line=30'>31</a>\u001b[0m         \u001b[39mself\u001b[39m\u001b[39m.\u001b[39mlog_info \u001b[39m=\u001b[39m log_info\n\u001b[1;32m---> <a href='vscode-notebook-cell:/e%3A/Coding/backtesters/QuantFreedom/nb_quantfreedom/nb_tests/testing_cache_jit_classes.ipynb#X12sZmlsZQ%3D%3D?line=33'>34</a>\u001b[0m logger \u001b[39m=\u001b[39m PrintTester(\u001b[39mNone\u001b[39;49;00m, log_info)\n",
            "File \u001b[1;32me:\\Coding\\venvs\\qfree\\lib\\site-packages\\numba\\experimental\\jitclass\\base.py:124\u001b[0m, in \u001b[0;36mJitClassType.__call__\u001b[1;34m(cls, *args, **kwargs)\u001b[0m\n\u001b[0;32m    122\u001b[0m bind \u001b[39m=\u001b[39m \u001b[39mcls\u001b[39m\u001b[39m.\u001b[39m_ctor_sig\u001b[39m.\u001b[39mbind(\u001b[39mNone\u001b[39;00m, \u001b[39m*\u001b[39margs, \u001b[39m*\u001b[39m\u001b[39m*\u001b[39mkwargs)\n\u001b[0;32m    123\u001b[0m bind\u001b[39m.\u001b[39mapply_defaults()\n\u001b[1;32m--> 124\u001b[0m \u001b[39mreturn\u001b[39;00m \u001b[39mcls\u001b[39m\u001b[39m.\u001b[39m_ctor(\u001b[39m*\u001b[39mbind\u001b[39m.\u001b[39margs[\u001b[39m1\u001b[39m:], \u001b[39m*\u001b[39m\u001b[39m*\u001b[39mbind\u001b[39m.\u001b[39mkwargs)\n",
            "File \u001b[1;32me:\\Coding\\venvs\\qfree\\lib\\site-packages\\numba\\core\\dispatcher.py:468\u001b[0m, in \u001b[0;36m_DispatcherBase._compile_for_args\u001b[1;34m(self, *args, **kws)\u001b[0m\n\u001b[0;32m    464\u001b[0m         msg \u001b[39m=\u001b[39m (\u001b[39mf\u001b[39m\u001b[39m\"\u001b[39m\u001b[39m{\u001b[39;00m\u001b[39mstr\u001b[39m(e)\u001b[39m.\u001b[39mrstrip()\u001b[39m}\u001b[39;00m\u001b[39m \u001b[39m\u001b[39m\\n\u001b[39;00m\u001b[39m\\n\u001b[39;00m\u001b[39mThis error may have been caused \u001b[39m\u001b[39m\"\u001b[39m\n\u001b[0;32m    465\u001b[0m                \u001b[39mf\u001b[39m\u001b[39m\"\u001b[39m\u001b[39mby the following argument(s):\u001b[39m\u001b[39m\\n\u001b[39;00m\u001b[39m{\u001b[39;00margs_str\u001b[39m}\u001b[39;00m\u001b[39m\\n\u001b[39;00m\u001b[39m\"\u001b[39m)\n\u001b[0;32m    466\u001b[0m         e\u001b[39m.\u001b[39mpatch_message(msg)\n\u001b[1;32m--> 468\u001b[0m     error_rewrite(e, \u001b[39m'\u001b[39;49m\u001b[39mtyping\u001b[39;49m\u001b[39m'\u001b[39;49m)\n\u001b[0;32m    469\u001b[0m \u001b[39mexcept\u001b[39;00m errors\u001b[39m.\u001b[39mUnsupportedError \u001b[39mas\u001b[39;00m e:\n\u001b[0;32m    470\u001b[0m     \u001b[39m# Something unsupported is present in the user code, add help info\u001b[39;00m\n\u001b[0;32m    471\u001b[0m     error_rewrite(e, \u001b[39m'\u001b[39m\u001b[39munsupported_error\u001b[39m\u001b[39m'\u001b[39m)\n",
            "File \u001b[1;32me:\\Coding\\venvs\\qfree\\lib\\site-packages\\numba\\core\\dispatcher.py:409\u001b[0m, in \u001b[0;36m_DispatcherBase._compile_for_args.<locals>.error_rewrite\u001b[1;34m(e, issue_type)\u001b[0m\n\u001b[0;32m    407\u001b[0m     \u001b[39mraise\u001b[39;00m e\n\u001b[0;32m    408\u001b[0m \u001b[39melse\u001b[39;00m:\n\u001b[1;32m--> 409\u001b[0m     \u001b[39mraise\u001b[39;00m e\u001b[39m.\u001b[39mwith_traceback(\u001b[39mNone\u001b[39;00m)\n",
            "\u001b[1;31mTypingError\u001b[0m: Failed in nopython mode pipeline (step: nopython frontend)\n\u001b[1m\u001b[1m\u001b[1m\u001b[1mFailed in nopython mode pipeline (step: nopython frontend)\n\u001b[1m\u001b[1mUnknown attribute 'debug' of type Module(<module 'logging' from 'C:\\\\Users\\\\User\\\\AppData\\\\Local\\\\Programs\\\\Python\\\\Python310\\\\lib\\\\logging\\\\__init__.py'>)\n\u001b[1m\nFile \"C:\\Users\\User\\AppData\\Local\\Temp\\ipykernel_3700\\3962179911.py\", line 30:\u001b[0m\n\u001b[1m    def __init__(self, log_debug, log_info):\n        <source elided>\n        elif log_debug is None:\n\u001b[1m            self.log_debug = logging.debug\n\u001b[0m            \u001b[1m^\u001b[0m\u001b[0m\n\u001b[0m\n\u001b[0m\u001b[1mDuring: typing of get attribute at C:\\Users\\User\\AppData\\Local\\Temp\\ipykernel_3700\\3962179911.py (30)\u001b[0m\n\u001b[1m\nFile \"C:\\Users\\User\\AppData\\Local\\Temp\\ipykernel_3700\\3962179911.py\", line 30:\u001b[0m\n\u001b[1m    def __init__(self, log_debug, log_info):\n        <source elided>\n        elif log_debug is None:\n\u001b[1m            self.log_debug = logging.debug\n\u001b[0m            \u001b[1m^\u001b[0m\u001b[0m\n\n\u001b[0m\u001b[1mDuring: resolving callee type: jitclass.PrintTester#200f4209c00<log_debug:FunctionType[none(unicode_type)],log_info:FunctionType[none(unicode_type)]>\u001b[0m\n\u001b[0m\u001b[1mDuring: typing of call at <string> (3)\n\u001b[0m\n\u001b[0m\u001b[1mDuring: resolving callee type: jitclass.PrintTester#200f4209c00<log_debug:FunctionType[none(unicode_type)],log_info:FunctionType[none(unicode_type)]>\u001b[0m\n\u001b[0m\u001b[1mDuring: typing of call at <string> (3)\n\u001b[0m\n\u001b[1m\nFile \"<string>\", line 3:\u001b[0m\n\u001b[1m<source missing, REPL/exec in use?>\u001b[0m\n"
          ]
        }
      ],
      "source": [
        "# https://numba.discourse.group/t/typed-list-of-jitted-functions-in-jitclass/413/6\n",
        "import logging\n",
        "import numba\n",
        "from numba.core import types\n",
        "\n",
        "\n",
        "@numba.njit(cache=True)\n",
        "def log_debug(message):\n",
        "    print(message+ \" this is log debug\")\n",
        "    pass\n",
        "\n",
        "\n",
        "@numba.njit(cache=True)\n",
        "def log_info(message):\n",
        "    print(message + \" this is log info\")\n",
        "    pass\n",
        "\n",
        "\n",
        "@numba.experimental.jitclass(\n",
        "    [\n",
        "        (\"log_debug\", types.void(types.unicode_type).as_type()),\n",
        "        (\"log_info\", types.void(types.unicode_type).as_type()),\n",
        "    ]\n",
        ")\n",
        "class PrintTester:\n",
        "    def __init__(self, log_debug, log_info):\n",
        "        if log_debug is not None:\n",
        "            self.log_debug = log_debug\n",
        "        elif log_debug is None:\n",
        "            self.log_debug = logging.debug\n",
        "        self.log_info = log_info\n",
        "\n",
        "\n",
        "logger = PrintTester(None, log_info)"
      ]
    },
    {
      "cell_type": "code",
      "execution_count": 22,
      "metadata": {},
      "outputs": [
        {
          "name": "stdout",
          "output_type": "stream",
          "text": [
            "hello\n"
          ]
        }
      ],
      "source": [
        "class asdfasdf(object):\n",
        "    def __init__(self, hey,) -> None:\n",
        "        self.hey = hey\n",
        "\n",
        "class Wiwer(asdfasdf):\n",
        "    def printer(self):\n",
        "        print(\"hello\")\n",
        "        \n",
        "\n",
        "asdfasdf(hey='youou')\n",
        "Wiwer(hey=\"yes\").printer()"
      ]
    }
  ],
  "metadata": {
    "kernelspec": {
      "display_name": "qfFree",
      "language": "python",
      "name": "python3"
    },
    "language_info": {
      "codemirror_mode": {
        "name": "ipython",
        "version": 3
      },
      "file_extension": ".py",
      "mimetype": "text/x-python",
      "name": "python",
      "nbconvert_exporter": "python",
      "pygments_lexer": "ipython3",
      "version": "3.10.10"
    },
    "orig_nbformat": 4
  },
  "nbformat": 4,
  "nbformat_minor": 2
}
