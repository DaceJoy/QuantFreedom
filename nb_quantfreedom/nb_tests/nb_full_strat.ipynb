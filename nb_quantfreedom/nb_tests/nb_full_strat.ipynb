{
  "cells": [
    {
      "cell_type": "code",
      "execution_count": 1,
      "metadata": {},
      "outputs": [],
      "source": [
        "import os\n",
        "import sys\n",
        "\n",
        "sys.dont_write_bytecode = True\n",
        "os.environ[\"NUMBA_DISABLE_JIT\"] = \"1\"\n",
        "# os.environ[\"NUMBA_DEBUG_FRONTEND\"] = \"1\"\n",
        "# os.environ[\"NUMBA_DEBUG\"] = \"1\"\n",
        "# os.environ[\"NUMBA_DEBUGINFO\"] = \"1\"\n",
        "# os.environ[\"NUMBA_SHOW_HELP\"] = \"1\"\n",
        "# os.environ[\"NUMBA_FULL_TRACEBACKS\"] = \"1\"\n",
        "# os.environ[\"NUMBA_DEVELOPER_MODE\"] = \"1\""
      ]
    },
    {
      "cell_type": "code",
      "execution_count": 2,
      "metadata": {},
      "outputs": [],
      "source": [
        "from my_stuff import MufexKeys\n",
        "from nb_quantfreedom.exchanges.mufex_exchange.mufex import Mufex\n",
        "from nb_quantfreedom.nb_base import backtest_df_only\n",
        "from nb_quantfreedom.nb_enums import *\n",
        "from nb_quantfreedom.nb_helper_funcs import nb_dos_cart_product\n",
        "\n",
        "mufex_main = Mufex(\n",
        "    api_key=MufexKeys.api_key,\n",
        "    secret_key=MufexKeys.secret_key,\n",
        "    use_test_net=False,\n",
        ")\n",
        "\n",
        "%load_ext autoreload\n",
        "%autoreload 2\n"
      ]
    },
    {
      "cell_type": "code",
      "execution_count": 3,
      "metadata": {},
      "outputs": [
        {
          "name": "stdout",
          "output_type": "stream",
          "text": [
            "It took 00 mins and 01 seconds to download 200 candles\n"
          ]
        }
      ],
      "source": [
        "candles = mufex_main.get_candles_df(\n",
        "    symbol=\"BTCUSDT\",\n",
        "    timeframe=\"15m\",\n",
        "    candles_to_dl=200,\n",
        ")"
      ]
    },
    {
      "cell_type": "code",
      "execution_count": 4,
      "metadata": {},
      "outputs": [],
      "source": [
        "mufex_main.set_exchange_settings(\n",
        "    symbol=\"BTCUSDT\",\n",
        "    position_mode=PositionModeType.HedgeMode,\n",
        "    leverage_mode=LeverageModeType.Isolated,\n",
        ")\n",
        "backtest_settings = BacktestSettings()\n",
        "dos_arrays = DynamicOrderSettingsArrays(\n",
        "    entry_size_asset=np.array([0]),\n",
        "    max_equity_risk_pct=np.array([3]),\n",
        "    max_trades=np.array([5]),\n",
        "    num_candles=np.array([60]),\n",
        "    risk_account_pct_size=np.array([3, 5]),\n",
        "    risk_reward=np.array([3]),\n",
        "    sl_based_on_add_pct=np.array([.01]),\n",
        "    sl_based_on_lookback=np.array([10]),\n",
        "    sl_bcb_type=np.array([CandleBodyType.Low]),\n",
        "    sl_to_be_cb_type=np.array([0]),\n",
        "    sl_to_be_when_pct=np.array([0]),\n",
        "    sl_to_be_ze_type=np.array([0]),\n",
        "    static_leverage=np.array([0]),\n",
        "    trail_sl_bcb_type=np.array([CandleBodyType.Low]),\n",
        "    trail_sl_by_pct=np.array([1.20]),\n",
        "    trail_sl_when_pct=np.array([.001]),\n",
        ")\n",
        "static_os = StaticOrderSettings(\n",
        "    increase_position_type=IncreasePositionType.RiskPctAccountEntrySize,\n",
        "    leverage_strategy_type=LeverageStrategyType.Dynamic,\n",
        "    long_or_short=LongOrShortType.Long,\n",
        "    logger_bool=True,\n",
        "    pg_min_max_sl_bcb=PriceGetterType.Min,\n",
        "    sl_to_be_bool=False,\n",
        "    z_or_e_type=ZeroOrEntryType.Nothing,\n",
        "    sl_strategy_type=StopLossStrategyType.SLBasedOnCandleBody,\n",
        "    tp_strategy_type=TakeProfitStrategyType.RiskReward,\n",
        "    tp_fee_type=TakeProfitFeeType.Limit,\n",
        "    trail_sl_bool=True,\n",
        ")\n",
        "dos_cart_arrays = nb_dos_cart_product(\n",
        "    dos_arrays=dos_arrays,\n",
        ")"
      ]
    },
    {
      "cell_type": "code",
      "execution_count": 6,
      "metadata": {},
      "outputs": [
        {
          "data": {
            "text/html": [
              "<div>\n",
              "<style scoped>\n",
              "    .dataframe tbody tr th:only-of-type {\n",
              "        vertical-align: middle;\n",
              "    }\n",
              "\n",
              "    .dataframe tbody tr th {\n",
              "        vertical-align: top;\n",
              "    }\n",
              "\n",
              "    .dataframe thead th {\n",
              "        text-align: right;\n",
              "    }\n",
              "</style>\n",
              "<table border=\"1\" class=\"dataframe\">\n",
              "  <thead>\n",
              "    <tr style=\"text-align: right;\">\n",
              "      <th></th>\n",
              "      <th>ind_set_idx</th>\n",
              "      <th>dos_index</th>\n",
              "      <th>total_trades</th>\n",
              "      <th>gains_pct</th>\n",
              "      <th>win_rate</th>\n",
              "      <th>to_the_upside</th>\n",
              "      <th>fees_paid</th>\n",
              "      <th>total_pnl</th>\n",
              "      <th>ending_eq</th>\n",
              "    </tr>\n",
              "  </thead>\n",
              "  <tbody>\n",
              "  </tbody>\n",
              "</table>\n",
              "</div>"
            ],
            "text/plain": [
              "Empty DataFrame\n",
              "Columns: [ind_set_idx, dos_index, total_trades, gains_pct, win_rate, to_the_upside, fees_paid, total_pnl, ending_eq]\n",
              "Index: []"
            ]
          },
          "execution_count": 6,
          "metadata": {},
          "output_type": "execute_result"
        }
      ],
      "source": [
        "backtest_df_only(\n",
        "    backtest_settings=backtest_settings,\n",
        "    candle_processing_mode=CandleProcessingType.Backtest,\n",
        "    candles=candles,\n",
        "    dos_cart_arrays=dos_cart_arrays,\n",
        "    exchange_settings=mufex_main.exchange_settings,\n",
        "    # logger_settings='p',\n",
        "    logger_settings=LoggerSettings(log_debug=True, create_trades_logger=False),\n",
        "    starting_equity=1000.0,\n",
        "    static_os=static_os,\n",
        ")"
      ]
    }
  ],
  "metadata": {
    "kernelspec": {
      "display_name": "qfFree",
      "language": "python",
      "name": "python3"
    },
    "language_info": {
      "codemirror_mode": {
        "name": "ipython",
        "version": 3
      },
      "file_extension": ".py",
      "mimetype": "text/x-python",
      "name": "python",
      "nbconvert_exporter": "python",
      "pygments_lexer": "ipython3",
      "version": "3.10.10"
    },
    "orig_nbformat": 4
  },
  "nbformat": 4,
  "nbformat_minor": 2
}
