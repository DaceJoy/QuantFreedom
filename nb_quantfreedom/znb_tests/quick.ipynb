{
  "cells": [
    {
      "cell_type": "code",
      "execution_count": 1,
      "metadata": {},
      "outputs": [],
      "source": [
        "import os\n",
        "# import sys\n",
        "\n",
        "# sys.dont_write_bytecode = True\n",
        "# os.environ[\"NUMBA_DISABLE_JIT\"] = \"1\"\n",
        "os.environ[\"NUMBA_DEBUG_CACHE\"] = \"1\""
      ]
    },
    {
      "cell_type": "code",
      "execution_count": 2,
      "metadata": {},
      "outputs": [],
      "source": [
        "import numpy as np\n",
        "import pandas as pd\n",
        "from my_stuff import MufexKeys\n",
        "from nb_quantfreedom.exchanges.mufex_exchange.mufex import Mufex\n",
        "from nb_quantfreedom.nb_enums import DynamicOrderSettingsArrays\n",
        "from nb_quantfreedom.utils import pretty_qf\n",
        "from requests import get\n",
        "from talib import RSI\n",
        "from numba import njit, types, typed\n",
        "from numba.experimental import jitclass\n",
        "import logging\n",
        "from nb_quantfreedom.nb_base import final_bt_df_only\n",
        "from nb_quantfreedom.nb_enums import *\n",
        "\n",
        "mufex_main = Mufex(\n",
        "    api_key=MufexKeys.api_key,\n",
        "    secret_key=MufexKeys.secret_key,\n",
        "    use_test_net=False,\n",
        ")\n",
        "\n",
        "%load_ext autoreload\n",
        "%autoreload 2\n"
      ]
    },
    {
      "cell_type": "code",
      "execution_count": 3,
      "metadata": {},
      "outputs": [
        {
          "name": "stdout",
          "output_type": "stream",
          "text": [
            "It took 00 mins and 00 seconds to download 300 candles\n"
          ]
        }
      ],
      "source": [
        "candles_np = mufex_main.get_candles_df(symbol=\"BTCUSDT\", timeframe=\"1m\", candles_to_dl=300, limit=200)"
      ]
    },
    {
      "cell_type": "code",
      "execution_count": 4,
      "metadata": {},
      "outputs": [],
      "source": [
        "static_os = StaticOrderSettings(\n",
        "    increase_position_type=IncreasePositionType.RiskPctAccountEntrySize,\n",
        "    leverage_strategy_type=LeverageStrategyType.Dynamic,\n",
        "    long_or_short=LongOrShortType.Long,\n",
        "    logger_bool=True,\n",
        "    pg_min_max_sl_bcb=PriceGetterType.Min,\n",
        "    sl_to_be_bool=False,\n",
        "    z_or_e_type=ZeroOrEntryType.Nothing,\n",
        "    sl_strategy_type=StopLossStrategyType.SLBasedOnCandleBody,\n",
        "    tp_strategy_type=TakeProfitStrategyType.RiskReward,\n",
        "    tp_fee_type=TakeProfitFeeType.Limit,\n",
        "    trail_sl_bool=True,\n",
        ")"
      ]
    },
    {
      "cell_type": "code",
      "execution_count": 5,
      "metadata": {},
      "outputs": [],
      "source": [
        "(\n",
        "    checker_sl_hit,\n",
        "    checker_sl_to_be,\n",
        "    checker_tsl,\n",
        "    dec_pos_calculator,\n",
        "    log_func_list,\n",
        "    str_func_list,\n",
        "    sl_bcb_price_getter,\n",
        "    sl_calculator,\n",
        "    sl_mover,\n",
        "    zero_or_entry_calc,\n",
        ") = final_bt_df_only(\n",
        "    logger_type=LoggerType.Print,\n",
        "    static_os=static_os,\n",
        ")"
      ]
    },
    {
      "cell_type": "code",
      "execution_count": 6,
      "metadata": {},
      "outputs": [
        {
          "name": "stdout",
          "output_type": "stream",
          "text": [
            "[cache] index saved to 'E:\\\\Coding\\\\backtesters\\\\QuantFreedom\\\\nb_quantfreedom\\\\__pycache__\\\\nb_helper_funcs.get_n_digits-131.py310.nbi'\n",
            "[cache] data saved to 'E:\\\\Coding\\\\backtesters\\\\QuantFreedom\\\\nb_quantfreedom\\\\__pycache__\\\\nb_helper_funcs.get_n_digits-131.py310.1.nbc'\n",
            "[cache] index saved to 'E:\\\\Coding\\\\backtesters\\\\QuantFreedom\\\\nb_quantfreedom\\\\__pycache__\\\\nb_helper_funcs.float_to_str-148.py310.nbi'\n",
            "[cache] data saved to 'E:\\\\Coding\\\\backtesters\\\\QuantFreedom\\\\nb_quantfreedom\\\\__pycache__\\\\nb_helper_funcs.float_to_str-148.py310.1.nbc'\n",
            "[cache] index saved to 'E:\\\\Coding\\\\backtesters\\\\QuantFreedom\\\\nb_quantfreedom\\\\__pycache__\\\\nb_custom_logger.print_float_to_str-204.py310.nbi'\n",
            "[cache] data saved to 'E:\\\\Coding\\\\backtesters\\\\QuantFreedom\\\\nb_quantfreedom\\\\__pycache__\\\\nb_custom_logger.print_float_to_str-204.py310.1.nbc'\n",
            "[cache] index saved to 'E:\\\\Coding\\\\backtesters\\\\QuantFreedom\\\\nb_quantfreedom\\\\__pycache__\\\\nb_custom_logger.print_log_debug-184.py310.nbi'\n",
            "[cache] data saved to 'E:\\\\Coding\\\\backtesters\\\\QuantFreedom\\\\nb_quantfreedom\\\\__pycache__\\\\nb_custom_logger.print_log_debug-184.py310.1.nbc'\n",
            "[cache] index saved to 'E:\\\\Coding\\\\backtesters\\\\QuantFreedom\\\\nb_quantfreedom\\\\nb_order_handler\\\\__pycache__\\\\nb_decrease_position.decrease_position-6.py310.nbi'\n",
            "[cache] data saved to 'E:\\\\Coding\\\\backtesters\\\\QuantFreedom\\\\nb_quantfreedom\\\\nb_order_handler\\\\__pycache__\\\\nb_decrease_position.decrease_position-6.py310.1.nbc'\n"
          ]
        },
        {
          "ename": "TypeError",
          "evalue": "can't unbox heterogeneous list: type(CPUDispatcher(<function print_log_debug at 0x00000133977E8310>)) != type(CPUDispatcher(<function print_log_info at 0x00000133977E8160>))",
          "output_type": "error",
          "traceback": [
            "\u001b[1;31m---------------------------------------------------------------------------\u001b[0m",
            "\u001b[1;31mTypeError\u001b[0m                                 Traceback (most recent call last)",
            "\u001b[1;32me:\\Coding\\backtesters\\QuantFreedom\\nb_quantfreedom\\znb_tests\\quick.ipynb Cell 6\u001b[0m line \u001b[0;36m6\n\u001b[0;32m      <a href='vscode-notebook-cell:/e%3A/Coding/backtesters/QuantFreedom/nb_quantfreedom/znb_tests/quick.ipynb#X11sZmlsZQ%3D%3D?line=0'>1</a>\u001b[0m (\n\u001b[0;32m      <a href='vscode-notebook-cell:/e%3A/Coding/backtesters/QuantFreedom/nb_quantfreedom/znb_tests/quick.ipynb#X11sZmlsZQ%3D%3D?line=1'>2</a>\u001b[0m     account_state,\n\u001b[0;32m      <a href='vscode-notebook-cell:/e%3A/Coding/backtesters/QuantFreedom/nb_quantfreedom/znb_tests/quick.ipynb#X11sZmlsZQ%3D%3D?line=2'>3</a>\u001b[0m     fees_paid,\n\u001b[0;32m      <a href='vscode-notebook-cell:/e%3A/Coding/backtesters/QuantFreedom/nb_quantfreedom/znb_tests/quick.ipynb#X11sZmlsZQ%3D%3D?line=3'>4</a>\u001b[0m     order_result,\n\u001b[0;32m      <a href='vscode-notebook-cell:/e%3A/Coding/backtesters/QuantFreedom/nb_quantfreedom/znb_tests/quick.ipynb#X11sZmlsZQ%3D%3D?line=4'>5</a>\u001b[0m     realized_pnl,\n\u001b[1;32m----> <a href='vscode-notebook-cell:/e%3A/Coding/backtesters/QuantFreedom/nb_quantfreedom/znb_tests/quick.ipynb#X11sZmlsZQ%3D%3D?line=5'>6</a>\u001b[0m ) \u001b[39m=\u001b[39m dec_pos_calculator(\n\u001b[0;32m      <a href='vscode-notebook-cell:/e%3A/Coding/backtesters/QuantFreedom/nb_quantfreedom/znb_tests/quick.ipynb#X11sZmlsZQ%3D%3D?line=6'>7</a>\u001b[0m     average_entry\u001b[39m=\u001b[39;49m\u001b[39m23456.0\u001b[39;49m,\n\u001b[0;32m      <a href='vscode-notebook-cell:/e%3A/Coding/backtesters/QuantFreedom/nb_quantfreedom/znb_tests/quick.ipynb#X11sZmlsZQ%3D%3D?line=7'>8</a>\u001b[0m     equity\u001b[39m=\u001b[39;49m\u001b[39m1000.0\u001b[39;49m,\n\u001b[0;32m      <a href='vscode-notebook-cell:/e%3A/Coding/backtesters/QuantFreedom/nb_quantfreedom/znb_tests/quick.ipynb#X11sZmlsZQ%3D%3D?line=8'>9</a>\u001b[0m     exit_fee_pct\u001b[39m=\u001b[39;49m\u001b[39m0.0003\u001b[39;49m,\n\u001b[0;32m     <a href='vscode-notebook-cell:/e%3A/Coding/backtesters/QuantFreedom/nb_quantfreedom/znb_tests/quick.ipynb#X11sZmlsZQ%3D%3D?line=9'>10</a>\u001b[0m     exit_price\u001b[39m=\u001b[39;49m\u001b[39m23684.6\u001b[39;49m,\n\u001b[0;32m     <a href='vscode-notebook-cell:/e%3A/Coding/backtesters/QuantFreedom/nb_quantfreedom/znb_tests/quick.ipynb#X11sZmlsZQ%3D%3D?line=10'>11</a>\u001b[0m     logger\u001b[39m=\u001b[39;49mlog_func_list,\n\u001b[0;32m     <a href='vscode-notebook-cell:/e%3A/Coding/backtesters/QuantFreedom/nb_quantfreedom/znb_tests/quick.ipynb#X11sZmlsZQ%3D%3D?line=11'>12</a>\u001b[0m     stringer\u001b[39m=\u001b[39;49mstr_func_list,\n\u001b[0;32m     <a href='vscode-notebook-cell:/e%3A/Coding/backtesters/QuantFreedom/nb_quantfreedom/znb_tests/quick.ipynb#X11sZmlsZQ%3D%3D?line=12'>13</a>\u001b[0m     market_fee_pct\u001b[39m=\u001b[39;49m\u001b[39m0.0009\u001b[39;49m,\n\u001b[0;32m     <a href='vscode-notebook-cell:/e%3A/Coding/backtesters/QuantFreedom/nb_quantfreedom/znb_tests/quick.ipynb#X11sZmlsZQ%3D%3D?line=13'>14</a>\u001b[0m     position_size_asset\u001b[39m=\u001b[39;49m\u001b[39m0.02\u001b[39;49m,\n\u001b[0;32m     <a href='vscode-notebook-cell:/e%3A/Coding/backtesters/QuantFreedom/nb_quantfreedom/znb_tests/quick.ipynb#X11sZmlsZQ%3D%3D?line=14'>15</a>\u001b[0m )\n",
            "\u001b[1;31mTypeError\u001b[0m: can't unbox heterogeneous list: type(CPUDispatcher(<function print_log_debug at 0x00000133977E8310>)) != type(CPUDispatcher(<function print_log_info at 0x00000133977E8160>))"
          ]
        }
      ],
      "source": [
        "(\n",
        "    account_state,\n",
        "    fees_paid,\n",
        "    order_result,\n",
        "    realized_pnl,\n",
        ") = dec_pos_calculator(\n",
        "    average_entry=23456.0,\n",
        "    equity=1000.0,\n",
        "    exit_fee_pct=0.0003,\n",
        "    exit_price=23684.6,\n",
        "    logger=log_func_list,\n",
        "    stringer=str_func_list,\n",
        "    market_fee_pct=0.0009,\n",
        "    position_size_asset=0.02,\n",
        ")"
      ]
    },
    {
      "cell_type": "code",
      "execution_count": null,
      "metadata": {},
      "outputs": [],
      "source": [
        "@njit(cache=True)\n",
        "def test_dec(dec_pos, log_list, str_list):\n",
        "    (\n",
        "        account_state,\n",
        "        fees_paid,\n",
        "        order_result,\n",
        "        realized_pnl,\n",
        "    ) = dec_pos(\n",
        "        average_entry=23456.0,\n",
        "        equity=1000.0,\n",
        "        exit_fee_pct=0.0003,\n",
        "        exit_price=23684.6,\n",
        "        logger=log_list,\n",
        "        stringer=str_list,\n",
        "        market_fee_pct=0.0009,\n",
        "        position_size_asset=0.02,\n",
        "    )\n",
        "    x = 10 + fees_paid\n",
        "    return x"
      ]
    },
    {
      "cell_type": "code",
      "execution_count": null,
      "metadata": {},
      "outputs": [],
      "source": [
        "test_dec(dec_pos_calculator, log_func_list, str_func_list)"
      ]
    },
    {
      "cell_type": "code",
      "execution_count": null,
      "metadata": {},
      "outputs": [],
      "source": [
        "from numba import typed, typeof, njit, int64, types\n",
        "from numba.experimental import jitclass\n",
        "from numba.extending import overload_method, overload\n",
        "\n",
        "spec = [\n",
        "    ('value', int64),\n",
        "]\n",
        "\n",
        "\n",
        "@jitclass(spec)\n",
        "class Bag(object):\n",
        "    def __init__(self, value):\n",
        "        self.value = value\n",
        "\n",
        "mybag = Bag(21)\n",
        "\n",
        "x = typed.List.empty_list(Bag.class_type.instance_type)\n",
        "x.append(mybag)\n",
        "\n",
        "# @overload_method(types.misc.ClassInstanceType, 'clone')\n",
        "# def ol_bag_clone(inst,):\n",
        "#     if inst is Bag.class_type.instance_type:\n",
        "#         def impl(inst,):\n",
        "#             return Bag(inst.value)\n",
        "#         return impl\n",
        "\n",
        "@njit\n",
        "def foo(z):\n",
        "    t = z[0]\n",
        "    t.clone()\n",
        "\n",
        "foo(x)"
      ]
    }
  ],
  "metadata": {
    "kernelspec": {
      "display_name": "qfFree",
      "language": "python",
      "name": "python3"
    },
    "language_info": {
      "codemirror_mode": {
        "name": "ipython",
        "version": 3
      },
      "file_extension": ".py",
      "mimetype": "text/x-python",
      "name": "python",
      "nbconvert_exporter": "python",
      "pygments_lexer": "ipython3",
      "version": "3.10.10"
    },
    "orig_nbformat": 4
  },
  "nbformat": 4,
  "nbformat_minor": 2
}
