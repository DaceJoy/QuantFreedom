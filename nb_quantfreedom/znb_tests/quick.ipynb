{
  "cells": [
    {
      "cell_type": "code",
      "execution_count": null,
      "metadata": {},
      "outputs": [],
      "source": [
        "# import os\n",
        "# import sys\n",
        "\n",
        "# sys.dont_write_bytecode = True\n",
        "# os.environ[\"NUMBA_DISABLE_JIT\"] = \"1\"\n"
      ]
    },
    {
      "cell_type": "code",
      "execution_count": null,
      "metadata": {},
      "outputs": [],
      "source": [
        "import numpy as np\n",
        "import pandas as pd\n",
        "from my_stuff import MufexKeys\n",
        "from nb_quantfreedom.exchanges.mufex_exchange.mufex import Mufex\n",
        "from nb_quantfreedom.nb_enums import DynamicOrderSettingsArrays\n",
        "from nb_quantfreedom.utils import pretty_qf\n",
        "from requests import get\n",
        "from talib import RSI\n",
        "from numba import njit, types, typed\n",
        "from numba.experimental import jitclass\n",
        "import logging\n",
        "from nb_quantfreedom.nb_enums import CandleBodyType\n",
        "\n",
        "np.set_printoptions(formatter={\"float_kind\": \"{:.2f}\".format})\n",
        "\n",
        "pd.options.display.float_format = \"{:.2f}\".format\n",
        "\n",
        "mufex_main = Mufex(\n",
        "    api_key=MufexKeys.api_key,\n",
        "    secret_key=MufexKeys.secret_key,\n",
        "    use_test_net=False,\n",
        ")\n",
        "\n",
        "%load_ext autoreload\n",
        "%autoreload 2\n"
      ]
    },
    {
      "cell_type": "code",
      "execution_count": null,
      "metadata": {},
      "outputs": [],
      "source": [
        "import numpy as np\n",
        "from numba import int64, types, typed\n",
        "from numba.experimental import jitclass\n",
        "\n",
        "spec_foo = {\"data\": int64[:]}\n",
        "\n",
        "\n",
        "@jitclass(spec_foo)\n",
        "class Foo(object):\n",
        "    def __init__(self, init_data):\n",
        "        self.data = init_data\n",
        "\n",
        "\n",
        "# Want to have a list of Foo instances in the Bar class\n",
        "# >>> Use ListType instead of List here.\n",
        "# spec_bar = {\"foo_list\": types.ListType(Foo.class_type.instance_type)}\n",
        "\n",
        "\n",
        "# @jitclass(spec_bar)\n",
        "class Bar(object):\n",
        "    def __init__(self, foo_list):\n",
        "        # This assigns a reference to a list of Foo instances\n",
        "        self.foo_list = foo_list\n",
        "\n",
        "\n",
        "x = np.arange(5).astype(np.int64)\n",
        "# Build a Foo instance\n",
        "foo = Foo(x)\n",
        "\n",
        "# Create a Bar instance that holds a list of Foo instance.\n",
        "# >>> Pass a typed.List here.\n",
        "bar = Bar(typed.List([foo]))\n",
        "foo"
      ]
    },
    {
      "cell_type": "code",
      "execution_count": null,
      "metadata": {},
      "outputs": [],
      "source": [
        "bar.foo_list[0].data"
      ]
    },
    {
      "cell_type": "code",
      "execution_count": null,
      "metadata": {},
      "outputs": [],
      "source": [
        "foo.data"
      ]
    },
    {
      "cell_type": "code",
      "execution_count": 107,
      "metadata": {},
      "outputs": [],
      "source": [
        "import numba\n",
        "import numpy as np\n",
        "from numba import int64, types, typed, optional\n",
        "from numba.experimental import jitclass\n",
        "\n",
        "spec = {\"data\": int64}\n",
        "\n",
        "\n",
        "class EmptyClass:\n",
        "    def __init__(self) -> None:\n",
        "        pass\n",
        "\n",
        "    def tester(self):\n",
        "        print(\"hello\")\n",
        "\n",
        "    def multi_data(self):\n",
        "        pass\n",
        "\n",
        "    def print_data(self):\n",
        "        pass\n",
        "\n",
        "\n",
        "@jitclass(spec)\n",
        "class Foo(EmptyClass):\n",
        "    def __init__(self, init_data):\n",
        "        self.data = init_data\n",
        "\n",
        "    def print_data(self):\n",
        "        print(self.data)\n",
        "\n",
        "\n",
        "@jitclass(spec)\n",
        "class Boo(EmptyClass):\n",
        "    def __init__(self, init_data):\n",
        "        self.data = init_data\n",
        "\n",
        "    def multi_data(self):\n",
        "        print(self.data * 100)\n",
        "\n",
        "\n",
        "spec_end = {\"logger\": numba.types.UnionType((Foo.class_type.instance_type, Boo.class_type.instance_type))}\n",
        "\n",
        "\n",
        "@jitclass(spec_end)\n",
        "class Bar:\n",
        "    def __init__(self, data):\n",
        "        if data == 0:\n",
        "            self.logger = Foo(1)\n",
        "        elif data == 1:\n",
        "            self.logger = Boo(2)"
      ]
    },
    {
      "cell_type": "code",
      "execution_count": 108,
      "metadata": {},
      "outputs": [
        {
          "ename": "TypingError",
          "evalue": "Failed in nopython mode pipeline (step: nopython frontend)\n\u001b[1m\u001b[1m\u001b[1m\u001b[1mFailed in nopython mode pipeline (step: native lowering)\n\u001b[1m\u001b[1mCannot cast instance.jitclass.Foo#1d61f31b6d0<data:int64> to Union[instance.jitclass.Boo#1d61f318f70<data:int64>,instance.jitclass.Foo#1d61f31b6d0<data:int64>]: %\".63\" = load {i8*, {i64}*}, {i8*, {i64}*}* %\".31\"\u001b[0m\n\u001b[0m\u001b[1mDuring: lowering \"(self).logger = $14call_function.2\" at C:\\Users\\User\\AppData\\Local\\Temp\\ipykernel_19292\\1499562187.py (56)\u001b[0m\n\u001b[0m\u001b[1mDuring: resolving callee type: jitclass.Bar#1d61f1cddb0<logger:Union[instance.jitclass.Boo#1d61f318f70<data:int64>,instance.jitclass.Foo#1d61f31b6d0<data:int64>]>\u001b[0m\n\u001b[0m\u001b[1mDuring: typing of call at <string> (3)\n\u001b[0m\n\u001b[0m\u001b[1mDuring: resolving callee type: jitclass.Bar#1d61f1cddb0<logger:Union[instance.jitclass.Boo#1d61f318f70<data:int64>,instance.jitclass.Foo#1d61f31b6d0<data:int64>]>\u001b[0m\n\u001b[0m\u001b[1mDuring: typing of call at <string> (3)\n\u001b[0m\n\u001b[1m\nFile \"<string>\", line 3:\u001b[0m\n\u001b[1m<source missing, REPL/exec in use?>\u001b[0m\n",
          "output_type": "error",
          "traceback": [
            "\u001b[1;31m---------------------------------------------------------------------------\u001b[0m",
            "\u001b[1;31mTypingError\u001b[0m                               Traceback (most recent call last)",
            "\u001b[1;32me:\\Coding\\backtesters\\QuantFreedom\\nb_quantfreedom\\znb_tests\\quick.ipynb Cell 7\u001b[0m line \u001b[0;36m1\n\u001b[1;32m----> <a href='vscode-notebook-cell:/e%3A/Coding/backtesters/QuantFreedom/nb_quantfreedom/znb_tests/quick.ipynb#X11sZmlsZQ%3D%3D?line=0'>1</a>\u001b[0m Bar(\u001b[39m0\u001b[39;49m)\n",
            "File \u001b[1;32me:\\Coding\\venvs\\qfree\\lib\\site-packages\\numba\\experimental\\jitclass\\base.py:124\u001b[0m, in \u001b[0;36mJitClassType.__call__\u001b[1;34m(cls, *args, **kwargs)\u001b[0m\n\u001b[0;32m    122\u001b[0m bind \u001b[39m=\u001b[39m \u001b[39mcls\u001b[39m\u001b[39m.\u001b[39m_ctor_sig\u001b[39m.\u001b[39mbind(\u001b[39mNone\u001b[39;00m, \u001b[39m*\u001b[39margs, \u001b[39m*\u001b[39m\u001b[39m*\u001b[39mkwargs)\n\u001b[0;32m    123\u001b[0m bind\u001b[39m.\u001b[39mapply_defaults()\n\u001b[1;32m--> 124\u001b[0m \u001b[39mreturn\u001b[39;00m \u001b[39mcls\u001b[39m\u001b[39m.\u001b[39m_ctor(\u001b[39m*\u001b[39mbind\u001b[39m.\u001b[39margs[\u001b[39m1\u001b[39m:], \u001b[39m*\u001b[39m\u001b[39m*\u001b[39mbind\u001b[39m.\u001b[39mkwargs)\n",
            "File \u001b[1;32me:\\Coding\\venvs\\qfree\\lib\\site-packages\\numba\\core\\dispatcher.py:468\u001b[0m, in \u001b[0;36m_DispatcherBase._compile_for_args\u001b[1;34m(self, *args, **kws)\u001b[0m\n\u001b[0;32m    464\u001b[0m         msg \u001b[39m=\u001b[39m (\u001b[39mf\u001b[39m\u001b[39m\"\u001b[39m\u001b[39m{\u001b[39;00m\u001b[39mstr\u001b[39m(e)\u001b[39m.\u001b[39mrstrip()\u001b[39m}\u001b[39;00m\u001b[39m \u001b[39m\u001b[39m\\n\u001b[39;00m\u001b[39m\\n\u001b[39;00m\u001b[39mThis error may have been caused \u001b[39m\u001b[39m\"\u001b[39m\n\u001b[0;32m    465\u001b[0m                \u001b[39mf\u001b[39m\u001b[39m\"\u001b[39m\u001b[39mby the following argument(s):\u001b[39m\u001b[39m\\n\u001b[39;00m\u001b[39m{\u001b[39;00margs_str\u001b[39m}\u001b[39;00m\u001b[39m\\n\u001b[39;00m\u001b[39m\"\u001b[39m)\n\u001b[0;32m    466\u001b[0m         e\u001b[39m.\u001b[39mpatch_message(msg)\n\u001b[1;32m--> 468\u001b[0m     error_rewrite(e, \u001b[39m'\u001b[39;49m\u001b[39mtyping\u001b[39;49m\u001b[39m'\u001b[39;49m)\n\u001b[0;32m    469\u001b[0m \u001b[39mexcept\u001b[39;00m errors\u001b[39m.\u001b[39mUnsupportedError \u001b[39mas\u001b[39;00m e:\n\u001b[0;32m    470\u001b[0m     \u001b[39m# Something unsupported is present in the user code, add help info\u001b[39;00m\n\u001b[0;32m    471\u001b[0m     error_rewrite(e, \u001b[39m'\u001b[39m\u001b[39munsupported_error\u001b[39m\u001b[39m'\u001b[39m)\n",
            "File \u001b[1;32me:\\Coding\\venvs\\qfree\\lib\\site-packages\\numba\\core\\dispatcher.py:409\u001b[0m, in \u001b[0;36m_DispatcherBase._compile_for_args.<locals>.error_rewrite\u001b[1;34m(e, issue_type)\u001b[0m\n\u001b[0;32m    407\u001b[0m     \u001b[39mraise\u001b[39;00m e\n\u001b[0;32m    408\u001b[0m \u001b[39melse\u001b[39;00m:\n\u001b[1;32m--> 409\u001b[0m     \u001b[39mraise\u001b[39;00m e\u001b[39m.\u001b[39mwith_traceback(\u001b[39mNone\u001b[39;00m)\n",
            "\u001b[1;31mTypingError\u001b[0m: Failed in nopython mode pipeline (step: nopython frontend)\n\u001b[1m\u001b[1m\u001b[1m\u001b[1mFailed in nopython mode pipeline (step: native lowering)\n\u001b[1m\u001b[1mCannot cast instance.jitclass.Foo#1d61f31b6d0<data:int64> to Union[instance.jitclass.Boo#1d61f318f70<data:int64>,instance.jitclass.Foo#1d61f31b6d0<data:int64>]: %\".63\" = load {i8*, {i64}*}, {i8*, {i64}*}* %\".31\"\u001b[0m\n\u001b[0m\u001b[1mDuring: lowering \"(self).logger = $14call_function.2\" at C:\\Users\\User\\AppData\\Local\\Temp\\ipykernel_19292\\1499562187.py (56)\u001b[0m\n\u001b[0m\u001b[1mDuring: resolving callee type: jitclass.Bar#1d61f1cddb0<logger:Union[instance.jitclass.Boo#1d61f318f70<data:int64>,instance.jitclass.Foo#1d61f31b6d0<data:int64>]>\u001b[0m\n\u001b[0m\u001b[1mDuring: typing of call at <string> (3)\n\u001b[0m\n\u001b[0m\u001b[1mDuring: resolving callee type: jitclass.Bar#1d61f1cddb0<logger:Union[instance.jitclass.Boo#1d61f318f70<data:int64>,instance.jitclass.Foo#1d61f31b6d0<data:int64>]>\u001b[0m\n\u001b[0m\u001b[1mDuring: typing of call at <string> (3)\n\u001b[0m\n\u001b[1m\nFile \"<string>\", line 3:\u001b[0m\n\u001b[1m<source missing, REPL/exec in use?>\u001b[0m\n"
          ]
        }
      ],
      "source": [
        "Bar(0)"
      ]
    },
    {
      "cell_type": "code",
      "execution_count": 115,
      "metadata": {},
      "outputs": [
        {
          "ename": "TypingError",
          "evalue": "Failed in nopython mode pipeline (step: nopython frontend)\n\u001b[1m\u001b[1m\u001b[1mNo implementation of function Function(datetime64[]) found for signature:\n \n >>> <unknown function>(Literal[str](1970-01-01), Literal[str](ms))\n \nThere are 2 candidate implementations:\n\u001b[1m - Of which 2 did not match due to:\n Overload in function 'make_callable_template.<locals>.generic': File: numba\\core\\typing\\templates.py: Line 174.\n   With argument(s): '(unicode_type, unicode_type)':\u001b[0m\n\u001b[1m  Rejected as the implementation raised a specific error:\n    TypingError: \u001b[1mtoo many positional arguments\u001b[0m\u001b[0m\n  raised from e:\\Coding\\venvs\\qfree\\lib\\site-packages\\numba\\core\\typing\\templates.py:412\n\u001b[0m\n\u001b[0m\u001b[1mDuring: resolving callee type: class(datetime64[])\u001b[0m\n\u001b[0m\u001b[1mDuring: typing of call at C:\\Users\\User\\AppData\\Local\\Temp\\ipykernel_19292\\890831128.py (6)\n\u001b[0m\n\u001b[1m\nFile \"C:\\Users\\User\\AppData\\Local\\Temp\\ipykernel_19292\\890831128.py\", line 6:\u001b[0m\n\u001b[1mdef create_date(time_since_epoch):\n\u001b[1m    epoch = np.datetime64('1970-01-01', 'ms')\n\u001b[0m    \u001b[1m^\u001b[0m\u001b[0m\n",
          "output_type": "error",
          "traceback": [
            "\u001b[1;31m---------------------------------------------------------------------------\u001b[0m",
            "\u001b[1;31mTypingError\u001b[0m                               Traceback (most recent call last)",
            "\u001b[1;32me:\\Coding\\backtesters\\QuantFreedom\\nb_quantfreedom\\znb_tests\\quick.ipynb Cell 8\u001b[0m line \u001b[0;36m1\n\u001b[0;32m      <a href='vscode-notebook-cell:/e%3A/Coding/backtesters/QuantFreedom/nb_quantfreedom/znb_tests/quick.ipynb#X13sZmlsZQ%3D%3D?line=6'>7</a>\u001b[0m     td_unit \u001b[39m=\u001b[39m np\u001b[39m.\u001b[39mtimedelta64(\u001b[39m1\u001b[39m, \u001b[39m'\u001b[39m\u001b[39mms\u001b[39m\u001b[39m'\u001b[39m)\n\u001b[0;32m      <a href='vscode-notebook-cell:/e%3A/Coding/backtesters/QuantFreedom/nb_quantfreedom/znb_tests/quick.ipynb#X13sZmlsZQ%3D%3D?line=7'>8</a>\u001b[0m     \u001b[39mreturn\u001b[39;00m epoch \u001b[39m+\u001b[39m time_since_epoch \u001b[39m*\u001b[39m td_unit\n\u001b[1;32m---> <a href='vscode-notebook-cell:/e%3A/Coding/backtesters/QuantFreedom/nb_quantfreedom/znb_tests/quick.ipynb#X13sZmlsZQ%3D%3D?line=9'>10</a>\u001b[0m \u001b[39mprint\u001b[39m(create_date(\u001b[39m1697884200000\u001b[39;49m))\n",
            "File \u001b[1;32me:\\Coding\\venvs\\qfree\\lib\\site-packages\\numba\\core\\dispatcher.py:468\u001b[0m, in \u001b[0;36m_DispatcherBase._compile_for_args\u001b[1;34m(self, *args, **kws)\u001b[0m\n\u001b[0;32m    464\u001b[0m         msg \u001b[39m=\u001b[39m (\u001b[39mf\u001b[39m\u001b[39m\"\u001b[39m\u001b[39m{\u001b[39;00m\u001b[39mstr\u001b[39m(e)\u001b[39m.\u001b[39mrstrip()\u001b[39m}\u001b[39;00m\u001b[39m \u001b[39m\u001b[39m\\n\u001b[39;00m\u001b[39m\\n\u001b[39;00m\u001b[39mThis error may have been caused \u001b[39m\u001b[39m\"\u001b[39m\n\u001b[0;32m    465\u001b[0m                \u001b[39mf\u001b[39m\u001b[39m\"\u001b[39m\u001b[39mby the following argument(s):\u001b[39m\u001b[39m\\n\u001b[39;00m\u001b[39m{\u001b[39;00margs_str\u001b[39m}\u001b[39;00m\u001b[39m\\n\u001b[39;00m\u001b[39m\"\u001b[39m)\n\u001b[0;32m    466\u001b[0m         e\u001b[39m.\u001b[39mpatch_message(msg)\n\u001b[1;32m--> 468\u001b[0m     error_rewrite(e, \u001b[39m'\u001b[39;49m\u001b[39mtyping\u001b[39;49m\u001b[39m'\u001b[39;49m)\n\u001b[0;32m    469\u001b[0m \u001b[39mexcept\u001b[39;00m errors\u001b[39m.\u001b[39mUnsupportedError \u001b[39mas\u001b[39;00m e:\n\u001b[0;32m    470\u001b[0m     \u001b[39m# Something unsupported is present in the user code, add help info\u001b[39;00m\n\u001b[0;32m    471\u001b[0m     error_rewrite(e, \u001b[39m'\u001b[39m\u001b[39munsupported_error\u001b[39m\u001b[39m'\u001b[39m)\n",
            "File \u001b[1;32me:\\Coding\\venvs\\qfree\\lib\\site-packages\\numba\\core\\dispatcher.py:409\u001b[0m, in \u001b[0;36m_DispatcherBase._compile_for_args.<locals>.error_rewrite\u001b[1;34m(e, issue_type)\u001b[0m\n\u001b[0;32m    407\u001b[0m     \u001b[39mraise\u001b[39;00m e\n\u001b[0;32m    408\u001b[0m \u001b[39melse\u001b[39;00m:\n\u001b[1;32m--> 409\u001b[0m     \u001b[39mraise\u001b[39;00m e\u001b[39m.\u001b[39mwith_traceback(\u001b[39mNone\u001b[39;00m)\n",
            "\u001b[1;31mTypingError\u001b[0m: Failed in nopython mode pipeline (step: nopython frontend)\n\u001b[1m\u001b[1m\u001b[1mNo implementation of function Function(datetime64[]) found for signature:\n \n >>> <unknown function>(Literal[str](1970-01-01), Literal[str](ms))\n \nThere are 2 candidate implementations:\n\u001b[1m - Of which 2 did not match due to:\n Overload in function 'make_callable_template.<locals>.generic': File: numba\\core\\typing\\templates.py: Line 174.\n   With argument(s): '(unicode_type, unicode_type)':\u001b[0m\n\u001b[1m  Rejected as the implementation raised a specific error:\n    TypingError: \u001b[1mtoo many positional arguments\u001b[0m\u001b[0m\n  raised from e:\\Coding\\venvs\\qfree\\lib\\site-packages\\numba\\core\\typing\\templates.py:412\n\u001b[0m\n\u001b[0m\u001b[1mDuring: resolving callee type: class(datetime64[])\u001b[0m\n\u001b[0m\u001b[1mDuring: typing of call at C:\\Users\\User\\AppData\\Local\\Temp\\ipykernel_19292\\890831128.py (6)\n\u001b[0m\n\u001b[1m\nFile \"C:\\Users\\User\\AppData\\Local\\Temp\\ipykernel_19292\\890831128.py\", line 6:\u001b[0m\n\u001b[1mdef create_date(time_since_epoch):\n\u001b[1m    epoch = np.datetime64('1970-01-01', 'ms')\n\u001b[0m    \u001b[1m^\u001b[0m\u001b[0m\n"
          ]
        }
      ],
      "source": [
        "import numpy as np\n",
        "import numba as nb\n",
        "\n",
        "@nb.njit()\n",
        "def create_date(time_since_epoch):\n",
        "    epoch = np.datetime64('1970-01-01', 'ms')\n",
        "    td_unit = np.timedelta64(1, 'ms')\n",
        "    return epoch + time_since_epoch * td_unit\n",
        "\n",
        "print(create_date(1697884200000))"
      ]
    },
    {
      "cell_type": "code",
      "execution_count": null,
      "metadata": {},
      "outputs": [],
      "source": [
        "numba.types"
      ]
    }
  ],
  "metadata": {
    "kernelspec": {
      "display_name": "qfFree",
      "language": "python",
      "name": "python3"
    },
    "language_info": {
      "codemirror_mode": {
        "name": "ipython",
        "version": 3
      },
      "file_extension": ".py",
      "mimetype": "text/x-python",
      "name": "python",
      "nbconvert_exporter": "python",
      "pygments_lexer": "ipython3",
      "version": "3.10.10"
    },
    "orig_nbformat": 4
  },
  "nbformat": 4,
  "nbformat_minor": 2
}
