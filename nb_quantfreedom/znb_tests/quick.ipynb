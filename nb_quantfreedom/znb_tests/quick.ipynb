{
  "cells": [
    {
      "cell_type": "code",
      "execution_count": 1,
      "metadata": {},
      "outputs": [],
      "source": [
        "import os\n",
        "# import sys\n",
        "\n",
        "# sys.dont_write_bytecode = True\n",
        "# os.environ[\"NUMBA_DISABLE_JIT\"] = \"1\"\n",
        "os.environ[\"NUMBA_DEBUG_CACHE\"] = \"1\""
      ]
    },
    {
      "cell_type": "code",
      "execution_count": 2,
      "metadata": {},
      "outputs": [],
      "source": [
        "import numpy as np\n",
        "import pandas as pd\n",
        "from my_stuff import MufexKeys\n",
        "from nb_quantfreedom.exchanges.mufex_exchange.mufex import Mufex\n",
        "from nb_quantfreedom.nb_enums import DynamicOrderSettingsArrays\n",
        "from nb_quantfreedom.utils import pretty_qf\n",
        "from requests import get\n",
        "from talib import RSI\n",
        "from numba import njit, types, typed\n",
        "from numba.experimental import jitclass\n",
        "import logging\n",
        "from nb_quantfreedom.nb_base import final_bt_df_only\n",
        "from nb_quantfreedom.nb_enums import *\n",
        "\n",
        "mufex_main = Mufex(\n",
        "    api_key=MufexKeys.api_key,\n",
        "    secret_key=MufexKeys.secret_key,\n",
        "    use_test_net=False,\n",
        ")\n",
        "\n",
        "%load_ext autoreload\n",
        "%autoreload 2\n"
      ]
    },
    {
      "cell_type": "code",
      "execution_count": 3,
      "metadata": {},
      "outputs": [
        {
          "name": "stdout",
          "output_type": "stream",
          "text": [
            "It took 00 mins and 00 seconds to download 300 candles\n"
          ]
        }
      ],
      "source": [
        "candles_np = mufex_main.get_candles_df(symbol=\"BTCUSDT\", timeframe=\"1m\", candles_to_dl=300, limit=200)"
      ]
    },
    {
      "cell_type": "code",
      "execution_count": 4,
      "metadata": {},
      "outputs": [],
      "source": [
        "static_os = StaticOrderSettings(\n",
        "    increase_position_type=IncreasePositionType.RiskPctAccountEntrySize,\n",
        "    leverage_strategy_type=LeverageStrategyType.Dynamic,\n",
        "    long_or_short=LongOrShortType.Long,\n",
        "    logger_bool=True,\n",
        "    pg_min_max_sl_bcb=PriceGetterType.Min,\n",
        "    sl_to_be_bool=False,\n",
        "    z_or_e_type=ZeroOrEntryType.Nothing,\n",
        "    sl_strategy_type=StopLossStrategyType.SLBasedOnCandleBody,\n",
        "    tp_strategy_type=TakeProfitStrategyType.RiskReward,\n",
        "    tp_fee_type=TakeProfitFeeType.Limit,\n",
        "    trail_sl_bool=True,\n",
        ")"
      ]
    },
    {
      "cell_type": "code",
      "execution_count": 5,
      "metadata": {},
      "outputs": [
        {
          "name": "stdout",
          "output_type": "stream",
          "text": [
            "[cache] index saved to 'E:\\\\Coding\\\\backtesters\\\\QuantFreedom\\\\nb_quantfreedom\\\\__pycache__\\\\nb_custom_logger.print_log_debug-196.py310.nbi'\n",
            "[cache] data saved to 'E:\\\\Coding\\\\backtesters\\\\QuantFreedom\\\\nb_quantfreedom\\\\__pycache__\\\\nb_custom_logger.print_log_debug-196.py310.1.nbc'\n",
            "[cache] index saved to 'E:\\\\Coding\\\\backtesters\\\\QuantFreedom\\\\nb_quantfreedom\\\\__pycache__\\\\nb_custom_logger.print_log_info-201.py310.nbi'\n",
            "[cache] data saved to 'E:\\\\Coding\\\\backtesters\\\\QuantFreedom\\\\nb_quantfreedom\\\\__pycache__\\\\nb_custom_logger.print_log_info-201.py310.1.nbc'\n",
            "[cache] index saved to 'E:\\\\Coding\\\\backtesters\\\\QuantFreedom\\\\nb_quantfreedom\\\\__pycache__\\\\nb_custom_logger.print_log_warning-206.py310.nbi'\n",
            "[cache] data saved to 'E:\\\\Coding\\\\backtesters\\\\QuantFreedom\\\\nb_quantfreedom\\\\__pycache__\\\\nb_custom_logger.print_log_warning-206.py310.1.nbc'\n",
            "[cache] index saved to 'E:\\\\Coding\\\\backtesters\\\\QuantFreedom\\\\nb_quantfreedom\\\\__pycache__\\\\nb_custom_logger.print_log_error-211.py310.nbi'\n",
            "[cache] data saved to 'E:\\\\Coding\\\\backtesters\\\\QuantFreedom\\\\nb_quantfreedom\\\\__pycache__\\\\nb_custom_logger.print_log_error-211.py310.1.nbc'\n",
            "[cache] index saved to 'E:\\\\Coding\\\\backtesters\\\\QuantFreedom\\\\nb_quantfreedom\\\\__pycache__\\\\nb_helper_funcs.get_n_digits-131.py310.nbi'\n",
            "[cache] data saved to 'E:\\\\Coding\\\\backtesters\\\\QuantFreedom\\\\nb_quantfreedom\\\\__pycache__\\\\nb_helper_funcs.get_n_digits-131.py310.1.nbc'\n",
            "[cache] index saved to 'E:\\\\Coding\\\\backtesters\\\\QuantFreedom\\\\nb_quantfreedom\\\\__pycache__\\\\nb_helper_funcs.float_to_str-148.py310.nbi'\n",
            "[cache] data saved to 'E:\\\\Coding\\\\backtesters\\\\QuantFreedom\\\\nb_quantfreedom\\\\__pycache__\\\\nb_helper_funcs.float_to_str-148.py310.1.nbc'\n",
            "[cache] index saved to 'E:\\\\Coding\\\\backtesters\\\\QuantFreedom\\\\nb_quantfreedom\\\\__pycache__\\\\nb_custom_logger.print_float_to_str-216.py310.nbi'\n",
            "[cache] data saved to 'E:\\\\Coding\\\\backtesters\\\\QuantFreedom\\\\nb_quantfreedom\\\\__pycache__\\\\nb_custom_logger.print_float_to_str-216.py310.1.nbc'\n",
            "[cache] index saved to 'E:\\\\Coding\\\\backtesters\\\\QuantFreedom\\\\nb_quantfreedom\\\\__pycache__\\\\nb_custom_logger.print_log_datetime-221.py310.nbi'\n",
            "[cache] data saved to 'E:\\\\Coding\\\\backtesters\\\\QuantFreedom\\\\nb_quantfreedom\\\\__pycache__\\\\nb_custom_logger.print_log_datetime-221.py310.1.nbc'\n",
            "[cache] index saved to 'E:\\\\Coding\\\\backtesters\\\\QuantFreedom\\\\nb_quantfreedom\\\\__pycache__\\\\nb_custom_logger.print_candle_body_str-226.py310.nbi'\n",
            "[cache] data saved to 'E:\\\\Coding\\\\backtesters\\\\QuantFreedom\\\\nb_quantfreedom\\\\__pycache__\\\\nb_custom_logger.print_candle_body_str-226.py310.1.nbc'\n",
            "[cache] index saved to 'E:\\\\Coding\\\\backtesters\\\\QuantFreedom\\\\nb_quantfreedom\\\\__pycache__\\\\nb_custom_logger.print_z_or_e_str-246.py310.nbi'\n",
            "[cache] data saved to 'E:\\\\Coding\\\\backtesters\\\\QuantFreedom\\\\nb_quantfreedom\\\\__pycache__\\\\nb_custom_logger.print_z_or_e_str-246.py310.1.nbc'\n",
            "[cache] index saved to 'E:\\\\Coding\\\\backtesters\\\\QuantFreedom\\\\nb_quantfreedom\\\\__pycache__\\\\nb_custom_logger.print_or_to_str-258.py310.nbi'\n",
            "[cache] data saved to 'E:\\\\Coding\\\\backtesters\\\\QuantFreedom\\\\nb_quantfreedom\\\\__pycache__\\\\nb_custom_logger.print_or_to_str-258.py310.1.nbc'\n"
          ]
        }
      ],
      "source": [
        "(\n",
        "    checker_sl_hit,\n",
        "    checker_sl_to_be,\n",
        "    checker_tsl,\n",
        "    dec_pos_calculator,\n",
        "    log_func_list,\n",
        "    str_func_list,\n",
        "    sl_bcb_price_getter,\n",
        "    sl_calculator,\n",
        "    sl_mover,\n",
        "    zero_or_entry_calc,\n",
        ") = final_bt_df_only(\n",
        "    logger_type=LoggerType.Print,\n",
        "    static_os=static_os,\n",
        ")"
      ]
    },
    {
      "cell_type": "code",
      "execution_count": 6,
      "metadata": {},
      "outputs": [
        {
          "name": "stdout",
          "output_type": "stream",
          "text": [
            "[cache] index saved to 'E:\\\\Coding\\\\backtesters\\\\QuantFreedom\\\\nb_quantfreedom\\\\nb_order_handler\\\\__pycache__\\\\nb_decrease_position.decrease_position-6.py310.nbi'\n",
            "[cache] data saved to 'E:\\\\Coding\\\\backtesters\\\\QuantFreedom\\\\nb_quantfreedom\\\\nb_order_handler\\\\__pycache__\\\\nb_decrease_position.decrease_position-6.py310.1.nbc'\n",
            "nb_decrease_position.py - nb_Long_DP - decrease_position() -\n",
            "realized_pnl= 4.007\n",
            "equity= 1004.008\n",
            "fees_paid= 0.564\n"
          ]
        }
      ],
      "source": [
        "(\n",
        "    account_state,\n",
        "    fees_paid,\n",
        "    order_result,\n",
        "    realized_pnl,\n",
        ") = dec_pos_calculator(\n",
        "    average_entry=23456.0,\n",
        "    equity=1000.0,\n",
        "    exit_fee_pct=0.0003,\n",
        "    exit_price=23684.6,\n",
        "    logger=log_func_list,\n",
        "    stringer=str_func_list,\n",
        "    market_fee_pct=0.0009,\n",
        "    position_size_asset=0.02,\n",
        ")"
      ]
    },
    {
      "cell_type": "code",
      "execution_count": 7,
      "metadata": {},
      "outputs": [],
      "source": [
        "@njit(cache=True)\n",
        "def test_dec(dec_pos, log_list, str_list):\n",
        "    (\n",
        "        account_state,\n",
        "        fees_paid,\n",
        "        order_result,\n",
        "        realized_pnl,\n",
        "    ) = dec_pos(\n",
        "        average_entry=23456.0,\n",
        "        equity=1000.0,\n",
        "        exit_fee_pct=0.0003,\n",
        "        exit_price=23684.6,\n",
        "        logger=log_list,\n",
        "        stringer=str_list,\n",
        "        market_fee_pct=0.0009,\n",
        "        position_size_asset=0.02,\n",
        "    )\n",
        "    x = 10 + fees_paid\n",
        "    return x"
      ]
    },
    {
      "cell_type": "code",
      "execution_count": 8,
      "metadata": {},
      "outputs": [
        {
          "name": "stdout",
          "output_type": "stream",
          "text": [
            "[cache] index saved to 'C:\\\\Users\\\\User\\\\.ipython\\\\numba_cache\\\\1644173683.test_dec-595cb1c2e2.py310.nbi'\n",
            "[cache] data saved to 'C:\\\\Users\\\\User\\\\.ipython\\\\numba_cache\\\\1644173683.test_dec-595cb1c2e2.py310.1.nbc'\n",
            "nb_decrease_position.py - nb_Long_DP - decrease_position() -\n",
            "realized_pnl= 4.007\n",
            "equity= 1004.008\n",
            "fees_paid= 0.564\n"
          ]
        },
        {
          "data": {
            "text/plain": [
              "10.5643156"
            ]
          },
          "execution_count": 8,
          "metadata": {},
          "output_type": "execute_result"
        }
      ],
      "source": [
        "test_dec(dec_pos_calculator, log_func_list, str_func_list)"
      ]
    },
    {
      "cell_type": "code",
      "execution_count": 9,
      "metadata": {},
      "outputs": [
        {
          "ename": "TypingError",
          "evalue": "Failed in nopython mode pipeline (step: nopython frontend)\n\u001b[1m\u001b[1mUnknown attribute 'clone' of type instance.jitclass.Bag#19ace9f5de0<value:int64>\n\u001b[1m\nFile \"C:\\Users\\User\\AppData\\Local\\Temp\\ipykernel_20320\\3974615832.py\", line 30:\u001b[0m\n\u001b[1mdef foo(z):\n    <source elided>\n    t = z[0]\n\u001b[1m    t.clone()\n\u001b[0m    \u001b[1m^\u001b[0m\u001b[0m\n\u001b[0m\n\u001b[0m\u001b[1mDuring: typing of get attribute at C:\\Users\\User\\AppData\\Local\\Temp\\ipykernel_20320\\3974615832.py (30)\u001b[0m\n\u001b[1m\nFile \"C:\\Users\\User\\AppData\\Local\\Temp\\ipykernel_20320\\3974615832.py\", line 30:\u001b[0m\n\u001b[1mdef foo(z):\n    <source elided>\n    t = z[0]\n\u001b[1m    t.clone()\n\u001b[0m    \u001b[1m^\u001b[0m\u001b[0m\n",
          "output_type": "error",
          "traceback": [
            "\u001b[1;31m---------------------------------------------------------------------------\u001b[0m",
            "\u001b[1;31mTypingError\u001b[0m                               Traceback (most recent call last)",
            "\u001b[1;32me:\\Coding\\backtesters\\QuantFreedom\\nb_quantfreedom\\znb_tests\\quick.ipynb Cell 9\u001b[0m line \u001b[0;36m3\n\u001b[0;32m     <a href='vscode-notebook-cell:/e%3A/Coding/backtesters/QuantFreedom/nb_quantfreedom/znb_tests/quick.ipynb#X22sZmlsZQ%3D%3D?line=28'>29</a>\u001b[0m     t \u001b[39m=\u001b[39m z[\u001b[39m0\u001b[39m]\n\u001b[0;32m     <a href='vscode-notebook-cell:/e%3A/Coding/backtesters/QuantFreedom/nb_quantfreedom/znb_tests/quick.ipynb#X22sZmlsZQ%3D%3D?line=29'>30</a>\u001b[0m     t\u001b[39m.\u001b[39mclone()\n\u001b[1;32m---> <a href='vscode-notebook-cell:/e%3A/Coding/backtesters/QuantFreedom/nb_quantfreedom/znb_tests/quick.ipynb#X22sZmlsZQ%3D%3D?line=31'>32</a>\u001b[0m foo(x)\n",
            "File \u001b[1;32me:\\Coding\\venvs\\qfree\\lib\\site-packages\\numba\\core\\dispatcher.py:468\u001b[0m, in \u001b[0;36m_DispatcherBase._compile_for_args\u001b[1;34m(self, *args, **kws)\u001b[0m\n\u001b[0;32m    464\u001b[0m         msg \u001b[39m=\u001b[39m (\u001b[39mf\u001b[39m\u001b[39m\"\u001b[39m\u001b[39m{\u001b[39;00m\u001b[39mstr\u001b[39m(e)\u001b[39m.\u001b[39mrstrip()\u001b[39m}\u001b[39;00m\u001b[39m \u001b[39m\u001b[39m\\n\u001b[39;00m\u001b[39m\\n\u001b[39;00m\u001b[39mThis error may have been caused \u001b[39m\u001b[39m\"\u001b[39m\n\u001b[0;32m    465\u001b[0m                \u001b[39mf\u001b[39m\u001b[39m\"\u001b[39m\u001b[39mby the following argument(s):\u001b[39m\u001b[39m\\n\u001b[39;00m\u001b[39m{\u001b[39;00margs_str\u001b[39m}\u001b[39;00m\u001b[39m\\n\u001b[39;00m\u001b[39m\"\u001b[39m)\n\u001b[0;32m    466\u001b[0m         e\u001b[39m.\u001b[39mpatch_message(msg)\n\u001b[1;32m--> 468\u001b[0m     error_rewrite(e, \u001b[39m'\u001b[39;49m\u001b[39mtyping\u001b[39;49m\u001b[39m'\u001b[39;49m)\n\u001b[0;32m    469\u001b[0m \u001b[39mexcept\u001b[39;00m errors\u001b[39m.\u001b[39mUnsupportedError \u001b[39mas\u001b[39;00m e:\n\u001b[0;32m    470\u001b[0m     \u001b[39m# Something unsupported is present in the user code, add help info\u001b[39;00m\n\u001b[0;32m    471\u001b[0m     error_rewrite(e, \u001b[39m'\u001b[39m\u001b[39munsupported_error\u001b[39m\u001b[39m'\u001b[39m)\n",
            "File \u001b[1;32me:\\Coding\\venvs\\qfree\\lib\\site-packages\\numba\\core\\dispatcher.py:409\u001b[0m, in \u001b[0;36m_DispatcherBase._compile_for_args.<locals>.error_rewrite\u001b[1;34m(e, issue_type)\u001b[0m\n\u001b[0;32m    407\u001b[0m     \u001b[39mraise\u001b[39;00m e\n\u001b[0;32m    408\u001b[0m \u001b[39melse\u001b[39;00m:\n\u001b[1;32m--> 409\u001b[0m     \u001b[39mraise\u001b[39;00m e\u001b[39m.\u001b[39mwith_traceback(\u001b[39mNone\u001b[39;00m)\n",
            "\u001b[1;31mTypingError\u001b[0m: Failed in nopython mode pipeline (step: nopython frontend)\n\u001b[1m\u001b[1mUnknown attribute 'clone' of type instance.jitclass.Bag#19ace9f5de0<value:int64>\n\u001b[1m\nFile \"C:\\Users\\User\\AppData\\Local\\Temp\\ipykernel_20320\\3974615832.py\", line 30:\u001b[0m\n\u001b[1mdef foo(z):\n    <source elided>\n    t = z[0]\n\u001b[1m    t.clone()\n\u001b[0m    \u001b[1m^\u001b[0m\u001b[0m\n\u001b[0m\n\u001b[0m\u001b[1mDuring: typing of get attribute at C:\\Users\\User\\AppData\\Local\\Temp\\ipykernel_20320\\3974615832.py (30)\u001b[0m\n\u001b[1m\nFile \"C:\\Users\\User\\AppData\\Local\\Temp\\ipykernel_20320\\3974615832.py\", line 30:\u001b[0m\n\u001b[1mdef foo(z):\n    <source elided>\n    t = z[0]\n\u001b[1m    t.clone()\n\u001b[0m    \u001b[1m^\u001b[0m\u001b[0m\n"
          ]
        }
      ],
      "source": [
        "from numba import typed, typeof, njit, int64, types\n",
        "from numba.experimental import jitclass\n",
        "from numba.extending import overload_method, overload\n",
        "\n",
        "spec = [\n",
        "    ('value', int64),\n",
        "]\n",
        "\n",
        "\n",
        "@jitclass(spec)\n",
        "class Bag(object):\n",
        "    def __init__(self, value):\n",
        "        self.value = value\n",
        "\n",
        "mybag = Bag(21)\n",
        "\n",
        "x = typed.List.empty_list(Bag.class_type.instance_type)\n",
        "x.append(mybag)\n",
        "\n",
        "# @overload_method(types.misc.ClassInstanceType, 'clone')\n",
        "# def ol_bag_clone(inst,):\n",
        "#     if inst is Bag.class_type.instance_type:\n",
        "#         def impl(inst,):\n",
        "#             return Bag(inst.value)\n",
        "#         return impl\n",
        "\n",
        "@njit\n",
        "def foo(z):\n",
        "    t = z[0]\n",
        "    t.clone()\n",
        "\n",
        "foo(x)"
      ]
    }
  ],
  "metadata": {
    "kernelspec": {
      "display_name": "qfFree",
      "language": "python",
      "name": "python3"
    },
    "language_info": {
      "codemirror_mode": {
        "name": "ipython",
        "version": 3
      },
      "file_extension": ".py",
      "mimetype": "text/x-python",
      "name": "python",
      "nbconvert_exporter": "python",
      "pygments_lexer": "ipython3",
      "version": "3.10.10"
    },
    "orig_nbformat": 4
  },
  "nbformat": 4,
  "nbformat_minor": 2
}
