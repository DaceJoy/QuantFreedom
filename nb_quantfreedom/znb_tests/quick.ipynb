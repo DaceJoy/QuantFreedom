{
  "cells": [
    {
      "cell_type": "code",
      "execution_count": 1,
      "metadata": {},
      "outputs": [],
      "source": [
        "# import os\n",
        "# import sys\n",
        "\n",
        "# sys.dont_write_bytecode = True\n",
        "# os.environ[\"NUMBA_DISABLE_JIT\"] = \"1\"\n"
      ]
    },
    {
      "cell_type": "code",
      "execution_count": 2,
      "metadata": {},
      "outputs": [],
      "source": [
        "import numpy as np\n",
        "import pandas as pd\n",
        "from my_stuff import MufexKeys\n",
        "from nb_quantfreedom.exchanges.mufex_exchange.mufex import Mufex\n",
        "from nb_quantfreedom.nb_enums import DynamicOrderSettingsArrays\n",
        "from nb_quantfreedom.utils import pretty_qf\n",
        "from requests import get\n",
        "from talib import RSI\n",
        "from numba import njit\n",
        "import logging\n",
        "from nb_quantfreedom.nb_enums import CandleBodyType\n",
        "\n",
        "np.set_printoptions(formatter={\"float_kind\": \"{:.2f}\".format})\n",
        "\n",
        "pd.options.display.float_format = \"{:.2f}\".format\n",
        "\n",
        "mufex_main = Mufex(\n",
        "    api_key=MufexKeys.api_key,\n",
        "    secret_key=MufexKeys.secret_key,\n",
        "    use_test_net=False,\n",
        ")\n",
        "\n",
        "%load_ext autoreload\n",
        "%autoreload 2\n"
      ]
    },
    {
      "cell_type": "code",
      "execution_count": 3,
      "metadata": {},
      "outputs": [
        {
          "name": "stdout",
          "output_type": "stream",
          "text": [
            "It took 00 mins and 00 seconds to download 200 candles\n"
          ]
        }
      ],
      "source": [
        "candles = mufex_main.get_candles_df(\n",
        "    symbol=\"BTCUSDT\",\n",
        "    timeframe=\"15m\",\n",
        "    candles_to_dl=200,\n",
        ")"
      ]
    },
    {
      "cell_type": "code",
      "execution_count": 4,
      "metadata": {},
      "outputs": [
        {
          "data": {
            "text/plain": [
              "numpy.timedelta64(12,'M')"
            ]
          },
          "execution_count": 4,
          "metadata": {},
          "output_type": "execute_result"
        }
      ],
      "source": [
        "a = np.timedelta64(1, 'Y')\n",
        "np.timedelta64(a, 'M')"
      ]
    },
    {
      "cell_type": "code",
      "execution_count": 6,
      "metadata": {},
      "outputs": [
        {
          "data": {
            "text/plain": [
              "numpy.datetime64('2005-02-25')"
            ]
          },
          "execution_count": 6,
          "metadata": {},
          "output_type": "execute_result"
        }
      ],
      "source": [
        "np.datetime64('2005-02-25')"
      ]
    },
    {
      "cell_type": "code",
      "execution_count": 12,
      "metadata": {},
      "outputs": [
        {
          "data": {
            "text/plain": [
              "'2023-10-20T23:15:00.000'"
            ]
          },
          "execution_count": 12,
          "metadata": {},
          "output_type": "execute_result"
        }
      ],
      "source": [
        "str(candles[3,CandleBodyType.Timestamp].astype('datetime64[ms]'))"
      ]
    }
  ],
  "metadata": {
    "kernelspec": {
      "display_name": "qfFree",
      "language": "python",
      "name": "python3"
    },
    "language_info": {
      "codemirror_mode": {
        "name": "ipython",
        "version": 3
      },
      "file_extension": ".py",
      "mimetype": "text/x-python",
      "name": "python",
      "nbconvert_exporter": "python",
      "pygments_lexer": "ipython3",
      "version": "3.10.10"
    },
    "orig_nbformat": 4
  },
  "nbformat": 4,
  "nbformat_minor": 2
}
