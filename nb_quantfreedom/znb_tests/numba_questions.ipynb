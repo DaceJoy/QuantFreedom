{
  "cells": [
    {
      "cell_type": "code",
      "execution_count": 1,
      "metadata": {},
      "outputs": [],
      "source": [
        "import os\n",
        "import sys\n",
        "\n",
        "sys.dont_write_bytecode = True\n",
        "os.environ[\"NUMBA_DISABLE_JIT\"] = \"1\"\n",
        "\n",
        "from my_stuff import MufexKeys\n",
        "from quantfreedom.exchanges.mufex_exchange.mufex import Mufex\n",
        "from time import sleep\n",
        "from numba.experimental import jitclass\n",
        "from numba import njit\n",
        "import numpy as np\n",
        "import talib\n",
        "import pandas as pd\n",
        "from numba import njit\n",
        "import numba\n",
        "\n",
        "\n",
        "mufex_main = Mufex(\n",
        "    api_key=MufexKeys.api_key,\n",
        "    secret_key=MufexKeys.secret_key,\n",
        "    use_test_net=False,\n",
        ")\n",
        "symbol=\"BTCUSDT\"\n",
        "\n",
        "%load_ext autoreload\n",
        "%autoreload 2\n"
      ]
    },
    {
      "cell_type": "code",
      "execution_count": null,
      "metadata": {},
      "outputs": [],
      "source": [
        "candles_np = mufex_main.get_candles_df(\n",
        "    symbol=symbol,\n",
        "    timeframe='1m',\n",
        "    candles_to_dl=300,\n",
        "    limit=200\n",
        ")"
      ]
    },
    {
      "cell_type": "code",
      "execution_count": null,
      "metadata": {},
      "outputs": [],
      "source": [
        "@njit(cache=True,parallel=True)\n",
        "def printerthing(candles_np: np.array):\n",
        "    for i in range(100000000):\n",
        "        for a in range(10000000000):\n",
        "            for x in range(1000000000):\n",
        "                candles_np['open'] * candles_np['close'] * candles_np['high']\n",
        "printerthing(candles_np)"
      ]
    },
    {
      "cell_type": "code",
      "execution_count": null,
      "metadata": {},
      "outputs": [],
      "source": [
        "@njit(cache=True, parallel=False)\n",
        "def printerthing(candles_np: np.array):\n",
        "    for i in range(100000000):\n",
        "        for a in range(10000000000):\n",
        "            for x in range(1000000000):\n",
        "                candles_np[\"open\"] * candles_np[\"close\"] * candles_np[\"high\"]\n",
        "\n",
        "\n",
        "printerthing(candles_np)"
      ]
    },
    {
      "cell_type": "code",
      "execution_count": null,
      "metadata": {},
      "outputs": [],
      "source": [
        "def printerthing(candles_np: np.array):\n",
        "    for i in range(100):\n",
        "        for a in range(1000):\n",
        "            for x in range(300):\n",
        "                candles_np['open'][x] * candles_np['close'][x] * candles_np['high'][x]\n",
        "printerthing(candles_np)"
      ]
    },
    {
      "cell_type": "code",
      "execution_count": null,
      "metadata": {},
      "outputs": [],
      "source": [
        "candles_df = pd.DataFrame(candles_np)"
      ]
    },
    {
      "cell_type": "code",
      "execution_count": null,
      "metadata": {},
      "outputs": [],
      "source": [
        "def printerthing(candles_df: pd.DataFrame):\n",
        "    for i in range(100):\n",
        "        for a in range(1000):\n",
        "            for x in range(300):\n",
        "                candles_df['open'][x] * candles_df['close'][x] * candles_df['high'][x]\n",
        "printerthing(candles_df)"
      ]
    },
    {
      "cell_type": "code",
      "execution_count": null,
      "metadata": {},
      "outputs": [],
      "source": [
        "data = pd.Series(range(1_000_000))\n",
        "roll = data.rolling(10)"
      ]
    },
    {
      "cell_type": "code",
      "execution_count": null,
      "metadata": {},
      "outputs": [],
      "source": [
        "def f(x):\n",
        "    return np.sum(x) + 5"
      ]
    },
    {
      "cell_type": "code",
      "execution_count": null,
      "metadata": {},
      "outputs": [],
      "source": [
        "%timeit -r 1 -n 1 roll.apply(f, engine='numba', raw=True)"
      ]
    },
    {
      "cell_type": "code",
      "execution_count": null,
      "metadata": {},
      "outputs": [],
      "source": [
        "%timeit roll.apply(f, engine='numba', raw=True)"
      ]
    },
    {
      "cell_type": "code",
      "execution_count": null,
      "metadata": {},
      "outputs": [],
      "source": [
        "%timeit roll.apply(f, engine='cython', raw=True)"
      ]
    },
    {
      "cell_type": "code",
      "execution_count": null,
      "metadata": {},
      "outputs": [],
      "source": [
        "numba.config.NUMBA_NUM_THREADS"
      ]
    },
    {
      "cell_type": "code",
      "execution_count": null,
      "metadata": {},
      "outputs": [],
      "source": [
        "numba.set_num_threads(5)\n",
        "print(numba.config.NUMBA_NUM_THREADS)\n",
        "df = pd.DataFrame(np.random.randn(10_000, 100))\n",
        "roll = df.rolling(100)"
      ]
    },
    {
      "cell_type": "code",
      "execution_count": null,
      "metadata": {},
      "outputs": [],
      "source": [
        "%timeit roll.mean(engine=\"numba\", engine_kwargs={\"parallel\": True})"
      ]
    },
    {
      "cell_type": "code",
      "execution_count": null,
      "metadata": {},
      "outputs": [],
      "source": []
    },
    {
      "cell_type": "code",
      "execution_count": null,
      "metadata": {},
      "outputs": [],
      "source": [
        "candles_np_raw = np.array(candles.values.tolist(), dtype=np.float_)"
      ]
    },
    {
      "cell_type": "code",
      "execution_count": null,
      "metadata": {},
      "outputs": [],
      "source": [
        "candles_np_raw"
      ]
    },
    {
      "cell_type": "code",
      "execution_count": null,
      "metadata": {},
      "outputs": [],
      "source": [
        "hello = np.empty(len(candles.values.tolist()), dtype=np.dtype(\n",
        "    [\n",
        "        (\"timestamp\", np.int64),\n",
        "        (\"open\", np.float_),\n",
        "        (\"high\", np.float_),\n",
        "        (\"low\", np.float_),\n",
        "        (\"close\", np.float_),\n",
        "    ],\n",
        "    align=True,\n",
        "))"
      ]
    },
    {
      "cell_type": "code",
      "execution_count": null,
      "metadata": {},
      "outputs": [],
      "source": [
        "hello['timestamp'] = candles_np_raw[:,0]\n",
        "hello['open'] = candles.open\n",
        "hello['high'] = candles.high\n",
        "hello['low'] = candles.low\n",
        "hello['close'] = candles.close"
      ]
    },
    {
      "cell_type": "code",
      "execution_count": 2,
      "metadata": {},
      "outputs": [
        {
          "ename": "NotImplementedError",
          "evalue": "<intrinsic _malloc_string> is not usable in pure-python",
          "output_type": "error",
          "traceback": [
            "\u001b[1;31m---------------------------------------------------------------------------\u001b[0m",
            "\u001b[1;31mNotImplementedError\u001b[0m                       Traceback (most recent call last)",
            "\u001b[1;32me:\\Coding\\backtesters\\QuantFreedom\\nb_quantfreedom\\nb_tests\\numba_questions.ipynb Cell 21\u001b[0m line \u001b[0;36m1\n\u001b[0;32m     <a href='vscode-notebook-cell:/e%3A/Coding/backtesters/QuantFreedom/nb_quantfreedom/nb_tests/numba_questions.ipynb#X26sZmlsZQ%3D%3D?line=11'>12</a>\u001b[0m \u001b[39m@njit\u001b[39m()\n\u001b[0;32m     <a href='vscode-notebook-cell:/e%3A/Coding/backtesters/QuantFreedom/nb_quantfreedom/nb_tests/numba_questions.ipynb#X26sZmlsZQ%3D%3D?line=12'>13</a>\u001b[0m \u001b[39mdef\u001b[39;00m \u001b[39mprint_msg\u001b[39m(msg: \u001b[39mstr\u001b[39m):\n\u001b[0;32m     <a href='vscode-notebook-cell:/e%3A/Coding/backtesters/QuantFreedom/nb_quantfreedom/nb_tests/numba_questions.ipynb#X26sZmlsZQ%3D%3D?line=13'>14</a>\u001b[0m     \u001b[39mprint\u001b[39m(msg)\n\u001b[1;32m---> <a href='vscode-notebook-cell:/e%3A/Coding/backtesters/QuantFreedom/nb_quantfreedom/nb_tests/numba_questions.ipynb#X26sZmlsZQ%3D%3D?line=16'>17</a>\u001b[0m make_msg()\n",
            "\u001b[1;32me:\\Coding\\backtesters\\QuantFreedom\\nb_quantfreedom\\nb_tests\\numba_questions.ipynb Cell 21\u001b[0m line \u001b[0;36m8\n\u001b[0;32m      <a href='vscode-notebook-cell:/e%3A/Coding/backtesters/QuantFreedom/nb_quantfreedom/nb_tests/numba_questions.ipynb#X26sZmlsZQ%3D%3D?line=5'>6</a>\u001b[0m var_1 \u001b[39m=\u001b[39m \u001b[39m5343.32\u001b[39m\n\u001b[0;32m      <a href='vscode-notebook-cell:/e%3A/Coding/backtesters/QuantFreedom/nb_quantfreedom/nb_tests/numba_questions.ipynb#X26sZmlsZQ%3D%3D?line=6'>7</a>\u001b[0m var_2 \u001b[39m=\u001b[39m \u001b[39m1112\u001b[39m\n\u001b[1;32m----> <a href='vscode-notebook-cell:/e%3A/Coding/backtesters/QuantFreedom/nb_quantfreedom/nb_tests/numba_questions.ipynb#X26sZmlsZQ%3D%3D?line=7'>8</a>\u001b[0m msg \u001b[39m=\u001b[39m \u001b[39m\"\u001b[39m\u001b[39mhey this is a float \u001b[39m\u001b[39m\"\u001b[39m \u001b[39m+\u001b[39m nb_float_to_str(var_1) \u001b[39m+\u001b[39m \u001b[39m\"\u001b[39m\u001b[39m and this is an int \u001b[39m\u001b[39m\"\u001b[39m \u001b[39m+\u001b[39m \u001b[39mstr\u001b[39m(var_2)\n\u001b[0;32m      <a href='vscode-notebook-cell:/e%3A/Coding/backtesters/QuantFreedom/nb_quantfreedom/nb_tests/numba_questions.ipynb#X26sZmlsZQ%3D%3D?line=8'>9</a>\u001b[0m \u001b[39mreturn\u001b[39;00m msg\n",
            "File \u001b[1;32mE:\\Coding\\backtesters\\QuantFreedom\\nb_quantfreedom\\nb_helper_funcs.py:268\u001b[0m, in \u001b[0;36mnb_float_to_str\u001b[1;34m(x)\u001b[0m\n\u001b[0;32m    266\u001b[0m l \u001b[39m=\u001b[39m l1 \u001b[39m+\u001b[39m l2 \u001b[39m+\u001b[39m use_dec\n\u001b[0;32m    267\u001b[0m length \u001b[39m=\u001b[39m l \u001b[39m+\u001b[39m isneg \u001b[39m+\u001b[39m exp_chars\n\u001b[1;32m--> 268\u001b[0m s \u001b[39m=\u001b[39m _empty_string(PY_UNICODE_1BYTE_KIND, length)\n\u001b[0;32m    269\u001b[0m \u001b[39mif\u001b[39;00m isneg:\n\u001b[0;32m    270\u001b[0m     _set_code_point(s, \u001b[39m0\u001b[39m, DASH)\n",
            "File \u001b[1;32me:\\Coding\\venvs\\qfree\\lib\\site-packages\\numba\\cpython\\unicode.py:279\u001b[0m, in \u001b[0;36m_empty_string\u001b[1;34m(kind, length, is_ascii)\u001b[0m\n\u001b[0;32m    276\u001b[0m \u001b[39m@register_jitable\u001b[39m\n\u001b[0;32m    277\u001b[0m \u001b[39mdef\u001b[39;00m \u001b[39m_empty_string\u001b[39m(kind, length, is_ascii\u001b[39m=\u001b[39m\u001b[39m0\u001b[39m):\n\u001b[0;32m    278\u001b[0m     char_width \u001b[39m=\u001b[39m _kind_to_byte_width(kind)\n\u001b[1;32m--> 279\u001b[0m     s \u001b[39m=\u001b[39m _malloc_string(kind, char_width, length, is_ascii)\n\u001b[0;32m    280\u001b[0m     _set_code_point(s, length, np\u001b[39m.\u001b[39muint32(\u001b[39m0\u001b[39m))    \u001b[39m# Write NULL character\u001b[39;00m\n\u001b[0;32m    281\u001b[0m     \u001b[39mreturn\u001b[39;00m s\n",
            "File \u001b[1;32me:\\Coding\\venvs\\qfree\\lib\\site-packages\\numba\\core\\extending.py:368\u001b[0m, in \u001b[0;36m_Intrinsic.__call__\u001b[1;34m(self, *args, **kwargs)\u001b[0m\n\u001b[0;32m    364\u001b[0m \u001b[39m\u001b[39m\u001b[39m\"\"\"\u001b[39;00m\n\u001b[0;32m    365\u001b[0m \u001b[39mThis is only defined to pretend to be a callable from CPython.\u001b[39;00m\n\u001b[0;32m    366\u001b[0m \u001b[39m\"\"\"\u001b[39;00m\n\u001b[0;32m    367\u001b[0m msg \u001b[39m=\u001b[39m \u001b[39m'\u001b[39m\u001b[39m{0}\u001b[39;00m\u001b[39m is not usable in pure-python\u001b[39m\u001b[39m'\u001b[39m\u001b[39m.\u001b[39mformat(\u001b[39mself\u001b[39m)\n\u001b[1;32m--> 368\u001b[0m \u001b[39mraise\u001b[39;00m \u001b[39mNotImplementedError\u001b[39;00m(msg)\n",
            "\u001b[1;31mNotImplementedError\u001b[0m: <intrinsic _malloc_string> is not usable in pure-python"
          ]
        }
      ],
      "source": [
        "from nb_quantfreedom.nb_helper_funcs import nb_float_to_str\n",
        "\n",
        "\n",
        "@njit()\n",
        "def make_msg():\n",
        "    var_1 = 5343.32\n",
        "    var_2 = 1112\n",
        "    msg = \"hey this is a float \" + nb_float_to_str(var_1) + \" and this is an int \" + str(var_2)\n",
        "    return msg\n",
        "\n",
        "\n",
        "@njit()\n",
        "def print_msg(msg: str):\n",
        "    print(msg)\n",
        "\n",
        "\n",
        "make_msg()"
      ]
    }
  ],
  "metadata": {
    "kernelspec": {
      "display_name": "qfFree",
      "language": "python",
      "name": "python3"
    },
    "language_info": {
      "codemirror_mode": {
        "name": "ipython",
        "version": 3
      },
      "file_extension": ".py",
      "mimetype": "text/x-python",
      "name": "python",
      "nbconvert_exporter": "python",
      "pygments_lexer": "ipython3",
      "version": "3.10.10"
    },
    "orig_nbformat": 4
  },
  "nbformat": 4,
  "nbformat_minor": 2
}
