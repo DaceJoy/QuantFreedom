{
  "cells": [
    {
      "cell_type": "code",
      "execution_count": 1,
      "metadata": {},
      "outputs": [],
      "source": [
        "# import os\n",
        "# import sys\n",
        "\n",
        "# sys.dont_write_bytecode = True\n",
        "# os.environ[\"NUMBA_DISABLE_JIT\"] = \"1\""
      ]
    },
    {
      "cell_type": "code",
      "execution_count": 2,
      "metadata": {},
      "outputs": [],
      "source": [
        "import numba\n",
        "from my_stuff import MufexKeys\n",
        "from numba.experimental import jitclass\n",
        "from nb_quantfreedom.exchanges.mufex_exchange.mufex import Mufex\n",
        "from nb_quantfreedom.utils import clear_cache\n",
        "\n",
        "\n",
        "# from nb_quantfreedom.nb_base import backtest_df_only\n",
        "# from nb_quantfreedom.nb_enums import *\n",
        "# from nb_quantfreedom.nb_helper_funcs import nb_dos_cart_product\n",
        "# from nb_quantfreedom.strategies.nb_strategy import nb_BacktestInd, nb_Strategy\n",
        "# from nb_quantfreedom.nb_custom_logger import nb_PrintLogs\n",
        "# from nb_quantfreedom.nb_order_handler.nb_class_helpers import nb_GetMinPrice\n",
        "\n",
        "\n",
        "# clear_cache()\n",
        "\n",
        "mufex_main = Mufex(\n",
        "    api_key=MufexKeys.api_key,\n",
        "    secret_key=MufexKeys.secret_key,\n",
        "    use_test_net=False,\n",
        ")\n",
        "\n",
        "%load_ext autoreload\n",
        "%autoreload 2\n"
      ]
    },
    {
      "cell_type": "code",
      "execution_count": 3,
      "metadata": {},
      "outputs": [
        {
          "data": {
            "text/plain": [
              "103.8"
            ]
          },
          "execution_count": 3,
          "metadata": {},
          "output_type": "execute_result"
        }
      ],
      "source": [
        "global_vars_list = [\n",
        "    (\"price_tick_step\", numba.types.int_),\n",
        "    (\"market_fee_pct\", numba.types.float_),\n",
        "]\n",
        "\n",
        "\n",
        "class TestSLClass:\n",
        "    def __init__(\n",
        "        self,\n",
        "        price_tick_step,\n",
        "        market_fee_pct,\n",
        "    ):\n",
        "        self.price_tick_step = price_tick_step\n",
        "        self.market_fee_pct = market_fee_pct\n",
        "\n",
        "    def calc_sl_callback(self, callback):\n",
        "        pass\n",
        "\n",
        "    def calc_sl(self, price, lookback, thinger):\n",
        "        pass\n",
        "\n",
        "\n",
        "@jitclass(global_vars_list)\n",
        "class SLCalc(TestSLClass):\n",
        "    def calc_sl_callback(self, callback):\n",
        "        return callback(self)\n",
        "\n",
        "    def calc_sl(self, price, lookback, thinger):\n",
        "        return self.price_tick_step * self.market_fee_pct * price - thinger / lookback\n",
        "\n",
        "\n",
        "@jitclass(global_vars_list)\n",
        "class newSLCals(TestSLClass):\n",
        "    def calc_sl_callback(self, callback):\n",
        "        return callback(self)\n",
        "\n",
        "    def calc_sl(self, price, lookback, thinger):\n",
        "        return self.price_tick_step * self.market_fee_pct * price / lookback / thinger\n",
        "\n",
        "\n",
        "@numba.njit(cache=True)\n",
        "def nb_simulate(sl_calculator: TestSLClass):\n",
        "    return sl_calculator.calc_sl(price=10, lookback=5, thinger=6)\n",
        "\n",
        "\n",
        "@numba.njit(cache=True)\n",
        "def nb_base(sl_calculator: TestSLClass):\n",
        "    return sl_calculator.calc_sl_callback(nb_simulate)\n",
        "\n",
        "sl_calculator = SLCalc(1, 10.5)\n",
        "nb_base(sl_calculator=sl_calculator)"
      ]
    }
  ],
  "metadata": {
    "kernelspec": {
      "display_name": "qfFree",
      "language": "python",
      "name": "python3"
    },
    "language_info": {
      "codemirror_mode": {
        "name": "ipython",
        "version": 3
      },
      "file_extension": ".py",
      "mimetype": "text/x-python",
      "name": "python",
      "nbconvert_exporter": "python",
      "pygments_lexer": "ipython3",
      "version": "3.10.10"
    },
    "orig_nbformat": 4
  },
  "nbformat": 4,
  "nbformat_minor": 2
}
