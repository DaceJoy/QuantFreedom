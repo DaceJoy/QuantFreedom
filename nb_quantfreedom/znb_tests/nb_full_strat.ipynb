{
  "cells": [
    {
      "cell_type": "code",
      "execution_count": 1,
      "metadata": {},
      "outputs": [],
      "source": [
        "import os\n",
        "import sys\n",
        "\n",
        "sys.dont_write_bytecode = True\n",
        "# os.environ[\"NUMBA_DISABLE_JIT\"] = \"1\"\n",
        "os.environ[\"NUMBA_DEBUG_CACHE\"] = \"1\""
      ]
    },
    {
      "cell_type": "code",
      "execution_count": 2,
      "metadata": {},
      "outputs": [],
      "source": [
        "from my_stuff import MufexKeys\n",
        "from nb_quantfreedom.exchanges.mufex_exchange.mufex import Mufex\n",
        "from nb_quantfreedom.nb_enums import *\n",
        "from nb_quantfreedom.nb_helper_funcs import nb_dos_cart_product\n",
        "from nb_quantfreedom.strategies.nb_strategy import nb_BacktestInd, nb_Strategy\n",
        "from numba import njit\n",
        "from nb_quantfreedom.nb_the_run import run_the_whole_thing\n",
        "\n",
        "\n",
        "mufex_main = Mufex(\n",
        "    api_key=MufexKeys.api_key,\n",
        "    secret_key=MufexKeys.secret_key,\n",
        "    use_test_net=False,\n",
        ")\n",
        "\n",
        "%load_ext autoreload\n",
        "%autoreload 2\n"
      ]
    },
    {
      "cell_type": "code",
      "execution_count": 3,
      "metadata": {},
      "outputs": [
        {
          "name": "stdout",
          "output_type": "stream",
          "text": [
            "It took 00 mins and 01 seconds to download 200 candles\n"
          ]
        }
      ],
      "source": [
        "candles = mufex_main.get_candles_df(\n",
        "    symbol=\"BTCUSDT\",\n",
        "    timeframe=\"15m\",\n",
        "    candles_to_dl=200,\n",
        ")"
      ]
    },
    {
      "cell_type": "code",
      "execution_count": 4,
      "metadata": {},
      "outputs": [],
      "source": [
        "mufex_main.set_exchange_settings(\n",
        "    symbol=\"BTCUSDT\",\n",
        "    position_mode=PositionModeType.HedgeMode,\n",
        "    leverage_mode=LeverageModeType.Isolated,\n",
        ")\n",
        "backtest_settings = BacktestSettings()\n",
        "dos_arrays = DynamicOrderSettingsArrays(\n",
        "    entry_size_asset=np.array([0]),\n",
        "    max_equity_risk_pct=np.array([3]),\n",
        "    max_trades=np.array([5]),\n",
        "    num_candles=np.array([60]),\n",
        "    risk_account_pct_size=np.array([3]),\n",
        "    risk_reward=np.array([3]),\n",
        "    sl_based_on_add_pct=np.array([0.01]),\n",
        "    sl_based_on_lookback=np.array([10]),\n",
        "    sl_bcb_type=np.array([CandleBodyType.Low]),\n",
        "    sl_to_be_cb_type=np.array([CandleBodyType.Nothing]),\n",
        "    sl_to_be_when_pct=np.array([0]),\n",
        "    sl_to_be_ze_type=np.array([0]),\n",
        "    static_leverage=np.array([0]),\n",
        "    trail_sl_bcb_type=np.array([CandleBodyType.Low]),\n",
        "    trail_sl_by_pct=np.array([1.20]),\n",
        "    trail_sl_when_pct=np.array([0.001]),\n",
        ")\n",
        "static_os = StaticOrderSettings(\n",
        "    increase_position_type=IncreasePositionType.RiskPctAccountEntrySize,\n",
        "    leverage_strategy_type=LeverageStrategyType.Dynamic,\n",
        "    long_or_short=LongOrShortType.Long,\n",
        "    logger_bool=True,\n",
        "    pg_min_max_sl_bcb=PriceGetterType.Min,\n",
        "    sl_to_be_bool=False,\n",
        "    z_or_e_type=ZeroOrEntryType.Nothing,\n",
        "    sl_strategy_type=StopLossStrategyType.SLBasedOnCandleBody,\n",
        "    tp_strategy_type=TakeProfitStrategyType.RiskReward,\n",
        "    tp_fee_type=TakeProfitFeeType.Limit,\n",
        "    trail_sl_bool=True,\n",
        ")\n",
        "dos_cart_arrays = nb_dos_cart_product(\n",
        "    dos_arrays=dos_arrays,\n",
        ")\n"
      ]
    },
    {
      "cell_type": "code",
      "execution_count": 5,
      "metadata": {},
      "outputs": [
        {
          "ename": "TypingError",
          "evalue": "Failed in nopython mode pipeline (step: nopython frontend)\n\u001b[1m\u001b[1mCannot unify instance.jitclass.PrintLogs#1ecbbd277f0<> and instance.jitclass.PassLogs#1ecbbd27bb0<> for 'logger.2', defined at E:\\Coding\\backtesters\\QuantFreedom\\nb_quantfreedom\\nb_the_run.py (189)\n\u001b[1m\nFile \"..\\nb_the_run.py\", line 189:\u001b[0m\n\u001b[1mdef run_the_whole_thing(\n    <source elided>\n        exit_fee_pct = exchange_settings.limit_fee_pct\n\u001b[1m    \"\"\"\n\u001b[0m    \u001b[1m^\u001b[0m\u001b[0m\n\u001b[0m\n\u001b[0m\u001b[1mDuring: typing of assignment at E:\\Coding\\backtesters\\QuantFreedom\\nb_quantfreedom\\nb_the_run.py (189)\u001b[0m\n\u001b[1m\nFile \"..\\nb_the_run.py\", line 189:\u001b[0m\n\u001b[1mdef run_the_whole_thing(\n    <source elided>\n        exit_fee_pct = exchange_settings.limit_fee_pct\n\u001b[1m    \"\"\"\n\u001b[0m    \u001b[1m^\u001b[0m\u001b[0m\n",
          "output_type": "error",
          "traceback": [
            "\u001b[1;31m---------------------------------------------------------------------------\u001b[0m",
            "\u001b[1;31mTypingError\u001b[0m                               Traceback (most recent call last)",
            "\u001b[1;32me:\\Coding\\backtesters\\QuantFreedom\\nb_quantfreedom\\znb_tests\\nb_full_strat.ipynb Cell 5\u001b[0m line \u001b[0;36m1\n\u001b[1;32m----> <a href='vscode-notebook-cell:/e%3A/Coding/backtesters/QuantFreedom/nb_quantfreedom/znb_tests/nb_full_strat.ipynb#X14sZmlsZQ%3D%3D?line=0'>1</a>\u001b[0m run_the_whole_thing(\n\u001b[0;32m      <a href='vscode-notebook-cell:/e%3A/Coding/backtesters/QuantFreedom/nb_quantfreedom/znb_tests/nb_full_strat.ipynb#X14sZmlsZQ%3D%3D?line=1'>2</a>\u001b[0m     backtest_settings\u001b[39m=\u001b[39;49mbacktest_settings,\n\u001b[0;32m      <a href='vscode-notebook-cell:/e%3A/Coding/backtesters/QuantFreedom/nb_quantfreedom/znb_tests/nb_full_strat.ipynb#X14sZmlsZQ%3D%3D?line=2'>3</a>\u001b[0m     candles\u001b[39m=\u001b[39;49mcandles,\n\u001b[0;32m      <a href='vscode-notebook-cell:/e%3A/Coding/backtesters/QuantFreedom/nb_quantfreedom/znb_tests/nb_full_strat.ipynb#X14sZmlsZQ%3D%3D?line=3'>4</a>\u001b[0m     dos_cart_arrays\u001b[39m=\u001b[39;49mdos_cart_arrays,\n\u001b[0;32m      <a href='vscode-notebook-cell:/e%3A/Coding/backtesters/QuantFreedom/nb_quantfreedom/znb_tests/nb_full_strat.ipynb#X14sZmlsZQ%3D%3D?line=4'>5</a>\u001b[0m     logger_type\u001b[39m=\u001b[39;49mLoggerType\u001b[39m.\u001b[39;49mPrint,\n\u001b[0;32m      <a href='vscode-notebook-cell:/e%3A/Coding/backtesters/QuantFreedom/nb_quantfreedom/znb_tests/nb_full_strat.ipynb#X14sZmlsZQ%3D%3D?line=5'>6</a>\u001b[0m     exchange_settings\u001b[39m=\u001b[39;49mmufex_main\u001b[39m.\u001b[39;49mexchange_settings,\n\u001b[0;32m      <a href='vscode-notebook-cell:/e%3A/Coding/backtesters/QuantFreedom/nb_quantfreedom/znb_tests/nb_full_strat.ipynb#X14sZmlsZQ%3D%3D?line=6'>7</a>\u001b[0m     starting_equity\u001b[39m=\u001b[39;49m\u001b[39m1000.0\u001b[39;49m,\n\u001b[0;32m      <a href='vscode-notebook-cell:/e%3A/Coding/backtesters/QuantFreedom/nb_quantfreedom/znb_tests/nb_full_strat.ipynb#X14sZmlsZQ%3D%3D?line=7'>8</a>\u001b[0m     static_os\u001b[39m=\u001b[39;49mstatic_os,\n\u001b[0;32m      <a href='vscode-notebook-cell:/e%3A/Coding/backtesters/QuantFreedom/nb_quantfreedom/znb_tests/nb_full_strat.ipynb#X14sZmlsZQ%3D%3D?line=8'>9</a>\u001b[0m     strategy\u001b[39m=\u001b[39;49mnb_Strategy(),\n\u001b[0;32m     <a href='vscode-notebook-cell:/e%3A/Coding/backtesters/QuantFreedom/nb_quantfreedom/znb_tests/nb_full_strat.ipynb#X14sZmlsZQ%3D%3D?line=9'>10</a>\u001b[0m     ind_creator\u001b[39m=\u001b[39;49mnb_BacktestInd(),\n\u001b[0;32m     <a href='vscode-notebook-cell:/e%3A/Coding/backtesters/QuantFreedom/nb_quantfreedom/znb_tests/nb_full_strat.ipynb#X14sZmlsZQ%3D%3D?line=10'>11</a>\u001b[0m )\n",
            "File \u001b[1;32me:\\Coding\\venvs\\qfree\\lib\\site-packages\\numba\\core\\dispatcher.py:468\u001b[0m, in \u001b[0;36m_DispatcherBase._compile_for_args\u001b[1;34m(self, *args, **kws)\u001b[0m\n\u001b[0;32m    464\u001b[0m         msg \u001b[39m=\u001b[39m (\u001b[39mf\u001b[39m\u001b[39m\"\u001b[39m\u001b[39m{\u001b[39;00m\u001b[39mstr\u001b[39m(e)\u001b[39m.\u001b[39mrstrip()\u001b[39m}\u001b[39;00m\u001b[39m \u001b[39m\u001b[39m\\n\u001b[39;00m\u001b[39m\\n\u001b[39;00m\u001b[39mThis error may have been caused \u001b[39m\u001b[39m\"\u001b[39m\n\u001b[0;32m    465\u001b[0m                \u001b[39mf\u001b[39m\u001b[39m\"\u001b[39m\u001b[39mby the following argument(s):\u001b[39m\u001b[39m\\n\u001b[39;00m\u001b[39m{\u001b[39;00margs_str\u001b[39m}\u001b[39;00m\u001b[39m\\n\u001b[39;00m\u001b[39m\"\u001b[39m)\n\u001b[0;32m    466\u001b[0m         e\u001b[39m.\u001b[39mpatch_message(msg)\n\u001b[1;32m--> 468\u001b[0m     error_rewrite(e, \u001b[39m'\u001b[39;49m\u001b[39mtyping\u001b[39;49m\u001b[39m'\u001b[39;49m)\n\u001b[0;32m    469\u001b[0m \u001b[39mexcept\u001b[39;00m errors\u001b[39m.\u001b[39mUnsupportedError \u001b[39mas\u001b[39;00m e:\n\u001b[0;32m    470\u001b[0m     \u001b[39m# Something unsupported is present in the user code, add help info\u001b[39;00m\n\u001b[0;32m    471\u001b[0m     error_rewrite(e, \u001b[39m'\u001b[39m\u001b[39munsupported_error\u001b[39m\u001b[39m'\u001b[39m)\n",
            "File \u001b[1;32me:\\Coding\\venvs\\qfree\\lib\\site-packages\\numba\\core\\dispatcher.py:409\u001b[0m, in \u001b[0;36m_DispatcherBase._compile_for_args.<locals>.error_rewrite\u001b[1;34m(e, issue_type)\u001b[0m\n\u001b[0;32m    407\u001b[0m     \u001b[39mraise\u001b[39;00m e\n\u001b[0;32m    408\u001b[0m \u001b[39melse\u001b[39;00m:\n\u001b[1;32m--> 409\u001b[0m     \u001b[39mraise\u001b[39;00m e\u001b[39m.\u001b[39mwith_traceback(\u001b[39mNone\u001b[39;00m)\n",
            "\u001b[1;31mTypingError\u001b[0m: Failed in nopython mode pipeline (step: nopython frontend)\n\u001b[1m\u001b[1mCannot unify instance.jitclass.PrintLogs#1ecbbd277f0<> and instance.jitclass.PassLogs#1ecbbd27bb0<> for 'logger.2', defined at E:\\Coding\\backtesters\\QuantFreedom\\nb_quantfreedom\\nb_the_run.py (189)\n\u001b[1m\nFile \"..\\nb_the_run.py\", line 189:\u001b[0m\n\u001b[1mdef run_the_whole_thing(\n    <source elided>\n        exit_fee_pct = exchange_settings.limit_fee_pct\n\u001b[1m    \"\"\"\n\u001b[0m    \u001b[1m^\u001b[0m\u001b[0m\n\u001b[0m\n\u001b[0m\u001b[1mDuring: typing of assignment at E:\\Coding\\backtesters\\QuantFreedom\\nb_quantfreedom\\nb_the_run.py (189)\u001b[0m\n\u001b[1m\nFile \"..\\nb_the_run.py\", line 189:\u001b[0m\n\u001b[1mdef run_the_whole_thing(\n    <source elided>\n        exit_fee_pct = exchange_settings.limit_fee_pct\n\u001b[1m    \"\"\"\n\u001b[0m    \u001b[1m^\u001b[0m\u001b[0m\n"
          ]
        }
      ],
      "source": [
        "run_the_whole_thing(\n",
        "    backtest_settings=backtest_settings,\n",
        "    candles=candles,\n",
        "    dos_cart_arrays=dos_cart_arrays,\n",
        "    logger_type=LoggerType.Print,\n",
        "    exchange_settings=mufex_main.exchange_settings,\n",
        "    starting_equity=1000.0,\n",
        "    static_os=static_os,\n",
        "    strategy=nb_Strategy(),\n",
        "    ind_creator=nb_BacktestInd(),\n",
        ")"
      ]
    },
    {
      "cell_type": "code",
      "execution_count": null,
      "metadata": {},
      "outputs": [],
      "source": [
        "strategy = nb_Strategy()"
      ]
    },
    {
      "cell_type": "code",
      "execution_count": null,
      "metadata": {},
      "outputs": [],
      "source": [
        "strategy.nb_get_current_ind_settings"
      ]
    }
  ],
  "metadata": {
    "kernelspec": {
      "display_name": "qfFree",
      "language": "python",
      "name": "python3"
    },
    "language_info": {
      "codemirror_mode": {
        "name": "ipython",
        "version": 3
      },
      "file_extension": ".py",
      "mimetype": "text/x-python",
      "name": "python",
      "nbconvert_exporter": "python",
      "pygments_lexer": "ipython3",
      "version": "3.10.10"
    },
    "orig_nbformat": 4
  },
  "nbformat": 4,
  "nbformat_minor": 2
}
