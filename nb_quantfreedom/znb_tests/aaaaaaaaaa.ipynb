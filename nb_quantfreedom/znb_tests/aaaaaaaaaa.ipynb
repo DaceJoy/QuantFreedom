{
  "cells": [
    {
      "cell_type": "code",
      "execution_count": 1,
      "metadata": {},
      "outputs": [],
      "source": [
        "import os\n",
        "import sys\n",
        "\n",
        "sys.dont_write_bytecode = True\n",
        "# os.environ[\"NUMBA_DISABLE_JIT\"] = \"1\"\n",
        "os.environ[\"NUMBA_DEBUG_CACHE\"] = \"1\"\n",
        "\n",
        "# https://github.com/numba/numba/issues/4830 caching problem mixed with \n",
        "# https://numba.discourse.group/t/typed-list-of-jitted-functions-in-jitclass/413/4\n",
        "# maybe its possible to just call the func as func[1]\n"
      ]
    },
    {
      "cell_type": "code",
      "execution_count": 2,
      "metadata": {},
      "outputs": [],
      "source": [
        "import numpy as np\n",
        "import pandas as pd\n",
        "from my_stuff import MufexKeys\n",
        "from nb_quantfreedom.exchanges.mufex_exchange.mufex import Mufex\n",
        "from nb_quantfreedom.nb_enums import DynamicOrderSettingsArrays\n",
        "from nb_quantfreedom.utils import pretty_qf\n",
        "from requests import get\n",
        "from talib import RSI\n",
        "from numba import njit, types, typed\n",
        "from numba.experimental import jitclass\n",
        "import numpy as np\n",
        "from numba.types import int32, float32, ListType\n",
        "from numba import typeof, typed, njit\n",
        "from numba.typed import List\n",
        "from numba.experimental import jitclass\n",
        "import logging\n",
        "from nb_quantfreedom.nb_enums import CandleBodyType\n",
        "\n",
        "np.set_printoptions(formatter={\"float_kind\": \"{:.2f}\".format})\n",
        "\n",
        "pd.options.display.float_format = \"{:.2f}\".format\n",
        "\n",
        "mufex_main = Mufex(\n",
        "    api_key=MufexKeys.api_key,\n",
        "    secret_key=MufexKeys.secret_key,\n",
        "    use_test_net=False,\n",
        ")\n",
        "\n",
        "%load_ext autoreload\n",
        "%autoreload 2\n"
      ]
    },
    {
      "cell_type": "code",
      "execution_count": 5,
      "metadata": {},
      "outputs": [],
      "source": [
        "spec = {\"placeholder\": types.int_}\n",
        "\n",
        "\n",
        "@jitclass(spec)\n",
        "class SLCalc(object):\n",
        "    def __init__(self, placeholder):\n",
        "        self.placeholder = placeholder\n",
        "\n",
        "    def adding_nums(self, num1, num2):\n",
        "        return num1 + num2\n",
        "\n",
        "    def multiply_nums(self, num1, num2):\n",
        "        return num1 * num2\n",
        "\n",
        "\n",
        "@jitclass\n",
        "class SLChooser(object):\n",
        "    helper: SLCalc.adding_nums\n",
        "    helper: SLCalc.adding_nums\n",
        "\n",
        "    def __init__(self, placeholder):\n",
        "        self.helper = SLCalc(placeholder)\n",
        "\n",
        "    def do_math(self, num1, num2):\n",
        "        if math_type == \"multi\":\n",
        "            self.helper.adding_nums(num1, num2)"
      ]
    },
    {
      "cell_type": "code",
      "execution_count": 4,
      "metadata": {},
      "outputs": [
        {
          "name": "stdout",
          "output_type": "stream",
          "text": [
            "[cache] index saved to 'C:\\\\Users\\\\User\\\\.ipython\\\\numba_cache\\\\789384624.tester_func-fc97a74e06.py310.nbi'\n",
            "[cache] data saved to 'C:\\\\Users\\\\User\\\\.ipython\\\\numba_cache\\\\789384624.tester_func-fc97a74e06.py310.1.nbc'\n"
          ]
        },
        {
          "data": {
            "text/plain": [
              "4.0"
            ]
          },
          "execution_count": 4,
          "metadata": {},
          "output_type": "execute_result"
        }
      ],
      "source": [
        "@njit(cache=True)\n",
        "def tester_func(math_type: str):\n",
        "    calculator = SLChooser(1)\n",
        "    return calculator.do_math(math_type, 40, 40)\n",
        "\n",
        "\n",
        "tester_func()"
      ]
    }
  ],
  "metadata": {
    "kernelspec": {
      "display_name": "qfFree",
      "language": "python",
      "name": "python3"
    },
    "language_info": {
      "codemirror_mode": {
        "name": "ipython",
        "version": 3
      },
      "file_extension": ".py",
      "mimetype": "text/x-python",
      "name": "python",
      "nbconvert_exporter": "python",
      "pygments_lexer": "ipython3",
      "version": "3.10.10"
    },
    "orig_nbformat": 4
  },
  "nbformat": 4,
  "nbformat_minor": 2
}
