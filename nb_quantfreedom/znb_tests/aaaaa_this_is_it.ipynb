{
  "cells": [
    {
      "cell_type": "code",
      "execution_count": 4,
      "metadata": {},
      "outputs": [],
      "source": [
        "import os\n",
        "import sys\n",
        "\n",
        "sys.dont_write_bytecode = True\n",
        "# os.environ[\"NUMBA_DISABLE_JIT\"] = \"1\"\n",
        "os.environ[\"NUMBA_DEBUG_CACHE\"] = \"1\"\n",
        "\n",
        "# https://github.com/numba/numba/issues/4830 caching problem mixed with \n",
        "# https://numba.discourse.group/t/typed-list-of-jitted-functions-in-jitclass/413/4\n",
        "# maybe its possible to just call the func as func[1]\n"
      ]
    },
    {
      "cell_type": "code",
      "execution_count": 5,
      "metadata": {},
      "outputs": [
        {
          "name": "stdout",
          "output_type": "stream",
          "text": [
            "The autoreload extension is already loaded. To reload it, use:\n",
            "  %reload_ext autoreload\n"
          ]
        }
      ],
      "source": [
        "import numpy as np\n",
        "import pandas as pd\n",
        "from my_stuff import MufexKeys\n",
        "from nb_quantfreedom.exchanges.mufex_exchange.mufex import Mufex\n",
        "from nb_quantfreedom.nb_enums import DynamicOrderSettingsArrays\n",
        "from nb_quantfreedom.utils import pretty_qf\n",
        "from requests import get\n",
        "from talib import RSI\n",
        "from numba import njit, types, typed\n",
        "from numba.experimental import jitclass\n",
        "import numpy as np\n",
        "from numba.types import int64, float_, ListType, void\n",
        "from numba import typeof, typed, njit\n",
        "from numba.typed import List\n",
        "from numba.experimental import jitclass\n",
        "from numba.core.types import FunctionType\n",
        "\n",
        "# np.set_printoptions(formatter={\"float_kind\": \"{:.2f}\".format})\n",
        "\n",
        "# pd.options.display.float_format = \"{:.2f}\".format\n",
        "\n",
        "mufex_main = Mufex(\n",
        "    api_key=MufexKeys.api_key,\n",
        "    secret_key=MufexKeys.secret_key,\n",
        "    use_test_net=False,\n",
        ")\n",
        "\n",
        "%load_ext autoreload\n",
        "%autoreload 2\n"
      ]
    },
    {
      "cell_type": "code",
      "execution_count": 15,
      "metadata": {},
      "outputs": [
        {
          "name": "stdout",
          "output_type": "stream",
          "text": [
            "[cache] index loaded from 'C:\\\\Users\\\\User\\\\.ipython\\\\numba_cache\\\\758495555.f1-dac5d5d818.py310.nbi'\n",
            "[cache] data loaded from 'C:\\\\Users\\\\User\\\\.ipython\\\\numba_cache\\\\758495555.f1-dac5d5d818.py310.1.nbc'\n",
            "[cache] index loaded from 'C:\\\\Users\\\\User\\\\.ipython\\\\numba_cache\\\\758495555.f2-eb3e754af9.py310.nbi'\n",
            "[cache] data loaded from 'C:\\\\Users\\\\User\\\\.ipython\\\\numba_cache\\\\758495555.f2-eb3e754af9.py310.1.nbc'\n",
            "[cache] index loaded from 'C:\\\\Users\\\\User\\\\.ipython\\\\numba_cache\\\\758495555.callee_str-e507e98b18.py310.nbi'\n",
            "[cache] data loaded from 'C:\\\\Users\\\\User\\\\.ipython\\\\numba_cache\\\\758495555.callee_str-e507e98b18.py310.1.nbc'\n",
            "[cache] index loaded from 'C:\\\\Users\\\\User\\\\.ipython\\\\numba_cache\\\\758495555.callee_pass-325b917fa4.py310.nbi'\n",
            "[cache] data loaded from 'C:\\\\Users\\\\User\\\\.ipython\\\\numba_cache\\\\758495555.callee_pass-325b917fa4.py310.1.nbc'\n"
          ]
        }
      ],
      "source": [
        "call_str_type = types.void(types.unicode_type)\n",
        "callee_func_type = types.FunctionType(call_str_type)\n",
        "sig_str = types.int64(types.int64, types.int64, callee_func_type)\n",
        "\n",
        "\n",
        "# @numba.njit([sig_str], cache=True)\n",
        "@njit(cache=True)\n",
        "def f1(x, y, callee):\n",
        "    callee(\"adding x=\" + str(x) + \" and y=\" + str(y))\n",
        "    return x + y\n",
        "\n",
        "\n",
        "# @numba.njit([sig_str], cache=True)\n",
        "@njit(cache=True)\n",
        "def f2(x, y, callee):\n",
        "    callee(\"multiplying x=\" + str(x) + \" and y=\" + str(y))\n",
        "    return x * y\n",
        "\n",
        "\n",
        "f_list = typed.List.empty_list(sig_str.as_type())\n",
        "f_list.append(f1)\n",
        "f_list.append(f2)\n",
        "\n",
        "\n",
        "@njit(cache=True)\n",
        "def callee_str(m):\n",
        "    print(m)\n",
        "    pass\n",
        "\n",
        "\n",
        "@njit(cache=True)\n",
        "def callee_pass(m):\n",
        "    pass\n",
        "\n",
        "\n",
        "p_list = typed.List.empty_list(call_str_type.as_type())\n",
        "p_list.append(callee_str)\n",
        "p_list.append(callee_pass)\n",
        "\n",
        "\n",
        "@jitclass(\n",
        "    [\n",
        "        (\"funcs\", types.ListType(sig_str.as_type())),\n",
        "        (\"printers\", types.ListType(call_str_type.as_type())),\n",
        "    ]\n",
        ")\n",
        "class Handler:\n",
        "    def __init__(self, funcs, printers):\n",
        "        self.funcs = funcs\n",
        "        self.printers = printers\n",
        "\n",
        "\n",
        "@njit(cache=True)\n",
        "def tester(f_list, p_list):\n",
        "    x = Handler(f_list, p_list)\n",
        "\n",
        "    for ind in range(10):\n",
        "        time: types.int64 = 0\n",
        "        hello: types.int64 = 0\n",
        "        for dos in range(200):\n",
        "            for bar in range(100):\n",
        "                time += x.funcs[0](ind, dos, x.printers[1]) + bar\n",
        "                hello += x.funcs[1](ind, 4, x.printers[1])\n",
        "        result = time - hello\n",
        "    return result\n",
        "\n",
        "\n"
      ]
    },
    {
      "cell_type": "code",
      "execution_count": 16,
      "metadata": {},
      "outputs": [
        {
          "name": "stdout",
          "output_type": "stream",
          "text": [
            "[cache] index loaded from 'C:\\\\Users\\\\User\\\\.ipython\\\\numba_cache\\\\758495555.tester-5ff7167429.py310.nbi'\n",
            "[cache] data loaded from 'C:\\\\Users\\\\User\\\\.ipython\\\\numba_cache\\\\758495555.tester-5ff7167429.py310.1.nbc'\n"
          ]
        },
        {
          "data": {
            "text/plain": [
              "2440000"
            ]
          },
          "execution_count": 16,
          "metadata": {},
          "output_type": "execute_result"
        }
      ],
      "source": [
        "tester(f_list=f_list, p_list=p_list)"
      ]
    }
  ],
  "metadata": {
    "kernelspec": {
      "display_name": "qfFree",
      "language": "python",
      "name": "python3"
    },
    "language_info": {
      "codemirror_mode": {
        "name": "ipython",
        "version": 3
      },
      "file_extension": ".py",
      "mimetype": "text/x-python",
      "name": "python",
      "nbconvert_exporter": "python",
      "pygments_lexer": "ipython3",
      "version": "3.10.10"
    },
    "orig_nbformat": 4
  },
  "nbformat": 4,
  "nbformat_minor": 2
}
