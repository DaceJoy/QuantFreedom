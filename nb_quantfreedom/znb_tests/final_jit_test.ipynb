{
  "cells": [
    {
      "cell_type": "code",
      "execution_count": 1,
      "metadata": {},
      "outputs": [],
      "source": [
        "# import os\n",
        "# import sys\n",
        "\n",
        "# sys.dont_write_bytecode = True\n",
        "# os.environ[\"NUMBA_DISABLE_JIT\"] = \"1\""
      ]
    },
    {
      "cell_type": "code",
      "execution_count": 2,
      "metadata": {},
      "outputs": [],
      "source": [
        "from numba.experimental import jitclass\n",
        "from numba import njit\n",
        "from numba.core import types\n",
        "from numba import float64\n",
        "import pandas as pd\n",
        "import numpy as np"
      ]
    },
    {
      "cell_type": "code",
      "execution_count": 10,
      "metadata": {},
      "outputs": [],
      "source": [
        "spec = {\n",
        "    \"helper_class_self_num\": types.float_,\n",
        "    \"helper_class_self_var\": types.float_,\n",
        "}\n",
        "\n",
        "\n",
        "class EmptyClass:\n",
        "    def __init__(\n",
        "        self,\n",
        "        helper_class_self_num,\n",
        "        helper_class_self_var,\n",
        "    ):\n",
        "        self.helper_class_self_num = helper_class_self_num\n",
        "        self.helper_class_self_var = helper_class_self_var\n",
        "\n",
        "    def calc_num_one(self, helper_num):\n",
        "        pass\n",
        "\n",
        "\n",
        "@jitclass(spec)\n",
        "class SubClassOne(EmptyClass):\n",
        "    def __init__(\n",
        "        self,\n",
        "        helper_class_self_num,\n",
        "        helper_class_self_var,\n",
        "    ):\n",
        "        self.helper_class_self_num = helper_class_self_num\n",
        "        self.helper_class_self_var = helper_class_self_var\n",
        "\n",
        "    def calc_num_one(self, helper_num):\n",
        "        return helper_num / self.helper_class_self_num\n",
        "\n",
        "\n",
        "class SubTwo(EmptyClass):\n",
        "    def __init__(self, helper_class_self_num, helper_class_self_var):\n",
        "        super().__init__(helper_class_self_num, helper_class_self_var)\n",
        "\n",
        "    def calc_num_one(self, helper_num):\n",
        "        return pd.DataFrame([helper_num])"
      ]
    },
    {
      "cell_type": "code",
      "execution_count": 11,
      "metadata": {},
      "outputs": [
        {
          "ename": "TypingError",
          "evalue": "Failed in nopython mode pipeline (step: nopython frontend)\n\u001b[1m\u001b[1m\u001b[1m\u001b[1mFailed in nopython mode pipeline (step: nopython frontend)\n\u001b[1mUntyped global name 'super':\u001b[0m \u001b[1m\u001b[1mCannot determine Numba type of <class 'type'>\u001b[0m\n\u001b[1m\nFile \"C:\\Users\\User\\AppData\\Local\\Temp\\ipykernel_31636\\1528219533.py\", line 23:\u001b[0m\n\u001b[1m    def __init__(self, helper_class_self_num, helper_class_self_var):\n\u001b[1m        super().__init__(helper_class_self_num, helper_class_self_var)\n\u001b[0m        \u001b[1m^\u001b[0m\u001b[0m\n\u001b[0m\n\u001b[0m\u001b[1mDuring: resolving callee type: jitclass.SubClassOne#2dde595fdf0<helper_class_self_num:float32,helper_class_self_var:float32>\u001b[0m\n\u001b[0m\u001b[1mDuring: typing of call at <string> (3)\n\u001b[0m\n\u001b[0m\u001b[1mDuring: resolving callee type: jitclass.SubClassOne#2dde595fdf0<helper_class_self_num:float32,helper_class_self_var:float32>\u001b[0m\n\u001b[0m\u001b[1mDuring: typing of call at <string> (3)\n\u001b[0m\n\u001b[1m\nFile \"<string>\", line 3:\u001b[0m\n\u001b[1m<source missing, REPL/exec in use?>\u001b[0m\n",
          "output_type": "error",
          "traceback": [
            "\u001b[1;31m---------------------------------------------------------------------------\u001b[0m",
            "\u001b[1;31mTypingError\u001b[0m                               Traceback (most recent call last)",
            "\u001b[1;32me:\\Coding\\backtesters\\QuantFreedom\\nb_quantfreedom\\znb_tests\\final_jit_test.ipynb Cell 4\u001b[0m line \u001b[0;36m5\n\u001b[0;32m      <a href='vscode-notebook-cell:/e%3A/Coding/backtesters/QuantFreedom/nb_quantfreedom/znb_tests/final_jit_test.ipynb#X11sZmlsZQ%3D%3D?line=0'>1</a>\u001b[0m \u001b[39m@njit\u001b[39m(cache\u001b[39m=\u001b[39m\u001b[39mTrue\u001b[39;00m)\n\u001b[0;32m      <a href='vscode-notebook-cell:/e%3A/Coding/backtesters/QuantFreedom/nb_quantfreedom/znb_tests/final_jit_test.ipynb#X11sZmlsZQ%3D%3D?line=1'>2</a>\u001b[0m \u001b[39mdef\u001b[39;00m \u001b[39mtester_func\u001b[39m(calculator: EmptyClass):\n\u001b[0;32m      <a href='vscode-notebook-cell:/e%3A/Coding/backtesters/QuantFreedom/nb_quantfreedom/znb_tests/final_jit_test.ipynb#X11sZmlsZQ%3D%3D?line=2'>3</a>\u001b[0m     \u001b[39mreturn\u001b[39;00m calculator\u001b[39m.\u001b[39mcalc_num_one(\u001b[39m40\u001b[39m)\n\u001b[1;32m----> <a href='vscode-notebook-cell:/e%3A/Coding/backtesters/QuantFreedom/nb_quantfreedom/znb_tests/final_jit_test.ipynb#X11sZmlsZQ%3D%3D?line=4'>5</a>\u001b[0m calculator\u001b[39m=\u001b[39mSubClassOne(\u001b[39m10\u001b[39;49m, \u001b[39m20\u001b[39;49m)\n\u001b[0;32m      <a href='vscode-notebook-cell:/e%3A/Coding/backtesters/QuantFreedom/nb_quantfreedom/znb_tests/final_jit_test.ipynb#X11sZmlsZQ%3D%3D?line=5'>6</a>\u001b[0m tester_func(calculator\u001b[39m=\u001b[39mcalculator)\n",
            "File \u001b[1;32me:\\Coding\\venvs\\qfree\\lib\\site-packages\\numba\\experimental\\jitclass\\base.py:124\u001b[0m, in \u001b[0;36mJitClassType.__call__\u001b[1;34m(cls, *args, **kwargs)\u001b[0m\n\u001b[0;32m    122\u001b[0m bind \u001b[39m=\u001b[39m \u001b[39mcls\u001b[39m\u001b[39m.\u001b[39m_ctor_sig\u001b[39m.\u001b[39mbind(\u001b[39mNone\u001b[39;00m, \u001b[39m*\u001b[39margs, \u001b[39m*\u001b[39m\u001b[39m*\u001b[39mkwargs)\n\u001b[0;32m    123\u001b[0m bind\u001b[39m.\u001b[39mapply_defaults()\n\u001b[1;32m--> 124\u001b[0m \u001b[39mreturn\u001b[39;00m \u001b[39mcls\u001b[39m\u001b[39m.\u001b[39m_ctor(\u001b[39m*\u001b[39mbind\u001b[39m.\u001b[39margs[\u001b[39m1\u001b[39m:], \u001b[39m*\u001b[39m\u001b[39m*\u001b[39mbind\u001b[39m.\u001b[39mkwargs)\n",
            "File \u001b[1;32me:\\Coding\\venvs\\qfree\\lib\\site-packages\\numba\\core\\dispatcher.py:468\u001b[0m, in \u001b[0;36m_DispatcherBase._compile_for_args\u001b[1;34m(self, *args, **kws)\u001b[0m\n\u001b[0;32m    464\u001b[0m         msg \u001b[39m=\u001b[39m (\u001b[39mf\u001b[39m\u001b[39m\"\u001b[39m\u001b[39m{\u001b[39;00m\u001b[39mstr\u001b[39m(e)\u001b[39m.\u001b[39mrstrip()\u001b[39m}\u001b[39;00m\u001b[39m \u001b[39m\u001b[39m\\n\u001b[39;00m\u001b[39m\\n\u001b[39;00m\u001b[39mThis error may have been caused \u001b[39m\u001b[39m\"\u001b[39m\n\u001b[0;32m    465\u001b[0m                \u001b[39mf\u001b[39m\u001b[39m\"\u001b[39m\u001b[39mby the following argument(s):\u001b[39m\u001b[39m\\n\u001b[39;00m\u001b[39m{\u001b[39;00margs_str\u001b[39m}\u001b[39;00m\u001b[39m\\n\u001b[39;00m\u001b[39m\"\u001b[39m)\n\u001b[0;32m    466\u001b[0m         e\u001b[39m.\u001b[39mpatch_message(msg)\n\u001b[1;32m--> 468\u001b[0m     error_rewrite(e, \u001b[39m'\u001b[39;49m\u001b[39mtyping\u001b[39;49m\u001b[39m'\u001b[39;49m)\n\u001b[0;32m    469\u001b[0m \u001b[39mexcept\u001b[39;00m errors\u001b[39m.\u001b[39mUnsupportedError \u001b[39mas\u001b[39;00m e:\n\u001b[0;32m    470\u001b[0m     \u001b[39m# Something unsupported is present in the user code, add help info\u001b[39;00m\n\u001b[0;32m    471\u001b[0m     error_rewrite(e, \u001b[39m'\u001b[39m\u001b[39munsupported_error\u001b[39m\u001b[39m'\u001b[39m)\n",
            "File \u001b[1;32me:\\Coding\\venvs\\qfree\\lib\\site-packages\\numba\\core\\dispatcher.py:409\u001b[0m, in \u001b[0;36m_DispatcherBase._compile_for_args.<locals>.error_rewrite\u001b[1;34m(e, issue_type)\u001b[0m\n\u001b[0;32m    407\u001b[0m     \u001b[39mraise\u001b[39;00m e\n\u001b[0;32m    408\u001b[0m \u001b[39melse\u001b[39;00m:\n\u001b[1;32m--> 409\u001b[0m     \u001b[39mraise\u001b[39;00m e\u001b[39m.\u001b[39mwith_traceback(\u001b[39mNone\u001b[39;00m)\n",
            "\u001b[1;31mTypingError\u001b[0m: Failed in nopython mode pipeline (step: nopython frontend)\n\u001b[1m\u001b[1m\u001b[1m\u001b[1mFailed in nopython mode pipeline (step: nopython frontend)\n\u001b[1mUntyped global name 'super':\u001b[0m \u001b[1m\u001b[1mCannot determine Numba type of <class 'type'>\u001b[0m\n\u001b[1m\nFile \"C:\\Users\\User\\AppData\\Local\\Temp\\ipykernel_31636\\1528219533.py\", line 23:\u001b[0m\n\u001b[1m    def __init__(self, helper_class_self_num, helper_class_self_var):\n\u001b[1m        super().__init__(helper_class_self_num, helper_class_self_var)\n\u001b[0m        \u001b[1m^\u001b[0m\u001b[0m\n\u001b[0m\n\u001b[0m\u001b[1mDuring: resolving callee type: jitclass.SubClassOne#2dde595fdf0<helper_class_self_num:float32,helper_class_self_var:float32>\u001b[0m\n\u001b[0m\u001b[1mDuring: typing of call at <string> (3)\n\u001b[0m\n\u001b[0m\u001b[1mDuring: resolving callee type: jitclass.SubClassOne#2dde595fdf0<helper_class_self_num:float32,helper_class_self_var:float32>\u001b[0m\n\u001b[0m\u001b[1mDuring: typing of call at <string> (3)\n\u001b[0m\n\u001b[1m\nFile \"<string>\", line 3:\u001b[0m\n\u001b[1m<source missing, REPL/exec in use?>\u001b[0m\n"
          ]
        }
      ],
      "source": [
        "@njit(cache=True)\n",
        "def tester_func(calculator: EmptyClass):\n",
        "    return calculator.calc_num_one(40)\n",
        "\n",
        "calculator=SubClassOne(10, 20)\n",
        "tester_func(calculator=calculator)"
      ]
    },
    {
      "cell_type": "code",
      "execution_count": 1,
      "metadata": {},
      "outputs": [
        {
          "name": "stdout",
          "output_type": "stream",
          "text": [
            "30.0\n",
            "300.0\n"
          ]
        }
      ],
      "source": [
        "import numpy as np\n",
        "from numba import int64, types, njit\n",
        "from numba.experimental import jitclass\n",
        "\n",
        "\n",
        "spec = {'data': types.float_}\n",
        "\n",
        "\n",
        "@jitclass(spec)\n",
        "class Foo():\n",
        "    def __init__(self, init_data):\n",
        "        self.data = init_data\n",
        "\n",
        "    def calc(self, num):\n",
        "        pass\n",
        "\n",
        "\n",
        "@jitclass()\n",
        "class Bar:\n",
        "    foo_inst: Foo\n",
        "\n",
        "    def __init__(self, foo_data):\n",
        "        # This constructs the Foo instance in the Bar constructor\n",
        "        self.foo_inst = Foo(foo_data)\n",
        "\n",
        "    def calc(self, num):\n",
        "        return num * self.foo_inst.data\n",
        "\n",
        "\n",
        "@jitclass()\n",
        "class Baz:\n",
        "    foo_inst: Foo\n",
        "\n",
        "    def __init__(self, foo_inst):\n",
        "        # This assigns a reference to the Foo instance in the Bar constructor\n",
        "        self.foo_inst = foo_inst\n",
        "\n",
        "\n",
        "@njit(cache=True)\n",
        "def testing_yes():\n",
        "    x = 30.0\n",
        "    # Build a Bar instance\n",
        "    bar = Bar(x)\n",
        "    print(bar.foo_inst.data)\n",
        "    print(bar.calc(10))\n",
        "\n",
        "\n",
        "testing_yes()"
      ]
    }
  ],
  "metadata": {
    "kernelspec": {
      "display_name": "qfFree",
      "language": "python",
      "name": "python3"
    },
    "language_info": {
      "codemirror_mode": {
        "name": "ipython",
        "version": 3
      },
      "file_extension": ".py",
      "mimetype": "text/x-python",
      "name": "python",
      "nbconvert_exporter": "python",
      "pygments_lexer": "ipython3",
      "version": "3.10.10"
    },
    "orig_nbformat": 4
  },
  "nbformat": 4,
  "nbformat_minor": 2
}
