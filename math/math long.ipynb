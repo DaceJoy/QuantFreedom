{
 "cells": [
  {
   "cell_type": "markdown",
   "metadata": {},
   "source": [
    "[bybit profit](https://www.bybithelp.com/HelpCenterKnowledge/bybitHC_Article?language=en_US&id=000001066#c)"
   ]
  },
  {
   "attachments": {},
   "cell_type": "markdown",
   "metadata": {},
   "source": [
    "[math link](https://www.symbolab.com/solver/simplify-calculator/solve%20for%20t%2C%20%5Cleft(%5Cleft(%5Cfrac%7Bs%7D%7Be%7D%5Cright)%20%5Ccdot%5Cleft(t-e%5Cright)%5Cright)%20-%20%5Cleft(%5Cleft(%5Cfrac%7Bs%7D%7Be%7D%5Cright)%5Ccdot%20e%20%5Ccdot%20m%5Cright)%20-%20%5Cleft(%5Cleft(%5Cfrac%7Bs%7D%7Be%7D%5Cright)%5Ccdot%20t%20%5Ccdot%20%20l%5Cright)%20%3D%20p)<br>\n",
    "\n",
    "Solving for Long Take Profit Price<br>\n",
    "usd = USD size<br>\n",
    "entry = entry or average entry<br>\n",
    "mfee = Market Fee<br>\n",
    "lfee = Limit Fee<br>\n",
    "tp = Take profit price<br>\n",
    "pnl = pnl<br>\n",
    "$$\n",
    "pnl = ((\\frac{usd}{entry}) * (entry - tp)) - ((\\frac{usd}{entry}) * entry * mfee) - ((\\frac{usd}{entry}) * tp * lfee)\\\\\n",
    "~\\\\\n",
    "tp = \\frac{(entry * pnl) + (entry * usd) + (entry*mfee*usd)}{usd*(1-lfee)}\n",
    "$$"
   ]
  },
  {
   "cell_type": "code",
   "execution_count": 2,
   "metadata": {},
   "outputs": [
    {
     "data": {
      "text/plain": [
       "30601.115947481092"
      ]
     },
     "execution_count": 2,
     "metadata": {},
     "output_type": "execute_result"
    }
   ],
   "source": [
    "entry = 27805.5\n",
    "position = 100.6931\n",
    "pnl = 10\n",
    "mfee = 0.0009\n",
    "lfee = 0.0003\n",
    "((entry * pnl) + (entry * position) + (entry * mfee * position)) / (position * (1 - lfee))"
   ]
  },
  {
   "cell_type": "code",
   "execution_count": 5,
   "metadata": {},
   "outputs": [
    {
     "data": {
      "text/plain": [
       "27855.594985486936"
      ]
     },
     "execution_count": 5,
     "metadata": {},
     "output_type": "execute_result"
    }
   ],
   "source": [
    "# Solving for moving sl to break even long ... check above to make sure even though i already did\n",
    "(mfee * entry + entry) / (1 - mfee)"
   ]
  },
  {
   "attachments": {},
   "cell_type": "markdown",
   "metadata": {},
   "source": [
    "Solving for Long Leverage <br>\n",
    "When you know you want your liq price to be slightly lower than your sl price<br>\n",
    "AE = Avg Entry<br>\n",
    "MMR = Maintaince Margin Rate<br>\n",
    "LP = Liq Price ---> slp - (slp * p)<br>\n",
    "SLP = Stop Loss Price<br>\n",
    "P = Padding<br>\n",
    "L = Long Leverage\n",
    "\n",
    "$$\n",
    "LP = AE * (1 - (\\frac{1}{L}) + MMR)\\\\\n",
    "|\\\\\n",
    "SLP - (SLP * P) = AE * (1 - (\\frac{1}{L}) + MMR)\\\\\n",
    "|\\\\\n",
    "L = \\frac{-AE}{SLP - (SLP * P) - AE - (AE * MMR)}\n",
    "$$\n"
   ]
  },
  {
   "cell_type": "code",
   "execution_count": 8,
   "metadata": {},
   "outputs": [
    {
     "data": {
      "text/plain": [
       "(78.85512415861587, 24923.052)"
      ]
     },
     "execution_count": 8,
     "metadata": {},
     "output_type": "execute_result"
    }
   ],
   "source": [
    "ae = 25115.98\n",
    "mmr = 0.005\n",
    "slp = 24948\n",
    "p = 0.001\n",
    "longlev = -ae / ((slp - (slp * p)) - ae - mmr * ae)\n",
    "lp = ae * (1 - 1 / longlev + mmr)\n",
    "longlev, lp"
   ]
  },
  {
   "cell_type": "code",
   "execution_count": 6,
   "metadata": {},
   "outputs": [
    {
     "data": {
      "text/plain": [
       "78.85512415861587"
      ]
     },
     "execution_count": 6,
     "metadata": {},
     "output_type": "execute_result"
    }
   ],
   "source": [
    "ae = 25115.98\n",
    "mmr = 0.005\n",
    "slp = 24948\n",
    "p = 0.001\n",
    "lp = slp - (slp * p)\n",
    "-ae / (lp - ae - ae * mmr)"
   ]
  },
  {
   "attachments": {},
   "cell_type": "markdown",
   "metadata": {},
   "source": [
    "Finding USD price based on possible loss not in position<br>\n",
    "S = USD size<br>\n",
    "E = entry or average entry<br>\n",
    "F = Fee<br>\n",
    "X = Stops price<br>\n",
    "P = pnl<br>\n",
    "$$\n",
    "P = ((\\frac{S}{E}) * (X - E)) - ((\\frac{S}{E}) * E * F) - ((\\frac{S}{E}) * X * F)\n",
    "\\\\~\\\\\n",
    "P = \\frac{S*X}{E} - \\frac{S*E}{E} - \\frac{S*E*F}{E} - \\frac{S*X*F}{E}\n",
    "\\\\~\\\\\n",
    "P = (\\frac{X}{E} - 1 - F - \\frac{X*F}{E}) * S\n",
    "\\\\~\\\\\n",
    "S = \\frac{-P}{(\\frac{X}{E} - 1 - F - \\frac{X*F}{E})}\n",
    "$$"
   ]
  },
  {
   "attachments": {},
   "cell_type": "markdown",
   "metadata": {},
   "source": [
    "Solving for what the size value of the second or more trade if you are using stop loss at the low"
   ]
  },
  {
   "cell_type": "markdown",
   "metadata": {},
   "source": [
    "[math](https://www.symbolab.com/solver/simplify-calculator/solve%20for%20p%2C%20%5Cleft(%5Cleft(%5Cleft(%5Cfrac%7Bp%7D%7Ba%7D%2B%5Cfrac%7Bu%7D%7Be%7D%5Cright)%5Ccdot%5Cleft(n%20-%20%5Cleft(%5Cfrac%7B%5Cleft(p%2Bu%5Cright)%7D%7B%5Cleft(%5Cfrac%7Bp%7D%7Ba%7D%2B%5Cfrac%7Bu%7D%7Be%7D%5Cright)%7D%5Cright)%5Cright)%5Cright)-%20%5Cleft(%5Cleft(%5Cfrac%7Bp%7D%7Ba%7D%2B%5Cfrac%7Bu%7D%7Be%7D%5Cright)%5Ccdot%5Cleft(%5Cfrac%7B%5Cleft(p%2Bu%5Cright)%7D%7B%5Cleft(%5Cfrac%7Bp%7D%7Ba%7D%2B%5Cfrac%7Bu%7D%7Be%7D%5Cright)%7D%5Cright)%5Ccdot%20m%5Cright)%20-%20%5Cleft(%5Cleft(%5Cfrac%7Bp%7D%7Ba%7D%2B%5Cfrac%7Bu%7D%7Be%7D%5Cright)%5Ccdot%20n%5Ccdot%20m%5Cright)%20%5Cright)%3Df?or=input)"
   ]
  },
  {
   "cell_type": "code",
   "execution_count": 9,
   "metadata": {},
   "outputs": [
    {
     "data": {
      "text/plain": [
       "0.2"
      ]
     },
     "execution_count": 9,
     "metadata": {},
     "output_type": "execute_result"
    }
   ],
   "source": [
    "round(\n",
    "    -(\n",
    "        (\n",
    "            entry_price * average_entry * possible_loss\n",
    "            - entry_price * sl_price * position_size_usd\n",
    "            + entry_price * sl_price * market_fee_pct * position_size_usd\n",
    "            + entry_price * average_entry * position_size_usd\n",
    "            + entry_price * market_fee_pct * average_entry * position_size_usd\n",
    "        )\n",
    "        / (average_entry * (-sl_price + entry_price + sl_price * market_fee_pct + entry_price * market_fee_pct))\n",
    "    ),\n",
    "    3,\n",
    ")"
   ]
  }
 ],
 "metadata": {
  "kernelspec": {
   "display_name": "qfVBT",
   "language": "python",
   "name": "python3"
  },
  "language_info": {
   "codemirror_mode": {
    "name": "ipython",
    "version": 3
   },
   "file_extension": ".py",
   "mimetype": "text/x-python",
   "name": "python",
   "nbconvert_exporter": "python",
   "pygments_lexer": "ipython3",
   "version": "3.10.10"
  },
  "orig_nbformat": 4,
  "vscode": {
   "interpreter": {
    "hash": "d03a5f5914d41db73604e557196e04fa21b062a314cb051b64faf513d9f7a3ca"
   }
  }
 },
 "nbformat": 4,
 "nbformat_minor": 2
}
