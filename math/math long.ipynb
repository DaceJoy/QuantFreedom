{
 "cells": [
  {
   "cell_type": "markdown",
   "metadata": {},
   "source": [
    "[bybit profit](https://www.bybithelp.com/HelpCenterKnowledge/bybitHC_Article?language=en_US&id=000001066#c)"
   ]
  },
  {
   "attachments": {},
   "cell_type": "markdown",
   "metadata": {},
   "source": [
    "[math link](https://www.symbolab.com/solver/simplify-calculator/solve%20for%20t%2C%20%5Cleft(%5Cleft(%5Cfrac%7Bs%7D%7Be%7D%5Cright)%20%5Ccdot%5Cleft(t-e%5Cright)%5Cright)%20-%20%5Cleft(%5Cleft(%5Cfrac%7Bs%7D%7Be%7D%5Cright)%5Ccdot%20e%20%5Ccdot%20m%5Cright)%20-%20%5Cleft(%5Cleft(%5Cfrac%7Bs%7D%7Be%7D%5Cright)%5Ccdot%20t%20%5Ccdot%20%20l%5Cright)%20%3D%20p)<br>\n",
    "\n",
    "Solving for Long Take Profit Price<br>\n",
    "usd = USD size<br>\n",
    "entry = entry or average entry<br>\n",
    "mfee = Market Fee<br>\n",
    "lfee = Limit Fee<br>\n",
    "tp = Take profit price<br>\n",
    "pnl = pnl<br>\n",
    "$$\n",
    "pnl = ((\\frac{usd}{entry}) * (entry - tp)) - ((\\frac{usd}{entry}) * entry * mfee) - ((\\frac{usd}{entry}) * tp * lfee)\\\\\n",
    "~\\\\\n",
    "tp = \\frac{(entry * pnl) + (entry * usd) + (entry*mfee*usd)}{usd*(1-lfee)}\n",
    "$$"
   ]
  },
  {
   "cell_type": "code",
   "execution_count": 2,
   "metadata": {},
   "outputs": [
    {
     "data": {
      "text/plain": [
       "30601.115947481092"
      ]
     },
     "execution_count": 2,
     "metadata": {},
     "output_type": "execute_result"
    }
   ],
   "source": [
    "entry = 27805.5\n",
    "position = 100.6931\n",
    "pnl = 10\n",
    "mfee = 0.0009\n",
    "lfee = 0.0003\n",
    "((entry * pnl) + (entry * position) + (entry * mfee * position)) / (position * (1 - lfee))"
   ]
  },
  {
   "cell_type": "code",
   "execution_count": 5,
   "metadata": {},
   "outputs": [
    {
     "data": {
      "text/plain": [
       "27855.594985486936"
      ]
     },
     "execution_count": 5,
     "metadata": {},
     "output_type": "execute_result"
    }
   ],
   "source": [
    "# Solving for moving sl to break even long ... check above to make sure even though i already did\n",
    "(mfee * entry + entry) / (1 - mfee)"
   ]
  },
  {
   "attachments": {},
   "cell_type": "markdown",
   "metadata": {},
   "source": [
    "Solving for Long Leverage <br>\n",
    "When you know you want your liq price to be slightly lower than your sl price<br>\n",
    "AE = Avg Entry<br>\n",
    "MMR = Maintaince Margin Rate<br>\n",
    "LP = Liq Price ---> slp - (slp * p)<br>\n",
    "SLP = Stop Loss Price<br>\n",
    "P = Padding<br>\n",
    "L = Long Leverage\n",
    "\n",
    "$$\n",
    "LP = AE * (1 - (\\frac{1}{L}) + MMR)\\\\\n",
    "|\\\\\n",
    "SLP - (SLP * P) = AE * (1 - (\\frac{1}{L}) + MMR)\\\\\n",
    "|\\\\\n",
    "L = \\frac{-AE}{SLP - (SLP * P) - AE - (AE * MMR)}\n",
    "$$\n"
   ]
  },
  {
   "cell_type": "code",
   "execution_count": 8,
   "metadata": {},
   "outputs": [
    {
     "data": {
      "text/plain": [
       "(78.85512415861587, 24923.052)"
      ]
     },
     "execution_count": 8,
     "metadata": {},
     "output_type": "execute_result"
    }
   ],
   "source": [
    "ae = 25115.98\n",
    "mmr = 0.005\n",
    "slp = 24948\n",
    "p = 0.001\n",
    "longlev = -ae / ((slp - (slp * p)) - ae - mmr * ae)\n",
    "lp = ae * (1 - 1 / longlev + mmr)\n",
    "longlev, lp"
   ]
  },
  {
   "cell_type": "code",
   "execution_count": 6,
   "metadata": {},
   "outputs": [
    {
     "data": {
      "text/plain": [
       "78.85512415861587"
      ]
     },
     "execution_count": 6,
     "metadata": {},
     "output_type": "execute_result"
    }
   ],
   "source": [
    "ae = 25115.98\n",
    "mmr = 0.005\n",
    "slp = 24948\n",
    "p = 0.001\n",
    "lp = slp - (slp * p)\n",
    "-ae / (lp - ae - ae * mmr)"
   ]
  },
  {
   "attachments": {},
   "cell_type": "markdown",
   "metadata": {},
   "source": [
    "Finding USD price based on possible loss not in position<br>\n",
    "S = USD size<br>\n",
    "E = entry or average entry<br>\n",
    "F = Fee<br>\n",
    "X = Stops price<br>\n",
    "P = pnl<br>\n",
    "$$\n",
    "P = ((\\frac{S}{E}) * (X - E)) - ((\\frac{S}{E}) * E * F) - ((\\frac{S}{E}) * X * F)\n",
    "\\\\~\\\\\n",
    "P = \\frac{S*X}{E} - \\frac{S*E}{E} - \\frac{S*E*F}{E} - \\frac{S*X*F}{E}\n",
    "\\\\~\\\\\n",
    "P = (\\frac{X}{E} - 1 - F - \\frac{X*F}{E}) * S\n",
    "\\\\~\\\\\n",
    "S = \\frac{-P}{(\\frac{X}{E} - 1 - F - \\frac{X*F}{E})}\n",
    "$$"
   ]
  },
  {
   "cell_type": "code",
   "execution_count": 1,
   "metadata": {},
   "outputs": [
    {
     "data": {
      "text/plain": [
       "893.3357155619074"
      ]
     },
     "execution_count": 1,
     "metadata": {},
     "output_type": "execute_result"
    }
   ],
   "source": [
    "price = 1000\n",
    "sl_pcts_new = .01\n",
    "fee_pct = .0006\n",
    "init_size = 1000\n",
    "\n",
    "temp_sl_price = price - (price * sl_pcts_new)\n",
    "possible_loss = init_size * sl_pcts_new\n",
    "\n",
    "-possible_loss / (temp_sl_price/price - 1 - fee_pct - temp_sl_price * fee_pct / price)\n",
    "                "
   ]
  },
  {
   "attachments": {},
   "cell_type": "markdown",
   "metadata": {},
   "source": [
    "Solving for what the size value of the second or more trade if you are using stop loss at the low"
   ]
  },
  {
   "cell_type": "code",
   "execution_count": 2,
   "metadata": {},
   "outputs": [
    {
     "data": {
      "text/plain": [
       "3518.8269374234837"
      ]
     },
     "execution_count": 2,
     "metadata": {},
     "output_type": "execute_result"
    }
   ],
   "source": [
    "fee = 0.0009\n",
    "eq = 1000\n",
    "size_pct = 0.01\n",
    "init_entry = 30234.5\n",
    "init_sl_p = 30203\n",
    "\n",
    "# standard size value with no other trades\n",
    "init_sl_pct = (init_entry - init_sl_p) / init_entry\n",
    "init_size_value = eq * size_pct / init_sl_pct\n",
    "init_p_loss = init_size_value * init_sl_pct\n",
    "init_size_value = -init_p_loss / (\n",
    "    init_sl_p / init_entry - 1 - fee - init_entry * fee / init_entry\n",
    ")\n",
    "init_size_value"
   ]
  },
  {
   "cell_type": "code",
   "execution_count": 3,
   "metadata": {},
   "outputs": [
    {
     "data": {
      "text/plain": [
       "4230.85986153337"
      ]
     },
     "execution_count": 3,
     "metadata": {},
     "output_type": "execute_result"
    }
   ],
   "source": [
    "second_entry = 30164\n",
    "second_sl_p = 30147\n",
    "\n",
    "# standard size value with no other trades\n",
    "second_sl_pct = (second_entry - second_sl_p) / second_entry\n",
    "second_size_value = eq * size_pct / second_sl_pct\n",
    "second_p_loss = second_size_value * second_sl_pct\n",
    "second_size_value = -second_p_loss / (\n",
    "    second_sl_p / second_entry - 1 - fee - second_entry * fee / second_entry\n",
    ")\n",
    "second_size_value"
   ]
  },
  {
   "cell_type": "code",
   "execution_count": 4,
   "metadata": {},
   "outputs": [
    {
     "data": {
      "text/plain": [
       "(-18.84818503093534, 4508.98394133114, 30218.990224616537)"
      ]
     },
     "execution_count": 4,
     "metadata": {},
     "output_type": "execute_result"
    }
   ],
   "source": [
    "# possible loss\n",
    "second_size_value = 990.1570039076566\n",
    "position_size = second_size_value + init_size_value\n",
    "avg_entry = position_size / (\n",
    "    (second_size_value / second_entry) + (init_size_value / init_entry)\n",
    ")\n",
    "(\n",
    "    ((position_size / avg_entry) * (second_sl_p - avg_entry))\n",
    "    - ((position_size / avg_entry) * avg_entry * fee)\n",
    "    - ((position_size / avg_entry) * second_sl_p * fee)\n",
    "), position_size, avg_entry"
   ]
  },
  {
   "attachments": {},
   "cell_type": "markdown",
   "metadata": {},
   "source": [
    "to find the second value we need to break the postion size and avg entry into their formulas that looks like this\n",
    "\n",
    "[math link](https://www.symbolab.com/solver/simplify-calculator/solve%20for%20a%2C%20%5Cleft(%20%20%20%20%5Cleft(%5Cleft(%5Cleft(a%20%2F%20c%5Cright)%20%2B%20%5Cleft(b%20%2F%20d%5Cright)%5Cright)%20%5Ccdot%5Cleft(e%20-%20%5Cleft(%5Cleft(a%20%2B%20b%5Cright)%20%2F%20%5Cleft(%5Cleft(a%20%2F%20c%5Cright)%20%2B%20%5Cleft(b%20%2F%20d%5Cright)%5Cright)%5Cright)%5Cright)%5Cright)%20%20%20%20-%20%5Cleft(%5Cleft(%5Cleft(a%20%2F%20c%5Cright)%20%2B%20%5Cleft(b%20%2F%20d%5Cright)%5Cright)%20%5Ccdot%5Cleft(%5Cleft(a%20%2B%20b%5Cright)%20%2F%20%5Cleft(%5Cleft(a%20%2F%20c%5Cright)%20%2B%20%5Cleft(b%20%2F%20d%5Cright)%5Cright)%5Cright)%20%5Ccdot%20f%5Cright)%20%20%20%20-%20%5Cleft(%5Cleft(%5Cleft(a%20%2F%20c%5Cright)%20%2B%20%5Cleft(b%20%2F%20d%5Cright)%5Cright)%20%5Ccdot%20e%20%5Ccdot%20f%5Cright)%5Cright)%3Dp?or=input)\n",
    "\n",
    "a = "
   ]
  },
  {
   "cell_type": "code",
   "execution_count": null,
   "metadata": {},
   "outputs": [],
   "source": []
  },
  {
   "cell_type": "markdown",
   "metadata": {},
   "source": [
    "p = position_size_usd\n",
    "a = average_entry\n",
    "u = entry_size_usd\n",
    "e = entry_price\n",
    "n = new_sl_price\n",
    "l = limit_fee\n",
    "m = market_fee\n",
    "pl = pnl"
   ]
  },
  {
   "cell_type": "code",
   "execution_count": 5,
   "metadata": {},
   "outputs": [
    {
     "data": {
      "text/plain": [
       "-13.89152519990604"
      ]
     },
     "execution_count": 5,
     "metadata": {},
     "output_type": "execute_result"
    }
   ],
   "source": [
    "market_fee = 0.0006\n",
    "limit_fee = 0.0001\n",
    "tpl = (\n",
    "    (\n",
    "        (position_size_usd / average_entry + entry_size_usd / entry_price)\n",
    "        * (\n",
    "            new_sl_price\n",
    "            - (\n",
    "                (position_size_usd + entry_size_usd)\n",
    "                / ((position_size_usd / average_entry) + (entry_size_usd / entry_price))\n",
    "            )\n",
    "        )\n",
    "    )\n",
    "    - (\n",
    "        (position_size_usd / average_entry + entry_size_usd / entry_price)\n",
    "        * (\n",
    "            (position_size_usd + entry_size_usd)\n",
    "            / ((position_size_usd / average_entry) + (entry_size_usd / entry_price))\n",
    "        )\n",
    "        * limit_fee\n",
    "    )\n",
    "    - ((position_size_usd / average_entry + entry_size_usd / entry_price) * new_sl_price * market_fee)\n",
    ")\n",
    "tpl"
   ]
  },
  {
   "cell_type": "code",
   "execution_count": null,
   "metadata": {},
   "outputs": [],
   "source": [
    "-(\n",
    "    (\n",
    "        entry_price * average_entry * pl\n",
    "        + entry_price * average_entry * entry_size_usd\n",
    "        - new_sl_price * average_entry * entry_size_usd\n",
    "        + new_sl_price * market_fee * average_entry * entry_size_usd\n",
    "        + entry_price * limit_fee * average_entry * entry_size_usd\n",
    "    )\n",
    "    / entry_price\n",
    "    * (-new_sl_price + average_entry * new_sl_price * market_fee + limit_fee * average_entry)\n",
    ")"
   ]
  },
  {
   "cell_type": "code",
   "execution_count": 6,
   "metadata": {},
   "outputs": [],
   "source": [
    "a = second_size_value\n",
    "b = init_size_value\n",
    "c = second_entry\n",
    "d = init_entry\n",
    "e = second_sl_p\n",
    "f = market_fee\n",
    "g = limit_fee"
   ]
  },
  {
   "cell_type": "code",
   "execution_count": 7,
   "metadata": {},
   "outputs": [
    {
     "data": {
      "text/plain": [
       "-13.89152519990604"
      ]
     },
     "execution_count": 7,
     "metadata": {},
     "output_type": "execute_result"
    }
   ],
   "source": [
    "# finding second size value for sl at low\n",
    "(\n",
    "    (\n",
    "        ((a + b) / ((a + b) / ((a / c) + (b / d))))\n",
    "        * (e - ((a + b) / ((a / c) + (b / d))))\n",
    "    )\n",
    "    - (\n",
    "        ((a + b) / ((a + b) / ((a / c) + (b / d))))\n",
    "        * ((a + b) / ((a / c) + (b / d)))\n",
    "        * g\n",
    "    )\n",
    "    - (((a + b) / ((a + b) / ((a / c) + (b / d)))) * e * f)\n",
    ")\n"
   ]
  },
  {
   "cell_type": "code",
   "execution_count": 8,
   "metadata": {},
   "outputs": [
    {
     "data": {
      "text/plain": [
       "-21003.19635132835"
      ]
     },
     "execution_count": 8,
     "metadata": {},
     "output_type": "execute_result"
    }
   ],
   "source": [
    "# take profit : market in limit out\n",
    "-(\n",
    "    (tpl * c * d + b * c * d - e * b * c + b * c * d * f + e * b * c * g)\n",
    "    / (d * (c - e + c * f + e * g))\n",
    ")\n",
    "# take profit : limit in limit out\n",
    "-(\n",
    "    (tpl * c * d + b * c * d - e * b * c + b * c * d * g + e * b * c * g)\n",
    "    / (d * (c - e + c * g + e * g))\n",
    ")\n",
    "# stop loss : market in market out\n",
    "-(\n",
    "    (-tpl * c * d + b * c * d - e * b * c + b * c * d * f + e * b * c * f)\n",
    "    / (d * (c - e + c * f + e * f))\n",
    ")\n",
    "# stop loss : limit in market out\n",
    "-(\n",
    "    (-tpl * c * d + b * c * d - e * b * c + b * c * d * g + e * b * c * f)\n",
    "    / (d * (c - e + c * g + e * f))\n",
    ")\n"
   ]
  },
  {
   "cell_type": "code",
   "execution_count": 18,
   "metadata": {},
   "outputs": [
    {
     "data": {
      "text/plain": [
       "1477.5783769297152"
      ]
     },
     "execution_count": 18,
     "metadata": {},
     "output_type": "execute_result"
    }
   ],
   "source": [
    "# here is what your position size needs to be if you want to lose 20 dollars\n",
    "pl = 20\n",
    "size2 = -(\n",
    "    (\n",
    "        -pl * second_entry * init_entry\n",
    "        + second_entry * init_size_value * init_entry\n",
    "        - second_sl_p * second_entry * init_size_value\n",
    "        + second_sl_p * second_entry * init_size_value * fee\n",
    "        + second_entry * init_size_value * init_entry * fee\n",
    "    )\n",
    "    / (\n",
    "        init_entry\n",
    "        * (second_entry - second_sl_p + second_entry * fee + second_sl_p * fee)\n",
    "    )\n",
    ")\n",
    "size2"
   ]
  },
  {
   "cell_type": "code",
   "execution_count": 6,
   "metadata": {},
   "outputs": [
    {
     "data": {
      "text/plain": [
       "0.1"
      ]
     },
     "execution_count": 6,
     "metadata": {},
     "output_type": "execute_result"
    }
   ],
   "source": []
  },
  {
   "cell_type": "code",
   "execution_count": 8,
   "metadata": {},
   "outputs": [
    {
     "data": {
      "text/plain": [
       "0.2"
      ]
     },
     "execution_count": 8,
     "metadata": {},
     "output_type": "execute_result"
    }
   ],
   "source": [
    "(100 + 200) / ((100 + 200) / (100 / 1000 + 200 / 2000))"
   ]
  },
  {
   "cell_type": "code",
   "execution_count": 9,
   "metadata": {},
   "outputs": [
    {
     "data": {
      "text/plain": [
       "0.2"
      ]
     },
     "execution_count": 9,
     "metadata": {},
     "output_type": "execute_result"
    }
   ],
   "source": [
    "(100 / 1000 + 200 / 2000)"
   ]
  }
 ],
 "metadata": {
  "kernelspec": {
   "display_name": "qfVBT",
   "language": "python",
   "name": "python3"
  },
  "language_info": {
   "codemirror_mode": {
    "name": "ipython",
    "version": 3
   },
   "file_extension": ".py",
   "mimetype": "text/x-python",
   "name": "python",
   "nbconvert_exporter": "python",
   "pygments_lexer": "ipython3",
   "version": "3.10.10"
  },
  "orig_nbformat": 4,
  "vscode": {
   "interpreter": {
    "hash": "d03a5f5914d41db73604e557196e04fa21b062a314cb051b64faf513d9f7a3ca"
   }
  }
 },
 "nbformat": 4,
 "nbformat_minor": 2
}
