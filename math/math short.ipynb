{
 "cells": [
  {
   "attachments": {},
   "cell_type": "markdown",
   "metadata": {},
   "source": [
    "[Math Link](https://www.symbolab.com/solver/simplify-calculator/solve%20for%20t%2C%20%5Cleft(%5Cleft(%5Cfrac%7Bs%7D%7Be%7D%5Cright)%20%5Ccdot%5Cleft(t-e%5Cright)%5Cright)%20-%20%5Cleft(%5Cleft(%5Cfrac%7Bs%7D%7Be%7D%5Cright)%5Ccdot%20e%20%5Ccdot%20m%5Cright)%20-%20%5Cleft(%5Cleft(%5Cfrac%7Bs%7D%7Be%7D%5Cright)%5Ccdot%20t%20%5Ccdot%20%20l%5Cright)%20%3D%20p?or=input)<br>\n",
    "\n",
    "Solving for Short Take Profit Price<br>\n",
    "usd = USD size<br>\n",
    "entry = entry or average entry<br>\n",
    "mfee = Market Fee<br>\n",
    "lfee = Limit Fee<br>\n",
    "tp = Take profit price<br>\n",
    "pnl = pnl<br>\n",
    "$$\n",
    "pnl = ((\\frac{usd}{entry}) * (entry - tp)) - ((\\frac{usd}{entry}) * entry * mfee) - ((\\frac{usd}{entry}) * tp * lfee)\\\\\n",
    "~\\\\\n",
    "tp = -(\\frac{(entry * pnl) - (entry * usd) + (entry*mfee*usd)}{usd*(1+lfee)})\n",
    "$$"
   ]
  },
  {
   "cell_type": "code",
   "execution_count": 9,
   "metadata": {},
   "outputs": [
    {
     "data": {
      "text/plain": [
       "25011.560919027444"
      ]
     },
     "execution_count": 9,
     "metadata": {},
     "output_type": "execute_result"
    }
   ],
   "source": [
    "entry = 27805.5\n",
    "position = 100.6931\n",
    "pnl = 10\n",
    "mfee = 0.0009\n",
    "lfee = 0.0003\n",
    "-((pnl * entry) - (entry * position) + (entry * mfee * position)) / (position * (1 + lfee))"
   ]
  },
  {
   "attachments": {},
   "cell_type": "markdown",
   "metadata": {},
   "source": [
    "Solving for break even price"
   ]
  },
  {
   "cell_type": "code",
   "execution_count": 10,
   "metadata": {},
   "outputs": [
    {
     "data": {
      "text/plain": [
       "27755.49510440604"
      ]
     },
     "execution_count": 10,
     "metadata": {},
     "output_type": "execute_result"
    }
   ],
   "source": [
    "# this formula only works with a 1 because it represents a size val of 1\n",
    "# if i were to use any other value for size i would have to use the solving for tp code\n",
    "(entry - mfee * entry) / (1 + mfee)"
   ]
  },
  {
   "attachments": {},
   "cell_type": "markdown",
   "metadata": {},
   "source": [
    "Solving for Short Leverage <br>\n",
    "When you know you want your liq price to be slightly higher than your sl price<br>\n",
    "AE = Avg Entry<br>\n",
    "MMR = Maintaince Margin Rate<br>\n",
    "LP = Liq Price<br>\n",
    "SLP = Stop Loss Price<br>\n",
    "P = Padding<br>\n",
    "L = Long Leverage\n",
    "\n",
    "$$\n",
    "LP = AE * (1 + (\\frac{1}{L}) - (MMR / 100))\\\\\n",
    "|\\\\\n",
    "SLP + (SLP * \\frac{P}{100}) = AE * (1 + (\\frac{1}{L}) - (MMR / 100))\\\\\n",
    "|\\\\\n",
    "|\\\\\n",
    "L = \\frac{AE}{SLP + (SLP * \\frac{P}{100}) - AE + (AE * \\frac{MMR}{100})}\n",
    "$$"
   ]
  },
  {
   "cell_type": "code",
   "execution_count": 36,
   "metadata": {},
   "outputs": [
    {
     "data": {
      "text/plain": [
       "(58.7544065804936, 1012.0200000000001)"
      ]
     },
     "execution_count": 36,
     "metadata": {},
     "output_type": "execute_result"
    }
   ],
   "source": [
    "ae = 1000   \n",
    "mmr = .5\n",
    "slp = 1010 \n",
    "p = .2\n",
    "shortlev = ae / (slp + ((slp * p)/100) - ae + ((mmr * ae) / 100))\n",
    "lp = ae * ( 1 + 1/shortlev - mmr/100)\n",
    "shortlev, lp"
   ]
  },
  {
   "attachments": {},
   "cell_type": "markdown",
   "metadata": {},
   "source": [
    "Finding USD price based on possible loss<br>\n",
    "S = USD size<br>\n",
    "E = entry or average entry<br>\n",
    "F = Fee<br>\n",
    "X = Stops price<br>\n",
    "P = pnl<br>\n",
    "$$\n",
    "P = ((\\frac{S}{E}) * (E - X)) - ((\\frac{S}{E}) * E * F) - ((\\frac{S}{E}) * X * F)\n",
    "\\\\~\\\\\n",
    "P = \\frac{S*E}{E} - \\frac{S*X}{E} - \\frac{S*E*F}{E} - \\frac{S*X*F}{E}\n",
    "\\\\~\\\\\n",
    "P = (1 - \\frac{X}{E} - F - \\frac{X*F}{E}) * S\n",
    "\\\\~\\\\\n",
    "S = \\frac{-P}{(1 - \\frac{X}{E} - F - \\frac{X*F}{E})}\n",
    "$$"
   ]
  },
  {
   "cell_type": "code",
   "execution_count": 14,
   "metadata": {},
   "outputs": [
    {
     "data": {
      "text/plain": [
       "892.3790826343023"
      ]
     },
     "execution_count": 14,
     "metadata": {},
     "output_type": "execute_result"
    }
   ],
   "source": [
    "price = 1000\n",
    "sl_pcts_new = .01\n",
    "fee_pct = .0006\n",
    "init_size = 1000\n",
    "\n",
    "temp_sl_price = price + (price * sl_pcts_new)\n",
    "possible_loss = init_size * sl_pcts_new\n",
    "\n",
    "-possible_loss / (1 - temp_sl_price/price - fee_pct - temp_sl_price * fee_pct / price)\n",
    "                "
   ]
  },
  {
   "cell_type": "code",
   "execution_count": 22,
   "metadata": {},
   "outputs": [],
   "source": [
    "possible_loss = 20\n",
    "entry_price = 1900\n",
    "average_entry = 2000\n",
    "position_size_usd = 100\n",
    "market_fee_pct = .0009\n",
    "sl_price = 1800"
   ]
  },
  {
   "cell_type": "code",
   "execution_count": 23,
   "metadata": {},
   "outputs": [
    {
     "data": {
      "text/plain": [
       "180.733"
      ]
     },
     "execution_count": 23,
     "metadata": {},
     "output_type": "execute_result"
    }
   ],
   "source": [
    "round(\n",
    "    -(\n",
    "        (\n",
    "            -possible_loss * entry_price * average_entry\n",
    "            + entry_price * position_size_usd * average_entry\n",
    "            - sl_price * entry_price * position_size_usd\n",
    "            + sl_price * entry_price * position_size_usd * market_fee_pct\n",
    "            + entry_price * position_size_usd * average_entry * market_fee_pct\n",
    "        )\n",
    "        / (\n",
    "            average_entry\n",
    "            * (entry_price - sl_price + entry_price * market_fee_pct + sl_price * market_fee_pct)\n",
    "        )\n",
    "    ),\n",
    "    3,\n",
    ")"
   ]
  }
 ],
 "metadata": {
  "kernelspec": {
   "display_name": "qfVBT",
   "language": "python",
   "name": "python3"
  },
  "language_info": {
   "codemirror_mode": {
    "name": "ipython",
    "version": 3
   },
   "file_extension": ".py",
   "mimetype": "text/x-python",
   "name": "python",
   "nbconvert_exporter": "python",
   "pygments_lexer": "ipython3",
   "version": "3.10.10"
  },
  "orig_nbformat": 4,
  "vscode": {
   "interpreter": {
    "hash": "d03a5f5914d41db73604e557196e04fa21b062a314cb051b64faf513d9f7a3ca"
   }
  }
 },
 "nbformat": 4,
 "nbformat_minor": 2
}
