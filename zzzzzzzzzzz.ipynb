{
  "cells": [
    {
      "cell_type": "code",
      "execution_count": 1,
      "metadata": {},
      "outputs": [],
      "source": [
        "import numpy as np\n",
        "import pandas as pd\n",
        "from my_stuff import MufexKeys, MufexTestKeys\n",
        "from quantfreedom.exchanges.mufex_exchange.mufex import Mufex\n",
        "from quantfreedom.indicators.tv_indicators import *\n",
        "from quantfreedom.plotting.plotting_base import *\n",
        "from quantfreedom.exchanges.exchange import Exchange\n",
        "from quantfreedom.helper_funcs import dl_ex_candles, candles_to_df\n",
        "from my_stuff import BybitTestKeys\n",
        "from quantfreedom.exchanges.bybit_exchange.bybit import Bybit\n",
        "\n",
        "\n",
        "np.set_printoptions(formatter={\"float_kind\": \"{:0.6f}\".format})\n",
        "\n",
        "%load_ext autoreload\n",
        "%autoreload 2"
      ]
    },
    {
      "cell_type": "code",
      "execution_count": 2,
      "metadata": {},
      "outputs": [],
      "source": [
        "candles = dl_ex_candles(\n",
        "    exchange=\"binance_us\",\n",
        "    symbol=\"BTCUSDT\",\n",
        "    timeframe=\"1h\",\n",
        "    candles_to_dl=500,\n",
        ")\n",
        "timestamps = candles[:, 0]\n",
        "open = candles[:, 1]\n",
        "high = candles[:, 2]\n",
        "low = candles[:, 3]\n",
        "close = candles[:, 4]\n",
        "volume = candles[:, 5]"
      ]
    },
    {
      "cell_type": "code",
      "execution_count": 39,
      "metadata": {},
      "outputs": [
        {
          "name": "stdout",
          "output_type": "stream",
          "text": [
            "20\n",
            "387723.6999999881\n",
            "13300\n",
            "29.152157894735947\n"
          ]
        },
        {
          "data": {
            "text/plain": [
              "36955.71199999999"
            ]
          },
          "execution_count": 39,
          "metadata": {},
          "output_type": "execute_result"
        }
      ],
      "source": [
        "y = close[-20:]\n",
        "N = y.size\n",
        "x = np.arange(0, N)\n",
        "sum_x = x.sum()\n",
        "sum_y = y.sum()\n",
        "sum_x2 = np.power(x, 2).sum()\n",
        "sum_xy = (x * y).sum()\n",
        "\n",
        "\n",
        "m_top = N * sum_xy - sum_x * sum_y\n",
        "m_bot = N * sum_x2 - np.power(sum_x, 2)\n",
        "m = m_top / m_bot\n",
        "b = (sum_y - m * sum_x) / N\n",
        "b + m * (N - 1)"
      ]
    },
    {
      "cell_type": "code",
      "execution_count": 47,
      "metadata": {},
      "outputs": [
        {
          "data": {
            "text/plain": [
              "36955.71199999999"
            ]
          },
          "execution_count": 47,
          "metadata": {},
          "output_type": "execute_result"
        }
      ],
      "source": [
        "length = 20\n",
        "y = close[-length:]\n",
        "x = np.arange(0, length)\n",
        "A = np.vstack([x, np.ones(len(x))]).T\n",
        "m, b = np.linalg.lstsq(A, y, rcond=None)[0]\n",
        "b + m * (length - 1)"
      ]
    }
  ],
  "metadata": {
    "kernelspec": {
      "display_name": "qfFree",
      "language": "python",
      "name": "python3"
    },
    "language_info": {
      "codemirror_mode": {
        "name": "ipython",
        "version": 3
      },
      "file_extension": ".py",
      "mimetype": "text/x-python",
      "name": "python",
      "nbconvert_exporter": "python",
      "pygments_lexer": "ipython3",
      "version": "3.10.10"
    },
    "orig_nbformat": 4
  },
  "nbformat": 4,
  "nbformat_minor": 2
}
