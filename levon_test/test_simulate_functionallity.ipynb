{
 "cells": [
  {
   "cell_type": "code",
   "execution_count": 1,
   "metadata": {
    "collapsed": true
   },
   "outputs": [
    {
     "ename": "TypeError",
     "evalue": "_is_below() got an unexpected keyword argument 'cand_ohlc'",
     "output_type": "error",
     "traceback": [
      "\u001b[1;31m---------------------------------------------------------------------------\u001b[0m",
      "\u001b[1;31mTypeError\u001b[0m                                 Traceback (most recent call last)",
      "Cell \u001b[1;32mIn[1], line 36\u001b[0m\n\u001b[0;32m     28\u001b[0m price_data \u001b[39m=\u001b[39m pd\u001b[39m.\u001b[39mread_hdf(\u001b[39m\"\u001b[39m\u001b[39m../tests/data/prices.hd5\u001b[39m\u001b[39m\"\u001b[39m)\n\u001b[0;32m     29\u001b[0m rsi_ind \u001b[39m=\u001b[39m sm\u001b[39m.\u001b[39mfrom_talib(\n\u001b[0;32m     30\u001b[0m     func_name\u001b[39m=\u001b[39m\u001b[39m\"\u001b[39m\u001b[39mrsi\u001b[39m\u001b[39m\"\u001b[39m,\n\u001b[0;32m     31\u001b[0m     price_data\u001b[39m=\u001b[39mprice_data,\n\u001b[1;32m   (...)\u001b[0m\n\u001b[0;32m     34\u001b[0m     timeperiod\u001b[39m=\u001b[39m[\u001b[39m15\u001b[39m, \u001b[39m30\u001b[39m],\n\u001b[0;32m     35\u001b[0m )\n\u001b[1;32m---> 36\u001b[0m entries \u001b[39m=\u001b[39m rsi_ind\u001b[39m.\u001b[39;49mis_below(\n\u001b[0;32m     37\u001b[0m     user_args\u001b[39m=\u001b[39;49m[\u001b[39m40\u001b[39;49m, \u001b[39m50\u001b[39;49m],\n\u001b[0;32m     38\u001b[0m     cand_ohlc\u001b[39m=\u001b[39;49m\u001b[39m\"\u001b[39;49m\u001b[39mclose\u001b[39;49m\u001b[39m\"\u001b[39;49m,\n\u001b[0;32m     39\u001b[0m )\n\u001b[0;32m     40\u001b[0m sm\u001b[39m.\u001b[39mcombined_data_frame()\n",
      "File \u001b[1;32me:\\coding\\backtesters\\quantfreedom\\quantfreedom\\base\\indicators_cls.py:53\u001b[0m, in \u001b[0;36mIndicator.is_below\u001b[1;34m(self, user_args, indicator_data, price_data, cand_ohlc, plot_results)\u001b[0m\n\u001b[0;32m     44\u001b[0m     data \u001b[39m=\u001b[39m _is_below(\n\u001b[0;32m     45\u001b[0m         user_args\u001b[39m=\u001b[39muser_args,\n\u001b[0;32m     46\u001b[0m         want_to_evaluate\u001b[39m=\u001b[39mindicator_data,\n\u001b[1;32m   (...)\u001b[0m\n\u001b[0;32m     50\u001b[0m         cand_ohlc\u001b[39m=\u001b[39mcand_ohlc\n\u001b[0;32m     51\u001b[0m     )\n\u001b[0;32m     52\u001b[0m \u001b[39melse\u001b[39;00m:\n\u001b[1;32m---> 53\u001b[0m     data \u001b[39m=\u001b[39m _is_below(\n\u001b[0;32m     54\u001b[0m         want_to_evaluate\u001b[39m=\u001b[39;49m\u001b[39mself\u001b[39;49m\u001b[39m.\u001b[39;49mdata,\n\u001b[0;32m     55\u001b[0m         user_args\u001b[39m=\u001b[39;49muser_args,\n\u001b[0;32m     56\u001b[0m         indicator_data\u001b[39m=\u001b[39;49mindicator_data,\n\u001b[0;32m     57\u001b[0m         plot_results\u001b[39m=\u001b[39;49mplot_results,\n\u001b[0;32m     58\u001b[0m         price_data\u001b[39m=\u001b[39;49mprice_data,\n\u001b[0;32m     59\u001b[0m         cand_ohlc\u001b[39m=\u001b[39;49mcand_ohlc\n\u001b[0;32m     60\u001b[0m     )\n\u001b[0;32m     61\u001b[0m \u001b[39mself\u001b[39m\u001b[39m.\u001b[39msave_values(\u001b[39mf\u001b[39m\u001b[39m\"\u001b[39m\u001b[39mis_below\u001b[39m\u001b[39m{\u001b[39;00m\u001b[39mself\u001b[39m\u001b[39m.\u001b[39mcounter\u001b[39m}\u001b[39;00m\u001b[39m\"\u001b[39m, data)\n\u001b[0;32m     62\u001b[0m \u001b[39mreturn\u001b[39;00m data\n",
      "\u001b[1;31mTypeError\u001b[0m: _is_below() got an unexpected keyword argument 'cand_ohlc'"
     ]
    }
   ],
   "source": [
    "import os\n",
    "import sys\n",
    "\n",
    "sys.dont_write_bytecode = True\n",
    "os.environ[\"NUMBA_DISABLE_JIT\"] = \"1\"\n",
    "\n",
    "import numpy as np\n",
    "import pandas as pd\n",
    "from quantfreedom.base.strategy_maker_cls import StrategyMaker\n",
    "from quantfreedom.enums.enums import (\n",
    "    LeverageMode,\n",
    "    SizeType,\n",
    "    OrderType,\n",
    "    CandleBody,\n",
    ")\n",
    "\n",
    "np.set_printoptions(formatter={\"float_kind\": \"{:.2f}\".format})\n",
    "pd.options.display.float_format = \"{:,.2f}\".format\n",
    "\n",
    "# prices = data_download_from_ccxt(\n",
    "#     exchange='bybit',\n",
    "#     start='2020-10-01T00:00:00Z',\n",
    "#     end='2021-04-15T00:00:00Z',\n",
    "#     symbols=['BTCUSDT', 'ETHUSD'],\n",
    "#     timeframe='30m',\n",
    "# )\n",
    "sm = StrategyMaker()\n",
    "price_data = pd.read_hdf(\"../tests/data/prices.hd5\")\n",
    "rsi_ind = sm.from_talib(\n",
    "    func_name=\"rsi\",\n",
    "    price_data=price_data,\n",
    "    cart_product=False,\n",
    "    combos=False,\n",
    "    timeperiod=[15, 30],\n",
    ")\n",
    "entries = rsi_ind.is_below(\n",
    "    user_args=[40, 50],\n",
    "    cand_ohlc=\"close\",\n",
    ")\n",
    "sm.combined_data_frame()"
   ]
  },
  {
   "cell_type": "code",
   "execution_count": null,
   "metadata": {
    "collapsed": false
   },
   "outputs": [],
   "source": [
    "strat_results_df, settings_results_df = sm.backtest_df(\n",
    "    prices=price_data,\n",
    "    equity=1000.0,\n",
    "    fee_pct=0.06,\n",
    "    mmr_pct=0.5,\n",
    "    lev_mode=LeverageMode.LeastFreeCashUsed,\n",
    "    size_type=SizeType.RiskPercentOfAccount,\n",
    "    order_type=OrderType.LongEntry,\n",
    "    max_equity_risk_pct=np.arange(7, 8.1, 1),\n",
    "    risk_rewards=4,\n",
    "    size_pct=1.0,\n",
    "    # sl_pcts=np.arange(1,3.1,1),\n",
    "    tsl_true_or_false=True,\n",
    "    tsl_pcts_init=8,\n",
    "    tsl_based_on=CandleBody.low,\n",
    "    tsl_trail_by_pct=8,\n",
    "    tsl_when_pct_from_avg_entry=np.arange(3, 4.1, 1),\n",
    "    gains_pct_filter=150,\n",
    "    upside_filter=0.6,\n",
    "    divide_records_array_size_by=2,\n",
    ")"
   ]
  },
  {
   "cell_type": "code",
   "execution_count": null,
   "metadata": {},
   "outputs": [],
   "source": [
    "sm.strategy_dashboard([1,22, 8, 6])"
   ]
  }
 ],
 "metadata": {
  "kernelspec": {
   "display_name": "qfFree",
   "language": "python",
   "name": "python3"
  },
  "language_info": {
   "codemirror_mode": {
    "name": "ipython",
    "version": 3
   },
   "file_extension": ".py",
   "mimetype": "text/x-python",
   "name": "python",
   "nbconvert_exporter": "python",
   "pygments_lexer": "ipython3",
   "version": "3.10.10"
  }
 },
 "nbformat": 4,
 "nbformat_minor": 0
}
