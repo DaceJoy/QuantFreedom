{
 "cells": [
  {
   "cell_type": "code",
   "execution_count": 1,
   "metadata": {
    "collapsed": true
   },
   "outputs": [
    {
     "data": {
      "text/plain": "symbol              BTCUSDT                      EOSUSD                       \\\nRSI_timeperiod           15            30            15            30          \nRSI_is_below             40     50     40     50     40     50     40     50   \nopen_time                                                                      \n2020-10-01 00:00:00   False  False  False  False  False  False  False  False   \n2020-10-01 00:30:00   False  False  False  False  False  False  False  False   \n2020-10-01 01:00:00   False  False  False  False  False  False  False  False   \n2020-10-01 01:30:00   False  False  False  False  False  False  False  False   \n2020-10-01 02:00:00   False  False  False  False  False  False  False  False   \n...                     ...    ...    ...    ...    ...    ...    ...    ...   \n2021-04-14 21:30:00   False   True  False   True  False  False  False  False   \n2021-04-14 22:00:00   False   True  False   True  False  False  False  False   \n2021-04-14 22:30:00   False   True  False   True  False  False  False  False   \n2021-04-14 23:00:00   False   True  False   True  False  False  False  False   \n2021-04-14 23:30:00   False   True  False   True  False  False  False  False   \n\nsymbol              ETHUSD                      LTCUSDT                       \\\nRSI_timeperiod          15            30             15            30          \nRSI_is_below            40     50     40     50      40     50     40     50   \nopen_time                                                                      \n2020-10-01 00:00:00  False  False  False  False   False  False  False  False   \n2020-10-01 00:30:00  False  False  False  False   False  False  False  False   \n2020-10-01 01:00:00  False  False  False  False   False  False  False  False   \n2020-10-01 01:30:00  False  False  False  False   False  False  False  False   \n2020-10-01 02:00:00  False  False  False  False   False  False  False  False   \n...                    ...    ...    ...    ...     ...    ...    ...    ...   \n2021-04-14 21:30:00  False  False  False  False   False  False  False  False   \n2021-04-14 22:00:00  False  False  False  False   False  False  False  False   \n2021-04-14 22:30:00  False  False  False  False   False  False  False  False   \n2021-04-14 23:00:00  False  False  False  False   False  False  False  False   \n2021-04-14 23:30:00  False  False  False  False   False  False  False  False   \n\nsymbol              XRPUSD                       \nRSI_timeperiod          15            30         \nRSI_is_below            40     50     40     50  \nopen_time                                        \n2020-10-01 00:00:00  False  False  False  False  \n2020-10-01 00:30:00  False  False  False  False  \n2020-10-01 01:00:00  False  False  False  False  \n2020-10-01 01:30:00  False  False  False  False  \n2020-10-01 02:00:00  False  False  False  False  \n...                    ...    ...    ...    ...  \n2021-04-14 21:30:00  False  False  False  False  \n2021-04-14 22:00:00  False  False  False  False  \n2021-04-14 22:30:00  False  False  False  False  \n2021-04-14 23:00:00  False  False  False  False  \n2021-04-14 23:30:00  False  False  False  False  \n\n[9408 rows x 20 columns]",
      "text/html": "<div>\n<style scoped>\n    .dataframe tbody tr th:only-of-type {\n        vertical-align: middle;\n    }\n\n    .dataframe tbody tr th {\n        vertical-align: top;\n    }\n\n    .dataframe thead tr th {\n        text-align: left;\n    }\n\n    .dataframe thead tr:last-of-type th {\n        text-align: right;\n    }\n</style>\n<table border=\"1\" class=\"dataframe\">\n  <thead>\n    <tr>\n      <th>symbol</th>\n      <th colspan=\"4\" halign=\"left\">BTCUSDT</th>\n      <th colspan=\"4\" halign=\"left\">EOSUSD</th>\n      <th colspan=\"4\" halign=\"left\">ETHUSD</th>\n      <th colspan=\"4\" halign=\"left\">LTCUSDT</th>\n      <th colspan=\"4\" halign=\"left\">XRPUSD</th>\n    </tr>\n    <tr>\n      <th>RSI_timeperiod</th>\n      <th colspan=\"2\" halign=\"left\">15</th>\n      <th colspan=\"2\" halign=\"left\">30</th>\n      <th colspan=\"2\" halign=\"left\">15</th>\n      <th colspan=\"2\" halign=\"left\">30</th>\n      <th colspan=\"2\" halign=\"left\">15</th>\n      <th colspan=\"2\" halign=\"left\">30</th>\n      <th colspan=\"2\" halign=\"left\">15</th>\n      <th colspan=\"2\" halign=\"left\">30</th>\n      <th colspan=\"2\" halign=\"left\">15</th>\n      <th colspan=\"2\" halign=\"left\">30</th>\n    </tr>\n    <tr>\n      <th>RSI_is_below</th>\n      <th>40</th>\n      <th>50</th>\n      <th>40</th>\n      <th>50</th>\n      <th>40</th>\n      <th>50</th>\n      <th>40</th>\n      <th>50</th>\n      <th>40</th>\n      <th>50</th>\n      <th>40</th>\n      <th>50</th>\n      <th>40</th>\n      <th>50</th>\n      <th>40</th>\n      <th>50</th>\n      <th>40</th>\n      <th>50</th>\n      <th>40</th>\n      <th>50</th>\n    </tr>\n    <tr>\n      <th>open_time</th>\n      <th></th>\n      <th></th>\n      <th></th>\n      <th></th>\n      <th></th>\n      <th></th>\n      <th></th>\n      <th></th>\n      <th></th>\n      <th></th>\n      <th></th>\n      <th></th>\n      <th></th>\n      <th></th>\n      <th></th>\n      <th></th>\n      <th></th>\n      <th></th>\n      <th></th>\n      <th></th>\n    </tr>\n  </thead>\n  <tbody>\n    <tr>\n      <th>2020-10-01 00:00:00</th>\n      <td>False</td>\n      <td>False</td>\n      <td>False</td>\n      <td>False</td>\n      <td>False</td>\n      <td>False</td>\n      <td>False</td>\n      <td>False</td>\n      <td>False</td>\n      <td>False</td>\n      <td>False</td>\n      <td>False</td>\n      <td>False</td>\n      <td>False</td>\n      <td>False</td>\n      <td>False</td>\n      <td>False</td>\n      <td>False</td>\n      <td>False</td>\n      <td>False</td>\n    </tr>\n    <tr>\n      <th>2020-10-01 00:30:00</th>\n      <td>False</td>\n      <td>False</td>\n      <td>False</td>\n      <td>False</td>\n      <td>False</td>\n      <td>False</td>\n      <td>False</td>\n      <td>False</td>\n      <td>False</td>\n      <td>False</td>\n      <td>False</td>\n      <td>False</td>\n      <td>False</td>\n      <td>False</td>\n      <td>False</td>\n      <td>False</td>\n      <td>False</td>\n      <td>False</td>\n      <td>False</td>\n      <td>False</td>\n    </tr>\n    <tr>\n      <th>2020-10-01 01:00:00</th>\n      <td>False</td>\n      <td>False</td>\n      <td>False</td>\n      <td>False</td>\n      <td>False</td>\n      <td>False</td>\n      <td>False</td>\n      <td>False</td>\n      <td>False</td>\n      <td>False</td>\n      <td>False</td>\n      <td>False</td>\n      <td>False</td>\n      <td>False</td>\n      <td>False</td>\n      <td>False</td>\n      <td>False</td>\n      <td>False</td>\n      <td>False</td>\n      <td>False</td>\n    </tr>\n    <tr>\n      <th>2020-10-01 01:30:00</th>\n      <td>False</td>\n      <td>False</td>\n      <td>False</td>\n      <td>False</td>\n      <td>False</td>\n      <td>False</td>\n      <td>False</td>\n      <td>False</td>\n      <td>False</td>\n      <td>False</td>\n      <td>False</td>\n      <td>False</td>\n      <td>False</td>\n      <td>False</td>\n      <td>False</td>\n      <td>False</td>\n      <td>False</td>\n      <td>False</td>\n      <td>False</td>\n      <td>False</td>\n    </tr>\n    <tr>\n      <th>2020-10-01 02:00:00</th>\n      <td>False</td>\n      <td>False</td>\n      <td>False</td>\n      <td>False</td>\n      <td>False</td>\n      <td>False</td>\n      <td>False</td>\n      <td>False</td>\n      <td>False</td>\n      <td>False</td>\n      <td>False</td>\n      <td>False</td>\n      <td>False</td>\n      <td>False</td>\n      <td>False</td>\n      <td>False</td>\n      <td>False</td>\n      <td>False</td>\n      <td>False</td>\n      <td>False</td>\n    </tr>\n    <tr>\n      <th>...</th>\n      <td>...</td>\n      <td>...</td>\n      <td>...</td>\n      <td>...</td>\n      <td>...</td>\n      <td>...</td>\n      <td>...</td>\n      <td>...</td>\n      <td>...</td>\n      <td>...</td>\n      <td>...</td>\n      <td>...</td>\n      <td>...</td>\n      <td>...</td>\n      <td>...</td>\n      <td>...</td>\n      <td>...</td>\n      <td>...</td>\n      <td>...</td>\n      <td>...</td>\n    </tr>\n    <tr>\n      <th>2021-04-14 21:30:00</th>\n      <td>False</td>\n      <td>True</td>\n      <td>False</td>\n      <td>True</td>\n      <td>False</td>\n      <td>False</td>\n      <td>False</td>\n      <td>False</td>\n      <td>False</td>\n      <td>False</td>\n      <td>False</td>\n      <td>False</td>\n      <td>False</td>\n      <td>False</td>\n      <td>False</td>\n      <td>False</td>\n      <td>False</td>\n      <td>False</td>\n      <td>False</td>\n      <td>False</td>\n    </tr>\n    <tr>\n      <th>2021-04-14 22:00:00</th>\n      <td>False</td>\n      <td>True</td>\n      <td>False</td>\n      <td>True</td>\n      <td>False</td>\n      <td>False</td>\n      <td>False</td>\n      <td>False</td>\n      <td>False</td>\n      <td>False</td>\n      <td>False</td>\n      <td>False</td>\n      <td>False</td>\n      <td>False</td>\n      <td>False</td>\n      <td>False</td>\n      <td>False</td>\n      <td>False</td>\n      <td>False</td>\n      <td>False</td>\n    </tr>\n    <tr>\n      <th>2021-04-14 22:30:00</th>\n      <td>False</td>\n      <td>True</td>\n      <td>False</td>\n      <td>True</td>\n      <td>False</td>\n      <td>False</td>\n      <td>False</td>\n      <td>False</td>\n      <td>False</td>\n      <td>False</td>\n      <td>False</td>\n      <td>False</td>\n      <td>False</td>\n      <td>False</td>\n      <td>False</td>\n      <td>False</td>\n      <td>False</td>\n      <td>False</td>\n      <td>False</td>\n      <td>False</td>\n    </tr>\n    <tr>\n      <th>2021-04-14 23:00:00</th>\n      <td>False</td>\n      <td>True</td>\n      <td>False</td>\n      <td>True</td>\n      <td>False</td>\n      <td>False</td>\n      <td>False</td>\n      <td>False</td>\n      <td>False</td>\n      <td>False</td>\n      <td>False</td>\n      <td>False</td>\n      <td>False</td>\n      <td>False</td>\n      <td>False</td>\n      <td>False</td>\n      <td>False</td>\n      <td>False</td>\n      <td>False</td>\n      <td>False</td>\n    </tr>\n    <tr>\n      <th>2021-04-14 23:30:00</th>\n      <td>False</td>\n      <td>True</td>\n      <td>False</td>\n      <td>True</td>\n      <td>False</td>\n      <td>False</td>\n      <td>False</td>\n      <td>False</td>\n      <td>False</td>\n      <td>False</td>\n      <td>False</td>\n      <td>False</td>\n      <td>False</td>\n      <td>False</td>\n      <td>False</td>\n      <td>False</td>\n      <td>False</td>\n      <td>False</td>\n      <td>False</td>\n      <td>False</td>\n    </tr>\n  </tbody>\n</table>\n<p>9408 rows × 20 columns</p>\n</div>"
     },
     "execution_count": 1,
     "metadata": {},
     "output_type": "execute_result"
    }
   ],
   "source": [
    "# import os\n",
    "# import sys\n",
    "\n",
    "# sys.dont_write_bytecode = True\n",
    "# os.environ[\"NUMBA_DISABLE_JIT\"] = \"1\"\n",
    "from quantfreedom.levon_qf.strategy_maker_cls_levon import StrategyMaker\n",
    "\n",
    "import numpy as np\n",
    "import pandas as pd\n",
    "\n",
    "from quantfreedom.data.data_dl import data_download_from_ccxt\n",
    "from quantfreedom.base import backtest_df_only\n",
    "from quantfreedom.nb.simulate import simulate_up_to_6_nb\n",
    "from quantfreedom.evaluators.evaluators import is_below\n",
    "from quantfreedom.indicators.talib_ind import from_talib\n",
    "from quantfreedom.enums.enums import (\n",
    "    LeverageMode,\n",
    "    SizeType,\n",
    "    OrderType,\n",
    "    CandleBody,\n",
    ")\n",
    "from quantfreedom.plotting.strat_dashboard import strat_dashboard\n",
    "\n",
    "np.set_printoptions(formatter={\"float_kind\": \"{:.2f}\".format})\n",
    "pd.options.display.float_format = \"{:,.2f}\".format\n",
    "\n",
    "# prices = data_download_from_ccxt(\n",
    "#     exchange='bybit',\n",
    "#     start='2020-10-01T00:00:00Z',\n",
    "#     end='2021-04-15T00:00:00Z',\n",
    "#     symbols=['BTCUSDT', 'ETHUSD'],\n",
    "#     timeframe='30m',\n",
    "# )\n",
    "sm = StrategyMaker()\n",
    "# prices.to_hdf(\"yt_prices.hd5\", key='data')\n",
    "price_data = pd.read_hdf('../tests/data/prices.hd5')\n",
    "rsi_ind = sm.from_talib(\n",
    "    func_name=\"rsi\",\n",
    "    price_data=price_data,\n",
    "    cart_product=False,\n",
    "    combos=False,\n",
    "    timeperiod=[15, 30],\n",
    ")\n",
    "entries = rsi_ind.is_below(\n",
    "    user_args=[40, 50],\n",
    "    cand_ohlc=\"close\",\n",
    ")\n",
    "sm.combined_data_frame()"
   ]
  },
  {
   "cell_type": "code",
   "execution_count": 2,
   "outputs": [
    {
     "name": "stdout",
     "output_type": "stream",
     "text": [
      "Checking static variables for errors or conflicts.\n",
      "Turning all variables into arrays.\n",
      "Checking arrays for errors or conflicts ... the backtest will begin shortly, please hold.\n",
      "Creating cartesian product ... after this the backtest will start, I promise :).\n",
      "\n",
      "Starting the backtest now ... and also here are some stats for your backtest.\n",
      "\n",
      "Total symbols: 5\n",
      "Total indicator settings per symbol: 4\n",
      "Total indicator settings to test: 20\n",
      "Total order settings per symbol: 4\n",
      "Total order settings to test: 20\n",
      "Total candles per symbol: 9,408\n",
      "Total candles to test: 752,640\n",
      "\n",
      "Total combinations to test: 80\n"
     ]
    }
   ],
   "source": [
    "strat_results_df, settings_results_df = sm.backtest_df(\n",
    "    prices=price_data,\n",
    "    equity=1000.0,\n",
    "    fee_pct=0.06,\n",
    "    mmr_pct=0.5,\n",
    "    lev_mode=LeverageMode.LeastFreeCashUsed,\n",
    "    size_type=SizeType.RiskPercentOfAccount,\n",
    "    order_type=OrderType.LongEntry,\n",
    "    max_equity_risk_pct=np.arange(7, 8.1, 1),\n",
    "    risk_rewards=4,\n",
    "    size_pct=1.0,\n",
    "    # sl_pcts=np.arange(1,3.1,1),\n",
    "    tsl_true_or_false=True,\n",
    "    tsl_pcts_init=8,\n",
    "    tsl_based_on=CandleBody.low,\n",
    "    tsl_trail_by_pct=8,\n",
    "    tsl_when_pct_from_avg_entry=np.arange(3, 4.1, 1),\n",
    "    gains_pct_filter=150,\n",
    "    upside_filter=0.6,\n",
    "    divide_records_array_size_by=2,\n",
    ")"
   ],
   "metadata": {
    "collapsed": false
   }
  },
  {
   "cell_type": "code",
   "execution_count": 3,
   "outputs": [
    {
     "data": {
      "text/plain": "     symbol  entries_col  or_set  total_trades  gains_pct  win_rate  \\\n24   ETHUSD           11       2         49.00     257.21     46.94   \n22   ETHUSD           11       0         49.00     208.88     46.94   \n20   ETHUSD           10       2         35.00     251.22     48.57   \n18   ETHUSD           10       0         36.00     212.94     47.22   \n16   ETHUSD            9       2         52.00     234.41     48.08   \n25   ETHUSD           11       3         48.00     265.85     47.92   \n21   ETHUSD           10       3         34.00     261.88     50.00   \n23   ETHUSD           11       1         48.00     211.14     47.92   \n14   ETHUSD            9       0         53.00     185.99     47.17   \n17   ETHUSD            9       3         51.00     242.50     49.02   \n19   ETHUSD           10       1         36.00     195.26     47.22   \n12   ETHUSD            8       0         46.00     160.37     41.30   \n13   ETHUSD            8       1         45.00     173.78     42.22   \n15   ETHUSD            9       1         52.00     188.08     48.08   \n10  BTCUSDT            3       2         30.00     262.19     50.00   \n11  BTCUSDT            3       3         30.00     262.19     50.00   \n6   BTCUSDT            1       2         31.00     233.29     48.39   \n7   BTCUSDT            1       3         31.00     233.29     48.39   \n0   BTCUSDT            0       0         30.00     204.31     46.67   \n1   BTCUSDT            0       1         30.00     204.31     46.67   \n2   BTCUSDT            0       2         30.00     232.71     46.67   \n4   BTCUSDT            1       0         33.00     185.45     45.45   \n5   BTCUSDT            1       1         33.00     185.45     45.45   \n8   BTCUSDT            3       0         32.00     189.84     46.88   \n9   BTCUSDT            3       1         32.00     189.84     46.88   \n26  LTCUSDT           15       0         60.00     157.39     46.67   \n27  LTCUSDT           15       2         60.00     186.86     45.00   \n3   BTCUSDT            0       3         29.00     212.25     48.28   \n\n    to_the_upside  total_pnl  ending_eq  \n24           0.86   2,572.06   3,572.06  \n22           0.85   2,088.77   3,088.77  \n20           0.85   2,512.17   3,512.17  \n18           0.85   2,129.45   3,129.45  \n16           0.85   2,344.13   3,344.13  \n25           0.84   2,658.47   3,658.47  \n21           0.83   2,618.76   3,618.76  \n23           0.83   2,111.35   3,111.35  \n14           0.83   1,859.85   2,859.85  \n17           0.83   2,425.02   3,425.02  \n19           0.82   1,952.60   2,952.60  \n12           0.82   1,603.69   2,603.69  \n13           0.81   1,737.84   2,737.84  \n15           0.80   1,880.77   2,880.77  \n10           0.74   2,621.92   3,621.92  \n11           0.74   2,621.92   3,621.92  \n6            0.70   2,332.93   3,332.93  \n7            0.70   2,332.93   3,332.93  \n0            0.68   2,043.11   3,043.11  \n1            0.68   2,043.11   3,043.11  \n2            0.64   2,327.10   3,327.10  \n4            0.64   1,854.50   2,854.50  \n5            0.64   1,854.50   2,854.50  \n8            0.64   1,898.45   2,898.45  \n9            0.64   1,898.45   2,898.45  \n26           0.63   1,573.86   2,573.85  \n27           0.61   1,868.60   2,868.60  \n3            0.61   2,122.53   3,122.53  ",
      "text/html": "<div>\n<style scoped>\n    .dataframe tbody tr th:only-of-type {\n        vertical-align: middle;\n    }\n\n    .dataframe tbody tr th {\n        vertical-align: top;\n    }\n\n    .dataframe thead th {\n        text-align: right;\n    }\n</style>\n<table border=\"1\" class=\"dataframe\">\n  <thead>\n    <tr style=\"text-align: right;\">\n      <th></th>\n      <th>symbol</th>\n      <th>entries_col</th>\n      <th>or_set</th>\n      <th>total_trades</th>\n      <th>gains_pct</th>\n      <th>win_rate</th>\n      <th>to_the_upside</th>\n      <th>total_pnl</th>\n      <th>ending_eq</th>\n    </tr>\n  </thead>\n  <tbody>\n    <tr>\n      <th>24</th>\n      <td>ETHUSD</td>\n      <td>11</td>\n      <td>2</td>\n      <td>49.00</td>\n      <td>257.21</td>\n      <td>46.94</td>\n      <td>0.86</td>\n      <td>2,572.06</td>\n      <td>3,572.06</td>\n    </tr>\n    <tr>\n      <th>22</th>\n      <td>ETHUSD</td>\n      <td>11</td>\n      <td>0</td>\n      <td>49.00</td>\n      <td>208.88</td>\n      <td>46.94</td>\n      <td>0.85</td>\n      <td>2,088.77</td>\n      <td>3,088.77</td>\n    </tr>\n    <tr>\n      <th>20</th>\n      <td>ETHUSD</td>\n      <td>10</td>\n      <td>2</td>\n      <td>35.00</td>\n      <td>251.22</td>\n      <td>48.57</td>\n      <td>0.85</td>\n      <td>2,512.17</td>\n      <td>3,512.17</td>\n    </tr>\n    <tr>\n      <th>18</th>\n      <td>ETHUSD</td>\n      <td>10</td>\n      <td>0</td>\n      <td>36.00</td>\n      <td>212.94</td>\n      <td>47.22</td>\n      <td>0.85</td>\n      <td>2,129.45</td>\n      <td>3,129.45</td>\n    </tr>\n    <tr>\n      <th>16</th>\n      <td>ETHUSD</td>\n      <td>9</td>\n      <td>2</td>\n      <td>52.00</td>\n      <td>234.41</td>\n      <td>48.08</td>\n      <td>0.85</td>\n      <td>2,344.13</td>\n      <td>3,344.13</td>\n    </tr>\n    <tr>\n      <th>25</th>\n      <td>ETHUSD</td>\n      <td>11</td>\n      <td>3</td>\n      <td>48.00</td>\n      <td>265.85</td>\n      <td>47.92</td>\n      <td>0.84</td>\n      <td>2,658.47</td>\n      <td>3,658.47</td>\n    </tr>\n    <tr>\n      <th>21</th>\n      <td>ETHUSD</td>\n      <td>10</td>\n      <td>3</td>\n      <td>34.00</td>\n      <td>261.88</td>\n      <td>50.00</td>\n      <td>0.83</td>\n      <td>2,618.76</td>\n      <td>3,618.76</td>\n    </tr>\n    <tr>\n      <th>23</th>\n      <td>ETHUSD</td>\n      <td>11</td>\n      <td>1</td>\n      <td>48.00</td>\n      <td>211.14</td>\n      <td>47.92</td>\n      <td>0.83</td>\n      <td>2,111.35</td>\n      <td>3,111.35</td>\n    </tr>\n    <tr>\n      <th>14</th>\n      <td>ETHUSD</td>\n      <td>9</td>\n      <td>0</td>\n      <td>53.00</td>\n      <td>185.99</td>\n      <td>47.17</td>\n      <td>0.83</td>\n      <td>1,859.85</td>\n      <td>2,859.85</td>\n    </tr>\n    <tr>\n      <th>17</th>\n      <td>ETHUSD</td>\n      <td>9</td>\n      <td>3</td>\n      <td>51.00</td>\n      <td>242.50</td>\n      <td>49.02</td>\n      <td>0.83</td>\n      <td>2,425.02</td>\n      <td>3,425.02</td>\n    </tr>\n    <tr>\n      <th>19</th>\n      <td>ETHUSD</td>\n      <td>10</td>\n      <td>1</td>\n      <td>36.00</td>\n      <td>195.26</td>\n      <td>47.22</td>\n      <td>0.82</td>\n      <td>1,952.60</td>\n      <td>2,952.60</td>\n    </tr>\n    <tr>\n      <th>12</th>\n      <td>ETHUSD</td>\n      <td>8</td>\n      <td>0</td>\n      <td>46.00</td>\n      <td>160.37</td>\n      <td>41.30</td>\n      <td>0.82</td>\n      <td>1,603.69</td>\n      <td>2,603.69</td>\n    </tr>\n    <tr>\n      <th>13</th>\n      <td>ETHUSD</td>\n      <td>8</td>\n      <td>1</td>\n      <td>45.00</td>\n      <td>173.78</td>\n      <td>42.22</td>\n      <td>0.81</td>\n      <td>1,737.84</td>\n      <td>2,737.84</td>\n    </tr>\n    <tr>\n      <th>15</th>\n      <td>ETHUSD</td>\n      <td>9</td>\n      <td>1</td>\n      <td>52.00</td>\n      <td>188.08</td>\n      <td>48.08</td>\n      <td>0.80</td>\n      <td>1,880.77</td>\n      <td>2,880.77</td>\n    </tr>\n    <tr>\n      <th>10</th>\n      <td>BTCUSDT</td>\n      <td>3</td>\n      <td>2</td>\n      <td>30.00</td>\n      <td>262.19</td>\n      <td>50.00</td>\n      <td>0.74</td>\n      <td>2,621.92</td>\n      <td>3,621.92</td>\n    </tr>\n    <tr>\n      <th>11</th>\n      <td>BTCUSDT</td>\n      <td>3</td>\n      <td>3</td>\n      <td>30.00</td>\n      <td>262.19</td>\n      <td>50.00</td>\n      <td>0.74</td>\n      <td>2,621.92</td>\n      <td>3,621.92</td>\n    </tr>\n    <tr>\n      <th>6</th>\n      <td>BTCUSDT</td>\n      <td>1</td>\n      <td>2</td>\n      <td>31.00</td>\n      <td>233.29</td>\n      <td>48.39</td>\n      <td>0.70</td>\n      <td>2,332.93</td>\n      <td>3,332.93</td>\n    </tr>\n    <tr>\n      <th>7</th>\n      <td>BTCUSDT</td>\n      <td>1</td>\n      <td>3</td>\n      <td>31.00</td>\n      <td>233.29</td>\n      <td>48.39</td>\n      <td>0.70</td>\n      <td>2,332.93</td>\n      <td>3,332.93</td>\n    </tr>\n    <tr>\n      <th>0</th>\n      <td>BTCUSDT</td>\n      <td>0</td>\n      <td>0</td>\n      <td>30.00</td>\n      <td>204.31</td>\n      <td>46.67</td>\n      <td>0.68</td>\n      <td>2,043.11</td>\n      <td>3,043.11</td>\n    </tr>\n    <tr>\n      <th>1</th>\n      <td>BTCUSDT</td>\n      <td>0</td>\n      <td>1</td>\n      <td>30.00</td>\n      <td>204.31</td>\n      <td>46.67</td>\n      <td>0.68</td>\n      <td>2,043.11</td>\n      <td>3,043.11</td>\n    </tr>\n    <tr>\n      <th>2</th>\n      <td>BTCUSDT</td>\n      <td>0</td>\n      <td>2</td>\n      <td>30.00</td>\n      <td>232.71</td>\n      <td>46.67</td>\n      <td>0.64</td>\n      <td>2,327.10</td>\n      <td>3,327.10</td>\n    </tr>\n    <tr>\n      <th>4</th>\n      <td>BTCUSDT</td>\n      <td>1</td>\n      <td>0</td>\n      <td>33.00</td>\n      <td>185.45</td>\n      <td>45.45</td>\n      <td>0.64</td>\n      <td>1,854.50</td>\n      <td>2,854.50</td>\n    </tr>\n    <tr>\n      <th>5</th>\n      <td>BTCUSDT</td>\n      <td>1</td>\n      <td>1</td>\n      <td>33.00</td>\n      <td>185.45</td>\n      <td>45.45</td>\n      <td>0.64</td>\n      <td>1,854.50</td>\n      <td>2,854.50</td>\n    </tr>\n    <tr>\n      <th>8</th>\n      <td>BTCUSDT</td>\n      <td>3</td>\n      <td>0</td>\n      <td>32.00</td>\n      <td>189.84</td>\n      <td>46.88</td>\n      <td>0.64</td>\n      <td>1,898.45</td>\n      <td>2,898.45</td>\n    </tr>\n    <tr>\n      <th>9</th>\n      <td>BTCUSDT</td>\n      <td>3</td>\n      <td>1</td>\n      <td>32.00</td>\n      <td>189.84</td>\n      <td>46.88</td>\n      <td>0.64</td>\n      <td>1,898.45</td>\n      <td>2,898.45</td>\n    </tr>\n    <tr>\n      <th>26</th>\n      <td>LTCUSDT</td>\n      <td>15</td>\n      <td>0</td>\n      <td>60.00</td>\n      <td>157.39</td>\n      <td>46.67</td>\n      <td>0.63</td>\n      <td>1,573.86</td>\n      <td>2,573.85</td>\n    </tr>\n    <tr>\n      <th>27</th>\n      <td>LTCUSDT</td>\n      <td>15</td>\n      <td>2</td>\n      <td>60.00</td>\n      <td>186.86</td>\n      <td>45.00</td>\n      <td>0.61</td>\n      <td>1,868.60</td>\n      <td>2,868.60</td>\n    </tr>\n    <tr>\n      <th>3</th>\n      <td>BTCUSDT</td>\n      <td>0</td>\n      <td>3</td>\n      <td>29.00</td>\n      <td>212.25</td>\n      <td>48.28</td>\n      <td>0.61</td>\n      <td>2,122.53</td>\n      <td>3,122.53</td>\n    </tr>\n  </tbody>\n</table>\n</div>"
     },
     "execution_count": 3,
     "metadata": {},
     "output_type": "execute_result"
    }
   ],
   "source": [
    "strat_results_df\n"
   ],
   "metadata": {
    "collapsed": false
   }
  },
  {
   "cell_type": "code",
   "execution_count": 6,
   "outputs": [
    {
     "data": {
      "text/plain": "(symbol                BTCUSDT                                 ETHUSD           \\\n candle_info              open      high       low     close     open     high   \n open_time                                                                       \n 2020-10-01 00:00:00 10,759.00 10,817.50 10,759.00 10,790.00   359.85   361.45   \n 2020-10-01 00:30:00 10,790.00 10,790.50 10,775.00 10,777.00   358.95   359.75   \n 2020-10-01 01:00:00 10,777.00 10,793.00 10,777.00 10,793.00   359.25   359.80   \n 2020-10-01 01:30:00 10,793.00 10,836.00 10,792.50 10,822.00   359.75   361.40   \n 2020-10-01 02:00:00 10,822.00 10,841.50 10,808.00 10,808.50   361.20   364.05   \n ...                       ...       ...       ...       ...      ...      ...   \n 2021-04-14 21:30:00 62,703.50 62,812.50 62,615.50 62,795.00 2,406.20 2,440.00   \n 2021-04-14 22:00:00 62,795.00 62,825.00 62,591.00 62,680.00 2,434.05 2,445.00   \n 2021-04-14 22:30:00 62,680.00 62,993.00 62,680.00 62,849.50 2,427.00 2,438.60   \n 2021-04-14 23:00:00 62,849.50 62,999.00 62,750.00 62,999.00 2,431.30 2,450.00   \n 2021-04-14 23:30:00 62,999.00 62,999.00 62,606.00 62,921.00 2,445.95 2,445.95   \n \n symbol                                 \n candle_info              low    close  \n open_time                              \n 2020-10-01 00:00:00   358.85   358.95  \n 2020-10-01 00:30:00   358.95   359.25  \n 2020-10-01 01:00:00   358.80   359.75  \n 2020-10-01 01:30:00   359.75   361.20  \n 2020-10-01 02:00:00   361.20   362.95  \n ...                      ...      ...  \n 2021-04-14 21:30:00 2,397.20 2,434.05  \n 2021-04-14 22:00:00 2,418.65 2,427.00  \n 2021-04-14 22:30:00 2,423.50 2,431.30  \n 2021-04-14 23:00:00 2,431.30 2,445.95  \n 2021-04-14 23:30:00 2,417.40 2,438.20  \n \n [9408 rows x 8 columns],\n symbol              BTCUSDT ETHUSD\n RSI_timeperiod           15     30\n RSI_is_below             40     50\n open_time                         \n 2020-10-01 00:00:00   False  False\n 2020-10-01 00:30:00   False  False\n 2020-10-01 01:00:00   False  False\n 2020-10-01 01:30:00   False  False\n 2020-10-01 02:00:00   False  False\n ...                     ...    ...\n 2021-04-14 21:30:00   False  False\n 2021-04-14 22:00:00   False  False\n 2021-04-14 22:30:00   False  False\n 2021-04-14 23:00:00   False  False\n 2021-04-14 23:30:00   False  False\n \n [9408 rows x 2 columns],\n Arrays1dTuple(leverage=nan, max_equity_risk_pct=array([7.00, 7.00]), max_equity_risk_value=nan, risk_rewards=array([4.00, 4.00]), size_pct=array([1.00, 1.00]), size_value=nan, sl_based_on_add_pct=nan, sl_based_on=nan, sl_pcts=nan, sl_to_be_based_on=nan, sl_to_be_trail_by_when_pct_from_avg_entry=nan, sl_to_be_when_pct_from_avg_entry=nan, sl_to_be_zero_or_entry=nan, tp_pcts=nan, tsl_based_on=array([2.00, 2.00]), tsl_pcts_init=array([8.00, 8.00]), tsl_trail_by_pct=array([8.00, 8.00]), tsl_when_pct_from_avg_entry=array([4.00, 3.00])))"
     },
     "execution_count": 6,
     "metadata": {},
     "output_type": "execute_result"
    }
   ],
   "source": [
    "sm.select_row_and_simulate([1,22])"
   ],
   "metadata": {
    "collapsed": false
   }
  },
  {
   "cell_type": "code",
   "execution_count": 4,
   "outputs": [],
   "source": [],
   "metadata": {
    "collapsed": false
   }
  }
 ],
 "metadata": {
  "kernelspec": {
   "name": "venv",
   "language": "python",
   "display_name": "Python (venv)"
  },
  "language_info": {
   "codemirror_mode": {
    "name": "ipython",
    "version": 2
   },
   "file_extension": ".py",
   "mimetype": "text/x-python",
   "name": "python",
   "nbconvert_exporter": "python",
   "pygments_lexer": "ipython2",
   "version": "2.7.6"
  }
 },
 "nbformat": 4,
 "nbformat_minor": 0
}
