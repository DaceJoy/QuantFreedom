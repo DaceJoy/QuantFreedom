{
 "cells": [
  {
   "cell_type": "code",
   "execution_count": 1,
   "metadata": {},
   "outputs": [],
   "source": [
    "from quantfreedom import generate_candles\n",
    "from quantfreedom.levon_qf.eval_lev import is_below_lev\n",
    "from quantfreedom.levon_qf.talib_ind_levon import from_talib"
   ]
  },
  {
   "cell_type": "code",
   "execution_count": 2,
   "metadata": {},
   "outputs": [],
   "source": [
    "price_data = generate_candles(\n",
    "    number_of_candles=200,\n",
    "    plot_candles=False,\n",
    "    seed=None,\n",
    ")\n",
    "rsi_data = from_talib(\n",
    "     func_name=\"rsi\",\n",
    "     price_data=price_data,\n",
    "    timeperiod=15,\n",
    "    plot_results=False,\n",
    "    # price=\"low\",\n",
    ")\n",
    "rsi_ema_ind = from_talib(\n",
    "    func_name='ema',\n",
    "    indicator_data=rsi_data.data,\n",
    "    cart_product=False,\n",
    "    combos=False,\n",
    "    timeperiod=30,\n",
    ")"
   ]
  },
  {
   "cell_type": "code",
   "execution_count": 3,
   "metadata": {},
   "outputs": [
    {
     "ename": "KeyError",
     "evalue": "'Key length (3) exceeds index depth (2)'",
     "output_type": "error",
     "traceback": [
      "\u001b[1;31m---------------------------------------------------------------------------\u001b[0m",
      "\u001b[1;31mKeyError\u001b[0m                                  Traceback (most recent call last)",
      "Cell \u001b[1;32mIn[3], line 2\u001b[0m\n\u001b[0;32m      1\u001b[0m rsi_data\u001b[39m.\u001b[39mis_below(user_args\u001b[39m=\u001b[39m\u001b[39m45\u001b[39m)\n\u001b[1;32m----> 2\u001b[0m rsi_data\u001b[39m.\u001b[39;49mis_below(indicator_data\u001b[39m=\u001b[39;49mrsi_ema_ind\u001b[39m.\u001b[39;49mdata)\n",
      "File \u001b[1;32me:\\coding\\backtesters\\quantfreedom\\quantfreedom\\levon_qf\\indicators_cls.py:42\u001b[0m, in \u001b[0;36mIndicator.is_below\u001b[1;34m(self, user_args, indicator_data, prices, cand_ohlc, plot_results)\u001b[0m\n\u001b[0;32m     36\u001b[0m \u001b[39mdef\u001b[39;00m \u001b[39mis_below\u001b[39m(\u001b[39mself\u001b[39m,\n\u001b[0;32m     37\u001b[0m              user_args: Union[\u001b[39mlist\u001b[39m[\u001b[39mint\u001b[39m, \u001b[39mfloat\u001b[39m], \u001b[39mint\u001b[39m, \u001b[39mfloat\u001b[39m, Array1d] \u001b[39m=\u001b[39m \u001b[39mNone\u001b[39;00m,\n\u001b[0;32m     38\u001b[0m              indicator_data: pdFrame \u001b[39m=\u001b[39m \u001b[39mNone\u001b[39;00m,\n\u001b[0;32m     39\u001b[0m              prices: pdFrame \u001b[39m=\u001b[39m \u001b[39mNone\u001b[39;00m,\n\u001b[0;32m     40\u001b[0m              cand_ohlc: \u001b[39mstr\u001b[39m \u001b[39m=\u001b[39m \u001b[39mNone\u001b[39;00m,\n\u001b[0;32m     41\u001b[0m              plot_results: \u001b[39mbool\u001b[39m \u001b[39m=\u001b[39m \u001b[39mFalse\u001b[39;00m, ):\n\u001b[1;32m---> 42\u001b[0m     data \u001b[39m=\u001b[39m  is_below_lev(\u001b[39mself\u001b[39;49m\u001b[39m.\u001b[39;49mdata,\n\u001b[0;32m     43\u001b[0m                                                        user_args,\n\u001b[0;32m     44\u001b[0m                                                        indicator_data,\n\u001b[0;32m     45\u001b[0m                                                        prices,\n\u001b[0;32m     46\u001b[0m                                                        cand_ohlc,\n\u001b[0;32m     47\u001b[0m                                                        plot_results)\n\u001b[0;32m     48\u001b[0m     \u001b[39mself\u001b[39m\u001b[39m.\u001b[39msave_values(\u001b[39mf\u001b[39m\u001b[39m'\u001b[39m\u001b[39mis_below\u001b[39m\u001b[39m{\u001b[39;00m\u001b[39mself\u001b[39m\u001b[39m.\u001b[39mcounter\u001b[39m}\u001b[39;00m\u001b[39m'\u001b[39m, data)\n\u001b[0;32m     49\u001b[0m     \u001b[39mreturn\u001b[39;00m data\n",
      "File \u001b[1;32me:\\coding\\backtesters\\quantfreedom\\quantfreedom\\levon_qf\\eval_lev.py:928\u001b[0m, in \u001b[0;36mis_below_lev\u001b[1;34m(want_to_evaluate, user_args, indicator_data, price_data, cand_ohlc, plot_results)\u001b[0m\n\u001b[0;32m    926\u001b[0m \u001b[39mfor\u001b[39;00m level \u001b[39min\u001b[39;00m indicator_data_levels:\n\u001b[0;32m    927\u001b[0m     temp_indicator_values \u001b[39m=\u001b[39m indicator_data[level]\u001b[39m.\u001b[39mvalues\n\u001b[1;32m--> 928\u001b[0m     temp_evaluate_values \u001b[39m=\u001b[39m want_to_evaluate[level]\u001b[39m.\u001b[39mvalues\u001b[39m.\u001b[39mT\n\u001b[0;32m    930\u001b[0m     \u001b[39mfor\u001b[39;00m values \u001b[39min\u001b[39;00m temp_evaluate_values:\n\u001b[0;32m    931\u001b[0m         eval_array[:, eval_array_counter] \u001b[39m=\u001b[39m np\u001b[39m.\u001b[39mwhere(\n\u001b[0;32m    932\u001b[0m             values \u001b[39m<\u001b[39m temp_indicator_values,\n\u001b[0;32m    933\u001b[0m             \u001b[39mTrue\u001b[39;00m,\n\u001b[0;32m    934\u001b[0m             \u001b[39mFalse\u001b[39;00m,\n\u001b[0;32m    935\u001b[0m         )\n",
      "File \u001b[1;32me:\\Coding\\virtual environments\\qfFree\\lib\\site-packages\\pandas\\core\\frame.py:3806\u001b[0m, in \u001b[0;36mDataFrame.__getitem__\u001b[1;34m(self, key)\u001b[0m\n\u001b[0;32m   3804\u001b[0m \u001b[39mif\u001b[39;00m is_single_key:\n\u001b[0;32m   3805\u001b[0m     \u001b[39mif\u001b[39;00m \u001b[39mself\u001b[39m\u001b[39m.\u001b[39mcolumns\u001b[39m.\u001b[39mnlevels \u001b[39m>\u001b[39m \u001b[39m1\u001b[39m:\n\u001b[1;32m-> 3806\u001b[0m         \u001b[39mreturn\u001b[39;00m \u001b[39mself\u001b[39;49m\u001b[39m.\u001b[39;49m_getitem_multilevel(key)\n\u001b[0;32m   3807\u001b[0m     indexer \u001b[39m=\u001b[39m \u001b[39mself\u001b[39m\u001b[39m.\u001b[39mcolumns\u001b[39m.\u001b[39mget_loc(key)\n\u001b[0;32m   3808\u001b[0m     \u001b[39mif\u001b[39;00m is_integer(indexer):\n",
      "File \u001b[1;32me:\\Coding\\virtual environments\\qfFree\\lib\\site-packages\\pandas\\core\\frame.py:3857\u001b[0m, in \u001b[0;36mDataFrame._getitem_multilevel\u001b[1;34m(self, key)\u001b[0m\n\u001b[0;32m   3855\u001b[0m \u001b[39mdef\u001b[39;00m \u001b[39m_getitem_multilevel\u001b[39m(\u001b[39mself\u001b[39m, key):\n\u001b[0;32m   3856\u001b[0m     \u001b[39m# self.columns is a MultiIndex\u001b[39;00m\n\u001b[1;32m-> 3857\u001b[0m     loc \u001b[39m=\u001b[39m \u001b[39mself\u001b[39;49m\u001b[39m.\u001b[39;49mcolumns\u001b[39m.\u001b[39;49mget_loc(key)\n\u001b[0;32m   3858\u001b[0m     \u001b[39mif\u001b[39;00m \u001b[39misinstance\u001b[39m(loc, (\u001b[39mslice\u001b[39m, np\u001b[39m.\u001b[39mndarray)):\n\u001b[0;32m   3859\u001b[0m         new_columns \u001b[39m=\u001b[39m \u001b[39mself\u001b[39m\u001b[39m.\u001b[39mcolumns[loc]\n",
      "File \u001b[1;32me:\\Coding\\virtual environments\\qfFree\\lib\\site-packages\\pandas\\core\\indexes\\multi.py:2921\u001b[0m, in \u001b[0;36mMultiIndex.get_loc\u001b[1;34m(self, key, method)\u001b[0m\n\u001b[0;32m   2919\u001b[0m keylen \u001b[39m=\u001b[39m \u001b[39mlen\u001b[39m(key)\n\u001b[0;32m   2920\u001b[0m \u001b[39mif\u001b[39;00m \u001b[39mself\u001b[39m\u001b[39m.\u001b[39mnlevels \u001b[39m<\u001b[39m keylen:\n\u001b[1;32m-> 2921\u001b[0m     \u001b[39mraise\u001b[39;00m \u001b[39mKeyError\u001b[39;00m(\n\u001b[0;32m   2922\u001b[0m         \u001b[39mf\u001b[39m\u001b[39m\"\u001b[39m\u001b[39mKey length (\u001b[39m\u001b[39m{\u001b[39;00mkeylen\u001b[39m}\u001b[39;00m\u001b[39m) exceeds index depth (\u001b[39m\u001b[39m{\u001b[39;00m\u001b[39mself\u001b[39m\u001b[39m.\u001b[39mnlevels\u001b[39m}\u001b[39;00m\u001b[39m)\u001b[39m\u001b[39m\"\u001b[39m\n\u001b[0;32m   2923\u001b[0m     )\n\u001b[0;32m   2925\u001b[0m \u001b[39mif\u001b[39;00m keylen \u001b[39m==\u001b[39m \u001b[39mself\u001b[39m\u001b[39m.\u001b[39mnlevels \u001b[39mand\u001b[39;00m \u001b[39mself\u001b[39m\u001b[39m.\u001b[39mis_unique:\n\u001b[0;32m   2926\u001b[0m     \u001b[39mtry\u001b[39;00m:\n",
      "\u001b[1;31mKeyError\u001b[0m: 'Key length (3) exceeds index depth (2)'"
     ]
    }
   ],
   "source": [
    "rsi_data.is_below(user_args=45)\n",
    "rsi_data.is_below(indicator_data=rsi_ema_ind.data)"
   ]
  }
 ],
 "metadata": {
  "kernelspec": {
   "display_name": "qfFree",
   "language": "python",
   "name": "python3"
  },
  "language_info": {
   "codemirror_mode": {
    "name": "ipython",
    "version": 3
   },
   "file_extension": ".py",
   "mimetype": "text/x-python",
   "name": "python",
   "nbconvert_exporter": "python",
   "pygments_lexer": "ipython3",
   "version": "3.10.10"
  },
  "orig_nbformat": 4
 },
 "nbformat": 4,
 "nbformat_minor": 2
}
