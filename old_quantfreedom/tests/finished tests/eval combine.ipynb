{
  "cells": [
    {
      "cell_type": "code",
      "execution_count": 1,
      "metadata": {},
      "outputs": [],
      "source": [
        "import pandas as pd\n",
        "from quantfreedom.evaluators.evaluators import _is_below\n",
        "from quantfreedom.indicators.talib_ind import from_talib\n",
        "\n",
        "%load_ext autoreload\n",
        "%autoreload 2\n",
        "\n",
        "prices = pd.read_hdf('../data/prices.hd5')"
      ]
    },
    {
      "cell_type": "code",
      "execution_count": 2,
      "metadata": {},
      "outputs": [],
      "source": [
        "rsi_ind = from_talib(\n",
        "    func_name='rsi',\n",
        "    price_data=prices,\n",
        "    parameters={'timeperiod':[15, 30]},\n",
        "    nickname='rsi',\n",
        ")\n",
        "ema_ind = from_talib(\n",
        "    func_name='ema',\n",
        "    price_data=prices,\n",
        "    parameters={'timeperiod':[100, 200, 300]},\n",
        "    nickname='ema_price',\n",
        ")\n",
        "ema_rsi_ind = from_talib(\n",
        "    func_name='ema',\n",
        "    indicator_data=rsi_ind.data,\n",
        "    parameters={'timeperiod': [55, 75, 105]},\n",
        "    nickname='ema_rsi'\n",
        ")"
      ]
    },
    {
      "cell_type": "code",
      "execution_count": 3,
      "metadata": {},
      "outputs": [
        {
          "ename": "ValueError",
          "evalue": "Length of names must match number of levels in MultiIndex.",
          "output_type": "error",
          "traceback": [
            "\u001b[1;31m---------------------------------------------------------------------------\u001b[0m",
            "\u001b[1;31mValueError\u001b[0m                                Traceback (most recent call last)",
            "Cell \u001b[1;32mIn[3], line 11\u001b[0m\n\u001b[0;32m      1\u001b[0m ema_is_below \u001b[39m=\u001b[39m _is_below(\n\u001b[0;32m      2\u001b[0m     want_to_evaluate\u001b[39m=\u001b[39mema_ind\u001b[39m.\u001b[39mdata,\n\u001b[0;32m      3\u001b[0m     price_data\u001b[39m=\u001b[39mprices,\n\u001b[0;32m      4\u001b[0m     candle_ohlc\u001b[39m=\u001b[39m\u001b[39m\"\u001b[39m\u001b[39mclose\u001b[39m\u001b[39m\"\u001b[39m,\n\u001b[0;32m      5\u001b[0m )\n\u001b[0;32m      6\u001b[0m rsi_is_below \u001b[39m=\u001b[39m _is_below(\n\u001b[0;32m      7\u001b[0m     want_to_evaluate\u001b[39m=\u001b[39mrsi_ind\u001b[39m.\u001b[39mdata,\n\u001b[0;32m      8\u001b[0m     user_args\u001b[39m=\u001b[39m[\u001b[39m40\u001b[39m, \u001b[39m60\u001b[39m],\n\u001b[0;32m      9\u001b[0m     candle_ohlc\u001b[39m=\u001b[39m\u001b[39m\"\u001b[39m\u001b[39mclose\u001b[39m\u001b[39m\"\u001b[39m,\n\u001b[0;32m     10\u001b[0m )\n\u001b[1;32m---> 11\u001b[0m ema_is_below_rsi \u001b[39m=\u001b[39m _is_below(\n\u001b[0;32m     12\u001b[0m     want_to_evaluate\u001b[39m=\u001b[39;49mema_rsi_ind\u001b[39m.\u001b[39;49mdata,\n\u001b[0;32m     13\u001b[0m     indicator_data\u001b[39m=\u001b[39;49mrsi_ind\u001b[39m.\u001b[39;49mdata,\n\u001b[0;32m     14\u001b[0m )\n",
            "File \u001b[1;32me:\\coding\\backtesters\\quantfreedom\\quantfreedom\\evaluators\\evaluators.py:834\u001b[0m, in \u001b[0;36m_is_below\u001b[1;34m(want_to_evaluate, user_args, indicator_data, price_data, candle_ohlc)\u001b[0m\n\u001b[0;32m    831\u001b[0m         \u001b[39mfor\u001b[39;00m \u001b[39mid\u001b[39m \u001b[39min\u001b[39;00m indicator_data[symbol]\u001b[39m.\u001b[39mcolumns\u001b[39m.\u001b[39mvalues:\n\u001b[0;32m    832\u001b[0m             index_values\u001b[39m.\u001b[39mappend((symbol, ) \u001b[39m+\u001b[39m \u001b[39mid\u001b[39m \u001b[39m+\u001b[39m wte \u001b[39m+\u001b[39m (nickname_indicator,))\n\u001b[1;32m--> 834\u001b[0m is_below_dfs \u001b[39m=\u001b[39m pd\u001b[39m.\u001b[39mDataFrame(index\u001b[39m=\u001b[39mindicator_data\u001b[39m.\u001b[39mindex, columns\u001b[39m=\u001b[39mpd\u001b[39m.\u001b[39;49mMultiIndex\u001b[39m.\u001b[39;49mfrom_tuples(index_values, names\u001b[39m=\u001b[39;49mpd_col_names))\n\u001b[0;32m    836\u001b[0m col_idx \u001b[39m=\u001b[39m \u001b[39m0\u001b[39m\n\u001b[0;32m    837\u001b[0m \u001b[39mfor\u001b[39;00m symbol \u001b[39min\u001b[39;00m symbols:\n",
            "File \u001b[1;32me:\\Coding\\virtual environments\\qfFree\\lib\\site-packages\\pandas\\core\\indexes\\multi.py:211\u001b[0m, in \u001b[0;36mnames_compat.<locals>.new_meth\u001b[1;34m(self_or_cls, *args, **kwargs)\u001b[0m\n\u001b[0;32m    208\u001b[0m \u001b[39mif\u001b[39;00m \u001b[39m\"\u001b[39m\u001b[39mname\u001b[39m\u001b[39m\"\u001b[39m \u001b[39min\u001b[39;00m kwargs:\n\u001b[0;32m    209\u001b[0m     kwargs[\u001b[39m\"\u001b[39m\u001b[39mnames\u001b[39m\u001b[39m\"\u001b[39m] \u001b[39m=\u001b[39m kwargs\u001b[39m.\u001b[39mpop(\u001b[39m\"\u001b[39m\u001b[39mname\u001b[39m\u001b[39m\"\u001b[39m)\n\u001b[1;32m--> 211\u001b[0m \u001b[39mreturn\u001b[39;00m meth(self_or_cls, \u001b[39m*\u001b[39margs, \u001b[39m*\u001b[39m\u001b[39m*\u001b[39mkwargs)\n",
            "File \u001b[1;32me:\\Coding\\virtual environments\\qfFree\\lib\\site-packages\\pandas\\core\\indexes\\multi.py:597\u001b[0m, in \u001b[0;36mMultiIndex.from_tuples\u001b[1;34m(cls, tuples, sortorder, names)\u001b[0m\n\u001b[0;32m    594\u001b[0m     arrs \u001b[39m=\u001b[39m \u001b[39mzip\u001b[39m(\u001b[39m*\u001b[39mtuples)\n\u001b[0;32m    595\u001b[0m     arrays \u001b[39m=\u001b[39m cast(List[Sequence[Hashable]], arrs)\n\u001b[1;32m--> 597\u001b[0m \u001b[39mreturn\u001b[39;00m \u001b[39mcls\u001b[39;49m\u001b[39m.\u001b[39;49mfrom_arrays(arrays, sortorder\u001b[39m=\u001b[39;49msortorder, names\u001b[39m=\u001b[39;49mnames)\n",
            "File \u001b[1;32me:\\Coding\\virtual environments\\qfFree\\lib\\site-packages\\pandas\\core\\indexes\\multi.py:510\u001b[0m, in \u001b[0;36mMultiIndex.from_arrays\u001b[1;34m(cls, arrays, sortorder, names)\u001b[0m\n\u001b[0;32m    507\u001b[0m \u001b[39mif\u001b[39;00m names \u001b[39mis\u001b[39;00m lib\u001b[39m.\u001b[39mno_default:\n\u001b[0;32m    508\u001b[0m     names \u001b[39m=\u001b[39m [\u001b[39mgetattr\u001b[39m(arr, \u001b[39m\"\u001b[39m\u001b[39mname\u001b[39m\u001b[39m\"\u001b[39m, \u001b[39mNone\u001b[39;00m) \u001b[39mfor\u001b[39;00m arr \u001b[39min\u001b[39;00m arrays]\n\u001b[1;32m--> 510\u001b[0m \u001b[39mreturn\u001b[39;00m \u001b[39mcls\u001b[39;49m(\n\u001b[0;32m    511\u001b[0m     levels\u001b[39m=\u001b[39;49mlevels,\n\u001b[0;32m    512\u001b[0m     codes\u001b[39m=\u001b[39;49mcodes,\n\u001b[0;32m    513\u001b[0m     sortorder\u001b[39m=\u001b[39;49msortorder,\n\u001b[0;32m    514\u001b[0m     names\u001b[39m=\u001b[39;49mnames,\n\u001b[0;32m    515\u001b[0m     verify_integrity\u001b[39m=\u001b[39;49m\u001b[39mFalse\u001b[39;49;00m,\n\u001b[0;32m    516\u001b[0m )\n",
            "File \u001b[1;32me:\\Coding\\virtual environments\\qfFree\\lib\\site-packages\\pandas\\core\\indexes\\multi.py:345\u001b[0m, in \u001b[0;36mMultiIndex.__new__\u001b[1;34m(cls, levels, codes, sortorder, names, dtype, copy, name, verify_integrity)\u001b[0m\n\u001b[0;32m    342\u001b[0m result\u001b[39m.\u001b[39m_names \u001b[39m=\u001b[39m [\u001b[39mNone\u001b[39;00m] \u001b[39m*\u001b[39m \u001b[39mlen\u001b[39m(levels)\n\u001b[0;32m    343\u001b[0m \u001b[39mif\u001b[39;00m names \u001b[39mis\u001b[39;00m \u001b[39mnot\u001b[39;00m \u001b[39mNone\u001b[39;00m:\n\u001b[0;32m    344\u001b[0m     \u001b[39m# handles name validation\u001b[39;00m\n\u001b[1;32m--> 345\u001b[0m     result\u001b[39m.\u001b[39;49m_set_names(names)\n\u001b[0;32m    347\u001b[0m \u001b[39mif\u001b[39;00m sortorder \u001b[39mis\u001b[39;00m \u001b[39mnot\u001b[39;00m \u001b[39mNone\u001b[39;00m:\n\u001b[0;32m    348\u001b[0m     result\u001b[39m.\u001b[39msortorder \u001b[39m=\u001b[39m \u001b[39mint\u001b[39m(sortorder)\n",
            "File \u001b[1;32me:\\Coding\\virtual environments\\qfFree\\lib\\site-packages\\pandas\\core\\indexes\\multi.py:1433\u001b[0m, in \u001b[0;36mMultiIndex._set_names\u001b[1;34m(self, names, level, validate)\u001b[0m\n\u001b[0;32m   1431\u001b[0m         \u001b[39mraise\u001b[39;00m \u001b[39mValueError\u001b[39;00m(\u001b[39m\"\u001b[39m\u001b[39mLength of names must match length of level.\u001b[39m\u001b[39m\"\u001b[39m)\n\u001b[0;32m   1432\u001b[0m     \u001b[39mif\u001b[39;00m level \u001b[39mis\u001b[39;00m \u001b[39mNone\u001b[39;00m \u001b[39mand\u001b[39;00m \u001b[39mlen\u001b[39m(names) \u001b[39m!=\u001b[39m \u001b[39mself\u001b[39m\u001b[39m.\u001b[39mnlevels:\n\u001b[1;32m-> 1433\u001b[0m         \u001b[39mraise\u001b[39;00m \u001b[39mValueError\u001b[39;00m(\n\u001b[0;32m   1434\u001b[0m             \u001b[39m\"\u001b[39m\u001b[39mLength of names must match number of levels in MultiIndex.\u001b[39m\u001b[39m\"\u001b[39m\n\u001b[0;32m   1435\u001b[0m         )\n\u001b[0;32m   1437\u001b[0m \u001b[39mif\u001b[39;00m level \u001b[39mis\u001b[39;00m \u001b[39mNone\u001b[39;00m:\n\u001b[0;32m   1438\u001b[0m     level \u001b[39m=\u001b[39m \u001b[39mrange\u001b[39m(\u001b[39mself\u001b[39m\u001b[39m.\u001b[39mnlevels)\n",
            "\u001b[1;31mValueError\u001b[0m: Length of names must match number of levels in MultiIndex."
          ]
        }
      ],
      "source": [
        "ema_is_below = _is_below(\n",
        "    want_to_evaluate=ema_ind.data,\n",
        "    price_data=prices,\n",
        "    candle_ohlc=\"close\",\n",
        ")\n",
        "rsi_is_below = _is_below(\n",
        "    want_to_evaluate=rsi_ind.data,\n",
        "    user_args=[40, 60],\n",
        "    candle_ohlc=\"close\",\n",
        ")\n",
        "ema_is_below_rsi = _is_below(\n",
        "    want_to_evaluate=ema_rsi_ind.data,\n",
        "    indicator_data=rsi_ind.data,\n",
        ")"
      ]
    },
    {
      "cell_type": "code",
      "execution_count": 4,
      "metadata": {},
      "outputs": [
        {
          "data": {
            "text/html": [
              "<div>\n",
              "<style scoped>\n",
              "    .dataframe tbody tr th:only-of-type {\n",
              "        vertical-align: middle;\n",
              "    }\n",
              "\n",
              "    .dataframe tbody tr th {\n",
              "        vertical-align: top;\n",
              "    }\n",
              "\n",
              "    .dataframe thead tr th {\n",
              "        text-align: left;\n",
              "    }\n",
              "\n",
              "    .dataframe thead tr:last-of-type th {\n",
              "        text-align: right;\n",
              "    }\n",
              "</style>\n",
              "<table border=\"1\" class=\"dataframe\">\n",
              "  <thead>\n",
              "    <tr>\n",
              "      <th>symbol</th>\n",
              "      <th>BTCUSDT</th>\n",
              "    </tr>\n",
              "    <tr>\n",
              "      <th>candle_info</th>\n",
              "      <th>close</th>\n",
              "    </tr>\n",
              "    <tr>\n",
              "      <th>open_time</th>\n",
              "      <th></th>\n",
              "    </tr>\n",
              "  </thead>\n",
              "  <tbody>\n",
              "    <tr>\n",
              "      <th>2020-10-01 00:00:00</th>\n",
              "      <td>10,790.00</td>\n",
              "    </tr>\n",
              "    <tr>\n",
              "      <th>2020-10-01 00:30:00</th>\n",
              "      <td>10,777.00</td>\n",
              "    </tr>\n",
              "    <tr>\n",
              "      <th>2020-10-01 01:00:00</th>\n",
              "      <td>10,793.00</td>\n",
              "    </tr>\n",
              "    <tr>\n",
              "      <th>2020-10-01 01:30:00</th>\n",
              "      <td>10,822.00</td>\n",
              "    </tr>\n",
              "    <tr>\n",
              "      <th>2020-10-01 02:00:00</th>\n",
              "      <td>10,808.50</td>\n",
              "    </tr>\n",
              "    <tr>\n",
              "      <th>...</th>\n",
              "      <td>...</td>\n",
              "    </tr>\n",
              "    <tr>\n",
              "      <th>2021-04-14 21:30:00</th>\n",
              "      <td>62,795.00</td>\n",
              "    </tr>\n",
              "    <tr>\n",
              "      <th>2021-04-14 22:00:00</th>\n",
              "      <td>62,680.00</td>\n",
              "    </tr>\n",
              "    <tr>\n",
              "      <th>2021-04-14 22:30:00</th>\n",
              "      <td>62,849.50</td>\n",
              "    </tr>\n",
              "    <tr>\n",
              "      <th>2021-04-14 23:00:00</th>\n",
              "      <td>62,999.00</td>\n",
              "    </tr>\n",
              "    <tr>\n",
              "      <th>2021-04-14 23:30:00</th>\n",
              "      <td>62,921.00</td>\n",
              "    </tr>\n",
              "  </tbody>\n",
              "</table>\n",
              "<p>9408 rows × 1 columns</p>\n",
              "</div>"
            ],
            "text/plain": [
              "symbol                BTCUSDT\n",
              "candle_info             close\n",
              "open_time                    \n",
              "2020-10-01 00:00:00 10,790.00\n",
              "2020-10-01 00:30:00 10,777.00\n",
              "2020-10-01 01:00:00 10,793.00\n",
              "2020-10-01 01:30:00 10,822.00\n",
              "2020-10-01 02:00:00 10,808.50\n",
              "...                       ...\n",
              "2021-04-14 21:30:00 62,795.00\n",
              "2021-04-14 22:00:00 62,680.00\n",
              "2021-04-14 22:30:00 62,849.50\n",
              "2021-04-14 23:00:00 62,999.00\n",
              "2021-04-14 23:30:00 62,921.00\n",
              "\n",
              "[9408 rows x 1 columns]"
            ]
          },
          "execution_count": 4,
          "metadata": {},
          "output_type": "execute_result"
        }
      ],
      "source": [
        "prices[[('BTCUSDT', 'close')]]"
      ]
    },
    {
      "cell_type": "code",
      "execution_count": 5,
      "metadata": {},
      "outputs": [
        {
          "ename": "NameError",
          "evalue": "name 'combine_evals' is not defined",
          "output_type": "error",
          "traceback": [
            "\u001b[1;31m---------------------------------------------------------------------------\u001b[0m",
            "\u001b[1;31mNameError\u001b[0m                                 Traceback (most recent call last)",
            "Cell \u001b[1;32mIn[5], line 1\u001b[0m\n\u001b[1;32m----> 1\u001b[0m combine_evals(\n\u001b[0;32m      2\u001b[0m     first_eval_data\u001b[39m=\u001b[39mrsi_is_below,\n\u001b[0;32m      3\u001b[0m     second_eval_data\u001b[39m=\u001b[39mrsi_ema_is_below,\n\u001b[0;32m      4\u001b[0m     plot_results\u001b[39m=\u001b[39m\u001b[39mTrue\u001b[39;00m,\n\u001b[0;32m      5\u001b[0m     first_eval_data_needs_prices\u001b[39m=\u001b[39m\u001b[39mFalse\u001b[39;00m,\n\u001b[0;32m      6\u001b[0m     second_eval_data_needs_prices\u001b[39m=\u001b[39m\u001b[39mFalse\u001b[39;00m,\n\u001b[0;32m      7\u001b[0m     first_ind_data\u001b[39m=\u001b[39mrsi_ind,\n\u001b[0;32m      8\u001b[0m     second_ind_data\u001b[39m=\u001b[39mrsi_ema_ind,\n\u001b[0;32m      9\u001b[0m )\n",
            "\u001b[1;31mNameError\u001b[0m: name 'combine_evals' is not defined"
          ]
        }
      ],
      "source": [
        "combine_evals(\n",
        "    first_eval_data=rsi_is_below,\n",
        "    second_eval_data=rsi_ema_is_below,\n",
        "    plot_results=True,\n",
        "    first_eval_data_needs_prices=False,\n",
        "    second_eval_data_needs_prices=False,\n",
        "    first_ind_data=rsi_ind,\n",
        "    second_ind_data=rsi_ema_ind,\n",
        ")"
      ]
    },
    {
      "cell_type": "code",
      "execution_count": null,
      "metadata": {},
      "outputs": [],
      "source": [
        "combine_evals(\n",
        "    first_eval_data=ema_is_below,\n",
        "    second_eval_data=rsi_is_below,\n",
        "    plot_results=True,\n",
        "    first_eval_data_needs_prices=True,\n",
        "    second_eval_data_needs_prices=False,\n",
        "    first_ind_data=ema_ind,\n",
        "    second_ind_data=rsi_ind,\n",
        "    prices=prices,\n",
        ")"
      ]
    },
    {
      "cell_type": "code",
      "execution_count": null,
      "metadata": {},
      "outputs": [],
      "source": [
        "combine_evals(\n",
        "    first_eval_data=ema_is_above,\n",
        "    second_eval_data=ema_2_is_above,\n",
        "    plot_results=True,\n",
        "    first_eval_data_needs_prices=True,\n",
        "    second_eval_data_needs_prices=True,\n",
        "    first_ind_data=ema_ind,\n",
        "    second_ind_data=ema_2_ind,\n",
        "    prices=prices\n",
        ")"
      ]
    },
    {
      "cell_type": "code",
      "execution_count": null,
      "metadata": {},
      "outputs": [],
      "source": [
        "combine_evals(\n",
        "    first_eval_data=ema_is_below,\n",
        "    second_eval_data=ema_2_is_below,\n",
        "    plot_results=True,\n",
        "    first_eval_data_needs_prices=True,\n",
        "    second_eval_data_needs_prices=True,\n",
        "    first_ind_data=ema_ind,\n",
        "    second_ind_data=ema_2_ind,\n",
        "    prices=prices\n",
        ")"
      ]
    }
  ],
  "metadata": {
    "kernelspec": {
      "display_name": "qfFree",
      "language": "python",
      "name": "python3"
    },
    "language_info": {
      "codemirror_mode": {
        "name": "ipython",
        "version": 3
      },
      "file_extension": ".py",
      "mimetype": "text/x-python",
      "name": "python",
      "nbconvert_exporter": "python",
      "pygments_lexer": "ipython3",
      "version": "3.10.10"
    },
    "orig_nbformat": 4
  },
  "nbformat": 4,
  "nbformat_minor": 2
}
