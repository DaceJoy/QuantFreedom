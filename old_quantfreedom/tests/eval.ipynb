{
  "cells": [
    {
      "cell_type": "code",
      "execution_count": 1,
      "metadata": {},
      "outputs": [],
      "source": [
        "import os\n",
        "import sys\n",
        "\n",
        "sys.dont_write_bytecode = True\n",
        "os.environ[\"NUMBA_DISABLE_JIT\"] = \"1\"\n",
        "\n",
        "import quantfreedom as qf\n",
        "import pandas as pd\n",
        "from quantfreedom.indicators.talib_ind import *\n",
        "from quantfreedom.evaluators.evaluators import _is_below\n",
        "from quantfreedom.base.base import backtest_df_only\n",
        "from quantfreedom.enums.enums import (\n",
        "    CandleBody,\n",
        "    LeverageMode,\n",
        "    OrderType,\n",
        "    SizeType,\n",
        "    OrderSettingsArrays,\n",
        "    StaticVariables,\n",
        ")\n",
        "\n",
        "%load_ext autoreload\n",
        "%autoreload 2\n",
        "prices = pd.read_hdf('data/prices.hd5')"
      ]
    },
    {
      "cell_type": "code",
      "execution_count": 2,
      "metadata": {},
      "outputs": [],
      "source": [
        "rsi = from_talib(\n",
        "    func_name='rsi',\n",
        "    nickname='rsi1',\n",
        "    price_data=prices,\n",
        "    #input_names = ['close'],\n",
        "    parameters = {'timeperiod': [15, 20, 25, 30]}\n",
        ")"
      ]
    },
    {
      "cell_type": "code",
      "execution_count": 3,
      "metadata": {},
      "outputs": [],
      "source": [
        "ema = from_talib(\n",
        "    func_name='ema',\n",
        "    nickname='ema1',\n",
        "    price_data=prices,\n",
        "    input_names = ['close'],\n",
        "    parameters = {'timeperiod': [50, 100]}\n",
        ")"
      ]
    },
    {
      "cell_type": "code",
      "execution_count": 4,
      "metadata": {},
      "outputs": [],
      "source": [
        "entries = _is_below(\n",
        "    want_to_evaluate=ema.data,\n",
        "    indicator_data=rsi.data,\n",
        "    # candle_ohlc= \"open\",\n",
        "    # user_args=[50,60],\n",
        ")"
      ]
    },
    {
      "cell_type": "code",
      "execution_count": 5,
      "metadata": {},
      "outputs": [],
      "source": [
        "static_vars = StaticVariables(\n",
        "    equity=1000.,\n",
        "    lev_mode=LeverageMode.LeastFreeCashUsed,\n",
        "    order_type=OrderType.LongEntry,\n",
        "    size_type=SizeType.RiskPercentOfAccount,\n",
        ")\n",
        "order_settings = OrderSettingsArrays(\n",
        "    max_equity_risk_pct=6.,\n",
        "    risk_reward=[2,4,5],\n",
        "    size_pct=1.,\n",
        "    sl_based_on=CandleBody.low,\n",
        "    sl_based_on_lookback=30,\n",
        "    sl_based_on_add_pct=.2,\n",
        ")\n"
      ]
    },
    {
      "cell_type": "code",
      "execution_count": 6,
      "metadata": {},
      "outputs": [
        {
          "name": "stdout",
          "output_type": "stream",
          "text": [
            "Checking static variables for errors or conflicts.\n",
            "Turning all variables into arrays.\n",
            "Checking arrays for errors or conflicts ... the backtest will begin shortly, please hold.\n",
            "Creating cartesian product ... after this the backtest will start, I promise :).\n",
            "\n",
            "Starting the backtest now ... and also here are some stats for your backtest.\n",
            "\n",
            "Total symbols: 5\n",
            "Total indicator settings per symbol: 8\n",
            "Total indicator settings to test: 40\n",
            "Total order settings per symbol: 3\n",
            "Total order settings to test: 15\n",
            "Total candles per symbol: 9,408\n",
            "Total candles to test: 1,128,960\n",
            "\n",
            "Total combinations to test: 120\n"
          ]
        },
        {
          "data": {
            "text/plain": [
              "(     symbol  entries_col  or_set  total_trades  gains_pct  win_rate   \n",
              " 1   BTCUSDT            0       1         22.00      52.11     59.09  \\\n",
              " 4   BTCUSDT            1       1         22.00      52.11     59.09   \n",
              " 13  BTCUSDT            4       1         22.00      52.11     59.09   \n",
              " 16  BTCUSDT            5       1         22.00      52.11     59.09   \n",
              " 24   ETHUSD           16       0         76.00      55.64     50.00   \n",
              " ..      ...          ...     ...           ...        ...       ...   \n",
              " 50  LTCUSDT           24       2         35.00      50.82     34.29   \n",
              " 71  LTCUSDT           31       2         35.00      50.82     34.29   \n",
              " 56  LTCUSDT           26       2         35.00      50.82     34.29   \n",
              " 59  LTCUSDT           27       2         35.00      50.82     34.29   \n",
              " 68  LTCUSDT           30       2         35.00      50.82     34.29   \n",
              " \n",
              "     to_the_upside  total_pnl  ending_eq  \n",
              " 1            0.97     521.07   1,521.07  \n",
              " 4            0.97     521.07   1,521.07  \n",
              " 13           0.97     521.07   1,521.07  \n",
              " 16           0.97     521.07   1,521.07  \n",
              " 24           0.95     556.41   1,556.41  \n",
              " ..            ...        ...        ...  \n",
              " 50           0.74     508.16   1,508.16  \n",
              " 71           0.74     508.16   1,508.16  \n",
              " 56           0.74     508.16   1,508.16  \n",
              " 59           0.74     508.16   1,508.16  \n",
              " 68           0.74     508.16   1,508.16  \n",
              " \n",
              " [72 rows x 9 columns],\n",
              "                            0        1        2        3        4        5    \n",
              " symbol                BTCUSDT  BTCUSDT  BTCUSDT  BTCUSDT  BTCUSDT  BTCUSDT  \\\n",
              " entries_col                 0        0        0        1        1        1   \n",
              " max_equity_risk_pct      6.00     6.00     6.00     6.00     6.00     6.00   \n",
              " risk_reward              2.00     4.00     5.00     2.00     4.00     5.00   \n",
              " size_pct                 1.00     1.00     1.00     1.00     1.00     1.00   \n",
              " sl_based_on              2.00     2.00     2.00     2.00     2.00     2.00   \n",
              " sl_based_on_add_pct      0.20     0.20     0.20     0.20     0.20     0.20   \n",
              " sl_based_on_lookback    30.00    30.00    30.00    30.00    30.00    30.00   \n",
              " \n",
              "                            6        7        8        9   ...       62   \n",
              " symbol                BTCUSDT  BTCUSDT  BTCUSDT  BTCUSDT  ...  LTCUSDT  \\\n",
              " entries_col                 2        2        2        3  ...       28   \n",
              " max_equity_risk_pct      6.00     6.00     6.00     6.00  ...     6.00   \n",
              " risk_reward              2.00     4.00     5.00     2.00  ...     5.00   \n",
              " size_pct                 1.00     1.00     1.00     1.00  ...     1.00   \n",
              " sl_based_on              2.00     2.00     2.00     2.00  ...     2.00   \n",
              " sl_based_on_add_pct      0.20     0.20     0.20     0.20  ...     0.20   \n",
              " sl_based_on_lookback    30.00    30.00    30.00    30.00  ...    30.00   \n",
              " \n",
              "                            63       64       65       66       67       68   \n",
              " symbol                LTCUSDT  LTCUSDT  LTCUSDT  LTCUSDT  LTCUSDT  LTCUSDT  \\\n",
              " entries_col                29       29       29       30       30       30   \n",
              " max_equity_risk_pct      6.00     6.00     6.00     6.00     6.00     6.00   \n",
              " risk_reward              2.00     4.00     5.00     2.00     4.00     5.00   \n",
              " size_pct                 1.00     1.00     1.00     1.00     1.00     1.00   \n",
              " sl_based_on              2.00     2.00     2.00     2.00     2.00     2.00   \n",
              " sl_based_on_add_pct      0.20     0.20     0.20     0.20     0.20     0.20   \n",
              " sl_based_on_lookback    30.00    30.00    30.00    30.00    30.00    30.00   \n",
              " \n",
              "                            69       70       71  \n",
              " symbol                LTCUSDT  LTCUSDT  LTCUSDT  \n",
              " entries_col                31       31       31  \n",
              " max_equity_risk_pct      6.00     6.00     6.00  \n",
              " risk_reward              2.00     4.00     5.00  \n",
              " size_pct                 1.00     1.00     1.00  \n",
              " sl_based_on              2.00     2.00     2.00  \n",
              " sl_based_on_add_pct      0.20     0.20     0.20  \n",
              " sl_based_on_lookback    30.00    30.00    30.00  \n",
              " \n",
              " [8 rows x 72 columns])"
            ]
          },
          "execution_count": 6,
          "metadata": {},
          "output_type": "execute_result"
        }
      ],
      "source": [
        "backtest_df_only(\n",
        "    price_data=prices,\n",
        "    entries=entries,\n",
        "    static_variables_tuple=static_vars,\n",
        "    order_settings_arrays_tuple=order_settings,\n",
        ")"
      ]
    }
  ],
  "metadata": {
    "kernelspec": {
      "display_name": "qfFree",
      "language": "python",
      "name": "python3"
    },
    "language_info": {
      "codemirror_mode": {
        "name": "ipython",
        "version": 3
      },
      "file_extension": ".py",
      "mimetype": "text/x-python",
      "name": "python",
      "nbconvert_exporter": "python",
      "pygments_lexer": "ipython3",
      "version": "3.10.10"
    },
    "orig_nbformat": 4
  },
  "nbformat": 4,
  "nbformat_minor": 2
}
