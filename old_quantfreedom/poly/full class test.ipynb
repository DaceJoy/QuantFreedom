{
 "cells": [
  {
   "cell_type": "code",
   "execution_count": null,
   "metadata": {
    "collapsed": true
   },
   "outputs": [],
   "source": [
    "import os\n",
    "import sys\n",
    "\n",
    "sys.dont_write_bytecode = True\n",
    "os.environ[\"NUMBA_DISABLE_JIT\"] = \"1\"\n",
    "\n",
    "import numpy as np\n",
    "import pandas as pd\n",
    "from quantfreedom.indicators.talib_ind import from_talib\n",
    "from quantfreedom.poly.base import backtest_df_only\n",
    "from quantfreedom.poly.enums import *\n",
    "\n",
    "\n",
    "\n",
    "np.set_printoptions(formatter={\"float_kind\": \"{:.2f}\".format})\n",
    "pd.options.display.float_format = \"{:,.2f}\".format\n",
    "\n",
    "price_data = pd.read_hdf(\"../../tests/data/prices.hd5\")\n",
    "%load_ext autoreload\n",
    "%autoreload 2"
   ]
  },
  {
   "cell_type": "code",
   "execution_count": null,
   "metadata": {},
   "outputs": [],
   "source": [
    "rsi_ind = from_talib(\n",
    "    func_name='rsi',\n",
    "    nickname='rsi',\n",
    "    price_data=price_data,\n",
    "    input_names = ['open'],\n",
    "    parameters = {'timeperiod': [15, 20]}\n",
    ")\n",
    "rsi_ind.data"
   ]
  },
  {
   "cell_type": "code",
   "execution_count": null,
   "metadata": {},
   "outputs": [],
   "source": [
    "entries = rsi_ind.is_below(\n",
    "    user_args=[40, 50],\n",
    "    candle_ohlc=\"close\",\n",
    ")\n",
    "entries"
   ]
  },
  {
   "cell_type": "code",
   "execution_count": null,
   "metadata": {},
   "outputs": [],
   "source": [
    "account_state = AccountState()\n",
    "order_settings_arrays = OrderSettingsArrays(\n",
    "    risk_account_pct_size=np.array([1.0]) / 100,\n",
    "    sl_based_on_add_pct=np.array([0.01, 0.02]) / 100,\n",
    "    sl_based_on_lookback=np.array([30, 40]) * 1.0,\n",
    "    risk_reward=np.array([2, 5, 8]) * 1.0,\n",
    "    leverage_type=np.array([LeverageType.Dynamic]),\n",
    "    candle_body=np.array([CandleBody.Low]),\n",
    "    entry_size_type=np.array([EntrySizeType.RiskPctAccountEntrySize]),\n",
    "    stop_loss_type=np.array([StopLossType.SLBasedOnCandleBody]),\n",
    "    take_profit_type=np.array([TakeProfitType.RiskReward]),\n",
    "    max_equity_risk_pct=np.array([100]) / 100,\n",
    ")\n",
    "backtest_settings = BacktestSettings(order_type=OrderType.Long)\n",
    "exchange_settings = ExchangeSettings()"
   ]
  },
  {
   "cell_type": "code",
   "execution_count": null,
   "metadata": {
    "collapsed": false
   },
   "outputs": [],
   "source": [
    "strat_results_df, settings_results_df = backtest_df_only(\n",
    "    account_state=account_state,\n",
    "    order_settings_arrays=order_settings_arrays,\n",
    "    backtest_settings=backtest_settings,\n",
    "    exchange_settings=exchange_settings,\n",
    "    price_data=price_data,\n",
    "    entries=entries,\n",
    ")"
   ]
  },
  {
   "cell_type": "code",
   "execution_count": null,
   "metadata": {},
   "outputs": [],
   "source": [
    "settings_results_df"
   ]
  },
  {
   "cell_type": "code",
   "execution_count": null,
   "metadata": {},
   "outputs": [],
   "source": [
    "strat_results_df.head(50)"
   ]
  }
 ],
 "metadata": {
  "kernelspec": {
   "display_name": "Python 3 (ipykernel)",
   "language": "python",
   "name": "python3"
  },
  "language_info": {
   "codemirror_mode": {
    "name": "ipython",
    "version": 3
   },
   "file_extension": ".py",
   "mimetype": "text/x-python",
   "name": "python",
   "nbconvert_exporter": "python",
   "pygments_lexer": "ipython3",
   "version": "3.10.10"
  }
 },
 "nbformat": 4,
 "nbformat_minor": 1
}
