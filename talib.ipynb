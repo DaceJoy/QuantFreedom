{
  "cells": [
    {
      "cell_type": "code",
      "execution_count": 21,
      "metadata": {},
      "outputs": [],
      "source": [
        "xx = set([1,2,3])\n",
        "xx.remove(1)"
      ]
    },
    {
      "cell_type": "code",
      "execution_count": 25,
      "metadata": {},
      "outputs": [
        {
          "data": {
            "text/plain": [
              "2"
            ]
          },
          "execution_count": 25,
          "metadata": {},
          "output_type": "execute_result"
        }
      ],
      "source": [
        "if 1 in xx:\n",
        "    xx.remove(1)\n",
        "len(xx)"
      ]
    },
    {
      "cell_type": "code",
      "execution_count": 20,
      "metadata": {},
      "outputs": [
        {
          "data": {
            "text/plain": [
              "4"
            ]
          },
          "execution_count": 20,
          "metadata": {},
          "output_type": "execute_result"
        }
      ],
      "source": [
        "y = np.array([[1,2],[3,4]])\n",
        "y.size"
      ]
    },
    {
      "cell_type": "code",
      "execution_count": 18,
      "metadata": {},
      "outputs": [
        {
          "name": "stdout",
          "output_type": "stream",
          "text": [
            "x.dtype:  int64\n"
          ]
        },
        {
          "data": {
            "text/plain": [
              "True"
            ]
          },
          "execution_count": 18,
          "metadata": {},
          "output_type": "execute_result"
        }
      ],
      "source": [
        "import numpy as np\n",
        "x = np.array([1,2,3])\n",
        "# np.issubdtype(int, np.integer)\n",
        "y = np.array(x)\n",
        "print('x.dtype: ', x.dtype)\n",
        "np.issubdtype(y.dtype, (np.integer, np.double))\n",
        "\n",
        "# .dtype "
      ]
    },
    {
      "cell_type": "code",
      "execution_count": 6,
      "metadata": {},
      "outputs": [],
      "source": [
        "import quantfreedom as qf\n",
        "import pandas as pd\n",
        "from quantfreedom.indicators.talib_ind import *\n",
        "prices = pd.read_hdf('./tests/data/prices.hd5')"
      ]
    },
    {
      "cell_type": "code",
      "execution_count": null,
      "metadata": {},
      "outputs": [],
      "source": [
        "# talib_list_of_indicators()"
      ]
    },
    {
      "cell_type": "code",
      "execution_count": null,
      "metadata": {},
      "outputs": [],
      "source": [
        "# talib_func_list_website_link()"
      ]
    },
    {
      "cell_type": "code",
      "execution_count": 7,
      "metadata": {},
      "outputs": [
        {
          "data": {
            "text/plain": [
              "{'name': 'STOCH',\n",
              " 'group': 'Momentum Indicators',\n",
              " 'display_name': 'Stochastic',\n",
              " 'function_flags': None,\n",
              " 'input_names': OrderedDict([('prices', ['high', 'low', 'close'])]),\n",
              " 'parameters': OrderedDict([('fastk_period', 5),\n",
              "              ('slowk_period', 3),\n",
              "              ('slowk_matype', 0),\n",
              "              ('slowd_period', 3),\n",
              "              ('slowd_matype', 0)]),\n",
              " 'output_flags': OrderedDict([('slowk', ['Dashed Line']),\n",
              "              ('slowd', ['Dashed Line'])]),\n",
              " 'output_names': ['slowk', 'slowd']}"
            ]
          },
          "execution_count": 7,
          "metadata": {},
          "output_type": "execute_result"
        }
      ],
      "source": [
        "talib_ind_info('stoch')"
      ]
    },
    {
      "cell_type": "code",
      "execution_count": 8,
      "metadata": {},
      "outputs": [
        {
          "data": {
            "text/plain": [
              "{'name': 'RSI',\n",
              " 'group': 'Momentum Indicators',\n",
              " 'display_name': 'Relative Strength Index',\n",
              " 'function_flags': ['Function has an unstable period'],\n",
              " 'input_names': OrderedDict([('price', 'close')]),\n",
              " 'parameters': OrderedDict([('timeperiod', 14)]),\n",
              " 'output_flags': OrderedDict([('real', ['Line'])]),\n",
              " 'output_names': ['real']}"
            ]
          },
          "execution_count": 8,
          "metadata": {},
          "output_type": "execute_result"
        }
      ],
      "source": [
        "talib_ind_info('rsi')"
      ]
    },
    {
      "cell_type": "code",
      "execution_count": 9,
      "metadata": {},
      "outputs": [
        {
          "ename": "UnboundLocalError",
          "evalue": "local variable 'kwarg_keys' referenced before assignment",
          "output_type": "error",
          "traceback": [
            "\u001b[0;31m---------------------------------------------------------------------------\u001b[0m",
            "\u001b[0;31mUnboundLocalError\u001b[0m                         Traceback (most recent call last)",
            "\u001b[1;32m/home/karim/Downloads/QuantFreedom/talib.ipynb Cell 6\u001b[0m in \u001b[0;36m<cell line: 1>\u001b[0;34m()\u001b[0m\n\u001b[0;32m----> <a href='vscode-notebook-cell:/home/karim/Downloads/QuantFreedom/talib.ipynb#W5sZmlsZQ%3D%3D?line=0'>1</a>\u001b[0m from_talib(\n\u001b[1;32m      <a href='vscode-notebook-cell:/home/karim/Downloads/QuantFreedom/talib.ipynb#W5sZmlsZQ%3D%3D?line=1'>2</a>\u001b[0m     func_name\u001b[39m=\u001b[39;49m\u001b[39m'\u001b[39;49m\u001b[39mrsi\u001b[39;49m\u001b[39m'\u001b[39;49m,\n\u001b[1;32m      <a href='vscode-notebook-cell:/home/karim/Downloads/QuantFreedom/talib.ipynb#W5sZmlsZQ%3D%3D?line=2'>3</a>\u001b[0m     price_data\u001b[39m=\u001b[39;49mprices,\n\u001b[1;32m      <a href='vscode-notebook-cell:/home/karim/Downloads/QuantFreedom/talib.ipynb#W5sZmlsZQ%3D%3D?line=3'>4</a>\u001b[0m     cart_product\u001b[39m=\u001b[39;49m\u001b[39mFalse\u001b[39;49;00m,\n\u001b[1;32m      <a href='vscode-notebook-cell:/home/karim/Downloads/QuantFreedom/talib.ipynb#W5sZmlsZQ%3D%3D?line=4'>5</a>\u001b[0m     combos\u001b[39m=\u001b[39;49m\u001b[39mFalse\u001b[39;49;00m,\n\u001b[1;32m      <a href='vscode-notebook-cell:/home/karim/Downloads/QuantFreedom/talib.ipynb#W5sZmlsZQ%3D%3D?line=5'>6</a>\u001b[0m     timeperiod\u001b[39m=\u001b[39;49m[\u001b[39m15\u001b[39;49m,\u001b[39m20\u001b[39;49m,\u001b[39m25\u001b[39;49m,\u001b[39m30\u001b[39;49m],\n\u001b[1;32m      <a href='vscode-notebook-cell:/home/karim/Downloads/QuantFreedom/talib.ipynb#W5sZmlsZQ%3D%3D?line=6'>7</a>\u001b[0m     \u001b[39m# price='open',\u001b[39;49;00m\n\u001b[1;32m      <a href='vscode-notebook-cell:/home/karim/Downloads/QuantFreedom/talib.ipynb#W5sZmlsZQ%3D%3D?line=7'>8</a>\u001b[0m )\n",
            "File \u001b[0;32m~/Downloads/QuantFreedom/quantfreedom/indicators/talib_ind.py:139\u001b[0m, in \u001b[0;36mfrom_talib\u001b[0;34m(func_name, price_data, indicator_data, all_possible_combos, column_wise_combos, plot_results, plot_on_data, **kwargs)\u001b[0m\n\u001b[1;32m    136\u001b[0m     input_names \u001b[39m=\u001b[39m [kwarg_values]\n\u001b[1;32m    137\u001b[0m     filled \u001b[39m=\u001b[39m \u001b[39mTrue\u001b[39;00m\n\u001b[0;32m--> 139\u001b[0m \u001b[39melif\u001b[39;00m in_names_key \u001b[39m==\u001b[39m \u001b[39m\"\u001b[39m\u001b[39mprice\u001b[39m\u001b[39m\"\u001b[39m \u001b[39mand\u001b[39;00m kwarg_keys \u001b[39m==\u001b[39m \u001b[39m\"\u001b[39m\u001b[39mprices\u001b[39m\u001b[39m\"\u001b[39m:\n\u001b[1;32m    140\u001b[0m     \u001b[39mraise\u001b[39;00m \u001b[39mValueError\u001b[39;00m(\n\u001b[1;32m    141\u001b[0m         \u001b[39mf\u001b[39m\u001b[39m\"\u001b[39m\u001b[39mYou need to provide price= instead of prices=\u001b[39m\u001b[39m\"\u001b[39m\n\u001b[1;32m    142\u001b[0m     )\n\u001b[1;32m    144\u001b[0m \u001b[39mif\u001b[39;00m \u001b[39mnot\u001b[39;00m filled:\n",
            "\u001b[0;31mUnboundLocalError\u001b[0m: local variable 'kwarg_keys' referenced before assignment"
          ]
        }
      ],
      "source": [
        "from_talib(\n",
        "    func_name='rsi',\n",
        "    price_data=prices,\n",
        "    cart_product=False,\n",
        "    combos=False,\n",
        "    timeperiod=[15,20,25,30],\n",
        "    # price='open',\n",
        ")"
      ]
    },
    {
      "cell_type": "code",
      "execution_count": 8,
      "metadata": {},
      "outputs": [
        {
          "ename": "ValueError",
          "evalue": "You need to send either price_data = pd.DataFrame or indicator_data = pd.DataFrame",
          "output_type": "error",
          "traceback": [
            "\u001b[0;31m---------------------------------------------------------------------------\u001b[0m",
            "\u001b[0;31mValueError\u001b[0m                                Traceback (most recent call last)",
            "\u001b[1;32m/home/karim/Downloads/QuantFreedom/talib.ipynb Cell 7\u001b[0m in \u001b[0;36m<cell line: 1>\u001b[0;34m()\u001b[0m\n\u001b[0;32m----> <a href='vscode-notebook-cell:/home/karim/Downloads/QuantFreedom/talib.ipynb#W6sZmlsZQ%3D%3D?line=0'>1</a>\u001b[0m from_talib(\n\u001b[1;32m      <a href='vscode-notebook-cell:/home/karim/Downloads/QuantFreedom/talib.ipynb#W6sZmlsZQ%3D%3D?line=1'>2</a>\u001b[0m     func_name\u001b[39m=\u001b[39;49m\u001b[39m'\u001b[39;49m\u001b[39mstoch\u001b[39;49m\u001b[39m'\u001b[39;49m,\n\u001b[1;32m      <a href='vscode-notebook-cell:/home/karim/Downloads/QuantFreedom/talib.ipynb#W6sZmlsZQ%3D%3D?line=2'>3</a>\u001b[0m     prices\u001b[39m=\u001b[39;49mprices,\n\u001b[1;32m      <a href='vscode-notebook-cell:/home/karim/Downloads/QuantFreedom/talib.ipynb#W6sZmlsZQ%3D%3D?line=3'>4</a>\u001b[0m     cart_product\u001b[39m=\u001b[39;49m\u001b[39mTrue\u001b[39;49;00m,\n\u001b[1;32m      <a href='vscode-notebook-cell:/home/karim/Downloads/QuantFreedom/talib.ipynb#W6sZmlsZQ%3D%3D?line=4'>5</a>\u001b[0m     combos\u001b[39m=\u001b[39;49m\u001b[39mFalse\u001b[39;49;00m,\n\u001b[1;32m      <a href='vscode-notebook-cell:/home/karim/Downloads/QuantFreedom/talib.ipynb#W6sZmlsZQ%3D%3D?line=5'>6</a>\u001b[0m     fastk_period\u001b[39m=\u001b[39;49m[\u001b[39m1\u001b[39;49m,\u001b[39m10\u001b[39;49m, \u001b[39m8\u001b[39;49m, \u001b[39m5\u001b[39;49m],\n\u001b[1;32m      <a href='vscode-notebook-cell:/home/karim/Downloads/QuantFreedom/talib.ipynb#W6sZmlsZQ%3D%3D?line=6'>7</a>\u001b[0m     slowk_period\u001b[39m=\u001b[39;49m[\u001b[39m15\u001b[39;49m,\u001b[39m9\u001b[39;49m],\n\u001b[1;32m      <a href='vscode-notebook-cell:/home/karim/Downloads/QuantFreedom/talib.ipynb#W6sZmlsZQ%3D%3D?line=7'>8</a>\u001b[0m     slowk_matype\u001b[39m=\u001b[39;49m[\u001b[39m6\u001b[39;49m,\u001b[39m3\u001b[39;49m,\u001b[39m7\u001b[39;49m],\n\u001b[1;32m      <a href='vscode-notebook-cell:/home/karim/Downloads/QuantFreedom/talib.ipynb#W6sZmlsZQ%3D%3D?line=8'>9</a>\u001b[0m )\n",
            "File \u001b[0;32m~/Downloads/QuantFreedom/quantfreedom/indicators/talib_ind.py:86\u001b[0m, in \u001b[0;36mfrom_talib\u001b[0;34m(func_name, price_data, indicator_data, all_possible_combos, column_wise_combos, plot_results, plot_on_data, **kwargs)\u001b[0m\n\u001b[1;32m     42\u001b[0m \u001b[39m\"\"\"\u001b[39;00m\n\u001b[1;32m     43\u001b[0m \u001b[39mFunction Name\u001b[39;00m\n\u001b[1;32m     44\u001b[0m \u001b[39m-------------\u001b[39;00m\n\u001b[0;32m   (...)\u001b[0m\n\u001b[1;32m     83\u001b[0m \u001b[39m    Pandas Dataframe of indicator values\u001b[39;00m\n\u001b[1;32m     84\u001b[0m \u001b[39m\"\"\"\u001b[39;00m\n\u001b[1;32m     85\u001b[0m \u001b[39mif\u001b[39;00m \u001b[39mnot\u001b[39;00m \u001b[39mall\u001b[39m ([price_data, indicator_data]):\n\u001b[0;32m---> 86\u001b[0m     \u001b[39mraise\u001b[39;00m \u001b[39mValueError\u001b[39;00m(\n\u001b[1;32m     87\u001b[0m         \u001b[39mf\u001b[39m\u001b[39m\"\u001b[39m\u001b[39mYou need to send either price_data = pd.DataFrame or indicator_data = pd.DataFrame\u001b[39m\u001b[39m\"\u001b[39m\n\u001b[1;32m     88\u001b[0m     )\n\u001b[1;32m     89\u001b[0m \u001b[39melif\u001b[39;00m \u001b[39mall\u001b[39m([price_data, indicator_data]):\n\u001b[1;32m     90\u001b[0m     \u001b[39mraise\u001b[39;00m \u001b[39mValueError\u001b[39;00m(\n\u001b[1;32m     91\u001b[0m         \u001b[39mf\u001b[39m\u001b[39m\"\u001b[39m\u001b[39mYou can\u001b[39m\u001b[39m'\u001b[39m\u001b[39mt send both price_data and values ... please pick one or the other\u001b[39m\u001b[39m\"\u001b[39m\n\u001b[1;32m     92\u001b[0m     )\n",
            "\u001b[0;31mValueError\u001b[0m: You need to send either price_data = pd.DataFrame or indicator_data = pd.DataFrame"
          ]
        }
      ],
      "source": [
        "from_talib(\n",
        "    func_name='stoch',\n",
        "    prices=prices,\n",
        "    cart_product=True,\n",
        "    combos=False,\n",
        "    fastk_period=[1,10, 8, 5],\n",
        "    slowk_period=[15,9],\n",
        "    slowk_matype=[6,3,7],\n",
        ")"
      ]
    },
    {
      "cell_type": "code",
      "execution_count": null,
      "metadata": {},
      "outputs": [],
      "source": [
        "talib_ind_info('atr')"
      ]
    }
  ],
  "metadata": {
    "kernelspec": {
      "display_name": "qfFree",
      "language": "python",
      "name": "python3"
    },
    "language_info": {
      "codemirror_mode": {
        "name": "ipython",
        "version": 3
      },
      "file_extension": ".py",
      "mimetype": "text/x-python",
      "name": "python",
      "nbconvert_exporter": "python",
      "pygments_lexer": "ipython3",
      "version": "3.10.6"
    },
    "orig_nbformat": 4
  },
  "nbformat": 4,
  "nbformat_minor": 2
}
