{
  "cells": [
    {
      "cell_type": "code",
      "execution_count": 1,
      "metadata": {},
      "outputs": [],
      "source": [
        "import numpy as np\n",
        "import pandas as pd\n",
        "from datetime import timedelta\n",
        "from time import sleep, time\n",
        "from requests import get\n",
        "from quantfreedom.helper_funcs import dl_ex_candles, candles_to_df\n",
        "np.set_printoptions(formatter={\"float_kind\": \"{:0.2f}\".format})\n",
        "import plotly.graph_objects as go\n",
        "from dash import Dash\n",
        "from dash_bootstrap_templates import load_figure_template\n",
        "from jupyter_dash import JupyterDash\n",
        "from IPython import get_ipython\n",
        "import dash_bootstrap_components as dbc\n",
        "\n",
        "load_figure_template(\"darkly\")\n",
        "dbc_css = \"https://cdn.jsdelivr.net/gh/AnnMarieW/dash-bootstrap-templates/dbc.min.css\"\n",
        "try:\n",
        "    shell = str(get_ipython())\n",
        "    if \"ZMQInteractiveShell\" in shell:\n",
        "        app = JupyterDash(__name__, external_stylesheets=[dbc.themes.DARKLY, dbc_css])\n",
        "    elif shell == \"TerminalInteractiveShell\":\n",
        "        app = JupyterDash(__name__, external_stylesheets=[dbc.themes.DARKLY, dbc_css])\n",
        "    else:\n",
        "        app = Dash(__name__, external_stylesheets=[dbc.themes.DARKLY, dbc_css])\n",
        "except NameError:\n",
        "    app = Dash(__name__, external_stylesheets=[dbc.themes.DARKLY, dbc_css])\n",
        "\n",
        "bg_color = \"#0b0b18\"\n",
        "\n",
        "%load_ext autoreload\n",
        "%autoreload 2"
      ]
    },
    {
      "cell_type": "code",
      "execution_count": 25,
      "metadata": {},
      "outputs": [],
      "source": [
        "BINANCE_TIMEFRAMES = [\"1m\", \"3m\", \"5m\"]\n",
        "TIMEFRAMES_IN_MINUTES = [1, 3, 5]\n",
        "\n",
        "\n",
        "def get_timeframe_in_ms(timeframe: str):\n",
        "    return int(timedelta(minutes=TIMEFRAMES_IN_MINUTES[BINANCE_TIMEFRAMES.index(timeframe)]).seconds * 1000)\n",
        "\n",
        "\n",
        "def get_busdm_candles(\n",
        "    symbol: str,\n",
        "    timeframe: str,\n",
        "    since_date_ms: int = None,\n",
        "    until_date_ms: int = None,\n",
        "    candles_to_dl: int = 1500,\n",
        "    limit: int = 1500,\n",
        "):\n",
        "    timeframe_in_ms = get_timeframe_in_ms(timeframe=timeframe)\n",
        "    candles_to_dl_ms = candles_to_dl * timeframe_in_ms\n",
        "\n",
        "    if until_date_ms is None:\n",
        "        if since_date_ms is None:\n",
        "            until_date_ms = int(time() * 1000) - timeframe_in_ms\n",
        "            since_date_ms = until_date_ms - candles_to_dl_ms\n",
        "        else:\n",
        "            until_date_ms = since_date_ms + candles_to_dl_ms - 5000\n",
        "    else:\n",
        "        if since_date_ms is None:\n",
        "            since_date_ms = until_date_ms - candles_to_dl_ms\n",
        "            until_date_ms -= 5000\n",
        "\n",
        "    b_candles = []\n",
        "    params = {\n",
        "        \"symbol\": symbol,\n",
        "        \"interval\": timeframe,\n",
        "        \"startTime\": since_date_ms,\n",
        "        \"endTime\": until_date_ms,\n",
        "        \"limit\": limit,\n",
        "    }\n",
        "\n",
        "    while params[\"startTime\"] + timeframe_in_ms < until_date_ms:\n",
        "        try:\n",
        "            b_data = get(url=\"https://fapi.binance.com/fapi/v1/klines\", params=params).json()\n",
        "            last_candle_time_ms = b_data[-1][0]\n",
        "            if last_candle_time_ms == params[\"startTime\"]:\n",
        "                sleep(0.3)\n",
        "            else:\n",
        "                b_candles.extend(b_data)\n",
        "                params[\"startTime\"] = last_candle_time_ms + 2000\n",
        "        except Exception as e:\n",
        "            raise Exception(f\"get_busdm_candles -> {e}\")\n",
        "    candles_np = np.array(b_candles, dtype=np.float_)[:, :5]\n",
        "    return candles_np"
      ]
    },
    {
      "cell_type": "code",
      "execution_count": 10,
      "metadata": {},
      "outputs": [],
      "source": [
        "def busdm_to_df(candles: np.array):\n",
        "    candles_df = pd.DataFrame(candles, columns=['timestamp', 'open', 'high', 'low', 'close'])\n",
        "    candles_df['timestamp'] = candles_df['timestamp'].astype(dtype=np.int64)\n",
        "    candles_df.set_index(pd.to_datetime(candles_df['timestamp'], unit='ms'), inplace=True)\n",
        "    candles_df.index.rename('datetime', inplace=True)\n",
        "    return candles_df"
      ]
    },
    {
      "cell_type": "code",
      "execution_count": 23,
      "metadata": {},
      "outputs": [],
      "source": [
        "def plot_busdm_candles(candles: np.array):\n",
        "    fig = go.Figure(\n",
        "        data=[\n",
        "            go.Candlestick(\n",
        "                x=pd.to_datetime(candles[:, 0], unit=\"ms\"),\n",
        "                open=candles[:, 1],\n",
        "                high=candles[:, 2],\n",
        "                low=candles[:, 3],\n",
        "                close=candles[:, 4],\n",
        "            )\n",
        "        ]\n",
        "    )\n",
        "    fig.update_layout(height=600, xaxis_rangeslider_visible=False)\n",
        "    fig.show()"
      ]
    },
    {
      "cell_type": "code",
      "execution_count": 26,
      "metadata": {},
      "outputs": [],
      "source": [
        "candles_busdm = get_busdm_candles(symbol='BTCUSDT', timeframe='5m', candles_to_dl=30)"
      ]
    },
    {
      "cell_type": "code",
      "execution_count": 28,
      "metadata": {},
      "outputs": [
        {
          "data": {
            "text/html": [
              "<div>\n",
              "<style scoped>\n",
              "    .dataframe tbody tr th:only-of-type {\n",
              "        vertical-align: middle;\n",
              "    }\n",
              "\n",
              "    .dataframe tbody tr th {\n",
              "        vertical-align: top;\n",
              "    }\n",
              "\n",
              "    .dataframe thead th {\n",
              "        text-align: right;\n",
              "    }\n",
              "</style>\n",
              "<table border=\"1\" class=\"dataframe\">\n",
              "  <thead>\n",
              "    <tr style=\"text-align: right;\">\n",
              "      <th></th>\n",
              "      <th>timestamp</th>\n",
              "      <th>open</th>\n",
              "      <th>high</th>\n",
              "      <th>low</th>\n",
              "      <th>close</th>\n",
              "    </tr>\n",
              "    <tr>\n",
              "      <th>datetime</th>\n",
              "      <th></th>\n",
              "      <th></th>\n",
              "      <th></th>\n",
              "      <th></th>\n",
              "      <th></th>\n",
              "    </tr>\n",
              "  </thead>\n",
              "  <tbody>\n",
              "    <tr>\n",
              "      <th>2023-11-12 13:00:00</th>\n",
              "      <td>1699794000000</td>\n",
              "      <td>37035.9</td>\n",
              "      <td>37036.0</td>\n",
              "      <td>36955.0</td>\n",
              "      <td>37002.2</td>\n",
              "    </tr>\n",
              "    <tr>\n",
              "      <th>2023-11-12 13:05:00</th>\n",
              "      <td>1699794300000</td>\n",
              "      <td>37002.2</td>\n",
              "      <td>37018.2</td>\n",
              "      <td>36973.6</td>\n",
              "      <td>37015.9</td>\n",
              "    </tr>\n",
              "    <tr>\n",
              "      <th>2023-11-12 13:10:00</th>\n",
              "      <td>1699794600000</td>\n",
              "      <td>37016.0</td>\n",
              "      <td>37079.3</td>\n",
              "      <td>37010.3</td>\n",
              "      <td>37070.0</td>\n",
              "    </tr>\n",
              "    <tr>\n",
              "      <th>2023-11-12 13:15:00</th>\n",
              "      <td>1699794900000</td>\n",
              "      <td>37070.0</td>\n",
              "      <td>37166.1</td>\n",
              "      <td>37070.0</td>\n",
              "      <td>37139.1</td>\n",
              "    </tr>\n",
              "    <tr>\n",
              "      <th>2023-11-12 13:20:00</th>\n",
              "      <td>1699795200000</td>\n",
              "      <td>37139.3</td>\n",
              "      <td>37157.4</td>\n",
              "      <td>37103.9</td>\n",
              "      <td>37108.5</td>\n",
              "    </tr>\n",
              "    <tr>\n",
              "      <th>2023-11-12 13:25:00</th>\n",
              "      <td>1699795500000</td>\n",
              "      <td>37108.5</td>\n",
              "      <td>37135.0</td>\n",
              "      <td>37105.2</td>\n",
              "      <td>37121.5</td>\n",
              "    </tr>\n",
              "    <tr>\n",
              "      <th>2023-11-12 13:30:00</th>\n",
              "      <td>1699795800000</td>\n",
              "      <td>37121.5</td>\n",
              "      <td>37148.6</td>\n",
              "      <td>37102.0</td>\n",
              "      <td>37116.6</td>\n",
              "    </tr>\n",
              "    <tr>\n",
              "      <th>2023-11-12 13:35:00</th>\n",
              "      <td>1699796100000</td>\n",
              "      <td>37116.6</td>\n",
              "      <td>37124.5</td>\n",
              "      <td>37081.5</td>\n",
              "      <td>37083.5</td>\n",
              "    </tr>\n",
              "    <tr>\n",
              "      <th>2023-11-12 13:40:00</th>\n",
              "      <td>1699796400000</td>\n",
              "      <td>37083.4</td>\n",
              "      <td>37092.0</td>\n",
              "      <td>37062.1</td>\n",
              "      <td>37078.7</td>\n",
              "    </tr>\n",
              "    <tr>\n",
              "      <th>2023-11-12 13:45:00</th>\n",
              "      <td>1699796700000</td>\n",
              "      <td>37078.7</td>\n",
              "      <td>37107.6</td>\n",
              "      <td>37071.1</td>\n",
              "      <td>37100.1</td>\n",
              "    </tr>\n",
              "    <tr>\n",
              "      <th>2023-11-12 13:50:00</th>\n",
              "      <td>1699797000000</td>\n",
              "      <td>37100.0</td>\n",
              "      <td>37127.0</td>\n",
              "      <td>37097.7</td>\n",
              "      <td>37108.1</td>\n",
              "    </tr>\n",
              "    <tr>\n",
              "      <th>2023-11-12 13:55:00</th>\n",
              "      <td>1699797300000</td>\n",
              "      <td>37108.0</td>\n",
              "      <td>37108.1</td>\n",
              "      <td>37085.9</td>\n",
              "      <td>37101.0</td>\n",
              "    </tr>\n",
              "    <tr>\n",
              "      <th>2023-11-12 14:00:00</th>\n",
              "      <td>1699797600000</td>\n",
              "      <td>37101.1</td>\n",
              "      <td>37118.0</td>\n",
              "      <td>37095.3</td>\n",
              "      <td>37115.4</td>\n",
              "    </tr>\n",
              "    <tr>\n",
              "      <th>2023-11-12 14:05:00</th>\n",
              "      <td>1699797900000</td>\n",
              "      <td>37115.4</td>\n",
              "      <td>37144.0</td>\n",
              "      <td>37113.8</td>\n",
              "      <td>37139.1</td>\n",
              "    </tr>\n",
              "    <tr>\n",
              "      <th>2023-11-12 14:10:00</th>\n",
              "      <td>1699798200000</td>\n",
              "      <td>37139.0</td>\n",
              "      <td>37144.0</td>\n",
              "      <td>37127.8</td>\n",
              "      <td>37144.0</td>\n",
              "    </tr>\n",
              "    <tr>\n",
              "      <th>2023-11-12 14:15:00</th>\n",
              "      <td>1699798500000</td>\n",
              "      <td>37144.0</td>\n",
              "      <td>37165.2</td>\n",
              "      <td>37137.7</td>\n",
              "      <td>37160.9</td>\n",
              "    </tr>\n",
              "    <tr>\n",
              "      <th>2023-11-12 14:20:00</th>\n",
              "      <td>1699798800000</td>\n",
              "      <td>37160.9</td>\n",
              "      <td>37225.8</td>\n",
              "      <td>37149.5</td>\n",
              "      <td>37179.0</td>\n",
              "    </tr>\n",
              "    <tr>\n",
              "      <th>2023-11-12 14:25:00</th>\n",
              "      <td>1699799100000</td>\n",
              "      <td>37179.1</td>\n",
              "      <td>37189.4</td>\n",
              "      <td>37147.2</td>\n",
              "      <td>37163.9</td>\n",
              "    </tr>\n",
              "    <tr>\n",
              "      <th>2023-11-12 14:30:00</th>\n",
              "      <td>1699799400000</td>\n",
              "      <td>37164.0</td>\n",
              "      <td>37168.4</td>\n",
              "      <td>37123.7</td>\n",
              "      <td>37162.0</td>\n",
              "    </tr>\n",
              "    <tr>\n",
              "      <th>2023-11-12 14:35:00</th>\n",
              "      <td>1699799700000</td>\n",
              "      <td>37161.9</td>\n",
              "      <td>37172.5</td>\n",
              "      <td>37134.1</td>\n",
              "      <td>37144.8</td>\n",
              "    </tr>\n",
              "    <tr>\n",
              "      <th>2023-11-12 14:40:00</th>\n",
              "      <td>1699800000000</td>\n",
              "      <td>37144.8</td>\n",
              "      <td>37167.7</td>\n",
              "      <td>37133.0</td>\n",
              "      <td>37161.0</td>\n",
              "    </tr>\n",
              "    <tr>\n",
              "      <th>2023-11-12 14:45:00</th>\n",
              "      <td>1699800300000</td>\n",
              "      <td>37160.9</td>\n",
              "      <td>37167.0</td>\n",
              "      <td>37135.6</td>\n",
              "      <td>37144.5</td>\n",
              "    </tr>\n",
              "    <tr>\n",
              "      <th>2023-11-12 14:50:00</th>\n",
              "      <td>1699800600000</td>\n",
              "      <td>37144.6</td>\n",
              "      <td>37163.7</td>\n",
              "      <td>37144.3</td>\n",
              "      <td>37148.9</td>\n",
              "    </tr>\n",
              "    <tr>\n",
              "      <th>2023-11-12 14:55:00</th>\n",
              "      <td>1699800900000</td>\n",
              "      <td>37148.8</td>\n",
              "      <td>37170.0</td>\n",
              "      <td>37143.4</td>\n",
              "      <td>37169.9</td>\n",
              "    </tr>\n",
              "    <tr>\n",
              "      <th>2023-11-12 15:00:00</th>\n",
              "      <td>1699801200000</td>\n",
              "      <td>37170.0</td>\n",
              "      <td>37258.4</td>\n",
              "      <td>37169.9</td>\n",
              "      <td>37229.5</td>\n",
              "    </tr>\n",
              "    <tr>\n",
              "      <th>2023-11-12 15:05:00</th>\n",
              "      <td>1699801500000</td>\n",
              "      <td>37229.6</td>\n",
              "      <td>37229.6</td>\n",
              "      <td>37178.7</td>\n",
              "      <td>37193.8</td>\n",
              "    </tr>\n",
              "    <tr>\n",
              "      <th>2023-11-12 15:10:00</th>\n",
              "      <td>1699801800000</td>\n",
              "      <td>37193.9</td>\n",
              "      <td>37202.6</td>\n",
              "      <td>37101.0</td>\n",
              "      <td>37107.2</td>\n",
              "    </tr>\n",
              "    <tr>\n",
              "      <th>2023-11-12 15:15:00</th>\n",
              "      <td>1699802100000</td>\n",
              "      <td>37107.9</td>\n",
              "      <td>37151.7</td>\n",
              "      <td>37107.8</td>\n",
              "      <td>37117.5</td>\n",
              "    </tr>\n",
              "    <tr>\n",
              "      <th>2023-11-12 15:20:00</th>\n",
              "      <td>1699802400000</td>\n",
              "      <td>37117.6</td>\n",
              "      <td>37143.5</td>\n",
              "      <td>37108.0</td>\n",
              "      <td>37140.0</td>\n",
              "    </tr>\n",
              "    <tr>\n",
              "      <th>2023-11-12 15:25:00</th>\n",
              "      <td>1699802700000</td>\n",
              "      <td>37139.9</td>\n",
              "      <td>37155.0</td>\n",
              "      <td>37126.0</td>\n",
              "      <td>37146.7</td>\n",
              "    </tr>\n",
              "  </tbody>\n",
              "</table>\n",
              "</div>"
            ],
            "text/plain": [
              "                         timestamp     open     high      low    close\n",
              "datetime                                                              \n",
              "2023-11-12 13:00:00  1699794000000  37035.9  37036.0  36955.0  37002.2\n",
              "2023-11-12 13:05:00  1699794300000  37002.2  37018.2  36973.6  37015.9\n",
              "2023-11-12 13:10:00  1699794600000  37016.0  37079.3  37010.3  37070.0\n",
              "2023-11-12 13:15:00  1699794900000  37070.0  37166.1  37070.0  37139.1\n",
              "2023-11-12 13:20:00  1699795200000  37139.3  37157.4  37103.9  37108.5\n",
              "2023-11-12 13:25:00  1699795500000  37108.5  37135.0  37105.2  37121.5\n",
              "2023-11-12 13:30:00  1699795800000  37121.5  37148.6  37102.0  37116.6\n",
              "2023-11-12 13:35:00  1699796100000  37116.6  37124.5  37081.5  37083.5\n",
              "2023-11-12 13:40:00  1699796400000  37083.4  37092.0  37062.1  37078.7\n",
              "2023-11-12 13:45:00  1699796700000  37078.7  37107.6  37071.1  37100.1\n",
              "2023-11-12 13:50:00  1699797000000  37100.0  37127.0  37097.7  37108.1\n",
              "2023-11-12 13:55:00  1699797300000  37108.0  37108.1  37085.9  37101.0\n",
              "2023-11-12 14:00:00  1699797600000  37101.1  37118.0  37095.3  37115.4\n",
              "2023-11-12 14:05:00  1699797900000  37115.4  37144.0  37113.8  37139.1\n",
              "2023-11-12 14:10:00  1699798200000  37139.0  37144.0  37127.8  37144.0\n",
              "2023-11-12 14:15:00  1699798500000  37144.0  37165.2  37137.7  37160.9\n",
              "2023-11-12 14:20:00  1699798800000  37160.9  37225.8  37149.5  37179.0\n",
              "2023-11-12 14:25:00  1699799100000  37179.1  37189.4  37147.2  37163.9\n",
              "2023-11-12 14:30:00  1699799400000  37164.0  37168.4  37123.7  37162.0\n",
              "2023-11-12 14:35:00  1699799700000  37161.9  37172.5  37134.1  37144.8\n",
              "2023-11-12 14:40:00  1699800000000  37144.8  37167.7  37133.0  37161.0\n",
              "2023-11-12 14:45:00  1699800300000  37160.9  37167.0  37135.6  37144.5\n",
              "2023-11-12 14:50:00  1699800600000  37144.6  37163.7  37144.3  37148.9\n",
              "2023-11-12 14:55:00  1699800900000  37148.8  37170.0  37143.4  37169.9\n",
              "2023-11-12 15:00:00  1699801200000  37170.0  37258.4  37169.9  37229.5\n",
              "2023-11-12 15:05:00  1699801500000  37229.6  37229.6  37178.7  37193.8\n",
              "2023-11-12 15:10:00  1699801800000  37193.9  37202.6  37101.0  37107.2\n",
              "2023-11-12 15:15:00  1699802100000  37107.9  37151.7  37107.8  37117.5\n",
              "2023-11-12 15:20:00  1699802400000  37117.6  37143.5  37108.0  37140.0\n",
              "2023-11-12 15:25:00  1699802700000  37139.9  37155.0  37126.0  37146.7"
            ]
          },
          "execution_count": 28,
          "metadata": {},
          "output_type": "execute_result"
        }
      ],
      "source": [
        "candles_busdm_df = busdm_to_df(candles=candles_busdm)\n",
        "candles_busdm_df"
      ]
    },
    {
      "cell_type": "code",
      "execution_count": 24,
      "metadata": {},
      "outputs": [
        {
          "data": {
            "application/vnd.plotly.v1+json": {
              "config": {
                "plotlyServerURL": "https://plot.ly"
              },
              "data": [
                {
                  "close": [
                    37078.7,
                    37100.1,
                    37108.1,
                    37101,
                    37115.4,
                    37139.1,
                    37144,
                    37160.9,
                    37179,
                    37163.9,
                    37162,
                    37144.8,
                    37161,
                    37144.5,
                    37148.9,
                    37169.9,
                    37229.5,
                    37193.8,
                    37107.2,
                    37117.5,
                    37140
                  ],
                  "high": [
                    37092,
                    37107.6,
                    37127,
                    37108.1,
                    37118,
                    37144,
                    37144,
                    37165.2,
                    37225.8,
                    37189.4,
                    37168.4,
                    37172.5,
                    37167.7,
                    37167,
                    37163.7,
                    37170,
                    37258.4,
                    37229.6,
                    37202.6,
                    37151.7,
                    37143.5
                  ],
                  "low": [
                    37062.1,
                    37071.1,
                    37097.7,
                    37085.9,
                    37095.3,
                    37113.8,
                    37127.8,
                    37137.7,
                    37149.5,
                    37147.2,
                    37123.7,
                    37134.1,
                    37133,
                    37135.6,
                    37144.3,
                    37143.4,
                    37169.9,
                    37178.7,
                    37101,
                    37107.8,
                    37108
                  ],
                  "open": [
                    37083.4,
                    37078.7,
                    37100,
                    37108,
                    37101.1,
                    37115.4,
                    37139,
                    37144,
                    37160.9,
                    37179.1,
                    37164,
                    37161.9,
                    37144.8,
                    37160.9,
                    37144.6,
                    37148.8,
                    37170,
                    37229.6,
                    37193.9,
                    37107.9,
                    37117.6
                  ],
                  "type": "candlestick",
                  "x": [
                    "2023-11-12T13:40:00",
                    "2023-11-12T13:45:00",
                    "2023-11-12T13:50:00",
                    "2023-11-12T13:55:00",
                    "2023-11-12T14:00:00",
                    "2023-11-12T14:05:00",
                    "2023-11-12T14:10:00",
                    "2023-11-12T14:15:00",
                    "2023-11-12T14:20:00",
                    "2023-11-12T14:25:00",
                    "2023-11-12T14:30:00",
                    "2023-11-12T14:35:00",
                    "2023-11-12T14:40:00",
                    "2023-11-12T14:45:00",
                    "2023-11-12T14:50:00",
                    "2023-11-12T14:55:00",
                    "2023-11-12T15:00:00",
                    "2023-11-12T15:05:00",
                    "2023-11-12T15:10:00",
                    "2023-11-12T15:15:00",
                    "2023-11-12T15:20:00"
                  ]
                }
              ],
              "layout": {
                "height": 600,
                "template": {
                  "data": {
                    "bar": [
                      {
                        "error_x": {
                          "color": "#f2f5fa"
                        },
                        "error_y": {
                          "color": "#f2f5fa"
                        },
                        "marker": {
                          "line": {
                            "color": "rgb(17,17,17)",
                            "width": 0.5
                          },
                          "pattern": {
                            "fillmode": "overlay",
                            "size": 10,
                            "solidity": 0.2
                          }
                        },
                        "type": "bar"
                      }
                    ],
                    "barpolar": [
                      {
                        "marker": {
                          "line": {
                            "color": "rgb(17,17,17)",
                            "width": 0.5
                          },
                          "pattern": {
                            "fillmode": "overlay",
                            "size": 10,
                            "solidity": 0.2
                          }
                        },
                        "type": "barpolar"
                      }
                    ],
                    "carpet": [
                      {
                        "aaxis": {
                          "endlinecolor": "#A2B1C6",
                          "gridcolor": "#506784",
                          "linecolor": "#506784",
                          "minorgridcolor": "#506784",
                          "startlinecolor": "#A2B1C6"
                        },
                        "baxis": {
                          "endlinecolor": "#A2B1C6",
                          "gridcolor": "#506784",
                          "linecolor": "#506784",
                          "minorgridcolor": "#506784",
                          "startlinecolor": "#A2B1C6"
                        },
                        "type": "carpet"
                      }
                    ],
                    "choropleth": [
                      {
                        "colorbar": {
                          "outlinewidth": 0,
                          "ticks": ""
                        },
                        "type": "choropleth"
                      }
                    ],
                    "contour": [
                      {
                        "colorbar": {
                          "outlinewidth": 0,
                          "ticks": ""
                        },
                        "colorscale": [
                          [
                            0,
                            "#0d0887"
                          ],
                          [
                            0.1111111111111111,
                            "#46039f"
                          ],
                          [
                            0.2222222222222222,
                            "#7201a8"
                          ],
                          [
                            0.3333333333333333,
                            "#9c179e"
                          ],
                          [
                            0.4444444444444444,
                            "#bd3786"
                          ],
                          [
                            0.5555555555555556,
                            "#d8576b"
                          ],
                          [
                            0.6666666666666666,
                            "#ed7953"
                          ],
                          [
                            0.7777777777777778,
                            "#fb9f3a"
                          ],
                          [
                            0.8888888888888888,
                            "#fdca26"
                          ],
                          [
                            1,
                            "#f0f921"
                          ]
                        ],
                        "type": "contour"
                      }
                    ],
                    "contourcarpet": [
                      {
                        "colorbar": {
                          "outlinewidth": 0,
                          "ticks": ""
                        },
                        "type": "contourcarpet"
                      }
                    ],
                    "heatmap": [
                      {
                        "colorbar": {
                          "outlinewidth": 0,
                          "ticks": ""
                        },
                        "colorscale": [
                          [
                            0,
                            "#0d0887"
                          ],
                          [
                            0.1111111111111111,
                            "#46039f"
                          ],
                          [
                            0.2222222222222222,
                            "#7201a8"
                          ],
                          [
                            0.3333333333333333,
                            "#9c179e"
                          ],
                          [
                            0.4444444444444444,
                            "#bd3786"
                          ],
                          [
                            0.5555555555555556,
                            "#d8576b"
                          ],
                          [
                            0.6666666666666666,
                            "#ed7953"
                          ],
                          [
                            0.7777777777777778,
                            "#fb9f3a"
                          ],
                          [
                            0.8888888888888888,
                            "#fdca26"
                          ],
                          [
                            1,
                            "#f0f921"
                          ]
                        ],
                        "type": "heatmap"
                      }
                    ],
                    "heatmapgl": [
                      {
                        "colorbar": {
                          "outlinewidth": 0,
                          "ticks": ""
                        },
                        "colorscale": [
                          [
                            0,
                            "#0d0887"
                          ],
                          [
                            0.1111111111111111,
                            "#46039f"
                          ],
                          [
                            0.2222222222222222,
                            "#7201a8"
                          ],
                          [
                            0.3333333333333333,
                            "#9c179e"
                          ],
                          [
                            0.4444444444444444,
                            "#bd3786"
                          ],
                          [
                            0.5555555555555556,
                            "#d8576b"
                          ],
                          [
                            0.6666666666666666,
                            "#ed7953"
                          ],
                          [
                            0.7777777777777778,
                            "#fb9f3a"
                          ],
                          [
                            0.8888888888888888,
                            "#fdca26"
                          ],
                          [
                            1,
                            "#f0f921"
                          ]
                        ],
                        "type": "heatmapgl"
                      }
                    ],
                    "histogram": [
                      {
                        "marker": {
                          "pattern": {
                            "fillmode": "overlay",
                            "size": 10,
                            "solidity": 0.2
                          }
                        },
                        "type": "histogram"
                      }
                    ],
                    "histogram2d": [
                      {
                        "colorbar": {
                          "outlinewidth": 0,
                          "ticks": ""
                        },
                        "colorscale": [
                          [
                            0,
                            "#0d0887"
                          ],
                          [
                            0.1111111111111111,
                            "#46039f"
                          ],
                          [
                            0.2222222222222222,
                            "#7201a8"
                          ],
                          [
                            0.3333333333333333,
                            "#9c179e"
                          ],
                          [
                            0.4444444444444444,
                            "#bd3786"
                          ],
                          [
                            0.5555555555555556,
                            "#d8576b"
                          ],
                          [
                            0.6666666666666666,
                            "#ed7953"
                          ],
                          [
                            0.7777777777777778,
                            "#fb9f3a"
                          ],
                          [
                            0.8888888888888888,
                            "#fdca26"
                          ],
                          [
                            1,
                            "#f0f921"
                          ]
                        ],
                        "type": "histogram2d"
                      }
                    ],
                    "histogram2dcontour": [
                      {
                        "colorbar": {
                          "outlinewidth": 0,
                          "ticks": ""
                        },
                        "colorscale": [
                          [
                            0,
                            "#0d0887"
                          ],
                          [
                            0.1111111111111111,
                            "#46039f"
                          ],
                          [
                            0.2222222222222222,
                            "#7201a8"
                          ],
                          [
                            0.3333333333333333,
                            "#9c179e"
                          ],
                          [
                            0.4444444444444444,
                            "#bd3786"
                          ],
                          [
                            0.5555555555555556,
                            "#d8576b"
                          ],
                          [
                            0.6666666666666666,
                            "#ed7953"
                          ],
                          [
                            0.7777777777777778,
                            "#fb9f3a"
                          ],
                          [
                            0.8888888888888888,
                            "#fdca26"
                          ],
                          [
                            1,
                            "#f0f921"
                          ]
                        ],
                        "type": "histogram2dcontour"
                      }
                    ],
                    "mesh3d": [
                      {
                        "colorbar": {
                          "outlinewidth": 0,
                          "ticks": ""
                        },
                        "type": "mesh3d"
                      }
                    ],
                    "parcoords": [
                      {
                        "line": {
                          "colorbar": {
                            "outlinewidth": 0,
                            "ticks": ""
                          }
                        },
                        "type": "parcoords"
                      }
                    ],
                    "pie": [
                      {
                        "automargin": true,
                        "type": "pie"
                      }
                    ],
                    "scatter": [
                      {
                        "marker": {
                          "line": {
                            "color": "#222"
                          }
                        },
                        "type": "scatter"
                      }
                    ],
                    "scatter3d": [
                      {
                        "line": {
                          "colorbar": {
                            "outlinewidth": 0,
                            "ticks": ""
                          }
                        },
                        "marker": {
                          "colorbar": {
                            "outlinewidth": 0,
                            "ticks": ""
                          }
                        },
                        "type": "scatter3d"
                      }
                    ],
                    "scattercarpet": [
                      {
                        "marker": {
                          "colorbar": {
                            "outlinewidth": 0,
                            "ticks": ""
                          }
                        },
                        "type": "scattercarpet"
                      }
                    ],
                    "scattergeo": [
                      {
                        "marker": {
                          "colorbar": {
                            "outlinewidth": 0,
                            "ticks": ""
                          }
                        },
                        "type": "scattergeo"
                      }
                    ],
                    "scattergl": [
                      {
                        "marker": {
                          "line": {
                            "color": "#222"
                          }
                        },
                        "type": "scattergl"
                      }
                    ],
                    "scattermapbox": [
                      {
                        "marker": {
                          "colorbar": {
                            "outlinewidth": 0,
                            "ticks": ""
                          }
                        },
                        "type": "scattermapbox"
                      }
                    ],
                    "scatterpolar": [
                      {
                        "marker": {
                          "colorbar": {
                            "outlinewidth": 0,
                            "ticks": ""
                          }
                        },
                        "type": "scatterpolar"
                      }
                    ],
                    "scatterpolargl": [
                      {
                        "marker": {
                          "colorbar": {
                            "outlinewidth": 0,
                            "ticks": ""
                          }
                        },
                        "type": "scatterpolargl"
                      }
                    ],
                    "scatterternary": [
                      {
                        "marker": {
                          "colorbar": {
                            "outlinewidth": 0,
                            "ticks": ""
                          }
                        },
                        "type": "scatterternary"
                      }
                    ],
                    "surface": [
                      {
                        "colorbar": {
                          "outlinewidth": 0,
                          "ticks": ""
                        },
                        "colorscale": [
                          [
                            0,
                            "#0d0887"
                          ],
                          [
                            0.1111111111111111,
                            "#46039f"
                          ],
                          [
                            0.2222222222222222,
                            "#7201a8"
                          ],
                          [
                            0.3333333333333333,
                            "#9c179e"
                          ],
                          [
                            0.4444444444444444,
                            "#bd3786"
                          ],
                          [
                            0.5555555555555556,
                            "#d8576b"
                          ],
                          [
                            0.6666666666666666,
                            "#ed7953"
                          ],
                          [
                            0.7777777777777778,
                            "#fb9f3a"
                          ],
                          [
                            0.8888888888888888,
                            "#fdca26"
                          ],
                          [
                            1,
                            "#f0f921"
                          ]
                        ],
                        "type": "surface"
                      }
                    ],
                    "table": [
                      {
                        "cells": {
                          "fill": {
                            "color": "#506784"
                          },
                          "line": {
                            "color": "rgb(17,17,17)"
                          }
                        },
                        "header": {
                          "fill": {
                            "color": "#2a3f5f"
                          },
                          "line": {
                            "color": "rgb(17,17,17)"
                          }
                        },
                        "type": "table"
                      }
                    ]
                  },
                  "layout": {
                    "annotationdefaults": {
                      "arrowcolor": "#f2f5fa",
                      "arrowhead": 0,
                      "arrowwidth": 1,
                      "font": {
                        "color": "#fff"
                      }
                    },
                    "autotypenumbers": "strict",
                    "coloraxis": {
                      "colorbar": {
                        "outlinewidth": 0,
                        "ticks": ""
                      }
                    },
                    "colorscale": {
                      "diverging": [
                        [
                          0,
                          "#8e0152"
                        ],
                        [
                          0.1,
                          "#c51b7d"
                        ],
                        [
                          0.2,
                          "#de77ae"
                        ],
                        [
                          0.3,
                          "#f1b6da"
                        ],
                        [
                          0.4,
                          "#fde0ef"
                        ],
                        [
                          0.5,
                          "#f7f7f7"
                        ],
                        [
                          0.6,
                          "#e6f5d0"
                        ],
                        [
                          0.7,
                          "#b8e186"
                        ],
                        [
                          0.8,
                          "#7fbc41"
                        ],
                        [
                          0.9,
                          "#4d9221"
                        ],
                        [
                          1,
                          "#276419"
                        ]
                      ],
                      "sequential": [
                        [
                          0,
                          "#375a7f"
                        ],
                        [
                          0.1,
                          "#4f5e7d"
                        ],
                        [
                          0.2,
                          "#66627b"
                        ],
                        [
                          0.30000000000000004,
                          "#7e677a"
                        ],
                        [
                          0.4,
                          "#956b78"
                        ],
                        [
                          0.5,
                          "#ad6f76"
                        ],
                        [
                          0.6000000000000001,
                          "#c47374"
                        ],
                        [
                          0.7000000000000001,
                          "#dc7872"
                        ],
                        [
                          0.8,
                          "#f47c71"
                        ],
                        [
                          0.9,
                          "#ff806f"
                        ],
                        [
                          1,
                          "#ff846d"
                        ]
                      ],
                      "sequentialminus": [
                        [
                          0,
                          "#0d0887"
                        ],
                        [
                          0.1111111111111111,
                          "#46039f"
                        ],
                        [
                          0.2222222222222222,
                          "#7201a8"
                        ],
                        [
                          0.3333333333333333,
                          "#9c179e"
                        ],
                        [
                          0.4444444444444444,
                          "#bd3786"
                        ],
                        [
                          0.5555555555555556,
                          "#d8576b"
                        ],
                        [
                          0.6666666666666666,
                          "#ed7953"
                        ],
                        [
                          0.7777777777777778,
                          "#fb9f3a"
                        ],
                        [
                          0.8888888888888888,
                          "#fdca26"
                        ],
                        [
                          1,
                          "#f0f921"
                        ]
                      ]
                    },
                    "colorway": [
                      "#324c71",
                      "#b71e1d",
                      "#00bd8b",
                      "#ec9d0e",
                      "#6eaff5"
                    ],
                    "font": {
                      "color": "#fff",
                      "family": "Lato,-apple-system,BlinkMacSystemFont,\"Segoe UI\",Roboto,\"Helvetica Neue\",Arial,sans-serif,\"Apple Color Emoji\",\"Segoe UI Emoji\",\"Segoe UI Symbol\""
                    },
                    "geo": {
                      "bgcolor": "#222",
                      "lakecolor": "#222",
                      "landcolor": "#222",
                      "showlakes": true,
                      "showland": true,
                      "subunitcolor": "#506784"
                    },
                    "hoverlabel": {
                      "align": "left",
                      "font": {
                        "family": "Lato,-apple-system,BlinkMacSystemFont,\"Segoe UI\",Roboto,\"Helvetica Neue\",Arial,sans-serif,\"Apple Color Emoji\",\"Segoe UI Emoji\",\"Segoe UI Symbol\""
                      }
                    },
                    "hovermode": "closest",
                    "mapbox": {
                      "style": "dark"
                    },
                    "paper_bgcolor": "#222",
                    "piecolorway": [
                      "#324c71",
                      "#b71e1d",
                      "#00bd8b",
                      "#ec9d0e",
                      "#6eaff5"
                    ],
                    "plot_bgcolor": "#222",
                    "polar": {
                      "angularaxis": {
                        "gridcolor": "#506784",
                        "linecolor": "#506784",
                        "ticks": ""
                      },
                      "bgcolor": "rgb(17,17,17)",
                      "radialaxis": {
                        "gridcolor": "#506784",
                        "linecolor": "#506784",
                        "ticks": ""
                      }
                    },
                    "scene": {
                      "xaxis": {
                        "backgroundcolor": "rgb(17,17,17)",
                        "gridcolor": "#506784",
                        "gridwidth": 2,
                        "linecolor": "#506784",
                        "showbackground": true,
                        "ticks": "",
                        "zerolinecolor": "#C8D4E3"
                      },
                      "yaxis": {
                        "backgroundcolor": "rgb(17,17,17)",
                        "gridcolor": "#506784",
                        "gridwidth": 2,
                        "linecolor": "#506784",
                        "showbackground": true,
                        "ticks": "",
                        "zerolinecolor": "#C8D4E3"
                      },
                      "zaxis": {
                        "backgroundcolor": "rgb(17,17,17)",
                        "gridcolor": "#506784",
                        "gridwidth": 2,
                        "linecolor": "#506784",
                        "showbackground": true,
                        "ticks": "",
                        "zerolinecolor": "#C8D4E3"
                      }
                    },
                    "shapedefaults": {
                      "line": {
                        "color": "#f2f5fa"
                      }
                    },
                    "sliderdefaults": {
                      "bgcolor": "#C8D4E3",
                      "bordercolor": "rgb(17,17,17)",
                      "borderwidth": 1,
                      "tickwidth": 0
                    },
                    "ternary": {
                      "aaxis": {
                        "gridcolor": "#506784",
                        "linecolor": "#506784",
                        "ticks": ""
                      },
                      "baxis": {
                        "gridcolor": "#506784",
                        "linecolor": "#506784",
                        "ticks": ""
                      },
                      "bgcolor": "rgb(17,17,17)",
                      "caxis": {
                        "gridcolor": "#506784",
                        "linecolor": "#506784",
                        "ticks": ""
                      }
                    },
                    "title": {
                      "x": 0.05
                    },
                    "updatemenudefaults": {
                      "bgcolor": "#506784",
                      "borderwidth": 0
                    },
                    "xaxis": {
                      "automargin": true,
                      "gridcolor": "#343434",
                      "gridwidth": 0.5,
                      "linecolor": "#506784",
                      "ticks": "",
                      "title": {
                        "standoff": 15
                      },
                      "zerolinecolor": "#343434",
                      "zerolinewidth": 2
                    },
                    "yaxis": {
                      "automargin": true,
                      "gridcolor": "#343434",
                      "gridwidth": 0.5,
                      "linecolor": "#506784",
                      "ticks": "",
                      "title": {
                        "standoff": 15
                      },
                      "zerolinecolor": "#343434",
                      "zerolinewidth": 2
                    }
                  }
                },
                "xaxis": {
                  "rangeslider": {
                    "visible": false
                  }
                }
              }
            }
          },
          "metadata": {},
          "output_type": "display_data"
        }
      ],
      "source": [
        "plot_busdm_candles(candles=candles_busdm)"
      ]
    }
  ],
  "metadata": {
    "kernelspec": {
      "display_name": "qfFree",
      "language": "python",
      "name": "python3"
    },
    "language_info": {
      "codemirror_mode": {
        "name": "ipython",
        "version": 3
      },
      "file_extension": ".py",
      "mimetype": "text/x-python",
      "name": "python",
      "nbconvert_exporter": "python",
      "pygments_lexer": "ipython3",
      "version": "3.10.10"
    },
    "orig_nbformat": 4
  },
  "nbformat": 4,
  "nbformat_minor": 2
}
