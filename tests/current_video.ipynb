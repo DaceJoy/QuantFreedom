{
  "cells": [
    {
      "cell_type": "code",
      "execution_count": null,
      "metadata": {},
      "outputs": [],
      "source": [
        "import numpy as np\n",
        "import pandas as pd\n",
        "import plotly.graph_objects as go\n",
        "from quantfreedom.helper_funcs import dl_ex_candles, candles_to_df\n",
        "from quantfreedom.indicators.tv_indicators import rma_tv_2\n",
        "from quantfreedom.plotting.plotting_base import plot_rsi\n",
        "\n",
        "np.set_printoptions(formatter={\"float_kind\": \"{:0.2f}\".format})\n",
        "\n",
        "%load_ext autoreload\n",
        "%autoreload 2"
      ]
    },
    {
      "cell_type": "code",
      "execution_count": null,
      "metadata": {},
      "outputs": [],
      "source": [
        "candles = dl_ex_candles(\n",
        "    exchange=\"binance_us\",\n",
        "    symbol=\"BTCUSDT\",\n",
        "    timeframe=\"1h\",\n",
        "    candles_to_dl=400,\n",
        ")\n",
        "close = candles[:, 4]"
      ]
    },
    {
      "cell_type": "code",
      "execution_count": null,
      "metadata": {},
      "outputs": [],
      "source": [
        "candles_to_df(candles=candles)"
      ]
    },
    {
      "cell_type": "code",
      "execution_count": null,
      "metadata": {},
      "outputs": [],
      "source": [
        "source = close\n",
        "length = 14"
      ]
    },
    {
      "cell_type": "code",
      "execution_count": null,
      "metadata": {},
      "outputs": [],
      "source": [
        "prev_source = np.roll(source,1)\n",
        "prev_source[0] = np.nan"
      ]
    },
    {
      "cell_type": "code",
      "execution_count": null,
      "metadata": {},
      "outputs": [],
      "source": [
        "change = source - prev_source"
      ]
    },
    {
      "cell_type": "code",
      "execution_count": null,
      "metadata": {},
      "outputs": [],
      "source": [
        "gains = np.where(change > 0, change, 0)\n",
        "losses = np.where(change < 0, -change, 0)"
      ]
    },
    {
      "cell_type": "code",
      "execution_count": null,
      "metadata": {},
      "outputs": [],
      "source": [
        "gains[0] = np.nan\n",
        "losses[0] = np.nan"
      ]
    },
    {
      "cell_type": "code",
      "execution_count": null,
      "metadata": {},
      "outputs": [],
      "source": [
        "rma_gains, rma_losses = rma_tv_2(\n",
        "    source_1=gains,\n",
        "    source_2=losses,\n",
        "    length=length,\n",
        ")"
      ]
    },
    {
      "cell_type": "code",
      "execution_count": null,
      "metadata": {},
      "outputs": [],
      "source": [
        "rs = rma_gains / rma_losses"
      ]
    },
    {
      "cell_type": "code",
      "execution_count": null,
      "metadata": {},
      "outputs": [],
      "source": [
        "rs"
      ]
    },
    {
      "cell_type": "code",
      "execution_count": null,
      "metadata": {},
      "outputs": [],
      "source": [
        "rsi = 100 - 100 / (1 + rs)"
      ]
    },
    {
      "cell_type": "code",
      "execution_count": null,
      "metadata": {},
      "outputs": [],
      "source": [
        "rsi"
      ]
    },
    {
      "cell_type": "code",
      "execution_count": null,
      "metadata": {},
      "outputs": [],
      "source": [
        "def tv_rsi(\n",
        "    source: np.array,\n",
        "    length: int,\n",
        "):\n",
        "    \"\"\"\n",
        "    Relative strength index https://www.tradingview.com/pine-script-reference/v5/#fun_ta.rsi\n",
        "    \"\"\"\n",
        "    prev_source = np.roll(source, 1)\n",
        "    prev_source[0] = np.nan\n",
        "    change = source - prev_source\n",
        "\n",
        "    gains = np.where(change > 0, change, 0)\n",
        "    losses = np.where(change < 0, -(change), 0)\n",
        "    gains[0] = np.nan\n",
        "    losses[0] = np.nan\n",
        "\n",
        "    rma_gains, rma_losses = rma_tv_2(\n",
        "        source_1=gains,\n",
        "        source_2=losses,\n",
        "        length=length,\n",
        "    )\n",
        "\n",
        "    rs = rma_gains / rma_losses\n",
        "\n",
        "    rsi = 100 - (100 / (1 + rs))\n",
        "    return rsi"
      ]
    },
    {
      "cell_type": "code",
      "execution_count": null,
      "metadata": {},
      "outputs": [],
      "source": [
        "tv_rsi(source=close, length=14)"
      ]
    },
    {
      "cell_type": "code",
      "execution_count": null,
      "metadata": {},
      "outputs": [],
      "source": [
        "plot_rsi(candles=candles, indicator=rsi, ind_color=\"red\")"
      ]
    }
  ],
  "metadata": {
    "kernelspec": {
      "display_name": "qfFree",
      "language": "python",
      "name": "python3"
    },
    "language_info": {
      "codemirror_mode": {
        "name": "ipython",
        "version": 3
      },
      "file_extension": ".py",
      "mimetype": "text/x-python",
      "name": "python",
      "nbconvert_exporter": "python",
      "pygments_lexer": "ipython3",
      "version": "3.10.10"
    },
    "orig_nbformat": 4
  },
  "nbformat": 4,
  "nbformat_minor": 2
}
