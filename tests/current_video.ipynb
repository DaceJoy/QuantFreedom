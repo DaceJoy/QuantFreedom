{
  "cells": [
    {
      "cell_type": "code",
      "execution_count": null,
      "metadata": {},
      "outputs": [],
      "source": [
        "import numpy as np\n",
        "import pandas as pd\n",
        "import plotly.graph_objects as go\n",
        "from quantfreedom.enums import CandleBodyType\n",
        "from quantfreedom.indicators.tv_indicators import rma_tv\n",
        "from plotly.subplots import make_subplots\n",
        "from quantfreedom.indicators.tv_indicators import sma_tv\n",
        "\n",
        "from quantfreedom.helper_funcs import dl_ex_candles, candles_to_df\n",
        "\n",
        "np.set_printoptions(formatter={\"float_kind\": \"{:0.2f}\".format})\n",
        "\n",
        "%load_ext autoreload\n",
        "%autoreload 2"
      ]
    },
    {
      "cell_type": "code",
      "execution_count": null,
      "metadata": {},
      "outputs": [],
      "source": [
        "candles = dl_ex_candles(\n",
        "    exchange=\"binance_us\",\n",
        "    symbol=\"BTCUSDT\",\n",
        "    timeframe=\"1h\",\n",
        "    candles_to_dl=400,\n",
        ")"
      ]
    },
    {
      "cell_type": "code",
      "execution_count": null,
      "metadata": {},
      "outputs": [],
      "source": [
        "candles_to_df(candles)"
      ]
    },
    {
      "cell_type": "code",
      "execution_count": null,
      "metadata": {},
      "outputs": [],
      "source": [
        "open = candles[:, CandleBodyType.Close]\n",
        "high = candles[:, CandleBodyType.High]\n",
        "low = candles[:, CandleBodyType.Low]\n",
        "close = candles[:, CandleBodyType.Close]"
      ]
    },
    {
      "cell_type": "code",
      "execution_count": null,
      "metadata": {},
      "outputs": [],
      "source": [
        "lin_reg_candles = np.full_like(candles, np.nan)"
      ]
    },
    {
      "cell_type": "code",
      "execution_count": null,
      "metadata": {},
      "outputs": [],
      "source": [
        "lin_reg_length = 11\n",
        "x = np.arange(0, lin_reg_length)\n",
        "A = np.vstack([x, np.ones(len(x))]).T\n",
        "lin_reg_length_m_1 = lin_reg_length - 1"
      ]
    },
    {
      "cell_type": "code",
      "execution_count": null,
      "metadata": {},
      "outputs": [],
      "source": [
        "for i in range(lin_reg_length_m_1, close.size):\n",
        "    m, b = np.linalg.lstsq(A, open[i - lin_reg_length_m_1 : i + 1], rcond=None)[0]\n",
        "    lin_reg_candles[i, CandleBodyType.Open] = b + m * lin_reg_length_m_1\n",
        "\n",
        "    m, b = np.linalg.lstsq(A, high[i - lin_reg_length_m_1 : i + 1], rcond=None)[0]\n",
        "    lin_reg_candles[i, CandleBodyType.High] = b + m * lin_reg_length_m_1\n",
        "\n",
        "    m, b = np.linalg.lstsq(A, low[i - lin_reg_length_m_1 : i + 1], rcond=None)[0]\n",
        "    lin_reg_candles[i, CandleBodyType.Low] = b + m * lin_reg_length_m_1\n",
        "\n",
        "    m, b = np.linalg.lstsq(A, close[i - lin_reg_length_m_1 : i + 1], rcond=None)[0]\n",
        "    lin_reg_candles[i, CandleBodyType.Close] = b + m * lin_reg_length_m_1"
      ]
    },
    {
      "cell_type": "code",
      "execution_count": null,
      "metadata": {},
      "outputs": [],
      "source": [
        "smoothing_type = sma_tv\n",
        "smoothing_length = 11"
      ]
    },
    {
      "cell_type": "code",
      "execution_count": null,
      "metadata": {},
      "outputs": [],
      "source": [
        "signal = smoothing_type(\n",
        "    source=lin_reg_candles[:, CandleBodyType.Close],\n",
        "    length=smoothing_length,\n",
        ")"
      ]
    },
    {
      "cell_type": "code",
      "execution_count": null,
      "metadata": {},
      "outputs": [],
      "source": [
        "signal"
      ]
    },
    {
      "cell_type": "code",
      "execution_count": null,
      "metadata": {},
      "outputs": [],
      "source": [
        "lin_reg_candles[:, CandleBodyType.Timestamp] = candles[:, CandleBodyType.Timestamp]\n",
        "lin_reg_candles[:, CandleBodyType.Volume] = candles[:, CandleBodyType.Volume]"
      ]
    },
    {
      "cell_type": "code",
      "execution_count": null,
      "metadata": {},
      "outputs": [],
      "source": []
    }
  ],
  "metadata": {
    "kernelspec": {
      "display_name": "qfFree",
      "language": "python",
      "name": "python3"
    },
    "language_info": {
      "codemirror_mode": {
        "name": "ipython",
        "version": 3
      },
      "file_extension": ".py",
      "mimetype": "text/x-python",
      "name": "python",
      "nbconvert_exporter": "python",
      "pygments_lexer": "ipython3",
      "version": "3.10.10"
    },
    "orig_nbformat": 4
  },
  "nbformat": 4,
  "nbformat_minor": 2
}
