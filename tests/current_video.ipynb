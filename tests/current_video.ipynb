{
  "cells": [
    {
      "cell_type": "code",
      "execution_count": 9,
      "metadata": {},
      "outputs": [
        {
          "name": "stdout",
          "output_type": "stream",
          "text": [
            "The autoreload extension is already loaded. To reload it, use:\n",
            "  %reload_ext autoreload\n"
          ]
        }
      ],
      "source": [
        "import numpy as np\n",
        "import pandas as pd\n",
        "from requests import get\n",
        "\n",
        "from datetime import timedelta\n",
        "from time import sleep, time\n",
        "import plotly.graph_objects as go\n",
        "from quantfreedom.helper_funcs import dl_ex_candles, candles_to_df\n",
        "np.set_printoptions(formatter={\"float_kind\": \"{:0.2f}\".format})\n",
        "from dash import Dash\n",
        "from dash_bootstrap_templates import load_figure_template\n",
        "from jupyter_dash import JupyterDash\n",
        "from IPython import get_ipython\n",
        "import dash_bootstrap_components as dbc\n",
        "\n",
        "load_figure_template(\"darkly\")\n",
        "dbc_css = \"https://cdn.jsdelivr.net/gh/AnnMarieW/dash-bootstrap-templates/dbc.min.css\"\n",
        "try:\n",
        "    shell = str(get_ipython())\n",
        "    if \"ZMQInteractiveShell\" in shell:\n",
        "        app = JupyterDash(__name__, external_stylesheets=[dbc.themes.DARKLY, dbc_css])\n",
        "    elif shell == \"TerminalInteractiveShell\":\n",
        "        app = JupyterDash(__name__, external_stylesheets=[dbc.themes.DARKLY, dbc_css])\n",
        "    else:\n",
        "        app = Dash(__name__, external_stylesheets=[dbc.themes.DARKLY, dbc_css])\n",
        "except NameError:\n",
        "    app = Dash(__name__, external_stylesheets=[dbc.themes.DARKLY, dbc_css])\n",
        "\n",
        "bg_color = \"#0b0b18\"\n",
        "\n",
        "%load_ext autoreload\n",
        "%autoreload 2"
      ]
    },
    {
      "cell_type": "code",
      "execution_count": 19,
      "metadata": {},
      "outputs": [],
      "source": [
        "params = {\n",
        "    \"symbol\": \"BTCUSDT\",\n",
        "    \"interval\": \"5m\",\n",
        "    \"startTime\": None,\n",
        "    \"endTime\": None,\n",
        "    \"limit\": 10,\n",
        "}\n",
        "b_cans = get(url=\"https://fapi.binance.com/fapi/v1/klines\", params=params).json()"
      ]
    },
    {
      "cell_type": "code",
      "execution_count": 20,
      "metadata": {},
      "outputs": [
        {
          "data": {
            "text/html": [
              "<div>\n",
              "<style scoped>\n",
              "    .dataframe tbody tr th:only-of-type {\n",
              "        vertical-align: middle;\n",
              "    }\n",
              "\n",
              "    .dataframe tbody tr th {\n",
              "        vertical-align: top;\n",
              "    }\n",
              "\n",
              "    .dataframe thead th {\n",
              "        text-align: right;\n",
              "    }\n",
              "</style>\n",
              "<table border=\"1\" class=\"dataframe\">\n",
              "  <thead>\n",
              "    <tr style=\"text-align: right;\">\n",
              "      <th></th>\n",
              "      <th>0</th>\n",
              "      <th>1</th>\n",
              "      <th>2</th>\n",
              "      <th>3</th>\n",
              "      <th>4</th>\n",
              "      <th>5</th>\n",
              "      <th>6</th>\n",
              "      <th>7</th>\n",
              "      <th>8</th>\n",
              "      <th>9</th>\n",
              "      <th>10</th>\n",
              "      <th>11</th>\n",
              "    </tr>\n",
              "  </thead>\n",
              "  <tbody>\n",
              "    <tr>\n",
              "      <th>0</th>\n",
              "      <td>1699810500000</td>\n",
              "      <td>37113.40</td>\n",
              "      <td>37136.70</td>\n",
              "      <td>37113.30</td>\n",
              "      <td>37128.60</td>\n",
              "      <td>147.204</td>\n",
              "      <td>1699810799999</td>\n",
              "      <td>5465072.43420</td>\n",
              "      <td>2758</td>\n",
              "      <td>108.136</td>\n",
              "      <td>4014667.69650</td>\n",
              "      <td>0</td>\n",
              "    </tr>\n",
              "    <tr>\n",
              "      <th>1</th>\n",
              "      <td>1699810800000</td>\n",
              "      <td>37128.70</td>\n",
              "      <td>37131.30</td>\n",
              "      <td>37124.20</td>\n",
              "      <td>37124.30</td>\n",
              "      <td>65.208</td>\n",
              "      <td>1699811099999</td>\n",
              "      <td>2421123.38830</td>\n",
              "      <td>1639</td>\n",
              "      <td>26.480</td>\n",
              "      <td>983185.89960</td>\n",
              "      <td>0</td>\n",
              "    </tr>\n",
              "    <tr>\n",
              "      <th>2</th>\n",
              "      <td>1699811100000</td>\n",
              "      <td>37124.20</td>\n",
              "      <td>37140</td>\n",
              "      <td>37124</td>\n",
              "      <td>37124</td>\n",
              "      <td>205.932</td>\n",
              "      <td>1699811399999</td>\n",
              "      <td>7646242.44770</td>\n",
              "      <td>3153</td>\n",
              "      <td>107.821</td>\n",
              "      <td>4003367.84080</td>\n",
              "      <td>0</td>\n",
              "    </tr>\n",
              "    <tr>\n",
              "      <th>3</th>\n",
              "      <td>1699811400000</td>\n",
              "      <td>37124</td>\n",
              "      <td>37130.10</td>\n",
              "      <td>37119</td>\n",
              "      <td>37119</td>\n",
              "      <td>141.271</td>\n",
              "      <td>1699811699999</td>\n",
              "      <td>5244702.88560</td>\n",
              "      <td>2105</td>\n",
              "      <td>52.246</td>\n",
              "      <td>1939658.98040</td>\n",
              "      <td>0</td>\n",
              "    </tr>\n",
              "    <tr>\n",
              "      <th>4</th>\n",
              "      <td>1699811700000</td>\n",
              "      <td>37119</td>\n",
              "      <td>37119.10</td>\n",
              "      <td>37093.10</td>\n",
              "      <td>37108.40</td>\n",
              "      <td>236.919</td>\n",
              "      <td>1699811999999</td>\n",
              "      <td>8790678.85290</td>\n",
              "      <td>4223</td>\n",
              "      <td>82.132</td>\n",
              "      <td>3047490.80300</td>\n",
              "      <td>0</td>\n",
              "    </tr>\n",
              "    <tr>\n",
              "      <th>5</th>\n",
              "      <td>1699812000000</td>\n",
              "      <td>37108.40</td>\n",
              "      <td>37114.70</td>\n",
              "      <td>37095.40</td>\n",
              "      <td>37100.10</td>\n",
              "      <td>189.440</td>\n",
              "      <td>1699812299999</td>\n",
              "      <td>7029095.49380</td>\n",
              "      <td>3204</td>\n",
              "      <td>93.379</td>\n",
              "      <td>3464794.65150</td>\n",
              "      <td>0</td>\n",
              "    </tr>\n",
              "    <tr>\n",
              "      <th>6</th>\n",
              "      <td>1699812300000</td>\n",
              "      <td>37100.10</td>\n",
              "      <td>37100.20</td>\n",
              "      <td>37080.10</td>\n",
              "      <td>37084.60</td>\n",
              "      <td>259.812</td>\n",
              "      <td>1699812599999</td>\n",
              "      <td>9636204.27430</td>\n",
              "      <td>3614</td>\n",
              "      <td>79.260</td>\n",
              "      <td>2939537.07930</td>\n",
              "      <td>0</td>\n",
              "    </tr>\n",
              "    <tr>\n",
              "      <th>7</th>\n",
              "      <td>1699812600000</td>\n",
              "      <td>37084.60</td>\n",
              "      <td>37096</td>\n",
              "      <td>37084.60</td>\n",
              "      <td>37090.70</td>\n",
              "      <td>218.572</td>\n",
              "      <td>1699812899999</td>\n",
              "      <td>8106781.97940</td>\n",
              "      <td>2508</td>\n",
              "      <td>149.109</td>\n",
              "      <td>5530359.15690</td>\n",
              "      <td>0</td>\n",
              "    </tr>\n",
              "    <tr>\n",
              "      <th>8</th>\n",
              "      <td>1699812900000</td>\n",
              "      <td>37090.70</td>\n",
              "      <td>37113.90</td>\n",
              "      <td>37086.60</td>\n",
              "      <td>37106.60</td>\n",
              "      <td>268.934</td>\n",
              "      <td>1699813199999</td>\n",
              "      <td>9976707.79880</td>\n",
              "      <td>3438</td>\n",
              "      <td>180.351</td>\n",
              "      <td>6690559.58290</td>\n",
              "      <td>0</td>\n",
              "    </tr>\n",
              "    <tr>\n",
              "      <th>9</th>\n",
              "      <td>1699813200000</td>\n",
              "      <td>37106.60</td>\n",
              "      <td>37114</td>\n",
              "      <td>37102.30</td>\n",
              "      <td>37113.80</td>\n",
              "      <td>75.147</td>\n",
              "      <td>1699813499999</td>\n",
              "      <td>2788571.21980</td>\n",
              "      <td>1181</td>\n",
              "      <td>54.264</td>\n",
              "      <td>2013663.47090</td>\n",
              "      <td>0</td>\n",
              "    </tr>\n",
              "  </tbody>\n",
              "</table>\n",
              "</div>"
            ],
            "text/plain": [
              "              0         1         2         3         4        5   \\\n",
              "0  1699810500000  37113.40  37136.70  37113.30  37128.60  147.204   \n",
              "1  1699810800000  37128.70  37131.30  37124.20  37124.30   65.208   \n",
              "2  1699811100000  37124.20     37140     37124     37124  205.932   \n",
              "3  1699811400000     37124  37130.10     37119     37119  141.271   \n",
              "4  1699811700000     37119  37119.10  37093.10  37108.40  236.919   \n",
              "5  1699812000000  37108.40  37114.70  37095.40  37100.10  189.440   \n",
              "6  1699812300000  37100.10  37100.20  37080.10  37084.60  259.812   \n",
              "7  1699812600000  37084.60     37096  37084.60  37090.70  218.572   \n",
              "8  1699812900000  37090.70  37113.90  37086.60  37106.60  268.934   \n",
              "9  1699813200000  37106.60     37114  37102.30  37113.80   75.147   \n",
              "\n",
              "              6              7     8        9              10 11  \n",
              "0  1699810799999  5465072.43420  2758  108.136  4014667.69650  0  \n",
              "1  1699811099999  2421123.38830  1639   26.480   983185.89960  0  \n",
              "2  1699811399999  7646242.44770  3153  107.821  4003367.84080  0  \n",
              "3  1699811699999  5244702.88560  2105   52.246  1939658.98040  0  \n",
              "4  1699811999999  8790678.85290  4223   82.132  3047490.80300  0  \n",
              "5  1699812299999  7029095.49380  3204   93.379  3464794.65150  0  \n",
              "6  1699812599999  9636204.27430  3614   79.260  2939537.07930  0  \n",
              "7  1699812899999  8106781.97940  2508  149.109  5530359.15690  0  \n",
              "8  1699813199999  9976707.79880  3438  180.351  6690559.58290  0  \n",
              "9  1699813499999  2788571.21980  1181   54.264  2013663.47090  0  "
            ]
          },
          "execution_count": 20,
          "metadata": {},
          "output_type": "execute_result"
        }
      ],
      "source": [
        "pd.DataFrame(b_cans)"
      ]
    },
    {
      "cell_type": "code",
      "execution_count": 14,
      "metadata": {},
      "outputs": [],
      "source": [
        "BINANCE_TIMEFRAMES = [\"1m\", \"3m\", \"5m\"]\n",
        "TIMEFRAMES_IN_MINUTES = [1, 3, 5]\n",
        "\n",
        "\n",
        "def get_timeframe_in_ms(timeframe: str):\n",
        "    return int(timedelta(minutes=TIMEFRAMES_IN_MINUTES[BINANCE_TIMEFRAMES.index(timeframe)]).seconds * 1000)\n",
        "\n",
        "\n",
        "def get_busdm_candles(\n",
        "    symbol: str,\n",
        "    timeframe: str,\n",
        "    since_date_ms: int = None,\n",
        "    until_date_ms: int = None,\n",
        "    candles_to_dl: int = 1500,\n",
        "    limit: int = 1500,\n",
        "):\n",
        "    timeframe_in_ms = get_timeframe_in_ms(timeframe=timeframe)\n",
        "    candles_to_dl_ms = candles_to_dl * timeframe_in_ms\n",
        "\n",
        "    if until_date_ms is None:\n",
        "        if since_date_ms is None:\n",
        "            until_date_ms = int(time() * 1000) - timeframe_in_ms\n",
        "            since_date_ms = until_date_ms - candles_to_dl_ms\n",
        "        else:\n",
        "            until_date_ms = since_date_ms + candles_to_dl_ms - 5000\n",
        "    else:\n",
        "        if since_date_ms is None:\n",
        "            since_date_ms = until_date_ms - candles_to_dl_ms\n",
        "            until_date_ms -= 5000\n",
        "\n",
        "    b_candles = []\n",
        "    params = {\n",
        "        \"symbol\": symbol,\n",
        "        \"interval\": timeframe,\n",
        "        \"startTime\": since_date_ms,\n",
        "        \"endTime\": until_date_ms,\n",
        "        \"limit\": limit,\n",
        "    }\n",
        "\n",
        "    while params[\"startTime\"] + timeframe_in_ms < until_date_ms:\n",
        "        try:\n",
        "            b_data = get(url=\"https://fapi.binance.com/fapi/v1/klines\", params=params).json()\n",
        "            last_candle_time_ms = b_data[-1][0]\n",
        "            if last_candle_time_ms == params[\"startTime\"]:\n",
        "                sleep(0.3)\n",
        "            else:\n",
        "                b_candles.extend(b_data)\n",
        "                params[\"startTime\"] = last_candle_time_ms + 2000\n",
        "        except Exception as e:\n",
        "            raise Exception(f\"get_busdm_candles -> {e}\")\n",
        "    candles_np = np.array(b_candles, dtype=np.float_)[:, :5]\n",
        "    return candles_np"
      ]
    },
    {
      "cell_type": "code",
      "execution_count": 15,
      "metadata": {},
      "outputs": [],
      "source": [
        "def busdm_to_df(candles: np.array):\n",
        "    candles_df = pd.DataFrame(candles, columns=['timestamp', 'open', 'high', 'low', 'close'])\n",
        "    candles_df['timestamp'] = candles_df['timestamp'].astype(dtype=np.int64)\n",
        "    candles_df.set_index(pd.to_datetime(candles_df['timestamp'], unit='ms'), inplace=True)\n",
        "    candles_df.index.rename('datetime', inplace=True)\n",
        "    return candles_df"
      ]
    },
    {
      "cell_type": "code",
      "execution_count": 16,
      "metadata": {},
      "outputs": [],
      "source": [
        "def plot_busdm_candles(candles: np.array):\n",
        "    fig = go.Figure(\n",
        "        data=[\n",
        "            go.Candlestick(\n",
        "                x=pd.to_datetime(candles[:, 0], unit=\"ms\"),\n",
        "                open=candles[:, 1],\n",
        "                high=candles[:, 2],\n",
        "                low=candles[:, 3],\n",
        "                close=candles[:, 4],\n",
        "            )\n",
        "        ]\n",
        "    )\n",
        "    fig.update_layout(height=600, xaxis_rangeslider_visible=False)\n",
        "    fig.show()"
      ]
    },
    {
      "cell_type": "code",
      "execution_count": 17,
      "metadata": {},
      "outputs": [
        {
          "data": {
            "text/plain": [
              "array([[1699809900000.00, 37140.10, 37140.10, 37123.80, 37134.70],\n",
              "       [1699810200000.00, 37134.60, 37141.90, 37102.60, 37113.30],\n",
              "       [1699810500000.00, 37113.40, 37136.70, 37113.30, 37128.60],\n",
              "       [1699810800000.00, 37128.70, 37131.30, 37124.20, 37124.30],\n",
              "       [1699811100000.00, 37124.20, 37140.00, 37124.00, 37124.00],\n",
              "       [1699811400000.00, 37124.00, 37130.10, 37119.00, 37119.00],\n",
              "       [1699811700000.00, 37119.00, 37119.10, 37093.10, 37108.40],\n",
              "       [1699812000000.00, 37108.40, 37114.70, 37095.40, 37100.10],\n",
              "       [1699812300000.00, 37100.10, 37100.20, 37080.10, 37084.60],\n",
              "       [1699812600000.00, 37084.60, 37096.00, 37084.60, 37090.70]])"
            ]
          },
          "execution_count": 17,
          "metadata": {},
          "output_type": "execute_result"
        }
      ],
      "source": [
        "candles_busdm = get_busdm_candles(symbol='BTCUSDT', timeframe='5m', candles_to_dl=10)\n",
        "candles_busdm"
      ]
    },
    {
      "cell_type": "code",
      "execution_count": 7,
      "metadata": {},
      "outputs": [
        {
          "data": {
            "text/html": [
              "<div>\n",
              "<style scoped>\n",
              "    .dataframe tbody tr th:only-of-type {\n",
              "        vertical-align: middle;\n",
              "    }\n",
              "\n",
              "    .dataframe tbody tr th {\n",
              "        vertical-align: top;\n",
              "    }\n",
              "\n",
              "    .dataframe thead th {\n",
              "        text-align: right;\n",
              "    }\n",
              "</style>\n",
              "<table border=\"1\" class=\"dataframe\">\n",
              "  <thead>\n",
              "    <tr style=\"text-align: right;\">\n",
              "      <th></th>\n",
              "      <th>timestamp</th>\n",
              "      <th>open</th>\n",
              "      <th>high</th>\n",
              "      <th>low</th>\n",
              "      <th>close</th>\n",
              "    </tr>\n",
              "    <tr>\n",
              "      <th>datetime</th>\n",
              "      <th></th>\n",
              "      <th></th>\n",
              "      <th></th>\n",
              "      <th></th>\n",
              "      <th></th>\n",
              "    </tr>\n",
              "  </thead>\n",
              "  <tbody>\n",
              "    <tr>\n",
              "      <th>2023-11-12 17:10:00</th>\n",
              "      <td>1699809000000</td>\n",
              "      <td>37124.1</td>\n",
              "      <td>37139.4</td>\n",
              "      <td>37124.1</td>\n",
              "      <td>37139.4</td>\n",
              "    </tr>\n",
              "    <tr>\n",
              "      <th>2023-11-12 17:15:00</th>\n",
              "      <td>1699809300000</td>\n",
              "      <td>37139.3</td>\n",
              "      <td>37140.2</td>\n",
              "      <td>37135.5</td>\n",
              "      <td>37138.7</td>\n",
              "    </tr>\n",
              "    <tr>\n",
              "      <th>2023-11-12 17:20:00</th>\n",
              "      <td>1699809600000</td>\n",
              "      <td>37138.7</td>\n",
              "      <td>37142.1</td>\n",
              "      <td>37134.0</td>\n",
              "      <td>37140.0</td>\n",
              "    </tr>\n",
              "    <tr>\n",
              "      <th>2023-11-12 17:25:00</th>\n",
              "      <td>1699809900000</td>\n",
              "      <td>37140.1</td>\n",
              "      <td>37140.1</td>\n",
              "      <td>37123.8</td>\n",
              "      <td>37134.7</td>\n",
              "    </tr>\n",
              "    <tr>\n",
              "      <th>2023-11-12 17:30:00</th>\n",
              "      <td>1699810200000</td>\n",
              "      <td>37134.6</td>\n",
              "      <td>37141.9</td>\n",
              "      <td>37102.6</td>\n",
              "      <td>37113.3</td>\n",
              "    </tr>\n",
              "    <tr>\n",
              "      <th>2023-11-12 17:35:00</th>\n",
              "      <td>1699810500000</td>\n",
              "      <td>37113.4</td>\n",
              "      <td>37136.7</td>\n",
              "      <td>37113.3</td>\n",
              "      <td>37128.6</td>\n",
              "    </tr>\n",
              "    <tr>\n",
              "      <th>2023-11-12 17:40:00</th>\n",
              "      <td>1699810800000</td>\n",
              "      <td>37128.7</td>\n",
              "      <td>37131.3</td>\n",
              "      <td>37124.2</td>\n",
              "      <td>37124.3</td>\n",
              "    </tr>\n",
              "    <tr>\n",
              "      <th>2023-11-12 17:45:00</th>\n",
              "      <td>1699811100000</td>\n",
              "      <td>37124.2</td>\n",
              "      <td>37140.0</td>\n",
              "      <td>37124.0</td>\n",
              "      <td>37124.0</td>\n",
              "    </tr>\n",
              "    <tr>\n",
              "      <th>2023-11-12 17:50:00</th>\n",
              "      <td>1699811400000</td>\n",
              "      <td>37124.0</td>\n",
              "      <td>37130.1</td>\n",
              "      <td>37119.0</td>\n",
              "      <td>37119.0</td>\n",
              "    </tr>\n",
              "    <tr>\n",
              "      <th>2023-11-12 17:55:00</th>\n",
              "      <td>1699811700000</td>\n",
              "      <td>37119.0</td>\n",
              "      <td>37119.1</td>\n",
              "      <td>37093.1</td>\n",
              "      <td>37108.4</td>\n",
              "    </tr>\n",
              "  </tbody>\n",
              "</table>\n",
              "</div>"
            ],
            "text/plain": [
              "                         timestamp     open     high      low    close\n",
              "datetime                                                              \n",
              "2023-11-12 17:10:00  1699809000000  37124.1  37139.4  37124.1  37139.4\n",
              "2023-11-12 17:15:00  1699809300000  37139.3  37140.2  37135.5  37138.7\n",
              "2023-11-12 17:20:00  1699809600000  37138.7  37142.1  37134.0  37140.0\n",
              "2023-11-12 17:25:00  1699809900000  37140.1  37140.1  37123.8  37134.7\n",
              "2023-11-12 17:30:00  1699810200000  37134.6  37141.9  37102.6  37113.3\n",
              "2023-11-12 17:35:00  1699810500000  37113.4  37136.7  37113.3  37128.6\n",
              "2023-11-12 17:40:00  1699810800000  37128.7  37131.3  37124.2  37124.3\n",
              "2023-11-12 17:45:00  1699811100000  37124.2  37140.0  37124.0  37124.0\n",
              "2023-11-12 17:50:00  1699811400000  37124.0  37130.1  37119.0  37119.0\n",
              "2023-11-12 17:55:00  1699811700000  37119.0  37119.1  37093.1  37108.4"
            ]
          },
          "execution_count": 7,
          "metadata": {},
          "output_type": "execute_result"
        }
      ],
      "source": [
        "candles_busdm_df = busdm_to_df(candles=candles_busdm)\n",
        "candles_busdm_df"
      ]
    },
    {
      "cell_type": "code",
      "execution_count": 8,
      "metadata": {},
      "outputs": [
        {
          "data": {
            "application/vnd.plotly.v1+json": {
              "config": {
                "plotlyServerURL": "https://plot.ly"
              },
              "data": [
                {
                  "close": [
                    37139.4,
                    37138.7,
                    37140,
                    37134.7,
                    37113.3,
                    37128.6,
                    37124.3,
                    37124,
                    37119,
                    37108.4
                  ],
                  "high": [
                    37139.4,
                    37140.2,
                    37142.1,
                    37140.1,
                    37141.9,
                    37136.7,
                    37131.3,
                    37140,
                    37130.1,
                    37119.1
                  ],
                  "low": [
                    37124.1,
                    37135.5,
                    37134,
                    37123.8,
                    37102.6,
                    37113.3,
                    37124.2,
                    37124,
                    37119,
                    37093.1
                  ],
                  "open": [
                    37124.1,
                    37139.3,
                    37138.7,
                    37140.1,
                    37134.6,
                    37113.4,
                    37128.7,
                    37124.2,
                    37124,
                    37119
                  ],
                  "type": "candlestick",
                  "x": [
                    "2023-11-12T17:10:00",
                    "2023-11-12T17:15:00",
                    "2023-11-12T17:20:00",
                    "2023-11-12T17:25:00",
                    "2023-11-12T17:30:00",
                    "2023-11-12T17:35:00",
                    "2023-11-12T17:40:00",
                    "2023-11-12T17:45:00",
                    "2023-11-12T17:50:00",
                    "2023-11-12T17:55:00"
                  ]
                }
              ],
              "layout": {
                "height": 600,
                "template": {
                  "data": {
                    "bar": [
                      {
                        "error_x": {
                          "color": "#f2f5fa"
                        },
                        "error_y": {
                          "color": "#f2f5fa"
                        },
                        "marker": {
                          "line": {
                            "color": "rgb(17,17,17)",
                            "width": 0.5
                          },
                          "pattern": {
                            "fillmode": "overlay",
                            "size": 10,
                            "solidity": 0.2
                          }
                        },
                        "type": "bar"
                      }
                    ],
                    "barpolar": [
                      {
                        "marker": {
                          "line": {
                            "color": "rgb(17,17,17)",
                            "width": 0.5
                          },
                          "pattern": {
                            "fillmode": "overlay",
                            "size": 10,
                            "solidity": 0.2
                          }
                        },
                        "type": "barpolar"
                      }
                    ],
                    "carpet": [
                      {
                        "aaxis": {
                          "endlinecolor": "#A2B1C6",
                          "gridcolor": "#506784",
                          "linecolor": "#506784",
                          "minorgridcolor": "#506784",
                          "startlinecolor": "#A2B1C6"
                        },
                        "baxis": {
                          "endlinecolor": "#A2B1C6",
                          "gridcolor": "#506784",
                          "linecolor": "#506784",
                          "minorgridcolor": "#506784",
                          "startlinecolor": "#A2B1C6"
                        },
                        "type": "carpet"
                      }
                    ],
                    "choropleth": [
                      {
                        "colorbar": {
                          "outlinewidth": 0,
                          "ticks": ""
                        },
                        "type": "choropleth"
                      }
                    ],
                    "contour": [
                      {
                        "colorbar": {
                          "outlinewidth": 0,
                          "ticks": ""
                        },
                        "colorscale": [
                          [
                            0,
                            "#0d0887"
                          ],
                          [
                            0.1111111111111111,
                            "#46039f"
                          ],
                          [
                            0.2222222222222222,
                            "#7201a8"
                          ],
                          [
                            0.3333333333333333,
                            "#9c179e"
                          ],
                          [
                            0.4444444444444444,
                            "#bd3786"
                          ],
                          [
                            0.5555555555555556,
                            "#d8576b"
                          ],
                          [
                            0.6666666666666666,
                            "#ed7953"
                          ],
                          [
                            0.7777777777777778,
                            "#fb9f3a"
                          ],
                          [
                            0.8888888888888888,
                            "#fdca26"
                          ],
                          [
                            1,
                            "#f0f921"
                          ]
                        ],
                        "type": "contour"
                      }
                    ],
                    "contourcarpet": [
                      {
                        "colorbar": {
                          "outlinewidth": 0,
                          "ticks": ""
                        },
                        "type": "contourcarpet"
                      }
                    ],
                    "heatmap": [
                      {
                        "colorbar": {
                          "outlinewidth": 0,
                          "ticks": ""
                        },
                        "colorscale": [
                          [
                            0,
                            "#0d0887"
                          ],
                          [
                            0.1111111111111111,
                            "#46039f"
                          ],
                          [
                            0.2222222222222222,
                            "#7201a8"
                          ],
                          [
                            0.3333333333333333,
                            "#9c179e"
                          ],
                          [
                            0.4444444444444444,
                            "#bd3786"
                          ],
                          [
                            0.5555555555555556,
                            "#d8576b"
                          ],
                          [
                            0.6666666666666666,
                            "#ed7953"
                          ],
                          [
                            0.7777777777777778,
                            "#fb9f3a"
                          ],
                          [
                            0.8888888888888888,
                            "#fdca26"
                          ],
                          [
                            1,
                            "#f0f921"
                          ]
                        ],
                        "type": "heatmap"
                      }
                    ],
                    "heatmapgl": [
                      {
                        "colorbar": {
                          "outlinewidth": 0,
                          "ticks": ""
                        },
                        "colorscale": [
                          [
                            0,
                            "#0d0887"
                          ],
                          [
                            0.1111111111111111,
                            "#46039f"
                          ],
                          [
                            0.2222222222222222,
                            "#7201a8"
                          ],
                          [
                            0.3333333333333333,
                            "#9c179e"
                          ],
                          [
                            0.4444444444444444,
                            "#bd3786"
                          ],
                          [
                            0.5555555555555556,
                            "#d8576b"
                          ],
                          [
                            0.6666666666666666,
                            "#ed7953"
                          ],
                          [
                            0.7777777777777778,
                            "#fb9f3a"
                          ],
                          [
                            0.8888888888888888,
                            "#fdca26"
                          ],
                          [
                            1,
                            "#f0f921"
                          ]
                        ],
                        "type": "heatmapgl"
                      }
                    ],
                    "histogram": [
                      {
                        "marker": {
                          "pattern": {
                            "fillmode": "overlay",
                            "size": 10,
                            "solidity": 0.2
                          }
                        },
                        "type": "histogram"
                      }
                    ],
                    "histogram2d": [
                      {
                        "colorbar": {
                          "outlinewidth": 0,
                          "ticks": ""
                        },
                        "colorscale": [
                          [
                            0,
                            "#0d0887"
                          ],
                          [
                            0.1111111111111111,
                            "#46039f"
                          ],
                          [
                            0.2222222222222222,
                            "#7201a8"
                          ],
                          [
                            0.3333333333333333,
                            "#9c179e"
                          ],
                          [
                            0.4444444444444444,
                            "#bd3786"
                          ],
                          [
                            0.5555555555555556,
                            "#d8576b"
                          ],
                          [
                            0.6666666666666666,
                            "#ed7953"
                          ],
                          [
                            0.7777777777777778,
                            "#fb9f3a"
                          ],
                          [
                            0.8888888888888888,
                            "#fdca26"
                          ],
                          [
                            1,
                            "#f0f921"
                          ]
                        ],
                        "type": "histogram2d"
                      }
                    ],
                    "histogram2dcontour": [
                      {
                        "colorbar": {
                          "outlinewidth": 0,
                          "ticks": ""
                        },
                        "colorscale": [
                          [
                            0,
                            "#0d0887"
                          ],
                          [
                            0.1111111111111111,
                            "#46039f"
                          ],
                          [
                            0.2222222222222222,
                            "#7201a8"
                          ],
                          [
                            0.3333333333333333,
                            "#9c179e"
                          ],
                          [
                            0.4444444444444444,
                            "#bd3786"
                          ],
                          [
                            0.5555555555555556,
                            "#d8576b"
                          ],
                          [
                            0.6666666666666666,
                            "#ed7953"
                          ],
                          [
                            0.7777777777777778,
                            "#fb9f3a"
                          ],
                          [
                            0.8888888888888888,
                            "#fdca26"
                          ],
                          [
                            1,
                            "#f0f921"
                          ]
                        ],
                        "type": "histogram2dcontour"
                      }
                    ],
                    "mesh3d": [
                      {
                        "colorbar": {
                          "outlinewidth": 0,
                          "ticks": ""
                        },
                        "type": "mesh3d"
                      }
                    ],
                    "parcoords": [
                      {
                        "line": {
                          "colorbar": {
                            "outlinewidth": 0,
                            "ticks": ""
                          }
                        },
                        "type": "parcoords"
                      }
                    ],
                    "pie": [
                      {
                        "automargin": true,
                        "type": "pie"
                      }
                    ],
                    "scatter": [
                      {
                        "marker": {
                          "line": {
                            "color": "#222"
                          }
                        },
                        "type": "scatter"
                      }
                    ],
                    "scatter3d": [
                      {
                        "line": {
                          "colorbar": {
                            "outlinewidth": 0,
                            "ticks": ""
                          }
                        },
                        "marker": {
                          "colorbar": {
                            "outlinewidth": 0,
                            "ticks": ""
                          }
                        },
                        "type": "scatter3d"
                      }
                    ],
                    "scattercarpet": [
                      {
                        "marker": {
                          "colorbar": {
                            "outlinewidth": 0,
                            "ticks": ""
                          }
                        },
                        "type": "scattercarpet"
                      }
                    ],
                    "scattergeo": [
                      {
                        "marker": {
                          "colorbar": {
                            "outlinewidth": 0,
                            "ticks": ""
                          }
                        },
                        "type": "scattergeo"
                      }
                    ],
                    "scattergl": [
                      {
                        "marker": {
                          "line": {
                            "color": "#222"
                          }
                        },
                        "type": "scattergl"
                      }
                    ],
                    "scattermapbox": [
                      {
                        "marker": {
                          "colorbar": {
                            "outlinewidth": 0,
                            "ticks": ""
                          }
                        },
                        "type": "scattermapbox"
                      }
                    ],
                    "scatterpolar": [
                      {
                        "marker": {
                          "colorbar": {
                            "outlinewidth": 0,
                            "ticks": ""
                          }
                        },
                        "type": "scatterpolar"
                      }
                    ],
                    "scatterpolargl": [
                      {
                        "marker": {
                          "colorbar": {
                            "outlinewidth": 0,
                            "ticks": ""
                          }
                        },
                        "type": "scatterpolargl"
                      }
                    ],
                    "scatterternary": [
                      {
                        "marker": {
                          "colorbar": {
                            "outlinewidth": 0,
                            "ticks": ""
                          }
                        },
                        "type": "scatterternary"
                      }
                    ],
                    "surface": [
                      {
                        "colorbar": {
                          "outlinewidth": 0,
                          "ticks": ""
                        },
                        "colorscale": [
                          [
                            0,
                            "#0d0887"
                          ],
                          [
                            0.1111111111111111,
                            "#46039f"
                          ],
                          [
                            0.2222222222222222,
                            "#7201a8"
                          ],
                          [
                            0.3333333333333333,
                            "#9c179e"
                          ],
                          [
                            0.4444444444444444,
                            "#bd3786"
                          ],
                          [
                            0.5555555555555556,
                            "#d8576b"
                          ],
                          [
                            0.6666666666666666,
                            "#ed7953"
                          ],
                          [
                            0.7777777777777778,
                            "#fb9f3a"
                          ],
                          [
                            0.8888888888888888,
                            "#fdca26"
                          ],
                          [
                            1,
                            "#f0f921"
                          ]
                        ],
                        "type": "surface"
                      }
                    ],
                    "table": [
                      {
                        "cells": {
                          "fill": {
                            "color": "#506784"
                          },
                          "line": {
                            "color": "rgb(17,17,17)"
                          }
                        },
                        "header": {
                          "fill": {
                            "color": "#2a3f5f"
                          },
                          "line": {
                            "color": "rgb(17,17,17)"
                          }
                        },
                        "type": "table"
                      }
                    ]
                  },
                  "layout": {
                    "annotationdefaults": {
                      "arrowcolor": "#f2f5fa",
                      "arrowhead": 0,
                      "arrowwidth": 1,
                      "font": {
                        "color": "#fff"
                      }
                    },
                    "autotypenumbers": "strict",
                    "coloraxis": {
                      "colorbar": {
                        "outlinewidth": 0,
                        "ticks": ""
                      }
                    },
                    "colorscale": {
                      "diverging": [
                        [
                          0,
                          "#8e0152"
                        ],
                        [
                          0.1,
                          "#c51b7d"
                        ],
                        [
                          0.2,
                          "#de77ae"
                        ],
                        [
                          0.3,
                          "#f1b6da"
                        ],
                        [
                          0.4,
                          "#fde0ef"
                        ],
                        [
                          0.5,
                          "#f7f7f7"
                        ],
                        [
                          0.6,
                          "#e6f5d0"
                        ],
                        [
                          0.7,
                          "#b8e186"
                        ],
                        [
                          0.8,
                          "#7fbc41"
                        ],
                        [
                          0.9,
                          "#4d9221"
                        ],
                        [
                          1,
                          "#276419"
                        ]
                      ],
                      "sequential": [
                        [
                          0,
                          "#375a7f"
                        ],
                        [
                          0.1,
                          "#4f5e7d"
                        ],
                        [
                          0.2,
                          "#66627b"
                        ],
                        [
                          0.30000000000000004,
                          "#7e677a"
                        ],
                        [
                          0.4,
                          "#956b78"
                        ],
                        [
                          0.5,
                          "#ad6f76"
                        ],
                        [
                          0.6000000000000001,
                          "#c47374"
                        ],
                        [
                          0.7000000000000001,
                          "#dc7872"
                        ],
                        [
                          0.8,
                          "#f47c71"
                        ],
                        [
                          0.9,
                          "#ff806f"
                        ],
                        [
                          1,
                          "#ff846d"
                        ]
                      ],
                      "sequentialminus": [
                        [
                          0,
                          "#0d0887"
                        ],
                        [
                          0.1111111111111111,
                          "#46039f"
                        ],
                        [
                          0.2222222222222222,
                          "#7201a8"
                        ],
                        [
                          0.3333333333333333,
                          "#9c179e"
                        ],
                        [
                          0.4444444444444444,
                          "#bd3786"
                        ],
                        [
                          0.5555555555555556,
                          "#d8576b"
                        ],
                        [
                          0.6666666666666666,
                          "#ed7953"
                        ],
                        [
                          0.7777777777777778,
                          "#fb9f3a"
                        ],
                        [
                          0.8888888888888888,
                          "#fdca26"
                        ],
                        [
                          1,
                          "#f0f921"
                        ]
                      ]
                    },
                    "colorway": [
                      "#324c71",
                      "#b71e1d",
                      "#00bd8b",
                      "#ec9d0e",
                      "#6eaff5"
                    ],
                    "font": {
                      "color": "#fff",
                      "family": "Lato,-apple-system,BlinkMacSystemFont,\"Segoe UI\",Roboto,\"Helvetica Neue\",Arial,sans-serif,\"Apple Color Emoji\",\"Segoe UI Emoji\",\"Segoe UI Symbol\""
                    },
                    "geo": {
                      "bgcolor": "#222",
                      "lakecolor": "#222",
                      "landcolor": "#222",
                      "showlakes": true,
                      "showland": true,
                      "subunitcolor": "#506784"
                    },
                    "hoverlabel": {
                      "align": "left",
                      "font": {
                        "family": "Lato,-apple-system,BlinkMacSystemFont,\"Segoe UI\",Roboto,\"Helvetica Neue\",Arial,sans-serif,\"Apple Color Emoji\",\"Segoe UI Emoji\",\"Segoe UI Symbol\""
                      }
                    },
                    "hovermode": "closest",
                    "mapbox": {
                      "style": "dark"
                    },
                    "paper_bgcolor": "#222",
                    "piecolorway": [
                      "#324c71",
                      "#b71e1d",
                      "#00bd8b",
                      "#ec9d0e",
                      "#6eaff5"
                    ],
                    "plot_bgcolor": "#222",
                    "polar": {
                      "angularaxis": {
                        "gridcolor": "#506784",
                        "linecolor": "#506784",
                        "ticks": ""
                      },
                      "bgcolor": "rgb(17,17,17)",
                      "radialaxis": {
                        "gridcolor": "#506784",
                        "linecolor": "#506784",
                        "ticks": ""
                      }
                    },
                    "scene": {
                      "xaxis": {
                        "backgroundcolor": "rgb(17,17,17)",
                        "gridcolor": "#506784",
                        "gridwidth": 2,
                        "linecolor": "#506784",
                        "showbackground": true,
                        "ticks": "",
                        "zerolinecolor": "#C8D4E3"
                      },
                      "yaxis": {
                        "backgroundcolor": "rgb(17,17,17)",
                        "gridcolor": "#506784",
                        "gridwidth": 2,
                        "linecolor": "#506784",
                        "showbackground": true,
                        "ticks": "",
                        "zerolinecolor": "#C8D4E3"
                      },
                      "zaxis": {
                        "backgroundcolor": "rgb(17,17,17)",
                        "gridcolor": "#506784",
                        "gridwidth": 2,
                        "linecolor": "#506784",
                        "showbackground": true,
                        "ticks": "",
                        "zerolinecolor": "#C8D4E3"
                      }
                    },
                    "shapedefaults": {
                      "line": {
                        "color": "#f2f5fa"
                      }
                    },
                    "sliderdefaults": {
                      "bgcolor": "#C8D4E3",
                      "bordercolor": "rgb(17,17,17)",
                      "borderwidth": 1,
                      "tickwidth": 0
                    },
                    "ternary": {
                      "aaxis": {
                        "gridcolor": "#506784",
                        "linecolor": "#506784",
                        "ticks": ""
                      },
                      "baxis": {
                        "gridcolor": "#506784",
                        "linecolor": "#506784",
                        "ticks": ""
                      },
                      "bgcolor": "rgb(17,17,17)",
                      "caxis": {
                        "gridcolor": "#506784",
                        "linecolor": "#506784",
                        "ticks": ""
                      }
                    },
                    "title": {
                      "x": 0.05
                    },
                    "updatemenudefaults": {
                      "bgcolor": "#506784",
                      "borderwidth": 0
                    },
                    "xaxis": {
                      "automargin": true,
                      "gridcolor": "#343434",
                      "gridwidth": 0.5,
                      "linecolor": "#506784",
                      "ticks": "",
                      "title": {
                        "standoff": 15
                      },
                      "zerolinecolor": "#343434",
                      "zerolinewidth": 2
                    },
                    "yaxis": {
                      "automargin": true,
                      "gridcolor": "#343434",
                      "gridwidth": 0.5,
                      "linecolor": "#506784",
                      "ticks": "",
                      "title": {
                        "standoff": 15
                      },
                      "zerolinecolor": "#343434",
                      "zerolinewidth": 2
                    }
                  }
                },
                "xaxis": {
                  "rangeslider": {
                    "visible": false
                  }
                }
              }
            }
          },
          "metadata": {},
          "output_type": "display_data"
        }
      ],
      "source": [
        "plot_busdm_candles(candles=candles_busdm)"
      ]
    }
  ],
  "metadata": {
    "kernelspec": {
      "display_name": "qfFree",
      "language": "python",
      "name": "python3"
    },
    "language_info": {
      "codemirror_mode": {
        "name": "ipython",
        "version": 3
      },
      "file_extension": ".py",
      "mimetype": "text/x-python",
      "name": "python",
      "nbconvert_exporter": "python",
      "pygments_lexer": "ipython3",
      "version": "3.10.10"
    },
    "orig_nbformat": 4
  },
  "nbformat": 4,
  "nbformat_minor": 2
}
