{
  "cells": [
    {
      "cell_type": "code",
      "execution_count": 1,
      "metadata": {},
      "outputs": [],
      "source": [
        "import numpy as np\n",
        "\n",
        "import plotly.graph_objects as go\n",
        "from quantfreedom.helper_funcs import dl_ex_candles\n",
        "from quantfreedom.indicators.tv_indicators import sma_tv\n",
        "\n",
        "np.set_printoptions(formatter={\"float_kind\": \"{:0.2f}\".format})\n",
        "\n",
        "%load_ext autoreload\n",
        "%autoreload 2"
      ]
    },
    {
      "cell_type": "code",
      "execution_count": 2,
      "metadata": {},
      "outputs": [],
      "source": [
        "candles = dl_ex_candles(\n",
        "    exchange=\"binance_us\",\n",
        "    symbol=\"BTCUSDT\",\n",
        "    timeframe=\"1h\",\n",
        "    candles_to_dl=200,\n",
        ")\n",
        "closes = candles[:, 4]"
      ]
    },
    {
      "cell_type": "code",
      "execution_count": 5,
      "metadata": {},
      "outputs": [],
      "source": [
        "def stdev_func(\n",
        "    source: np.array,\n",
        "    length: int,\n",
        "):\n",
        "    avg = -sma_tv(\n",
        "        source=source,\n",
        "        length=length,\n",
        "    )\n",
        "    sum_square_dev = np.full_like(avg, np.nan)\n",
        "\n",
        "    len_minus_one = length - 1\n",
        "\n",
        "    for i in range(avg.size - 1, len_minus_one, -1):\n",
        "        res = np.absolute(source[i - len_minus_one : i + 1] + avg[i])\n",
        "        res_2 = np.where(\n",
        "            res <= 1e-10,\n",
        "            0,\n",
        "            np.where(\n",
        "                (res <= 1e-4) & (res > 1e-10),\n",
        "                1e-5,\n",
        "                res,\n",
        "            ),\n",
        "        )\n",
        "        sum_square_dev[i] = (res_2 * res_2).sum()\n",
        "    final = np.sqrt(sum_square_dev / length)\n",
        "    return final"
      ]
    },
    {
      "cell_type": "code",
      "execution_count": 6,
      "metadata": {},
      "outputs": [
        {
          "data": {
            "text/plain": [
              "array([nan, nan, nan, nan, nan, nan, nan, nan, nan, nan, nan, nan, nan,\n",
              "       nan, nan, 124.32, 113.85, 112.13, 112.67, 109.11, 118.22, 120.19,\n",
              "       122.90, 123.23, 116.04, 93.31, 81.14, 55.58, 57.17, 57.65, 56.85,\n",
              "       57.83, 60.25, 62.85, 76.84, 76.69, 87.34, 91.28, 97.57, 97.74,\n",
              "       94.74, 86.56, 92.75, 91.90, 91.65, 90.93, 89.55, 90.14, 89.95,\n",
              "       81.26, 82.15, 75.48, 68.42, 52.37, 45.74, 37.93, 39.98, 38.72,\n",
              "       40.35, 40.72, 40.28, 47.90, 47.51, 50.11, 66.14, 77.80, 83.49,\n",
              "       87.39, 88.29, 89.08, 90.60, 104.09, 102.31, 106.85, 114.34, 113.19,\n",
              "       92.08, 91.54, 95.66, 94.89, 97.34, 132.54, 153.12, 162.56, 196.08,\n",
              "       204.31, 209.31, 200.83, 195.89, 188.48, 177.06, 162.70, 166.09,\n",
              "       159.10, 137.35, 134.11, 139.19, 140.22, 143.53, 156.60, 161.48,\n",
              "       189.49, 344.67, 429.13, 487.29, 497.01, 490.69, 472.45, 465.08,\n",
              "       455.19, 452.19, 439.66, 385.82, 296.22, 259.24, 181.93, 131.27,\n",
              "       134.38, 145.72, 195.78, 237.44, 255.39, 269.76, 309.38, 322.87,\n",
              "       339.09, 462.11, 559.51, 616.61, 658.12, 681.96, 714.00, 707.45,\n",
              "       667.16, 647.13, 611.64, 545.31, 459.00, 392.58, 285.35, 142.29,\n",
              "       142.88, 151.21, 162.53, 180.94, 234.04, 256.29, 319.79, 354.51,\n",
              "       399.42, 437.51, 497.74, 530.46, 537.13, 509.02, 486.76, 440.07,\n",
              "       383.47, 316.89, 248.76, 219.95, 194.20, 193.32, 178.34, 180.91,\n",
              "       181.14, 156.42, 125.89, 87.19, 83.78, 118.91, 142.78, 163.15,\n",
              "       165.77, 167.88, 165.32, 171.26, 172.64, 178.36, 186.86, 187.34,\n",
              "       187.89, 188.04, 182.88, 182.97, 158.25, 136.93, 82.13, 80.69,\n",
              "       79.12, 74.80, 72.58, 72.68, 66.85, 57.36, 86.15, 106.56, 115.23,\n",
              "       125.87, 131.33])"
            ]
          },
          "execution_count": 6,
          "metadata": {},
          "output_type": "execute_result"
        }
      ],
      "source": [
        "stdev_func(source=closes, length=15)"
      ]
    },
    {
      "cell_type": "code",
      "execution_count": null,
      "metadata": {},
      "outputs": [],
      "source": []
    }
  ],
  "metadata": {
    "kernelspec": {
      "display_name": "qfFree",
      "language": "python",
      "name": "python3"
    },
    "language_info": {
      "codemirror_mode": {
        "name": "ipython",
        "version": 3
      },
      "file_extension": ".py",
      "mimetype": "text/x-python",
      "name": "python",
      "nbconvert_exporter": "python",
      "pygments_lexer": "ipython3",
      "version": "3.10.10"
    },
    "orig_nbformat": 4
  },
  "nbformat": 4,
  "nbformat_minor": 2
}
