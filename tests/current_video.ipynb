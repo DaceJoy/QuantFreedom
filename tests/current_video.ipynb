{
  "cells": [
    {
      "cell_type": "code",
      "execution_count": null,
      "metadata": {},
      "outputs": [],
      "source": [
        "import numpy as np\n",
        "import pandas as pd\n",
        "from requests import get\n",
        "\n",
        "from datetime import timedelta\n",
        "from time import sleep, time\n",
        "import plotly.graph_objects as go\n",
        "from quantfreedom.helper_funcs import dl_ex_candles, candles_to_df\n",
        "np.set_printoptions(formatter={\"float_kind\": \"{:0.2f}\".format})\n",
        "from dash import Dash\n",
        "from dash_bootstrap_templates import load_figure_template\n",
        "from jupyter_dash import JupyterDash\n",
        "from IPython import get_ipython\n",
        "import dash_bootstrap_components as dbc\n",
        "\n",
        "load_figure_template(\"darkly\")\n",
        "dbc_css = \"https://cdn.jsdelivr.net/gh/AnnMarieW/dash-bootstrap-templates/dbc.min.css\"\n",
        "try:\n",
        "    shell = str(get_ipython())\n",
        "    if \"ZMQInteractiveShell\" in shell:\n",
        "        app = JupyterDash(__name__, external_stylesheets=[dbc.themes.DARKLY, dbc_css])\n",
        "    elif shell == \"TerminalInteractiveShell\":\n",
        "        app = JupyterDash(__name__, external_stylesheets=[dbc.themes.DARKLY, dbc_css])\n",
        "    else:\n",
        "        app = Dash(__name__, external_stylesheets=[dbc.themes.DARKLY, dbc_css])\n",
        "except NameError:\n",
        "    app = Dash(__name__, external_stylesheets=[dbc.themes.DARKLY, dbc_css])\n",
        "\n",
        "bg_color = \"#0b0b18\"\n",
        "\n",
        "%load_ext autoreload\n",
        "%autoreload 2"
      ]
    },
    {
      "cell_type": "code",
      "execution_count": null,
      "metadata": {},
      "outputs": [],
      "source": [
        "candles = dl_ex_candles(exchange=\"binance_us\", symbol=\"BTCUSDT\", timeframe=\"1h\", candles_to_dl=200)\n",
        "closes = candles[:, 4]"
      ]
    },
    {
      "cell_type": "code",
      "execution_count": null,
      "metadata": {},
      "outputs": [],
      "source": [
        "def wma_tv(source: np.array, length: int = 10):\n",
        "    weight = np.flip((length - np.arange(0, length)) * length)\n",
        "    norm = weight.sum()\n",
        "\n",
        "    wma = np.full_like(source, np.nan)\n",
        "    len_minus_one = length - 1\n",
        "\n",
        "    for index in range(len_minus_one, source.size):\n",
        "        the_sum = (source[index - len_minus_one : index + 1] * weight).sum()\n",
        "        wma[index] = the_sum / norm\n",
        "\n",
        "    return wma"
      ]
    },
    {
      "cell_type": "code",
      "execution_count": null,
      "metadata": {},
      "outputs": [],
      "source": [
        "wma = wma_tv(source=closes, length=14)"
      ]
    },
    {
      "cell_type": "code",
      "execution_count": null,
      "metadata": {},
      "outputs": [],
      "source": [
        "def plot_wma(\n",
        "    candles: np.array,\n",
        "    indicator: np.array,\n",
        "    ind_color: str = \"#3EA3FF\",\n",
        "):\n",
        "    datetimes = pd.to_datetime(candles[:, 0], unit=\"ms\")\n",
        "    fig = go.Figure(\n",
        "        data=[\n",
        "            go.Candlestick(\n",
        "                x=datetimes,\n",
        "                open=candles[:, 1],\n",
        "                high=candles[:, 2],\n",
        "                low=candles[:, 3],\n",
        "                close=candles[:, 4],\n",
        "                name=\"Candles\",\n",
        "            ),\n",
        "            go.Scatter(\n",
        "                x=datetimes,\n",
        "                y=indicator,\n",
        "                name=\"WMA\",\n",
        "                line_color=ind_color,\n",
        "            ),\n",
        "        ]\n",
        "    )\n",
        "    fig.update_layout(height=500, xaxis_rangeslider_visible=False)\n",
        "    fig.show()"
      ]
    },
    {
      "cell_type": "code",
      "execution_count": null,
      "metadata": {},
      "outputs": [],
      "source": [
        "plot_wma(candles=candles, indicator=wma)"
      ]
    }
  ],
  "metadata": {
    "kernelspec": {
      "display_name": "qfFree",
      "language": "python",
      "name": "python3"
    },
    "language_info": {
      "codemirror_mode": {
        "name": "ipython",
        "version": 3
      },
      "file_extension": ".py",
      "mimetype": "text/x-python",
      "name": "python",
      "nbconvert_exporter": "python",
      "pygments_lexer": "ipython3",
      "version": "3.10.10"
    },
    "orig_nbformat": 4
  },
  "nbformat": 4,
  "nbformat_minor": 2
}
