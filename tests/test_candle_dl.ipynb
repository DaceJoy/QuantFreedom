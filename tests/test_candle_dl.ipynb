{
  "cells": [
    {
      "cell_type": "code",
      "execution_count": 4,
      "metadata": {},
      "outputs": [
        {
          "name": "stdout",
          "output_type": "stream",
          "text": [
            "The autoreload extension is already loaded. To reload it, use:\n",
            "  %reload_ext autoreload\n"
          ]
        }
      ],
      "source": [
        "import ccxt\n",
        "import numpy as np\n",
        "import pandas as pd\n",
        "from datetime import datetime\n",
        "from time import sleep\n",
        "from datetime import timedelta\n",
        "\n",
        "exchange = ccxt.phemex()\n",
        "exchange.load_markets()\n",
        "%load_ext autoreload\n",
        "%autoreload 2\n"
      ]
    },
    {
      "cell_type": "code",
      "execution_count": null,
      "metadata": {},
      "outputs": [],
      "source": [
        "candles_list = []\n",
        "since_date_ms = 1688083200000 - 1000\n",
        "until_date_ms = int(datetime.utcnow().timestamp() * 1000) - \\\n",
        "    timedelta(minutes=60).seconds * 1000\n",
        "\n",
        "since_pd_timestamp = pd.to_datetime(since_date_ms, unit=\"ms\")\n",
        "until_pd_timestamp = pd.to_datetime(until_date_ms, unit=\"ms\")\n",
        "while since_date_ms < until_date_ms:\n",
        "    print(\n",
        "        f\"since_date_ms={since_pd_timestamp}, until_date_ms={until_pd_timestamp}\")\n",
        "    try:\n",
        "        new_candles = exchange.fetch_ohlcv(\n",
        "            symbol=\"BTC/USDT:USDT\",\n",
        "            since=since_date_ms,\n",
        "            timeframe=\"1h\",\n",
        "            limit=1000,\n",
        "            # params={\"to\": int(until_date_ms / 1000)},\n",
        "        )\n",
        "    except Exception as e:\n",
        "        print(f\"Got exception -> {e}\")\n",
        "        break\n",
        "\n",
        "    if len(new_candles) == 0:\n",
        "        print(f\"Got 0 candles\")\n",
        "        break\n",
        "    else:\n",
        "        print(\n",
        "            f\"Got {len(new_candles)} new candles for since={since_pd_timestamp}\")\n",
        "        candles_list.extend(new_candles)\n",
        "        since_date_ms = candles_list[-1][0] + 1\n",
        "        since_pd_timestamp = pd.to_datetime(since_date_ms, unit=\"ms\")\n",
        "\n",
        "if until_date_ms - candles_list[-1][0] < 0:\n",
        "    print(\"revmoing last candle because it is the current candle\")\n",
        "    candles_list = candles_list[:-1]\n",
        "else:\n",
        "    print(\"last candle is the right candle\")\n",
        "\n",
        "candles = pd.DataFrame(\n",
        "    candles_list,\n",
        "    columns=[\"timestamp\", \"open\", \"high\", \"low\", \"close\", \"volume\"],\n",
        ")\n",
        "candles[\"timestamp\"] = pd.to_datetime(candles[\"timestamp\"], unit=\"ms\")\n",
        "candles"
      ]
    },
    {
      "cell_type": "code",
      "execution_count": null,
      "metadata": {},
      "outputs": [],
      "source": [
        "uniqueList = []\n",
        "duplicateList = []\n",
        "\n",
        "for i in candles.timestamp.to_list():\n",
        "    if i not in uniqueList:\n",
        "        uniqueList.append(i)\n",
        "    elif i not in duplicateList:\n",
        "        duplicateList.append(i)\n",
        "\n",
        "print(duplicateList)"
      ]
    },
    {
      "cell_type": "code",
      "execution_count": null,
      "metadata": {},
      "outputs": [],
      "source": [
        "candles.timestamp[90:110]\n"
      ]
    },
    {
      "cell_type": "code",
      "execution_count": null,
      "metadata": {},
      "outputs": [],
      "source": [
        "candles_list = []\n",
        "since_date_ms = int((1695217200000 - 1) / 1000)\n",
        "until_date_ms = int(datetime.utcnow().timestamp() * 1000) - \\\n",
        "    timedelta(minutes=5).seconds * 1000\n",
        "\n",
        "since_pd_timestamp = pd.to_datetime(since_date_ms, unit=\"ms\")\n",
        "until_pd_timestamp = pd.to_datetime(until_date_ms, unit=\"ms\")\n",
        "while since_date_ms < until_date_ms:\n",
        "    print(\n",
        "        f\"since_date_ms={since_pd_timestamp}, until_date_ms={until_pd_timestamp}\")\n",
        "    try:\n",
        "        new_candles = exchange.fetch_ohlcv(\n",
        "            symbol=\"BTC/USDT:USDT\",\n",
        "            since=since_date_ms,\n",
        "            timeframe=\"5m\",\n",
        "            limit=1000,\n",
        "            params={\"to\": int(until_date_ms / 1000)},\n",
        "        )\n",
        "    except Exception as e:\n",
        "        print(f\"Got exception -> {e}\")\n",
        "        break\n",
        "\n",
        "    print(f\"Got {len(new_candles)} new candles for since={since_pd_timestamp}\")\n",
        "    if len(new_candles) == 0:\n",
        "        print(f\"fetch_ohlcv for since={since_pd_timestamp} got 0 candles\")\n",
        "        break\n",
        "    else:\n",
        "        candles_list.extend(new_candles)\n",
        "        since_date_ms = candles_list[-1][0]\n",
        "        since_pd_timestamp = pd.to_datetime(since_date_ms, unit=\"ms\")\n",
        "\n",
        "if until_date_ms - candles_list[-1][0] < 0:\n",
        "    print(\"revmoing last candle because it is the current candle\")\n",
        "    candles_list = candles_list[:-1]\n",
        "else:\n",
        "    print(\"last candle is the right candle\")\n",
        "\n",
        "candles = pd.DataFrame(\n",
        "    candles_list,\n",
        "    columns=[\"timestamp\", \"open\", \"high\", \"low\", \"close\", \"volume\"],\n",
        ")\n",
        "candles[\"timestamp\"] = pd.to_datetime(candles[\"timestamp\"], unit=\"ms\")\n",
        "candles"
      ]
    },
    {
      "cell_type": "code",
      "execution_count": null,
      "metadata": {},
      "outputs": [],
      "source": [
        "binance_ex = SetExchange(\n",
        "    symbol=\"BTC/USDT:USDT\",\n",
        "    timeframe=\"5m\",\n",
        "    exchange_name=\"binance\",\n",
        "    since_date_ms=1695427200000,\n",
        ")"
      ]
    },
    {
      "cell_type": "code",
      "execution_count": 1,
      "metadata": {},
      "outputs": [
        {
          "ename": "NameError",
          "evalue": "name 'binance_ex' is not defined",
          "output_type": "error",
          "traceback": [
            "\u001b[1;31m---------------------------------------------------------------------------\u001b[0m",
            "\u001b[1;31mNameError\u001b[0m                                 Traceback (most recent call last)",
            "\u001b[1;32me:\\Coding\\backtesters\\QuantFreedom\\backtesting_class\\testing.ipynb Cell 7\u001b[0m line \u001b[0;36m1\n\u001b[1;32m----> <a href='vscode-notebook-cell:/e%3A/Coding/backtesters/QuantFreedom/backtesting_class/testing.ipynb#W6sZmlsZQ%3D%3D?line=0'>1</a>\u001b[0m binance_ex\u001b[39m.\u001b[39mcandle_getter\u001b[39m.\u001b[39mcandle_downloader()\n",
            "\u001b[1;31mNameError\u001b[0m: name 'binance_ex' is not defined"
          ]
        }
      ],
      "source": [
        "binance_ex.candle_getter.candle_downloader()\n"
      ]
    }
  ],
  "metadata": {
    "kernelspec": {
      "display_name": "qfFree",
      "language": "python",
      "name": "python3"
    },
    "language_info": {
      "codemirror_mode": {
        "name": "ipython",
        "version": 3
      },
      "file_extension": ".py",
      "mimetype": "text/x-python",
      "name": "python",
      "nbconvert_exporter": "python",
      "pygments_lexer": "ipython3",
      "version": "3.10.10"
    },
    "orig_nbformat": 4
  },
  "nbformat": 4,
  "nbformat_minor": 2
}
