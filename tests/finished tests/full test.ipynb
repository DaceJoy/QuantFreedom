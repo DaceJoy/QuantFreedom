{
 "cells": [
  {
   "cell_type": "code",
   "execution_count": 1,
   "metadata": {},
   "outputs": [],
   "source": [
    "# import os\n",
    "# import sys\n",
    "\n",
    "# sys.dont_write_bytecode = True\n",
    "# os.environ[\"NUMBA_DISABLE_JIT\"] = \"1\"\n",
    "\n",
    "import numpy as np\n",
    "import pandas as pd\n",
    "\n",
    "from quantfreedom.base import backtest_df_only\n",
    "from quantfreedom.nb.simulate import simulate_up_to_6_nb\n",
    "from quantfreedom.evaluators.evaluators import eval_is_below\n",
    "from quantfreedom.indicators.talib_ind import from_talib\n",
    "from quantfreedom.enums.enums import (\n",
    "    LeverageMode,\n",
    "    SizeType,\n",
    "    OrderType,\n",
    "    SL_BE_or_Trail_BasedOn,\n",
    ")\n",
    "from quantfreedom.testing import *\n",
    "from quantfreedom.plotting.plotting_main import strat_dashboard\n",
    "\n",
    "np.set_printoptions(formatter={\"float_kind\": \"{:.2f}\".format})\n",
    "pd.options.display.float_format = \"{:,.2f}\".format\n",
    "\n",
    "prices = pd.read_hdf(\"../data/prices.hd5\")\n",
    "\n",
    "rsi_ind = from_talib(\n",
    "    func_name=\"rsi\",\n",
    "    prices=prices,\n",
    "    cart_product=False,\n",
    "    combos=False,\n",
    "    timeperiod=[15, 30],\n",
    ")\n",
    "entries = eval_is_below(\n",
    "    want_to_evaluate=rsi_ind,\n",
    "    user_args=[30, 40, 50],\n",
    "    cand_ohlc=\"close\",\n",
    ")"
   ]
  },
  {
   "cell_type": "code",
   "execution_count": null,
   "metadata": {},
   "outputs": [],
   "source": [
    "entries"
   ]
  },
  {
   "cell_type": "code",
   "execution_count": null,
   "metadata": {},
   "outputs": [],
   "source": [
    "LeverageMode"
   ]
  },
  {
   "cell_type": "code",
   "execution_count": 4,
   "metadata": {},
   "outputs": [
    {
     "name": "stdout",
     "output_type": "stream",
     "text": [
      "Checking static variables for errors or conflicts.\n",
      "Turning all variables into arrays.\n",
      "Checking arrays for errors or conflicts ... the backtest will begin shortly, please hold.\n",
      "Creating cartesian product ... after this the backtest will start, I promise :).\n",
      "\n",
      "Starting the backtest now ... and also here are some stats for your backtest.\n",
      "\n",
      "Total symbols: 5\n",
      "Total indicator settings per symbol: 6\n",
      "Total indicator settings to test: 30\n",
      "Total order settings per symbol: 153,000\n",
      "Total order settings to test: 765,000\n",
      "Total candles per symbol: 9,408\n",
      "Total candles to test: 43,182,720,000\n",
      "\n",
      "Total combinations to test: 4,590,000\n"
     ]
    }
   ],
   "source": [
    "strat_results_df, settings_results_df = backtest_df_only(\n",
    "    prices=prices,\n",
    "    entries=entries,\n",
    "    equity=1000.0,\n",
    "    fee_pct=0.06,\n",
    "    mmr=0.5,\n",
    "    lev_mode=LeverageMode.LeastFreeCashUsed,\n",
    "    size_type=SizeType.RiskPercentOfAccount,\n",
    "    order_type=OrderType.LongEntry,\n",
    "    max_equity_risk_pct=np.arange(3, 7.1, 1),\n",
    "    risk_rewards=np.arange(3, 11.1, 0.5),\n",
    "    size_pct=1.0,\n",
    "    # sl_pcts=np.arange(1,3.1,1),\n",
    "    tsl_true_or_false=True,\n",
    "    tsl_pcts_init=np.arange(2, 9.1, 0.5),\n",
    "    tsl_based_on=SL_BE_or_Trail_BasedOn.low_price,\n",
    "    tsl_trail_by_pct=np.arange(2, 9.1, 0.5),\n",
    "    tsl_when_pct_from_avg_entry=np.arange(2, 9.1, 1),\n",
    "    gains_pct_filter=150,\n",
    "    upside_filter=0.75,\n",
    "    divide_records_array_size_by=100,\n",
    ")"
   ]
  },
  {
   "cell_type": "code",
   "execution_count": null,
   "metadata": {},
   "outputs": [],
   "source": [
    "strat_results_df"
   ]
  },
  {
   "cell_type": "code",
   "execution_count": null,
   "metadata": {},
   "outputs": [],
   "source": [
    "settings_results_df.iloc[:,18056]"
   ]
  },
  {
   "cell_type": "code",
   "execution_count": 2,
   "metadata": {},
   "outputs": [],
   "source": [
    "order_records = simulate_up_to_6_nb(\n",
    "    prices=prices['ETHUSD'].values,\n",
    "    entries=entries.iloc[:,[17]].values,\n",
    "    equity=1000.0,\n",
    "    fee_pct=0.06,\n",
    "    mmr=0.5,\n",
    "    lev_mode=LeverageMode.LeastFreeCashUsed,\n",
    "    size_type=SizeType.RiskPercentOfAccount,\n",
    "    order_type=OrderType.LongEntry,\n",
    "    max_equity_risk_pct=7,\n",
    "    risk_rewards=3,\n",
    "    size_pct=1.0,\n",
    "    # sl_pcts=np.arange(1,3.1,1),\n",
    "    tsl_true_or_false=True,\n",
    "    tsl_based_on=SL_BE_or_Trail_BasedOn.low_price,\n",
    "    tsl_pcts_init=8,\n",
    "    tsl_trail_by_pct=8,\n",
    "    tsl_when_pct_from_avg_entry=3,\n",
    "    # gains_pct_filter=100,\n",
    ")"
   ]
  },
  {
   "cell_type": "code",
   "execution_count": 3,
   "metadata": {},
   "outputs": [
    {
     "data": {
      "text/html": [
       "<div>\n",
       "<style scoped>\n",
       "    .dataframe tbody tr th:only-of-type {\n",
       "        vertical-align: middle;\n",
       "    }\n",
       "\n",
       "    .dataframe tbody tr th {\n",
       "        vertical-align: top;\n",
       "    }\n",
       "\n",
       "    .dataframe thead tr th {\n",
       "        text-align: left;\n",
       "    }\n",
       "\n",
       "    .dataframe thead tr:last-of-type th {\n",
       "        text-align: right;\n",
       "    }\n",
       "</style>\n",
       "<table border=\"1\" class=\"dataframe\">\n",
       "  <thead>\n",
       "    <tr>\n",
       "      <th>symbol</th>\n",
       "      <th>ETHUSD</th>\n",
       "    </tr>\n",
       "    <tr>\n",
       "      <th>RSI_timeperiod</th>\n",
       "      <th>30</th>\n",
       "    </tr>\n",
       "    <tr>\n",
       "      <th>RSI_is_below</th>\n",
       "      <th>50</th>\n",
       "    </tr>\n",
       "    <tr>\n",
       "      <th>open_time</th>\n",
       "      <th></th>\n",
       "    </tr>\n",
       "  </thead>\n",
       "  <tbody>\n",
       "    <tr>\n",
       "      <th>2020-10-01 00:00:00</th>\n",
       "      <td>False</td>\n",
       "    </tr>\n",
       "    <tr>\n",
       "      <th>2020-10-01 00:30:00</th>\n",
       "      <td>False</td>\n",
       "    </tr>\n",
       "    <tr>\n",
       "      <th>2020-10-01 01:00:00</th>\n",
       "      <td>False</td>\n",
       "    </tr>\n",
       "    <tr>\n",
       "      <th>2020-10-01 01:30:00</th>\n",
       "      <td>False</td>\n",
       "    </tr>\n",
       "    <tr>\n",
       "      <th>2020-10-01 02:00:00</th>\n",
       "      <td>False</td>\n",
       "    </tr>\n",
       "    <tr>\n",
       "      <th>...</th>\n",
       "      <td>...</td>\n",
       "    </tr>\n",
       "    <tr>\n",
       "      <th>2021-04-14 21:30:00</th>\n",
       "      <td>False</td>\n",
       "    </tr>\n",
       "    <tr>\n",
       "      <th>2021-04-14 22:00:00</th>\n",
       "      <td>False</td>\n",
       "    </tr>\n",
       "    <tr>\n",
       "      <th>2021-04-14 22:30:00</th>\n",
       "      <td>False</td>\n",
       "    </tr>\n",
       "    <tr>\n",
       "      <th>2021-04-14 23:00:00</th>\n",
       "      <td>False</td>\n",
       "    </tr>\n",
       "    <tr>\n",
       "      <th>2021-04-14 23:30:00</th>\n",
       "      <td>False</td>\n",
       "    </tr>\n",
       "  </tbody>\n",
       "</table>\n",
       "<p>9408 rows × 1 columns</p>\n",
       "</div>"
      ],
      "text/plain": [
       "symbol              ETHUSD\n",
       "RSI_timeperiod          30\n",
       "RSI_is_below            50\n",
       "open_time                 \n",
       "2020-10-01 00:00:00  False\n",
       "2020-10-01 00:30:00  False\n",
       "2020-10-01 01:00:00  False\n",
       "2020-10-01 01:30:00  False\n",
       "2020-10-01 02:00:00  False\n",
       "...                    ...\n",
       "2021-04-14 21:30:00  False\n",
       "2021-04-14 22:00:00  False\n",
       "2021-04-14 22:30:00  False\n",
       "2021-04-14 23:00:00  False\n",
       "2021-04-14 23:30:00  False\n",
       "\n",
       "[9408 rows x 1 columns]"
      ]
     },
     "execution_count": 3,
     "metadata": {},
     "output_type": "execute_result"
    }
   ],
   "source": [
    "entries.iloc[:,[17]]"
   ]
  },
  {
   "cell_type": "code",
   "execution_count": null,
   "metadata": {},
   "outputs": [],
   "source": [
    "entries[[(\"BTCUSDT\", 30, 50)]]"
   ]
  },
  {
   "cell_type": "code",
   "execution_count": null,
   "metadata": {},
   "outputs": [],
   "source": [
    "rsi_ind[[('BTCUSDT', 30)]]"
   ]
  },
  {
   "cell_type": "code",
   "execution_count": 3,
   "metadata": {},
   "outputs": [
    {
     "name": "stdout",
     "output_type": "stream",
     "text": [
      "Dash is running on http://127.0.0.1:3003/\n",
      "\n",
      "Dash app running on http://127.0.0.1:3003/\n"
     ]
    }
   ],
   "source": [
    "indicator_dict = {\n",
    "    \"indicator1\": {\n",
    "        \"values1\": rsi_ind[[('ETHUSD', 30)]],\n",
    "        \"entries1\": entries[[(\"ETHUSD\", 30, 50)]],\n",
    "    },\n",
    "}\n",
    "strat_dashboard(\n",
    "    indicator_dict=indicator_dict,\n",
    "    prices=prices.ETHUSD,\n",
    "    order_records=order_records,\n",
    ")"
   ]
  }
 ],
 "metadata": {
  "kernelspec": {
   "display_name": "qfFree",
   "language": "python",
   "name": "python3"
  },
  "language_info": {
   "codemirror_mode": {
    "name": "ipython",
    "version": 3
   },
   "file_extension": ".py",
   "mimetype": "text/x-python",
   "name": "python",
   "nbconvert_exporter": "python",
   "pygments_lexer": "ipython3",
   "version": "3.10.10"
  },
  "orig_nbformat": 4
 },
 "nbformat": 4,
 "nbformat_minor": 2
}
