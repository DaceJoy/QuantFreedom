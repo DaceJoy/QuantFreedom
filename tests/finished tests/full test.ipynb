{
 "cells": [
  {
   "cell_type": "code",
   "execution_count": 1,
   "metadata": {},
   "outputs": [],
   "source": [
    "# import os\n",
    "# import sys\n",
    "\n",
    "# sys.dont_write_bytecode = True\n",
    "# os.environ[\"NUMBA_DISABLE_JIT\"] = \"1\"\n",
    "\n",
    "import numpy as np\n",
    "import pandas as pd\n",
    "\n",
    "from quantfreedom.base import backtest_df_only\n",
    "from quantfreedom.nb.simulate import simulate_up_to_6_nb\n",
    "from quantfreedom.evaluators.evaluators import eval_is_below\n",
    "from quantfreedom.indicators.talib_ind import from_talib\n",
    "from quantfreedom.enums.enums import (\n",
    "    LeverageMode,\n",
    "    SizeType,\n",
    "    OrderType,\n",
    "    SL_BE_or_Trail_BasedOn,\n",
    ")\n",
    "from quantfreedom.testing import *\n",
    "from quantfreedom.plotting.strat_dash import strat_dashboard\n",
    "\n",
    "np.set_printoptions(formatter={\"float_kind\": \"{:.2f}\".format})\n",
    "pd.options.display.float_format = \"{:,.2f}\".format\n",
    "\n",
    "prices = pd.read_hdf(\"../data/prices.hd5\")\n",
    "\n",
    "rsi_ind = from_talib(\n",
    "    func_name=\"rsi\",\n",
    "    prices=prices,\n",
    "    cart_product=False,\n",
    "    combos=False,\n",
    "    timeperiod=[15, 30],\n",
    ")\n",
    "entries = eval_is_below(\n",
    "    want_to_evaluate=rsi_ind,\n",
    "    user_args=[30, 40, 50],\n",
    "    cand_ohlc=\"close\",\n",
    ")"
   ]
  },
  {
   "cell_type": "code",
   "execution_count": 2,
   "metadata": {},
   "outputs": [
    {
     "name": "stdout",
     "output_type": "stream",
     "text": [
      "Checking static variables for errors or conflicts.\n",
      "Turning all variables into arrays.\n",
      "Checking arrays for errors or conflicts ... the backtest will begin shortly, please hold.\n",
      "Creating cartesian product ... after this the backtest will start I promise :).\n",
      "\n",
      "Starting the backtest now ... and also here are some stats for your backtest.\n",
      "\n",
      "Total symbols: 5\n",
      "Total indicator settings per symbol: 6\n",
      "Total indicator settings to test: 30\n",
      "Total order settings per symbol: 27\n",
      "Total order settings to test: 135\n",
      "Total candles per symbol: 9,408\n",
      "Total candles to test: 7,620,480\n",
      "\n",
      "Total combinations to test: 810\n"
     ]
    }
   ],
   "source": [
    "strat_results_df, settings_results_df = backtest_df_only(\n",
    "    prices=prices,\n",
    "    entries=entries,\n",
    "    equity=1000.0,\n",
    "    fee_pct=0.06,\n",
    "    mmr=0.5,\n",
    "    lev_mode=LeverageMode.LeastFreeCashUsed,\n",
    "    size_type=SizeType.RiskPercentOfAccount,\n",
    "    order_type=OrderType.LongEntry,\n",
    "    max_equity_risk_pct=np.arange(1, 3.1, 1),\n",
    "    risk_rewards=np.arange(1, 3.1, 1),\n",
    "    size_pct=1.0,\n",
    "    sl_pcts=np.arange(1,3.1,1),\n",
    ")"
   ]
  },
  {
   "cell_type": "code",
   "execution_count": null,
   "metadata": {},
   "outputs": [],
   "source": [
    "strat_results_df"
   ]
  },
  {
   "cell_type": "code",
   "execution_count": null,
   "metadata": {},
   "outputs": [],
   "source": [
    "strat_results_df, settings_results_df = backtest_df_only(\n",
    "    prices=prices,\n",
    "    entries=entries,\n",
    "    equity=1000.0,\n",
    "    fee_pct=0.06,\n",
    "    mmr=0.5,\n",
    "    lev_mode=LeverageMode.LeastFreeCashUsed,\n",
    "    size_type=SizeType.RiskPercentOfAccount,\n",
    "    order_type=OrderType.LongEntry,\n",
    "    max_equity_risk_pct=np.arange(3, 7.1, 1),\n",
    "    risk_rewards=np.arange(3, 11.1, .5),\n",
    "    size_pct=1.0,\n",
    "    # sl_pcts=np.arange(1,3.1,1),\n",
    "    tsl_true_or_false=True,\n",
    "    tsl_pcts_init=np.arange(2, 9.1, .5),\n",
    "    tsl_based_on=SL_BE_or_Trail_BasedOn.low_price,\n",
    "    tsl_trail_by_pct=np.arange(2, 9.1, .5),\n",
    "    tsl_when_pct_from_avg_entry=np.arange(2, 9.1, 1),\n",
    "    gains_pct_filter=150,\n",
    ")"
   ]
  },
  {
   "cell_type": "code",
   "execution_count": null,
   "metadata": {},
   "outputs": [],
   "source": [
    "strat_results_df"
   ]
  },
  {
   "cell_type": "code",
   "execution_count": null,
   "metadata": {},
   "outputs": [],
   "source": [
    "settings_results_df.iloc[:,1251]"
   ]
  },
  {
   "cell_type": "code",
   "execution_count": null,
   "metadata": {},
   "outputs": [],
   "source": [
    "order_records = simulate_up_to_6_nb(\n",
    "    prices=prices['BTCUSDT'].values,\n",
    "    entries=entries.iloc[:,[5]].values,\n",
    "    equity=1000.0,\n",
    "    fee_pct=0.06,\n",
    "    mmr=0.5,\n",
    "    lev_mode=LeverageMode.LeastFreeCashUsed,\n",
    "    size_type=SizeType.RiskPercentOfAccount,\n",
    "    order_type=OrderType.LongEntry,\n",
    "    max_equity_risk_pct=5,\n",
    "    risk_rewards=2,\n",
    "    size_pct=1.0,\n",
    "    # sl_pcts=np.arange(1,3.1,1),\n",
    "    tsl_true_or_false=True,\n",
    "    tsl_based_on=SL_BE_or_Trail_BasedOn.low_price,\n",
    "    tsl_pcts_init=5,\n",
    "    tsl_trail_by_pct=3,\n",
    "    tsl_when_pct_from_avg_entry=3,\n",
    "    # gains_pct_filter=100,\n",
    ")"
   ]
  },
  {
   "cell_type": "code",
   "execution_count": null,
   "metadata": {},
   "outputs": [],
   "source": [
    "entries[[(\"BTCUSDT\", 30, 50)]]"
   ]
  },
  {
   "cell_type": "code",
   "execution_count": null,
   "metadata": {},
   "outputs": [],
   "source": [
    "rsi_ind[[('BTCUSDT', 30)]]"
   ]
  },
  {
   "cell_type": "code",
   "execution_count": null,
   "metadata": {},
   "outputs": [],
   "source": [
    "indicator_dict = {\n",
    "    \"indicator1\": {\n",
    "        \"values1\": rsi_ind[[('BTCUSDT', 30)]],\n",
    "        \"entries1\": entries[[(\"BTCUSDT\", 30, 50)]],\n",
    "    },\n",
    "}\n",
    "strat_dashboard(\n",
    "    indicator_dict=indicator_dict,\n",
    "    prices=prices.BTCUSDT,\n",
    "    order_records=order_records,\n",
    ")"
   ]
  }
 ],
 "metadata": {
  "kernelspec": {
   "display_name": "qfFree",
   "language": "python",
   "name": "python3"
  },
  "language_info": {
   "codemirror_mode": {
    "name": "ipython",
    "version": 3
   },
   "file_extension": ".py",
   "mimetype": "text/x-python",
   "name": "python",
   "nbconvert_exporter": "python",
   "pygments_lexer": "ipython3",
   "version": "3.10.10"
  },
  "orig_nbformat": 4
 },
 "nbformat": 4,
 "nbformat_minor": 2
}
