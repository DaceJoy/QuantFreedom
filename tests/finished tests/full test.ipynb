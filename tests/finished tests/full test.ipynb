{
 "cells": [
  {
   "cell_type": "code",
   "execution_count": 1,
   "metadata": {},
   "outputs": [],
   "source": [
    "import os\n",
    "import sys\n",
    "\n",
    "sys.dont_write_bytecode = True\n",
    "os.environ[\"NUMBA_DISABLE_JIT\"] = \"1\"\n",
    "\n",
    "import numpy as np\n",
    "import pandas as pd\n",
    "\n",
    "from quantfreedom.data.data_dl import data_download_from_ccxt\n",
    "from quantfreedom.base import backtest_df_only\n",
    "from quantfreedom.nb.simulate import simulate_up_to_6_nb\n",
    "from quantfreedom.evaluators.evaluators import is_below\n",
    "from quantfreedom.indicators.talib_ind import from_talib\n",
    "from quantfreedom.enums.enums import (\n",
    "    LeverageMode,\n",
    "    SizeType,\n",
    "    OrderType,\n",
    "    CandleBody,\n",
    ")\n",
    "from quantfreedom.enums.enums import Arrays1dTuple\n",
    "from quantfreedom.plotting.strat_dashboard import strat_dashboard\n",
    "\n",
    "np.set_printoptions(formatter={\"float_kind\": \"{:.2f}\".format})\n",
    "pd.options.display.float_format = \"{:,.2f}\".format\n",
    "\n",
    "# prices = data_download_from_ccxt(\n",
    "#     exchange='bybit',\n",
    "#     start='2020-10-01T00:00:00Z',\n",
    "#     end='2021-04-15T00:00:00Z',\n",
    "#     symbols=['BTCUSDT', 'ETHUSD'],\n",
    "#     timeframe='30m',\n",
    "# )\n",
    "\n",
    "# prices.to_hdf(\"yt_prices.hd5\", key='data')\n",
    "price_data = pd.read_hdf('../data/prices.hd5')\n",
    "rsi_ind = from_talib(\n",
    "    func_name=\"rsi\",\n",
    "    price_data=price_data,\n",
    "    cart_product=False,\n",
    "    combos=False,\n",
    "    timeperiod=[15, 30],\n",
    ")\n",
    "entries = is_below(\n",
    "    want_to_evaluate=rsi_ind,\n",
    "    user_args=[40, 50],\n",
    "    candle_ohlc=\"close\",\n",
    ")"
   ]
  },
  {
   "cell_type": "code",
   "execution_count": 2,
   "metadata": {},
   "outputs": [
    {
     "name": "stdout",
     "output_type": "stream",
     "text": [
      "Checking static variables for errors or conflicts.\n",
      "Turning all variables into arrays.\n",
      "Checking arrays for errors or conflicts ... the backtest will begin shortly, please hold.\n",
      "Creating cartesian product ... after this the backtest will start, I promise :).\n",
      "\n",
      "Starting the backtest now ... and also here are some stats for your backtest.\n",
      "\n",
      "Total symbols: 5\n",
      "Total indicator settings per symbol: 4\n",
      "Total indicator settings to test: 20\n",
      "Total order settings per symbol: 4\n",
      "Total order settings to test: 20\n",
      "Total candles per symbol: 9,408\n",
      "Total candles to test: 752,640\n",
      "\n",
      "Total combinations to test: 80\n"
     ]
    }
   ],
   "source": [
    "strat_results_df, settings_results_df = backtest_df_only(\n",
    "    price_data=price_data,\n",
    "    entries=entries,\n",
    "    equity=1000.0,\n",
    "    fee_pct=0.06,\n",
    "    mmr_pct=0.5,\n",
    "    lev_mode=LeverageMode.LeastFreeCashUsed,\n",
    "    size_type=SizeType.RiskPercentOfAccount,\n",
    "    order_type=OrderType.LongEntry,\n",
    "    max_equity_risk_pct=np.arange(7, 8.1, 1),\n",
    "    risk_rewards=4,\n",
    "    size_pct=1.0,\n",
    "    # sl_pcts=np.arange(1,3.1,1),\n",
    "    tsl_true_or_false=True,\n",
    "    tsl_pcts_init=8,\n",
    "    tsl_based_on=CandleBody.low,\n",
    "    tsl_trail_by_pct=8,\n",
    "    tsl_when_pct_from_avg_entry=np.arange(3, 4.1, 1),\n",
    "    gains_pct_filter=150,\n",
    "    upside_filter=0.6,\n",
    "    divide_records_array_size_by=2,\n",
    ")"
   ]
  },
  {
   "cell_type": "code",
   "execution_count": 3,
   "metadata": {},
   "outputs": [
    {
     "ename": "TypeError",
     "evalue": "create_1d_arrays_nb() missing 2 required positional arguments: 'sl_based_on_add_pct' and 'sl_based_on'",
     "output_type": "error",
     "traceback": [
      "\u001b[1;31m---------------------------------------------------------------------------\u001b[0m",
      "\u001b[1;31mTypeError\u001b[0m                                 Traceback (most recent call last)",
      "Cell \u001b[1;32mIn[3], line 1\u001b[0m\n\u001b[1;32m----> 1\u001b[0m order_records \u001b[39m=\u001b[39m simulate_up_to_6_nb(\n\u001b[0;32m      2\u001b[0m     prices\u001b[39m=\u001b[39;49mprice_data[\u001b[39m'\u001b[39;49m\u001b[39mETHUSD\u001b[39;49m\u001b[39m'\u001b[39;49m]\u001b[39m.\u001b[39;49mvalues,\n\u001b[0;32m      3\u001b[0m     entries\u001b[39m=\u001b[39;49mentries\u001b[39m.\u001b[39;49miloc[:,[\u001b[39m11\u001b[39;49m]]\u001b[39m.\u001b[39;49mvalues,\n\u001b[0;32m      4\u001b[0m     equity\u001b[39m=\u001b[39;49m\u001b[39m1000.0\u001b[39;49m,\n\u001b[0;32m      5\u001b[0m     fee_pct\u001b[39m=\u001b[39;49m\u001b[39m0.06\u001b[39;49m,\n\u001b[0;32m      6\u001b[0m     mmr_pct\u001b[39m=\u001b[39;49m\u001b[39m0.5\u001b[39;49m,\n\u001b[0;32m      7\u001b[0m     lev_mode\u001b[39m=\u001b[39;49mLeverageMode\u001b[39m.\u001b[39;49mLeastFreeCashUsed,\n\u001b[0;32m      8\u001b[0m     size_type\u001b[39m=\u001b[39;49mSizeType\u001b[39m.\u001b[39;49mRiskPercentOfAccount,\n\u001b[0;32m      9\u001b[0m     order_type\u001b[39m=\u001b[39;49mOrderType\u001b[39m.\u001b[39;49mLongEntry,\n\u001b[0;32m     10\u001b[0m     max_equity_risk_pct\u001b[39m=\u001b[39;49m\u001b[39m8\u001b[39;49m,\n\u001b[0;32m     11\u001b[0m     risk_rewards\u001b[39m=\u001b[39;49m\u001b[39m3\u001b[39;49m,\n\u001b[0;32m     12\u001b[0m     size_pct\u001b[39m=\u001b[39;49m\u001b[39m1.0\u001b[39;49m,\n\u001b[0;32m     13\u001b[0m     \u001b[39m# sl_pcts=np.arange(1,3.1,1),\u001b[39;49;00m\n\u001b[0;32m     14\u001b[0m     tsl_true_or_false\u001b[39m=\u001b[39;49m\u001b[39mTrue\u001b[39;49;00m,\n\u001b[0;32m     15\u001b[0m     tsl_based_on\u001b[39m=\u001b[39;49mCandleBody\u001b[39m.\u001b[39;49mlow,\n\u001b[0;32m     16\u001b[0m     tsl_pcts_init\u001b[39m=\u001b[39;49m\u001b[39m8\u001b[39;49m,\n\u001b[0;32m     17\u001b[0m     tsl_trail_by_pct\u001b[39m=\u001b[39;49m\u001b[39m8\u001b[39;49m,\n\u001b[0;32m     18\u001b[0m     tsl_when_pct_from_avg_entry\u001b[39m=\u001b[39;49m\u001b[39m3\u001b[39;49m,\n\u001b[0;32m     19\u001b[0m     \u001b[39m# gains_pct_filter=100,\u001b[39;49;00m\n\u001b[0;32m     20\u001b[0m )\n",
      "File \u001b[1;32me:\\coding\\backtesters\\quantfreedom\\quantfreedom\\nb\\simulate.py:347\u001b[0m, in \u001b[0;36msimulate_up_to_6_nb\u001b[1;34m(entries, prices, equity, fee_pct, mmr_pct, lev_mode, order_type, size_type, leverage, max_equity_risk_pct, max_equity_risk_value, max_lev, max_order_size_pct, min_order_size_pct, max_order_size_value, min_order_size_value, size_pct, size_value, sl_pcts, sl_to_be, sl_to_be_based_on, sl_to_be_when_pct_from_avg_entry, sl_to_be_zero_or_entry, sl_to_be_then_trail, sl_to_be_trail_by_when_pct_from_avg_entry, tsl_pcts_init, tsl_true_or_false, tsl_based_on, tsl_trail_by_pct, tsl_when_pct_from_avg_entry, risk_rewards, tp_pcts)\u001b[0m\n\u001b[0;32m    344\u001b[0m og_equity \u001b[39m=\u001b[39m equity\n\u001b[0;32m    346\u001b[0m \u001b[39m# Create 1d Arrays\u001b[39;00m\n\u001b[1;32m--> 347\u001b[0m arrays_1d_tuple \u001b[39m=\u001b[39m create_1d_arrays_nb(\n\u001b[0;32m    348\u001b[0m     leverage\u001b[39m=\u001b[39;49mleverage,\n\u001b[0;32m    349\u001b[0m     max_equity_risk_pct\u001b[39m=\u001b[39;49mmax_equity_risk_pct,\n\u001b[0;32m    350\u001b[0m     max_equity_risk_value\u001b[39m=\u001b[39;49mmax_equity_risk_value,\n\u001b[0;32m    351\u001b[0m     risk_rewards\u001b[39m=\u001b[39;49mrisk_rewards,\n\u001b[0;32m    352\u001b[0m     size_pct\u001b[39m=\u001b[39;49msize_pct,\n\u001b[0;32m    353\u001b[0m     size_value\u001b[39m=\u001b[39;49msize_value,\n\u001b[0;32m    354\u001b[0m     sl_pcts\u001b[39m=\u001b[39;49msl_pcts,\n\u001b[0;32m    355\u001b[0m     sl_to_be_based_on\u001b[39m=\u001b[39;49msl_to_be_based_on,\n\u001b[0;32m    356\u001b[0m     sl_to_be_trail_by_when_pct_from_avg_entry\u001b[39m=\u001b[39;49msl_to_be_trail_by_when_pct_from_avg_entry,\n\u001b[0;32m    357\u001b[0m     sl_to_be_when_pct_from_avg_entry\u001b[39m=\u001b[39;49msl_to_be_when_pct_from_avg_entry,\n\u001b[0;32m    358\u001b[0m     sl_to_be_zero_or_entry\u001b[39m=\u001b[39;49msl_to_be_zero_or_entry,\n\u001b[0;32m    359\u001b[0m     tp_pcts\u001b[39m=\u001b[39;49mtp_pcts,\n\u001b[0;32m    360\u001b[0m     tsl_based_on\u001b[39m=\u001b[39;49mtsl_based_on,\n\u001b[0;32m    361\u001b[0m     tsl_pcts_init\u001b[39m=\u001b[39;49mtsl_pcts_init,\n\u001b[0;32m    362\u001b[0m     tsl_trail_by_pct\u001b[39m=\u001b[39;49mtsl_trail_by_pct,\n\u001b[0;32m    363\u001b[0m     tsl_when_pct_from_avg_entry\u001b[39m=\u001b[39;49mtsl_when_pct_from_avg_entry,\n\u001b[0;32m    364\u001b[0m )\n\u001b[0;32m    366\u001b[0m \u001b[39m# Checking all new arrays\u001b[39;00m\n\u001b[0;32m    367\u001b[0m check_1d_arrays_nb(\n\u001b[0;32m    368\u001b[0m     static_variables_tuple\u001b[39m=\u001b[39mstatic_variables_tuple,\n\u001b[0;32m    369\u001b[0m     arrays_1d_tuple\u001b[39m=\u001b[39marrays_1d_tuple,\n\u001b[0;32m    370\u001b[0m )\n",
      "\u001b[1;31mTypeError\u001b[0m: create_1d_arrays_nb() missing 2 required positional arguments: 'sl_based_on_add_pct' and 'sl_based_on'"
     ]
    }
   ],
   "source": [
    "order_records = simulate_up_to_6_nb(\n",
    "    prices=price_data['ETHUSD'].values,\n",
    "    entries=entries.iloc[:,[11]].values,\n",
    "    equity=1000.0,\n",
    "    fee_pct=0.06,\n",
    "    mmr_pct=0.5,\n",
    "    lev_mode=LeverageMode.LeastFreeCashUsed,\n",
    "    size_type=SizeType.RiskPercentOfAccount,\n",
    "    order_type=OrderType.LongEntry,\n",
    "    max_equity_risk_pct=8,\n",
    "    risk_rewards=3,\n",
    "    size_pct=1.0,\n",
    "    # sl_pcts=np.arange(1,3.1,1),\n",
    "    tsl_true_or_false=True,\n",
    "    tsl_based_on=CandleBody.low,\n",
    "    tsl_pcts_init=8,\n",
    "    tsl_trail_by_pct=8,\n",
    "    tsl_when_pct_from_avg_entry=3,\n",
    "    # gains_pct_filter=100,\n",
    ")"
   ]
  },
  {
   "cell_type": "code",
   "execution_count": null,
   "metadata": {},
   "outputs": [],
   "source": [
    "indicator_dict = {\n",
    "    \"indicator1\": {\n",
    "        \"values1\": rsi_ind[[('ETHUSD', 30)]],\n",
    "        \"entries1\": entries.iloc[:,[11]],\n",
    "    },\n",
    "}\n",
    "strat_dashboard(\n",
    "    indicator_dict=indicator_dict,\n",
    "    prices=price_data.ETHUSD,\n",
    "    order_records=order_records,\n",
    ")"
   ]
  }
 ],
 "metadata": {
  "kernelspec": {
   "display_name": "qfFree",
   "language": "python",
   "name": "python3"
  },
  "language_info": {
   "codemirror_mode": {
    "name": "ipython",
    "version": 3
   },
   "file_extension": ".py",
   "mimetype": "text/x-python",
   "name": "python",
   "nbconvert_exporter": "python",
   "pygments_lexer": "ipython3",
   "version": "3.10.10"
  },
  "orig_nbformat": 4
 },
 "nbformat": 4,
 "nbformat_minor": 2
}
