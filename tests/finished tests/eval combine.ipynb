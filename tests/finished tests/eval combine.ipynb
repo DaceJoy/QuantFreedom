{
  "cells": [
    {
      "cell_type": "code",
      "execution_count": 1,
      "metadata": {},
      "outputs": [],
      "source": [
        "import pandas as pd\n",
        "from quantfreedom.evaluators.evaluators import _is_below\n",
        "from quantfreedom.indicators.talib_ind import from_talib\n",
        "\n",
        "%load_ext autoreload\n",
        "%autoreload 2\n",
        "\n",
        "prices = pd.read_hdf('../data/prices.hd5')"
      ]
    },
    {
      "cell_type": "code",
      "execution_count": 6,
      "metadata": {},
      "outputs": [],
      "source": [
        "rsi_ind = from_talib(\n",
        "    func_name='rsi',\n",
        "    price_data=prices,\n",
        "    parameters={'timeperiod':[15, 30]},\n",
        "    nickname='rsi',\n",
        ")\n",
        "ema_ind = from_talib(\n",
        "    func_name='ema',\n",
        "    price_data=prices,\n",
        "    parameters={'timeperiod':[100, 200, 300]},\n",
        "    nickname='ema_price',\n",
        ")\n",
        "ema_rsi_ind = from_talib(\n",
        "    func_name='ema',\n",
        "    indicator_data=rsi_ind.data,\n",
        "    parameters={'timeperiod': [55, 75, 105]},\n",
        "    nickname='ema_rsi'\n",
        ")"
      ]
    },
    {
      "cell_type": "code",
      "execution_count": 10,
      "metadata": {},
      "outputs": [],
      "source": [
        "ema_is_below = _is_below(\n",
        "    want_to_evaluate=ema_ind.data,\n",
        "    price_data=prices,\n",
        "    candle_ohlc=\"close\",\n",
        ")\n",
        "rsi_is_below = _is_below(\n",
        "    want_to_evaluate=rsi_ind.data,\n",
        "    user_args=[40, 60],\n",
        "    candle_ohlc=\"close\",\n",
        ")\n",
        "ema_is_below_rsi = _is_below(\n",
        "    want_to_evaluate=ema_rsi_ind.data,\n",
        "    indicator_data=rsi_ind.data,\n",
        ")"
      ]
    },
    {
      "cell_type": "code",
      "execution_count": 4,
      "metadata": {},
      "outputs": [
        {
          "data": {
            "text/html": [
              "<div>\n",
              "<style scoped>\n",
              "    .dataframe tbody tr th:only-of-type {\n",
              "        vertical-align: middle;\n",
              "    }\n",
              "\n",
              "    .dataframe tbody tr th {\n",
              "        vertical-align: top;\n",
              "    }\n",
              "\n",
              "    .dataframe thead tr th {\n",
              "        text-align: left;\n",
              "    }\n",
              "\n",
              "    .dataframe thead tr:last-of-type th {\n",
              "        text-align: right;\n",
              "    }\n",
              "</style>\n",
              "<table border=\"1\" class=\"dataframe\">\n",
              "  <thead>\n",
              "    <tr>\n",
              "      <th>symbol</th>\n",
              "      <th>BTCUSDT</th>\n",
              "    </tr>\n",
              "    <tr>\n",
              "      <th>candle_info</th>\n",
              "      <th>close</th>\n",
              "    </tr>\n",
              "    <tr>\n",
              "      <th>open_time</th>\n",
              "      <th></th>\n",
              "    </tr>\n",
              "  </thead>\n",
              "  <tbody>\n",
              "    <tr>\n",
              "      <th>2020-10-01 00:00:00</th>\n",
              "      <td>10,790.00</td>\n",
              "    </tr>\n",
              "    <tr>\n",
              "      <th>2020-10-01 00:30:00</th>\n",
              "      <td>10,777.00</td>\n",
              "    </tr>\n",
              "    <tr>\n",
              "      <th>2020-10-01 01:00:00</th>\n",
              "      <td>10,793.00</td>\n",
              "    </tr>\n",
              "    <tr>\n",
              "      <th>2020-10-01 01:30:00</th>\n",
              "      <td>10,822.00</td>\n",
              "    </tr>\n",
              "    <tr>\n",
              "      <th>2020-10-01 02:00:00</th>\n",
              "      <td>10,808.50</td>\n",
              "    </tr>\n",
              "    <tr>\n",
              "      <th>...</th>\n",
              "      <td>...</td>\n",
              "    </tr>\n",
              "    <tr>\n",
              "      <th>2021-04-14 21:30:00</th>\n",
              "      <td>62,795.00</td>\n",
              "    </tr>\n",
              "    <tr>\n",
              "      <th>2021-04-14 22:00:00</th>\n",
              "      <td>62,680.00</td>\n",
              "    </tr>\n",
              "    <tr>\n",
              "      <th>2021-04-14 22:30:00</th>\n",
              "      <td>62,849.50</td>\n",
              "    </tr>\n",
              "    <tr>\n",
              "      <th>2021-04-14 23:00:00</th>\n",
              "      <td>62,999.00</td>\n",
              "    </tr>\n",
              "    <tr>\n",
              "      <th>2021-04-14 23:30:00</th>\n",
              "      <td>62,921.00</td>\n",
              "    </tr>\n",
              "  </tbody>\n",
              "</table>\n",
              "<p>9408 rows × 1 columns</p>\n",
              "</div>"
            ],
            "text/plain": [
              "symbol                BTCUSDT\n",
              "candle_info             close\n",
              "open_time                    \n",
              "2020-10-01 00:00:00 10,790.00\n",
              "2020-10-01 00:30:00 10,777.00\n",
              "2020-10-01 01:00:00 10,793.00\n",
              "2020-10-01 01:30:00 10,822.00\n",
              "2020-10-01 02:00:00 10,808.50\n",
              "...                       ...\n",
              "2021-04-14 21:30:00 62,795.00\n",
              "2021-04-14 22:00:00 62,680.00\n",
              "2021-04-14 22:30:00 62,849.50\n",
              "2021-04-14 23:00:00 62,999.00\n",
              "2021-04-14 23:30:00 62,921.00\n",
              "\n",
              "[9408 rows x 1 columns]"
            ]
          },
          "execution_count": 4,
          "metadata": {},
          "output_type": "execute_result"
        }
      ],
      "source": [
        "prices[[('BTCUSDT', 'close')]]"
      ]
    },
    {
      "cell_type": "code",
      "execution_count": 5,
      "metadata": {},
      "outputs": [
        {
          "ename": "NameError",
          "evalue": "name 'combine_evals' is not defined",
          "output_type": "error",
          "traceback": [
            "\u001b[1;31m---------------------------------------------------------------------------\u001b[0m",
            "\u001b[1;31mNameError\u001b[0m                                 Traceback (most recent call last)",
            "Cell \u001b[1;32mIn[5], line 1\u001b[0m\n\u001b[1;32m----> 1\u001b[0m combine_evals(\n\u001b[0;32m      2\u001b[0m     first_eval_data\u001b[39m=\u001b[39mrsi_is_below,\n\u001b[0;32m      3\u001b[0m     second_eval_data\u001b[39m=\u001b[39mrsi_ema_is_below,\n\u001b[0;32m      4\u001b[0m     plot_results\u001b[39m=\u001b[39m\u001b[39mTrue\u001b[39;00m,\n\u001b[0;32m      5\u001b[0m     first_eval_data_needs_prices\u001b[39m=\u001b[39m\u001b[39mFalse\u001b[39;00m,\n\u001b[0;32m      6\u001b[0m     second_eval_data_needs_prices\u001b[39m=\u001b[39m\u001b[39mFalse\u001b[39;00m,\n\u001b[0;32m      7\u001b[0m     first_ind_data\u001b[39m=\u001b[39mrsi_ind,\n\u001b[0;32m      8\u001b[0m     second_ind_data\u001b[39m=\u001b[39mrsi_ema_ind,\n\u001b[0;32m      9\u001b[0m )\n",
            "\u001b[1;31mNameError\u001b[0m: name 'combine_evals' is not defined"
          ]
        }
      ],
      "source": [
        "combine_evals(\n",
        "    first_eval_data=rsi_is_below,\n",
        "    second_eval_data=rsi_ema_is_below,\n",
        "    plot_results=True,\n",
        "    first_eval_data_needs_prices=False,\n",
        "    second_eval_data_needs_prices=False,\n",
        "    first_ind_data=rsi_ind,\n",
        "    second_ind_data=rsi_ema_ind,\n",
        ")"
      ]
    },
    {
      "cell_type": "code",
      "execution_count": null,
      "metadata": {},
      "outputs": [],
      "source": [
        "combine_evals(\n",
        "    first_eval_data=ema_is_below,\n",
        "    second_eval_data=rsi_is_below,\n",
        "    plot_results=True,\n",
        "    first_eval_data_needs_prices=True,\n",
        "    second_eval_data_needs_prices=False,\n",
        "    first_ind_data=ema_ind,\n",
        "    second_ind_data=rsi_ind,\n",
        "    prices=prices,\n",
        ")"
      ]
    },
    {
      "cell_type": "code",
      "execution_count": null,
      "metadata": {},
      "outputs": [],
      "source": [
        "combine_evals(\n",
        "    first_eval_data=ema_is_above,\n",
        "    second_eval_data=ema_2_is_above,\n",
        "    plot_results=True,\n",
        "    first_eval_data_needs_prices=True,\n",
        "    second_eval_data_needs_prices=True,\n",
        "    first_ind_data=ema_ind,\n",
        "    second_ind_data=ema_2_ind,\n",
        "    prices=prices\n",
        ")"
      ]
    },
    {
      "cell_type": "code",
      "execution_count": null,
      "metadata": {},
      "outputs": [],
      "source": [
        "combine_evals(\n",
        "    first_eval_data=ema_is_below,\n",
        "    second_eval_data=ema_2_is_below,\n",
        "    plot_results=True,\n",
        "    first_eval_data_needs_prices=True,\n",
        "    second_eval_data_needs_prices=True,\n",
        "    first_ind_data=ema_ind,\n",
        "    second_ind_data=ema_2_ind,\n",
        "    prices=prices\n",
        ")"
      ]
    }
  ],
  "metadata": {
    "kernelspec": {
      "display_name": "qfFree",
      "language": "python",
      "name": "python3"
    },
    "language_info": {
      "codemirror_mode": {
        "name": "ipython",
        "version": 3
      },
      "file_extension": ".py",
      "mimetype": "text/x-python",
      "name": "python",
      "nbconvert_exporter": "python",
      "pygments_lexer": "ipython3",
      "version": "3.10.10"
    },
    "orig_nbformat": 4
  },
  "nbformat": 4,
  "nbformat_minor": 2
}
