{
  "cells": [
    {
      "cell_type": "code",
      "execution_count": 3,
      "metadata": {},
      "outputs": [],
      "source": [
        "import quantfreedom as qf\n",
        "import pandas as pd"
      ]
    },
    {
      "cell_type": "code",
      "execution_count": 7,
      "metadata": {},
      "outputs": [
        {
          "name": "stdout",
          "output_type": "stream",
          "text": [
            "Loading exchange data\n",
            "Total rows of data to be download: 13296\n",
            "Total candles to be download: 26592\n"
          ]
        },
        {
          "name": "stderr",
          "output_type": "stream",
          "text": [
            "Downloading XRPUSDT: 100%|██████████| 136/136 [00:34<00:00,  3.97it/s]\n"
          ]
        }
      ],
      "source": [
        "prices = qf.CCXTData.data_download(\n",
        "    exchange='bybit',\n",
        "    # start='2020-10-01T00:00:00Z',\n",
        "    # end='2021-04-01T00:00:00Z',\n",
        "    start='2022-04-01T00:00:00Z',\n",
        "    end='2023-01-03T00:00:00Z',\n",
        "    symbols=['BTCUSDT', 'XRPUSDT'],\n",
        "    timeframe='30m',\n",
        "    drop_volume=True,\n",
        ")"
      ]
    },
    {
      "cell_type": "code",
      "execution_count": 6,
      "metadata": {},
      "outputs": [],
      "source": [
        "prices.to_hdf('../data/prices.hd5', key='data')"
      ]
    },
    {
      "cell_type": "code",
      "execution_count": null,
      "metadata": {},
      "outputs": [],
      "source": [
        "pd.read_hdf('test.hd5')"
      ]
    },
    {
      "cell_type": "code",
      "execution_count": null,
      "metadata": {},
      "outputs": [],
      "source": [
        "data.to_dict()"
      ]
    }
  ],
  "metadata": {
    "kernelspec": {
      "display_name": "qfFree",
      "language": "python",
      "name": "python3"
    },
    "language_info": {
      "codemirror_mode": {
        "name": "ipython",
        "version": 3
      },
      "file_extension": ".py",
      "mimetype": "text/x-python",
      "name": "python",
      "nbconvert_exporter": "python",
      "pygments_lexer": "ipython3",
      "version": "3.10.10"
    },
    "orig_nbformat": 4
  },
  "nbformat": 4,
  "nbformat_minor": 2
}
