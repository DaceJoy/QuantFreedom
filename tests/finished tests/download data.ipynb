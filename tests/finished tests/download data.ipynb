{
  "cells": [
    {
      "cell_type": "code",
      "execution_count": null,
      "metadata": {},
      "outputs": [],
      "source": [
        "import quantfreedom as qf\n",
        "from quantfreedom.data.data_dl import data_download_from_ccxt\n",
        "import pandas as pd\n",
        "\n",
        "%load_ext autoreload\n",
        "%autoreload 2"
      ]
    },
    {
      "cell_type": "code",
      "execution_count": null,
      "metadata": {},
      "outputs": [],
      "source": [
        "prices = data_download_from_ccxt(\n",
        "    exchange='bybit',\n",
        "    start='2020-10-01T00:00:00Z',\n",
        "    end='2021-04-15T00:00:00Z',\n",
        "    symbols=['BTCUSDT', 'ETHUSD', 'XRPUSD', 'EOSUSD', 'LTCUSDT'],\n",
        "    timeframe='30min',\n",
        ")"
      ]
    },
    {
      "cell_type": "code",
      "execution_count": null,
      "metadata": {},
      "outputs": [],
      "source": [
        "prices.head()"
      ]
    },
    {
      "cell_type": "code",
      "execution_count": null,
      "metadata": {},
      "outputs": [],
      "source": [
        "# prices.to_hdf('../data/prices.hd5', key='data')\n",
        "prices.to_parquet('../data/prices.parquet')"
      ]
    },
    {
      "cell_type": "code",
      "execution_count": null,
      "metadata": {},
      "outputs": [],
      "source": [
        "# pd.read_hdf('../data/prices.hd5')['BTCUSDT']['close'].plot()\n",
        "prices = pd.read_parquet('../data/prices.parquet')\n",
        "prices.head()"
      ]
    },
    {
      "cell_type": "code",
      "execution_count": null,
      "metadata": {},
      "outputs": [],
      "source": [
        "from quantfreedom.indicators.talib_ind import from_talib"
      ]
    },
    {
      "cell_type": "code",
      "execution_count": null,
      "metadata": {},
      "outputs": [],
      "source": [
        "ind = from_talib(\n",
        "    func_name=\"rsi\",\n",
        "    price_data=prices,\n",
        "    cart_product=True,\n",
        "    combos=False,\n",
        "    timeperiod=[15, 30],\n",
        ")"
      ]
    },
    {
      "cell_type": "code",
      "execution_count": null,
      "metadata": {},
      "outputs": [],
      "source": [
        "ind.data"
      ]
    },
    {
      "cell_type": "code",
      "execution_count": null,
      "metadata": {},
      "outputs": [],
      "source": []
    }
  ],
  "metadata": {
    "kernelspec": {
      "display_name": "qfFree",
      "language": "python",
      "name": "python3"
    },
    "language_info": {
      "codemirror_mode": {
        "name": "ipython",
        "version": 3
      },
      "file_extension": ".py",
      "mimetype": "text/x-python",
      "name": "python",
      "nbconvert_exporter": "python",
      "pygments_lexer": "ipython3",
      "version": "3.10.10"
    },
    "orig_nbformat": 4
  },
  "nbformat": 4,
  "nbformat_minor": 2
}
