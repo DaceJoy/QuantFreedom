{
  "cells": [
    {
      "cell_type": "code",
      "execution_count": 1,
      "metadata": {},
      "outputs": [],
      "source": [
        "import quantfreedom as qf\n",
        "import pandas as pd\n",
        "from quantfreedom.indicators.talib_ind import *\n",
        "\n",
        "%load_ext autoreload\n",
        "%autoreload 2\n",
        "\n",
        "prices = pd.read_hdf('../data/prices.hd5')"
      ]
    },
    {
      "cell_type": "code",
      "execution_count": 2,
      "metadata": {},
      "outputs": [],
      "source": [
        "# talib_list_of_indicators()"
      ]
    },
    {
      "cell_type": "code",
      "execution_count": 3,
      "metadata": {},
      "outputs": [],
      "source": [
        "# talib_func_list_website_link()"
      ]
    },
    {
      "cell_type": "code",
      "execution_count": 4,
      "metadata": {},
      "outputs": [
        {
          "data": {
            "text/plain": [
              "{'name': 'BBANDS',\n",
              " 'group': 'Overlap Studies',\n",
              " 'display_name': 'Bollinger Bands',\n",
              " 'function_flags': ['Output scale same as input'],\n",
              " 'input_names': OrderedDict([('price', 'close')]),\n",
              " 'parameters': OrderedDict([('timeperiod', 5),\n",
              "              ('nbdevup', 2),\n",
              "              ('nbdevdn', 2),\n",
              "              ('matype', 0)]),\n",
              " 'output_flags': OrderedDict([('upperband',\n",
              "               ['Values represent an upper limit']),\n",
              "              ('middleband', ['Line']),\n",
              "              ('lowerband', ['Values represent a lower limit'])]),\n",
              " 'output_names': ['upperband', 'middleband', 'lowerband']}"
            ]
          },
          "execution_count": 4,
          "metadata": {},
          "output_type": "execute_result"
        }
      ],
      "source": [
        "talib_ind_info('bbands')"
      ]
    },
    {
      "cell_type": "code",
      "execution_count": 5,
      "metadata": {},
      "outputs": [
        {
          "data": {
            "text/plain": [
              "{'name': 'STOCH',\n",
              " 'group': 'Momentum Indicators',\n",
              " 'display_name': 'Stochastic',\n",
              " 'function_flags': None,\n",
              " 'input_names': OrderedDict([('prices', ['high', 'low', 'close'])]),\n",
              " 'parameters': OrderedDict([('fastk_period', 5),\n",
              "              ('slowk_period', 3),\n",
              "              ('slowk_matype', 0),\n",
              "              ('slowd_period', 3),\n",
              "              ('slowd_matype', 0)]),\n",
              " 'output_flags': OrderedDict([('slowk', ['Dashed Line']),\n",
              "              ('slowd', ['Dashed Line'])]),\n",
              " 'output_names': ['slowk', 'slowd']}"
            ]
          },
          "execution_count": 5,
          "metadata": {},
          "output_type": "execute_result"
        }
      ],
      "source": [
        "talib_ind_info('stoch')"
      ]
    },
    {
      "cell_type": "code",
      "execution_count": 12,
      "metadata": {},
      "outputs": [],
      "source": [
        "talib_ind_info('rsi')"
      ]
    },
    {
      "cell_type": "code",
      "execution_count": 10,
      "metadata": {},
      "outputs": [
        {
          "ename": "IndexError",
          "evalue": "index 1 is out of bounds for axis 0 with size 1",
          "output_type": "error",
          "traceback": [
            "\u001b[0;31m---------------------------------------------------------------------------\u001b[0m",
            "\u001b[0;31mIndexError\u001b[0m                                Traceback (most recent call last)",
            "Cell \u001b[0;32mIn[10], line 1\u001b[0m\n\u001b[0;32m----> 1\u001b[0m from_talib(\n\u001b[1;32m      2\u001b[0m     func_name\u001b[39m=\u001b[39;49m\u001b[39m'\u001b[39;49m\u001b[39mrsi\u001b[39;49m\u001b[39m'\u001b[39;49m,\n\u001b[1;32m      3\u001b[0m     price_data\u001b[39m=\u001b[39;49mprices,\n\u001b[1;32m      4\u001b[0m     all_possible_combos \u001b[39m=\u001b[39;49m \u001b[39mFalse\u001b[39;49;00m,\n\u001b[1;32m      5\u001b[0m     column_wise_combos \u001b[39m=\u001b[39;49m \u001b[39mFalse\u001b[39;49;00m,\n\u001b[1;32m      6\u001b[0m     input_names \u001b[39m=\u001b[39;49m [\u001b[39m'\u001b[39;49m\u001b[39mopen\u001b[39;49m\u001b[39m'\u001b[39;49m],\n\u001b[1;32m      7\u001b[0m     parameters\u001b[39m=\u001b[39;49m{\u001b[39m'\u001b[39;49m\u001b[39mtimeperiod\u001b[39;49m\u001b[39m'\u001b[39;49m: [\u001b[39m15\u001b[39;49m, \u001b[39m20\u001b[39;49m, \u001b[39m25\u001b[39;49m, \u001b[39m30\u001b[39;49m]}\n\u001b[1;32m      8\u001b[0m )\n",
            "File \u001b[0;32m~/Documentos/quantfreedom/QuantFreedom/quantfreedom/indicators/talib_ind.py:255\u001b[0m, in \u001b[0;36mfrom_talib\u001b[0;34m(func_name, price_data, indicator_data, all_possible_combos, column_wise_combos, plot_results, plot_on_data, input_names, parameters)\u001b[0m\n\u001b[1;32m    252\u001b[0m \u001b[39mfor\u001b[39;00m c \u001b[39min\u001b[39;00m \u001b[39mrange\u001b[39m(ind_setings_len):\n\u001b[1;32m    253\u001b[0m     \u001b[39m# x is the array object in the tuple (x,x)\u001b[39;00m\n\u001b[1;32m    254\u001b[0m     \u001b[39mfor\u001b[39;00m x \u001b[39min\u001b[39;00m final_user_args:\n\u001b[0;32m--> 255\u001b[0m         \u001b[39mif\u001b[39;00m \u001b[39mtype\u001b[39m(x[c]) \u001b[39m==\u001b[39m np\u001b[39m.\u001b[39mint_:\n\u001b[1;32m    256\u001b[0m             ind_settings_tup \u001b[39m=\u001b[39m ind_settings_tup \u001b[39m+\u001b[39m (\u001b[39mint\u001b[39m(x[c]),)\n\u001b[1;32m    257\u001b[0m         \u001b[39mif\u001b[39;00m \u001b[39mtype\u001b[39m(x[c]) \u001b[39m==\u001b[39m np\u001b[39m.\u001b[39mfloat_:\n",
            "\u001b[0;31mIndexError\u001b[0m: index 1 is out of bounds for axis 0 with size 1"
          ]
        }
      ],
      "source": [
        "from_talib(\n",
        "    func_name='rsi',\n",
        "    price_data=prices,\n",
        "    all_possible_combos = False,\n",
        "    column_wise_combos = False,\n",
        "    input_names = ['open'],\n",
        "    parameters = {'timeperiod': [15, 20, 25, 30]}\n",
        ")"
      ]
    },
    {
      "cell_type": "code",
      "execution_count": 11,
      "metadata": {},
      "outputs": [
        {
          "ename": "ValueError",
          "evalue": "slowd_matype when using column_wise_combos, all listed items must be same length",
          "output_type": "error",
          "traceback": [
            "\u001b[0;31m---------------------------------------------------------------------------\u001b[0m",
            "\u001b[0;31mValueError\u001b[0m                                Traceback (most recent call last)",
            "Cell \u001b[0;32mIn[11], line 1\u001b[0m\n\u001b[0;32m----> 1\u001b[0m from_talib(\n\u001b[1;32m      2\u001b[0m     func_name\u001b[39m=\u001b[39;49m\u001b[39m'\u001b[39;49m\u001b[39mstoch\u001b[39;49m\u001b[39m'\u001b[39;49m,\n\u001b[1;32m      3\u001b[0m     price_data\u001b[39m=\u001b[39;49mprices,\n\u001b[1;32m      4\u001b[0m     all_possible_combos \u001b[39m=\u001b[39;49m \u001b[39mTrue\u001b[39;49;00m,\n\u001b[1;32m      5\u001b[0m     column_wise_combos \u001b[39m=\u001b[39;49m \u001b[39mFalse\u001b[39;49;00m,\n\u001b[1;32m      6\u001b[0m     input_names \u001b[39m=\u001b[39;49m [\u001b[39m'\u001b[39;49m\u001b[39mopen\u001b[39;49m\u001b[39m'\u001b[39;49m],\n\u001b[1;32m      7\u001b[0m     parameters\u001b[39m=\u001b[39;49m\u001b[39mdict\u001b[39;49m(\n\u001b[1;32m      8\u001b[0m         fastk_period\u001b[39m=\u001b[39;49m[\u001b[39m1\u001b[39;49m, \u001b[39m10\u001b[39;49m, \u001b[39m8\u001b[39;49m, \u001b[39m5\u001b[39;49m],\n\u001b[1;32m      9\u001b[0m         slowk_period\u001b[39m=\u001b[39;49m[\u001b[39m15\u001b[39;49m,\u001b[39m9\u001b[39;49m],\n\u001b[1;32m     10\u001b[0m         slowk_matype\u001b[39m=\u001b[39;49m[\u001b[39m6\u001b[39;49m,\u001b[39m3\u001b[39;49m,\u001b[39m7\u001b[39;49m]\n\u001b[1;32m     11\u001b[0m     )\n\u001b[1;32m     12\u001b[0m )\n",
            "File \u001b[0;32m~/Documentos/quantfreedom/QuantFreedom/quantfreedom/indicators/talib_ind.py:199\u001b[0m, in \u001b[0;36mfrom_talib\u001b[0;34m(func_name, price_data, indicator_data, all_possible_combos, column_wise_combos, plot_results, plot_on_data, input_names, parameters)\u001b[0m\n\u001b[1;32m    196\u001b[0m     \u001b[39mif\u001b[39;00m \u001b[39m1\u001b[39m \u001b[39min\u001b[39;00m unique_length:\n\u001b[1;32m    197\u001b[0m         unique_length\u001b[39m.\u001b[39mremove(\u001b[39m1\u001b[39m)\n\u001b[0;32m--> 199\u001b[0m     \u001b[39mif\u001b[39;00m \u001b[39mlen\u001b[39m(unique_length) \u001b[39m>\u001b[39m \u001b[39m1\u001b[39m:\n\u001b[1;32m    200\u001b[0m             \u001b[39mraise\u001b[39;00m \u001b[39mValueError\u001b[39;00m(\n\u001b[1;32m    201\u001b[0m                 \u001b[39mf\u001b[39m\u001b[39m\"\u001b[39m\u001b[39m{\u001b[39;00mparam_names_key\u001b[39m}\u001b[39;00m\u001b[39m when using column_wise_combos, all listed items must be same length\u001b[39m\u001b[39m\"\u001b[39m\n\u001b[1;32m    202\u001b[0m             )\n\u001b[1;32m    203\u001b[0m \u001b[39melse\u001b[39;00m:\n",
            "\u001b[0;31mValueError\u001b[0m: slowd_matype when using column_wise_combos, all listed items must be same length"
          ]
        }
      ],
      "source": [
        "from_talib(\n",
        "    func_name='stoch',\n",
        "    price_data=prices,\n",
        "    all_possible_combos = True,\n",
        "    column_wise_combos = False,\n",
        "    input_names = ['open'],\n",
        "    parameters=dict(\n",
        "        fastk_period=[1, 10, 8, 5],\n",
        "        slowk_period=[15,9],\n",
        "        slowk_matype=[6,3,7]\n",
        "    )\n",
        ")"
      ]
    },
    {
      "cell_type": "code",
      "execution_count": null,
      "metadata": {},
      "outputs": [],
      "source": [
        "from_talib(\n",
        "    func_name='stoch',\n",
        "    price_data=prices,\n",
        "    all_possible_combos=False,\n",
        "    column_wise_combos=True,\n",
        "    fastk_period=[1,10],\n",
        "    slowk_period=[15,9],\n",
        "    slowk_matype=[6,3],\n",
        ")"
      ]
    },
    {
      "cell_type": "code",
      "execution_count": null,
      "metadata": {},
      "outputs": [],
      "source": [
        "talib_ind_info('atr')"
      ]
    }
  ],
  "metadata": {
    "kernelspec": {
      "display_name": "qfFree",
      "language": "python",
      "name": "python3"
    },
    "language_info": {
      "codemirror_mode": {
        "name": "ipython",
        "version": 3
      },
      "file_extension": ".py",
      "mimetype": "text/x-python",
      "name": "python",
      "nbconvert_exporter": "python",
      "pygments_lexer": "ipython3",
      "version": "3.11.3"
    },
    "orig_nbformat": 4
  },
  "nbformat": 4,
  "nbformat_minor": 2
}
