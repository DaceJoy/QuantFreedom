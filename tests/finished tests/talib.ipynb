{
  "cells": [
    {
      "cell_type": "code",
      "execution_count": null,
      "metadata": {},
      "outputs": [],
      "source": [
        "import quantfreedom as qf\n",
        "import pandas as pd\n",
        "from quantfreedom.indicators.talib_ind import *\n",
        "\n",
        "%load_ext autoreload\n",
        "%autoreload 2\n",
        "\n",
        "prices = pd.read_hdf('../data/prices.hd5')"
      ]
    },
    {
      "cell_type": "code",
      "execution_count": null,
      "metadata": {},
      "outputs": [],
      "source": [
        "# talib_list_of_indicators()"
      ]
    },
    {
      "cell_type": "code",
      "execution_count": null,
      "metadata": {},
      "outputs": [],
      "source": [
        "# talib_func_list_website_link()"
      ]
    },
    {
      "cell_type": "code",
      "execution_count": null,
      "metadata": {},
      "outputs": [],
      "source": [
        "talib_ind_info('bbands')"
      ]
    },
    {
      "cell_type": "code",
      "execution_count": null,
      "metadata": {},
      "outputs": [],
      "source": [
        "talib_ind_info('stoch')"
      ]
    },
    {
      "cell_type": "code",
      "execution_count": null,
      "metadata": {},
      "outputs": [],
      "source": [
        "talib_ind_info('rsi')"
      ]
    },
    {
      "cell_type": "code",
      "execution_count": null,
      "metadata": {},
      "outputs": [],
      "source": [
        "rsi = from_talib(\n",
        "    func_name='rsi',\n",
        "    price_data=prices,\n",
        "    input_names = ['open'],\n",
        "    parameters = {'timeperiod': [15, 20, 25, 30]}\n",
        ")"
      ]
    },
    {
      "cell_type": "code",
      "execution_count": null,
      "metadata": {},
      "outputs": [],
      "source": [
        "from_talib(\n",
        "    func_name='ema',\n",
        "    indicator_data=rsi.data,\n",
        "    parameters = {'timeperiod': [50, 70, 90]}\n",
        ").data"
      ]
    },
    {
      "cell_type": "code",
      "execution_count": null,
      "metadata": {},
      "outputs": [],
      "source": [
        "from_talib(\n",
        "    func_name='stoch',\n",
        "    price_data=prices,\n",
        "    column_wise_combos = False,\n",
        "    input_names = [['open', 'close', 'high'], ['open', 'high', 'low']],\n",
        "    parameters=dict(\n",
        "        fastk_period=[1, 10, 8, 5],\n",
        "        slowk_period=[15, 9, 10, 5],\n",
        "        slowk_matype=[6, 3, 7, 5]\n",
        "    )\n",
        ").data"
      ]
    },
    {
      "cell_type": "code",
      "execution_count": null,
      "metadata": {},
      "outputs": [],
      "source": [
        "from_talib(\n",
        "    func_name='stoch',\n",
        "    price_data=prices,\n",
        "    all_possible_combos=False,\n",
        "    column_wise_combos=True,\n",
        "    fastk_period=[1,10],\n",
        "    slowk_period=[15,9],\n",
        "    slowk_matype=[6,3],\n",
        ")"
      ]
    },
    {
      "cell_type": "code",
      "execution_count": null,
      "metadata": {},
      "outputs": [],
      "source": [
        "talib_ind_info('atr')"
      ]
    }
  ],
  "metadata": {
    "kernelspec": {
      "display_name": "qfFree",
      "language": "python",
      "name": "python3"
    },
    "language_info": {
      "codemirror_mode": {
        "name": "ipython",
        "version": 3
      },
      "file_extension": ".py",
      "mimetype": "text/x-python",
      "name": "python",
      "nbconvert_exporter": "python",
      "pygments_lexer": "ipython3",
      "version": "3.11.3"
    },
    "orig_nbformat": 4
  },
  "nbformat": 4,
  "nbformat_minor": 2
}
