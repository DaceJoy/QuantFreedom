{
  "cells": [
    {
      "cell_type": "code",
      "execution_count": 1,
      "metadata": {},
      "outputs": [],
      "source": [
        "import quantfreedom as qf\n",
        "import pandas as pd\n",
        "from quantfreedom.indicators.talib_ind import *\n",
        "prices = pd.read_hdf('../data/prices.hd5')"
      ]
    },
    {
      "cell_type": "code",
      "execution_count": 2,
      "metadata": {},
      "outputs": [],
      "source": [
        "# talib_list_of_indicators()"
      ]
    },
    {
      "cell_type": "code",
      "execution_count": 3,
      "metadata": {},
      "outputs": [],
      "source": [
        "# talib_func_list_website_link()"
      ]
    },
    {
      "cell_type": "code",
      "execution_count": 4,
      "metadata": {},
      "outputs": [
        {
          "data": {
            "text/plain": [
              "{'name': 'BBANDS',\n",
              " 'group': 'Overlap Studies',\n",
              " 'display_name': 'Bollinger Bands',\n",
              " 'function_flags': ['Output scale same as input'],\n",
              " 'input_names': OrderedDict([('price', 'close')]),\n",
              " 'parameters': OrderedDict([('timeperiod', 5),\n",
              "              ('nbdevup', 2),\n",
              "              ('nbdevdn', 2),\n",
              "              ('matype', 0)]),\n",
              " 'output_flags': OrderedDict([('upperband',\n",
              "               ['Values represent an upper limit']),\n",
              "              ('middleband', ['Line']),\n",
              "              ('lowerband', ['Values represent a lower limit'])]),\n",
              " 'output_names': ['upperband', 'middleband', 'lowerband']}"
            ]
          },
          "execution_count": 4,
          "metadata": {},
          "output_type": "execute_result"
        }
      ],
      "source": [
        "talib_ind_info('bbands')"
      ]
    },
    {
      "cell_type": "code",
      "execution_count": 5,
      "metadata": {},
      "outputs": [
        {
          "data": {
            "text/plain": [
              "{'name': 'STOCH',\n",
              " 'group': 'Momentum Indicators',\n",
              " 'display_name': 'Stochastic',\n",
              " 'function_flags': None,\n",
              " 'input_names': OrderedDict([('prices', ['high', 'low', 'close'])]),\n",
              " 'parameters': OrderedDict([('fastk_period', 5),\n",
              "              ('slowk_period', 3),\n",
              "              ('slowk_matype', 0),\n",
              "              ('slowd_period', 3),\n",
              "              ('slowd_matype', 0)]),\n",
              " 'output_flags': OrderedDict([('slowk', ['Dashed Line']),\n",
              "              ('slowd', ['Dashed Line'])]),\n",
              " 'output_names': ['slowk', 'slowd']}"
            ]
          },
          "execution_count": 5,
          "metadata": {},
          "output_type": "execute_result"
        }
      ],
      "source": [
        "talib_ind_info('stoch')"
      ]
    },
    {
      "cell_type": "code",
      "execution_count": 6,
      "metadata": {},
      "outputs": [
        {
          "data": {
            "text/plain": [
              "{'name': 'RSI',\n",
              " 'group': 'Momentum Indicators',\n",
              " 'display_name': 'Relative Strength Index',\n",
              " 'function_flags': ['Function has an unstable period'],\n",
              " 'input_names': OrderedDict([('price', 'close')]),\n",
              " 'parameters': OrderedDict([('timeperiod', 14)]),\n",
              " 'output_flags': OrderedDict([('real', ['Line'])]),\n",
              " 'output_names': ['real']}"
            ]
          },
          "execution_count": 6,
          "metadata": {},
          "output_type": "execute_result"
        }
      ],
      "source": [
        "talib_ind_info('rsi')"
      ]
    },
    {
      "cell_type": "code",
      "execution_count": 9,
      "metadata": {},
      "outputs": [
        {
          "data": {
            "text/plain": [
              "<quantfreedom.indicators.indicators_cls.Indicator at 0x203523abdf0>"
            ]
          },
          "execution_count": 9,
          "metadata": {},
          "output_type": "execute_result"
        }
      ],
      "source": [
        "from_talib(\n",
        "    func_name='rsi',\n",
        "    price_data=prices,\n",
        "    cart_product=False,\n",
        "    combos=False,\n",
        "    timeperiod=[15,20,25,30],\n",
        "    price='open',\n",
        ")"
      ]
    },
    {
      "cell_type": "code",
      "execution_count": 8,
      "metadata": {},
      "outputs": [
        {
          "ename": "ValueError",
          "evalue": "You have to have a list for paramaters for ['fastk_period', 'slowk_period', 'slowk_matype', 'slowd_period', 'slowd_matype'] to use cart product or column_wise_combos",
          "output_type": "error",
          "traceback": [
            "\u001b[1;31m---------------------------------------------------------------------------\u001b[0m",
            "\u001b[1;31mValueError\u001b[0m                                Traceback (most recent call last)",
            "Cell \u001b[1;32mIn[8], line 1\u001b[0m\n\u001b[1;32m----> 1\u001b[0m from_talib(\n\u001b[0;32m      2\u001b[0m     func_name\u001b[39m=\u001b[39;49m\u001b[39m'\u001b[39;49m\u001b[39mstoch\u001b[39;49m\u001b[39m'\u001b[39;49m,\n\u001b[0;32m      3\u001b[0m     price_data\u001b[39m=\u001b[39;49mprices,\n\u001b[0;32m      4\u001b[0m     all_possible_combos\u001b[39m=\u001b[39;49m\u001b[39mTrue\u001b[39;49;00m,\n\u001b[0;32m      5\u001b[0m     column_wise_combos\u001b[39m=\u001b[39;49m\u001b[39mFalse\u001b[39;49;00m,\n\u001b[0;32m      6\u001b[0m     fastk_period\u001b[39m=\u001b[39;49m[\u001b[39m1\u001b[39;49m,\u001b[39m10\u001b[39;49m, \u001b[39m8\u001b[39;49m, \u001b[39m5\u001b[39;49m],\n\u001b[0;32m      7\u001b[0m     slowk_period\u001b[39m=\u001b[39;49m[\u001b[39m15\u001b[39;49m,\u001b[39m9\u001b[39;49m],\n\u001b[0;32m      8\u001b[0m     slowk_matype\u001b[39m=\u001b[39;49m[\u001b[39m6\u001b[39;49m,\u001b[39m3\u001b[39;49m,\u001b[39m7\u001b[39;49m],\n\u001b[0;32m      9\u001b[0m )\n",
            "File \u001b[1;32me:\\coding\\backtesters\\quantfreedom\\quantfreedom\\indicators\\talib_ind.py:202\u001b[0m, in \u001b[0;36mfrom_talib\u001b[1;34m(func_name, price_data, indicator_data, all_possible_combos, column_wise_combos, plot_results, plot_on_data, **kwargs)\u001b[0m\n\u001b[0;32m    199\u001b[0m     param_dict \u001b[39m=\u001b[39m ()\n\u001b[0;32m    201\u001b[0m \u001b[39mif\u001b[39;00m biggest \u001b[39m==\u001b[39m \u001b[39m1\u001b[39m \u001b[39mand\u001b[39;00m (column_wise_combos \u001b[39mor\u001b[39;00m all_possible_combos):\n\u001b[1;32m--> 202\u001b[0m     \u001b[39mraise\u001b[39;00m \u001b[39mValueError\u001b[39;00m(\n\u001b[0;32m    203\u001b[0m         \u001b[39mf\u001b[39m\u001b[39m\"\u001b[39m\u001b[39mYou have to have a list for paramaters for \u001b[39m\u001b[39m{\u001b[39;00mind_params\u001b[39m}\u001b[39;00m\u001b[39m to use cart product or column_wise_combos\u001b[39m\u001b[39m\"\u001b[39m\n\u001b[0;32m    204\u001b[0m     )\n\u001b[0;32m    206\u001b[0m \u001b[39melif\u001b[39;00m column_wise_combos:\n\u001b[0;32m    207\u001b[0m     final_user_args \u001b[39m=\u001b[39m []\n",
            "\u001b[1;31mValueError\u001b[0m: You have to have a list for paramaters for ['fastk_period', 'slowk_period', 'slowk_matype', 'slowd_period', 'slowd_matype'] to use cart product or column_wise_combos"
          ]
        }
      ],
      "source": [
        "from_talib(\n",
        "    func_name='stoch',\n",
        "    price_data=prices,\n",
        "    all_possible_combos=True,\n",
        "    column_wise_combos=False,\n",
        "    fastk_period=[1,10, 8, 5],\n",
        "    slowk_period=[15,9],\n",
        "    slowk_matype=[6,3,7],\n",
        ")"
      ]
    },
    {
      "cell_type": "code",
      "execution_count": null,
      "metadata": {},
      "outputs": [],
      "source": [
        "from_talib(\n",
        "    func_name='stoch',\n",
        "    price_data=prices,\n",
        "    all_possible_combos=False,\n",
        "    column_wise_combos=True,\n",
        "    fastk_period=[1,10],\n",
        "    slowk_period=[15,9],\n",
        "    slowk_matype=[6,3],\n",
        ")"
      ]
    },
    {
      "cell_type": "code",
      "execution_count": null,
      "metadata": {},
      "outputs": [],
      "source": [
        "talib_ind_info('atr')"
      ]
    }
  ],
  "metadata": {
    "kernelspec": {
      "display_name": "qfFree",
      "language": "python",
      "name": "python3"
    },
    "language_info": {
      "codemirror_mode": {
        "name": "ipython",
        "version": 3
      },
      "file_extension": ".py",
      "mimetype": "text/x-python",
      "name": "python",
      "nbconvert_exporter": "python",
      "pygments_lexer": "ipython3",
      "version": "3.10.10"
    },
    "orig_nbformat": 4
  },
  "nbformat": 4,
  "nbformat_minor": 2
}
