{
  "cells": [
    {
      "cell_type": "code",
      "execution_count": 15,
      "metadata": {},
      "outputs": [
        {
          "name": "stdout",
          "output_type": "stream",
          "text": [
            "The autoreload extension is already loaded. To reload it, use:\n",
            "  %reload_ext autoreload\n"
          ]
        }
      ],
      "source": [
        "import quantfreedom as qf\n",
        "import pandas as pd\n",
        "from quantfreedom.indicators.talib_ind import *\n",
        "\n",
        "%load_ext autoreload\n",
        "%autoreload 2\n",
        "\n",
        "prices = pd.read_hdf('../data/prices.hd5')"
      ]
    },
    {
      "cell_type": "code",
      "execution_count": 16,
      "metadata": {},
      "outputs": [],
      "source": [
        "# talib_list_of_indicators()"
      ]
    },
    {
      "cell_type": "code",
      "execution_count": 17,
      "metadata": {},
      "outputs": [],
      "source": [
        "# talib_func_list_website_link()"
      ]
    },
    {
      "cell_type": "code",
      "execution_count": 18,
      "metadata": {},
      "outputs": [
        {
          "data": {
            "text/plain": [
              "{'name': 'BBANDS',\n",
              " 'group': 'Overlap Studies',\n",
              " 'display_name': 'Bollinger Bands',\n",
              " 'function_flags': ['Output scale same as input'],\n",
              " 'input_names': OrderedDict([('price', 'close')]),\n",
              " 'parameters': OrderedDict([('timeperiod', 5),\n",
              "              ('nbdevup', 2),\n",
              "              ('nbdevdn', 2),\n",
              "              ('matype', 0)]),\n",
              " 'output_flags': OrderedDict([('upperband',\n",
              "               ['Values represent an upper limit']),\n",
              "              ('middleband', ['Line']),\n",
              "              ('lowerband', ['Values represent a lower limit'])]),\n",
              " 'output_names': ['upperband', 'middleband', 'lowerband']}"
            ]
          },
          "execution_count": 18,
          "metadata": {},
          "output_type": "execute_result"
        }
      ],
      "source": [
        "talib_ind_info('bbands')"
      ]
    },
    {
      "cell_type": "code",
      "execution_count": 19,
      "metadata": {},
      "outputs": [
        {
          "data": {
            "text/plain": [
              "{'name': 'STOCH',\n",
              " 'group': 'Momentum Indicators',\n",
              " 'display_name': 'Stochastic',\n",
              " 'function_flags': None,\n",
              " 'input_names': OrderedDict([('prices', ['high', 'low', 'close'])]),\n",
              " 'parameters': OrderedDict([('fastk_period', 5),\n",
              "              ('slowk_period', 3),\n",
              "              ('slowk_matype', 0),\n",
              "              ('slowd_period', 3),\n",
              "              ('slowd_matype', 0)]),\n",
              " 'output_flags': OrderedDict([('slowk', ['Dashed Line']),\n",
              "              ('slowd', ['Dashed Line'])]),\n",
              " 'output_names': ['slowk', 'slowd']}"
            ]
          },
          "execution_count": 19,
          "metadata": {},
          "output_type": "execute_result"
        }
      ],
      "source": [
        "talib_ind_info('stoch')"
      ]
    },
    {
      "cell_type": "code",
      "execution_count": 20,
      "metadata": {},
      "outputs": [
        {
          "data": {
            "text/plain": [
              "{'name': 'RSI',\n",
              " 'group': 'Momentum Indicators',\n",
              " 'display_name': 'Relative Strength Index',\n",
              " 'function_flags': ['Function has an unstable period'],\n",
              " 'input_names': OrderedDict([('price', 'close')]),\n",
              " 'parameters': OrderedDict([('timeperiod', 14)]),\n",
              " 'output_flags': OrderedDict([('real', ['Line'])]),\n",
              " 'output_names': ['real']}"
            ]
          },
          "execution_count": 20,
          "metadata": {},
          "output_type": "execute_result"
        }
      ],
      "source": [
        "talib_ind_info('rsi')"
      ]
    },
    {
      "cell_type": "code",
      "execution_count": 21,
      "metadata": {},
      "outputs": [],
      "source": [
        "rsi = from_talib(\n",
        "    func_name='rsi',\n",
        "    price_data=prices,\n",
        "    input_names = ['open'],\n",
        "    parameters = {'timeperiod': [15, 20, 25, 30]}\n",
        ")"
      ]
    },
    {
      "cell_type": "code",
      "execution_count": 26,
      "metadata": {},
      "outputs": [],
      "source": [
        "from_talib(\n",
        "    func_name='ema',\n",
        "    indicator_data=rsi.data,\n",
        "    parameters = {'timeperiod': [50, 70, 90]}\n",
        ")"
      ]
    },
    {
      "cell_type": "code",
      "execution_count": null,
      "metadata": {},
      "outputs": [],
      "source": [
        "from_talib(\n",
        "    func_name='stoch',\n",
        "    price_data=prices,\n",
        "    column_wise_combos = False,\n",
        "    input_names = [['open', 'close', 'high'], ['open', 'high', 'low']],\n",
        "    parameters=dict(\n",
        "        fastk_period=[1, 10, 8, 5],\n",
        "        slowk_period=[15, 9, 10, 5],\n",
        "        slowk_matype=[6, 3, 7, 5]\n",
        "    )\n",
        ").data"
      ]
    },
    {
      "cell_type": "code",
      "execution_count": null,
      "metadata": {},
      "outputs": [],
      "source": [
        "from_talib(\n",
        "    func_name='stoch',\n",
        "    price_data=prices,\n",
        "    all_possible_combos=False,\n",
        "    column_wise_combos=True,\n",
        "    fastk_period=[1,10],\n",
        "    slowk_period=[15,9],\n",
        "    slowk_matype=[6,3],\n",
        ")"
      ]
    },
    {
      "cell_type": "code",
      "execution_count": null,
      "metadata": {},
      "outputs": [],
      "source": [
        "talib_ind_info('atr')"
      ]
    }
  ],
  "metadata": {
    "kernelspec": {
      "display_name": "qfFree",
      "language": "python",
      "name": "python3"
    },
    "language_info": {
      "codemirror_mode": {
        "name": "ipython",
        "version": 3
      },
      "file_extension": ".py",
      "mimetype": "text/x-python",
      "name": "python",
      "nbconvert_exporter": "python",
      "pygments_lexer": "ipython3",
      "version": "3.11.3"
    },
    "orig_nbformat": 4
  },
  "nbformat": 4,
  "nbformat_minor": 2
}
