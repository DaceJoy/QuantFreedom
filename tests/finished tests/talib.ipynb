{
  "cells": [
    {
      "cell_type": "code",
      "execution_count": null,
      "metadata": {},
      "outputs": [],
      "source": [
        "import quantfreedom as qf\n",
        "import pandas as pd\n",
        "from quantfreedom.indicators.talib_ind import *\n",
        "prices = pd.read_hdf('../data/prices.hd5')"
      ]
    },
    {
      "cell_type": "code",
      "execution_count": null,
      "metadata": {},
      "outputs": [],
      "source": [
        "# talib_list_of_indicators()"
      ]
    },
    {
      "cell_type": "code",
      "execution_count": null,
      "metadata": {},
      "outputs": [],
      "source": [
        "# talib_func_list_website_link()"
      ]
    },
    {
      "cell_type": "code",
      "execution_count": null,
      "metadata": {},
      "outputs": [],
      "source": [
        "talib_ind_info('bbands')"
      ]
    },
    {
      "cell_type": "code",
      "execution_count": null,
      "metadata": {},
      "outputs": [],
      "source": [
        "talib_ind_info('stoch')"
      ]
    },
    {
      "cell_type": "code",
      "execution_count": null,
      "metadata": {},
      "outputs": [],
      "source": [
        "from_talib(\n",
        "    func_name='rsi',\n",
        "    df_prices=prices,\n",
        "    cart_product=False,\n",
        "    combos=False,\n",
        "    timeperiod=[15,20,25,30],\n",
        "    # price='open',\n",
        ")"
      ]
    },
    {
      "cell_type": "code",
      "execution_count": null,
      "metadata": {},
      "outputs": [],
      "source": [
        "from_talib(\n",
        "    func_name='stoch',\n",
        "    df_prices=prices,\n",
        "    cart_product=True,\n",
        "    combos=False,\n",
        "    fastk_period=[1,10, 8, 5],\n",
        "    slowk_period=[15,9],\n",
        "    slowk_matype=[6,3,7],\n",
        ")['slowk']"
      ]
    },
    {
      "cell_type": "code",
      "execution_count": null,
      "metadata": {},
      "outputs": [],
      "source": [
        "talib_ind_info('atr')"
      ]
    }
  ],
  "metadata": {
    "kernelspec": {
      "display_name": "qfFree",
      "language": "python",
      "name": "python3"
    },
    "language_info": {
      "codemirror_mode": {
        "name": "ipython",
        "version": 3
      },
      "file_extension": ".py",
      "mimetype": "text/x-python",
      "name": "python",
      "nbconvert_exporter": "python",
      "pygments_lexer": "ipython3",
      "version": "3.10.10"
    },
    "orig_nbformat": 4
  },
  "nbformat": 4,
  "nbformat_minor": 2
}
