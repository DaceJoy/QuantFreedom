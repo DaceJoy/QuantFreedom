{
  "cells": [
    {
      "cell_type": "code",
      "execution_count": 4,
      "metadata": {},
      "outputs": [
        {
          "name": "stdout",
          "output_type": "stream",
          "text": [
            "The autoreload extension is already loaded. To reload it, use:\n",
            "  %reload_ext autoreload\n"
          ]
        }
      ],
      "source": [
        "import quantfreedom as qf\n",
        "import pandas as pd\n",
        "from quantfreedom.indicators.talib_ind_qf import *\n",
        "\n",
        "%load_ext autoreload\n",
        "%autoreload 2\n",
        "\n",
        "prices = pd.read_hdf('../data/prices.hd5')"
      ]
    },
    {
      "cell_type": "code",
      "execution_count": null,
      "metadata": {},
      "outputs": [],
      "source": [
        "# talib_list_of_indicators()"
      ]
    },
    {
      "cell_type": "code",
      "execution_count": null,
      "metadata": {},
      "outputs": [],
      "source": [
        "# talib_func_list_website_link()"
      ]
    },
    {
      "cell_type": "code",
      "execution_count": null,
      "metadata": {},
      "outputs": [],
      "source": [
        "talib_ind_info('bbands')"
      ]
    },
    {
      "cell_type": "code",
      "execution_count": null,
      "metadata": {},
      "outputs": [],
      "source": [
        "talib_ind_info('stoch')"
      ]
    },
    {
      "cell_type": "code",
      "execution_count": null,
      "metadata": {},
      "outputs": [],
      "source": [
        "talib_ind_info('rsi')"
      ]
    },
    {
      "cell_type": "code",
      "execution_count": null,
      "metadata": {},
      "outputs": [],
      "source": [
        "rsi_ind = from_talib(\n",
        "    func_name='rsi',\n",
        "    price_data=prices,\n",
        "    input_names = ['open'],\n",
        "    parameters = {'timeperiod': [15, 20, 25, 30]}\n",
        ")"
      ]
    },
    {
      "cell_type": "code",
      "execution_count": 5,
      "metadata": {},
      "outputs": [
        {
          "ename": "NameError",
          "evalue": "name 'rsi_ind' is not defined",
          "output_type": "error",
          "traceback": [
            "\u001b[1;31m---------------------------------------------------------------------------\u001b[0m",
            "\u001b[1;31mNameError\u001b[0m                                 Traceback (most recent call last)",
            "Cell \u001b[1;32mIn[5], line 3\u001b[0m\n\u001b[0;32m      1\u001b[0m from_talib(\n\u001b[0;32m      2\u001b[0m     func_name\u001b[39m=\u001b[39m\u001b[39m'\u001b[39m\u001b[39mrsi\u001b[39m\u001b[39m'\u001b[39m,\n\u001b[1;32m----> 3\u001b[0m     indicator_data\u001b[39m=\u001b[39mrsi_ind\u001b[39m.\u001b[39mdata,\n\u001b[0;32m      4\u001b[0m     parameters \u001b[39m=\u001b[39m {\u001b[39m'\u001b[39m\u001b[39mtimeperiod\u001b[39m\u001b[39m'\u001b[39m: [\u001b[39m50\u001b[39m, \u001b[39m70\u001b[39m, \u001b[39m90\u001b[39m]}\n\u001b[0;32m      5\u001b[0m )\n",
            "\u001b[1;31mNameError\u001b[0m: name 'rsi_ind' is not defined"
          ]
        }
      ],
      "source": [
        "from_talib(\n",
        "    func_name='rsi',\n",
        "    indicator_data=rsi_ind.data,\n",
        "    parameters = {'timeperiod': [50, 70, 90]}\n",
        ")"
      ]
    },
    {
      "cell_type": "code",
      "execution_count": null,
      "metadata": {},
      "outputs": [],
      "source": [
        "from_talib(\n",
        "    func_name='stoch',\n",
        "    price_data=prices,\n",
        "    column_wise_combos = False,\n",
        "    input_names = [['open', 'close', 'high'], ['open', 'high', 'low']],\n",
        "    parameters=dict(\n",
        "        fastk_period=[1, 10, 8, 5],\n",
        "        slowk_period=[15, 9, 10, 5],\n",
        "        slowk_matype=[6, 3, 7, 5]\n",
        "    )\n",
        ").data"
      ]
    },
    {
      "cell_type": "code",
      "execution_count": null,
      "metadata": {},
      "outputs": [],
      "source": [
        "from_talib(\n",
        "    func_name='stoch',\n",
        "    price_data=prices,\n",
        "    all_possible_combos=False,\n",
        "    column_wise_combos=True,\n",
        "    fastk_period=[1,10],\n",
        "    slowk_period=[15,9],\n",
        "    slowk_matype=[6,3],\n",
        ")"
      ]
    },
    {
      "cell_type": "code",
      "execution_count": null,
      "metadata": {},
      "outputs": [],
      "source": [
        "talib_ind_info('atr')"
      ]
    }
  ],
  "metadata": {
    "kernelspec": {
      "display_name": "qfFree",
      "language": "python",
      "name": "python3"
    },
    "language_info": {
      "codemirror_mode": {
        "name": "ipython",
        "version": 3
      },
      "file_extension": ".py",
      "mimetype": "text/x-python",
      "name": "python",
      "nbconvert_exporter": "python",
      "pygments_lexer": "ipython3",
      "version": "3.10.10"
    },
    "orig_nbformat": 4
  },
  "nbformat": 4,
  "nbformat_minor": 2
}
