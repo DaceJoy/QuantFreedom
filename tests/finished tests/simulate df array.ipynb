{
  "cells": [
    {
      "cell_type": "code",
      "execution_count": null,
      "metadata": {},
      "outputs": [],
      "source": [
        "import os\n",
        "import sys\n",
        "\n",
        "sys.dont_write_bytecode = True\n",
        "os.environ[\"NUMBA_DISABLE_JIT\"] = \"1\"\n",
        "\n",
        "import pandas as pd\n",
        "import numpy as np\n",
        "from quantfreedom.nb.simulate import backtest_df_array_only\n",
        "from quantfreedom.base.base import rsi_below_entries\n",
        "from quantfreedom.enums.enums import (\n",
        "    LeverageMode,\n",
        "    SizeType,\n",
        "    OrderType,\n",
        "    SL_BE_or_Trail_BasedOn,\n",
        ")\n",
        "from quantfreedom.utils.caching import clear_cache\n",
        "\n",
        "pd.options.display.float_format = \"{:,.2f}\".format\n",
        "\n",
        "prices = pd.read_csv(\n",
        "    \"E:/Coding/backtesters/QuantFreedom/tests/data/30min.csv\", index_col=\"time\"\n",
        ")\n",
        "entries = rsi_below_entries(\n",
        "    timeperiods=[20, 30], below_ranges=[40], prices=prices.close\n",
        ")"
      ]
    },
    {
      "cell_type": "code",
      "execution_count": null,
      "metadata": {},
      "outputs": [],
      "source": [
        "strat_array = backtest_df_array_only(\n",
        "    open_prices=prices.open.values,\n",
        "    high_prices=prices.high.values,\n",
        "    low_prices=prices.low.values,\n",
        "    close_prices=prices.close.values,\n",
        "    entries=entries.values,\n",
        "    equity=1000.,\n",
        "    fee_pct=.06,\n",
        "    mmr=.5,\n",
        "    lev_mode=LeverageMode.LeastFreeCashUsed,\n",
        "    size_type=SizeType.RiskPercentOfAccount,\n",
        "    order_type=OrderType.LongEntry,\n",
        "    max_equity_risk_pct=np.arange(1,7,1),\n",
        "    risk_rewards=np.arange(1,11.1,.25),\n",
        "    size_pct=1.,\n",
        "    gains_pct_filter=1000,\n",
        "    # sl_pcts=np.arange(1,6,1),\n",
        "    tsl_true_or_false=True,\n",
        "    tsl_pcts_init=np.arange(1,11.1,.25),\n",
        "    tsl_based_on=SL_BE_or_Trail_BasedOn.low_price,\n",
        "    tsl_trail_by_pct=np.arange(1,11,.25),\n",
        "    tsl_when_pct_from_avg_entry=np.arange(1,11,.5),\n",
        ")\n",
        "pd.DataFrame(strat_array).sort_values(by='gains_pct', ascending=False)\n"
      ]
    },
    {
      "cell_type": "code",
      "execution_count": null,
      "metadata": {},
      "outputs": [],
      "source": [
        "clear_cache()"
      ]
    }
  ],
  "metadata": {
    "kernelspec": {
      "display_name": "qfFree",
      "language": "python",
      "name": "python3"
    },
    "language_info": {
      "codemirror_mode": {
        "name": "ipython",
        "version": 3
      },
      "file_extension": ".py",
      "mimetype": "text/x-python",
      "name": "python",
      "nbconvert_exporter": "python",
      "pygments_lexer": "ipython3",
      "version": "3.10.10"
    },
    "orig_nbformat": 4
  },
  "nbformat": 4,
  "nbformat_minor": 2
}
