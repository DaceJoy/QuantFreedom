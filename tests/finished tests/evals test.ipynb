{
  "cells": [
    {
      "cell_type": "code",
      "execution_count": 3,
      "metadata": {},
      "outputs": [],
      "source": [
        "import pandas as pd\n",
        "import numpy as np\n",
        "from quantfreedom.utils import clear_cache\n",
        "from quantfreedom.indicators.talib_ind import from_talib\n",
        "from quantfreedom.evaluators.evaluators import eval_is_below, eval_is_above, combine_evals\n",
        "prices = pd.read_csv(\n",
        "    'E:/Coding/backtesters/QuantFreedom/tests/data/30min.csv', index_col='time')\n"
      ]
    },
    {
      "cell_type": "code",
      "execution_count": 5,
      "metadata": {},
      "outputs": [
        {
          "data": {
            "text/plain": [
              "array([[        nan],\n",
              "       [        nan],\n",
              "       [        nan],\n",
              "       ...,\n",
              "       [49.68465629],\n",
              "       [45.8344885 ],\n",
              "       [49.72414488]])"
            ]
          },
          "execution_count": 5,
          "metadata": {},
          "output_type": "execute_result"
        }
      ],
      "source": [
        "rsi_ind = from_talib(\n",
        "    func_name='rsi',\n",
        "    df_prices=prices,\n",
        "    cart_product=False,\n",
        "    combos=False,\n",
        "    timeperiod=15,\n",
        ")\n",
        "rsi_ind.values"
      ]
    },
    {
      "cell_type": "code",
      "execution_count": null,
      "metadata": {},
      "outputs": [],
      "source": [
        "rsi_eval = eval_is_below(\n",
        "    rsi_ind,\n",
        "    np.arange(30, 51, 10),\n",
        ")\n"
      ]
    },
    {
      "cell_type": "code",
      "execution_count": null,
      "metadata": {},
      "outputs": [],
      "source": [
        "ema_ind = from_talib(\n",
        "    func_name='ema',\n",
        "    df_prices=prices,\n",
        "    cart_product=False,\n",
        "    combos=False,\n",
        "    timeperiod=[200, 400, 600]\n",
        ")"
      ]
    },
    {
      "cell_type": "code",
      "execution_count": null,
      "metadata": {},
      "outputs": [],
      "source": [
        "ema_eval = eval_is_above(\n",
        "    ind_data=ema_ind,\n",
        "    df_prices=prices,\n",
        "    cand_ohlc='close',\n",
        ")"
      ]
    },
    {
      "cell_type": "code",
      "execution_count": null,
      "metadata": {},
      "outputs": [],
      "source": [
        "combine_evals(\n",
        "    bigger_df=rsi_eval,\n",
        "    smaller_df=ema_eval,\n",
        ")"
      ]
    }
  ],
  "metadata": {
    "kernelspec": {
      "display_name": "qfFree",
      "language": "python",
      "name": "python3"
    },
    "language_info": {
      "codemirror_mode": {
        "name": "ipython",
        "version": 3
      },
      "file_extension": ".py",
      "mimetype": "text/x-python",
      "name": "python",
      "nbconvert_exporter": "python",
      "pygments_lexer": "ipython3",
      "version": "3.10.10"
    },
    "orig_nbformat": 4
  },
  "nbformat": 4,
  "nbformat_minor": 2
}
