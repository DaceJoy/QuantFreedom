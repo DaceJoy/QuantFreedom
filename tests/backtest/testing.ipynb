{
 "cells": [
  {
   "cell_type": "code",
   "execution_count": 6,
   "metadata": {},
   "outputs": [
    {
     "name": "stdout",
     "output_type": "stream",
     "text": [
      "The autoreload extension is already loaded. To reload it, use:\n",
      "  %reload_ext autoreload\n"
     ]
    }
   ],
   "source": [
    "from multiprocessing import cpu_count\n",
    "import pandas as pd\n",
    "from quantfreedom.helper_funcs import dl_ex_candles\n",
    "%load_ext autoreload\n",
    "%autoreload 2"
   ]
  },
  {
   "cell_type": "code",
   "execution_count": 7,
   "metadata": {},
   "outputs": [
    {
     "data": {
      "text/plain": [
       "32"
      ]
     },
     "execution_count": 7,
     "metadata": {},
     "output_type": "execute_result"
    }
   ],
   "source": [
    "cpu_count()"
   ]
  },
  {
   "cell_type": "code",
   "execution_count": null,
   "metadata": {},
   "outputs": [],
   "source": [
    "%run -i run_backtest.py 32\n",
    "pd.read_hdf(\"backtest_results.h5\")"
   ]
  },
  {
   "cell_type": "code",
   "execution_count": null,
   "metadata": {},
   "outputs": [],
   "source": [
    "candles = dl_ex_candles(\n",
    "    exchange=\"mufex\",\n",
    "    symbol=\"BTCUSDT\",\n",
    "    timeframe=\"5m\",\n",
    "    candles_to_dl=3000,\n",
    ")"
   ]
  },
  {
   "cell_type": "code",
   "execution_count": null,
   "metadata": {},
   "outputs": [],
   "source": [
    "from quantfreedom.backtest import or_backtest\n",
    "from strat import long_strat, backtest_settings_tuple, exchange_settings_tuple, static_os_tuple, dos_tuple\n",
    "\n",
    "order_records_df = or_backtest(\n",
    "    backtest_settings_tuple=backtest_settings_tuple,\n",
    "    candles=candles,\n",
    "    dos_tuple=dos_tuple,\n",
    "    exchange_settings_tuple=exchange_settings_tuple,\n",
    "    static_os_tuple=static_os_tuple,\n",
    "    strategy=long_strat,\n",
    "    set_idx=3,\n",
    "    plot_results=True,\n",
    "    logger_bool=True,\n",
    ")"
   ]
  }
 ],
 "metadata": {
  "kernelspec": {
   "display_name": "qfree",
   "language": "python",
   "name": "python3"
  },
  "language_info": {
   "codemirror_mode": {
    "name": "ipython",
    "version": 3
   },
   "file_extension": ".py",
   "mimetype": "text/x-python",
   "name": "python",
   "nbconvert_exporter": "python",
   "pygments_lexer": "ipython3",
   "version": "3.10.10"
  }
 },
 "nbformat": 4,
 "nbformat_minor": 2
}
