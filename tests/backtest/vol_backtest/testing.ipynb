{
 "cells": [
  {
   "cell_type": "code",
   "execution_count": null,
   "metadata": {},
   "outputs": [],
   "source": [
    "import sys, os\n",
    "from my_keys import MufexKeys\n",
    "from multiprocessing import cpu_count\n",
    "import pandas as pd\n",
    "import numpy as np\n",
    "from quantfreedom.helpers.helper_funcs import dl_ex_candles\n",
    "from quantfreedom.core.backtest import or_backtest\n",
    "from datetime import datetime\n",
    "from time import gmtime, strftime\n",
    "\n",
    "from vol_strat import exchange_settings_tuple, static_os_tuple, long_strat\n",
    "\n",
    "%load_ext autoreload\n",
    "%autoreload 2"
   ]
  },
  {
   "cell_type": "code",
   "execution_count": null,
   "metadata": {},
   "outputs": [],
   "source": [
    "%run -i long_backtest.py"
   ]
  },
  {
   "cell_type": "code",
   "execution_count": null,
   "metadata": {},
   "outputs": [],
   "source": [
    "pd.read_hdf('backtest_results.h5').sort_values('qf_score', ascending=False).head(15)"
   ]
  },
  {
   "cell_type": "code",
   "execution_count": null,
   "metadata": {},
   "outputs": [],
   "source": [
    "import pickle\n",
    "\n",
    "\n",
    "with open(\"thing.pkl\", \"rb\") as f:\n",
    "    candles = pickle.load(f)\n",
    "\n",
    "\n",
    "\n",
    "backtest_results = or_backtest(\n",
    "    candles=candles,\n",
    "    exchange_settings_tuple=exchange_settings_tuple,\n",
    "    static_os_tuple=static_os_tuple,\n",
    "    strategy=long_strat,\n",
    "    set_idx=0,\n",
    "    disable_logger=False,\n",
    "    plot_results=True,\n",
    ")"
   ]
  },
  {
   "cell_type": "code",
   "execution_count": null,
   "metadata": {},
   "outputs": [],
   "source": [
    "backtest_results"
   ]
  }
 ],
 "metadata": {
  "kernelspec": {
   "display_name": "qfree",
   "language": "python",
   "name": "python3"
  },
  "language_info": {
   "codemirror_mode": {
    "name": "ipython",
    "version": 3
   },
   "file_extension": ".py",
   "mimetype": "text/x-python",
   "name": "python",
   "nbconvert_exporter": "python",
   "pygments_lexer": "ipython3",
   "version": "3.10.10"
  }
 },
 "nbformat": 4,
 "nbformat_minor": 2
}
