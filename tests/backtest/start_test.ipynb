{
 "cells": [
  {
   "cell_type": "code",
   "execution_count": 2,
   "metadata": {},
   "outputs": [],
   "source": [
    "import pandas as pd\n",
    "import numpy as np\n",
    "from quantfreedom import dl_ex_candles, all_backtest_stats\n",
    "from quantfreedom.backtesters.bt_regular import or_backtest\n",
    "from datetime import datetime\n",
    "from quantfreedom.core.enums import FootprintCandlesTuple\n",
    "from strat import long_strat, exchange_settings_tuple, static_os_tuple\n",
    "import pickle"
   ]
  },
  {
   "cell_type": "code",
   "execution_count": 9,
   "metadata": {},
   "outputs": [
    {
     "data": {
      "text/plain": [
       "array([1, 2, 3, 4, 5])"
      ]
     },
     "execution_count": 9,
     "metadata": {},
     "output_type": "execute_result"
    }
   ],
   "source": [
    "thing = np.array([1, 2, 3, 4, 5]) \n",
    "thing[:5]"
   ]
  },
  {
   "cell_type": "code",
   "execution_count": null,
   "metadata": {},
   "outputs": [],
   "source": [
    "candles = dl_ex_candles(\n",
    "    exchange=\"mufex\",\n",
    "    symbol=\"BTCUSDT\",\n",
    "    timeframe=\"5m\",\n",
    "    since_datetime=datetime(2023, 9, 1),\n",
    "    until_datetime=datetime(2023, 11, 1),\n",
    ")\n",
    "with open(\"candles.pkl\", \"wb\") as f:\n",
    "    pickle.dump(candles, f)"
   ]
  },
  {
   "cell_type": "code",
   "execution_count": null,
   "metadata": {},
   "outputs": [],
   "source": [
    "with open(\"candles.pkl\", \"rb\") as f:\n",
    "    candles: FootprintCandlesTuple = pickle.load(f)"
   ]
  },
  {
   "cell_type": "code",
   "execution_count": 5,
   "metadata": {},
   "outputs": [
    {
     "name": "stdout",
     "output_type": "stream",
     "text": [
      "Starting the backtest now ... and also here are some stats for your backtest.\n",
      "\n",
      "Total threads to use: 1\n",
      "Total indicator settings to test: 36\n",
      "Total order settings to test: 960\n",
      "Total settings combinations to test: 34,560\n",
      "Total settings combination to test after filtering: 26,880\n",
      "Total settings combination chunks to process at the same time: 26,880\n",
      "\n",
      "Total candles: 17,568\n",
      "Total candles to test: 472,227,840\n",
      "Total candle chunks to be processed at the same time: 472,227,840\n",
      "Total candle chunks with step by: 472,227,840\n",
      "\n",
      "New Total Settings: 2\n",
      "New total chunks with step by: 35,136\n"
     ]
    }
   ],
   "source": [
    "all_backtest_stats(\n",
    "    step_by=1,\n",
    "    strategy=long_strat,\n",
    "    threads=1,\n",
    "    total_bars=candles.candle_asset_volumes.size,\n",
    "    num_chunk_bts=20000\n",
    ")"
   ]
  },
  {
   "cell_type": "code",
   "execution_count": 10,
   "metadata": {},
   "outputs": [
    {
     "name": "stdout",
     "output_type": "stream",
     "text": [
      "loading candles\n",
      "Starting the backtest now ... and also here are some stats for your backtest.\n",
      "\n",
      "Total threads to use: 1\n",
      "Total indicator settings to test: 36\n",
      "Total order settings to test: 960\n",
      "Total settings combinations to test: 34,560\n",
      "Total settings combination to test after filtering: 26,880\n",
      "Total settings combination chunks to process at the same time: 26,880\n",
      "\n",
      "Total candles: 17,568\n",
      "Total candles to test: 472,227,840\n",
      "Total candle chunks to be processed at the same time: 472,227,840\n",
      "Total chunks with step by: 472,227,840\n",
      "\n",
      "New Total Settings: 2\n",
      "New total chunks with step by: 35,136\n",
      "\n",
      "looping through results\n",
      "creating datafram\n",
      "\n",
      "Backtest results done now saving to hdf5\n",
      "\n",
      "It took 00 mins and 05 seconds to complete the backtest\n"
     ]
    },
    {
     "data": {
      "text/html": [
       "<div>\n",
       "<style scoped>\n",
       "    .dataframe tbody tr th:only-of-type {\n",
       "        vertical-align: middle;\n",
       "    }\n",
       "\n",
       "    .dataframe tbody tr th {\n",
       "        vertical-align: top;\n",
       "    }\n",
       "\n",
       "    .dataframe thead th {\n",
       "        text-align: right;\n",
       "    }\n",
       "</style>\n",
       "<table border=\"1\" class=\"dataframe\">\n",
       "  <thead>\n",
       "    <tr style=\"text-align: right;\">\n",
       "      <th></th>\n",
       "      <th>total_trades</th>\n",
       "      <th>wins</th>\n",
       "      <th>losses</th>\n",
       "      <th>gains_pct</th>\n",
       "      <th>win_rate</th>\n",
       "      <th>qf_score</th>\n",
       "      <th>fees_paid</th>\n",
       "      <th>total_pnl</th>\n",
       "      <th>ending_eq</th>\n",
       "      <th>account_pct_risk_per_trade</th>\n",
       "      <th>...</th>\n",
       "      <th>trail_sl_bcb_type</th>\n",
       "      <th>trail_sl_by_pct</th>\n",
       "      <th>trail_sl_when_pct</th>\n",
       "      <th>rsi_length</th>\n",
       "      <th>above_rsi_cur</th>\n",
       "      <th>above_rsi_p</th>\n",
       "      <th>above_rsi_pp</th>\n",
       "      <th>below_rsi_cur</th>\n",
       "      <th>below_rsi_p</th>\n",
       "      <th>below_rsi_pp</th>\n",
       "    </tr>\n",
       "    <tr>\n",
       "      <th>settings_index</th>\n",
       "      <th></th>\n",
       "      <th></th>\n",
       "      <th></th>\n",
       "      <th></th>\n",
       "      <th></th>\n",
       "      <th></th>\n",
       "      <th></th>\n",
       "      <th></th>\n",
       "      <th></th>\n",
       "      <th></th>\n",
       "      <th></th>\n",
       "      <th></th>\n",
       "      <th></th>\n",
       "      <th></th>\n",
       "      <th></th>\n",
       "      <th></th>\n",
       "      <th></th>\n",
       "      <th></th>\n",
       "      <th></th>\n",
       "      <th></th>\n",
       "      <th></th>\n",
       "    </tr>\n",
       "  </thead>\n",
       "  <tbody>\n",
       "    <tr>\n",
       "      <th>23347.0</th>\n",
       "      <td>15.0</td>\n",
       "      <td>0.0</td>\n",
       "      <td>15.0</td>\n",
       "      <td>-53.089</td>\n",
       "      <td>0.000</td>\n",
       "      <td>-0.991</td>\n",
       "      <td>179.216</td>\n",
       "      <td>-530.887</td>\n",
       "      <td>469.113</td>\n",
       "      <td>5.0</td>\n",
       "      <td>...</td>\n",
       "      <td>Low</td>\n",
       "      <td>0.5</td>\n",
       "      <td>2.0</td>\n",
       "      <td>25.0</td>\n",
       "      <td>0.0</td>\n",
       "      <td>0.0</td>\n",
       "      <td>0.0</td>\n",
       "      <td>40.0</td>\n",
       "      <td>40.0</td>\n",
       "      <td>30.0</td>\n",
       "    </tr>\n",
       "    <tr>\n",
       "      <th>2678.0</th>\n",
       "      <td>28.0</td>\n",
       "      <td>1.0</td>\n",
       "      <td>27.0</td>\n",
       "      <td>-70.511</td>\n",
       "      <td>3.571</td>\n",
       "      <td>-0.973</td>\n",
       "      <td>760.206</td>\n",
       "      <td>-705.108</td>\n",
       "      <td>294.892</td>\n",
       "      <td>5.0</td>\n",
       "      <td>...</td>\n",
       "      <td>Low</td>\n",
       "      <td>0.5</td>\n",
       "      <td>1.0</td>\n",
       "      <td>15.0</td>\n",
       "      <td>0.0</td>\n",
       "      <td>0.0</td>\n",
       "      <td>0.0</td>\n",
       "      <td>30.0</td>\n",
       "      <td>25.0</td>\n",
       "      <td>40.0</td>\n",
       "    </tr>\n",
       "  </tbody>\n",
       "</table>\n",
       "<p>2 rows × 27 columns</p>\n",
       "</div>"
      ],
      "text/plain": [
       "                total_trades  wins  losses  gains_pct  win_rate  qf_score  \\\n",
       "settings_index                                                              \n",
       "23347.0                 15.0   0.0    15.0    -53.089     0.000    -0.991   \n",
       "2678.0                  28.0   1.0    27.0    -70.511     3.571    -0.973   \n",
       "\n",
       "                fees_paid  total_pnl  ending_eq  account_pct_risk_per_trade  \\\n",
       "settings_index                                                                \n",
       "23347.0           179.216   -530.887    469.113                         5.0   \n",
       "2678.0            760.206   -705.108    294.892                         5.0   \n",
       "\n",
       "                ...  trail_sl_bcb_type  trail_sl_by_pct  trail_sl_when_pct  \\\n",
       "settings_index  ...                                                          \n",
       "23347.0         ...                Low              0.5                2.0   \n",
       "2678.0          ...                Low              0.5                1.0   \n",
       "\n",
       "                rsi_length above_rsi_cur above_rsi_p  above_rsi_pp  \\\n",
       "settings_index                                                       \n",
       "23347.0               25.0           0.0         0.0           0.0   \n",
       "2678.0                15.0           0.0         0.0           0.0   \n",
       "\n",
       "               below_rsi_cur  below_rsi_p  below_rsi_pp  \n",
       "settings_index                                           \n",
       "23347.0                 40.0         40.0          30.0  \n",
       "2678.0                  30.0         25.0          40.0  \n",
       "\n",
       "[2 rows x 27 columns]"
      ]
     },
     "execution_count": 10,
     "metadata": {},
     "output_type": "execute_result"
    }
   ],
   "source": [
    "%run -i long_backtest.py\n",
    "pd.read_hdf('backtest_results.h5')"
   ]
  },
  {
   "cell_type": "code",
   "execution_count": 8,
   "metadata": {},
   "outputs": [
    {
     "data": {
      "text/plain": [
       "array([12466,  7708,  5875, ...,  8832,  6008,   988])"
      ]
     },
     "execution_count": 8,
     "metadata": {},
     "output_type": "execute_result"
    }
   ],
   "source": [
    "long_strat.og_dos_tuple.settings_index"
   ]
  },
  {
   "cell_type": "code",
   "execution_count": null,
   "metadata": {},
   "outputs": [],
   "source": [
    "backtest_results = or_backtest(\n",
    "    candles=candles,\n",
    "    exchange_settings_tuple=exchange_settings_tuple,\n",
    "    static_os_tuple=static_os_tuple,\n",
    "    strategy=long_strat,\n",
    "    set_idx=26608,\n",
    "    disable_logger=False,\n",
    "    plot_results=True,\n",
    ")"
   ]
  },
  {
   "cell_type": "code",
   "execution_count": null,
   "metadata": {},
   "outputs": [],
   "source": [
    "backtest_results"
   ]
  }
 ],
 "metadata": {
  "kernelspec": {
   "display_name": "qfree",
   "language": "python",
   "name": "python3"
  },
  "language_info": {
   "codemirror_mode": {
    "name": "ipython",
    "version": 3
   },
   "file_extension": ".py",
   "mimetype": "text/x-python",
   "name": "python",
   "nbconvert_exporter": "python",
   "pygments_lexer": "ipython3",
   "version": "3.10.10"
  }
 },
 "nbformat": 4,
 "nbformat_minor": 2
}
