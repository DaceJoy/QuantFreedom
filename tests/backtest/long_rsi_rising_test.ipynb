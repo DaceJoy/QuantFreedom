{
 "cells": [
  {
   "cell_type": "code",
   "execution_count": null,
   "metadata": {},
   "outputs": [],
   "source": [
    "import pandas as pd, numpy as np, pickle\n",
    "\n",
    "from quantfreedom import dl_ex_candles, all_backtest_stats, FootprintCandlesTuple, or_backtest, symbol_bt_df\n",
    "from datetime import datetime\n",
    "\n",
    "candle_path = \"dbs/oct_dec_candles.pkl\"\n",
    "\n",
    "%load_ext autoreload\n",
    "%autoreload 2"
   ]
  },
  {
   "cell_type": "code",
   "execution_count": null,
   "metadata": {},
   "outputs": [],
   "source": [
    "oct_dec_candles = dl_ex_candles(\n",
    "    exchange=\"mufex\",\n",
    "    symbol=\"BTCUSDT\",\n",
    "    timeframe=\"5m\",\n",
    "    since_datetime=datetime(2023, 10, 11),\n",
    "    until_datetime=datetime(2023, 12, 5),\n",
    ")\n",
    "with open(candle_path, \"wb\") as f:\n",
    "    pickle.dump(oct_dec_candles, f)"
   ]
  },
  {
   "cell_type": "code",
   "execution_count": null,
   "metadata": {},
   "outputs": [],
   "source": [
    "with open(candle_path, \"rb\") as f:\n",
    "    oct_dec_candles: FootprintCandlesTuple = pickle.load(f)"
   ]
  },
  {
   "cell_type": "code",
   "execution_count": null,
   "metadata": {},
   "outputs": [],
   "source": [
    "from rsi_rising_falling import rsi_rising_falling_long_strat\n",
    "\n",
    "all_backtest_stats(\n",
    "    candles=oct_dec_candles,\n",
    "    strategy=rsi_rising_falling_long_strat,\n",
    "    threads=32,\n",
    "    num_chunk_bts=3000000,\n",
    "    step_by=6,\n",
    ")"
   ]
  },
  {
   "cell_type": "code",
   "execution_count": null,
   "metadata": {},
   "outputs": [],
   "source": [
    "%run -i long_backtest.py\n",
    "results = pd.read_hdf('dbs/btr_long.h5')\n",
    "symbol_bt_df(results.head(15))"
   ]
  },
  {
   "cell_type": "code",
   "execution_count": null,
   "metadata": {},
   "outputs": [],
   "source": [
    "results[results[\"total_trades\"] > 10].sort_values(\"qf_score\", ascending=False).head(10)"
   ]
  },
  {
   "cell_type": "code",
   "execution_count": null,
   "metadata": {},
   "outputs": [],
   "source": [
    "from rsi_rising_falling import rsi_rising_falling_long_strat\n",
    "\n",
    "backtest_results = or_backtest(\n",
    "    candles=oct_dec_candles,\n",
    "    strategy=rsi_rising_falling_long_strat,\n",
    "    set_idx=25908,\n",
    "    disable_logger=False,\n",
    "    plot_results=True,\n",
    ")"
   ]
  }
 ],
 "metadata": {
  "kernelspec": {
   "display_name": "qfree",
   "language": "python",
   "name": "python3"
  },
  "language_info": {
   "codemirror_mode": {
    "name": "ipython",
    "version": 3
   },
   "file_extension": ".py",
   "mimetype": "text/x-python",
   "name": "python",
   "nbconvert_exporter": "python",
   "pygments_lexer": "ipython3",
   "version": "3.10.10"
  }
 },
 "nbformat": 4,
 "nbformat_minor": 2
}
