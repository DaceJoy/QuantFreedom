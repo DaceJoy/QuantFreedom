{
 "cells": [
  {
   "cell_type": "code",
   "execution_count": 1,
   "metadata": {},
   "outputs": [],
   "source": [
    "import pandas as pd, numpy as np, pickle\n",
    "\n",
    "from quantfreedom import dl_ex_candles, all_backtest_stats, FootprintCandlesTuple, or_backtest, symbol_bt_df\n",
    "from quantfreedom.backtesters.bt_live import live_backtest\n",
    "from datetime import datetime\n",
    "\n",
    "candle_path = \"dbs/oct_dec_candles.pkl\"\n",
    "\n",
    "%load_ext autoreload\n",
    "%autoreload 2"
   ]
  },
  {
   "cell_type": "code",
   "execution_count": null,
   "metadata": {},
   "outputs": [],
   "source": [
    "oct_dec_candles = dl_ex_candles(\n",
    "    exchange=\"mufex\",\n",
    "    symbol=\"BTCUSDT\",\n",
    "    timeframe=\"5m\",\n",
    "    since_datetime=datetime(2023, 10, 11),\n",
    "    until_datetime=datetime(2023, 12, 5),\n",
    ")\n",
    "with open(candle_path, \"wb\") as f:\n",
    "    pickle.dump(oct_dec_candles, f)"
   ]
  },
  {
   "cell_type": "code",
   "execution_count": 2,
   "metadata": {},
   "outputs": [],
   "source": [
    "with open(candle_path, \"rb\") as f:\n",
    "    oct_dec_candles: FootprintCandlesTuple = pickle.load(f)"
   ]
  },
  {
   "cell_type": "code",
   "execution_count": null,
   "metadata": {},
   "outputs": [],
   "source": [
    "from rsi_rising_falling import rsi_rising_falling_long_strat\n",
    "\n",
    "all_backtest_stats(\n",
    "    candles=oct_dec_candles,\n",
    "    strategy=rsi_rising_falling_long_strat,\n",
    "    threads=32,\n",
    "    num_chunk_bts=3000000,\n",
    ")"
   ]
  },
  {
   "cell_type": "code",
   "execution_count": null,
   "metadata": {},
   "outputs": [],
   "source": [
    "%run -i long_backtest.py\n",
    "results = pd.read_hdf('dbs/btr_long.h5')\n",
    "symbol_bt_df(results.head(15))"
   ]
  },
  {
   "cell_type": "code",
   "execution_count": null,
   "metadata": {},
   "outputs": [],
   "source": [
    "results[results[\"total_trades\"] > 10].sort_values(\"qf_score\", ascending=False).head(10)"
   ]
  },
  {
   "cell_type": "code",
   "execution_count": 13,
   "metadata": {},
   "outputs": [
    {
     "name": "stdout",
     "output_type": "stream",
     "text": [
      "DynamicOrderSettings(\n",
      "    account_pct_risk_per_trade = 0.05,\n",
      "    max_trades = 6,\n",
      "    risk_reward = 5.0,\n",
      "    sl_based_on_add_pct = 0.005,\n",
      "    sl_based_on_lookback = 20,\n",
      "    sl_bcb_type = 7,\n",
      "    sl_to_be_cb_type = 11,\n",
      "    sl_to_be_when_pct = 0.0,\n",
      "    trail_sl_bcb_type = 7,\n",
      "    trail_sl_by_pct = 0.01,\n",
      "    trail_sl_when_pct = 0.02,\n",
      "    settings_index = 25908,\n",
      ")\n",
      "IndicatorSettings(\n",
      "    rsi_length = 15,\n",
      "    above_rsi_cur = 0,\n",
      "    above_rsi_p = 0,\n",
      "    above_rsi_pp = 0,\n",
      "    below_rsi_cur = 40,\n",
      "    below_rsi_p = 40,\n",
      "    below_rsi_pp = 40,\n",
      ")\n"
     ]
    }
   ],
   "source": [
    "from rsi_rising_falling import rsi_rising_falling_long_strat\n",
    "\n",
    "backtest_results = or_backtest(\n",
    "    candles=oct_dec_candles,\n",
    "    strategy=rsi_rising_falling_long_strat,\n",
    "    set_idx=25908,\n",
    "    disable_logger=True,\n",
    "    disable_plot=True,\n",
    ")"
   ]
  },
  {
   "cell_type": "code",
   "execution_count": 14,
   "metadata": {},
   "outputs": [
    {
     "name": "stdout",
     "output_type": "stream",
     "text": [
      "DynamicOrderSettings(\n",
      "    account_pct_risk_per_trade = 0.05,\n",
      "    max_trades = 6,\n",
      "    risk_reward = 5.0,\n",
      "    sl_based_on_add_pct = 0.005,\n",
      "    sl_based_on_lookback = 20,\n",
      "    sl_bcb_type = 7,\n",
      "    sl_to_be_cb_type = 11,\n",
      "    sl_to_be_when_pct = 0.0,\n",
      "    trail_sl_bcb_type = 7,\n",
      "    trail_sl_by_pct = 0.01,\n",
      "    trail_sl_when_pct = 0.02,\n",
      "    settings_index = 25908,\n",
      ")\n",
      "IndicatorSettings(\n",
      "    rsi_length = 15,\n",
      "    above_rsi_cur = 0,\n",
      "    above_rsi_p = 0,\n",
      "    above_rsi_pp = 0,\n",
      "    below_rsi_cur = 40,\n",
      "    below_rsi_p = 40,\n",
      "    below_rsi_pp = 40,\n",
      ")\n"
     ]
    }
   ],
   "source": [
    "from rsi_rising_falling import rsi_rising_falling_long_strat\n",
    "\n",
    "backtest_results = live_backtest(\n",
    "    candles=oct_dec_candles,\n",
    "    strategy=rsi_rising_falling_long_strat,\n",
    "    set_idx=25908,\n",
    "    disable_logger=True,\n",
    "    disable_plot=True,\n",
    ")"
   ]
  }
 ],
 "metadata": {
  "kernelspec": {
   "display_name": "qfree",
   "language": "python",
   "name": "python3"
  },
  "language_info": {
   "codemirror_mode": {
    "name": "ipython",
    "version": 3
   },
   "file_extension": ".py",
   "mimetype": "text/x-python",
   "name": "python",
   "nbconvert_exporter": "python",
   "pygments_lexer": "ipython3",
   "version": "3.10.10"
  }
 },
 "nbformat": 4,
 "nbformat_minor": 2
}
