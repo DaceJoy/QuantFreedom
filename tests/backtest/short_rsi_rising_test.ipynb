{
 "cells": [
  {
   "cell_type": "code",
   "execution_count": null,
   "metadata": {},
   "outputs": [],
   "source": [
    "import pandas as pd, numpy as np, pickle\n",
    "\n",
    "from quantfreedom import dl_ex_candles, all_backtest_stats, FootprintCandlesTuple, or_backtest, symbol_bt_df\n",
    "from datetime import datetime\n",
    "\n",
    "candle_path = \"dbs/apr22_june22_bybit_candles.pkl\"\n",
    "\n",
    "%load_ext autoreload\n",
    "%autoreload 2"
   ]
  },
  {
   "cell_type": "code",
   "execution_count": null,
   "metadata": {},
   "outputs": [],
   "source": [
    "apr22_june22_bybit_candles = dl_ex_candles(\n",
    "    exchange=\"bybit\",\n",
    "    symbol=\"BTCUSDT\",\n",
    "    timeframe=\"5m\",\n",
    "    since_datetime=datetime(2022, 4, 5),\n",
    "    until_datetime=datetime(2022, 6, 19),\n",
    ")\n",
    "with open(candle_path, \"wb\") as f:\n",
    "    pickle.dump(apr22_june22_bybit_candles, f)"
   ]
  },
  {
   "cell_type": "code",
   "execution_count": null,
   "metadata": {},
   "outputs": [],
   "source": [
    "with open(candle_path, \"rb\") as f:\n",
    "    apr22_june22_bybit_candles: FootprintCandlesTuple = pickle.load(f)"
   ]
  },
  {
   "cell_type": "code",
   "execution_count": null,
   "metadata": {},
   "outputs": [],
   "source": [
    "from rsi_rising_falling import rsi_rising_falling_short_strat\n",
    "\n",
    "all_backtest_stats(\n",
    "    candles=apr22_june22_bybit_candles,\n",
    "    strategy=rsi_rising_falling_short_strat,\n",
    "    threads=32,\n",
    "    num_chunk_bts=3000000,\n",
    ")"
   ]
  },
  {
   "cell_type": "code",
   "execution_count": null,
   "metadata": {},
   "outputs": [],
   "source": [
    "%run -i short_backtest.py\n",
    "results = pd.read_hdf('dbs/btr_short.h5')\n",
    "symbol_bt_df(results.head(15))"
   ]
  },
  {
   "cell_type": "code",
   "execution_count": null,
   "metadata": {},
   "outputs": [],
   "source": [
    "symbol_bt_df(results[results[\"total_trades\"] > 10].sort_values(\"qf_score\", ascending=False).head(15))"
   ]
  },
  {
   "cell_type": "code",
   "execution_count": null,
   "metadata": {},
   "outputs": [],
   "source": [
    "from rsi_rising_falling import rsi_rising_falling_short_strat\n",
    "\n",
    "backtest_results = or_backtest(\n",
    "    candles=apr22_june22_bybit_candles,\n",
    "    strategy=rsi_rising_falling_short_strat,\n",
    "    set_idx=8954,\n",
    "    disable_logger=True,\n",
    "    disable_plot=True,\n",
    ")"
   ]
  }
 ],
 "metadata": {
  "kernelspec": {
   "display_name": "qfree",
   "language": "python",
   "name": "python3"
  },
  "language_info": {
   "codemirror_mode": {
    "name": "ipython",
    "version": 3
   },
   "file_extension": ".py",
   "mimetype": "text/x-python",
   "name": "python",
   "nbconvert_exporter": "python",
   "pygments_lexer": "ipython3",
   "version": "3.10.10"
  }
 },
 "nbformat": 4,
 "nbformat_minor": 2
}
