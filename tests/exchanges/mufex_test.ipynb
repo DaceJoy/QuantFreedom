{
  "cells": [
    {
      "cell_type": "code",
      "execution_count": 3,
      "metadata": {},
      "outputs": [
        {
          "name": "stdout",
          "output_type": "stream",
          "text": [
            "The autoreload extension is already loaded. To reload it, use:\n",
            "  %reload_ext autoreload\n"
          ]
        }
      ],
      "source": [
        "import numpy as np\n",
        "import pandas as pd\n",
        "from env import MufexKeys\n",
        "from quantfreedom.exchanges.mufex_exchange.mufex import Mufex\n",
        "from quantfreedom.helper_funcs import candles_to_df\n",
        "from quantfreedom.enums import PositionModeType\n",
        "\n",
        "\n",
        "np.set_printoptions(formatter={\"float_kind\": \"{:0.1f}\".format})\n",
        "\n",
        "symbol = 'BTCUSDT'\n",
        "trading_with = 'USDT'\n",
        "mufex_main = Mufex(\n",
        "    api_key=MufexKeys.mainnet_api_key,\n",
        "    secret_key=MufexKeys.mainnet_secret_key,\n",
        "    use_test_net=False\n",
        ")\n",
        "mufex_test = Mufex(\n",
        "    api_key=MufexKeys.testnet_api_key,\n",
        "    secret_key=MufexKeys.testnet_secret_key,\n",
        "    use_test_net=True\n",
        ")\n",
        "\n",
        "%load_ext autoreload\n",
        "%autoreload 2"
      ]
    },
    {
      "cell_type": "code",
      "execution_count": null,
      "metadata": {},
      "outputs": [],
      "source": [
        "mufex_test.create_order(\n",
        "    symbol=symbol,\n",
        "    position_mode=PositionModeType.BuySide,\n",
        "    buy_sell=\"Buy\",\n",
        "    order_type=\"Market\",\n",
        "    asset_size=.05,\n",
        "    time_in_force=\"GoodTillCancel\",\n",
        "    \n",
        ")"
      ]
    },
    {
      "cell_type": "code",
      "execution_count": 7,
      "metadata": {},
      "outputs": [
        {
          "data": {
            "text/plain": [
              "'3f49ba5a-cb3c-4407-bdb3-63b03637b510'"
            ]
          },
          "execution_count": 7,
          "metadata": {},
          "output_type": "execute_result"
        }
      ],
      "source": [
        "mufex_test.create_order(\n",
        "    symbol=symbol,\n",
        "    position_mode=PositionModeType.SellSide,\n",
        "    buy_sell=\"Sell\",\n",
        "    order_type=\"Market\",\n",
        "    asset_size=.05,\n",
        "    time_in_force=\"GoodTillCancel\",\n",
        "    stopLoss=74000\n",
        ")"
      ]
    },
    {
      "cell_type": "code",
      "execution_count": 6,
      "metadata": {},
      "outputs": [
        {
          "data": {
            "text/plain": [
              "True"
            ]
          },
          "execution_count": 6,
          "metadata": {},
          "output_type": "execute_result"
        }
      ],
      "source": [
        "mufex_test.cancel_all_open_orders_per_symbol(symbol=symbol)"
      ]
    }
  ],
  "metadata": {
    "kernelspec": {
      "display_name": "qfFree",
      "language": "python",
      "name": "python3"
    },
    "language_info": {
      "codemirror_mode": {
        "name": "ipython",
        "version": 3
      },
      "file_extension": ".py",
      "mimetype": "text/x-python",
      "name": "python",
      "nbconvert_exporter": "python",
      "pygments_lexer": "ipython3",
      "version": "3.10.10"
    },
    "orig_nbformat": 4
  },
  "nbformat": 4,
  "nbformat_minor": 2
}
