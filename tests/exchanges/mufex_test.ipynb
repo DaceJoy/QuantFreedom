{
  "cells": [
    {
      "cell_type": "code",
      "execution_count": 1,
      "metadata": {},
      "outputs": [],
      "source": [
        "import numpy as np\n",
        "import pandas as pd\n",
        "from env import MufexKeys\n",
        "from quantfreedom.exchanges.mufex_exchange.mufex import Mufex\n",
        "from quantfreedom.helper_funcs import candles_to_df\n",
        "\n",
        "np.set_printoptions(formatter={\"float_kind\": \"{:0.1f}\".format})\n",
        "\n",
        "mufex_main = Mufex(\n",
        "    api_key=MufexKeys.mainnet_api_key,\n",
        "    secret_key=MufexKeys.mainnet_secret_key,\n",
        "    use_test_net=False\n",
        ")\n",
        "mufex_test = Mufex(\n",
        "    api_key=MufexKeys.testnet_api_key,\n",
        "    secret_key=MufexKeys.testnet_secret_key,\n",
        "    use_test_net=True\n",
        ")\n",
        "\n",
        "%load_ext autoreload\n",
        "%autoreload 2"
      ]
    },
    {
      "cell_type": "code",
      "execution_count": 12,
      "metadata": {},
      "outputs": [
        {
          "data": {
            "text/plain": [
              "[{'coin': 'USDT',\n",
              "  'equity': '10165163.6763592',\n",
              "  'walletBalance': '10165163.6763592',\n",
              "  'positionMargin': '0',\n",
              "  'availableBalance': '10165163.6763592',\n",
              "  'orderMargin': '0',\n",
              "  'occClosingFee': '0',\n",
              "  'occFundingFee': '0',\n",
              "  'unrealisedPnl': '0',\n",
              "  'cumRealisedPnl': '70426.7252',\n",
              "  'givenCash': '0',\n",
              "  'serviceCash': '0'}]"
            ]
          },
          "execution_count": 12,
          "metadata": {},
          "output_type": "execute_result"
        }
      ],
      "source": [
        "mufex_test.get_wallet_info()"
      ]
    },
    {
      "cell_type": "code",
      "execution_count": 15,
      "metadata": {},
      "outputs": [
        {
          "data": {
            "text/plain": [
              "[{'coin': 'USDT',\n",
              "  'equity': '10164871.72146218',\n",
              "  'walletBalance': '10164871.72146218',\n",
              "  'positionMargin': '0',\n",
              "  'availableBalance': '10164871.72146218',\n",
              "  'orderMargin': '0',\n",
              "  'occClosingFee': '0',\n",
              "  'occFundingFee': '0',\n",
              "  'unrealisedPnl': '0',\n",
              "  'cumRealisedPnl': '70164.0492',\n",
              "  'givenCash': '0',\n",
              "  'serviceCash': '0'}]"
            ]
          },
          "execution_count": 15,
          "metadata": {},
          "output_type": "execute_result"
        }
      ],
      "source": [
        "mufex_test.get_wallet_info()"
      ]
    },
    {
      "cell_type": "code",
      "execution_count": 1,
      "metadata": {},
      "outputs": [
        {
          "ename": "NameError",
          "evalue": "name 'mufex_test' is not defined",
          "output_type": "error",
          "traceback": [
            "\u001b[1;31m---------------------------------------------------------------------------\u001b[0m",
            "\u001b[1;31mNameError\u001b[0m                                 Traceback (most recent call last)",
            "Cell \u001b[1;32mIn[1], line 1\u001b[0m\n\u001b[1;32m----> 1\u001b[0m \u001b[43mmufex_test\u001b[49m\u001b[38;5;241m.\u001b[39mget_long_hedge_mode_position_info(symbol\u001b[38;5;241m=\u001b[39m\u001b[38;5;124m\"\u001b[39m\u001b[38;5;124mBTCUSDT\u001b[39m\u001b[38;5;124m\"\u001b[39m)\n",
            "\u001b[1;31mNameError\u001b[0m: name 'mufex_test' is not defined"
          ]
        }
      ],
      "source": [
        "mufex_test.get_equity_of_asset(symbol=\"BTCUSDT\")"
      ]
    },
    {
      "cell_type": "code",
      "execution_count": 3,
      "metadata": {},
      "outputs": [
        {
          "data": {
            "text/plain": [
              "'27e0c8bb-2829-40fd-b7da-ea69cfe9a955'"
            ]
          },
          "execution_count": 3,
          "metadata": {},
          "output_type": "execute_result"
        }
      ],
      "source": [
        "# market_order_id = mufex_test.create_long_hedge_mode_entry_market_order(asset_size=0.001, symbol=\"BTCUSDT\")\n",
        "# market_order_id"
      ]
    },
    {
      "cell_type": "code",
      "execution_count": 4,
      "metadata": {},
      "outputs": [
        {
          "data": {
            "text/plain": [
              "'a5ba3659-a81d-4c56-b3c0-88507fbe38d5'"
            ]
          },
          "execution_count": 4,
          "metadata": {},
          "output_type": "execute_result"
        }
      ],
      "source": [
        "# tp_order_id = mufex_test.create_long_hedge_mode_tp_limit_order(asset_size=0.001, symbol=\"BTCUSDT\", tp_price=65000)\n",
        "# tp_order_id"
      ]
    },
    {
      "cell_type": "code",
      "execution_count": 5,
      "metadata": {},
      "outputs": [
        {
          "data": {
            "text/plain": [
              "'8ba0aabe-cfcc-4184-bf14-9cf8d24e1f9f'"
            ]
          },
          "execution_count": 5,
          "metadata": {},
          "output_type": "execute_result"
        }
      ],
      "source": [
        "# mufex_test.create_long_hedge_mode_sl_order(asset_size=0.001, symbol=\"BTCUSDT\", trigger_price=59000)"
      ]
    }
  ],
  "metadata": {
    "kernelspec": {
      "display_name": "qfFree",
      "language": "python",
      "name": "python3"
    },
    "language_info": {
      "codemirror_mode": {
        "name": "ipython",
        "version": 3
      },
      "file_extension": ".py",
      "mimetype": "text/x-python",
      "name": "python",
      "nbconvert_exporter": "python",
      "pygments_lexer": "ipython3",
      "version": "3.10.10"
    },
    "orig_nbformat": 4
  },
  "nbformat": 4,
  "nbformat_minor": 2
}
