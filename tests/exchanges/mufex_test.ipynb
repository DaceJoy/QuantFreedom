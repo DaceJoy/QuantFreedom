{
  "cells": [
    {
      "cell_type": "code",
      "execution_count": 29,
      "metadata": {},
      "outputs": [
        {
          "name": "stdout",
          "output_type": "stream",
          "text": [
            "The autoreload extension is already loaded. To reload it, use:\n",
            "  %reload_ext autoreload\n"
          ]
        }
      ],
      "source": [
        "import numpy as np\n",
        "import pandas as pd\n",
        "from env import MufexKeys\n",
        "from quantfreedom.exchanges.mufex_exchange.mufex import Mufex\n",
        "from quantfreedom.helper_funcs import candles_to_df\n",
        "\n",
        "np.set_printoptions(formatter={\"float_kind\": \"{:0.1f}\".format})\n",
        "\n",
        "symbol = 'BTCUSDT'\n",
        "trading_with = 'USDT'\n",
        "mufex_main = Mufex(\n",
        "    api_key=MufexKeys.mainnet_api_key,\n",
        "    secret_key=MufexKeys.mainnet_secret_key,\n",
        "    use_test_net=False\n",
        ")\n",
        "mufex_test = Mufex(\n",
        "    api_key=MufexKeys.testnet_api_key,\n",
        "    secret_key=MufexKeys.testnet_secret_key,\n",
        "    use_test_net=True\n",
        ")\n",
        "\n",
        "%load_ext autoreload\n",
        "%autoreload 2"
      ]
    },
    {
      "cell_type": "code",
      "execution_count": 40,
      "metadata": {},
      "outputs": [
        {
          "data": {
            "text/plain": [
              "(0.0009, 0.0003)"
            ]
          },
          "execution_count": 40,
          "metadata": {},
          "output_type": "execute_result"
        }
      ],
      "source": [
        "mufex_test.get_fee_pcts(symbol=symbol)"
      ]
    },
    {
      "cell_type": "code",
      "execution_count": 49,
      "metadata": {},
      "outputs": [
        {
          "data": {
            "text/plain": [
              "[{'coin': 'USDT',\n",
              "  'equity': '10163926.66465023',\n",
              "  'walletBalance': '10163923.41465023',\n",
              "  'positionMargin': '16393.05',\n",
              "  'availableBalance': '10147530.36465023',\n",
              "  'orderMargin': '0',\n",
              "  'occClosingFee': '0',\n",
              "  'occFundingFee': '0',\n",
              "  'unrealisedPnl': '3.25',\n",
              "  'cumRealisedPnl': '69309.0915',\n",
              "  'givenCash': '0',\n",
              "  'serviceCash': '0'}]"
            ]
          },
          "execution_count": 49,
          "metadata": {},
          "output_type": "execute_result"
        }
      ],
      "source": [
        "mufex_test.get_wallet_info(trading_with=trading_with)"
      ]
    },
    {
      "cell_type": "code",
      "execution_count": 46,
      "metadata": {},
      "outputs": [
        {
          "data": {
            "text/plain": [
              "[{'coin': 'USDT',\n",
              "  'equity': '10163914.06465023',\n",
              "  'walletBalance': '10163923.41465023',\n",
              "  'positionMargin': '16393.05',\n",
              "  'availableBalance': '10147530.36465023',\n",
              "  'orderMargin': '0',\n",
              "  'occClosingFee': '0',\n",
              "  'occFundingFee': '0',\n",
              "  'unrealisedPnl': '-9.35',\n",
              "  'cumRealisedPnl': '69309.0915',\n",
              "  'givenCash': '0',\n",
              "  'serviceCash': '0'}]"
            ]
          },
          "execution_count": 46,
          "metadata": {},
          "output_type": "execute_result"
        }
      ],
      "source": [
        "mufex_test.get_wallet_info()"
      ]
    },
    {
      "cell_type": "code",
      "execution_count": 47,
      "metadata": {},
      "outputs": [
        {
          "data": {
            "text/plain": [
              "29.507489999756217"
            ]
          },
          "execution_count": 47,
          "metadata": {},
          "output_type": "execute_result"
        }
      ],
      "source": [
        "10163952.92214023 - 10163923.41465023"
      ]
    },
    {
      "cell_type": "code",
      "execution_count": 48,
      "metadata": {},
      "outputs": [
        {
          "data": {
            "text/plain": [
              "29.507489999999997"
            ]
          },
          "execution_count": 48,
          "metadata": {},
          "output_type": "execute_result"
        }
      ],
      "source": [
        "32786.1000 * .0009"
      ]
    },
    {
      "cell_type": "code",
      "execution_count": 54,
      "metadata": {},
      "outputs": [
        {
          "data": {
            "text/plain": [
              "[{'activePrice': '0.0',\n",
              "  'autoAddMargin': 0,\n",
              "  'bustPrice': '0.0',\n",
              "  'createdTime': '1711214575165',\n",
              "  'cumRealisedPnl': '85967.80732994',\n",
              "  'entryPrice': '0',\n",
              "  'leverage': '2',\n",
              "  'liqPrice': '0.0',\n",
              "  'markPrice': '65600.4',\n",
              "  'positionBalance': '0',\n",
              "  'positionIdx': 1,\n",
              "  'positionIm': '',\n",
              "  'positionMm': '',\n",
              "  'positionStatus': 'Normal',\n",
              "  'positionValue': '0',\n",
              "  'riskId': '1',\n",
              "  'riskLimitValue': '30000000',\n",
              "  'sessionAvgPrice': '0.0',\n",
              "  'side': 'Buy',\n",
              "  'size': '0.000',\n",
              "  'stopLoss': '0.0',\n",
              "  'symbol': 'BTCUSDT',\n",
              "  'takeProfit': '0.0',\n",
              "  'tpSlMode': 'Full',\n",
              "  'tradeMode': 1,\n",
              "  'trailingStop': '0.0',\n",
              "  'unrealisedPnl': '0',\n",
              "  'updatedTime': '1711214611786'},\n",
              " {'activePrice': '0.0',\n",
              "  'autoAddMargin': 0,\n",
              "  'bustPrice': '98358.3',\n",
              "  'createdTime': '1711214611778',\n",
              "  'cumRealisedPnl': '-22044.39267971',\n",
              "  'entryPrice': '65572.2',\n",
              "  'leverage': '2',\n",
              "  'liqPrice': '98096.0',\n",
              "  'markPrice': '66601.8',\n",
              "  'positionBalance': '16393.05',\n",
              "  'positionIdx': 2,\n",
              "  'positionIm': '',\n",
              "  'positionMm': '',\n",
              "  'positionStatus': 'Normal',\n",
              "  'positionValue': '32786.1',\n",
              "  'riskId': '1',\n",
              "  'riskLimitValue': '30000000',\n",
              "  'sessionAvgPrice': '0.0',\n",
              "  'side': 'Sell',\n",
              "  'size': '0.500',\n",
              "  'stopLoss': '0.0',\n",
              "  'symbol': 'BTCUSDT',\n",
              "  'takeProfit': '0.0',\n",
              "  'tpSlMode': 'Full',\n",
              "  'tradeMode': 1,\n",
              "  'trailingStop': '0.0',\n",
              "  'unrealisedPnl': '-514.8',\n",
              "  'updatedTime': '1711215412864'}]"
            ]
          },
          "execution_count": 54,
          "metadata": {},
          "output_type": "execute_result"
        }
      ],
      "source": [
        "mufex_test.get_position_info(symbol=symbol)"
      ]
    },
    {
      "cell_type": "code",
      "execution_count": 53,
      "metadata": {},
      "outputs": [
        {
          "data": {
            "text/plain": [
              "[{'symbol': 'BTCUSDT',\n",
              "  'execFee': '29.50749',\n",
              "  'execId': 'a1455424-f3a6-55d7-ba6e-315d549a1ac1',\n",
              "  'execPrice': '65572.2',\n",
              "  'execQty': '0.500',\n",
              "  'execType': 'Trade',\n",
              "  'execValue': '32786.1',\n",
              "  'feeRate': '0.0009',\n",
              "  'lastLiquidityInd': 'RemovedLiquidity',\n",
              "  'leavesQty': '0.000',\n",
              "  'orderId': 'eccda5ea-3b01-4a90-be64-dcc57d3286b4',\n",
              "  'orderLinkId': '',\n",
              "  'orderPrice': '62320.4',\n",
              "  'orderQty': '0.500',\n",
              "  'orderType': 'Market',\n",
              "  'stopOrderType': 'UNKNOWN',\n",
              "  'side': 'Sell',\n",
              "  'execTime': '1711214611778',\n",
              "  'closedSize': '0.000',\n",
              "  'crossSeq': '191451787'}]"
            ]
          },
          "execution_count": 53,
          "metadata": {},
          "output_type": "execute_result"
        }
      ],
      "source": [
        "mufex_test.get_filled_orders(symbol=symbol, limit=1)"
      ]
    },
    {
      "cell_type": "code",
      "execution_count": 31,
      "metadata": {},
      "outputs": [
        {
          "data": {
            "text/plain": [
              "10164793.01550649"
            ]
          },
          "execution_count": 31,
          "metadata": {},
          "output_type": "execute_result"
        }
      ],
      "source": [
        "mufex_test.get_no_fees_equity_of_asset(trading_with=trading_with)"
      ]
    }
  ],
  "metadata": {
    "kernelspec": {
      "display_name": "qfFree",
      "language": "python",
      "name": "python3"
    },
    "language_info": {
      "codemirror_mode": {
        "name": "ipython",
        "version": 3
      },
      "file_extension": ".py",
      "mimetype": "text/x-python",
      "name": "python",
      "nbconvert_exporter": "python",
      "pygments_lexer": "ipython3",
      "version": "3.10.10"
    },
    "orig_nbformat": 4
  },
  "nbformat": 4,
  "nbformat_minor": 2
}
