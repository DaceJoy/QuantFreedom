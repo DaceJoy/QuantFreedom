{
  "cells": [
    {
      "cell_type": "code",
      "execution_count": 1,
      "metadata": {},
      "outputs": [],
      "source": [
        "import numpy as np\n",
        "import pandas as pd\n",
        "from my_stuff import MufexTestKeys, MufexKeys\n",
        "from quantfreedom.exchanges.mufex_exchange.mufex import Mufex\n",
        "from quantfreedom.helper_funcs import candles_to_df\n",
        "\n",
        "np.set_printoptions(formatter={\"float_kind\": \"{:0.1f}\".format})\n",
        "\n",
        "%load_ext autoreload\n",
        "%autoreload 2"
      ]
    },
    {
      "cell_type": "code",
      "execution_count": 2,
      "metadata": {},
      "outputs": [],
      "source": [
        "mufex_test = Mufex(\n",
        "    api_key=MufexTestKeys.api_key,\n",
        "    secret_key=MufexTestKeys.secret_key,\n",
        "    use_test_net=True\n",
        ")"
      ]
    },
    {
      "cell_type": "code",
      "execution_count": 4,
      "metadata": {},
      "outputs": [
        {
          "data": {
            "text/plain": [
              "{'id': 1,\n",
              " 'symbol': 'BTCUSDT',\n",
              " 'limit': '30000000',\n",
              " 'maintainMargin': '0.004',\n",
              " 'initialMargin': '0.0067',\n",
              " 'section': ['1', '3', '5', '10', '25', '50', '150'],\n",
              " 'isLowestRisk': 1,\n",
              " 'maxLeverage': '150.00'}"
            ]
          },
          "execution_count": 4,
          "metadata": {},
          "output_type": "execute_result"
        }
      ],
      "source": [
        "mufex_test.get_risk_limit_info(symbol='BTCUSDT')"
      ]
    },
    {
      "cell_type": "code",
      "execution_count": 6,
      "metadata": {},
      "outputs": [
        {
          "data": {
            "text/plain": [
              "[{'positionIdx': 1,\n",
              "  'riskId': '1',\n",
              "  'symbol': 'BTCUSDT',\n",
              "  'side': 'Buy',\n",
              "  'size': '3.400',\n",
              "  'positionValue': '147238.3336',\n",
              "  'entryPrice': '43305.39223529',\n",
              "  'tradeMode': 1,\n",
              "  'autoAddMargin': 0,\n",
              "  'leverage': '5',\n",
              "  'positionBalance': '29221.265939',\n",
              "  'liqPrice': '34884.20',\n",
              "  'bustPrice': '34711.00',\n",
              "  'takeProfit': '0.00',\n",
              "  'stopLoss': '0.00',\n",
              "  'trailingStop': '0.00',\n",
              "  'unrealisedPnl': '10830.5904',\n",
              "  'createdTime': '1704377450444',\n",
              "  'updatedTime': '1704812686625',\n",
              "  'tpSlMode': 'Full',\n",
              "  'riskLimitValue': '30000000',\n",
              "  'activePrice': '0.00',\n",
              "  'markPrice': '46490.86',\n",
              "  'cumRealisedPnl': '-10100.00819659',\n",
              "  'positionMm': '',\n",
              "  'positionIm': '',\n",
              "  'positionStatus': 'Normal',\n",
              "  'sessionAvgPrice': '0.00'},\n",
              " {'positionIdx': 2,\n",
              "  'riskId': '1',\n",
              "  'symbol': 'BTCUSDT',\n",
              "  'side': 'Sell',\n",
              "  'size': '4.600',\n",
              "  'positionValue': '208797.22',\n",
              "  'entryPrice': '45390.7',\n",
              "  'tradeMode': 1,\n",
              "  'autoAddMargin': 0,\n",
              "  'leverage': '5',\n",
              "  'positionBalance': '41802.5983756',\n",
              "  'liqPrice': '54296.60',\n",
              "  'bustPrice': '54478.20',\n",
              "  'takeProfit': '0.00',\n",
              "  'stopLoss': '0.00',\n",
              "  'trailingStop': '0.00',\n",
              "  'unrealisedPnl': '-5060.736',\n",
              "  'createdTime': '1704735541841',\n",
              "  'updatedTime': '1704812686625',\n",
              "  'tpSlMode': 'Full',\n",
              "  'riskLimitValue': '30000000',\n",
              "  'activePrice': '0.00',\n",
              "  'markPrice': '46490.86',\n",
              "  'cumRealisedPnl': '-760.84728863',\n",
              "  'positionMm': '',\n",
              "  'positionIm': '',\n",
              "  'positionStatus': 'Normal',\n",
              "  'sessionAvgPrice': '0.00'}]"
            ]
          },
          "execution_count": 6,
          "metadata": {},
          "output_type": "execute_result"
        }
      ],
      "source": [
        "mufex_test.get_position_info(symbol=\"BTCUSDT\")"
      ]
    },
    {
      "cell_type": "code",
      "execution_count": null,
      "metadata": {},
      "outputs": [],
      "source": []
    }
  ],
  "metadata": {
    "kernelspec": {
      "display_name": "qfFree",
      "language": "python",
      "name": "python3"
    },
    "language_info": {
      "codemirror_mode": {
        "name": "ipython",
        "version": 3
      },
      "file_extension": ".py",
      "mimetype": "text/x-python",
      "name": "python",
      "nbconvert_exporter": "python",
      "pygments_lexer": "ipython3",
      "version": "3.10.10"
    },
    "orig_nbformat": 4
  },
  "nbformat": 4,
  "nbformat_minor": 2
}
