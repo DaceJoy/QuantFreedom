{
  "cells": [
    {
      "cell_type": "code",
      "execution_count": 2,
      "metadata": {},
      "outputs": [],
      "source": [
        "from my_keys import MufexKeys\n",
        "import numpy as np\n",
        "import pandas as pd\n",
        "from quantfreedom.exchanges.mufex import Mufex\n",
        "from quantfreedom.helpers.helper_funcs import candles_to_df\n",
        "from quantfreedom.core.enums import PositionModeType, LeverageModeType\n",
        "from datetime import datetime\n",
        "\n",
        "\n",
        "np.set_printoptions(formatter={\"float_kind\": \"{:0.1f}\".format})\n",
        "\n",
        "symbol = 'BTCUSDT'\n",
        "trading_with = 'USDT'\n",
        "\n",
        "\n",
        "%load_ext autoreload\n",
        "%autoreload 2"
      ]
    },
    {
      "cell_type": "code",
      "execution_count": 3,
      "metadata": {},
      "outputs": [],
      "source": [
        "mufex_main = Mufex(\n",
        "    api_key=MufexKeys.mainnet_neo_api_key,\n",
        "    secret_key=MufexKeys.mainnet_neo_secret_key,\n",
        "    use_test_net=False\n",
        ")\n",
        "mufex_test = Mufex(\n",
        "    api_key=MufexKeys.testnet_neo_api_key,\n",
        "    secret_key=MufexKeys.testnet_neo_secret_key,\n",
        "    use_test_net=True\n",
        ")"
      ]
    },
    {
      "cell_type": "code",
      "execution_count": 4,
      "metadata": {},
      "outputs": [
        {
          "name": "stdout",
          "output_type": "stream",
          "text": [
            "                         timestamp     open     high      low    close  volume\n",
            "datetime                                                                      \n",
            "2024-04-14 15:18:00  1713107880000  64102.2  64128.9  64071.0  64126.6    5.18 1500\n",
            "Will sleep for 0 hrs 00 mins and 00 seconds till next bar\n",
            "\n",
            "                         timestamp     open     high      low    close  volume\n",
            "datetime                                                                      \n",
            "2024-04-14 15:19:00  1713107940000  64126.6  64127.8  64025.5  64036.9    5.33\n",
            "No Entry\n",
            "Will sleep for 0 hrs 00 mins and 26 seconds till next bar\n",
            "\n"
          ]
        }
      ],
      "source": [
        "from time import sleep\n",
        "\n",
        "candles = candles_to_df(\n",
        "    mufex_main.get_candles(\n",
        "        symbol=\"BTCUSDT\",\n",
        "        timeframe=\"1m\",\n",
        "    )\n",
        ")\n",
        "print(candles.index[-1], candles.shape[0])\n",
        "sleep(mufex_main.get_sleep_time_to_next_bar())\n",
        "try:\n",
        "    candles = candles_to_df(\n",
        "        mufex_main.get_candles(\n",
        "            symbol=\"BTCUSDT\",\n",
        "            timeframe=\"1m\",\n",
        "        )\n",
        "    )\n",
        "    print(candles.index[-1], candles.shape[0])\n",
        "    if 1 == 3:\n",
        "        pass\n",
        "    else:\n",
        "        print(\"No Entry\")\n",
        "    sleep(mufex_main.get_sleep_time_to_next_bar())\n",
        "except Exception as e:\n",
        "    print(f\"Exception: {str(e)}\")"
      ]
    },
    {
      "cell_type": "code",
      "execution_count": 6,
      "metadata": {},
      "outputs": [
        {
          "data": {
            "text/plain": [
              "[{'coin': 'USDT',\n",
              "  'equity': '326.916672',\n",
              "  'walletBalance': '326.916672',\n",
              "  'positionMargin': '0',\n",
              "  'availableBalance': '326.916672',\n",
              "  'orderMargin': '0',\n",
              "  'occClosingFee': '0',\n",
              "  'occFundingFee': '0',\n",
              "  'unrealisedPnl': '0',\n",
              "  'cumRealisedPnl': '55.5091',\n",
              "  'givenCash': '0',\n",
              "  'serviceCash': '0'}]"
            ]
          },
          "execution_count": 6,
          "metadata": {},
          "output_type": "execute_result"
        }
      ],
      "source": [
        "mufex_main.get_wallet_info(trading_with)"
      ]
    },
    {
      "cell_type": "code",
      "execution_count": null,
      "metadata": {},
      "outputs": [],
      "source": [
        "mufex_test.get_wallet_info_of_asset"
      ]
    },
    {
      "cell_type": "code",
      "execution_count": 18,
      "metadata": {},
      "outputs": [
        {
          "data": {
            "text/plain": [
              "ExchangeSettings(asset_tick_step=3, leverage_mode=1, leverage_tick_step=2, limit_fee_pct=0.0003, market_fee_pct=0.0006, max_asset_size=100.0, max_leverage=150.0, min_asset_size=0.001, min_leverage=1.0, mmr_pct=0.004, position_mode=3, price_tick_step=1)"
            ]
          },
          "execution_count": 18,
          "metadata": {},
          "output_type": "execute_result"
        }
      ],
      "source": [
        "mufex_main.set_and_get_exchange_settings_tuple(\n",
        "    symbol = 'BTCUSDT',\n",
        "    position_mode= PositionModeType.HedgeMode,\n",
        "    leverage_mode= LeverageModeType.Isolated,\n",
        ")"
      ]
    },
    {
      "cell_type": "code",
      "execution_count": null,
      "metadata": {},
      "outputs": [],
      "source": [
        "mufex_main.get_candles(\n",
        "    symbol = 'BTCUSDT',\n",
        "    timeframe = '30m',\n",
        "    candles_to_dl = 3000,\n",
        "    # since_datetime = datetime(2021, 1, 1)\n",
        "    # until_datetime = datetime(2021, 1, 1)\n",
        ")"
      ]
    },
    {
      "cell_type": "code",
      "execution_count": 13,
      "metadata": {},
      "outputs": [
        {
          "ename": "Exception",
          "evalue": "Mufex create_order trading banned: trade offline -> 'orderId'",
          "output_type": "error",
          "traceback": [
            "\u001b[1;31m---------------------------------------------------------------------------\u001b[0m",
            "\u001b[1;31mKeyError\u001b[0m                                  Traceback (most recent call last)",
            "File \u001b[1;32mE:\\coding\\quantfreedom\\quantfreedom\\exchanges\\mufex_exchange\\mufex.py:392\u001b[0m, in \u001b[0;36mMufex.create_order\u001b[1;34m(self, symbol, buy_sell, position_mode, order_type, asset_size, time_in_force, price, triggerDirection, triggerPrice, triggerBy, tpTriggerBy, slTriggerBy, custom_order_id, takeProfit, stopLoss, reduce_only, closeOnTrigger)\u001b[0m\n\u001b[0;32m    391\u001b[0m \u001b[38;5;28;01mtry\u001b[39;00m:\n\u001b[1;32m--> 392\u001b[0m     order_id \u001b[38;5;241m=\u001b[39m \u001b[43mresponse\u001b[49m\u001b[43m[\u001b[49m\u001b[38;5;124;43m\"\u001b[39;49m\u001b[38;5;124;43mdata\u001b[39;49m\u001b[38;5;124;43m\"\u001b[39;49m\u001b[43m]\u001b[49m\u001b[43m[\u001b[49m\u001b[38;5;124;43m\"\u001b[39;49m\u001b[38;5;124;43morderId\u001b[39;49m\u001b[38;5;124;43m\"\u001b[39;49m\u001b[43m]\u001b[49m\n\u001b[0;32m    393\u001b[0m     \u001b[38;5;28;01mreturn\u001b[39;00m order_id\n",
            "\u001b[1;31mKeyError\u001b[0m: 'orderId'",
            "\nDuring handling of the above exception, another exception occurred:\n",
            "\u001b[1;31mException\u001b[0m                                 Traceback (most recent call last)",
            "Cell \u001b[1;32mIn[13], line 1\u001b[0m\n\u001b[1;32m----> 1\u001b[0m \u001b[43mmufex_test\u001b[49m\u001b[38;5;241;43m.\u001b[39;49m\u001b[43mcreate_order\u001b[49m\u001b[43m(\u001b[49m\n\u001b[0;32m      2\u001b[0m \u001b[43m    \u001b[49m\u001b[43msymbol\u001b[49m\u001b[38;5;241;43m=\u001b[39;49m\u001b[43msymbol\u001b[49m\u001b[43m,\u001b[49m\n\u001b[0;32m      3\u001b[0m \u001b[43m    \u001b[49m\u001b[43mposition_mode\u001b[49m\u001b[38;5;241;43m=\u001b[39;49m\u001b[43mPositionModeType\u001b[49m\u001b[38;5;241;43m.\u001b[39;49m\u001b[43mBuySide\u001b[49m\u001b[43m,\u001b[49m\n\u001b[0;32m      4\u001b[0m \u001b[43m    \u001b[49m\u001b[43mbuy_sell\u001b[49m\u001b[38;5;241;43m=\u001b[39;49m\u001b[38;5;124;43m\"\u001b[39;49m\u001b[38;5;124;43mBuy\u001b[39;49m\u001b[38;5;124;43m\"\u001b[39;49m\u001b[43m,\u001b[49m\n\u001b[0;32m      5\u001b[0m \u001b[43m    \u001b[49m\u001b[43morder_type\u001b[49m\u001b[38;5;241;43m=\u001b[39;49m\u001b[38;5;124;43m\"\u001b[39;49m\u001b[38;5;124;43mMarket\u001b[39;49m\u001b[38;5;124;43m\"\u001b[39;49m\u001b[43m,\u001b[49m\n\u001b[0;32m      6\u001b[0m \u001b[43m    \u001b[49m\u001b[43masset_size\u001b[49m\u001b[38;5;241;43m=\u001b[39;49m\u001b[38;5;241;43m.05\u001b[39;49m\u001b[43m,\u001b[49m\n\u001b[0;32m      7\u001b[0m \u001b[43m    \u001b[49m\u001b[43mtime_in_force\u001b[49m\u001b[38;5;241;43m=\u001b[39;49m\u001b[38;5;124;43m\"\u001b[39;49m\u001b[38;5;124;43mGoodTillCancel\u001b[39;49m\u001b[38;5;124;43m\"\u001b[39;49m\u001b[43m,\u001b[49m\n\u001b[0;32m      8\u001b[0m \u001b[43m    \u001b[49m\n\u001b[0;32m      9\u001b[0m \u001b[43m)\u001b[49m\n",
            "File \u001b[1;32mE:\\coding\\quantfreedom\\quantfreedom\\exchanges\\mufex_exchange\\mufex.py:395\u001b[0m, in \u001b[0;36mMufex.create_order\u001b[1;34m(self, symbol, buy_sell, position_mode, order_type, asset_size, time_in_force, price, triggerDirection, triggerPrice, triggerBy, tpTriggerBy, slTriggerBy, custom_order_id, takeProfit, stopLoss, reduce_only, closeOnTrigger)\u001b[0m\n\u001b[0;32m    393\u001b[0m     \u001b[38;5;28;01mreturn\u001b[39;00m order_id\n\u001b[0;32m    394\u001b[0m \u001b[38;5;28;01mexcept\u001b[39;00m \u001b[38;5;167;01mException\u001b[39;00m \u001b[38;5;28;01mas\u001b[39;00m e:\n\u001b[1;32m--> 395\u001b[0m     \u001b[38;5;28;01mraise\u001b[39;00m \u001b[38;5;167;01mException\u001b[39;00m(\u001b[38;5;124mf\u001b[39m\u001b[38;5;124m\"\u001b[39m\u001b[38;5;124mMufex create_order \u001b[39m\u001b[38;5;132;01m{\u001b[39;00mresponse[\u001b[38;5;124m'\u001b[39m\u001b[38;5;124mmessage\u001b[39m\u001b[38;5;124m'\u001b[39m]\u001b[38;5;132;01m}\u001b[39;00m\u001b[38;5;124m -> \u001b[39m\u001b[38;5;132;01m{\u001b[39;00me\u001b[38;5;132;01m}\u001b[39;00m\u001b[38;5;124m\"\u001b[39m)\n",
            "\u001b[1;31mException\u001b[0m: Mufex create_order trading banned: trade offline -> 'orderId'"
          ]
        }
      ],
      "source": [
        "mufex_test.create_order(\n",
        "    symbol=symbol,\n",
        "    position_mode=PositionModeType.BuySide,\n",
        "    buy_sell=\"Buy\",\n",
        "    order_type=\"Market\",\n",
        "    asset_size=.05,\n",
        "    time_in_force=\"GoodTillCancel\",\n",
        "    \n",
        ")"
      ]
    },
    {
      "cell_type": "code",
      "execution_count": null,
      "metadata": {},
      "outputs": [],
      "source": [
        "mufex_test.create_order(\n",
        "    symbol=symbol,\n",
        "    position_mode=PositionModeType.SellSide,\n",
        "    buy_sell=\"Sell\",\n",
        "    order_type=\"Market\",\n",
        "    asset_size=.05,\n",
        "    time_in_force=\"GoodTillCancel\",\n",
        "    stopLoss=74000\n",
        ")"
      ]
    },
    {
      "cell_type": "code",
      "execution_count": null,
      "metadata": {},
      "outputs": [],
      "source": [
        "mufex_test.sort_list_of_dicts(mufex_test.get_position_info(symbol=symbol))"
      ]
    }
  ],
  "metadata": {
    "kernelspec": {
      "display_name": "qfFree",
      "language": "python",
      "name": "python3"
    },
    "language_info": {
      "codemirror_mode": {
        "name": "ipython",
        "version": 3
      },
      "file_extension": ".py",
      "mimetype": "text/x-python",
      "name": "python",
      "nbconvert_exporter": "python",
      "pygments_lexer": "ipython3",
      "version": "3.10.10"
    },
    "orig_nbformat": 4
  },
  "nbformat": 4,
  "nbformat_minor": 2
}
