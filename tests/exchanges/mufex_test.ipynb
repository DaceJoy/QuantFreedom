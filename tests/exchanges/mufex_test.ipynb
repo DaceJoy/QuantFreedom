{
  "cells": [
    {
      "cell_type": "code",
      "execution_count": 1,
      "metadata": {},
      "outputs": [],
      "source": [
        "import sys, os\n",
        "sys.path.insert(0, os.path.abspath(\"E:\\Coding\\my_stuff\"))\n",
        "from my_keys import MufexKeys # type: ignore\n",
        "\n",
        "import numpy as np\n",
        "import pandas as pd\n",
        "from quantfreedom.exchanges.mufex_exchange.mufex import Mufex\n",
        "from quantfreedom.helper_funcs import candles_to_df\n",
        "from quantfreedom.enums import PositionModeType, LeverageModeType\n",
        "\n",
        "\n",
        "np.set_printoptions(formatter={\"float_kind\": \"{:0.1f}\".format})\n",
        "\n",
        "symbol = 'BTCUSDT'\n",
        "trading_with = 'USDT'\n",
        "\n",
        "\n",
        "%load_ext autoreload\n",
        "%autoreload 2"
      ]
    },
    {
      "cell_type": "code",
      "execution_count": null,
      "metadata": {},
      "outputs": [],
      "source": [
        "MufexKeys.mainnet_neo_api_key"
      ]
    },
    {
      "cell_type": "code",
      "execution_count": 2,
      "metadata": {},
      "outputs": [],
      "source": [
        "mufex_main = Mufex(\n",
        "    api_key=MufexKeys.mainnet_neo_api_key,\n",
        "    secret_key=MufexKeys.mainnet_neo_secret_key,\n",
        "    use_test_net=False\n",
        ")\n",
        "mufex_test = Mufex(\n",
        "    api_key=MufexKeys.testnet_neo_api_key,\n",
        "    secret_key=MufexKeys.testnet_neo_secret_key,\n",
        "    use_test_net=True\n",
        ")"
      ]
    },
    {
      "cell_type": "code",
      "execution_count": 3,
      "metadata": {},
      "outputs": [
        {
          "data": {
            "text/plain": [
              "ExchangeSettings(asset_tick_step=3, leverage_mode=1, leverage_tick_step=2, limit_fee_pct=0.0003, market_fee_pct=0.0009, max_asset_size=100.0, max_leverage=150.0, min_asset_size=0.001, min_leverage=1.0, mmr_pct=0.004, position_mode=3, price_tick_step=1)"
            ]
          },
          "execution_count": 3,
          "metadata": {},
          "output_type": "execute_result"
        }
      ],
      "source": [
        "mufex_test.set_and_get_exchange_settings(\n",
        "    symbol = 'BTCUSDT',\n",
        "    position_mode= PositionModeType.HedgeMode,\n",
        "    leverage_mode= LeverageModeType.Isolated,\n",
        ")"
      ]
    },
    {
      "cell_type": "code",
      "execution_count": 4,
      "metadata": {},
      "outputs": [
        {
          "data": {
            "text/plain": [
              "array([[1706148000000.0, 39975.6, 40063.6, 39970.8, 40013.8, 78.0],\n",
              "       [1706149800000.0, 40013.8, 40020.0, 39900.9, 39931.7, 104.9],\n",
              "       [1706151600000.0, 39931.7, 40096.7, 39922.2, 40055.8, 105.2],\n",
              "       ...,\n",
              "       [1711542600000.0, 70236.9, 70327.7, 70064.6, 70255.6, 246.8],\n",
              "       [1711544400000.0, 70255.6, 71759.3, 70247.5, 71742.0, 1927.8],\n",
              "       [1711546200000.0, 71742.0, 71835.2, 69680.7, 69935.2, 2926.6]])"
            ]
          },
          "execution_count": 4,
          "metadata": {},
          "output_type": "execute_result"
        }
      ],
      "source": [
        "mufex_main.get_candles(\n",
        "    symbol = 'BTCUSDT',\n",
        "    timeframe = '30m',\n",
        "    candles_to_dl = 3000,\n",
        "    # since_datetime = datetime(2021, 1, 1)\n",
        "    # until_datetime = datetime(2021, 1, 1)\n",
        ")"
      ]
    },
    {
      "cell_type": "code",
      "execution_count": 4,
      "metadata": {},
      "outputs": [
        {
          "data": {
            "text/plain": [
              "'aae7e841-3ee7-49d7-a35c-772bc86d658a'"
            ]
          },
          "execution_count": 4,
          "metadata": {},
          "output_type": "execute_result"
        }
      ],
      "source": [
        "mufex_test.create_order(\n",
        "    symbol=symbol,\n",
        "    position_mode=PositionModeType.BuySide,\n",
        "    buy_sell=\"Buy\",\n",
        "    order_type=\"Market\",\n",
        "    asset_size=.05,\n",
        "    time_in_force=\"GoodTillCancel\",\n",
        "    \n",
        ")"
      ]
    },
    {
      "cell_type": "code",
      "execution_count": 8,
      "metadata": {},
      "outputs": [
        {
          "data": {
            "text/plain": [
              "'91f32325-98a6-43b1-8b25-b5a9c4e096d1'"
            ]
          },
          "execution_count": 8,
          "metadata": {},
          "output_type": "execute_result"
        }
      ],
      "source": [
        "mufex_test.create_order(\n",
        "    symbol=symbol,\n",
        "    position_mode=PositionModeType.SellSide,\n",
        "    buy_sell=\"Sell\",\n",
        "    order_type=\"Market\",\n",
        "    asset_size=.05,\n",
        "    time_in_force=\"GoodTillCancel\",\n",
        "    stopLoss=74000\n",
        ")"
      ]
    },
    {
      "cell_type": "code",
      "execution_count": 14,
      "metadata": {},
      "outputs": [
        {
          "data": {
            "text/plain": [
              "[{'activePrice': '0.0',\n",
              "  'autoAddMargin': 0,\n",
              "  'bustPrice': '0.0',\n",
              "  'createdTime': '1711214575165',\n",
              "  'cumRealisedPnl': '85967.80732994',\n",
              "  'entryPrice': '0',\n",
              "  'leverage': '2',\n",
              "  'liqPrice': '0.0',\n",
              "  'markPrice': '65671.9',\n",
              "  'positionBalance': '0',\n",
              "  'positionIdx': 1,\n",
              "  'positionIm': '',\n",
              "  'positionMm': '',\n",
              "  'positionStatus': 'Normal',\n",
              "  'positionValue': '0',\n",
              "  'riskId': '1',\n",
              "  'riskLimitValue': '30000000',\n",
              "  'sessionAvgPrice': '0.0',\n",
              "  'side': 'Buy',\n",
              "  'size': '0.000',\n",
              "  'stopLoss': '0.0',\n",
              "  'symbol': 'BTCUSDT',\n",
              "  'takeProfit': '0.0',\n",
              "  'tpSlMode': 'Full',\n",
              "  'tradeMode': 1,\n",
              "  'trailingStop': '0.0',\n",
              "  'unrealisedPnl': '0',\n",
              "  'updatedTime': '1711293435221'},\n",
              " {'activePrice': '0.0',\n",
              "  'autoAddMargin': 0,\n",
              "  'bustPrice': '96054.9',\n",
              "  'createdTime': '1711284653457',\n",
              "  'cumRealisedPnl': '-26653.11602204',\n",
              "  'entryPrice': '64036.64518184',\n",
              "  'leverage': '2',\n",
              "  'liqPrice': '95798.8',\n",
              "  'markPrice': '68153.2',\n",
              "  'positionBalance': '20011.45161925',\n",
              "  'positionIdx': 2,\n",
              "  'positionIm': '',\n",
              "  'positionMm': '',\n",
              "  'positionStatus': 'Normal',\n",
              "  'positionValue': '40022.90323876',\n",
              "  'riskId': '1',\n",
              "  'riskLimitValue': '30000000',\n",
              "  'sessionAvgPrice': '0.0',\n",
              "  'side': 'Sell',\n",
              "  'size': '0.625',\n",
              "  'stopLoss': '0.0',\n",
              "  'symbol': 'BTCUSDT',\n",
              "  'takeProfit': '0.0',\n",
              "  'tpSlMode': 'Full',\n",
              "  'tradeMode': 1,\n",
              "  'trailingStop': '0.0',\n",
              "  'unrealisedPnl': '-2572.84676124',\n",
              "  'updatedTime': '1711295835594'}]"
            ]
          },
          "execution_count": 14,
          "metadata": {},
          "output_type": "execute_result"
        }
      ],
      "source": [
        "mufex_test.sort_list_of_dicts(mufex_test.get_position_info(symbol=symbol))"
      ]
    }
  ],
  "metadata": {
    "kernelspec": {
      "display_name": "qfFree",
      "language": "python",
      "name": "python3"
    },
    "language_info": {
      "codemirror_mode": {
        "name": "ipython",
        "version": 3
      },
      "file_extension": ".py",
      "mimetype": "text/x-python",
      "name": "python",
      "nbconvert_exporter": "python",
      "pygments_lexer": "ipython3",
      "version": "3.10.10"
    },
    "orig_nbformat": 4
  },
  "nbformat": 4,
  "nbformat_minor": 2
}
