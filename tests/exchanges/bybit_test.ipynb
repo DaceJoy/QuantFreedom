{
  "cells": [
    {
      "cell_type": "code",
      "execution_count": 1,
      "metadata": {},
      "outputs": [],
      "source": [
        "import numpy as np\n",
        "from env import BybitKeys\n",
        "from quantfreedom.exchanges.bybit_exchange.bybit import Bybit\n",
        "import websocket\n",
        "import json\n",
        "\n",
        "np.set_printoptions(formatter={\"float_kind\": \"{:0.1f}\".format})\n",
        "\n",
        "bybit_test = Bybit(\n",
        "    api_key=BybitKeys.testnet_api_key,\n",
        "    secret_key=BybitKeys.testnet_secret_key,\n",
        "    use_test_net=True,\n",
        ")\n",
        "bybit_main = Bybit(use_test_net=False)\n",
        "\n",
        "symbol = \"BTCUSDT\"\n",
        "trading_with = \"USDT\"\n",
        "\n",
        "%load_ext autoreload\n",
        "%autoreload 2"
      ]
    },
    {
      "cell_type": "code",
      "execution_count": 10,
      "metadata": {},
      "outputs": [
        {
          "data": {
            "text/plain": [
              "62680.264478870005"
            ]
          },
          "execution_count": 10,
          "metadata": {},
          "output_type": "execute_result"
        }
      ],
      "source": [
        "bybit_test.get_no_fees_balance_of_asset_market_in_only(trading_with=trading_with,symbol=symbol)"
      ]
    },
    {
      "cell_type": "code",
      "execution_count": 3,
      "metadata": {},
      "outputs": [
        {
          "data": {
            "text/plain": [
              "[{'adlRankIndicator': 2,\n",
              "  'autoAddMargin': 0,\n",
              "  'avgPrice': '65516',\n",
              "  'bustPrice': '',\n",
              "  'createdTime': '0',\n",
              "  'cumRealisedPnl': '296.37326607',\n",
              "  'curRealisedPnl': '-18.0169',\n",
              "  'isReduceOnly': False,\n",
              "  'leverage': '5',\n",
              "  'leverageSysUpdatedTime': '',\n",
              "  'liqPrice': '52740.4',\n",
              "  'markPrice': '65563.5',\n",
              "  'mmrSysUpdatedTime': '',\n",
              "  'positionBalance': '6566.01352',\n",
              "  'positionIM': '6566.01352',\n",
              "  'positionIdx': 1,\n",
              "  'positionMM': '178.20352',\n",
              "  'positionStatus': 'Normal',\n",
              "  'positionValue': '32758',\n",
              "  'riskId': 1,\n",
              "  'riskLimitValue': '2000000',\n",
              "  'seq': 9070963335,\n",
              "  'sessionAvgPrice': '',\n",
              "  'side': 'Buy',\n",
              "  'size': '0.5',\n",
              "  'stopLoss': '',\n",
              "  'symbol': 'BTCUSDT',\n",
              "  'takeProfit': '',\n",
              "  'tpslMode': 'Full',\n",
              "  'tradeMode': 0,\n",
              "  'trailingStop': '0',\n",
              "  'unrealisedPnl': '23.75',\n",
              "  'updatedTime': '1711283571724'},\n",
              " {'adlRankIndicator': 0,\n",
              "  'autoAddMargin': 0,\n",
              "  'avgPrice': '0',\n",
              "  'bustPrice': '',\n",
              "  'createdTime': '0',\n",
              "  'cumRealisedPnl': '0',\n",
              "  'curRealisedPnl': '0',\n",
              "  'isReduceOnly': False,\n",
              "  'leverage': '5',\n",
              "  'leverageSysUpdatedTime': '',\n",
              "  'liqPrice': '',\n",
              "  'markPrice': '65563.5',\n",
              "  'mmrSysUpdatedTime': '',\n",
              "  'positionBalance': '0',\n",
              "  'positionIM': '0',\n",
              "  'positionIdx': 2,\n",
              "  'positionMM': '0',\n",
              "  'positionStatus': 'Normal',\n",
              "  'positionValue': '',\n",
              "  'riskId': 1,\n",
              "  'riskLimitValue': '2000000',\n",
              "  'seq': 0,\n",
              "  'sessionAvgPrice': '',\n",
              "  'side': '',\n",
              "  'size': '0',\n",
              "  'stopLoss': '',\n",
              "  'symbol': 'BTCUSDT',\n",
              "  'takeProfit': '',\n",
              "  'tpslMode': 'Full',\n",
              "  'tradeMode': 0,\n",
              "  'trailingStop': '0',\n",
              "  'unrealisedPnl': '',\n",
              "  'updatedTime': '1711198760549'}]"
            ]
          },
          "execution_count": 3,
          "metadata": {},
          "output_type": "execute_result"
        }
      ],
      "source": [
        "bybit_test.sort_list_of_dicts(bybit_test.get_position_info(symbol=symbol))"
      ]
    },
    {
      "cell_type": "code",
      "execution_count": 3,
      "metadata": {},
      "outputs": [
        {
          "data": {
            "text/plain": [
              "17.91834"
            ]
          },
          "execution_count": 3,
          "metadata": {},
          "output_type": "execute_result"
        }
      ],
      "source": [
        "25.17352663 - 7.25518663"
      ]
    },
    {
      "cell_type": "code",
      "execution_count": 4,
      "metadata": {},
      "outputs": [],
      "source": [
        "no_pos = bybit_test.get_wallet_info()"
      ]
    },
    {
      "cell_type": "code",
      "execution_count": 5,
      "metadata": {},
      "outputs": [],
      "source": [
        "coins = bybit_test.get_wallet_info()[0]['coin']"
      ]
    },
    {
      "cell_type": "code",
      "execution_count": 12,
      "metadata": {},
      "outputs": [
        {
          "data": {
            "text/plain": [
              "[{'availableToBorrow': '',\n",
              "  'bonus': '0',\n",
              "  'accruedInterest': '0',\n",
              "  'availableToWithdraw': '2',\n",
              "  'totalOrderIM': '0',\n",
              "  'equity': '2',\n",
              "  'totalPositionMM': '0',\n",
              "  'usdValue': '131657.269614',\n",
              "  'unrealisedPnl': '0',\n",
              "  'collateralSwitch': False,\n",
              "  'spotHedgingQty': '0',\n",
              "  'borrowAmount': '0',\n",
              "  'totalPositionIM': '0',\n",
              "  'walletBalance': '2',\n",
              "  'cumRealisedPnl': '0',\n",
              "  'locked': '0',\n",
              "  'marginCollateral': True,\n",
              "  'coin': 'BTC'},\n",
              " {'availableToBorrow': '',\n",
              "  'bonus': '0',\n",
              "  'accruedInterest': '0',\n",
              "  'availableToWithdraw': '61352.59465588',\n",
              "  'totalOrderIM': '0',\n",
              "  'equity': '62730.80046388',\n",
              "  'totalPositionMM': '35.431808',\n",
              "  'usdValue': '62735.25435071',\n",
              "  'unrealisedPnl': '72.7',\n",
              "  'collateralSwitch': True,\n",
              "  'spotHedgingQty': '0',\n",
              "  'borrowAmount': '0',\n",
              "  'totalPositionIM': '1305.505808',\n",
              "  'walletBalance': '62658.10046388',\n",
              "  'cumRealisedPnl': '292.22615108',\n",
              "  'locked': '0',\n",
              "  'marginCollateral': True,\n",
              "  'coin': 'USDT'}]"
            ]
          },
          "execution_count": 12,
          "metadata": {},
          "output_type": "execute_result"
        }
      ],
      "source": [
        "coins"
      ]
    },
    {
      "cell_type": "code",
      "execution_count": 6,
      "metadata": {},
      "outputs": [
        {
          "data": {
            "text/plain": [
              "'62658.10046388'"
            ]
          },
          "execution_count": 6,
          "metadata": {},
          "output_type": "execute_result"
        }
      ],
      "source": [
        "for coin in coins:\n",
        "    if coin['coin'] == 'USDT':\n",
        "        wallet_balance = coin['walletBalance']\n",
        "        break\n",
        "wallet_balance"
      ]
    },
    {
      "cell_type": "code",
      "execution_count": 11,
      "metadata": {},
      "outputs": [
        {
          "data": {
            "text/plain": [
              "62661.68272388"
            ]
          },
          "execution_count": 11,
          "metadata": {},
          "output_type": "execute_result"
        }
      ],
      "source": [
        "bybit_test.get_no_fees_balance_of_asset(trading_with=trading_with, symbol=symbol)"
      ]
    },
    {
      "cell_type": "code",
      "execution_count": 8,
      "metadata": {},
      "outputs": [
        {
          "data": {
            "text/plain": [
              "46.697079"
            ]
          },
          "execution_count": 8,
          "metadata": {},
          "output_type": "execute_result"
        }
      ],
      "source": [
        "84903.78 * .000550"
      ]
    }
  ],
  "metadata": {
    "kernelspec": {
      "display_name": "qfFree",
      "language": "python",
      "name": "python3"
    },
    "language_info": {
      "codemirror_mode": {
        "name": "ipython",
        "version": 3
      },
      "file_extension": ".py",
      "mimetype": "text/x-python",
      "name": "python",
      "nbconvert_exporter": "python",
      "pygments_lexer": "ipython3",
      "version": "3.10.10"
    },
    "orig_nbformat": 4
  },
  "nbformat": 4,
  "nbformat_minor": 2
}
