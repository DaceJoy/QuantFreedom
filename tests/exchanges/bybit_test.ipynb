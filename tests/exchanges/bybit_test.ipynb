{
  "cells": [
    {
      "cell_type": "code",
      "execution_count": null,
      "metadata": {},
      "outputs": [],
      "source": [
        "import numpy as np\n",
        "from my_keys import BybitKeys\n",
        "from quantfreedom.exchanges.bybit import Bybit\n",
        "import websocket\n",
        "import json\n",
        "from quantfreedom.helpers.helper_funcs import candles_to_df\n",
        "from quantfreedom.core.enums import PositionModeType\n",
        "\n",
        "\n",
        "np.set_printoptions(formatter={\"float_kind\": \"{:0.1f}\".format})\n",
        "\n",
        "bybit_test = Bybit(\n",
        "    api_key=BybitKeys.testnet_levon_api_key,\n",
        "    secret_key=BybitKeys.testnet_levon_secret_key,\n",
        "    use_testnet=True,\n",
        ")\n",
        "bybit_main = Bybit(use_testnet=False)\n",
        "\n",
        "symbol = \"BTCUSDT\"\n",
        "trading_with = \"USDT\"\n",
        "\n",
        "%load_ext autoreload\n",
        "%autoreload 2"
      ]
    },
    {
      "cell_type": "code",
      "execution_count": null,
      "metadata": {},
      "outputs": [],
      "source": [
        "bybit_test.create_order(\n",
        "    symbol=symbol,\n",
        "    position_mode=PositionModeType.BuySide,\n",
        "    buy_sell=\"Sell\",\n",
        "    order_type=\"Market\",\n",
        "    asset_size=.506,\n",
        "    time_in_force=\"GTC\",\n",
        ")"
      ]
    },
    {
      "cell_type": "code",
      "execution_count": null,
      "metadata": {},
      "outputs": [],
      "source": [
        "bybit_test.sort_list_of_dicts(bybit_test.get_position_info(symbol=symbol))"
      ]
    }
  ],
  "metadata": {
    "kernelspec": {
      "display_name": "qfFree",
      "language": "python",
      "name": "python3"
    },
    "language_info": {
      "codemirror_mode": {
        "name": "ipython",
        "version": 3
      },
      "file_extension": ".py",
      "mimetype": "text/x-python",
      "name": "python",
      "nbconvert_exporter": "python",
      "pygments_lexer": "ipython3",
      "version": "3.10.10"
    },
    "orig_nbformat": 4
  },
  "nbformat": 4,
  "nbformat_minor": 2
}
