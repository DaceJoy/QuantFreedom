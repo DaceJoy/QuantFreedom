{
  "cells": [
    {
      "cell_type": "code",
      "execution_count": 2,
      "metadata": {},
      "outputs": [],
      "source": [
        "import numpy as np\n",
        "from my_stuff import BybitTestKeys\n",
        "from quantfreedom.exchanges.bybit_exchange.bybit import Bybit\n",
        "\n",
        "np.set_printoptions(formatter={\"float_kind\": \"{:0.1f}\".format})\n",
        "\n",
        "%load_ext autoreload\n",
        "%autoreload 2"
      ]
    },
    {
      "cell_type": "code",
      "execution_count": 3,
      "metadata": {},
      "outputs": [],
      "source": [
        "bybit_test = Bybit(\n",
        "    api_key=BybitTestKeys.api_key,\n",
        "    secret_key=BybitTestKeys.secret_key,\n",
        "    use_test_net=True\n",
        ")"
      ]
    },
    {
      "cell_type": "code",
      "execution_count": 14,
      "metadata": {},
      "outputs": [
        {
          "data": {
            "text/plain": [
              "'SUCCESS'"
            ]
          },
          "execution_count": 14,
          "metadata": {},
          "output_type": "execute_result"
        }
      ],
      "source": [
        "bybit_test.upgrade_to_unified_trading_account()"
      ]
    },
    {
      "cell_type": "code",
      "execution_count": 3,
      "metadata": {},
      "outputs": [
        {
          "data": {
            "text/plain": [
              "'bdb792ee-8348-49a8-905f-17aa646ff717'"
            ]
          },
          "execution_count": 3,
          "metadata": {},
          "output_type": "execute_result"
        }
      ],
      "source": [
        "bybit_test.create_long_hedge_mode_entry_market_order(\n",
        "    asset_size=0.01,\n",
        "    symbol=\"BTCUSDT\",\n",
        ")"
      ]
    },
    {
      "cell_type": "code",
      "execution_count": 6,
      "metadata": {},
      "outputs": [
        {
          "data": {
            "text/plain": [
              "'2278523a-2f6c-4e2b-bc7e-bcc3b987f224'"
            ]
          },
          "execution_count": 6,
          "metadata": {},
          "output_type": "execute_result"
        }
      ],
      "source": [
        "bybit_test.create_long_hedge_mode_sl_order(\n",
        "    asset_size=0.01,\n",
        "    symbol=\"BTCUSDT\",\n",
        "    trigger_price=45200,\n",
        ")"
      ]
    },
    {
      "cell_type": "code",
      "execution_count": 7,
      "metadata": {},
      "outputs": [
        {
          "data": {
            "text/plain": [
              "'36b5ab15-7230-42b0-be8b-59642b534d57'"
            ]
          },
          "execution_count": 7,
          "metadata": {},
          "output_type": "execute_result"
        }
      ],
      "source": [
        "bybit_test.create_long_hedge_mode_tp_limit_order(\n",
        "    asset_size=0.01,\n",
        "    symbol=\"BTCUSDT\",\n",
        "    tp_price=47600,\n",
        ")"
      ]
    },
    {
      "cell_type": "code",
      "execution_count": 10,
      "metadata": {},
      "outputs": [
        {
          "data": {
            "text/plain": [
              "True"
            ]
          },
          "execution_count": 10,
          "metadata": {},
          "output_type": "execute_result"
        }
      ],
      "source": [
        "bybit_test.set_position_mode(symbol=\"BTCUSDT\", position_mode=3)"
      ]
    },
    {
      "cell_type": "code",
      "execution_count": 9,
      "metadata": {},
      "outputs": [
        {
          "data": {
            "text/plain": [
              "{'id': 1,\n",
              " 'symbol': 'BTCUSDT',\n",
              " 'riskLimitValue': '2000000',\n",
              " 'maintenanceMargin': '0.005',\n",
              " 'initialMargin': '0.01',\n",
              " 'isLowestRisk': 1,\n",
              " 'maxLeverage': '100.00'}"
            ]
          },
          "execution_count": 9,
          "metadata": {},
          "output_type": "execute_result"
        }
      ],
      "source": [
        "bybit_test.get_risk_limit_info(symbol='BTCUSDT')"
      ]
    },
    {
      "cell_type": "code",
      "execution_count": 29,
      "metadata": {},
      "outputs": [
        {
          "ename": "AttributeError",
          "evalue": "'Bybit' object has no attribute '__get_mmr_pct'",
          "output_type": "error",
          "traceback": [
            "\u001b[1;31m---------------------------------------------------------------------------\u001b[0m",
            "\u001b[1;31mAttributeError\u001b[0m                            Traceback (most recent call last)",
            "Cell \u001b[1;32mIn[29], line 1\u001b[0m\n\u001b[1;32m----> 1\u001b[0m \u001b[43mbybit_test\u001b[49m\u001b[38;5;241;43m.\u001b[39;49m\u001b[43m__get_mmr_pct\u001b[49m(symbol\u001b[38;5;241m=\u001b[39m\u001b[38;5;124m'\u001b[39m\u001b[38;5;124mBTCUSDT\u001b[39m\u001b[38;5;124m'\u001b[39m)\n",
            "\u001b[1;31mAttributeError\u001b[0m: 'Bybit' object has no attribute '__get_mmr_pct'"
          ]
        }
      ],
      "source": [
        "bybit_test.__get_mmr_pct(symbol='BTCUSDT')"
      ]
    },
    {
      "cell_type": "code",
      "execution_count": 43,
      "metadata": {},
      "outputs": [
        {
          "data": {
            "text/plain": [
              "(0.00055, 0.0002)"
            ]
          },
          "execution_count": 43,
          "metadata": {},
          "output_type": "execute_result"
        }
      ],
      "source": [
        "bybit_test.get_fee_pcts(symbol='BTCUSDT')"
      ]
    },
    {
      "cell_type": "code",
      "execution_count": 39,
      "metadata": {},
      "outputs": [
        {
          "data": {
            "text/plain": [
              "[{'symbol': 'XVSUSDT', 'takerFeeRate': '0.00055', 'makerFeeRate': '0.0002'},\n",
              " {'symbol': 'MAGICUSDT', 'takerFeeRate': '0.00055', 'makerFeeRate': '0.0002'},\n",
              " {'symbol': 'ETH-28JUN24',\n",
              "  'takerFeeRate': '0.00055',\n",
              "  'makerFeeRate': '0.0002'},\n",
              " {'symbol': 'CROUSDT', 'takerFeeRate': '0.00055', 'makerFeeRate': '0.0002'},\n",
              " {'symbol': 'ETCUSDT', 'takerFeeRate': '0.00055', 'makerFeeRate': '0.0002'},\n",
              " {'symbol': 'XEMUSDT', 'takerFeeRate': '0.00055', 'makerFeeRate': '0.0002'},\n",
              " {'symbol': 'GASUSDT', 'takerFeeRate': '0.00055', 'makerFeeRate': '0.0002'},\n",
              " {'symbol': 'USDCUSDT', 'takerFeeRate': '0.00055', 'makerFeeRate': '0.0002'},\n",
              " {'symbol': 'FRONTUSDT', 'takerFeeRate': '0.00055', 'makerFeeRate': '0.0002'},\n",
              " {'symbol': 'GODSUSDT', 'takerFeeRate': '0.00055', 'makerFeeRate': '0.0002'},\n",
              " {'symbol': 'IMXUSDT', 'takerFeeRate': '0.00055', 'makerFeeRate': '0.0002'},\n",
              " {'symbol': 'SHIB1000USDT',\n",
              "  'takerFeeRate': '0.00055',\n",
              "  'makerFeeRate': '0.0002'},\n",
              " {'symbol': 'ALGOUSDT', 'takerFeeRate': '0.00055', 'makerFeeRate': '0.0002'},\n",
              " {'symbol': 'KEYUSDT', 'takerFeeRate': '0.00055', 'makerFeeRate': '0.0002'},\n",
              " {'symbol': 'KNCUSDT', 'takerFeeRate': '0.00055', 'makerFeeRate': '0.0002'},\n",
              " {'symbol': 'OMGUSDT', 'takerFeeRate': '0.00055', 'makerFeeRate': '0.0002'},\n",
              " {'symbol': 'QIUSDT', 'takerFeeRate': '0.00055', 'makerFeeRate': '0.0002'},\n",
              " {'symbol': 'PERPUSDT', 'takerFeeRate': '0.00055', 'makerFeeRate': '0.0002'},\n",
              " {'symbol': 'CELOUSDT', 'takerFeeRate': '0.00055', 'makerFeeRate': '0.0002'},\n",
              " {'symbol': 'SANDUSDT', 'takerFeeRate': '0.00055', 'makerFeeRate': '0.0002'},\n",
              " {'symbol': 'MDTUSDT', 'takerFeeRate': '0.00055', 'makerFeeRate': '0.0002'},\n",
              " {'symbol': 'STRAXUSDT', 'takerFeeRate': '0.00055', 'makerFeeRate': '0.0002'},\n",
              " {'symbol': 'LPTUSDT', 'takerFeeRate': '0.00055', 'makerFeeRate': '0.0002'},\n",
              " {'symbol': 'BTCUSD', 'takerFeeRate': '0.00055', 'makerFeeRate': '0.0002'},\n",
              " {'symbol': '1000BONKUSDT',\n",
              "  'takerFeeRate': '0.00055',\n",
              "  'makerFeeRate': '0.0002'},\n",
              " {'symbol': '1000LUNCUSDT',\n",
              "  'takerFeeRate': '0.00055',\n",
              "  'makerFeeRate': '0.0002'},\n",
              " {'symbol': 'TIAUSDT', 'takerFeeRate': '0.00055', 'makerFeeRate': '0.0002'},\n",
              " {'symbol': 'XMRUSDT', 'takerFeeRate': '0.00055', 'makerFeeRate': '0.0002'},\n",
              " {'symbol': 'ANKRUSDT', 'takerFeeRate': '0.00055', 'makerFeeRate': '0.0002'},\n",
              " {'symbol': '1CATUSDT', 'takerFeeRate': '0.00055', 'makerFeeRate': '0.0002'},\n",
              " {'symbol': 'AGIXUSDT', 'takerFeeRate': '0.00055', 'makerFeeRate': '0.0002'},\n",
              " {'symbol': 'ETHPERP', 'takerFeeRate': '0.00055', 'makerFeeRate': '0.0002'},\n",
              " {'symbol': 'AMBUSDT', 'takerFeeRate': '0.00055', 'makerFeeRate': '0.0002'},\n",
              " {'symbol': 'ANTUSDT', 'takerFeeRate': '0.00055', 'makerFeeRate': '0.0002'},\n",
              " {'symbol': 'COMPUSDT', 'takerFeeRate': '0.00055', 'makerFeeRate': '0.0002'},\n",
              " {'symbol': 'CTSIUSDT', 'takerFeeRate': '0.00055', 'makerFeeRate': '0.0002'},\n",
              " {'symbol': 'IOTXUSDT', 'takerFeeRate': '0.00055', 'makerFeeRate': '0.0002'},\n",
              " {'symbol': 'IDUSDT', 'takerFeeRate': '0.00055', 'makerFeeRate': '0.0002'},\n",
              " {'symbol': 'QTUMUSDT', 'takerFeeRate': '0.00055', 'makerFeeRate': '0.0002'},\n",
              " {'symbol': 'PHBUSDT', 'takerFeeRate': '0.00055', 'makerFeeRate': '0.0002'},\n",
              " {'symbol': 'ICPUSDT', 'takerFeeRate': '0.00055', 'makerFeeRate': '0.0002'},\n",
              " {'symbol': 'RDNTUSDT', 'takerFeeRate': '0.00055', 'makerFeeRate': '0.0002'},\n",
              " {'symbol': 'TOMIUSDT', 'takerFeeRate': '0.00055', 'makerFeeRate': '0.0002'},\n",
              " {'symbol': 'ADAUSDT', 'takerFeeRate': '0.00055', 'makerFeeRate': '0.0002'},\n",
              " {'symbol': 'RAYUSDT', 'takerFeeRate': '0.00055', 'makerFeeRate': '0.0002'},\n",
              " {'symbol': 'FITFIUSDT', 'takerFeeRate': '0.00055', 'makerFeeRate': '0.0002'},\n",
              " {'symbol': 'NFPUSDT', 'takerFeeRate': '0.00055', 'makerFeeRate': '0.0002'},\n",
              " {'symbol': 'GMTUSDT', 'takerFeeRate': '0.00055', 'makerFeeRate': '0.0002'},\n",
              " {'symbol': 'EDUUSDT', 'takerFeeRate': '0.00055', 'makerFeeRate': '0.0002'},\n",
              " {'symbol': 'TRXUSDT', 'takerFeeRate': '0.00055', 'makerFeeRate': '0.0002'},\n",
              " {'symbol': 'CAKEUSDT', 'takerFeeRate': '0.00055', 'makerFeeRate': '0.0002'},\n",
              " {'symbol': 'RIFUSDT', 'takerFeeRate': '0.00055', 'makerFeeRate': '0.0002'},\n",
              " {'symbol': 'SFPUSDT', 'takerFeeRate': '0.00055', 'makerFeeRate': '0.0002'},\n",
              " {'symbol': 'HNTUSDT', 'takerFeeRate': '0.00055', 'makerFeeRate': '0.0002'},\n",
              " {'symbol': '1000000VINUUSDT',\n",
              "  'takerFeeRate': '0.00055',\n",
              "  'makerFeeRate': '0.0002'},\n",
              " {'symbol': 'CVCUSDT', 'takerFeeRate': '0.00055', 'makerFeeRate': '0.0002'},\n",
              " {'symbol': 'NEOUSDT', 'takerFeeRate': '0.00055', 'makerFeeRate': '0.0002'},\n",
              " {'symbol': 'MANAUSD', 'takerFeeRate': '0.00055', 'makerFeeRate': '0.0002'},\n",
              " {'symbol': 'KSMUSDT', 'takerFeeRate': '0.00055', 'makerFeeRate': '0.0002'},\n",
              " {'symbol': 'SEIUSDT', 'takerFeeRate': '0.00055', 'makerFeeRate': '0.0002'},\n",
              " {'symbol': 'STGUSDT', 'takerFeeRate': '0.00055', 'makerFeeRate': '0.0002'},\n",
              " {'symbol': 'FXSUSDT', 'takerFeeRate': '0.00055', 'makerFeeRate': '0.0002'},\n",
              " {'symbol': 'IOSTUSDT', 'takerFeeRate': '0.00055', 'makerFeeRate': '0.0002'},\n",
              " {'symbol': 'BANDUSDT', 'takerFeeRate': '0.00055', 'makerFeeRate': '0.0002'},\n",
              " {'symbol': 'LITUSDT', 'takerFeeRate': '0.00055', 'makerFeeRate': '0.0002'},\n",
              " {'symbol': 'AGIUSDT', 'takerFeeRate': '0.00055', 'makerFeeRate': '0.0002'},\n",
              " {'symbol': 'HIGHUSDT', 'takerFeeRate': '0.00055', 'makerFeeRate': '0.0002'},\n",
              " {'symbol': 'MASKUSDT', 'takerFeeRate': '0.00055', 'makerFeeRate': '0.0002'},\n",
              " {'symbol': 'MINAUSDT', 'takerFeeRate': '0.00055', 'makerFeeRate': '0.0002'},\n",
              " {'symbol': '10000SATSUSDT',\n",
              "  'takerFeeRate': '0.00055',\n",
              "  'makerFeeRate': '0.0002'},\n",
              " {'symbol': 'HOOKUSDT', 'takerFeeRate': '0.00055', 'makerFeeRate': '0.0002'},\n",
              " {'symbol': 'AXSUSDT', 'takerFeeRate': '0.00055', 'makerFeeRate': '0.0002'},\n",
              " {'symbol': 'NMRUSDT', 'takerFeeRate': '0.00055', 'makerFeeRate': '0.0002'},\n",
              " {'symbol': 'BNBUSDT', 'takerFeeRate': '0.00055', 'makerFeeRate': '0.0002'},\n",
              " {'symbol': 'JSTUSDT', 'takerFeeRate': '0.00055', 'makerFeeRate': '0.0002'},\n",
              " {'symbol': 'BTC-27SEP24',\n",
              "  'takerFeeRate': '0.00055',\n",
              "  'makerFeeRate': '0.0002'},\n",
              " {'symbol': 'ADAUSD', 'takerFeeRate': '0.00055', 'makerFeeRate': '0.0002'},\n",
              " {'symbol': 'NKNUSDT', 'takerFeeRate': '0.00055', 'makerFeeRate': '0.0002'},\n",
              " {'symbol': 'BTC-23FEB24',\n",
              "  'takerFeeRate': '0.00055',\n",
              "  'makerFeeRate': '0.0002'},\n",
              " {'symbol': 'AXLUSDT', 'takerFeeRate': '0.00055', 'makerFeeRate': '0.0002'},\n",
              " {'symbol': 'FETUSDT', 'takerFeeRate': '0.00055', 'makerFeeRate': '0.0002'},\n",
              " {'symbol': 'CKBUSDT', 'takerFeeRate': '0.00055', 'makerFeeRate': '0.0002'},\n",
              " {'symbol': 'ACEUSDT', 'takerFeeRate': '0.00055', 'makerFeeRate': '0.0002'},\n",
              " {'symbol': 'TRUUSDT', 'takerFeeRate': '0.00055', 'makerFeeRate': '0.0002'},\n",
              " {'symbol': 'OPUSDT', 'takerFeeRate': '0.00055', 'makerFeeRate': '0.0002'},\n",
              " {'symbol': 'RADUSDT', 'takerFeeRate': '0.00055', 'makerFeeRate': '0.0002'},\n",
              " {'symbol': 'GPTUSDT', 'takerFeeRate': '0.00055', 'makerFeeRate': '0.0002'},\n",
              " {'symbol': 'FORTHUSDT', 'takerFeeRate': '0.00055', 'makerFeeRate': '0.0002'},\n",
              " {'symbol': 'CRVUSDT', 'takerFeeRate': '0.00055', 'makerFeeRate': '0.0002'},\n",
              " {'symbol': 'COREUSDT', 'takerFeeRate': '0.00055', 'makerFeeRate': '0.0002'},\n",
              " {'symbol': 'MAVUSDT', 'takerFeeRate': '0.00055', 'makerFeeRate': '0.0002'},\n",
              " {'symbol': 'SOLPERP', 'takerFeeRate': '0.00055', 'makerFeeRate': '0.0002'},\n",
              " {'symbol': 'NTRNUSDT', 'takerFeeRate': '0.00055', 'makerFeeRate': '0.0002'},\n",
              " {'symbol': 'AKROUSDT', 'takerFeeRate': '0.00055', 'makerFeeRate': '0.0002'},\n",
              " {'symbol': 'KASUSDT', 'takerFeeRate': '0.00055', 'makerFeeRate': '0.0002'},\n",
              " {'symbol': 'ARBUSDT', 'takerFeeRate': '0.00055', 'makerFeeRate': '0.0002'},\n",
              " {'symbol': 'ARPAUSDT', 'takerFeeRate': '0.00055', 'makerFeeRate': '0.0002'},\n",
              " {'symbol': 'ONGUSDT', 'takerFeeRate': '0.00055', 'makerFeeRate': '0.0002'},\n",
              " {'symbol': 'ONEUSDT', 'takerFeeRate': '0.00055', 'makerFeeRate': '0.0002'},\n",
              " {'symbol': 'ETH-23FEB24',\n",
              "  'takerFeeRate': '0.00055',\n",
              "  'makerFeeRate': '0.0002'},\n",
              " {'symbol': 'BSVUSDT', 'takerFeeRate': '0.00055', 'makerFeeRate': '0.0002'},\n",
              " {'symbol': 'XVGUSDT', 'takerFeeRate': '0.00055', 'makerFeeRate': '0.0002'},\n",
              " {'symbol': 'RLCUSDT', 'takerFeeRate': '0.00055', 'makerFeeRate': '0.0002'},\n",
              " {'symbol': 'XLMUSDT', 'takerFeeRate': '0.00055', 'makerFeeRate': '0.0002'},\n",
              " {'symbol': 'LOOMUSDT', 'takerFeeRate': '0.00055', 'makerFeeRate': '0.0002'},\n",
              " {'symbol': 'LTCUSDT', 'takerFeeRate': '0.00055', 'makerFeeRate': '0.0002'},\n",
              " {'symbol': 'VETUSDT', 'takerFeeRate': '0.00055', 'makerFeeRate': '0.0002'},\n",
              " {'symbol': 'ETHUSDH24', 'takerFeeRate': '0.00055', 'makerFeeRate': '0.0002'},\n",
              " {'symbol': 'ASTRUSDT', 'takerFeeRate': '0.00055', 'makerFeeRate': '0.0002'},\n",
              " {'symbol': 'TRBUSDT', 'takerFeeRate': '0.00055', 'makerFeeRate': '0.0002'},\n",
              " {'symbol': 'MATICPERP', 'takerFeeRate': '0.00055', 'makerFeeRate': '0.0002'},\n",
              " {'symbol': 'BAKEUSDT', 'takerFeeRate': '0.00055', 'makerFeeRate': '0.0002'},\n",
              " {'symbol': 'APTUSDT', 'takerFeeRate': '0.00055', 'makerFeeRate': '0.0002'},\n",
              " {'symbol': 'IOTAUSDT', 'takerFeeRate': '0.00055', 'makerFeeRate': '0.0002'},\n",
              " {'symbol': 'BELUSDT', 'takerFeeRate': '0.00055', 'makerFeeRate': '0.0002'},\n",
              " {'symbol': 'BATUSDT', 'takerFeeRate': '0.00055', 'makerFeeRate': '0.0002'},\n",
              " {'symbol': 'BONDUSDT', 'takerFeeRate': '0.00055', 'makerFeeRate': '0.0002'},\n",
              " {'symbol': 'APEUSDT', 'takerFeeRate': '0.00055', 'makerFeeRate': '0.0002'},\n",
              " {'symbol': 'DUSKUSDT', 'takerFeeRate': '0.00055', 'makerFeeRate': '0.0002'},\n",
              " {'symbol': 'CHZUSDT', 'takerFeeRate': '0.00055', 'makerFeeRate': '0.0002'},\n",
              " {'symbol': 'ZENUSDT', 'takerFeeRate': '0.00055', 'makerFeeRate': '0.0002'},\n",
              " {'symbol': 'XRPUSDT', 'takerFeeRate': '0.00055', 'makerFeeRate': '0.0002'},\n",
              " {'symbol': 'LUNA2USDT', 'takerFeeRate': '0.00055', 'makerFeeRate': '0.0002'},\n",
              " {'symbol': 'POWRUSDT', 'takerFeeRate': '0.00055', 'makerFeeRate': '0.0002'},\n",
              " {'symbol': 'MULTIUSDT', 'takerFeeRate': '0.00055', 'makerFeeRate': '0.0002'},\n",
              " {'symbol': '1000PEPEUSDT',\n",
              "  'takerFeeRate': '0.00055',\n",
              "  'makerFeeRate': '0.0002'},\n",
              " {'symbol': 'ATAUSDT', 'takerFeeRate': '0.00055', 'makerFeeRate': '0.0002'},\n",
              " {'symbol': 'ALICEUSDT', 'takerFeeRate': '0.00055', 'makerFeeRate': '0.0002'},\n",
              " {'symbol': 'DENTUSDT', 'takerFeeRate': '0.00055', 'makerFeeRate': '0.0002'},\n",
              " {'symbol': 'ETHUSDM24', 'takerFeeRate': '0.00055', 'makerFeeRate': '0.0002'},\n",
              " {'symbol': 'RUNEUSDT', 'takerFeeRate': '0.00055', 'makerFeeRate': '0.0002'},\n",
              " {'symbol': 'ENSUSDT', 'takerFeeRate': '0.00055', 'makerFeeRate': '0.0002'},\n",
              " {'symbol': 'ETH-26JAN24',\n",
              "  'takerFeeRate': '0.00055',\n",
              "  'makerFeeRate': '0.0002'},\n",
              " {'symbol': 'JTOUSDT', 'takerFeeRate': '0.00055', 'makerFeeRate': '0.0002'},\n",
              " {'symbol': 'WSMUSDT', 'takerFeeRate': '0.00055', 'makerFeeRate': '0.0002'},\n",
              " {'symbol': 'STPTUSDT', 'takerFeeRate': '0.00055', 'makerFeeRate': '0.0002'},\n",
              " {'symbol': 'ETH-12JAN24',\n",
              "  'takerFeeRate': '0.00055',\n",
              "  'makerFeeRate': '0.0002'},\n",
              " {'symbol': 'SKLUSDT', 'takerFeeRate': '0.00055', 'makerFeeRate': '0.0002'},\n",
              " {'symbol': 'MANAUSDT', 'takerFeeRate': '0.00055', 'makerFeeRate': '0.0002'},\n",
              " {'symbol': 'RPLUSDT', 'takerFeeRate': '0.00055', 'makerFeeRate': '0.0002'},\n",
              " {'symbol': 'BADGERUSDT', 'takerFeeRate': '0.00055', 'makerFeeRate': '0.0002'},\n",
              " {'symbol': 'DGBUSDT', 'takerFeeRate': '0.00055', 'makerFeeRate': '0.0002'},\n",
              " {'symbol': 'TOKENUSDT', 'takerFeeRate': '0.00055', 'makerFeeRate': '0.0002'},\n",
              " {'symbol': 'ZRXUSDT', 'takerFeeRate': '0.00055', 'makerFeeRate': '0.0002'},\n",
              " {'symbol': 'DODOUSDT', 'takerFeeRate': '0.00055', 'makerFeeRate': '0.0002'},\n",
              " {'symbol': 'PYTHUSDT', 'takerFeeRate': '0.00055', 'makerFeeRate': '0.0002'},\n",
              " {'symbol': 'ORDIUSDT', 'takerFeeRate': '0.00055', 'makerFeeRate': '0.0002'},\n",
              " {'symbol': 'ALPHAUSDT', 'takerFeeRate': '0.00055', 'makerFeeRate': '0.0002'},\n",
              " {'symbol': 'CEEKUSDT', 'takerFeeRate': '0.00055', 'makerFeeRate': '0.0002'},\n",
              " {'symbol': 'OXTUSDT', 'takerFeeRate': '0.00055', 'makerFeeRate': '0.0002'},\n",
              " {'symbol': 'ALPACAUSDT', 'takerFeeRate': '0.00055', 'makerFeeRate': '0.0002'},\n",
              " {'symbol': 'LTCUSD', 'takerFeeRate': '0.00055', 'makerFeeRate': '0.0002'},\n",
              " {'symbol': 'DOTUSD', 'takerFeeRate': '0.00055', 'makerFeeRate': '0.0002'},\n",
              " {'symbol': 'PAXGUSDT', 'takerFeeRate': '0.00055', 'makerFeeRate': '0.0002'},\n",
              " {'symbol': 'ICXUSDT', 'takerFeeRate': '0.00055', 'makerFeeRate': '0.0002'},\n",
              " {'symbol': 'MEMEUSDT', 'takerFeeRate': '0.00055', 'makerFeeRate': '0.0002'},\n",
              " {'symbol': 'LQTYUSDT', 'takerFeeRate': '0.00055', 'makerFeeRate': '0.0002'},\n",
              " {'symbol': 'YFIUSDT', 'takerFeeRate': '0.00055', 'makerFeeRate': '0.0002'},\n",
              " {'symbol': 'COTIUSDT', 'takerFeeRate': '0.00055', 'makerFeeRate': '0.0002'},\n",
              " {'symbol': 'LSKUSDT', 'takerFeeRate': '0.00055', 'makerFeeRate': '0.0002'},\n",
              " {'symbol': 'BTC-28JUN24',\n",
              "  'takerFeeRate': '0.00055',\n",
              "  'makerFeeRate': '0.0002'},\n",
              " {'symbol': 'BTC-26JAN24',\n",
              "  'takerFeeRate': '0.00055',\n",
              "  'makerFeeRate': '0.0002'},\n",
              " {'symbol': 'KLAYUSDT', 'takerFeeRate': '0.00055', 'makerFeeRate': '0.0002'},\n",
              " {'symbol': 'INJUSDT', 'takerFeeRate': '0.00055', 'makerFeeRate': '0.0002'},\n",
              " {'symbol': 'GMXUSDT', 'takerFeeRate': '0.00055', 'makerFeeRate': '0.0002'},\n",
              " {'symbol': 'BNTUSDT', 'takerFeeRate': '0.00055', 'makerFeeRate': '0.0002'},\n",
              " {'symbol': 'DOTUSDT', 'takerFeeRate': '0.00055', 'makerFeeRate': '0.0002'},\n",
              " {'symbol': 'CTKUSDT', 'takerFeeRate': '0.00055', 'makerFeeRate': '0.0002'},\n",
              " {'symbol': 'MOVRUSDT', 'takerFeeRate': '0.00055', 'makerFeeRate': '0.0002'},\n",
              " {'symbol': 'ETH-29MAR24',\n",
              "  'takerFeeRate': '0.00055',\n",
              "  'makerFeeRate': '0.0002'},\n",
              " {'symbol': 'SWEATUSDT', 'takerFeeRate': '0.00055', 'makerFeeRate': '0.0002'},\n",
              " {'symbol': 'UNIUSDT', 'takerFeeRate': '0.00055', 'makerFeeRate': '0.0002'},\n",
              " {'symbol': 'MKRUSDT', 'takerFeeRate': '0.00055', 'makerFeeRate': '0.0002'},\n",
              " {'symbol': 'DARUSDT', 'takerFeeRate': '0.00055', 'makerFeeRate': '0.0002'},\n",
              " {'symbol': 'PROMUSDT', 'takerFeeRate': '0.00055', 'makerFeeRate': '0.0002'},\n",
              " {'symbol': 'SUIUSDT', 'takerFeeRate': '0.00055', 'makerFeeRate': '0.0002'},\n",
              " {'symbol': 'SUSHIUSDT', 'takerFeeRate': '0.00055', 'makerFeeRate': '0.0002'},\n",
              " {'symbol': 'LINAUSDT', 'takerFeeRate': '0.00055', 'makerFeeRate': '0.0002'},\n",
              " {'symbol': 'WAVESUSDT', 'takerFeeRate': '0.00055', 'makerFeeRate': '0.0002'},\n",
              " {'symbol': 'XRDUSDT', 'takerFeeRate': '0.00055', 'makerFeeRate': '0.0002'},\n",
              " {'symbol': 'POLYXUSDT', 'takerFeeRate': '0.00055', 'makerFeeRate': '0.0002'},\n",
              " {'symbol': 'FLRUSDT', 'takerFeeRate': '0.00055', 'makerFeeRate': '0.0002'},\n",
              " {'symbol': 'HOTUSDT', 'takerFeeRate': '0.00055', 'makerFeeRate': '0.0002'},\n",
              " {'symbol': 'BEAMUSDT', 'takerFeeRate': '0.00055', 'makerFeeRate': '0.0002'},\n",
              " {'symbol': 'LOOKSUSDT', 'takerFeeRate': '0.00055', 'makerFeeRate': '0.0002'},\n",
              " {'symbol': 'OGUSDT', 'takerFeeRate': '0.00055', 'makerFeeRate': '0.0002'},\n",
              " {'symbol': 'AUDIOUSDT', 'takerFeeRate': '0.00055', 'makerFeeRate': '0.0002'},\n",
              " {'symbol': 'ZILUSDT', 'takerFeeRate': '0.00055', 'makerFeeRate': '0.0002'},\n",
              " {'symbol': 'SOLUSDT', 'takerFeeRate': '0.00055', 'makerFeeRate': '0.0002'},\n",
              " {'symbol': 'RSRUSDT', 'takerFeeRate': '0.00055', 'makerFeeRate': '0.0002'},\n",
              " {'symbol': 'SXPUSDT', 'takerFeeRate': '0.00055', 'makerFeeRate': '0.0002'},\n",
              " {'symbol': '1000FLOKIUSDT',\n",
              "  'takerFeeRate': '0.00055',\n",
              "  'makerFeeRate': '0.0002'},\n",
              " {'symbol': 'REEFUSDT', 'takerFeeRate': '0.00055', 'makerFeeRate': '0.0002'},\n",
              " {'symbol': 'EOSUSDT', 'takerFeeRate': '0.00055', 'makerFeeRate': '0.0002'},\n",
              " {'symbol': 'CTCUSDT', 'takerFeeRate': '0.00055', 'makerFeeRate': '0.0002'},\n",
              " {'symbol': 'PEOPLEUSDT', 'takerFeeRate': '0.00055', 'makerFeeRate': '0.0002'},\n",
              " {'symbol': 'MNTUSDT', 'takerFeeRate': '0.00055', 'makerFeeRate': '0.0002'},\n",
              " {'symbol': 'QNTUSDT', 'takerFeeRate': '0.00055', 'makerFeeRate': '0.0002'},\n",
              " {'symbol': 'ARUSDT', 'takerFeeRate': '0.00055', 'makerFeeRate': '0.0002'},\n",
              " {'symbol': 'TWTUSDT', 'takerFeeRate': '0.00055', 'makerFeeRate': '0.0002'},\n",
              " {'symbol': 'ORBSUSDT', 'takerFeeRate': '0.00055', 'makerFeeRate': '0.0002'},\n",
              " {'symbol': 'MTLUSDT', 'takerFeeRate': '0.00055', 'makerFeeRate': '0.0002'},\n",
              " {'symbol': 'SUNUSDT', 'takerFeeRate': '0.00055', 'makerFeeRate': '0.0002'},\n",
              " {'symbol': 'BTCUSDM24', 'takerFeeRate': '0.00055', 'makerFeeRate': '0.0002'},\n",
              " {'symbol': 'BTCUSDH24', 'takerFeeRate': '0.00055', 'makerFeeRate': '0.0002'},\n",
              " {'symbol': 'KAVAUSDT', 'takerFeeRate': '0.00055', 'makerFeeRate': '0.0002'},\n",
              " {'symbol': 'EGLDUSDT', 'takerFeeRate': '0.00055', 'makerFeeRate': '0.0002'},\n",
              " {'symbol': 'XTZUSDT', 'takerFeeRate': '0.00055', 'makerFeeRate': '0.0002'},\n",
              " {'symbol': 'METISUSDT', 'takerFeeRate': '0.00055', 'makerFeeRate': '0.0002'},\n",
              " {'symbol': '1000XECUSDT',\n",
              "  'takerFeeRate': '0.00055',\n",
              "  'makerFeeRate': '0.0002'},\n",
              " {'symbol': 'ETHUSD', 'takerFeeRate': '0.00055', 'makerFeeRate': '0.0002'},\n",
              " {'symbol': 'GLMUSDT', 'takerFeeRate': '0.00055', 'makerFeeRate': '0.0002'},\n",
              " {'symbol': 'BNXUSDT', 'takerFeeRate': '0.00055', 'makerFeeRate': '0.0002'},\n",
              " {'symbol': 'TLMUSDT', 'takerFeeRate': '0.00055', 'makerFeeRate': '0.0002'},\n",
              " {'symbol': '1000BTTUSDT',\n",
              "  'takerFeeRate': '0.00055',\n",
              "  'makerFeeRate': '0.0002'},\n",
              " {'symbol': 'LEVERUSDT', 'takerFeeRate': '0.00055', 'makerFeeRate': '0.0002'},\n",
              " {'symbol': 'WOOUSDT', 'takerFeeRate': '0.00055', 'makerFeeRate': '0.0002'},\n",
              " {'symbol': 'VGXUSDT', 'takerFeeRate': '0.00055', 'makerFeeRate': '0.0002'},\n",
              " {'symbol': 'IDEXUSDT', 'takerFeeRate': '0.00055', 'makerFeeRate': '0.0002'},\n",
              " {'symbol': 'BTC-19JAN24',\n",
              "  'takerFeeRate': '0.00055',\n",
              "  'makerFeeRate': '0.0002'},\n",
              " {'symbol': 'KDAUSDT', 'takerFeeRate': '0.00055', 'makerFeeRate': '0.0002'},\n",
              " {'symbol': 'THETAUSDT', 'takerFeeRate': '0.00055', 'makerFeeRate': '0.0002'},\n",
              " {'symbol': 'WLDUSDT', 'takerFeeRate': '0.00055', 'makerFeeRate': '0.0002'},\n",
              " {'symbol': 'BOBAUSDT', 'takerFeeRate': '0.00055', 'makerFeeRate': '0.0002'},\n",
              " {'symbol': 'SILLYUSDT', 'takerFeeRate': '0.00055', 'makerFeeRate': '0.0002'},\n",
              " {'symbol': 'BIGTIMEUSDT',\n",
              "  'takerFeeRate': '0.00055',\n",
              "  'makerFeeRate': '0.0002'},\n",
              " {'symbol': 'CELRUSDT', 'takerFeeRate': '0.00055', 'makerFeeRate': '0.0002'},\n",
              " {'symbol': 'API3USDT', 'takerFeeRate': '0.00055', 'makerFeeRate': '0.0002'},\n",
              " {'symbol': 'TUSDT', 'takerFeeRate': '0.00055', 'makerFeeRate': '0.0002'},\n",
              " {'symbol': 'GRTUSDT', 'takerFeeRate': '0.00055', 'makerFeeRate': '0.0002'},\n",
              " {'symbol': '10000LADYSUSDT',\n",
              "  'takerFeeRate': '0.00055',\n",
              "  'makerFeeRate': '0.0002'},\n",
              " {'symbol': 'BALUSDT', 'takerFeeRate': '0.00055', 'makerFeeRate': '0.0002'},\n",
              " {'symbol': 'OCEANUSDT', 'takerFeeRate': '0.00055', 'makerFeeRate': '0.0002'},\n",
              " {'symbol': 'AAVEUSDT', 'takerFeeRate': '0.00055', 'makerFeeRate': '0.0002'},\n",
              " {'symbol': 'CFXUSDT', 'takerFeeRate': '0.00055', 'makerFeeRate': '0.0002'},\n",
              " {'symbol': 'DYDXUSDT', 'takerFeeRate': '0.00055', 'makerFeeRate': '0.0002'},\n",
              " {'symbol': 'DOGEUSDT', 'takerFeeRate': '0.00055', 'makerFeeRate': '0.0002'},\n",
              " {'symbol': 'VRAUSDT', 'takerFeeRate': '0.00055', 'makerFeeRate': '0.0002'},\n",
              " {'symbol': 'FLMUSDT', 'takerFeeRate': '0.00055', 'makerFeeRate': '0.0002'},\n",
              " {'symbol': 'ATOMUSDT', 'takerFeeRate': '0.00055', 'makerFeeRate': '0.0002'},\n",
              " {'symbol': 'ARKMUSDT', 'takerFeeRate': '0.00055', 'makerFeeRate': '0.0002'},\n",
              " {'symbol': 'XRPUSD', 'takerFeeRate': '0.00055', 'makerFeeRate': '0.0002'},\n",
              " {'symbol': 'FUNUSDT', 'takerFeeRate': '0.00055', 'makerFeeRate': '0.0002'},\n",
              " {'symbol': 'DATAUSDT', 'takerFeeRate': '0.00055', 'makerFeeRate': '0.0002'},\n",
              " {'symbol': 'LINKUSDT', 'takerFeeRate': '0.00055', 'makerFeeRate': '0.0002'},\n",
              " {'symbol': 'YGGUSDT', 'takerFeeRate': '0.00055', 'makerFeeRate': '0.0002'},\n",
              " {'symbol': 'HBARUSDT', 'takerFeeRate': '0.00055', 'makerFeeRate': '0.0002'},\n",
              " {'symbol': 'ETHUSDT', 'takerFeeRate': '0.00055', 'makerFeeRate': '0.0002'},\n",
              " {'symbol': 'CYBERUSDT', 'takerFeeRate': '0.00055', 'makerFeeRate': '0.0002'},\n",
              " {'symbol': 'UMAUSDT', 'takerFeeRate': '0.00055', 'makerFeeRate': '0.0002'},\n",
              " {'symbol': 'BTC-29MAR24',\n",
              "  'takerFeeRate': '0.00055',\n",
              "  'makerFeeRate': '0.0002'},\n",
              " {'symbol': 'HIFIUSDT', 'takerFeeRate': '0.00055', 'makerFeeRate': '0.0002'},\n",
              " {'symbol': 'JASMYUSDT', 'takerFeeRate': '0.00055', 'makerFeeRate': '0.0002'},\n",
              " {'symbol': 'HFTUSDT', 'takerFeeRate': '0.00055', 'makerFeeRate': '0.0002'},\n",
              " {'symbol': 'LRCUSDT', 'takerFeeRate': '0.00055', 'makerFeeRate': '0.0002'},\n",
              " {'symbol': 'XRPPERP', 'takerFeeRate': '0.00055', 'makerFeeRate': '0.0002'},\n",
              " {'symbol': 'USTCUSDT', 'takerFeeRate': '0.00055', 'makerFeeRate': '0.0002'},\n",
              " {'symbol': 'GLMRUSDT', 'takerFeeRate': '0.00055', 'makerFeeRate': '0.0002'},\n",
              " {'symbol': '10000STARLUSDT',\n",
              "  'takerFeeRate': '0.00055',\n",
              "  'makerFeeRate': '0.0002'},\n",
              " {'symbol': 'RENUSDT', 'takerFeeRate': '0.00055', 'makerFeeRate': '0.0002'},\n",
              " {'symbol': 'ETHWUSDT', 'takerFeeRate': '0.00055', 'makerFeeRate': '0.0002'},\n",
              " {'symbol': 'MYRIAUSDT', 'takerFeeRate': '0.00055', 'makerFeeRate': '0.0002'},\n",
              " {'symbol': 'SLPUSDT', 'takerFeeRate': '0.00055', 'makerFeeRate': '0.0002'},\n",
              " {'symbol': 'BTCPERP', 'takerFeeRate': '0.00055', 'makerFeeRate': '0.0002'},\n",
              " {'symbol': 'STEEMUSDT', 'takerFeeRate': '0.00055', 'makerFeeRate': '0.0002'},\n",
              " {'symbol': 'SNTUSDT', 'takerFeeRate': '0.00055', 'makerFeeRate': '0.0002'},\n",
              " {'symbol': 'CVXUSDT', 'takerFeeRate': '0.00055', 'makerFeeRate': '0.0002'},\n",
              " {'symbol': 'BLURUSDT', 'takerFeeRate': '0.00055', 'makerFeeRate': '0.0002'},\n",
              " {'symbol': 'ILVUSDT', 'takerFeeRate': '0.00055', 'makerFeeRate': '0.0002'},\n",
              " {'symbol': 'GFTUSDT', 'takerFeeRate': '0.00055', 'makerFeeRate': '0.0002'},\n",
              " {'symbol': 'XNOUSDT', 'takerFeeRate': '0.00055', 'makerFeeRate': '0.0002'},\n",
              " {'symbol': 'C98USDT', 'takerFeeRate': '0.00055', 'makerFeeRate': '0.0002'},\n",
              " {'symbol': 'ENJUSDT', 'takerFeeRate': '0.00055', 'makerFeeRate': '0.0002'},\n",
              " {'symbol': 'FILUSDT', 'takerFeeRate': '0.00055', 'makerFeeRate': '0.0002'},\n",
              " {'symbol': 'BLZUSDT', 'takerFeeRate': '0.00055', 'makerFeeRate': '0.0002'},\n",
              " {'symbol': 'ETH-27SEP24',\n",
              "  'takerFeeRate': '0.00055',\n",
              "  'makerFeeRate': '0.0002'},\n",
              " {'symbol': '1000RATSUSDT',\n",
              "  'takerFeeRate': '0.00055',\n",
              "  'makerFeeRate': '0.0002'},\n",
              " {'symbol': 'LDOUSDT', 'takerFeeRate': '0.00055', 'makerFeeRate': '0.0002'},\n",
              " {'symbol': 'ZECUSDT', 'takerFeeRate': '0.00055', 'makerFeeRate': '0.0002'},\n",
              " {'symbol': 'STORJUSDT', 'takerFeeRate': '0.00055', 'makerFeeRate': '0.0002'},\n",
              " {'symbol': 'EOSUSD', 'takerFeeRate': '0.00055', 'makerFeeRate': '0.0002'},\n",
              " {'symbol': 'MATICUSDT', 'takerFeeRate': '0.00055', 'makerFeeRate': '0.0002'},\n",
              " {'symbol': 'OGNUSDT', 'takerFeeRate': '0.00055', 'makerFeeRate': '0.0002'},\n",
              " {'symbol': 'SUPERUSDT', 'takerFeeRate': '0.00055', 'makerFeeRate': '0.0002'},\n",
              " {'symbol': 'PENDLEUSDT', 'takerFeeRate': '0.00055', 'makerFeeRate': '0.0002'},\n",
              " {'symbol': 'WAXPUSDT', 'takerFeeRate': '0.00055', 'makerFeeRate': '0.0002'},\n",
              " {'symbol': 'TONUSDT', 'takerFeeRate': '0.00055', 'makerFeeRate': '0.0002'},\n",
              " {'symbol': 'GALAUSDT', 'takerFeeRate': '0.00055', 'makerFeeRate': '0.0002'},\n",
              " {'symbol': 'BTC-12JAN24',\n",
              "  'takerFeeRate': '0.00055',\n",
              "  'makerFeeRate': '0.0002'},\n",
              " {'symbol': 'SNXUSDT', 'takerFeeRate': '0.00055', 'makerFeeRate': '0.0002'},\n",
              " {'symbol': '10000NFTUSDT',\n",
              "  'takerFeeRate': '0.00055',\n",
              "  'makerFeeRate': '0.0002'},\n",
              " {'symbol': 'ROSEUSDT', 'takerFeeRate': '0.00055', 'makerFeeRate': '0.0002'},\n",
              " {'symbol': '1INCHUSDT', 'takerFeeRate': '0.00055', 'makerFeeRate': '0.0002'},\n",
              " {'symbol': 'FTMUSDT', 'takerFeeRate': '0.00055', 'makerFeeRate': '0.0002'},\n",
              " {'symbol': 'BTCUSDT', 'takerFeeRate': '0.00055', 'makerFeeRate': '0.0002'},\n",
              " {'symbol': 'AERGOUSDT', 'takerFeeRate': '0.00055', 'makerFeeRate': '0.0002'},\n",
              " {'symbol': 'JOEUSDT', 'takerFeeRate': '0.00055', 'makerFeeRate': '0.0002'},\n",
              " {'symbol': 'NEARUSDT', 'takerFeeRate': '0.00055', 'makerFeeRate': '0.0002'},\n",
              " {'symbol': 'ARKUSDT', 'takerFeeRate': '0.00055', 'makerFeeRate': '0.0002'},\n",
              " {'symbol': 'MBLUSDT', 'takerFeeRate': '0.00055', 'makerFeeRate': '0.0002'},\n",
              " {'symbol': 'BSWUSDT', 'takerFeeRate': '0.00055', 'makerFeeRate': '0.0002'},\n",
              " {'symbol': 'ETH-19JAN24',\n",
              "  'takerFeeRate': '0.00055',\n",
              "  'makerFeeRate': '0.0002'},\n",
              " {'symbol': 'YFIIUSDT', 'takerFeeRate': '0.00055', 'makerFeeRate': '0.0002'},\n",
              " {'symbol': 'ACHUSDT', 'takerFeeRate': '0.00055', 'makerFeeRate': '0.0002'},\n",
              " {'symbol': 'SSVUSDT', 'takerFeeRate': '0.00055', 'makerFeeRate': '0.0002'},\n",
              " {'symbol': 'RAREUSDT', 'takerFeeRate': '0.00055', 'makerFeeRate': '0.0002'},\n",
              " {'symbol': 'BCHUSDT', 'takerFeeRate': '0.00055', 'makerFeeRate': '0.0002'},\n",
              " {'symbol': 'AVAXUSDT', 'takerFeeRate': '0.00055', 'makerFeeRate': '0.0002'},\n",
              " {'symbol': 'ONTUSDT', 'takerFeeRate': '0.00055', 'makerFeeRate': '0.0002'},\n",
              " {'symbol': 'RNDRUSDT', 'takerFeeRate': '0.00055', 'makerFeeRate': '0.0002'},\n",
              " {'symbol': 'AUCTIONUSDT',\n",
              "  'takerFeeRate': '0.00055',\n",
              "  'makerFeeRate': '0.0002'},\n",
              " {'symbol': 'AGLDUSDT', 'takerFeeRate': '0.00055', 'makerFeeRate': '0.0002'},\n",
              " {'symbol': 'FLOWUSDT', 'takerFeeRate': '0.00055', 'makerFeeRate': '0.0002'},\n",
              " {'symbol': 'DASHUSDT', 'takerFeeRate': '0.00055', 'makerFeeRate': '0.0002'},\n",
              " {'symbol': 'COMBOUSDT', 'takerFeeRate': '0.00055', 'makerFeeRate': '0.0002'}]"
            ]
          },
          "execution_count": 39,
          "metadata": {},
          "output_type": "execute_result"
        }
      ],
      "source": [
        "bybit_test.get_fee_pcts()"
      ]
    },
    {
      "cell_type": "code",
      "execution_count": 44,
      "metadata": {},
      "outputs": [],
      "source": [
        "from quantfreedom.enums import LeverageModeType, PositionModeType\n",
        "\n",
        "\n",
        "bybit_test.set_exchange_settings(\n",
        "    leverage_mode=LeverageModeType.Isolated,\n",
        "    position_mode=PositionModeType.HedgeMode,\n",
        "    symbol=\"BTCUSDT\",\n",
        ")"
      ]
    },
    {
      "cell_type": "code",
      "execution_count": 45,
      "metadata": {},
      "outputs": [
        {
          "data": {
            "text/plain": [
              "ExchangeSettings(asset_tick_step=3, leverage_mode=1, leverage_tick_step=2, limit_fee_pct=0.0002, market_fee_pct=0.00055, max_asset_size=100.0, max_leverage=100.0, min_asset_size=0.001, min_leverage=1.0, mmr_pct=0.005, position_mode=3, price_tick_step=1)"
            ]
          },
          "execution_count": 45,
          "metadata": {},
          "output_type": "execute_result"
        }
      ],
      "source": [
        "bybit_test.exchange_settings"
      ]
    }
  ],
  "metadata": {
    "kernelspec": {
      "display_name": "qfFree",
      "language": "python",
      "name": "python3"
    },
    "language_info": {
      "codemirror_mode": {
        "name": "ipython",
        "version": 3
      },
      "file_extension": ".py",
      "mimetype": "text/x-python",
      "name": "python",
      "nbconvert_exporter": "python",
      "pygments_lexer": "ipython3",
      "version": "3.10.10"
    },
    "orig_nbformat": 4
  },
  "nbformat": 4,
  "nbformat_minor": 2
}
