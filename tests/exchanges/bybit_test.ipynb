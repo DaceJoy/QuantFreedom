{
  "cells": [
    {
      "cell_type": "code",
      "execution_count": 2,
      "metadata": {},
      "outputs": [
        {
          "name": "stdout",
          "output_type": "stream",
          "text": [
            "The autoreload extension is already loaded. To reload it, use:\n",
            "  %reload_ext autoreload\n"
          ]
        }
      ],
      "source": [
        "import numpy as np\n",
        "from env import BybitKeys\n",
        "from quantfreedom.exchanges.bybit_exchange.bybit import Bybit\n",
        "import websocket\n",
        "import json\n",
        "from quantfreedom.enums import PositionModeType\n",
        "\n",
        "\n",
        "np.set_printoptions(formatter={\"float_kind\": \"{:0.1f}\".format})\n",
        "\n",
        "bybit_test = Bybit(\n",
        "    api_key=BybitKeys.testnet_levon_api_key,\n",
        "    secret_key=BybitKeys.testnet_levon_secret_key,\n",
        "    use_test_net=True,\n",
        ")\n",
        "bybit_main = Bybit(use_test_net=False)\n",
        "\n",
        "symbol = \"BTCUSDT\"\n",
        "trading_with = \"USDT\"\n",
        "\n",
        "%load_ext autoreload\n",
        "%autoreload 2"
      ]
    },
    {
      "cell_type": "code",
      "execution_count": 9,
      "metadata": {},
      "outputs": [
        {
          "data": {
            "text/plain": [
              "'abe1b116-7a74-447c-9015-055ab75fd9ad'"
            ]
          },
          "execution_count": 9,
          "metadata": {},
          "output_type": "execute_result"
        }
      ],
      "source": [
        "bybit_test.create_order(\n",
        "    symbol=symbol,\n",
        "    position_mode=PositionModeType.BuySide,\n",
        "    buy_sell=\"Sell\",\n",
        "    order_type=\"Market\",\n",
        "    asset_size=.506,\n",
        "    time_in_force=\"GTC\",\n",
        ")"
      ]
    },
    {
      "cell_type": "code",
      "execution_count": 8,
      "metadata": {},
      "outputs": [
        {
          "data": {
            "text/plain": [
              "[{'adlRankIndicator': 0,\n",
              "  'autoAddMargin': 0,\n",
              "  'avgPrice': '0',\n",
              "  'bustPrice': '',\n",
              "  'createdTime': '0',\n",
              "  'cumRealisedPnl': '76.38431857',\n",
              "  'curRealisedPnl': '0',\n",
              "  'isReduceOnly': False,\n",
              "  'leverage': '5',\n",
              "  'leverageSysUpdatedTime': '',\n",
              "  'liqPrice': '',\n",
              "  'markPrice': '65707.72',\n",
              "  'mmrSysUpdatedTime': '',\n",
              "  'positionBalance': '0',\n",
              "  'positionIM': '0',\n",
              "  'positionIdx': 1,\n",
              "  'positionMM': '0',\n",
              "  'positionStatus': 'Normal',\n",
              "  'positionValue': '',\n",
              "  'riskId': 1,\n",
              "  'riskLimitValue': '2000000',\n",
              "  'seq': 9071315589,\n",
              "  'sessionAvgPrice': '',\n",
              "  'side': '',\n",
              "  'size': '0',\n",
              "  'stopLoss': '',\n",
              "  'symbol': 'BTCUSDT',\n",
              "  'takeProfit': '',\n",
              "  'tpslMode': 'Full',\n",
              "  'tradeMode': 0,\n",
              "  'trailingStop': '0',\n",
              "  'unrealisedPnl': '',\n",
              "  'updatedTime': '1711293428409'},\n",
              " {'adlRankIndicator': 0,\n",
              "  'autoAddMargin': 0,\n",
              "  'avgPrice': '0',\n",
              "  'bustPrice': '',\n",
              "  'createdTime': '0',\n",
              "  'cumRealisedPnl': '0',\n",
              "  'curRealisedPnl': '0',\n",
              "  'isReduceOnly': False,\n",
              "  'leverage': '5',\n",
              "  'leverageSysUpdatedTime': '',\n",
              "  'liqPrice': '',\n",
              "  'markPrice': '65707.72',\n",
              "  'mmrSysUpdatedTime': '',\n",
              "  'positionBalance': '0',\n",
              "  'positionIM': '0',\n",
              "  'positionIdx': 2,\n",
              "  'positionMM': '0',\n",
              "  'positionStatus': 'Normal',\n",
              "  'positionValue': '',\n",
              "  'riskId': 1,\n",
              "  'riskLimitValue': '2000000',\n",
              "  'seq': 0,\n",
              "  'sessionAvgPrice': '',\n",
              "  'side': '',\n",
              "  'size': '0',\n",
              "  'stopLoss': '',\n",
              "  'symbol': 'BTCUSDT',\n",
              "  'takeProfit': '',\n",
              "  'tpslMode': 'Full',\n",
              "  'tradeMode': 0,\n",
              "  'trailingStop': '0',\n",
              "  'unrealisedPnl': '',\n",
              "  'updatedTime': '1711198760549'}]"
            ]
          },
          "execution_count": 8,
          "metadata": {},
          "output_type": "execute_result"
        }
      ],
      "source": [
        "bybit_test.sort_list_of_dicts(bybit_test.get_position_info(symbol=symbol))"
      ]
    }
  ],
  "metadata": {
    "kernelspec": {
      "display_name": "qfFree",
      "language": "python",
      "name": "python3"
    },
    "language_info": {
      "codemirror_mode": {
        "name": "ipython",
        "version": 3
      },
      "file_extension": ".py",
      "mimetype": "text/x-python",
      "name": "python",
      "nbconvert_exporter": "python",
      "pygments_lexer": "ipython3",
      "version": "3.10.10"
    },
    "orig_nbformat": 4
  },
  "nbformat": 4,
  "nbformat_minor": 2
}
