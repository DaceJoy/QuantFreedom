{
  "cells": [
    {
      "cell_type": "code",
      "execution_count": 1,
      "metadata": {},
      "outputs": [],
      "source": [
        "import numpy as np\n",
        "from env import BybitKeys\n",
        "from quantfreedom.exchanges.bybit_exchange.bybit import Bybit\n",
        "import websocket\n",
        "import json\n",
        "\n",
        "np.set_printoptions(formatter={\"float_kind\": \"{:0.1f}\".format})\n",
        "\n",
        "bybit_test = Bybit(\n",
        "    api_key=BybitKeys.testnet_api_key,\n",
        "    secret_key=BybitKeys.testnet_secret_key,\n",
        "    use_test_net=True,\n",
        ")\n",
        "bybit_main = Bybit(use_test_net=False)\n",
        "\n",
        "symbol = \"BTCUSDT\"\n",
        "trading_with = \"USDT\"\n",
        "\n",
        "%load_ext autoreload\n",
        "%autoreload 2"
      ]
    },
    {
      "cell_type": "code",
      "execution_count": 6,
      "metadata": {},
      "outputs": [
        {
          "data": {
            "text/plain": [
              "[{'totalEquity': '191890.0182615',\n",
              "  'accountIMRate': '',\n",
              "  'totalMarginBalance': '',\n",
              "  'totalInitialMargin': '',\n",
              "  'accountType': 'UNIFIED',\n",
              "  'totalAvailableBalance': '',\n",
              "  'accountMMRate': '',\n",
              "  'totalPerpUPL': '0',\n",
              "  'totalWalletBalance': '191890.0182615',\n",
              "  'accountLTV': '',\n",
              "  'totalMaintenanceMargin': '',\n",
              "  'coin': [{'availableToBorrow': '',\n",
              "    'bonus': '0',\n",
              "    'accruedInterest': '0',\n",
              "    'availableToWithdraw': '2',\n",
              "    'totalOrderIM': '0',\n",
              "    'equity': '2',\n",
              "    'totalPositionMM': '0',\n",
              "    'usdValue': '129529.969172',\n",
              "    'unrealisedPnl': '0',\n",
              "    'collateralSwitch': False,\n",
              "    'spotHedgingQty': '0',\n",
              "    'borrowAmount': '0',\n",
              "    'totalPositionIM': '0',\n",
              "    'walletBalance': '2',\n",
              "    'cumRealisedPnl': '0',\n",
              "    'locked': '0',\n",
              "    'marginCollateral': True,\n",
              "    'coin': 'BTC'},\n",
              "   {'availableToBorrow': '',\n",
              "    'bonus': '0',\n",
              "    'accruedInterest': '0',\n",
              "    'availableToWithdraw': '62349.76137888',\n",
              "    'totalOrderIM': '0',\n",
              "    'equity': '62349.76137888',\n",
              "    'totalPositionMM': '0',\n",
              "    'usdValue': '62360.0490895',\n",
              "    'unrealisedPnl': '0',\n",
              "    'collateralSwitch': True,\n",
              "    'spotHedgingQty': '0',\n",
              "    'borrowAmount': '0',\n",
              "    'totalPositionIM': '0',\n",
              "    'walletBalance': '62349.76137888',\n",
              "    'cumRealisedPnl': '-16.11293392',\n",
              "    'locked': '0',\n",
              "    'marginCollateral': True,\n",
              "    'coin': 'USDT'}]}]"
            ]
          },
          "execution_count": 6,
          "metadata": {},
          "output_type": "execute_result"
        }
      ],
      "source": [
        "bybit_test.get_wallet_info()"
      ]
    },
    {
      "cell_type": "code",
      "execution_count": 7,
      "metadata": {},
      "outputs": [
        {
          "data": {
            "text/plain": [
              "[{'totalEquity': '191528.61278395',\n",
              "  'accountIMRate': '',\n",
              "  'totalMarginBalance': '',\n",
              "  'totalInitialMargin': '',\n",
              "  'accountType': 'UNIFIED',\n",
              "  'totalAvailableBalance': '',\n",
              "  'accountMMRate': '',\n",
              "  'totalPerpUPL': '-96.34589445',\n",
              "  'totalWalletBalance': '191624.9586784',\n",
              "  'accountLTV': '',\n",
              "  'totalMaintenanceMargin': '',\n",
              "  'coin': [{'availableToBorrow': '',\n",
              "    'bonus': '0',\n",
              "    'accruedInterest': '0',\n",
              "    'availableToWithdraw': '2',\n",
              "    'totalOrderIM': '0',\n",
              "    'equity': '2',\n",
              "    'totalPositionMM': '0',\n",
              "    'usdValue': '129300.540342',\n",
              "    'unrealisedPnl': '0',\n",
              "    'collateralSwitch': False,\n",
              "    'spotHedgingQty': '0',\n",
              "    'borrowAmount': '0',\n",
              "    'totalPositionIM': '0',\n",
              "    'walletBalance': '2',\n",
              "    'cumRealisedPnl': '0',\n",
              "    'locked': '0',\n",
              "    'marginCollateral': True,\n",
              "    'coin': 'BTC'},\n",
              "   {'availableToBorrow': '',\n",
              "    'bonus': '0',\n",
              "    'accruedInterest': '0',\n",
              "    'availableToWithdraw': '49331.13660388',\n",
              "    'totalOrderIM': '0',\n",
              "    'equity': '62217.80650388',\n",
              "    'totalPositionMM': '352.3624',\n",
              "    'usdValue': '62228.07244195',\n",
              "    'unrealisedPnl': '-96.33',\n",
              "    'collateralSwitch': True,\n",
              "    'spotHedgingQty': '0',\n",
              "    'borrowAmount': '0',\n",
              "    'totalPositionIM': '12982.9999',\n",
              "    'walletBalance': '62314.13650388',\n",
              "    'cumRealisedPnl': '-51.73780892',\n",
              "    'locked': '0',\n",
              "    'marginCollateral': True,\n",
              "    'coin': 'USDT'}]}]"
            ]
          },
          "execution_count": 7,
          "metadata": {},
          "output_type": "execute_result"
        }
      ],
      "source": [
        "bybit_test.get_wallet_info()"
      ]
    },
    {
      "cell_type": "code",
      "execution_count": 3,
      "metadata": {},
      "outputs": [
        {
          "data": {
            "text/plain": [
              "62358.29063928"
            ]
          },
          "execution_count": 3,
          "metadata": {},
          "output_type": "execute_result"
        }
      ],
      "source": [
        "bybit_test.get_equity_of_asset(trading_with=\"USDT\")"
      ]
    }
  ],
  "metadata": {
    "kernelspec": {
      "display_name": "qfFree",
      "language": "python",
      "name": "python3"
    },
    "language_info": {
      "codemirror_mode": {
        "name": "ipython",
        "version": 3
      },
      "file_extension": ".py",
      "mimetype": "text/x-python",
      "name": "python",
      "nbconvert_exporter": "python",
      "pygments_lexer": "ipython3",
      "version": "3.10.10"
    },
    "orig_nbformat": 4
  },
  "nbformat": 4,
  "nbformat_minor": 2
}
