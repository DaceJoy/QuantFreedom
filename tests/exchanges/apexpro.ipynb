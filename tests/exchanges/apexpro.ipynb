{
 "cells": [
  {
   "cell_type": "code",
   "execution_count": 2,
   "metadata": {},
   "outputs": [
    {
     "name": "stderr",
     "output_type": "stream",
     "text": [
      "2023-09-27 13:58:11 - apexpro - WARNING - This HTTP class is maintained for compatibility purposes. You should prefer importing market-specific classes, like so: from apexpro import HTTP; \n",
      "2023-09-27 13:58:11 - apexpro - WARNING - This HTTP class is maintained for compatibility purposes. You should prefer importing market-specific classes, like so: from apexpro import HTTP; \n"
     ]
    },
    {
     "name": "stdout",
     "output_type": "stream",
     "text": [
      "The autoreload extension is already loaded. To reload it, use:\n",
      "  %reload_ext autoreload\n"
     ]
    }
   ],
   "source": [
    "from apexpro.constants import APEX_HTTP_MAIN\n",
    "from apexpro.http_public import HttpPublic\n",
    "from requests import request\n",
    "import numpy as np\n",
    "import pandas as pd\n",
    "\n",
    "client = HttpPublic(APEX_HTTP_MAIN)\n",
    "%load_ext autoreload\n",
    "%autoreload 2\n"
   ]
  },
  {
   "cell_type": "code",
   "execution_count": 3,
   "metadata": {},
   "outputs": [],
   "source": [
    "data = client.klines(symbol=\"BTCUSDC\",interval=\"5\")['data']['BTCUSDC']"
   ]
  },
  {
   "cell_type": "code",
   "execution_count": 5,
   "metadata": {},
   "outputs": [],
   "source": [
    "candles_list = []\n",
    "for row_index, candle in enumerate(data, 0):\n",
    "    candles_list.append(\n",
    "        [\n",
    "            candle[\"t\"],\n",
    "            float(candle[\"o\"]),\n",
    "            float(candle[\"h\"]),\n",
    "            float(candle[\"l\"]),\n",
    "            float(candle[\"c\"]),\n",
    "            float(candle[\"v\"]),\n",
    "        ]\n",
    "    )"
   ]
  },
  {
   "cell_type": "code",
   "execution_count": 6,
   "metadata": {},
   "outputs": [
    {
     "data": {
      "text/html": [
       "<div>\n",
       "<style scoped>\n",
       "    .dataframe tbody tr th:only-of-type {\n",
       "        vertical-align: middle;\n",
       "    }\n",
       "\n",
       "    .dataframe tbody tr th {\n",
       "        vertical-align: top;\n",
       "    }\n",
       "\n",
       "    .dataframe thead th {\n",
       "        text-align: right;\n",
       "    }\n",
       "</style>\n",
       "<table border=\"1\" class=\"dataframe\">\n",
       "  <thead>\n",
       "    <tr style=\"text-align: right;\">\n",
       "      <th></th>\n",
       "      <th>timestamp</th>\n",
       "      <th>open</th>\n",
       "      <th>high</th>\n",
       "      <th>low</th>\n",
       "      <th>close</th>\n",
       "      <th>volume</th>\n",
       "    </tr>\n",
       "  </thead>\n",
       "  <tbody>\n",
       "    <tr>\n",
       "      <th>0</th>\n",
       "      <td>2023-09-22 16:00:00</td>\n",
       "      <td>26633.5</td>\n",
       "      <td>26643.5</td>\n",
       "      <td>26620.0</td>\n",
       "      <td>26620.0</td>\n",
       "      <td>3.726</td>\n",
       "    </tr>\n",
       "    <tr>\n",
       "      <th>1</th>\n",
       "      <td>2023-09-22 16:05:00</td>\n",
       "      <td>26620.0</td>\n",
       "      <td>26625.5</td>\n",
       "      <td>26620.0</td>\n",
       "      <td>26623.0</td>\n",
       "      <td>1.343</td>\n",
       "    </tr>\n",
       "    <tr>\n",
       "      <th>2</th>\n",
       "      <td>2023-09-22 16:10:00</td>\n",
       "      <td>26623.0</td>\n",
       "      <td>26624.5</td>\n",
       "      <td>26620.0</td>\n",
       "      <td>26620.5</td>\n",
       "      <td>1.865</td>\n",
       "    </tr>\n",
       "    <tr>\n",
       "      <th>3</th>\n",
       "      <td>2023-09-22 16:15:00</td>\n",
       "      <td>26620.5</td>\n",
       "      <td>26638.0</td>\n",
       "      <td>26620.5</td>\n",
       "      <td>26638.0</td>\n",
       "      <td>3.967</td>\n",
       "    </tr>\n",
       "    <tr>\n",
       "      <th>4</th>\n",
       "      <td>2023-09-22 16:20:00</td>\n",
       "      <td>26638.0</td>\n",
       "      <td>26642.5</td>\n",
       "      <td>26621.5</td>\n",
       "      <td>26634.5</td>\n",
       "      <td>3.932</td>\n",
       "    </tr>\n",
       "    <tr>\n",
       "      <th>...</th>\n",
       "      <td>...</td>\n",
       "      <td>...</td>\n",
       "      <td>...</td>\n",
       "      <td>...</td>\n",
       "      <td>...</td>\n",
       "      <td>...</td>\n",
       "    </tr>\n",
       "    <tr>\n",
       "      <th>1495</th>\n",
       "      <td>2023-09-27 20:35:00</td>\n",
       "      <td>26211.5</td>\n",
       "      <td>26214.0</td>\n",
       "      <td>26203.0</td>\n",
       "      <td>26214.0</td>\n",
       "      <td>4.073</td>\n",
       "    </tr>\n",
       "    <tr>\n",
       "      <th>1496</th>\n",
       "      <td>2023-09-27 20:40:00</td>\n",
       "      <td>26214.0</td>\n",
       "      <td>26217.0</td>\n",
       "      <td>26208.0</td>\n",
       "      <td>26210.5</td>\n",
       "      <td>5.853</td>\n",
       "    </tr>\n",
       "    <tr>\n",
       "      <th>1497</th>\n",
       "      <td>2023-09-27 20:45:00</td>\n",
       "      <td>26210.5</td>\n",
       "      <td>26264.5</td>\n",
       "      <td>26204.0</td>\n",
       "      <td>26258.5</td>\n",
       "      <td>7.799</td>\n",
       "    </tr>\n",
       "    <tr>\n",
       "      <th>1498</th>\n",
       "      <td>2023-09-27 20:50:00</td>\n",
       "      <td>26258.5</td>\n",
       "      <td>26258.5</td>\n",
       "      <td>26219.0</td>\n",
       "      <td>26222.5</td>\n",
       "      <td>3.571</td>\n",
       "    </tr>\n",
       "    <tr>\n",
       "      <th>1499</th>\n",
       "      <td>2023-09-27 20:55:00</td>\n",
       "      <td>26222.5</td>\n",
       "      <td>26237.5</td>\n",
       "      <td>26218.5</td>\n",
       "      <td>26237.0</td>\n",
       "      <td>2.168</td>\n",
       "    </tr>\n",
       "  </tbody>\n",
       "</table>\n",
       "<p>1500 rows × 6 columns</p>\n",
       "</div>"
      ],
      "text/plain": [
       "               timestamp     open     high      low    close  volume\n",
       "0    2023-09-22 16:00:00  26633.5  26643.5  26620.0  26620.0   3.726\n",
       "1    2023-09-22 16:05:00  26620.0  26625.5  26620.0  26623.0   1.343\n",
       "2    2023-09-22 16:10:00  26623.0  26624.5  26620.0  26620.5   1.865\n",
       "3    2023-09-22 16:15:00  26620.5  26638.0  26620.5  26638.0   3.967\n",
       "4    2023-09-22 16:20:00  26638.0  26642.5  26621.5  26634.5   3.932\n",
       "...                  ...      ...      ...      ...      ...     ...\n",
       "1495 2023-09-27 20:35:00  26211.5  26214.0  26203.0  26214.0   4.073\n",
       "1496 2023-09-27 20:40:00  26214.0  26217.0  26208.0  26210.5   5.853\n",
       "1497 2023-09-27 20:45:00  26210.5  26264.5  26204.0  26258.5   7.799\n",
       "1498 2023-09-27 20:50:00  26258.5  26258.5  26219.0  26222.5   3.571\n",
       "1499 2023-09-27 20:55:00  26222.5  26237.5  26218.5  26237.0   2.168\n",
       "\n",
       "[1500 rows x 6 columns]"
      ]
     },
     "execution_count": 6,
     "metadata": {},
     "output_type": "execute_result"
    }
   ],
   "source": [
    "candles_df = pd.DataFrame(candles_list, columns=['timestamp', 'open', 'high', 'low', 'close', 'volume'])\n",
    "candles_df.timestamp = pd.to_datetime(candles_df.timestamp, unit='ms')\n",
    "candles_df"
   ]
  },
  {
   "cell_type": "code",
   "execution_count": null,
   "metadata": {},
   "outputs": [],
   "source": [
    "candles_list"
   ]
  }
 ],
 "metadata": {
  "kernelspec": {
   "display_name": "qfFree",
   "language": "python",
   "name": "python3"
  },
  "language_info": {
   "codemirror_mode": {
    "name": "ipython",
    "version": 3
   },
   "file_extension": ".py",
   "mimetype": "text/x-python",
   "name": "python",
   "nbconvert_exporter": "python",
   "pygments_lexer": "ipython3",
   "version": "3.10.10"
  },
  "orig_nbformat": 4
 },
 "nbformat": 4,
 "nbformat_minor": 2
}
