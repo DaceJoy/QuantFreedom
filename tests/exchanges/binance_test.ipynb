{
  "cells": [
    {
      "cell_type": "code",
      "execution_count": 1,
      "metadata": {},
      "outputs": [],
      "source": [
        "import numpy as np\n",
        "import pandas as pd\n",
        "from my_stuff import BinanceUSDMTestKeys\n",
        "from quantfreedom.exchanges.binance_exchange.binance_usdm import BinanceUSDM\n",
        "\n",
        "from quantfreedom.helper_funcs import candles_to_df\n",
        "\n",
        "np.set_printoptions(formatter={\"float_kind\": \"{:0.1f}\".format})\n",
        "\n",
        "%load_ext autoreload\n",
        "%autoreload 2"
      ]
    },
    {
      "cell_type": "code",
      "execution_count": 2,
      "metadata": {},
      "outputs": [],
      "source": [
        "binance_usdm_test = BinanceUSDM(\n",
        "    api_key=BinanceUSDMTestKeys.api_key,\n",
        "    secret_key=BinanceUSDMTestKeys.secret_key,\n",
        "    use_test_net=True\n",
        ")"
      ]
    },
    {
      "cell_type": "code",
      "execution_count": 3,
      "metadata": {},
      "outputs": [
        {
          "data": {
            "text/plain": [
              "3718729086"
            ]
          },
          "execution_count": 3,
          "metadata": {},
          "output_type": "execute_result"
        }
      ],
      "source": [
        "binance_usdm_test.create_order(\n",
        "    symbol=\"BTCUSDT\",\n",
        "    side=\"BUY\",\n",
        "    type=\"MARKET\",\n",
        "    quantity=0.005,\n",
        "    timeInForce=None,\n",
        ")"
      ]
    },
    {
      "cell_type": "code",
      "execution_count": 6,
      "metadata": {},
      "outputs": [
        {
          "data": {
            "text/plain": [
              "63124.0"
            ]
          },
          "execution_count": 6,
          "metadata": {},
          "output_type": "execute_result"
        }
      ],
      "source": [
        "float(binance_usdm_test.binance_ex.get_position_risk(symbol=\"BTCUSDT\")[0]['entryPrice'])"
      ]
    },
    {
      "cell_type": "code",
      "execution_count": 7,
      "metadata": {},
      "outputs": [
        {
          "data": {
            "text/plain": [
              "[{'symbol': 'BTCUSDT',\n",
              "  'positionAmt': '0.005',\n",
              "  'entryPrice': '63124.0',\n",
              "  'breakEvenPrice': '63149.2496',\n",
              "  'markPrice': '62803.06893061',\n",
              "  'unRealizedProfit': '-1.60465534',\n",
              "  'liquidationPrice': '56712.55108032',\n",
              "  'leverage': '10',\n",
              "  'maxNotionalValue': '40000000',\n",
              "  'marginType': 'isolated',\n",
              "  'isolatedMargin': '31.58684028',\n",
              "  'isAutoAddMargin': 'false',\n",
              "  'positionSide': 'BOTH',\n",
              "  'notional': '314.01534465',\n",
              "  'isolatedWallet': '33.19149562',\n",
              "  'updateTime': 1709495530175,\n",
              "  'isolated': True,\n",
              "  'adlQuantile': 1}]"
            ]
          },
          "execution_count": 7,
          "metadata": {},
          "output_type": "execute_result"
        }
      ],
      "source": [
        "binance_usdm_test.get_position_info(symbol=\"BTCUSDT\")"
      ]
    }
  ],
  "metadata": {
    "kernelspec": {
      "display_name": "qfFree",
      "language": "python",
      "name": "python3"
    },
    "language_info": {
      "codemirror_mode": {
        "name": "ipython",
        "version": 3
      },
      "file_extension": ".py",
      "mimetype": "text/x-python",
      "name": "python",
      "nbconvert_exporter": "python",
      "pygments_lexer": "ipython3",
      "version": "3.10.10"
    },
    "orig_nbformat": 4
  },
  "nbformat": 4,
  "nbformat_minor": 2
}
