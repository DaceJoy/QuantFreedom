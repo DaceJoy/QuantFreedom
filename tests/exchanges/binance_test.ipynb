{
  "cells": [
    {
      "cell_type": "code",
      "execution_count": 1,
      "metadata": {},
      "outputs": [],
      "source": [
        "import numpy as np\n",
        "from quantfreedom.exchanges.binance_exchange.binance_usdm import BinanceUSDM\n",
        "from quantfreedom.exchanges.binance_exchange.bsc_scan import BSC_Scan\n",
        "from env import BSC_SCAN_API_KEY\n",
        "\n",
        "bsc_scan= BSC_Scan(api_key=BSC_SCAN_API_KEY)\n",
        "\n",
        "np.set_printoptions(formatter={\"float_kind\": \"{:0.1f}\".format})\n",
        "\n",
        "%load_ext autoreload\n",
        "%autoreload 2"
      ]
    },
    {
      "cell_type": "code",
      "execution_count": null,
      "metadata": {},
      "outputs": [],
      "source": [
        "transactions"
      ]
    },
    {
      "cell_type": "code",
      "execution_count": 18,
      "metadata": {},
      "outputs": [
        {
          "data": {
            "text/plain": [
              "{'blockHash': '0x921b9ff5454087f97cfee906a29bba03f703b0965cf7c332657a2ecb245a2f29',\n",
              " 'blockNumber': '34638514',\n",
              " 'confirmations': '2644278',\n",
              " 'contractAddress': '0x55d398326f99059ff775485246999027b3197955',\n",
              " 'cumulativeGasUsed': '17015373',\n",
              " 'from': '0x10e0d29b55b18943fe4fa92f08da1ffb0b274427',\n",
              " 'gas': '65000',\n",
              " 'gasPrice': '1000000000',\n",
              " 'gasUsed': '29703',\n",
              " 'hash': '0xb6593fb5f625a27db4f9164afdd04e2a804406172516f474d7a931864a5fd7e2',\n",
              " 'input': 'deprecated',\n",
              " 'nonce': '0',\n",
              " 'timeStamp': '1703435373',\n",
              " 'to': '0x7192b3aa5878293075951b53decefb09f3c6f37c',\n",
              " 'tokenDecimal': '18',\n",
              " 'tokenName': 'Binance-Peg BSC-USD',\n",
              " 'tokenSymbol': 'BSC-USD',\n",
              " 'transactionIndex': '169',\n",
              " 'value': '3000000000000000'}"
            ]
          },
          "execution_count": 18,
          "metadata": {},
          "output_type": "execute_result"
        }
      ],
      "source": [
        "bsc_scan.get_transaction_by_hash(txhash=\"0xb6593fb5f625a27db4f9164afdd04e2a804406172516f474d7a931864a5fd7e2\")"
      ]
    },
    {
      "cell_type": "code",
      "execution_count": 20,
      "metadata": {},
      "outputs": [
        {
          "data": {
            "text/plain": [
              "0.003"
            ]
          },
          "execution_count": 20,
          "metadata": {},
          "output_type": "execute_result"
        }
      ],
      "source": [
        "bsc_scan.get_transaction_value(txhash=\"0xb6593fb5f625a27db4f9164afdd04e2a804406172516f474d7a931864a5fd7e2\")"
      ]
    }
  ],
  "metadata": {
    "kernelspec": {
      "display_name": "qfFree",
      "language": "python",
      "name": "python3"
    },
    "language_info": {
      "codemirror_mode": {
        "name": "ipython",
        "version": 3
      },
      "file_extension": ".py",
      "mimetype": "text/x-python",
      "name": "python",
      "nbconvert_exporter": "python",
      "pygments_lexer": "ipython3",
      "version": "3.10.10"
    },
    "orig_nbformat": 4
  },
  "nbformat": 4,
  "nbformat_minor": 2
}
