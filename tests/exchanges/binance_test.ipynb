{
  "cells": [
    {
      "cell_type": "code",
      "execution_count": 2,
      "metadata": {},
      "outputs": [],
      "source": [
        "import numpy as np\n",
        "import pandas as pd\n",
        "from my_stuff import BinanceUSDMTestKeys\n",
        "from quantfreedom.exchanges.binance_exchange.binance_usdm import BinanceUSDM\n",
        "\n",
        "from quantfreedom.helper_funcs import candles_to_df\n",
        "\n",
        "np.set_printoptions(formatter={\"float_kind\": \"{:0.1f}\".format})\n",
        "\n",
        "%load_ext autoreload\n",
        "%autoreload 2"
      ]
    },
    {
      "cell_type": "code",
      "execution_count": 3,
      "metadata": {},
      "outputs": [],
      "source": [
        "binance_usdm_test = BinanceUSDM(\n",
        "    api_key=BinanceUSDMTestKeys.api_key,\n",
        "    secret_key=BinanceUSDMTestKeys.secret_key,\n",
        "    use_test_net=True\n",
        ")"
      ]
    },
    {
      "cell_type": "code",
      "execution_count": 8,
      "metadata": {},
      "outputs": [
        {
          "data": {
            "text/plain": [
              "{'orderId': 3526262360,\n",
              " 'symbol': 'BTCUSDT',\n",
              " 'status': 'NEW',\n",
              " 'clientOrderId': 'qaIbKk608nLosyvDNjYNcW',\n",
              " 'price': '0.00',\n",
              " 'avgPrice': '0.00',\n",
              " 'origQty': '0.005',\n",
              " 'executedQty': '0.000',\n",
              " 'cumQty': '0.000',\n",
              " 'cumQuote': '0.00000',\n",
              " 'timeInForce': 'GTC',\n",
              " 'type': 'MARKET',\n",
              " 'reduceOnly': False,\n",
              " 'closePosition': False,\n",
              " 'side': 'BUY',\n",
              " 'positionSide': 'BOTH',\n",
              " 'stopPrice': '0.00',\n",
              " 'workingType': 'CONTRACT_PRICE',\n",
              " 'priceProtect': False,\n",
              " 'origType': 'MARKET',\n",
              " 'priceMatch': 'NONE',\n",
              " 'selfTradePreventionMode': 'NONE',\n",
              " 'goodTillDate': 0,\n",
              " 'updateTime': 1700065463010}"
            ]
          },
          "execution_count": 8,
          "metadata": {},
          "output_type": "execute_result"
        }
      ],
      "source": [
        "binance_usdm_test.create_order(\n",
        "    symbol=\"BTCUSDT\",\n",
        "    side=\"BUY\",\n",
        "    type=\"MARKET\",\n",
        "    quantity=0.005,\n",
        "    timeInForce=None,\n",
        ")"
      ]
    },
    {
      "cell_type": "code",
      "execution_count": 11,
      "metadata": {},
      "outputs": [
        {
          "data": {
            "text/plain": [
              "36905.6"
            ]
          },
          "execution_count": 11,
          "metadata": {},
          "output_type": "execute_result"
        }
      ],
      "source": [
        "float(binance_usdm_test.binance_ex.get_position_risk(symbol=\"BTCUSDT\")[0]['entryPrice'])"
      ]
    },
    {
      "cell_type": "code",
      "execution_count": 13,
      "metadata": {},
      "outputs": [
        {
          "data": {
            "text/plain": [
              "[{'symbol': 'BTCUSDT',\n",
              "  'positionAmt': '0.020',\n",
              "  'entryPrice': '36905.6',\n",
              "  'breakEvenPrice': '36920.36224',\n",
              "  'markPrice': '36345.03030779',\n",
              "  'unRealizedProfit': '-11.21139384',\n",
              "  'liquidationPrice': '33501.49150151',\n",
              "  'leverage': '10',\n",
              "  'maxNotionalValue': '40000000',\n",
              "  'marginType': 'isolated',\n",
              "  'isolatedMargin': '59.55089545',\n",
              "  'isAutoAddMargin': 'false',\n",
              "  'positionSide': 'BOTH',\n",
              "  'notional': '726.90060615',\n",
              "  'isolatedWallet': '70.76228929',\n",
              "  'updateTime': 1700065463011,\n",
              "  'isolated': True,\n",
              "  'adlQuantile': 1}]"
            ]
          },
          "execution_count": 13,
          "metadata": {},
          "output_type": "execute_result"
        }
      ],
      "source": [
        "binance_usdm_test.get_position_info(symbol=\"BTCUSDT\")"
      ]
    }
  ],
  "metadata": {
    "kernelspec": {
      "display_name": "qfFree",
      "language": "python",
      "name": "python3"
    },
    "language_info": {
      "codemirror_mode": {
        "name": "ipython",
        "version": 3
      },
      "file_extension": ".py",
      "mimetype": "text/x-python",
      "name": "python",
      "nbconvert_exporter": "python",
      "pygments_lexer": "ipython3",
      "version": "3.10.10"
    },
    "orig_nbformat": 4
  },
  "nbformat": 4,
  "nbformat_minor": 2
}
