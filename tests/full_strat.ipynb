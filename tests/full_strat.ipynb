{
  "cells": [
    {
      "cell_type": "code",
      "execution_count": 1,
      "metadata": {},
      "outputs": [],
      "source": [
        "import numpy as np\n",
        "import pandas as pd\n",
        "from my_stuff import MufexKeys\n",
        "from quantfreedom.exchanges.mufex_exchange.mufex import Mufex\n",
        "from quantfreedom.enums import *\n",
        "\n",
        "from quantfreedom.simulate import run_df_backtest, or_backtest\n",
        "from quantfreedom.strategies.strategy import Strategy\n",
        "from quantfreedom.plotting.plotting_base import plot_or_results\n",
        "\n",
        "\n",
        "mufex_main = Mufex(\n",
        "    api_key=MufexKeys.api_key,\n",
        "    secret_key=MufexKeys.secret_key,\n",
        "    use_test_net=False,\n",
        ")\n",
        "\n",
        "%load_ext autoreload\n",
        "%autoreload 2"
      ]
    },
    {
      "cell_type": "code",
      "execution_count": 16,
      "metadata": {},
      "outputs": [],
      "source": [
        "candles = mufex_main.get_candles(\n",
        "    symbol=\"BTCUSDT\",\n",
        "    timeframe=\"5m\",\n",
        "    candles_to_dl=550,\n",
        ")\n"
      ]
    },
    {
      "cell_type": "code",
      "execution_count": 17,
      "metadata": {},
      "outputs": [],
      "source": [
        "mufex_main.set_exchange_settings(\n",
        "    symbol=\"BTCUSDT\",\n",
        "    position_mode=PositionModeType.HedgeMode,\n",
        "    leverage_mode=LeverageModeType.Isolated,\n",
        ")"
      ]
    },
    {
      "cell_type": "code",
      "execution_count": 18,
      "metadata": {},
      "outputs": [],
      "source": [
        "\n",
        "# backtest_settings = BacktestSettings(\n",
        "#     array_size=200,\n",
        "#     gains_pct_filter=-90,\n",
        "#     total_trade_filter=10,\n",
        "#     upside_filter=-np.inf,\n",
        "# )\n",
        "backtest_settings = BacktestSettings()\n",
        "dos_arrays = DynamicOrderSettingsArrays(\n",
        "    max_equity_risk_pct=np.array([12]),\n",
        "    max_trades=np.array([5]),\n",
        "    risk_account_pct_size=np.array([3]),\n",
        "    risk_reward=np.array([5]),\n",
        "    sl_based_on_add_pct=np.array([0.01]),\n",
        "    sl_based_on_lookback=np.array([20]),\n",
        "    sl_bcb_type=np.array([CandleBodyType.Low]),\n",
        "    sl_to_be_cb_type=np.array([CandleBodyType.Nothing]),\n",
        "    sl_to_be_when_pct=np.array([0]),\n",
        "    trail_sl_bcb_type=np.array([CandleBodyType.Low]),\n",
        "    trail_sl_by_pct=np.array([0.5]),\n",
        "    trail_sl_when_pct=np.array([1]),\n",
        ")\n",
        "static_os = StaticOrderSettings(\n",
        "    increase_position_type=IncreasePositionType.RiskPctAccountEntrySize,\n",
        "    leverage_strategy_type=LeverageStrategyType.Dynamic,\n",
        "    logger_bool=True,\n",
        "    pg_min_max_sl_bcb=\"min\",\n",
        "    sl_strategy_type=StopLossStrategyType.SLBasedOnCandleBody,\n",
        "    sl_to_be_bool=False,\n",
        "    starting_bar=50,\n",
        "    starting_equity=1000.0,\n",
        "    static_leverage=None,\n",
        "    tp_fee_type=TakeProfitFeeType.Limit,\n",
        "    tp_strategy_type=TakeProfitStrategyType.RiskReward,\n",
        "    trail_sl_bool=True,\n",
        "    z_or_e_type=None,\n",
        ")\n",
        "strategy = Strategy(\n",
        "    rsi_is_above=np.array([50]),\n",
        "    rsi_length=np.array([14]),\n",
        "    long_short=\"short\",\n",
        ")"
      ]
    },
    {
      "cell_type": "code",
      "execution_count": 27,
      "metadata": {},
      "outputs": [
        {
          "name": "stdout",
          "output_type": "stream",
          "text": [
            "Starting the backtest now ... and also here are some stats for your backtest.\n",
            "\n",
            "Total indicator settings to test: 1\n",
            "Total order settings to test: 1\n",
            "Total combinations of settings to test: 1\n",
            "Total candles: 550\n",
            "Total candles to test: 550\n"
          ]
        },
        {
          "ename": "Exception",
          "evalue": "Exception hit in eval strat -> Cash used bigger than available balance",
          "output_type": "error",
          "traceback": [
            "\u001b[1;31m---------------------------------------------------------------------------\u001b[0m",
            "\u001b[1;31mException\u001b[0m                                 Traceback (most recent call last)",
            "File \u001b[1;32mE:\\Coding\\backtesters\\QuantFreedom\\quantfreedom\\simulate.py:203\u001b[0m, in \u001b[0;36mrun_df_backtest\u001b[1;34m(backtest_settings, candles, dos_arrays, exchange_settings, static_os, strategy)\u001b[0m\n\u001b[0;32m    196\u001b[0m logger\u001b[39m.\u001b[39mdebug(\u001b[39m\"\u001b[39m\u001b[39mcalculate_leverage\u001b[39m\u001b[39m\"\u001b[39m)\n\u001b[0;32m    197\u001b[0m (\n\u001b[0;32m    198\u001b[0m     available_balance,\n\u001b[0;32m    199\u001b[0m     cash_borrowed,\n\u001b[0;32m    200\u001b[0m     cash_used,\n\u001b[0;32m    201\u001b[0m     leverage,\n\u001b[0;32m    202\u001b[0m     liq_price,\n\u001b[1;32m--> 203\u001b[0m ) \u001b[39m=\u001b[39m order\u001b[39m.\u001b[39;49mcalculate_leverage(\n\u001b[0;32m    204\u001b[0m     available_balance\u001b[39m=\u001b[39;49morder\u001b[39m.\u001b[39;49mavailable_balance,\n\u001b[0;32m    205\u001b[0m     average_entry\u001b[39m=\u001b[39;49maverage_entry,\n\u001b[0;32m    206\u001b[0m     cash_borrowed\u001b[39m=\u001b[39;49morder\u001b[39m.\u001b[39;49mcash_borrowed,\n\u001b[0;32m    207\u001b[0m     cash_used\u001b[39m=\u001b[39;49morder\u001b[39m.\u001b[39;49mcash_used,\n\u001b[0;32m    208\u001b[0m     position_size_asset\u001b[39m=\u001b[39;49mposition_size_asset,\n\u001b[0;32m    209\u001b[0m     position_size_usd\u001b[39m=\u001b[39;49mposition_size_usd,\n\u001b[0;32m    210\u001b[0m     sl_price\u001b[39m=\u001b[39;49msl_price,\n\u001b[0;32m    211\u001b[0m )\n\u001b[0;32m    213\u001b[0m logger\u001b[39m.\u001b[39mdebug(\u001b[39m\"\u001b[39m\u001b[39mcalculate_take_profit\u001b[39m\u001b[39m\"\u001b[39m)\n",
            "File \u001b[1;32mE:\\Coding\\backtesters\\QuantFreedom\\quantfreedom\\order_handler\\order.py:325\u001b[0m, in \u001b[0;36mOrderHandler.calculate_leverage\u001b[1;34m(self, available_balance, average_entry, cash_borrowed, cash_used, position_size_asset, position_size_usd, sl_price)\u001b[0m\n\u001b[0;32m    309\u001b[0m \u001b[39mdef\u001b[39;00m \u001b[39mcalculate_leverage\u001b[39m(\n\u001b[0;32m    310\u001b[0m     \u001b[39mself\u001b[39m,\n\u001b[0;32m    311\u001b[0m     available_balance: \u001b[39mfloat\u001b[39m,\n\u001b[1;32m   (...)\u001b[0m\n\u001b[0;32m    317\u001b[0m     sl_price: \u001b[39mfloat\u001b[39m,\n\u001b[0;32m    318\u001b[0m ):\n\u001b[0;32m    319\u001b[0m     (\n\u001b[0;32m    320\u001b[0m         available_balance,\n\u001b[0;32m    321\u001b[0m         cash_borrowed,\n\u001b[0;32m    322\u001b[0m         cash_used,\n\u001b[0;32m    323\u001b[0m         leverage,\n\u001b[0;32m    324\u001b[0m         liq_price,\n\u001b[1;32m--> 325\u001b[0m     ) \u001b[39m=\u001b[39m \u001b[39mself\u001b[39;49m\u001b[39m.\u001b[39;49mobj_leverage\u001b[39m.\u001b[39;49mlev_calculator(\n\u001b[0;32m    326\u001b[0m         available_balance\u001b[39m=\u001b[39;49mavailable_balance,\n\u001b[0;32m    327\u001b[0m         average_entry\u001b[39m=\u001b[39;49maverage_entry,\n\u001b[0;32m    328\u001b[0m         cash_borrowed\u001b[39m=\u001b[39;49mcash_borrowed,\n\u001b[0;32m    329\u001b[0m         cash_used\u001b[39m=\u001b[39;49mcash_used,\n\u001b[0;32m    330\u001b[0m         position_size_asset\u001b[39m=\u001b[39;49mposition_size_asset,\n\u001b[0;32m    331\u001b[0m         position_size_usd\u001b[39m=\u001b[39;49mposition_size_asset,\n\u001b[0;32m    332\u001b[0m         sl_price\u001b[39m=\u001b[39;49msl_price,\n\u001b[0;32m    333\u001b[0m     )\n\u001b[0;32m    334\u001b[0m     logger\u001b[39m.\u001b[39minfo(\n\u001b[0;32m    335\u001b[0m         \u001b[39mf\u001b[39m\u001b[39m\"\u001b[39m\u001b[39m\\\u001b[39;00m\n\u001b[0;32m    336\u001b[0m \u001b[39m        \u001b[39m\u001b[39m\\n\u001b[39;00m\u001b[39mavailable_balance= \u001b[39m\u001b[39m{\u001b[39;00mavailable_balance\u001b[39m}\u001b[39;00m\u001b[39m\\\u001b[39;00m\n\u001b[1;32m   (...)\u001b[0m\n\u001b[0;32m    340\u001b[0m \u001b[39m        \u001b[39m\u001b[39m\\n\u001b[39;00m\u001b[39mliq_price= \u001b[39m\u001b[39m{\u001b[39;00mliq_price\u001b[39m}\u001b[39;00m\u001b[39m\"\u001b[39m\n\u001b[0;32m    341\u001b[0m     )\n",
            "File \u001b[1;32mE:\\Coding\\backtesters\\QuantFreedom\\quantfreedom\\order_handler\\leverage.py:209\u001b[0m, in \u001b[0;36mLeverage.dynamic_lev\u001b[1;34m(self, available_balance, average_entry, cash_borrowed, cash_used, position_size_asset, position_size_usd, sl_price)\u001b[0m\n\u001b[0;32m    202\u001b[0m     logger\u001b[39m.\u001b[39mdebug(\u001b[39mf\u001b[39m\u001b[39m\"\u001b[39m\u001b[39mLeverage= \u001b[39m\u001b[39m{\u001b[39;00mleverage\u001b[39m}\u001b[39;00m\u001b[39m\"\u001b[39m)\n\u001b[0;32m    204\u001b[0m (\n\u001b[0;32m    205\u001b[0m     available_balance,\n\u001b[0;32m    206\u001b[0m     cash_borrowed,\n\u001b[0;32m    207\u001b[0m     cash_used,\n\u001b[0;32m    208\u001b[0m     liq_price,\n\u001b[1;32m--> 209\u001b[0m ) \u001b[39m=\u001b[39m \u001b[39mself\u001b[39;49m\u001b[39m.\u001b[39;49mcalc_liq_price(\n\u001b[0;32m    210\u001b[0m     leverage\u001b[39m=\u001b[39;49mleverage,\n\u001b[0;32m    211\u001b[0m     average_entry\u001b[39m=\u001b[39;49maverage_entry,\n\u001b[0;32m    212\u001b[0m     og_cash_used\u001b[39m=\u001b[39;49mcash_used,\n\u001b[0;32m    213\u001b[0m     og_available_balance\u001b[39m=\u001b[39;49mavailable_balance,\n\u001b[0;32m    214\u001b[0m     og_cash_borrowed\u001b[39m=\u001b[39;49mcash_borrowed,\n\u001b[0;32m    215\u001b[0m     position_size_asset\u001b[39m=\u001b[39;49mposition_size_asset,\n\u001b[0;32m    216\u001b[0m     position_size_usd\u001b[39m=\u001b[39;49mposition_size_usd,\n\u001b[0;32m    217\u001b[0m )\n\u001b[0;32m    218\u001b[0m \u001b[39mreturn\u001b[39;00m (\n\u001b[0;32m    219\u001b[0m     available_balance,\n\u001b[0;32m    220\u001b[0m     cash_borrowed,\n\u001b[1;32m   (...)\u001b[0m\n\u001b[0;32m    223\u001b[0m     liq_price,\n\u001b[0;32m    224\u001b[0m )\n",
            "File \u001b[1;32mE:\\Coding\\backtesters\\QuantFreedom\\quantfreedom\\order_handler\\leverage.py:110\u001b[0m, in \u001b[0;36mLeverage.calc_liq_price\u001b[1;34m(self, average_entry, leverage, og_available_balance, og_cash_borrowed, og_cash_used, position_size_asset, position_size_usd)\u001b[0m\n\u001b[0;32m    109\u001b[0m     logger\u001b[39m.\u001b[39mwarning(\u001b[39m\"\u001b[39m\u001b[39mCash used bigger than available balance\u001b[39m\u001b[39m\"\u001b[39m)\n\u001b[1;32m--> 110\u001b[0m     \u001b[39mraise\u001b[39;00m \u001b[39mException\u001b[39;00m(\u001b[39m\"\u001b[39m\u001b[39mCash used bigger than available balance\u001b[39m\u001b[39m\"\u001b[39m)\n\u001b[0;32m    111\u001b[0m \u001b[39melse\u001b[39;00m:\n",
            "\u001b[1;31mException\u001b[0m: Cash used bigger than available balance",
            "\nDuring handling of the above exception, another exception occurred:\n",
            "\u001b[1;31mException\u001b[0m                                 Traceback (most recent call last)",
            "\u001b[1;32me:\\Coding\\backtesters\\QuantFreedom\\tests\\full_strat.ipynb Cell 5\u001b[0m line \u001b[0;36m1\n\u001b[1;32m----> <a href='vscode-notebook-cell:/e%3A/Coding/backtesters/QuantFreedom/tests/full_strat.ipynb#W3sZmlsZQ%3D%3D?line=0'>1</a>\u001b[0m run_df_backtest(\n\u001b[0;32m      <a href='vscode-notebook-cell:/e%3A/Coding/backtesters/QuantFreedom/tests/full_strat.ipynb#W3sZmlsZQ%3D%3D?line=1'>2</a>\u001b[0m     backtest_settings\u001b[39m=\u001b[39;49mbacktest_settings,\n\u001b[0;32m      <a href='vscode-notebook-cell:/e%3A/Coding/backtesters/QuantFreedom/tests/full_strat.ipynb#W3sZmlsZQ%3D%3D?line=2'>3</a>\u001b[0m     candles\u001b[39m=\u001b[39;49mcandles,\n\u001b[0;32m      <a href='vscode-notebook-cell:/e%3A/Coding/backtesters/QuantFreedom/tests/full_strat.ipynb#W3sZmlsZQ%3D%3D?line=3'>4</a>\u001b[0m     dos_arrays\u001b[39m=\u001b[39;49mdos_arrays,\n\u001b[0;32m      <a href='vscode-notebook-cell:/e%3A/Coding/backtesters/QuantFreedom/tests/full_strat.ipynb#W3sZmlsZQ%3D%3D?line=4'>5</a>\u001b[0m     exchange_settings\u001b[39m=\u001b[39;49mmufex_main\u001b[39m.\u001b[39;49mexchange_settings,\n\u001b[0;32m      <a href='vscode-notebook-cell:/e%3A/Coding/backtesters/QuantFreedom/tests/full_strat.ipynb#W3sZmlsZQ%3D%3D?line=5'>6</a>\u001b[0m     static_os\u001b[39m=\u001b[39;49mstatic_os,\n\u001b[0;32m      <a href='vscode-notebook-cell:/e%3A/Coding/backtesters/QuantFreedom/tests/full_strat.ipynb#W3sZmlsZQ%3D%3D?line=6'>7</a>\u001b[0m     strategy\u001b[39m=\u001b[39;49mstrategy,\n\u001b[0;32m      <a href='vscode-notebook-cell:/e%3A/Coding/backtesters/QuantFreedom/tests/full_strat.ipynb#W3sZmlsZQ%3D%3D?line=7'>8</a>\u001b[0m )\n",
            "File \u001b[1;32mE:\\Coding\\backtesters\\QuantFreedom\\quantfreedom\\simulate.py:254\u001b[0m, in \u001b[0;36mrun_df_backtest\u001b[1;34m(backtest_settings, candles, dos_arrays, exchange_settings, static_os, strategy)\u001b[0m\n\u001b[0;32m    252\u001b[0m         \u001b[39mexcept\u001b[39;00m \u001b[39mException\u001b[39;00m \u001b[39mas\u001b[39;00m e:\n\u001b[0;32m    253\u001b[0m             logger\u001b[39m.\u001b[39merror(\u001b[39mf\u001b[39m\u001b[39m\"\u001b[39m\u001b[39mException hit in eval strat -> \u001b[39m\u001b[39m{\u001b[39;00me\u001b[39m}\u001b[39;00m\u001b[39m\"\u001b[39m)\n\u001b[1;32m--> 254\u001b[0m             \u001b[39mraise\u001b[39;00m \u001b[39mException\u001b[39;00m(\u001b[39mf\u001b[39m\u001b[39m\"\u001b[39m\u001b[39mException hit in eval strat -> \u001b[39m\u001b[39m{\u001b[39;00me\u001b[39m}\u001b[39;00m\u001b[39m\"\u001b[39m)\n\u001b[0;32m    256\u001b[0m \u001b[39m# Checking if gains\u001b[39;00m\n\u001b[0;32m    257\u001b[0m gains_pct \u001b[39m=\u001b[39m \u001b[39mround\u001b[39m(((order\u001b[39m.\u001b[39mequity \u001b[39m-\u001b[39m starting_equity) \u001b[39m/\u001b[39m starting_equity) \u001b[39m*\u001b[39m \u001b[39m100\u001b[39m, \u001b[39m3\u001b[39m)\n",
            "\u001b[1;31mException\u001b[0m: Exception hit in eval strat -> Cash used bigger than available balance"
          ]
        }
      ],
      "source": [
        "run_df_backtest(\n",
        "    backtest_settings=backtest_settings,\n",
        "    candles=candles,\n",
        "    dos_arrays=dos_arrays,\n",
        "    exchange_settings=mufex_main.exchange_settings,\n",
        "    static_os=static_os,\n",
        "    strategy=strategy,\n",
        ")"
      ]
    },
    {
      "cell_type": "code",
      "execution_count": 20,
      "metadata": {},
      "outputs": [
        {
          "ename": "Exception",
          "evalue": "Exception hit in eval strat -> ",
          "output_type": "error",
          "traceback": [
            "\u001b[1;31m---------------------------------------------------------------------------\u001b[0m",
            "\u001b[1;31mException\u001b[0m                                 Traceback (most recent call last)",
            "File \u001b[1;32mE:\\Coding\\backtesters\\QuantFreedom\\quantfreedom\\simulate.py:489\u001b[0m, in \u001b[0;36mor_backtest\u001b[1;34m(backtest_settings, candles, dos_arrays, exchange_settings, static_os, strategy, dos_index, ind_set_index, plot_results)\u001b[0m\n\u001b[0;32m    482\u001b[0m logger\u001b[39m.\u001b[39mdebug(\u001b[39m\"\u001b[39m\u001b[39mcalculate_leverage\u001b[39m\u001b[39m\"\u001b[39m)\n\u001b[0;32m    483\u001b[0m (\n\u001b[0;32m    484\u001b[0m     available_balance,\n\u001b[0;32m    485\u001b[0m     cash_borrowed,\n\u001b[0;32m    486\u001b[0m     cash_used,\n\u001b[0;32m    487\u001b[0m     leverage,\n\u001b[0;32m    488\u001b[0m     liq_price,\n\u001b[1;32m--> 489\u001b[0m ) \u001b[39m=\u001b[39m order\u001b[39m.\u001b[39;49mcalculate_leverage(\n\u001b[0;32m    490\u001b[0m     available_balance\u001b[39m=\u001b[39;49morder\u001b[39m.\u001b[39;49mavailable_balance,\n\u001b[0;32m    491\u001b[0m     average_entry\u001b[39m=\u001b[39;49maverage_entry,\n\u001b[0;32m    492\u001b[0m     cash_borrowed\u001b[39m=\u001b[39;49morder\u001b[39m.\u001b[39;49mcash_borrowed,\n\u001b[0;32m    493\u001b[0m     cash_used\u001b[39m=\u001b[39;49morder\u001b[39m.\u001b[39;49mcash_used,\n\u001b[0;32m    494\u001b[0m     position_size_usd\u001b[39m=\u001b[39;49mposition_size_usd,\n\u001b[0;32m    495\u001b[0m     position_size_asset\u001b[39m=\u001b[39;49mposition_size_asset,\n\u001b[0;32m    496\u001b[0m     sl_price\u001b[39m=\u001b[39;49msl_price,\n\u001b[0;32m    497\u001b[0m )\n\u001b[0;32m    499\u001b[0m logger\u001b[39m.\u001b[39mdebug(\u001b[39m\"\u001b[39m\u001b[39mcalculate_take_profit\u001b[39m\u001b[39m\"\u001b[39m)\n",
            "File \u001b[1;32mE:\\Coding\\backtesters\\QuantFreedom\\quantfreedom\\order_handler\\order.py:325\u001b[0m, in \u001b[0;36mOrderHandler.calculate_leverage\u001b[1;34m(self, available_balance, average_entry, cash_borrowed, cash_used, position_size_asset, position_size_usd, sl_price)\u001b[0m\n\u001b[0;32m    309\u001b[0m \u001b[39mdef\u001b[39;00m \u001b[39mcalculate_leverage\u001b[39m(\n\u001b[0;32m    310\u001b[0m     \u001b[39mself\u001b[39m,\n\u001b[0;32m    311\u001b[0m     available_balance: \u001b[39mfloat\u001b[39m,\n\u001b[1;32m   (...)\u001b[0m\n\u001b[0;32m    317\u001b[0m     sl_price: \u001b[39mfloat\u001b[39m,\n\u001b[0;32m    318\u001b[0m ):\n\u001b[0;32m    319\u001b[0m     (\n\u001b[0;32m    320\u001b[0m         available_balance,\n\u001b[0;32m    321\u001b[0m         cash_borrowed,\n\u001b[0;32m    322\u001b[0m         cash_used,\n\u001b[0;32m    323\u001b[0m         leverage,\n\u001b[0;32m    324\u001b[0m         liq_price,\n\u001b[1;32m--> 325\u001b[0m     ) \u001b[39m=\u001b[39m \u001b[39mself\u001b[39;49m\u001b[39m.\u001b[39;49mobj_leverage\u001b[39m.\u001b[39;49mlev_calculator(\n\u001b[0;32m    326\u001b[0m         available_balance\u001b[39m=\u001b[39;49mavailable_balance,\n\u001b[0;32m    327\u001b[0m         average_entry\u001b[39m=\u001b[39;49maverage_entry,\n\u001b[0;32m    328\u001b[0m         cash_borrowed\u001b[39m=\u001b[39;49mcash_borrowed,\n\u001b[0;32m    329\u001b[0m         cash_used\u001b[39m=\u001b[39;49mcash_used,\n\u001b[0;32m    330\u001b[0m         position_size_asset\u001b[39m=\u001b[39;49mposition_size_asset,\n\u001b[0;32m    331\u001b[0m         position_size_usd\u001b[39m=\u001b[39;49mposition_size_asset,\n\u001b[0;32m    332\u001b[0m         sl_price\u001b[39m=\u001b[39;49msl_price,\n\u001b[0;32m    333\u001b[0m     )\n\u001b[0;32m    334\u001b[0m     logger\u001b[39m.\u001b[39minfo(\n\u001b[0;32m    335\u001b[0m         \u001b[39mf\u001b[39m\u001b[39m\"\u001b[39m\u001b[39m\\\u001b[39;00m\n\u001b[0;32m    336\u001b[0m \u001b[39m        \u001b[39m\u001b[39m\\n\u001b[39;00m\u001b[39mavailable_balance= \u001b[39m\u001b[39m{\u001b[39;00mavailable_balance\u001b[39m}\u001b[39;00m\u001b[39m\\\u001b[39;00m\n\u001b[1;32m   (...)\u001b[0m\n\u001b[0;32m    340\u001b[0m \u001b[39m        \u001b[39m\u001b[39m\\n\u001b[39;00m\u001b[39mliq_price= \u001b[39m\u001b[39m{\u001b[39;00mliq_price\u001b[39m}\u001b[39;00m\u001b[39m\"\u001b[39m\n\u001b[0;32m    341\u001b[0m     )\n",
            "File \u001b[1;32mE:\\Coding\\backtesters\\QuantFreedom\\quantfreedom\\order_handler\\leverage.py:209\u001b[0m, in \u001b[0;36mLeverage.dynamic_lev\u001b[1;34m(self, available_balance, average_entry, cash_borrowed, cash_used, position_size_asset, position_size_usd, sl_price)\u001b[0m\n\u001b[0;32m    202\u001b[0m     logger\u001b[39m.\u001b[39mdebug(\u001b[39mf\u001b[39m\u001b[39m\"\u001b[39m\u001b[39mLeverage= \u001b[39m\u001b[39m{\u001b[39;00mleverage\u001b[39m}\u001b[39;00m\u001b[39m\"\u001b[39m)\n\u001b[0;32m    204\u001b[0m (\n\u001b[0;32m    205\u001b[0m     available_balance,\n\u001b[0;32m    206\u001b[0m     cash_borrowed,\n\u001b[0;32m    207\u001b[0m     cash_used,\n\u001b[0;32m    208\u001b[0m     liq_price,\n\u001b[1;32m--> 209\u001b[0m ) \u001b[39m=\u001b[39m \u001b[39mself\u001b[39;49m\u001b[39m.\u001b[39;49mcalc_liq_price(\n\u001b[0;32m    210\u001b[0m     leverage\u001b[39m=\u001b[39;49mleverage,\n\u001b[0;32m    211\u001b[0m     average_entry\u001b[39m=\u001b[39;49maverage_entry,\n\u001b[0;32m    212\u001b[0m     og_cash_used\u001b[39m=\u001b[39;49mcash_used,\n\u001b[0;32m    213\u001b[0m     og_available_balance\u001b[39m=\u001b[39;49mavailable_balance,\n\u001b[0;32m    214\u001b[0m     og_cash_borrowed\u001b[39m=\u001b[39;49mcash_borrowed,\n\u001b[0;32m    215\u001b[0m     position_size_asset\u001b[39m=\u001b[39;49mposition_size_asset,\n\u001b[0;32m    216\u001b[0m     position_size_usd\u001b[39m=\u001b[39;49mposition_size_usd,\n\u001b[0;32m    217\u001b[0m )\n\u001b[0;32m    218\u001b[0m \u001b[39mreturn\u001b[39;00m (\n\u001b[0;32m    219\u001b[0m     available_balance,\n\u001b[0;32m    220\u001b[0m     cash_borrowed,\n\u001b[1;32m   (...)\u001b[0m\n\u001b[0;32m    223\u001b[0m     liq_price,\n\u001b[0;32m    224\u001b[0m )\n",
            "File \u001b[1;32mE:\\Coding\\backtesters\\QuantFreedom\\quantfreedom\\order_handler\\leverage.py:110\u001b[0m, in \u001b[0;36mLeverage.calc_liq_price\u001b[1;34m(self, average_entry, leverage, og_available_balance, og_cash_borrowed, og_cash_used, position_size_asset, position_size_usd)\u001b[0m\n\u001b[0;32m    109\u001b[0m     logger\u001b[39m.\u001b[39mwarning(\u001b[39m\"\u001b[39m\u001b[39mCash used bigger than available balance\u001b[39m\u001b[39m\"\u001b[39m)\n\u001b[1;32m--> 110\u001b[0m     \u001b[39mraise\u001b[39;00m \u001b[39mException\u001b[39;00m\n\u001b[0;32m    111\u001b[0m \u001b[39melse\u001b[39;00m:\n",
            "\u001b[1;31mException\u001b[0m: ",
            "\nDuring handling of the above exception, another exception occurred:\n",
            "\u001b[1;31mException\u001b[0m                                 Traceback (most recent call last)",
            "\u001b[1;32me:\\Coding\\backtesters\\QuantFreedom\\tests\\full_strat.ipynb Cell 6\u001b[0m line \u001b[0;36m1\n\u001b[1;32m----> <a href='vscode-notebook-cell:/e%3A/Coding/backtesters/QuantFreedom/tests/full_strat.ipynb#W4sZmlsZQ%3D%3D?line=0'>1</a>\u001b[0m order_records_df \u001b[39m=\u001b[39m or_backtest(\n\u001b[0;32m      <a href='vscode-notebook-cell:/e%3A/Coding/backtesters/QuantFreedom/tests/full_strat.ipynb#W4sZmlsZQ%3D%3D?line=1'>2</a>\u001b[0m     backtest_settings\u001b[39m=\u001b[39;49mbacktest_settings,\n\u001b[0;32m      <a href='vscode-notebook-cell:/e%3A/Coding/backtesters/QuantFreedom/tests/full_strat.ipynb#W4sZmlsZQ%3D%3D?line=2'>3</a>\u001b[0m     candles\u001b[39m=\u001b[39;49mcandles,\n\u001b[0;32m      <a href='vscode-notebook-cell:/e%3A/Coding/backtesters/QuantFreedom/tests/full_strat.ipynb#W4sZmlsZQ%3D%3D?line=3'>4</a>\u001b[0m     dos_arrays\u001b[39m=\u001b[39;49mdos_arrays,\n\u001b[0;32m      <a href='vscode-notebook-cell:/e%3A/Coding/backtesters/QuantFreedom/tests/full_strat.ipynb#W4sZmlsZQ%3D%3D?line=4'>5</a>\u001b[0m     exchange_settings\u001b[39m=\u001b[39;49mmufex_main\u001b[39m.\u001b[39;49mexchange_settings,\n\u001b[0;32m      <a href='vscode-notebook-cell:/e%3A/Coding/backtesters/QuantFreedom/tests/full_strat.ipynb#W4sZmlsZQ%3D%3D?line=5'>6</a>\u001b[0m     static_os\u001b[39m=\u001b[39;49mstatic_os,\n\u001b[0;32m      <a href='vscode-notebook-cell:/e%3A/Coding/backtesters/QuantFreedom/tests/full_strat.ipynb#W4sZmlsZQ%3D%3D?line=6'>7</a>\u001b[0m     strategy\u001b[39m=\u001b[39;49mstrategy,\n\u001b[0;32m      <a href='vscode-notebook-cell:/e%3A/Coding/backtesters/QuantFreedom/tests/full_strat.ipynb#W4sZmlsZQ%3D%3D?line=7'>8</a>\u001b[0m     dos_index\u001b[39m=\u001b[39;49m\u001b[39m0\u001b[39;49m,\n\u001b[0;32m      <a href='vscode-notebook-cell:/e%3A/Coding/backtesters/QuantFreedom/tests/full_strat.ipynb#W4sZmlsZQ%3D%3D?line=8'>9</a>\u001b[0m     ind_set_index\u001b[39m=\u001b[39;49m\u001b[39m0\u001b[39;49m,\n\u001b[0;32m     <a href='vscode-notebook-cell:/e%3A/Coding/backtesters/QuantFreedom/tests/full_strat.ipynb#W4sZmlsZQ%3D%3D?line=9'>10</a>\u001b[0m     plot_results\u001b[39m=\u001b[39;49m\u001b[39mTrue\u001b[39;49;00m,\n\u001b[0;32m     <a href='vscode-notebook-cell:/e%3A/Coding/backtesters/QuantFreedom/tests/full_strat.ipynb#W4sZmlsZQ%3D%3D?line=10'>11</a>\u001b[0m )\n",
            "File \u001b[1;32mE:\\Coding\\backtesters\\QuantFreedom\\quantfreedom\\simulate.py:553\u001b[0m, in \u001b[0;36mor_backtest\u001b[1;34m(backtest_settings, candles, dos_arrays, exchange_settings, static_os, strategy, dos_index, ind_set_index, plot_results)\u001b[0m\n\u001b[0;32m    551\u001b[0m             \u001b[39melse\u001b[39;00m:\n\u001b[0;32m    552\u001b[0m                 logger\u001b[39m.\u001b[39merror(\u001b[39mf\u001b[39m\u001b[39m\"\u001b[39m\u001b[39mException hit in eval strat -> \u001b[39m\u001b[39m{\u001b[39;00me\u001b[39m}\u001b[39;00m\u001b[39m\"\u001b[39m)\n\u001b[1;32m--> 553\u001b[0m                 \u001b[39mraise\u001b[39;00m \u001b[39mException\u001b[39;00m(\u001b[39mf\u001b[39m\u001b[39m\"\u001b[39m\u001b[39mException hit in eval strat -> \u001b[39m\u001b[39m{\u001b[39;00me\u001b[39m}\u001b[39;00m\u001b[39m\"\u001b[39m)\n\u001b[0;32m    554\u001b[0m order_records_df \u001b[39m=\u001b[39m order_records_to_df(order_records[:or_filled])\n\u001b[0;32m    555\u001b[0m \u001b[39mif\u001b[39;00m plot_results:\n",
            "\u001b[1;31mException\u001b[0m: Exception hit in eval strat -> "
          ]
        }
      ],
      "source": [
        "order_records_df = or_backtest(\n",
        "    backtest_settings=backtest_settings,\n",
        "    candles=candles,\n",
        "    dos_arrays=dos_arrays,\n",
        "    exchange_settings=mufex_main.exchange_settings,\n",
        "    static_os=static_os,\n",
        "    strategy=strategy,\n",
        "    dos_index=0,\n",
        "    ind_set_index=0,\n",
        "    plot_results=True,\n",
        ")"
      ]
    },
    {
      "cell_type": "code",
      "execution_count": null,
      "metadata": {},
      "outputs": [],
      "source": [
        "order_records_df"
      ]
    }
  ],
  "metadata": {
    "kernelspec": {
      "display_name": "qfFree",
      "language": "python",
      "name": "python3"
    },
    "language_info": {
      "codemirror_mode": {
        "name": "ipython",
        "version": 3
      },
      "file_extension": ".py",
      "mimetype": "text/x-python",
      "name": "python",
      "nbconvert_exporter": "python",
      "pygments_lexer": "ipython3",
      "version": "3.10.10"
    },
    "orig_nbformat": 4
  },
  "nbformat": 4,
  "nbformat_minor": 2
}
