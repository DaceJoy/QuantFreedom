{
  "cells": [
    {
      "cell_type": "code",
      "execution_count": 1,
      "metadata": {},
      "outputs": [],
      "source": [
        "import numpy as np\n",
        "import pandas as pd\n",
        "from my_stuff import MufexKeys\n",
        "from quantfreedom.exchanges.mufex_exchange.mufex import Mufex\n",
        "from quantfreedom.enums import *\n",
        "\n",
        "from quantfreedom.simulate import run_df_backtest\n",
        "from quantfreedom.strategies.strategy import Strategy\n",
        "\n",
        "\n",
        "mufex_main = Mufex(\n",
        "    api_key=MufexKeys.api_key,\n",
        "    secret_key=MufexKeys.secret_key,\n",
        "    use_test_net=False,\n",
        ")\n",
        "\n",
        "%load_ext autoreload\n",
        "%autoreload 2"
      ]
    },
    {
      "cell_type": "code",
      "execution_count": 2,
      "metadata": {},
      "outputs": [
        {
          "name": "stdout",
          "output_type": "stream",
          "text": [
            "It took 00 mins and 01 seconds to download 1000 candles\n"
          ]
        }
      ],
      "source": [
        "candles_np = mufex_main.get_candles(symbol=\"BTCUSDT\", timeframe=\"5m\", candles_to_dl=1000)"
      ]
    },
    {
      "cell_type": "code",
      "execution_count": 3,
      "metadata": {},
      "outputs": [],
      "source": [
        "mufex_main.set_exchange_settings(\n",
        "    symbol=\"BTCUSDT\",\n",
        "    position_mode=PositionModeType.HedgeMode,\n",
        "    leverage_mode=LeverageModeType.Isolated,\n",
        ")\n",
        "# backtest_settings = BacktestSettings(\n",
        "#     array_size=200,\n",
        "#     gains_pct_filter=-90,\n",
        "#     total_trade_filter=10,\n",
        "#     upside_filter=-np.inf,\n",
        "# )\n",
        "backtest_settings = BacktestSettings()\n",
        "dos_arrays = DynamicOrderSettingsArrays(\n",
        "    max_equity_risk_pct=np.array([9, 12]),\n",
        "    max_trades=np.array([5]),\n",
        "    num_candles=np.array([100]),\n",
        "    risk_account_pct_size=np.array([3]),\n",
        "    risk_reward=np.array([2, 5]),\n",
        "    sl_based_on_add_pct=np.array([0.01]),\n",
        "    sl_based_on_lookback=np.array([20]),\n",
        "    sl_bcb_type=np.array([CandleBodyType.Low]),\n",
        "    sl_to_be_cb_type=np.array([CandleBodyType.Nothing]),\n",
        "    sl_to_be_when_pct=np.array([0]),\n",
        "    static_leverage=np.array([0]),\n",
        "    trail_sl_bcb_type=np.array([CandleBodyType.Low]),\n",
        "    trail_sl_by_pct=np.array([0.5]),\n",
        "    trail_sl_when_pct=np.array([1]),\n",
        ")\n",
        "static_os = StaticOrderSettings(\n",
        "    increase_position_type=IncreasePositionType.RiskPctAccountEntrySize,\n",
        "    leverage_strategy_type=LeverageStrategyType.Dynamic,\n",
        "    logger_bool=True,\n",
        "    long_or_short=LongOrShortType.Long,\n",
        "    pg_min_max_sl_bcb=PriceGetterType.Min,\n",
        "    sl_strategy_type=StopLossStrategyType.SLBasedOnCandleBody,\n",
        "    sl_to_be_bool=False,\n",
        "    starting_equity=1000.0,\n",
        "    tp_fee_type=TakeProfitFeeType.Limit,\n",
        "    tp_strategy_type=TakeProfitStrategyType.RiskReward,\n",
        "    trail_sl_bool=True,\n",
        "    z_or_e_type=ZeroOrEntryType.Nothing,\n",
        ")\n",
        "strategy = Strategy(\n",
        "    candle_processing_type=CandleProcessingType.Backtest,\n",
        "    rsi_is_below=np.array([80]),\n",
        "    rsi_period=np.array([14]),\n",
        ")"
      ]
    },
    {
      "cell_type": "code",
      "execution_count": 4,
      "metadata": {},
      "outputs": [
        {
          "name": "stdout",
          "output_type": "stream",
          "text": [
            "Starting the backtest now ... and also here are some stats for your backtest.\n",
            "\n",
            "Total indicator settings to test: 1\n",
            "Total order settings to test: 4\n",
            "Total combinations of settings to test: 4\n",
            "Total candles: 1,000\n",
            "Total candles to test: 4,000\n"
          ]
        }
      ],
      "source": [
        "strat_records_df = run_df_backtest(\n",
        "    backtest_settings=backtest_settings,\n",
        "    candles=candles_np,\n",
        "    dos_arrays=dos_arrays,\n",
        "    exchange_settings=mufex_main.exchange_settings,\n",
        "    static_os=static_os,\n",
        "    strategy=strategy,\n",
        ")"
      ]
    },
    {
      "cell_type": "code",
      "execution_count": 5,
      "metadata": {},
      "outputs": [
        {
          "data": {
            "text/html": [
              "<div>\n",
              "<style scoped>\n",
              "    .dataframe tbody tr th:only-of-type {\n",
              "        vertical-align: middle;\n",
              "    }\n",
              "\n",
              "    .dataframe tbody tr th {\n",
              "        vertical-align: top;\n",
              "    }\n",
              "\n",
              "    .dataframe thead th {\n",
              "        text-align: right;\n",
              "    }\n",
              "</style>\n",
              "<table border=\"1\" class=\"dataframe\">\n",
              "  <thead>\n",
              "    <tr style=\"text-align: right;\">\n",
              "      <th></th>\n",
              "      <th>ind_set_idx</th>\n",
              "      <th>dos_index</th>\n",
              "      <th>total_trades</th>\n",
              "      <th>wins</th>\n",
              "      <th>losses</th>\n",
              "      <th>gains_pct</th>\n",
              "      <th>win_rate</th>\n",
              "      <th>to_the_upside</th>\n",
              "      <th>fees_paid</th>\n",
              "      <th>total_pnl</th>\n",
              "      <th>ending_eq</th>\n",
              "    </tr>\n",
              "  </thead>\n",
              "  <tbody>\n",
              "    <tr>\n",
              "      <th>0</th>\n",
              "      <td>0</td>\n",
              "      <td>0</td>\n",
              "      <td>36.0</td>\n",
              "      <td>5</td>\n",
              "      <td>31</td>\n",
              "      <td>-74.14</td>\n",
              "      <td>13.89</td>\n",
              "      <td>-0.9172</td>\n",
              "      <td>449.486</td>\n",
              "      <td>-741.413</td>\n",
              "      <td>258.587</td>\n",
              "    </tr>\n",
              "    <tr>\n",
              "      <th>1</th>\n",
              "      <td>0</td>\n",
              "      <td>1</td>\n",
              "      <td>34.0</td>\n",
              "      <td>4</td>\n",
              "      <td>30</td>\n",
              "      <td>-59.68</td>\n",
              "      <td>11.76</td>\n",
              "      <td>-0.8188</td>\n",
              "      <td>459.950</td>\n",
              "      <td>-596.781</td>\n",
              "      <td>403.219</td>\n",
              "    </tr>\n",
              "    <tr>\n",
              "      <th>2</th>\n",
              "      <td>0</td>\n",
              "      <td>2</td>\n",
              "      <td>36.0</td>\n",
              "      <td>5</td>\n",
              "      <td>31</td>\n",
              "      <td>-79.69</td>\n",
              "      <td>13.89</td>\n",
              "      <td>-0.8533</td>\n",
              "      <td>469.730</td>\n",
              "      <td>-796.899</td>\n",
              "      <td>203.101</td>\n",
              "    </tr>\n",
              "    <tr>\n",
              "      <th>3</th>\n",
              "      <td>0</td>\n",
              "      <td>3</td>\n",
              "      <td>35.0</td>\n",
              "      <td>4</td>\n",
              "      <td>31</td>\n",
              "      <td>-70.25</td>\n",
              "      <td>11.43</td>\n",
              "      <td>-0.0000</td>\n",
              "      <td>487.951</td>\n",
              "      <td>-702.541</td>\n",
              "      <td>297.459</td>\n",
              "    </tr>\n",
              "  </tbody>\n",
              "</table>\n",
              "</div>"
            ],
            "text/plain": [
              "   ind_set_idx  dos_index  total_trades  wins  losses  gains_pct  win_rate  \\\n",
              "0            0          0          36.0     5      31     -74.14     13.89   \n",
              "1            0          1          34.0     4      30     -59.68     11.76   \n",
              "2            0          2          36.0     5      31     -79.69     13.89   \n",
              "3            0          3          35.0     4      31     -70.25     11.43   \n",
              "\n",
              "   to_the_upside  fees_paid  total_pnl  ending_eq  \n",
              "0        -0.9172    449.486   -741.413    258.587  \n",
              "1        -0.8188    459.950   -596.781    403.219  \n",
              "2        -0.8533    469.730   -796.899    203.101  \n",
              "3        -0.0000    487.951   -702.541    297.459  "
            ]
          },
          "execution_count": 5,
          "metadata": {},
          "output_type": "execute_result"
        }
      ],
      "source": [
        "strat_records_df"
      ]
    }
  ],
  "metadata": {
    "kernelspec": {
      "display_name": "qfFree",
      "language": "python",
      "name": "python3"
    },
    "language_info": {
      "codemirror_mode": {
        "name": "ipython",
        "version": 3
      },
      "file_extension": ".py",
      "mimetype": "text/x-python",
      "name": "python",
      "nbconvert_exporter": "python",
      "pygments_lexer": "ipython3",
      "version": "3.10.10"
    },
    "orig_nbformat": 4
  },
  "nbformat": 4,
  "nbformat_minor": 2
}
