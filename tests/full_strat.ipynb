{
  "cells": [
    {
      "cell_type": "code",
      "execution_count": null,
      "metadata": {},
      "outputs": [],
      "source": [
        "import numpy as np\n",
        "import pandas as pd\n",
        "from my_stuff import MufexKeys\n",
        "from quantfreedom.exchanges.mufex_exchange.mufex import Mufex\n",
        "from quantfreedom.enums import DynamicOrderSettingsArrays\n",
        "from quantfreedom.enums import *\n",
        "from quantfreedom.helper_funcs import dos_cart_product\n",
        "from quantfreedom.strategies.strategy import (\n",
        "    strat_bt_create_ind,\n",
        "    strat_evaluate,\n",
        "    strat_get_current_ind_settings,\n",
        "    strat_get_ind_set_str,\n",
        "    strat_get_total_ind_settings,\n",
        ")\n",
        "from quantfreedom.simulate import sim_df_backtest\n",
        "from quantfreedom.sim_order_records import sim_get_or\n",
        "import requests\n",
        "\n",
        "mufex_main = Mufex(\n",
        "    api_key=MufexKeys.api_key,\n",
        "    secret_key=MufexKeys.secret_key,\n",
        "    use_test_net=False,\n",
        ")\n",
        "\n",
        "%load_ext autoreload\n",
        "%autoreload 2"
      ]
    },
    {
      "cell_type": "code",
      "execution_count": null,
      "metadata": {},
      "outputs": [],
      "source": [
        "candles_np = mufex_main.get_candles(symbol=\"BTCUSDT\", timeframe=\"5m\", candles_to_dl=1000)"
      ]
    },
    {
      "cell_type": "code",
      "execution_count": null,
      "metadata": {},
      "outputs": [],
      "source": [
        "mufex_main.set_exchange_settings(\n",
        "    symbol=\"BTCUSDT\",\n",
        "    position_mode=PositionModeType.HedgeMode,\n",
        "    leverage_mode=LeverageModeType.Isolated,\n",
        ")\n",
        "backtest_settings = BacktestSettings(\n",
        "    divide_records_array_size_by=1,\n",
        "    gains_pct_filter=-90,\n",
        "    total_trade_filter=60,\n",
        "    upside_filter=-np.inf,\n",
        ")\n",
        "dos_arrays = DynamicOrderSettingsArrays(\n",
        "    entry_size_asset=np.array([0]),\n",
        "    max_equity_risk_pct=np.array([9]),\n",
        "    max_trades=np.array([5]),\n",
        "    num_candles=np.array([100]),\n",
        "    risk_account_pct_size=np.array([3]),\n",
        "    risk_reward=np.array([2]),\n",
        "    sl_based_on_add_pct=np.array([0.01]),\n",
        "    sl_based_on_lookback=np.array([20]),\n",
        "    sl_bcb_type=np.array([CandleBodyType.Low]),\n",
        "    sl_to_be_cb_type=np.array([CandleBodyType.Nothing]),\n",
        "    sl_to_be_when_pct=np.array([0]),\n",
        "    sl_to_be_ze_type=np.array([0]),\n",
        "    static_leverage=np.array([0]),\n",
        "    trail_sl_bcb_type=np.array([CandleBodyType.Low]),\n",
        "    trail_sl_by_pct=np.array([0.5]),\n",
        "    trail_sl_when_pct=np.array([1]),\n",
        ")\n",
        "static_os = StaticOrderSettings(\n",
        "    increase_position_type=IncreasePositionType.RiskPctAccountEntrySize,\n",
        "    leverage_strategy_type=LeverageStrategyType.Dynamic,\n",
        "    long_or_short=LongOrShortType.Long,\n",
        "    logger_bool=True,\n",
        "    pg_min_max_sl_bcb=PriceGetterType.Min,\n",
        "    sl_to_be_bool=False,\n",
        "    z_or_e_type=ZeroOrEntryType.Nothing,\n",
        "    sl_strategy_type=StopLossStrategyType.SLBasedOnCandleBody,\n",
        "    tp_strategy_type=TakeProfitStrategyType.RiskReward,\n",
        "    tp_fee_type=TakeProfitFeeType.Limit,\n",
        "    trail_sl_bool=True,\n",
        ")\n",
        "dos_cart_arrays = dos_cart_product(\n",
        "    dos_arrays=dos_arrays,\n",
        ")"
      ]
    },
    {
      "cell_type": "code",
      "execution_count": null,
      "metadata": {},
      "outputs": [],
      "source": [
        "sim_df_backtest(\n",
        "    backtest_settings=backtest_settings,\n",
        "    candles=candles_np,\n",
        "    dos_cart_arrays=dos_cart_arrays,\n",
        "    evaluate=strat_evaluate,\n",
        "    exchange_settings=mufex_main.exchange_settings,\n",
        "    get_current_ind_settings=strat_get_current_ind_settings,\n",
        "    get_ind_set_str=strat_get_ind_set_str,\n",
        "    get_total_ind_settings=strat_get_total_ind_settings,\n",
        "    ind_creator=strat_bt_create_ind,\n",
        "    logger_type=LoggerType.File,\n",
        "    starting_equity=1000.0,\n",
        "    static_os=static_os,\n",
        ")"
      ]
    },
    {
      "cell_type": "code",
      "execution_count": null,
      "metadata": {},
      "outputs": [],
      "source": [
        "order_records_df = sim_get_or(\n",
        "    backtest_settings=backtest_settings,\n",
        "    candles=candles_np,\n",
        "    dos_cart_arrays=dos_cart_arrays,\n",
        "    evaluate=strat_evaluate,\n",
        "    exchange_settings=mufex_main.exchange_settings,\n",
        "    get_current_ind_settings=strat_get_current_ind_settings,\n",
        "    get_ind_set_str=strat_get_ind_set_str,\n",
        "    get_total_ind_settings=strat_get_total_ind_settings,\n",
        "    ind_creator=strat_bt_create_ind,\n",
        "    logger_type=LoggerType.Pass,\n",
        "    starting_equity=1000.0,\n",
        "    static_os=static_os,\n",
        "    ind_set_index=0,\n",
        "    dos_index=0,\n",
        ")"
      ]
    },
    {
      "cell_type": "code",
      "execution_count": null,
      "metadata": {},
      "outputs": [],
      "source": [
        "order_records_df"
      ]
    }
  ],
  "metadata": {
    "kernelspec": {
      "display_name": "qfFree",
      "language": "python",
      "name": "python3"
    },
    "language_info": {
      "codemirror_mode": {
        "name": "ipython",
        "version": 3
      },
      "file_extension": ".py",
      "mimetype": "text/x-python",
      "name": "python",
      "nbconvert_exporter": "python",
      "pygments_lexer": "ipython3",
      "version": "3.10.10"
    },
    "orig_nbformat": 4
  },
  "nbformat": 4,
  "nbformat_minor": 2
}
