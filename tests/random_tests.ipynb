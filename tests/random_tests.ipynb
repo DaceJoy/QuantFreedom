{
  "cells": [
    {
      "cell_type": "code",
      "execution_count": 15,
      "metadata": {},
      "outputs": [
        {
          "name": "stdout",
          "output_type": "stream",
          "text": [
            "The autoreload extension is already loaded. To reload it, use:\n",
            "  %reload_ext autoreload\n"
          ]
        }
      ],
      "source": [
        "import pandas as pd\n",
        "import numpy as np\n",
        "from quantfreedom.helpers.helper_funcs import np_lookback_one\n",
        "from quantfreedom.indicators.tv_indicators import rsi_tv\n",
        "from quantfreedom import dl_ex_candles\n",
        "\n",
        "%load_ext autoreload\n",
        "%autoreload 2"
      ]
    },
    {
      "cell_type": "code",
      "execution_count": 43,
      "metadata": {},
      "outputs": [
        {
          "name": "stdout",
          "output_type": "stream",
          "text": [
            "0\n"
          ]
        }
      ],
      "source": [
        "args = np.where(np.isnan(np.array([0, 1, 2, 3, 4, 5, 6, 7, 8, 9])))[0]\n",
        "print(args.size)\n",
        "if args.size:\n",
        "    print('yes')"
      ]
    },
    {
      "cell_type": "code",
      "execution_count": 17,
      "metadata": {},
      "outputs": [],
      "source": [
        "candles = dl_ex_candles(\n",
        "    exchange=\"mufex\",\n",
        "    symbol=\"BTCUSDT\",\n",
        "    timeframe=\"5m\",\n",
        ")"
      ]
    },
    {
      "cell_type": "code",
      "execution_count": 19,
      "metadata": {},
      "outputs": [],
      "source": [
        "rsi = rsi_tv(\n",
        "    source=candles.candle_close_prices,\n",
        "    length=14,\n",
        ").round(2)"
      ]
    },
    {
      "cell_type": "code",
      "execution_count": 58,
      "metadata": {},
      "outputs": [
        {
          "data": {
            "text/plain": [
              "array([[  nan,   nan,   nan,   nan,   nan],\n",
              "       [  nan,   nan,   nan,   nan,   nan],\n",
              "       [  nan,   nan,   nan,   nan,   nan],\n",
              "       [  nan,   nan,   nan,   nan,   nan],\n",
              "       [  nan,   nan,   nan,   nan,   nan],\n",
              "       [62.43, 66.48, 62.15, 59.85, 57.56],\n",
              "       [66.48, 62.15, 59.85, 57.56, 58.35],\n",
              "       [62.15, 59.85, 57.56, 58.35, 58.94],\n",
              "       [59.85, 57.56, 58.35, 58.94, 58.5 ],\n",
              "       [57.56, 58.35, 58.94, 58.5 , 63.2 ],\n",
              "       [58.35, 58.94, 58.5 , 63.2 , 59.31]])"
            ]
          },
          "execution_count": 58,
          "metadata": {},
          "output_type": "execute_result"
        }
      ],
      "source": [
        "np_lookback_one(\n",
        "    arr=rsi,\n",
        "    lookback=5,\n",
        "    include_current=False,\n",
        "    fill_value=np.nan,\n",
        "    fwd_bwd=\"fwd\",\n",
        ")[14:25]"
      ]
    },
    {
      "cell_type": "code",
      "execution_count": 57,
      "metadata": {},
      "outputs": [
        {
          "data": {
            "text/plain": [
              "array([62.43, 66.48, 62.15, 59.85, 57.56, 58.35, 58.94, 58.5 , 63.2 ,\n",
              "       59.31, 61.07])"
            ]
          },
          "execution_count": 57,
          "metadata": {},
          "output_type": "execute_result"
        }
      ],
      "source": [
        "rsi[14:25]"
      ]
    }
  ],
  "metadata": {
    "kernelspec": {
      "display_name": "qfree",
      "language": "python",
      "name": "python3"
    },
    "language_info": {
      "codemirror_mode": {
        "name": "ipython",
        "version": 3
      },
      "file_extension": ".py",
      "mimetype": "text/x-python",
      "name": "python",
      "nbconvert_exporter": "python",
      "pygments_lexer": "ipython3",
      "version": "3.10.10"
    }
  },
  "nbformat": 4,
  "nbformat_minor": 2
}
