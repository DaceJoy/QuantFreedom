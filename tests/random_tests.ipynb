{
  "cells": [
    {
      "cell_type": "code",
      "execution_count": 2,
      "metadata": {},
      "outputs": [],
      "source": [
        "import pandas as pd\n",
        "import numpy as np\n",
        "from quantfreedom import dl_ex_candles, all_backtest_stats\n",
        "from quantfreedom.core.backtest import or_backtest\n",
        "from datetime import datetime\n",
        "import pickle\n",
        "from quantfreedom.core.enums import CandleBodyType\n",
        "\n",
        "\n",
        "%load_ext autoreload\n",
        "%autoreload 2"
      ]
    },
    {
      "cell_type": "code",
      "execution_count": 18,
      "metadata": {},
      "outputs": [
        {
          "data": {
            "text/plain": [
              "array([[91,  1,  5, 99, 19, 73, 87, 55],\n",
              "       [28, 94, 67,  1, 47, 41, 69, 69],\n",
              "       [24, 99, 93, 79, 85, 24, 91, 56],\n",
              "       [85, 44, 24, 46, 75, 87, 71, 66],\n",
              "       [23, 47, 44, 45, 48, 23,  0, 78]])"
            ]
          },
          "execution_count": 18,
          "metadata": {},
          "output_type": "execute_result"
        }
      ],
      "source": [
        "thing = np.random.randint(0, 100, (5,8))\n",
        "thing"
      ]
    },
    {
      "cell_type": "code",
      "execution_count": 26,
      "metadata": {},
      "outputs": [
        {
          "data": {
            "text/plain": [
              "array([[ 0,  1,  2,  3,  4,  5,  6,  7],\n",
              "       [53, 17, 33, 14, 72, 17, 25, 97],\n",
              "       [97, 74,  0, 10, 42, 92, 15, 54],\n",
              "       [54, 20,  3, 63, 77,  7, 14, 71],\n",
              "       [ 4, 77, 61, 23, 35, 60, 78, 27],\n",
              "       [36, 91,  4, 45, 84, 27, 99,  0]])"
            ]
          },
          "execution_count": 26,
          "metadata": {},
          "output_type": "execute_result"
        }
      ],
      "source": [
        "thing = np.random.randint(0, 100, (5,8))\n",
        "np.vstack((np.arange(thing.shape[1]), thing))"
      ]
    },
    {
      "cell_type": "code",
      "execution_count": 93,
      "metadata": {},
      "outputs": [
        {
          "name": "stdout",
          "output_type": "stream",
          "text": [
            "1,384,737,348\n",
            "123\n",
            "5,966,166\n",
            "6,015,069\n"
          ]
        }
      ],
      "source": [
        "ts = 28316\n",
        "bars = 1564896\n",
        "threads = 32\n",
        "sb = 1\n",
        "wc = 6000000\n",
        "print(f\"{ts * bars // threads // sb:,}\")\n",
        "new_ts = (wc * threads * sb // bars) + 1\n",
        "print(f\"{new_ts:,}\")\n",
        "print(f\"{(new_ts - 1) * bars // threads // sb:,}\")\n",
        "print(f\"{new_ts * bars // threads // sb:,}\")"
      ]
    },
    {
      "cell_type": "code",
      "execution_count": 62,
      "metadata": {},
      "outputs": [
        {
          "data": {
            "text/plain": [
              "25"
            ]
          },
          "execution_count": 62,
          "metadata": {},
          "output_type": "execute_result"
        }
      ],
      "source": [
        "new_ts = wc * threads // bars\n",
        "new_ts"
      ]
    },
    {
      "cell_type": "code",
      "execution_count": 64,
      "metadata": {},
      "outputs": [
        {
          "data": {
            "text/plain": [
              "1003085"
            ]
          },
          "execution_count": 64,
          "metadata": {},
          "output_type": "execute_result"
        }
      ],
      "source": [
        "(new_ts + 1) * bars // threads"
      ]
    },
    {
      "cell_type": "code",
      "execution_count": 31,
      "metadata": {},
      "outputs": [
        {
          "name": "stdout",
          "output_type": "stream",
          "text": [
            "0\n",
            "1\n",
            "2\n",
            "3\n",
            "4\n",
            "5\n",
            "6\n",
            "7\n",
            "8\n",
            "9\n"
          ]
        }
      ],
      "source": [
        "for i in range(0, 10, 1):\n",
        "    print(i)"
      ]
    },
    {
      "cell_type": "code",
      "execution_count": null,
      "metadata": {},
      "outputs": [],
      "source": []
    },
    {
      "cell_type": "code",
      "execution_count": 19,
      "metadata": {},
      "outputs": [
        {
          "data": {
            "text/plain": [
              "array([[ 0,  1,  2,  3,  4,  5,  6,  7],\n",
              "       [ 8,  9, 10, 11, 12, 13, 14, 15],\n",
              "       [16, 17, 18, 19, 20, 21, 22, 23]])"
            ]
          },
          "execution_count": 19,
          "metadata": {},
          "output_type": "execute_result"
        }
      ],
      "source": [
        "rng = np.random.default_rng()\n",
        "x = np.arange(24).reshape(3, 8)\n",
        "x"
      ]
    },
    {
      "cell_type": "code",
      "execution_count": 22,
      "metadata": {},
      "outputs": [
        {
          "data": {
            "text/plain": [
              "array([[ 4,  0,  7,  2,  3,  1,  6,  5],\n",
              "       [11, 13, 15, 14,  9, 12,  8, 10],\n",
              "       [22, 17, 18, 21, 16, 19, 23, 20]])"
            ]
          },
          "execution_count": 22,
          "metadata": {},
          "output_type": "execute_result"
        }
      ],
      "source": [
        "y = rng.permutation(x, axis=1)\n",
        "y"
      ]
    },
    {
      "cell_type": "code",
      "execution_count": 28,
      "metadata": {},
      "outputs": [
        {
          "data": {
            "text/plain": [
              "7"
            ]
          },
          "execution_count": 28,
          "metadata": {},
          "output_type": "execute_result"
        }
      ],
      "source": [
        "np.where(y[0] == 5)[0][0]"
      ]
    },
    {
      "cell_type": "code",
      "execution_count": 25,
      "metadata": {},
      "outputs": [
        {
          "data": {
            "text/plain": [
              "array([1, 5, 3, 4, 0, 7, 6, 2], dtype=int64)"
            ]
          },
          "execution_count": 25,
          "metadata": {},
          "output_type": "execute_result"
        }
      ],
      "source": [
        "np.argsort(y[0])"
      ]
    }
  ],
  "metadata": {
    "kernelspec": {
      "display_name": "qfree",
      "language": "python",
      "name": "python3"
    },
    "language_info": {
      "codemirror_mode": {
        "name": "ipython",
        "version": 3
      },
      "file_extension": ".py",
      "mimetype": "text/x-python",
      "name": "python",
      "nbconvert_exporter": "python",
      "pygments_lexer": "ipython3",
      "version": "3.10.10"
    }
  },
  "nbformat": 4,
  "nbformat_minor": 2
}
