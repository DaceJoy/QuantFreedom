{
  "cells": [
    {
      "cell_type": "code",
      "execution_count": 1,
      "metadata": {},
      "outputs": [],
      "source": [
        "import numpy as np\n",
        "import pandas as pd\n",
        "from my_stuff import ApexTestKeys\n",
        "from quantfreedom.exchanges.apex_exchange.apex import Apex\n",
        "\n",
        "np.set_printoptions(formatter={\"float_kind\": \"{:0.1f}\".format})\n",
        "\n",
        "%load_ext autoreload\n",
        "%autoreload 2"
      ]
    },
    {
      "cell_type": "code",
      "execution_count": 3,
      "metadata": {},
      "outputs": [],
      "source": [
        "apex_test = Apex(\n",
        "    api_key=ApexTestKeys.api_key,\n",
        "    secret_key=ApexTestKeys.secret_key,\n",
        "    passphrase=ApexTestKeys.passphrase,\n",
        "    stark_key_private=ApexTestKeys.stark_key_private,\n",
        "    stark_key_public=ApexTestKeys.stark_key_public,\n",
        "    stark_key_y=ApexTestKeys.stark_key_y,\n",
        "    use_test_net=True\n",
        ")"
      ]
    },
    {
      "cell_type": "code",
      "execution_count": null,
      "metadata": {},
      "outputs": [],
      "source": [
        "apex_test.create_order(\n",
        "    symbol=\"BTC-USDC\",\n",
        "    side=\"BUY\",\n",
        "    type=\"LIMIT\",\n",
        "    size=.005,\n",
        "    price=34575,\n",
        ")"
      ]
    }
  ],
  "metadata": {
    "kernelspec": {
      "display_name": "qfFree",
      "language": "python",
      "name": "python3"
    },
    "language_info": {
      "codemirror_mode": {
        "name": "ipython",
        "version": 3
      },
      "file_extension": ".py",
      "mimetype": "text/x-python",
      "name": "python",
      "nbconvert_exporter": "python",
      "pygments_lexer": "ipython3",
      "version": "3.10.10"
    },
    "orig_nbformat": 4
  },
  "nbformat": 4,
  "nbformat_minor": 2
}
