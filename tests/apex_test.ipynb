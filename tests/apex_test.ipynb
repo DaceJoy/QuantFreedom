{
 "cells": [
  {
   "cell_type": "code",
   "execution_count": 4,
   "metadata": {},
   "outputs": [
    {
     "data": {
      "text/plain": [
       "'done'"
      ]
     },
     "execution_count": 4,
     "metadata": {},
     "output_type": "execute_result"
    }
   ],
   "source": [
    "import time\n",
    "from quantfreedom.exchanges.apex_exchange.apexpro.http_private_stark_key_sign import HttpPrivateStark\n",
    "from quantfreedom.exchanges.apex_exchange.apexpro.constants import APEX_HTTP_TEST, NETWORKID_TEST\n",
    "from my_stuff import ApexTestKeys\n",
    "\n",
    "key = ApexTestKeys.api_key\n",
    "secret = ApexTestKeys.secret_key\n",
    "passphrase = ApexTestKeys.passphrase\n",
    "\n",
    "public_key = ApexTestKeys.stark_key_public\n",
    "public_key_y_coordinate = ApexTestKeys.stark_key_y\n",
    "private_key = ApexTestKeys.stark_key_private\n",
    "\n",
    "apex_stark = HttpPrivateStark(\n",
    "    APEX_HTTP_TEST,\n",
    "    # network_id=NETWORKID_TEST,\n",
    "    stark_public_key=public_key,\n",
    "    stark_private_key=private_key,\n",
    "    stark_public_key_y_coordinate=public_key_y_coordinate,\n",
    "    api_key_credentials={\"key\": key, \"secret\": secret, \"passphrase\": passphrase},\n",
    ")\n",
    "apex_stark.configs()\n",
    "\n",
    "\"done\""
   ]
  },
  {
   "cell_type": "code",
   "execution_count": 17,
   "metadata": {},
   "outputs": [
    {
     "data": {
      "text/plain": [
       "{'data': {'starkKey': '0x0078393b4f7d1c8f318a9a900d0bf4ed8ff6b042a514c3c6a90be417ddf0f56c',\n",
       "  'positionId': '495583522279391852',\n",
       "  'quoteBalance': '',\n",
       "  'pendingDeposits': '',\n",
       "  'pendingWithdrawals': '',\n",
       "  'createdAt': 1695993119208,\n",
       "  'accountNumber': '',\n",
       "  'adminSignature': '',\n",
       "  'ethereumAddress': '0x7192b3aa5878293075951b53decefb09f3c6f37c',\n",
       "  'id': '495583522279391852',\n",
       "  'takerFeeRate': '0.00050',\n",
       "  'makerFeeRate': '0.00020',\n",
       "  'experienceMoneyAvailableAmount': '0.000000',\n",
       "  'experienceMoneyRecycledAmount': '0.000000',\n",
       "  'wallets': [{'userId': '1520494919339491328',\n",
       "    'accountId': '495583522279391852',\n",
       "    'balance': '1037.978591',\n",
       "    'asset': 'USDC',\n",
       "    'pendingDepositAmount': '0.000000',\n",
       "    'pendingWithdrawAmount': '0.000000',\n",
       "    'pendingTransferOutAmount': '0.000000',\n",
       "    'pendingTransferInAmount': '0.000000'}],\n",
       "  'openPositions': [{'userId': '',\n",
       "    'accountId': '',\n",
       "    'symbol': 'BTC-USDC',\n",
       "    'status': '',\n",
       "    'side': 'LONG',\n",
       "    'size': '0.005',\n",
       "    'maxSize': '',\n",
       "    'entryPrice': '34969',\n",
       "    'exitPrice': '',\n",
       "    'unrealizedPnl': '',\n",
       "    'realizedPnl': '',\n",
       "    'createdAt': 1696076135678,\n",
       "    'updatedTime': 1699290313633,\n",
       "    'netFunding': '',\n",
       "    'sumOpen': '',\n",
       "    'sumClose': '',\n",
       "    'fee': '0.045470',\n",
       "    'fundingFee': '-0.000438',\n",
       "    'lightNumbers': '1',\n",
       "    'customInitialMarginRate': '0.03333'},\n",
       "   {'userId': '',\n",
       "    'accountId': '',\n",
       "    'symbol': 'BTC-USDC',\n",
       "    'status': '',\n",
       "    'side': 'SHORT',\n",
       "    'size': '0.000',\n",
       "    'maxSize': '',\n",
       "    'entryPrice': '0.00',\n",
       "    'exitPrice': '',\n",
       "    'unrealizedPnl': '',\n",
       "    'realizedPnl': '',\n",
       "    'createdAt': 1696076135678,\n",
       "    'updatedTime': 1699279985107,\n",
       "    'netFunding': '',\n",
       "    'sumOpen': '',\n",
       "    'sumClose': '',\n",
       "    'fee': '0.000000',\n",
       "    'fundingFee': '0.000000',\n",
       "    'lightNumbers': '',\n",
       "    'customInitialMarginRate': '0.03333'}]},\n",
       " 'timeCost': 32198128}"
      ]
     },
     "execution_count": 17,
     "metadata": {},
     "output_type": "execute_result"
    }
   ],
   "source": [
    "apex_stark.get_account()"
   ]
  },
  {
   "cell_type": "code",
   "execution_count": 21,
   "metadata": {},
   "outputs": [
    {
     "name": "stdout",
     "output_type": "stream",
     "text": [
      "{'data': {'id': '509401210155958636', 'clientId': '13890224132207084', 'clientOrderId': '13890224132207084', 'accountId': '495583522279391852', 'symbol': 'BTC-USDC', 'side': 'BUY', 'price': '35017.0', 'averagePrice': '', 'limitFee': '0.017509', 'fee': '', 'liquidateFee': '', 'triggerPrice': '0.0', 'size': '0.001', 'type': 'MARKET', 'createdAt': 1699287512718, 'updatedTime': 0, 'expiresAt': 1701709200000, 'status': 'PENDING', 'timeInForce': 'IMMEDIATE_OR_CANCEL', 'reduceOnly': False, 'isPositionTpsl': False, 'orderId': '509401210155958636', 'cancelReason': 'UNKNOWN_ORDER_CANCEL_REASON', 'latestMatchFillPrice': '0.0', 'cumMatchFillSize': '0.000', 'cumMatchFillValue': '0.0000', 'cumMatchFillFee': '0.000000', 'cumSuccessFillSize': '0.000', 'cumSuccessFillValue': '0.0000', 'cumSuccessFillFee': '0.000000', 'triggerPriceType': 'MARKET', 'isOpenTpslOrder': False, 'isSetOpenTp': False, 'isSetOpenSl': False, 'openTpParam': {}, 'openSlParam': {}}, 'timeCost': 34187980}\n"
     ]
    }
   ],
   "source": [
    "worstPrice = apex_stark.get_worst_price(\n",
    "    symbol=\"BTC-USDC\",\n",
    "    side=\"BUY\",\n",
    "    size=0.01,\n",
    ")\n",
    "price = worstPrice[\"data\"][\"worstPrice\"]\n",
    "createOrderRes = apex_stark.create_order(\n",
    "    symbol=\"BTC-USDC\",\n",
    "    side=\"BUY\",\n",
    "    type=\"MARKET\",\n",
    "    size=0.001,\n",
    "    price=price,\n",
    "    expirationEpochSeconds=time.time(),\n",
    "    limitFeeRate=apex_stark.account[\"takerFeeRate\"],\n",
    ")\n",
    "print(createOrderRes)"
   ]
  },
  {
   "cell_type": "code",
   "execution_count": 14,
   "metadata": {},
   "outputs": [
    {
     "data": {
      "text/plain": [
       "{'data': {'id': '509414214213828972',\n",
       "  'clientId': '5611686642740963',\n",
       "  'clientOrderId': '5611686642740963',\n",
       "  'accountId': '495583522279391852',\n",
       "  'symbol': 'BTC-USDC',\n",
       "  'side': 'BUY',\n",
       "  'price': '34960.0',\n",
       "  'averagePrice': '',\n",
       "  'limitFee': '0.017480',\n",
       "  'fee': '',\n",
       "  'liquidateFee': '',\n",
       "  'triggerPrice': '0.0',\n",
       "  'size': '0.001',\n",
       "  'type': 'LIMIT',\n",
       "  'createdAt': 1699290613127,\n",
       "  'updatedTime': 0,\n",
       "  'expiresAt': 1701712800000,\n",
       "  'status': 'PENDING',\n",
       "  'timeInForce': 'GOOD_TIL_CANCEL',\n",
       "  'reduceOnly': False,\n",
       "  'isPositionTpsl': False,\n",
       "  'orderId': '509414214213828972',\n",
       "  'cancelReason': 'UNKNOWN_ORDER_CANCEL_REASON',\n",
       "  'latestMatchFillPrice': '0.0',\n",
       "  'cumMatchFillSize': '0.000',\n",
       "  'cumMatchFillValue': '0.0000',\n",
       "  'cumMatchFillFee': '0.000000',\n",
       "  'cumSuccessFillSize': '0.000',\n",
       "  'cumSuccessFillValue': '0.0000',\n",
       "  'cumSuccessFillFee': '0.000000',\n",
       "  'triggerPriceType': 'MARKET',\n",
       "  'isOpenTpslOrder': False,\n",
       "  'isSetOpenTp': False,\n",
       "  'isSetOpenSl': False,\n",
       "  'openTpParam': {},\n",
       "  'openSlParam': {}},\n",
       " 'timeCost': 27239506}"
      ]
     },
     "execution_count": 14,
     "metadata": {},
     "output_type": "execute_result"
    }
   ],
   "source": [
    "apex_stark.create_order(\n",
    "    symbol=\"BTC-USDC\",\n",
    "    side=\"BUY\",\n",
    "    type=\"LIMIT\",\n",
    "    size=0.001,\n",
    "    expirationEpochSeconds=time.time(),\n",
    "    price=34960,\n",
    "    limitFeeRate=apex_stark.account[\"takerFeeRate\"],\n",
    ")"
   ]
  }
 ],
 "metadata": {
  "kernelspec": {
   "display_name": "qfree",
   "language": "python",
   "name": "python3"
  },
  "language_info": {
   "codemirror_mode": {
    "name": "ipython",
    "version": 3
   },
   "file_extension": ".py",
   "mimetype": "text/x-python",
   "name": "python",
   "nbconvert_exporter": "python",
   "pygments_lexer": "ipython3",
   "version": "3.10.10"
  }
 },
 "nbformat": 4,
 "nbformat_minor": 2
}
