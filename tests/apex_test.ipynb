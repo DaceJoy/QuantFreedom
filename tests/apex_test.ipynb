{
  "cells": [
    {
      "cell_type": "code",
      "execution_count": 19,
      "metadata": {},
      "outputs": [
        {
          "name": "stdout",
          "output_type": "stream",
          "text": [
            "The autoreload extension is already loaded. To reload it, use:\n",
            "  %reload_ext autoreload\n"
          ]
        }
      ],
      "source": [
        "import numpy as np\n",
        "import pandas as pd\n",
        "from my_stuff import ApexTestKeys\n",
        "from quantfreedom.exchanges.apex_exchange.apex import Apex\n",
        "from quantfreedom.helper_funcs import candles_to_df\n",
        "\n",
        "np.set_printoptions(formatter={\"float_kind\": \"{:0.1f}\".format})\n",
        "\n",
        "%load_ext autoreload\n",
        "%autoreload 2"
      ]
    },
    {
      "cell_type": "code",
      "execution_count": 20,
      "metadata": {},
      "outputs": [],
      "source": [
        "apex_test = Apex(\n",
        "    api_key=ApexTestKeys.api_key,\n",
        "    secret_key=ApexTestKeys.secret_key,\n",
        "    passphrase=ApexTestKeys.passphrase,\n",
        "    stark_key_private=ApexTestKeys.stark_key_private,\n",
        "    stark_key_public=ApexTestKeys.stark_key_public,\n",
        "    stark_key_y=ApexTestKeys.stark_key_y,\n",
        "    use_test_net=True\n",
        ")"
      ]
    },
    {
      "cell_type": "code",
      "execution_count": 24,
      "metadata": {},
      "outputs": [
        {
          "data": {
            "text/plain": [
              "{'data': {'id': '510579564162843244',\n",
              "  'clientId': '769333491842414',\n",
              "  'clientOrderId': '769333491842414',\n",
              "  'accountId': '495583522279391852',\n",
              "  'symbol': 'BTC-USDC',\n",
              "  'side': 'BUY',\n",
              "  'price': '36612.0',\n",
              "  'averagePrice': '',\n",
              "  'limitFee': '0.366120',\n",
              "  'fee': '',\n",
              "  'liquidateFee': '',\n",
              "  'triggerPrice': '0.0',\n",
              "  'size': '0.020',\n",
              "  'type': 'MARKET',\n",
              "  'createdAt': 1699568454206,\n",
              "  'updatedTime': 0,\n",
              "  'expiresAt': 1701990000000,\n",
              "  'status': 'PENDING',\n",
              "  'timeInForce': 'IMMEDIATE_OR_CANCEL',\n",
              "  'reduceOnly': False,\n",
              "  'isPositionTpsl': False,\n",
              "  'orderId': '510579564162843244',\n",
              "  'cancelReason': 'UNKNOWN_ORDER_CANCEL_REASON',\n",
              "  'latestMatchFillPrice': '0.0',\n",
              "  'cumMatchFillSize': '0.000',\n",
              "  'cumMatchFillValue': '0.0000',\n",
              "  'cumMatchFillFee': '0.000000',\n",
              "  'cumSuccessFillSize': '0.000',\n",
              "  'cumSuccessFillValue': '0.0000',\n",
              "  'cumSuccessFillFee': '0.000000',\n",
              "  'triggerPriceType': 'MARKET',\n",
              "  'isOpenTpslOrder': False,\n",
              "  'isSetOpenTp': False,\n",
              "  'isSetOpenSl': False,\n",
              "  'openTpParam': {},\n",
              "  'openSlParam': {}},\n",
              " 'timeCost': 25315207}"
            ]
          },
          "execution_count": 24,
          "metadata": {},
          "output_type": "execute_result"
        }
      ],
      "source": [
        "apex_test.create_entry_market_order(symbol=\"BTC-USDC\", buy_sell=\"buy\", asset_size=.02)"
      ]
    },
    {
      "cell_type": "code",
      "execution_count": 17,
      "metadata": {},
      "outputs": [
        {
          "data": {
            "text/plain": [
              "'0.00020'"
            ]
          },
          "execution_count": 17,
          "metadata": {},
          "output_type": "execute_result"
        }
      ],
      "source": [
        "apex_test.account_data()['data'][\"makerFeeRate\"]"
      ]
    }
  ],
  "metadata": {
    "kernelspec": {
      "display_name": "qfFree",
      "language": "python",
      "name": "python3"
    },
    "language_info": {
      "codemirror_mode": {
        "name": "ipython",
        "version": 3
      },
      "file_extension": ".py",
      "mimetype": "text/x-python",
      "name": "python",
      "nbconvert_exporter": "python",
      "pygments_lexer": "ipython3",
      "version": "3.10.10"
    },
    "orig_nbformat": 4
  },
  "nbformat": 4,
  "nbformat_minor": 2
}
