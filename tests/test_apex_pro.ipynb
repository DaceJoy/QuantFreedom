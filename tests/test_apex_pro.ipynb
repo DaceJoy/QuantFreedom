{
 "cells": [
  {
   "cell_type": "code",
   "execution_count": null,
   "metadata": {},
   "outputs": [],
   "source": [
    "from my_stuff import ApexTestKeys\n",
    "from quantfreedom.exchanges.apex.apex_github.apexpro.constants import APEX_HTTP_TEST, NETWORKID_TEST\n",
    "from quantfreedom.exchanges.apex.apex_github.apexpro.http_private import HttpPrivate\n",
    "from quantfreedom.exchanges.apex.apex_github.apexpro.http_private_stark_key_sign import HttpPrivateStark\n",
    "from quantfreedom.exchanges.apex.apex_github.apexpro.http_public import HttpPublic\n",
    "from quantfreedom.exchanges.apex.apex_github.apexpro.helpers.util import round_size\n",
    "\n",
    "\n",
    "private_client = HttpPrivate(\n",
    "    APEX_HTTP_TEST,\n",
    "    network_id=NETWORKID_TEST,\n",
    "    api_key_credentials={\n",
    "        \"key\": ApexTestKeys.api_key,\n",
    "        \"secret\": ApexTestKeys.secret_key,\n",
    "        \"passphrase\": ApexTestKeys.passphrase,\n",
    "    },\n",
    ")\n",
    "private_client_configs = private_client.configs()\n",
    "\n",
    "private_stark_client = HttpPrivateStark(\n",
    "    APEX_HTTP_TEST,\n",
    "    network_id=NETWORKID_TEST,\n",
    "    stark_public_key=ApexTestKeys.stark_key_public,\n",
    "    stark_private_key=ApexTestKeys.stark_key_private,\n",
    "    stark_public_key_y_coordinate=ApexTestKeys.stark_key_y_coordinate,\n",
    "    api_key_credentials={\n",
    "        \"key\": ApexTestKeys.api_key,\n",
    "        \"secret\": ApexTestKeys.secret_key,\n",
    "        \"passphrase\": ApexTestKeys.passphrase,\n",
    "    },\n",
    ")\n",
    "private_stark_configs = private_stark_client.configs()\n",
    "\n",
    "public_client = HttpPublic(APEX_HTTP_TEST)\n",
    "public_client_configs = public_client.configs()"
   ]
  },
  {
   "cell_type": "code",
   "execution_count": 7,
   "metadata": {},
   "outputs": [
    {
     "data": {
      "text/plain": [
       "{'baselinePositionValue': '50000.0000',\n",
       " 'crossId': 5,\n",
       " 'crossSymbolId': 10,\n",
       " 'crossSymbolName': 'BTCUSDC',\n",
       " 'digitMerge': '0.5,1,2,5,10',\n",
       " 'displayMaxLeverage': '30',\n",
       " 'displayMinLeverage': '1',\n",
       " 'enableDisplay': True,\n",
       " 'enableOpenPosition': True,\n",
       " 'enableTrade': True,\n",
       " 'fundingImpactMarginNotional': '10',\n",
       " 'fundingInterestRate': '0.0003',\n",
       " 'incrementalInitialMarginRate': '0.00250',\n",
       " 'incrementalMaintenanceMarginRate': '0.00100',\n",
       " 'incrementalPositionValue': '200000.0000',\n",
       " 'initialMarginRate': '0.03333',\n",
       " 'maintenanceMarginRate': '0.00700',\n",
       " 'maxOrderSize': '100',\n",
       " 'maxPositionSize': '130',\n",
       " 'minOrderSize': '0.0010',\n",
       " 'maxMarketPriceRange': '0.025',\n",
       " 'settleCurrencyId': 'USDC',\n",
       " 'starkExOraclePriceQuorum': '3',\n",
       " 'starkExResolution': '10000000000',\n",
       " 'starkExRiskFactor': '128849019',\n",
       " 'starkExSyntheticAssetId': '0x4254432d3130000000000000000000',\n",
       " 'stepSize': '0.001',\n",
       " 'symbol': 'BTC-USDC',\n",
       " 'symbolDisplayName': 'BTCUSDC',\n",
       " 'symbolDisplayName2': 'BTCUSD',\n",
       " 'tickSize': '0.5',\n",
       " 'underlyingCurrencyId': 'BTC',\n",
       " 'maxMaintenanceMarginRate': '0.03000',\n",
       " 'maxPositionValue': '10050000.0000',\n",
       " 'tagIconUrl': '',\n",
       " 'tag': ''}"
      ]
     },
     "execution_count": 7,
     "metadata": {},
     "output_type": "execute_result"
    }
   ],
   "source": [
    "for k, v in enumerate(public_client_configs.get('data').get('perpetualContract')):\n",
    "    if v.get('symbol') == \"BTC-USDC\":\n",
    "        symbolData = v\n",
    "symbolData"
   ]
  },
  {
   "cell_type": "code",
   "execution_count": 9,
   "metadata": {},
   "outputs": [
    {
     "data": {
      "text/plain": [
       "'0.001'"
      ]
     },
     "execution_count": 9,
     "metadata": {},
     "output_type": "execute_result"
    }
   ],
   "source": [
    "symbolData.get('stepSize')"
   ]
  },
  {
   "cell_type": "code",
   "execution_count": 10,
   "metadata": {},
   "outputs": [
    {
     "data": {
      "text/plain": [
       "'0.5'"
      ]
     },
     "execution_count": 10,
     "metadata": {},
     "output_type": "execute_result"
    }
   ],
   "source": [
    "symbolData.get('tickSize')"
   ]
  },
  {
   "cell_type": "code",
   "execution_count": 11,
   "metadata": {},
   "outputs": [
    {
     "name": "stdout",
     "output_type": "stream",
     "text": [
      "0.011\n",
      "25555.5\n"
     ]
    }
   ],
   "source": [
    "print(round_size(\"0.0116\", symbolData.get('stepSize')))\n",
    "print(round_size(\"25555.8\", symbolData.get('tickSize')))"
   ]
  }
 ],
 "metadata": {
  "kernelspec": {
   "display_name": "qfFree",
   "language": "python",
   "name": "python3"
  },
  "language_info": {
   "codemirror_mode": {
    "name": "ipython",
    "version": 3
   },
   "file_extension": ".py",
   "mimetype": "text/x-python",
   "name": "python",
   "nbconvert_exporter": "python",
   "pygments_lexer": "ipython3",
   "version": "3.10.10"
  },
  "orig_nbformat": 4
 },
 "nbformat": 4,
 "nbformat_minor": 2
}
