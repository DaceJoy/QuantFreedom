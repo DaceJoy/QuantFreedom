{
  "cells": [
    {
      "cell_type": "code",
      "execution_count": 2,
      "metadata": {},
      "outputs": [
        {
          "name": "stdout",
          "output_type": "stream",
          "text": [
            "Dash is running on http://127.0.0.1:8050/\n",
            "\n",
            "Dash app running on http://127.0.0.1:8050/\n"
          ]
        }
      ],
      "source": [
        "import pandas as pd\n",
        "import numpy as np\n",
        "import plotly.graph_objects as go\n",
        "import dash_bootstrap_components as dbc\n",
        "\n",
        "from IPython import get_ipython\n",
        "from dash import Dash, dcc, html, dash_table\n",
        "from jupyter_dash import JupyterDash\n",
        "from dash_bootstrap_templates import load_figure_template\n",
        "\n",
        "np.set_printoptions(formatter={\"float_kind\": \"{:.2f}\".format})\n",
        "\n",
        "pd.options.display.float_format = \"{:,.2f}\".format\n",
        "\n",
        "load_figure_template(\"darkly\")\n",
        "dbc_css = \"https://cdn.jsdelivr.net/gh/AnnMarieW/dash-bootstrap-templates/dbc.min.css\"\n",
        "try:\n",
        "    shell = str(get_ipython())\n",
        "    if \"ZMQInteractiveShell\" in shell:\n",
        "        app = JupyterDash(__name__, external_stylesheets=[dbc.themes.DARKLY, dbc_css])\n",
        "    elif shell == \"TerminalInteractiveShell\":\n",
        "        app = JupyterDash(__name__, external_stylesheets=[dbc.themes.DARKLY, dbc_css])\n",
        "    else:\n",
        "        app = Dash(__name__, external_stylesheets=[dbc.themes.DARKLY, dbc_css])\n",
        "except NameError:\n",
        "    app = Dash(__name__, external_stylesheets=[dbc.themes.DARKLY, dbc_css])\n",
        "\n",
        "bg_color = \"#0b0b18\"\n",
        "\n",
        "app.layout = html.Div([\n",
        "    dcc.Tabs([\n",
        "        dcc.Tab(label='Tab one', children=[\n",
        "            dcc.Graph(\n",
        "                figure={\n",
        "                    'data': [\n",
        "                        {'x': [1, 2, 3], 'y': [4, 1, 2],\n",
        "                            'type': 'bar', 'name': 'SF'},\n",
        "                        {'x': [1, 2, 3], 'y': [2, 4, 5],\n",
        "                         'type': 'bar', 'name': u'Montréal'},\n",
        "                    ]\n",
        "                }\n",
        "            )\n",
        "        ]),\n",
        "        dcc.Tab(label='Tab two', children=[\n",
        "            dcc.Graph(\n",
        "                figure={\n",
        "                    'data': [\n",
        "                        {'x': [1, 2, 3], 'y': [1, 4, 1],\n",
        "                            'type': 'bar', 'name': 'SF'},\n",
        "                        {'x': [1, 2, 3], 'y': [1, 2, 3],\n",
        "                         'type': 'bar', 'name': u'Montréal'},\n",
        "                    ]\n",
        "                }\n",
        "            )\n",
        "        ]),\n",
        "        dcc.Tab(label='Tab three', children=[\n",
        "            dcc.Graph(\n",
        "                figure={\n",
        "                    'data': [\n",
        "                        {'x': [1, 2, 3], 'y': [2, 4, 3],\n",
        "                            'type': 'bar', 'name': 'SF'},\n",
        "                        {'x': [1, 2, 3], 'y': [5, 4, 3],\n",
        "                         'type': 'bar', 'name': u'Montréal'},\n",
        "                    ]\n",
        "                }\n",
        "            )\n",
        "        ]),\n",
        "    ])\n",
        "])\n",
        "\n",
        "if __name__ == '__main__':\n",
        "    app.run_server(debug=True)\n"
      ]
    }
  ],
  "metadata": {
    "kernelspec": {
      "display_name": "qfFree",
      "language": "python",
      "name": "python3"
    },
    "language_info": {
      "codemirror_mode": {
        "name": "ipython",
        "version": 3
      },
      "file_extension": ".py",
      "mimetype": "text/x-python",
      "name": "python",
      "nbconvert_exporter": "python",
      "pygments_lexer": "ipython3",
      "version": "3.10.10"
    },
    "orig_nbformat": 4
  },
  "nbformat": 4,
  "nbformat_minor": 2
}
