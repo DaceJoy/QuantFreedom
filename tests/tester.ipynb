{
  "cells": [
    {
      "cell_type": "code",
      "execution_count": 1,
      "metadata": {},
      "outputs": [],
      "source": [
        "import quantfreedom as qf\n",
        "import pandas as pd"
      ]
    },
    {
      "cell_type": "code",
      "execution_count": 16,
      "metadata": {},
      "outputs": [],
      "source": [
        "price_data = pd.read_hdf('data/prices.hd5')[['BTCUSDT']]"
      ]
    },
    {
      "cell_type": "code",
      "execution_count": 18,
      "metadata": {},
      "outputs": [
        {
          "data": {
            "text/plain": [
              "FrozenList([['BTCUSDT', 'EOSUSD', 'ETHUSD', 'LTCUSDT', 'XRPUSD'], ['close', 'high', 'low', 'open']])"
            ]
          },
          "execution_count": 18,
          "metadata": {},
          "output_type": "execute_result"
        }
      ],
      "source": [
        "price_data.columns.levels"
      ]
    },
    {
      "cell_type": "code",
      "execution_count": 7,
      "metadata": {},
      "outputs": [
        {
          "data": {
            "text/plain": [
              "Index(['BTCUSDT', 'EOSUSD', 'ETHUSD', 'LTCUSDT', 'XRPUSD'], dtype='object', name='symbol')"
            ]
          },
          "execution_count": 7,
          "metadata": {},
          "output_type": "execute_result"
        }
      ],
      "source": [
        "price_data.columns.levels[0]"
      ]
    },
    {
      "cell_type": "code",
      "execution_count": 4,
      "metadata": {},
      "outputs": [
        {
          "ename": "KeyError",
          "evalue": "'EOSUSD'",
          "output_type": "error",
          "traceback": [
            "\u001b[1;31m---------------------------------------------------------------------------\u001b[0m",
            "\u001b[1;31mKeyError\u001b[0m                                  Traceback (most recent call last)",
            "Cell \u001b[1;32mIn[4], line 1\u001b[0m\n\u001b[1;32m----> 1\u001b[0m qf\u001b[39m.\u001b[39;49mfrom_talib(\n\u001b[0;32m      2\u001b[0m     func_name\u001b[39m=\u001b[39;49m\u001b[39m\"\u001b[39;49m\u001b[39mrsi\u001b[39;49m\u001b[39m\"\u001b[39;49m,\n\u001b[0;32m      3\u001b[0m     price_data\u001b[39m=\u001b[39;49mprice_data,\n\u001b[0;32m      4\u001b[0m     timeperiod\u001b[39m=\u001b[39;49m\u001b[39m20\u001b[39;49m,\n\u001b[0;32m      5\u001b[0m     plot_results\u001b[39m=\u001b[39;49m\u001b[39mFalse\u001b[39;49;00m,\n\u001b[0;32m      6\u001b[0m     \u001b[39m# price=\"low\",\u001b[39;49;00m\n\u001b[0;32m      7\u001b[0m )\n",
            "File \u001b[1;32me:\\coding\\backtesters\\quantfreedom\\quantfreedom\\indicators\\talib_ind.py:256\u001b[0m, in \u001b[0;36mfrom_talib\u001b[1;34m(func_name, price_data, indicator_data, all_possible_combos, column_wise_combos, plot_results, plot_on_data, **kwargs)\u001b[0m\n\u001b[0;32m    252\u001b[0m temp_price_data_tuple \u001b[39m=\u001b[39m ()\n\u001b[0;32m    254\u001b[0m \u001b[39mfor\u001b[39;00m input_name \u001b[39min\u001b[39;00m input_names:\n\u001b[0;32m    255\u001b[0m     temp_price_data_tuple \u001b[39m=\u001b[39m temp_price_data_tuple \u001b[39m+\u001b[39m (\n\u001b[1;32m--> 256\u001b[0m         price_data[symbol][input_name]\u001b[39m.\u001b[39mvalues,\n\u001b[0;32m    257\u001b[0m     )\n\u001b[0;32m    259\u001b[0m \u001b[39mfor\u001b[39;00m c \u001b[39min\u001b[39;00m \u001b[39mrange\u001b[39m(ind_setings_len):\n\u001b[0;32m    260\u001b[0m     \u001b[39m# x is the array object in the tuple (x,x)\u001b[39;00m\n\u001b[0;32m    261\u001b[0m     \u001b[39mfor\u001b[39;00m x \u001b[39min\u001b[39;00m final_user_args:\n",
            "File \u001b[1;32me:\\Coding\\virtual environments\\qfFree\\lib\\site-packages\\pandas\\core\\frame.py:3806\u001b[0m, in \u001b[0;36mDataFrame.__getitem__\u001b[1;34m(self, key)\u001b[0m\n\u001b[0;32m   3804\u001b[0m \u001b[39mif\u001b[39;00m is_single_key:\n\u001b[0;32m   3805\u001b[0m     \u001b[39mif\u001b[39;00m \u001b[39mself\u001b[39m\u001b[39m.\u001b[39mcolumns\u001b[39m.\u001b[39mnlevels \u001b[39m>\u001b[39m \u001b[39m1\u001b[39m:\n\u001b[1;32m-> 3806\u001b[0m         \u001b[39mreturn\u001b[39;00m \u001b[39mself\u001b[39;49m\u001b[39m.\u001b[39;49m_getitem_multilevel(key)\n\u001b[0;32m   3807\u001b[0m     indexer \u001b[39m=\u001b[39m \u001b[39mself\u001b[39m\u001b[39m.\u001b[39mcolumns\u001b[39m.\u001b[39mget_loc(key)\n\u001b[0;32m   3808\u001b[0m     \u001b[39mif\u001b[39;00m is_integer(indexer):\n",
            "File \u001b[1;32me:\\Coding\\virtual environments\\qfFree\\lib\\site-packages\\pandas\\core\\frame.py:3857\u001b[0m, in \u001b[0;36mDataFrame._getitem_multilevel\u001b[1;34m(self, key)\u001b[0m\n\u001b[0;32m   3855\u001b[0m \u001b[39mdef\u001b[39;00m \u001b[39m_getitem_multilevel\u001b[39m(\u001b[39mself\u001b[39m, key):\n\u001b[0;32m   3856\u001b[0m     \u001b[39m# self.columns is a MultiIndex\u001b[39;00m\n\u001b[1;32m-> 3857\u001b[0m     loc \u001b[39m=\u001b[39m \u001b[39mself\u001b[39;49m\u001b[39m.\u001b[39;49mcolumns\u001b[39m.\u001b[39;49mget_loc(key)\n\u001b[0;32m   3858\u001b[0m     \u001b[39mif\u001b[39;00m \u001b[39misinstance\u001b[39m(loc, (\u001b[39mslice\u001b[39m, np\u001b[39m.\u001b[39mndarray)):\n\u001b[0;32m   3859\u001b[0m         new_columns \u001b[39m=\u001b[39m \u001b[39mself\u001b[39m\u001b[39m.\u001b[39mcolumns[loc]\n",
            "File \u001b[1;32me:\\Coding\\virtual environments\\qfFree\\lib\\site-packages\\pandas\\core\\indexes\\multi.py:2916\u001b[0m, in \u001b[0;36mMultiIndex.get_loc\u001b[1;34m(self, key, method)\u001b[0m\n\u001b[0;32m   2913\u001b[0m     \u001b[39mreturn\u001b[39;00m mask\n\u001b[0;32m   2915\u001b[0m \u001b[39mif\u001b[39;00m \u001b[39mnot\u001b[39;00m \u001b[39misinstance\u001b[39m(key, \u001b[39mtuple\u001b[39m):\n\u001b[1;32m-> 2916\u001b[0m     loc \u001b[39m=\u001b[39m \u001b[39mself\u001b[39;49m\u001b[39m.\u001b[39;49m_get_level_indexer(key, level\u001b[39m=\u001b[39;49m\u001b[39m0\u001b[39;49m)\n\u001b[0;32m   2917\u001b[0m     \u001b[39mreturn\u001b[39;00m _maybe_to_slice(loc)\n\u001b[0;32m   2919\u001b[0m keylen \u001b[39m=\u001b[39m \u001b[39mlen\u001b[39m(key)\n",
            "File \u001b[1;32me:\\Coding\\virtual environments\\qfFree\\lib\\site-packages\\pandas\\core\\indexes\\multi.py:3290\u001b[0m, in \u001b[0;36mMultiIndex._get_level_indexer\u001b[1;34m(self, key, level, indexer)\u001b[0m\n\u001b[0;32m   3286\u001b[0m     end \u001b[39m=\u001b[39m algos\u001b[39m.\u001b[39msearchsorted(level_codes, idx, side\u001b[39m=\u001b[39m\u001b[39m\"\u001b[39m\u001b[39mright\u001b[39m\u001b[39m\"\u001b[39m)\n\u001b[0;32m   3288\u001b[0m \u001b[39mif\u001b[39;00m start \u001b[39m==\u001b[39m end:\n\u001b[0;32m   3289\u001b[0m     \u001b[39m# The label is present in self.levels[level] but unused:\u001b[39;00m\n\u001b[1;32m-> 3290\u001b[0m     \u001b[39mraise\u001b[39;00m \u001b[39mKeyError\u001b[39;00m(key)\n\u001b[0;32m   3291\u001b[0m \u001b[39mreturn\u001b[39;00m \u001b[39mslice\u001b[39m(start, end)\n",
            "\u001b[1;31mKeyError\u001b[0m: 'EOSUSD'"
          ]
        }
      ],
      "source": [
        "qf.from_talib(\n",
        "    func_name=\"rsi\",\n",
        "    price_data=price_data,\n",
        "    timeperiod=20,\n",
        "    plot_results=False,\n",
        "    # price=\"low\",\n",
        ")"
      ]
    }
  ],
  "metadata": {
    "kernelspec": {
      "display_name": "qfFree",
      "language": "python",
      "name": "python3"
    },
    "language_info": {
      "codemirror_mode": {
        "name": "ipython",
        "version": 3
      },
      "file_extension": ".py",
      "mimetype": "text/x-python",
      "name": "python",
      "nbconvert_exporter": "python",
      "pygments_lexer": "ipython3",
      "version": "3.10.10"
    },
    "orig_nbformat": 4
  },
  "nbformat": 4,
  "nbformat_minor": 2
}
