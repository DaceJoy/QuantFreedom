{
 "cells": [
  {
   "cell_type": "code",
   "execution_count": 1,
   "metadata": {},
   "outputs": [],
   "source": [
    "from my_stuff import MufexKeys\n",
    "from quantfreedom.exchanges.mufex_exchange.mufex import Mufex\n",
    "from time import sleep\n",
    "import pandas as pd\n",
    "from time import mktime\n",
    "import numpy as np\n",
    "\n",
    "mufex_main = Mufex(\n",
    "    api_key=MufexKeys.api_key,\n",
    "    secret_key=MufexKeys.secret_key,\n",
    "    use_test_net=False,\n",
    ")\n",
    "symbol=\"BTCUSDT\"\n",
    "\n",
    "%load_ext autoreload\n",
    "%autoreload 2\n"
   ]
  },
  {
   "cell_type": "code",
   "execution_count": 2,
   "metadata": {},
   "outputs": [
    {
     "ename": "Exception",
     "evalue": "Data or List is empty OK -> list index out of range",
     "output_type": "error",
     "traceback": [
      "\u001b[1;31m---------------------------------------------------------------------------\u001b[0m",
      "\u001b[1;31mIndexError\u001b[0m                                Traceback (most recent call last)",
      "File \u001b[1;32me:\\coding\\backtesters\\quantfreedom\\quantfreedom\\exchanges\\mufex_exchange\\mufex.py:292\u001b[0m, in \u001b[0;36mMufex.get_closed_pnl\u001b[1;34m(self, symbol, limit, params, **vargs)\u001b[0m\n\u001b[0;32m    291\u001b[0m \u001b[39mtry\u001b[39;00m:\n\u001b[1;32m--> 292\u001b[0m     response[\u001b[39m\"\u001b[39;49m\u001b[39mdata\u001b[39;49m\u001b[39m\"\u001b[39;49m][\u001b[39m\"\u001b[39;49m\u001b[39mlist\u001b[39;49m\u001b[39m\"\u001b[39;49m][\u001b[39m0\u001b[39;49m]\n\u001b[0;32m    293\u001b[0m     data_list \u001b[39m=\u001b[39m response[\u001b[39m\"\u001b[39m\u001b[39mdata\u001b[39m\u001b[39m\"\u001b[39m][\u001b[39m\"\u001b[39m\u001b[39mlist\u001b[39m\u001b[39m\"\u001b[39m]\n",
      "\u001b[1;31mIndexError\u001b[0m: list index out of range",
      "\nDuring handling of the above exception, another exception occurred:\n",
      "\u001b[1;31mException\u001b[0m                                 Traceback (most recent call last)",
      "\u001b[1;32me:\\Coding\\backtesters\\QuantFreedom\\tests\\test_mufex.ipynb Cell 2\u001b[0m line \u001b[0;36m1\n\u001b[1;32m----> <a href='vscode-notebook-cell:/e%3A/Coding/backtesters/QuantFreedom/tests/test_mufex.ipynb#W4sZmlsZQ%3D%3D?line=0'>1</a>\u001b[0m mufex_main\u001b[39m.\u001b[39;49mget_closed_pnl(symbol\u001b[39m=\u001b[39;49msymbol)\n",
      "File \u001b[1;32me:\\coding\\backtesters\\quantfreedom\\quantfreedom\\exchanges\\mufex_exchange\\mufex.py:297\u001b[0m, in \u001b[0;36mMufex.get_closed_pnl\u001b[1;34m(self, symbol, limit, params, **vargs)\u001b[0m\n\u001b[0;32m    295\u001b[0m     \u001b[39mreturn\u001b[39;00m data_list\n\u001b[0;32m    296\u001b[0m \u001b[39mexcept\u001b[39;00m \u001b[39mException\u001b[39;00m \u001b[39mas\u001b[39;00m e:\n\u001b[1;32m--> 297\u001b[0m     \u001b[39mraise\u001b[39;00m \u001b[39mException\u001b[39;00m(\u001b[39mf\u001b[39m\u001b[39m\"\u001b[39m\u001b[39mData or List is empty \u001b[39m\u001b[39m{\u001b[39;00mresponse[\u001b[39m'\u001b[39m\u001b[39mmessage\u001b[39m\u001b[39m'\u001b[39m]\u001b[39m}\u001b[39;00m\u001b[39m -> \u001b[39m\u001b[39m{\u001b[39;00me\u001b[39m}\u001b[39;00m\u001b[39m\"\u001b[39m)\n",
      "\u001b[1;31mException\u001b[0m: Data or List is empty OK -> list index out of range"
     ]
    }
   ],
   "source": [
    "mufex_main.get_closed_pnl(symbol=symbol)"
   ]
  },
  {
   "cell_type": "code",
   "execution_count": 6,
   "metadata": {},
   "outputs": [
    {
     "name": "stdout",
     "output_type": "stream",
     "text": [
      "It took 00 mins and 01 seconds to download 61 candles\n"
     ]
    }
   ],
   "source": [
    "candles = mufex_main.get_candles_df(\n",
    "    symbol=symbol,\n",
    "    timeframe=\"1m\",\n",
    "    since_date_ms=1697237940000,\n",
    "    until_date_ms=1697241540000,\n",
    ")"
   ]
  },
  {
   "cell_type": "code",
   "execution_count": 7,
   "metadata": {},
   "outputs": [
    {
     "data": {
      "text/plain": [
       "[(1697237940000, 26811.1, 26817.2, 26809.2, 26814.2),\n",
       " (1697238000000, 26814.2, 26825.5, 26813.2, 26821.9),\n",
       " (1697238060000, 26821.9, 26825.6, 26816.3, 26819.0),\n",
       " (1697238120000, 26819.0, 26819.0, 26788.3, 26797.7),\n",
       " (1697238180000, 26797.7, 26824.1, 26796.8, 26824.1),\n",
       " (1697238240000, 26824.1, 26829.5, 26818.3, 26826.7),\n",
       " (1697238300000, 26826.7, 26844.1, 26808.6, 26808.6),\n",
       " (1697238360000, 26808.6, 26808.6, 26792.6, 26795.2),\n",
       " (1697238420000, 26795.2, 26823.9, 26789.4, 26821.9),\n",
       " (1697238480000, 26821.9, 26822.1, 26794.2, 26799.9),\n",
       " (1697238540000, 26799.9, 26799.9, 26777.4, 26781.0),\n",
       " (1697238600000, 26781.0, 26786.1, 26777.8, 26777.8),\n",
       " (1697238660000, 26777.8, 26777.8, 26759.6, 26762.6),\n",
       " (1697238720000, 26762.6, 26767.6, 26746.3, 26762.8),\n",
       " (1697238780000, 26762.8, 26786.7, 26762.8, 26767.8),\n",
       " (1697238840000, 26767.8, 26776.2, 26765.4, 26769.0),\n",
       " (1697238900000, 26769.0, 26792.4, 26769.0, 26789.9),\n",
       " (1697238960000, 26789.9, 26791.6, 26782.7, 26788.7),\n",
       " (1697239020000, 26788.7, 26798.7, 26781.9, 26798.7),\n",
       " (1697239080000, 26798.7, 26813.5, 26798.7, 26813.5),\n",
       " (1697239140000, 26813.5, 26813.6, 26794.5, 26797.8),\n",
       " (1697239200000, 26797.8, 26813.2, 26797.4, 26808.0),\n",
       " (1697239260000, 26808.0, 26817.3, 26808.0, 26817.3),\n",
       " (1697239320000, 26817.3, 26822.2, 26817.3, 26821.7),\n",
       " (1697239380000, 26821.7, 26821.7, 26809.4, 26817.9),\n",
       " (1697239440000, 26817.9, 26818.3, 26815.0, 26818.3),\n",
       " (1697239500000, 26818.3, 26823.2, 26816.4, 26820.6),\n",
       " (1697239560000, 26820.6, 26827.0, 26819.8, 26820.3),\n",
       " (1697239620000, 26820.3, 26820.7, 26810.3, 26810.3),\n",
       " (1697239680000, 26810.3, 26810.3, 26807.3, 26807.3),\n",
       " (1697239740000, 26807.3, 26812.3, 26807.3, 26811.8),\n",
       " (1697239800000, 26811.8, 26820.4, 26811.8, 26820.1),\n",
       " (1697239860000, 26820.1, 26820.1, 26807.7, 26812.4),\n",
       " (1697239920000, 26812.4, 26812.5, 26808.7, 26812.5),\n",
       " (1697239980000, 26812.5, 26818.6, 26812.4, 26815.3),\n",
       " (1697240040000, 26815.3, 26823.6, 26815.3, 26820.9),\n",
       " (1697240100000, 26820.9, 26827.4, 26820.7, 26827.4),\n",
       " (1697240160000, 26827.4, 26838.1, 26827.4, 26838.1),\n",
       " (1697240220000, 26838.1, 26838.1, 26823.0, 26823.0),\n",
       " (1697240280000, 26823.0, 26825.5, 26823.0, 26824.3),\n",
       " (1697240340000, 26824.3, 26832.5, 26824.3, 26829.9),\n",
       " (1697240400000, 26829.9, 26830.1, 26829.9, 26829.9),\n",
       " (1697240460000, 26829.9, 26837.3, 26829.9, 26832.2),\n",
       " (1697240520000, 26832.2, 26832.2, 26821.8, 26823.1),\n",
       " (1697240580000, 26823.1, 26836.9, 26823.1, 26833.8),\n",
       " (1697240640000, 26833.8, 26833.8, 26828.3, 26830.3),\n",
       " (1697240700000, 26830.3, 26833.0, 26826.7, 26827.0),\n",
       " (1697240760000, 26827.0, 26827.1, 26826.0, 26826.1),\n",
       " (1697240820000, 26826.1, 26830.1, 26826.0, 26830.0),\n",
       " (1697240880000, 26830.0, 26833.0, 26830.0, 26832.9),\n",
       " (1697240940000, 26832.9, 26833.0, 26827.0, 26827.1),\n",
       " (1697241000000, 26827.1, 26834.3, 26827.1, 26834.3),\n",
       " (1697241060000, 26834.3, 26834.4, 26828.7, 26834.2),\n",
       " (1697241120000, 26834.2, 26838.1, 26829.8, 26830.0),\n",
       " (1697241180000, 26830.0, 26833.7, 26827.5, 26827.6),\n",
       " (1697241240000, 26827.6, 26830.9, 26824.6, 26830.9),\n",
       " (1697241300000, 26830.9, 26840.1, 26830.9, 26839.7),\n",
       " (1697241360000, 26839.7, 26840.7, 26834.2, 26834.2),\n",
       " (1697241420000, 26834.2, 26848.6, 26834.2, 26848.0),\n",
       " (1697241480000, 26848.0, 26849.7, 26844.9, 26844.9),\n",
       " (1697241540000, 26844.9, 26849.8, 26844.9, 26849.7)]"
      ]
     },
     "execution_count": 7,
     "metadata": {},
     "output_type": "execute_result"
    }
   ],
   "source": [
    "candles.tolist()"
   ]
  },
  {
   "cell_type": "code",
   "execution_count": 11,
   "metadata": {},
   "outputs": [],
   "source": [
    "mufex_main.set_exchange_settings(symbol=symbol, position_mode=0, leverage_mode=0)"
   ]
  },
  {
   "cell_type": "code",
   "execution_count": 12,
   "metadata": {},
   "outputs": [
    {
     "data": {
      "text/plain": [
       "ExchangeSettings(limit_fee_pct=0.0003, max_leverage=150.0, market_fee_pct=0.0009, mmr_pct=0.004, min_leverage=1.0, max_asset_size=100.0, min_asset_size=0.001, asset_tick_step=3, position_mode=0, leverage_mode=0, price_tick_step=1, leverage_tick_step=2)"
      ]
     },
     "execution_count": 12,
     "metadata": {},
     "output_type": "execute_result"
    }
   ],
   "source": [
    "mufex_main.exchange_settings"
   ]
  },
  {
   "cell_type": "code",
   "execution_count": 5,
   "metadata": {},
   "outputs": [
    {
     "data": {
      "text/plain": [
       "-0.20094022"
      ]
     },
     "execution_count": 5,
     "metadata": {},
     "output_type": "execute_result"
    }
   ],
   "source": [
    "mufex_main.get_latest_pnl_result(symbol=symbol)"
   ]
  }
 ],
 "metadata": {
  "kernelspec": {
   "display_name": "qfFree",
   "language": "python",
   "name": "python3"
  },
  "language_info": {
   "codemirror_mode": {
    "name": "ipython",
    "version": 3
   },
   "file_extension": ".py",
   "mimetype": "text/x-python",
   "name": "python",
   "nbconvert_exporter": "python",
   "pygments_lexer": "ipython3",
   "version": "3.10.10"
  },
  "orig_nbformat": 4
 },
 "nbformat": 4,
 "nbformat_minor": 2
}
