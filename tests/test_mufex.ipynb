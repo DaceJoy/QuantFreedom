{
 "cells": [
  {
   "cell_type": "code",
   "execution_count": 2,
   "metadata": {},
   "outputs": [],
   "source": [
    "from my_stuff import MufexKeys\n",
    "from quantfreedom.exchanges.mufex_exchange.mufex import Mufex\n",
    "from lightweight_charts import Chart\n",
    "from time import sleep\n",
    "import pandas as pd\n",
    "from time import mktime\n",
    "import numpy as np\n",
    "\n",
    "mufex_main = Mufex(\n",
    "    api_key=MufexKeys.api_key,\n",
    "    secret_key=MufexKeys.secret_key,\n",
    "    use_test_net=False,\n",
    ")\n",
    "symbol=\"BTCUSDT\"\n",
    "\n",
    "%load_ext autoreload\n",
    "%autoreload 2\n"
   ]
  },
  {
   "cell_type": "code",
   "execution_count": 1,
   "metadata": {},
   "outputs": [
    {
     "ename": "NameError",
     "evalue": "name 'mufex_main' is not defined",
     "output_type": "error",
     "traceback": [
      "\u001b[1;31m---------------------------------------------------------------------------\u001b[0m",
      "\u001b[1;31mNameError\u001b[0m                                 Traceback (most recent call last)",
      "\u001b[1;32me:\\Coding\\backtesters\\QuantFreedom\\tests\\test_mufex.ipynb Cell 2\u001b[0m line \u001b[0;36m1\n\u001b[1;32m----> <a href='vscode-notebook-cell:/e%3A/Coding/backtesters/QuantFreedom/tests/test_mufex.ipynb#W1sZmlsZQ%3D%3D?line=0'>1</a>\u001b[0m candles \u001b[39m=\u001b[39m mufex_main\u001b[39m.\u001b[39mget_candles_df(\n\u001b[0;32m      <a href='vscode-notebook-cell:/e%3A/Coding/backtesters/QuantFreedom/tests/test_mufex.ipynb#W1sZmlsZQ%3D%3D?line=1'>2</a>\u001b[0m     symbol\u001b[39m=\u001b[39msymbol,\n\u001b[0;32m      <a href='vscode-notebook-cell:/e%3A/Coding/backtesters/QuantFreedom/tests/test_mufex.ipynb#W1sZmlsZQ%3D%3D?line=2'>3</a>\u001b[0m     timeframe\u001b[39m=\u001b[39m\u001b[39m'\u001b[39m\u001b[39m1m\u001b[39m\u001b[39m'\u001b[39m,\n\u001b[0;32m      <a href='vscode-notebook-cell:/e%3A/Coding/backtesters/QuantFreedom/tests/test_mufex.ipynb#W1sZmlsZQ%3D%3D?line=3'>4</a>\u001b[0m     candles_to_dl\u001b[39m=\u001b[39m\u001b[39m300\u001b[39m,\n\u001b[0;32m      <a href='vscode-notebook-cell:/e%3A/Coding/backtesters/QuantFreedom/tests/test_mufex.ipynb#W1sZmlsZQ%3D%3D?line=4'>5</a>\u001b[0m     limit\u001b[39m=\u001b[39m\u001b[39m200\u001b[39m\n\u001b[0;32m      <a href='vscode-notebook-cell:/e%3A/Coding/backtesters/QuantFreedom/tests/test_mufex.ipynb#W1sZmlsZQ%3D%3D?line=5'>6</a>\u001b[0m )\n",
      "\u001b[1;31mNameError\u001b[0m: name 'mufex_main' is not defined"
     ]
    }
   ],
   "source": [
    "candles = mufex_main.get_candles_df(\n",
    "    symbol=symbol,\n",
    "    timeframe='1m',\n",
    "    candles_to_dl=300,\n",
    "    limit=200\n",
    ")"
   ]
  },
  {
   "cell_type": "code",
   "execution_count": 11,
   "metadata": {},
   "outputs": [],
   "source": [
    "mufex_main.set_exchange_settings(symbol=symbol, position_mode=0, leverage_mode=0)"
   ]
  },
  {
   "cell_type": "code",
   "execution_count": 12,
   "metadata": {},
   "outputs": [
    {
     "data": {
      "text/plain": [
       "ExchangeSettings(limit_fee_pct=0.0003, max_leverage=150.0, market_fee_pct=0.0009, mmr_pct=0.004, min_leverage=1.0, max_asset_size=100.0, min_asset_size=0.001, asset_tick_step=3, position_mode=0, leverage_mode=0, price_tick_step=1, leverage_tick_step=2)"
      ]
     },
     "execution_count": 12,
     "metadata": {},
     "output_type": "execute_result"
    }
   ],
   "source": [
    "mufex_main.exchange_settings"
   ]
  },
  {
   "cell_type": "code",
   "execution_count": 10,
   "metadata": {},
   "outputs": [
    {
     "data": {
      "text/plain": [
       "26859.49"
      ]
     },
     "execution_count": 10,
     "metadata": {},
     "output_type": "execute_result"
    }
   ],
   "source": [
    "from quantfreedom.helper_funcs import round_size_by_tick_step\n",
    "\n",
    "\n",
    "round_size_by_tick_step(26859.48572983874, 2)"
   ]
  },
  {
   "cell_type": "code",
   "execution_count": 46,
   "metadata": {},
   "outputs": [
    {
     "data": {
      "text/html": [
       "<div>\n",
       "<style scoped>\n",
       "    .dataframe tbody tr th:only-of-type {\n",
       "        vertical-align: middle;\n",
       "    }\n",
       "\n",
       "    .dataframe tbody tr th {\n",
       "        vertical-align: top;\n",
       "    }\n",
       "\n",
       "    .dataframe thead th {\n",
       "        text-align: right;\n",
       "    }\n",
       "</style>\n",
       "<table border=\"1\" class=\"dataframe\">\n",
       "  <thead>\n",
       "    <tr style=\"text-align: right;\">\n",
       "      <th></th>\n",
       "      <th>timestamp</th>\n",
       "      <th>open</th>\n",
       "      <th>high</th>\n",
       "      <th>low</th>\n",
       "      <th>close</th>\n",
       "    </tr>\n",
       "  </thead>\n",
       "  <tbody>\n",
       "    <tr>\n",
       "      <th>0</th>\n",
       "      <td>16970417400000</td>\n",
       "      <td>26657.9</td>\n",
       "      <td>26695.0</td>\n",
       "      <td>26657.9</td>\n",
       "      <td>26695.0</td>\n",
       "    </tr>\n",
       "    <tr>\n",
       "      <th>1</th>\n",
       "      <td>16970418000000</td>\n",
       "      <td>26695.0</td>\n",
       "      <td>26695.0</td>\n",
       "      <td>26684.9</td>\n",
       "      <td>26686.8</td>\n",
       "    </tr>\n",
       "    <tr>\n",
       "      <th>2</th>\n",
       "      <td>16970418600000</td>\n",
       "      <td>26686.8</td>\n",
       "      <td>26721.3</td>\n",
       "      <td>26684.5</td>\n",
       "      <td>26719.7</td>\n",
       "    </tr>\n",
       "    <tr>\n",
       "      <th>3</th>\n",
       "      <td>16970419200000</td>\n",
       "      <td>26719.7</td>\n",
       "      <td>26723.3</td>\n",
       "      <td>26711.5</td>\n",
       "      <td>26719.0</td>\n",
       "    </tr>\n",
       "    <tr>\n",
       "      <th>4</th>\n",
       "      <td>16970419800000</td>\n",
       "      <td>26719.0</td>\n",
       "      <td>26720.2</td>\n",
       "      <td>26707.8</td>\n",
       "      <td>26707.8</td>\n",
       "    </tr>\n",
       "    <tr>\n",
       "      <th>...</th>\n",
       "      <td>...</td>\n",
       "      <td>...</td>\n",
       "      <td>...</td>\n",
       "      <td>...</td>\n",
       "      <td>...</td>\n",
       "    </tr>\n",
       "    <tr>\n",
       "      <th>295</th>\n",
       "      <td>16970594400000</td>\n",
       "      <td>26741.8</td>\n",
       "      <td>26742.1</td>\n",
       "      <td>26726.4</td>\n",
       "      <td>26728.7</td>\n",
       "    </tr>\n",
       "    <tr>\n",
       "      <th>296</th>\n",
       "      <td>16970595000000</td>\n",
       "      <td>26728.7</td>\n",
       "      <td>26732.6</td>\n",
       "      <td>26725.5</td>\n",
       "      <td>26725.6</td>\n",
       "    </tr>\n",
       "    <tr>\n",
       "      <th>297</th>\n",
       "      <td>16970595600000</td>\n",
       "      <td>26725.6</td>\n",
       "      <td>26725.7</td>\n",
       "      <td>26715.0</td>\n",
       "      <td>26715.0</td>\n",
       "    </tr>\n",
       "    <tr>\n",
       "      <th>298</th>\n",
       "      <td>16970596200000</td>\n",
       "      <td>26715.0</td>\n",
       "      <td>26715.0</td>\n",
       "      <td>26704.5</td>\n",
       "      <td>26705.8</td>\n",
       "    </tr>\n",
       "    <tr>\n",
       "      <th>299</th>\n",
       "      <td>16970596800000</td>\n",
       "      <td>26705.8</td>\n",
       "      <td>26705.9</td>\n",
       "      <td>26702.6</td>\n",
       "      <td>26702.9</td>\n",
       "    </tr>\n",
       "  </tbody>\n",
       "</table>\n",
       "<p>300 rows × 5 columns</p>\n",
       "</div>"
      ],
      "text/plain": [
       "          timestamp     open     high      low    close\n",
       "0    16970417400000  26657.9  26695.0  26657.9  26695.0\n",
       "1    16970418000000  26695.0  26695.0  26684.9  26686.8\n",
       "2    16970418600000  26686.8  26721.3  26684.5  26719.7\n",
       "3    16970419200000  26719.7  26723.3  26711.5  26719.0\n",
       "4    16970419800000  26719.0  26720.2  26707.8  26707.8\n",
       "..              ...      ...      ...      ...      ...\n",
       "295  16970594400000  26741.8  26742.1  26726.4  26728.7\n",
       "296  16970595000000  26728.7  26732.6  26725.5  26725.6\n",
       "297  16970595600000  26725.6  26725.7  26715.0  26715.0\n",
       "298  16970596200000  26715.0  26715.0  26704.5  26705.8\n",
       "299  16970596800000  26705.8  26705.9  26702.6  26702.9\n",
       "\n",
       "[300 rows x 5 columns]"
      ]
     },
     "execution_count": 46,
     "metadata": {},
     "output_type": "execute_result"
    }
   ],
   "source": [
    "candles"
   ]
  },
  {
   "cell_type": "code",
   "execution_count": 25,
   "metadata": {},
   "outputs": [
    {
     "name": "stdout",
     "output_type": "stream",
     "text": [
      "2023-10-11 20:21:00\n",
      "26702.7\n",
      "2023-10-11 20:20:00\n",
      "26697.4\n",
      "2023-10-11 20:19:00\n",
      "26692.4\n",
      "2023-10-11 20:18:00\n",
      "26698.5\n",
      "2023-10-11 20:17:00\n",
      "26698.5\n",
      "2023-10-11 20:12:00\n",
      "26707.8\n"
     ]
    }
   ],
   "source": [
    "lookback_rsi = candles[-30 : -1]\n",
    "filter = lookback_rsi.close[(lookback_rsi.close < 26710)]\n",
    "if filter.any():\n",
    "    for i in range (len(filter)-1, -1,-1):\n",
    "        rsi_divergence_index = filter[filter.notna()].index[i]\n",
    "        print(rsi_divergence_index)\n",
    "        get_idx = lookback_rsi.index.get_loc(rsi_divergence_index)\n",
    "        print(candles.low[rsi_divergence_index])\n"
   ]
  },
  {
   "cell_type": "code",
   "execution_count": 21,
   "metadata": {},
   "outputs": [
    {
     "data": {
      "text/plain": [
       "timestamp\n",
       "2023-10-11 20:12:00    26707.8\n",
       "2023-10-11 20:17:00    26698.5\n",
       "2023-10-11 20:18:00    26707.6\n",
       "2023-10-11 20:19:00    26700.4\n",
       "2023-10-11 20:20:00    26703.0\n",
       "2023-10-11 20:21:00    26704.1\n",
       "Name: close, dtype: float64"
      ]
     },
     "execution_count": 21,
     "metadata": {},
     "output_type": "execute_result"
    }
   ],
   "source": [
    "filter"
   ]
  },
  {
   "cell_type": "code",
   "execution_count": 2,
   "metadata": {},
   "outputs": [
    {
     "data": {
      "text/plain": [
       "[{'symbol': 'BTCUSDT',\n",
       "  'orderId': '8448a23e-c382-49c7-ad49-492c66c76721',\n",
       "  'side': 'Sell',\n",
       "  'qty': '0.001',\n",
       "  'orderPrice': '26536.80',\n",
       "  'orderType': 'Market',\n",
       "  'execType': 'Trade',\n",
       "  'closedSize': '0.001',\n",
       "  'cumEntryValue': '26.7148',\n",
       "  'avgEntryPrice': '26714.80',\n",
       "  'cumExitValue': '26.6945',\n",
       "  'avgExitPrice': '26694.50',\n",
       "  'closedPnl': '-0.06836837',\n",
       "  'fillCount': '1',\n",
       "  'leverage': '150',\n",
       "  'createdAt': '1697210643945'},\n",
       " {'symbol': 'BTCUSDT',\n",
       "  'orderId': '31e81679-134e-4620-81fb-92098ec943e5',\n",
       "  'side': 'Sell',\n",
       "  'qty': '0.001',\n",
       "  'orderPrice': '26600.60',\n",
       "  'orderType': 'Market',\n",
       "  'execType': 'Trade',\n",
       "  'closedSize': '0.001',\n",
       "  'cumEntryValue': '26.7791',\n",
       "  'avgEntryPrice': '26779.10',\n",
       "  'cumExitValue': '26.7879',\n",
       "  'avgExitPrice': '26787.90',\n",
       "  'closedPnl': '-0.0394103',\n",
       "  'fillCount': '1',\n",
       "  'leverage': '150',\n",
       "  'createdAt': '1697207579590'},\n",
       " {'symbol': 'BTCUSDT',\n",
       "  'orderId': '46bdf5d5-172c-4fba-b67c-9bf867d63879',\n",
       "  'side': 'Sell',\n",
       "  'qty': '0.001',\n",
       "  'orderPrice': '26618.50',\n",
       "  'orderType': 'Market',\n",
       "  'execType': 'Trade',\n",
       "  'closedSize': '0.001',\n",
       "  'cumEntryValue': '26.7971',\n",
       "  'avgEntryPrice': '26797.10',\n",
       "  'cumExitValue': '26.824',\n",
       "  'avgExitPrice': '26824.00',\n",
       "  'closedPnl': '-0.02135899',\n",
       "  'fillCount': '1',\n",
       "  'leverage': '150',\n",
       "  'createdAt': '1697206212949'},\n",
       " {'symbol': 'BTCUSDT',\n",
       "  'orderId': 'c56fddcc-e3e6-4255-ab9d-c40c1fbfe2fa',\n",
       "  'side': 'Sell',\n",
       "  'qty': '0.002',\n",
       "  'orderPrice': '26643.70',\n",
       "  'orderType': 'Market',\n",
       "  'execType': 'Trade',\n",
       "  'closedSize': '0.002',\n",
       "  'cumEntryValue': '53.6449',\n",
       "  'avgEntryPrice': '26822.45',\n",
       "  'cumExitValue': '53.5934',\n",
       "  'avgExitPrice': '26796.70',\n",
       "  'closedPnl': '-0.14801447',\n",
       "  'fillCount': '1',\n",
       "  'leverage': '150',\n",
       "  'createdAt': '1697205663469'},\n",
       " {'symbol': 'BTCUSDT',\n",
       "  'orderId': '6332e25e-d555-47ad-ae2d-cda2f5046d9a',\n",
       "  'side': 'Sell',\n",
       "  'qty': '0.002',\n",
       "  'orderPrice': '26495.80',\n",
       "  'orderType': 'Market',\n",
       "  'execType': 'Trade',\n",
       "  'closedSize': '0.002',\n",
       "  'cumEntryValue': '53.3471',\n",
       "  'avgEntryPrice': '26673.55',\n",
       "  'cumExitValue': '53.4018',\n",
       "  'avgExitPrice': '26700.90',\n",
       "  'closedPnl': '-0.04137401',\n",
       "  'fillCount': '1',\n",
       "  'leverage': '150',\n",
       "  'createdAt': '1697150585913'},\n",
       " {'symbol': 'BTCUSDT',\n",
       "  'orderId': '56cfe8e5-d1e2-4ebd-9fbd-b04e5461da88',\n",
       "  'side': 'Sell',\n",
       "  'qty': '0.001',\n",
       "  'orderPrice': '26380.60',\n",
       "  'orderType': 'Market',\n",
       "  'execType': 'Trade',\n",
       "  'closedSize': '0.001',\n",
       "  'cumEntryValue': '26.5576',\n",
       "  'avgEntryPrice': '26557.60',\n",
       "  'cumExitValue': '26.6062',\n",
       "  'avgExitPrice': '26606.20',\n",
       "  'closedPnl': '0.00075258',\n",
       "  'fillCount': '1',\n",
       "  'leverage': '150',\n",
       "  'createdAt': '1697132311057'},\n",
       " {'symbol': 'BTCUSDT',\n",
       "  'orderId': '93bc1a32-f09e-42cf-b47a-1f9db1f87492',\n",
       "  'side': 'Sell',\n",
       "  'qty': '0.002',\n",
       "  'orderPrice': '26482.90',\n",
       "  'orderType': 'Market',\n",
       "  'execType': 'Trade',\n",
       "  'closedSize': '0.002',\n",
       "  'cumEntryValue': '53.3212',\n",
       "  'avgEntryPrice': '26660.60',\n",
       "  'cumExitValue': '53.2738',\n",
       "  'avgExitPrice': '26636.90',\n",
       "  'closedPnl': '-0.1433355',\n",
       "  'fillCount': '1',\n",
       "  'leverage': '150',\n",
       "  'createdAt': '1697121544221'},\n",
       " {'symbol': 'BTCUSDT',\n",
       "  'orderId': 'e711a956-2edf-46d4-9f38-75624e40d6f0',\n",
       "  'side': 'Sell',\n",
       "  'qty': '0.001',\n",
       "  'orderPrice': '26500.90',\n",
       "  'orderType': 'Market',\n",
       "  'execType': 'Trade',\n",
       "  'closedSize': '0.001',\n",
       "  'cumEntryValue': '26.6787',\n",
       "  'avgEntryPrice': '26678.70',\n",
       "  'cumExitValue': '26.6527',\n",
       "  'avgExitPrice': '26652.70',\n",
       "  'closedPnl': '-0.07399826',\n",
       "  'fillCount': '1',\n",
       "  'leverage': '150',\n",
       "  'createdAt': '1697121004805'},\n",
       " {'symbol': 'BTCUSDT',\n",
       "  'orderId': '9531f88e-7a87-40ee-90a1-e4be44dca2f6',\n",
       "  'side': 'Sell',\n",
       "  'qty': '0.001',\n",
       "  'orderPrice': '26496.40',\n",
       "  'orderType': 'Market',\n",
       "  'execType': 'Trade',\n",
       "  'closedSize': '0.001',\n",
       "  'cumEntryValue': '26.6742',\n",
       "  'avgEntryPrice': '26674.20',\n",
       "  'cumExitValue': '26.7307',\n",
       "  'avgExitPrice': '26730.70',\n",
       "  'closedPnl': '0.00843559',\n",
       "  'fillCount': '1',\n",
       "  'leverage': '150',\n",
       "  'createdAt': '1697119280089'},\n",
       " {'symbol': 'BTCUSDT',\n",
       "  'orderId': '9b81e95f-fb25-42d8-bf58-ebfcff6a0ff5',\n",
       "  'side': 'Sell',\n",
       "  'qty': '0.001',\n",
       "  'orderPrice': '26517.40',\n",
       "  'orderType': 'Market',\n",
       "  'execType': 'Trade',\n",
       "  'closedSize': '0.001',\n",
       "  'cumEntryValue': '26.6953',\n",
       "  'avgEntryPrice': '26695.30',\n",
       "  'cumExitValue': '26.7002',\n",
       "  'avgExitPrice': '26700.20',\n",
       "  'closedPnl': '-0.04315595',\n",
       "  'fillCount': '1',\n",
       "  'leverage': '150',\n",
       "  'createdAt': '1697118326647'}]"
      ]
     },
     "execution_count": 2,
     "metadata": {},
     "output_type": "execute_result"
    }
   ],
   "source": [
    "mufex_main.get_closed_pnl(symbol=symbol)"
   ]
  },
  {
   "cell_type": "code",
   "execution_count": 3,
   "metadata": {},
   "outputs": [
    {
     "data": {
      "text/plain": [
       "-0.12820746"
      ]
     },
     "execution_count": 3,
     "metadata": {},
     "output_type": "execute_result"
    }
   ],
   "source": [
    "mufex_main.get_latest_pnl_result(symbol=symbol)"
   ]
  }
 ],
 "metadata": {
  "kernelspec": {
   "display_name": "qfFree",
   "language": "python",
   "name": "python3"
  },
  "language_info": {
   "codemirror_mode": {
    "name": "ipython",
    "version": 3
   },
   "file_extension": ".py",
   "mimetype": "text/x-python",
   "name": "python",
   "nbconvert_exporter": "python",
   "pygments_lexer": "ipython3",
   "version": "3.10.10"
  },
  "orig_nbformat": 4
 },
 "nbformat": 4,
 "nbformat_minor": 2
}
