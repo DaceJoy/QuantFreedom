{
 "cells": [
  {
   "cell_type": "code",
   "execution_count": 2,
   "metadata": {},
   "outputs": [],
   "source": [
    "from my_stuff import MufexKeys\n",
    "from quantfreedom.exchanges.mufex_exchange.mufex import Mufex\n",
    "from lightweight_charts import Chart\n",
    "from time import sleep\n",
    "import pandas as pd\n",
    "from time import mktime\n",
    "import numpy as np\n",
    "\n",
    "mufex_main = Mufex(\n",
    "    api_key=MufexKeys.api_key,\n",
    "    secret_key=MufexKeys.secret_key,\n",
    "    use_test_net=False,\n",
    ")\n",
    "symbol=\"BTCUSDT\"\n",
    "\n",
    "%load_ext autoreload\n",
    "%autoreload 2\n"
   ]
  },
  {
   "cell_type": "code",
   "execution_count": 2,
   "metadata": {},
   "outputs": [
    {
     "name": "stdout",
     "output_type": "stream",
     "text": [
      "It took 00 mins and 02 seconds to download 300 candles\n"
     ]
    }
   ],
   "source": [
    "candles = mufex_main.get_candles_df(\n",
    "    symbol=symbol,\n",
    "    timeframe='1m',\n",
    "    candles_to_dl=300,\n",
    "    limit=200\n",
    ")"
   ]
  },
  {
   "cell_type": "code",
   "execution_count": 31,
   "metadata": {},
   "outputs": [
    {
     "data": {
      "text/plain": [
       "1697067000000"
      ]
     },
     "execution_count": 31,
     "metadata": {},
     "output_type": "execute_result"
    }
   ],
   "source": [
    "int(mktime(candles.timestamp[1].timetuple())) * 1000"
   ]
  },
  {
   "cell_type": "code",
   "execution_count": 45,
   "metadata": {},
   "outputs": [],
   "source": [
    "candles.timestamp = candles.timestamp.astype(np.int64) // 100000"
   ]
  },
  {
   "cell_type": "code",
   "execution_count": 46,
   "metadata": {},
   "outputs": [
    {
     "data": {
      "text/html": [
       "<div>\n",
       "<style scoped>\n",
       "    .dataframe tbody tr th:only-of-type {\n",
       "        vertical-align: middle;\n",
       "    }\n",
       "\n",
       "    .dataframe tbody tr th {\n",
       "        vertical-align: top;\n",
       "    }\n",
       "\n",
       "    .dataframe thead th {\n",
       "        text-align: right;\n",
       "    }\n",
       "</style>\n",
       "<table border=\"1\" class=\"dataframe\">\n",
       "  <thead>\n",
       "    <tr style=\"text-align: right;\">\n",
       "      <th></th>\n",
       "      <th>timestamp</th>\n",
       "      <th>open</th>\n",
       "      <th>high</th>\n",
       "      <th>low</th>\n",
       "      <th>close</th>\n",
       "    </tr>\n",
       "  </thead>\n",
       "  <tbody>\n",
       "    <tr>\n",
       "      <th>0</th>\n",
       "      <td>16970417400000</td>\n",
       "      <td>26657.9</td>\n",
       "      <td>26695.0</td>\n",
       "      <td>26657.9</td>\n",
       "      <td>26695.0</td>\n",
       "    </tr>\n",
       "    <tr>\n",
       "      <th>1</th>\n",
       "      <td>16970418000000</td>\n",
       "      <td>26695.0</td>\n",
       "      <td>26695.0</td>\n",
       "      <td>26684.9</td>\n",
       "      <td>26686.8</td>\n",
       "    </tr>\n",
       "    <tr>\n",
       "      <th>2</th>\n",
       "      <td>16970418600000</td>\n",
       "      <td>26686.8</td>\n",
       "      <td>26721.3</td>\n",
       "      <td>26684.5</td>\n",
       "      <td>26719.7</td>\n",
       "    </tr>\n",
       "    <tr>\n",
       "      <th>3</th>\n",
       "      <td>16970419200000</td>\n",
       "      <td>26719.7</td>\n",
       "      <td>26723.3</td>\n",
       "      <td>26711.5</td>\n",
       "      <td>26719.0</td>\n",
       "    </tr>\n",
       "    <tr>\n",
       "      <th>4</th>\n",
       "      <td>16970419800000</td>\n",
       "      <td>26719.0</td>\n",
       "      <td>26720.2</td>\n",
       "      <td>26707.8</td>\n",
       "      <td>26707.8</td>\n",
       "    </tr>\n",
       "    <tr>\n",
       "      <th>...</th>\n",
       "      <td>...</td>\n",
       "      <td>...</td>\n",
       "      <td>...</td>\n",
       "      <td>...</td>\n",
       "      <td>...</td>\n",
       "    </tr>\n",
       "    <tr>\n",
       "      <th>295</th>\n",
       "      <td>16970594400000</td>\n",
       "      <td>26741.8</td>\n",
       "      <td>26742.1</td>\n",
       "      <td>26726.4</td>\n",
       "      <td>26728.7</td>\n",
       "    </tr>\n",
       "    <tr>\n",
       "      <th>296</th>\n",
       "      <td>16970595000000</td>\n",
       "      <td>26728.7</td>\n",
       "      <td>26732.6</td>\n",
       "      <td>26725.5</td>\n",
       "      <td>26725.6</td>\n",
       "    </tr>\n",
       "    <tr>\n",
       "      <th>297</th>\n",
       "      <td>16970595600000</td>\n",
       "      <td>26725.6</td>\n",
       "      <td>26725.7</td>\n",
       "      <td>26715.0</td>\n",
       "      <td>26715.0</td>\n",
       "    </tr>\n",
       "    <tr>\n",
       "      <th>298</th>\n",
       "      <td>16970596200000</td>\n",
       "      <td>26715.0</td>\n",
       "      <td>26715.0</td>\n",
       "      <td>26704.5</td>\n",
       "      <td>26705.8</td>\n",
       "    </tr>\n",
       "    <tr>\n",
       "      <th>299</th>\n",
       "      <td>16970596800000</td>\n",
       "      <td>26705.8</td>\n",
       "      <td>26705.9</td>\n",
       "      <td>26702.6</td>\n",
       "      <td>26702.9</td>\n",
       "    </tr>\n",
       "  </tbody>\n",
       "</table>\n",
       "<p>300 rows × 5 columns</p>\n",
       "</div>"
      ],
      "text/plain": [
       "          timestamp     open     high      low    close\n",
       "0    16970417400000  26657.9  26695.0  26657.9  26695.0\n",
       "1    16970418000000  26695.0  26695.0  26684.9  26686.8\n",
       "2    16970418600000  26686.8  26721.3  26684.5  26719.7\n",
       "3    16970419200000  26719.7  26723.3  26711.5  26719.0\n",
       "4    16970419800000  26719.0  26720.2  26707.8  26707.8\n",
       "..              ...      ...      ...      ...      ...\n",
       "295  16970594400000  26741.8  26742.1  26726.4  26728.7\n",
       "296  16970595000000  26728.7  26732.6  26725.5  26725.6\n",
       "297  16970595600000  26725.6  26725.7  26715.0  26715.0\n",
       "298  16970596200000  26715.0  26715.0  26704.5  26705.8\n",
       "299  16970596800000  26705.8  26705.9  26702.6  26702.9\n",
       "\n",
       "[300 rows x 5 columns]"
      ]
     },
     "execution_count": 46,
     "metadata": {},
     "output_type": "execute_result"
    }
   ],
   "source": [
    "candles"
   ]
  },
  {
   "cell_type": "code",
   "execution_count": 25,
   "metadata": {},
   "outputs": [
    {
     "name": "stdout",
     "output_type": "stream",
     "text": [
      "2023-10-11 20:21:00\n",
      "26702.7\n",
      "2023-10-11 20:20:00\n",
      "26697.4\n",
      "2023-10-11 20:19:00\n",
      "26692.4\n",
      "2023-10-11 20:18:00\n",
      "26698.5\n",
      "2023-10-11 20:17:00\n",
      "26698.5\n",
      "2023-10-11 20:12:00\n",
      "26707.8\n"
     ]
    }
   ],
   "source": [
    "lookback_rsi = candles[-30 : -1]\n",
    "filter = lookback_rsi.close[(lookback_rsi.close < 26710)]\n",
    "if filter.any():\n",
    "    for i in range (len(filter)-1, -1,-1):\n",
    "        rsi_divergence_index = filter[filter.notna()].index[i]\n",
    "        print(rsi_divergence_index)\n",
    "        get_idx = lookback_rsi.index.get_loc(rsi_divergence_index)\n",
    "        print(candles.low[rsi_divergence_index])\n"
   ]
  },
  {
   "cell_type": "code",
   "execution_count": 21,
   "metadata": {},
   "outputs": [
    {
     "data": {
      "text/plain": [
       "timestamp\n",
       "2023-10-11 20:12:00    26707.8\n",
       "2023-10-11 20:17:00    26698.5\n",
       "2023-10-11 20:18:00    26707.6\n",
       "2023-10-11 20:19:00    26700.4\n",
       "2023-10-11 20:20:00    26703.0\n",
       "2023-10-11 20:21:00    26704.1\n",
       "Name: close, dtype: float64"
      ]
     },
     "execution_count": 21,
     "metadata": {},
     "output_type": "execute_result"
    }
   ],
   "source": [
    "filter"
   ]
  },
  {
   "cell_type": "code",
   "execution_count": 4,
   "metadata": {},
   "outputs": [
    {
     "ename": "Exception",
     "evalue": "Data or List is empty OK -> list index out of range",
     "output_type": "error",
     "traceback": [
      "\u001b[1;31m---------------------------------------------------------------------------\u001b[0m",
      "\u001b[1;31mIndexError\u001b[0m                                Traceback (most recent call last)",
      "File \u001b[1;32me:\\coding\\backtesters\\quantfreedom\\quantfreedom\\exchanges\\mufex_exchange\\mufex.py:259\u001b[0m, in \u001b[0;36mMufex.get_closed_pnl\u001b[1;34m(self, symbol, limit, params, **vargs)\u001b[0m\n\u001b[0;32m    258\u001b[0m \u001b[39mtry\u001b[39;00m:\n\u001b[1;32m--> 259\u001b[0m     response[\u001b[39m\"\u001b[39;49m\u001b[39mdata\u001b[39;49m\u001b[39m\"\u001b[39;49m][\u001b[39m\"\u001b[39;49m\u001b[39mlist\u001b[39;49m\u001b[39m\"\u001b[39;49m][\u001b[39m0\u001b[39;49m]\n\u001b[0;32m    260\u001b[0m     data_list \u001b[39m=\u001b[39m response[\u001b[39m\"\u001b[39m\u001b[39mdata\u001b[39m\u001b[39m\"\u001b[39m][\u001b[39m\"\u001b[39m\u001b[39mlist\u001b[39m\u001b[39m\"\u001b[39m]\n",
      "\u001b[1;31mIndexError\u001b[0m: list index out of range",
      "\nDuring handling of the above exception, another exception occurred:\n",
      "\u001b[1;31mException\u001b[0m                                 Traceback (most recent call last)",
      "\u001b[1;32me:\\Coding\\backtesters\\QuantFreedom\\tests\\test_mufex.ipynb Cell 8\u001b[0m line \u001b[0;36m1\n\u001b[1;32m----> <a href='vscode-notebook-cell:/e%3A/Coding/backtesters/QuantFreedom/tests/test_mufex.ipynb#X10sZmlsZQ%3D%3D?line=0'>1</a>\u001b[0m mufex_main\u001b[39m.\u001b[39;49mget_closed_pnl(symbol\u001b[39m=\u001b[39;49msymbol)\n",
      "File \u001b[1;32me:\\coding\\backtesters\\quantfreedom\\quantfreedom\\exchanges\\mufex_exchange\\mufex.py:264\u001b[0m, in \u001b[0;36mMufex.get_closed_pnl\u001b[1;34m(self, symbol, limit, params, **vargs)\u001b[0m\n\u001b[0;32m    262\u001b[0m     \u001b[39mreturn\u001b[39;00m data_list\n\u001b[0;32m    263\u001b[0m \u001b[39mexcept\u001b[39;00m \u001b[39mException\u001b[39;00m \u001b[39mas\u001b[39;00m e:\n\u001b[1;32m--> 264\u001b[0m     \u001b[39mraise\u001b[39;00m \u001b[39mException\u001b[39;00m(\u001b[39mf\u001b[39m\u001b[39m\"\u001b[39m\u001b[39mData or List is empty \u001b[39m\u001b[39m{\u001b[39;00mresponse[\u001b[39m'\u001b[39m\u001b[39mmessage\u001b[39m\u001b[39m'\u001b[39m]\u001b[39m}\u001b[39;00m\u001b[39m -> \u001b[39m\u001b[39m{\u001b[39;00me\u001b[39m}\u001b[39;00m\u001b[39m\"\u001b[39m)\n",
      "\u001b[1;31mException\u001b[0m: Data or List is empty OK -> list index out of range"
     ]
    }
   ],
   "source": [
    "mufex_main.get_closed_pnl(symbol=symbol)"
   ]
  },
  {
   "cell_type": "code",
   "execution_count": 3,
   "metadata": {},
   "outputs": [
    {
     "data": {
      "text/plain": [
       "-0.12820746"
      ]
     },
     "execution_count": 3,
     "metadata": {},
     "output_type": "execute_result"
    }
   ],
   "source": [
    "mufex_main.get_latest_pnl_result(symbol=symbol)"
   ]
  }
 ],
 "metadata": {
  "kernelspec": {
   "display_name": "qfFree",
   "language": "python",
   "name": "python3"
  },
  "language_info": {
   "codemirror_mode": {
    "name": "ipython",
    "version": 3
   },
   "file_extension": ".py",
   "mimetype": "text/x-python",
   "name": "python",
   "nbconvert_exporter": "python",
   "pygments_lexer": "ipython3",
   "version": "3.10.10"
  },
  "orig_nbformat": 4
 },
 "nbformat": 4,
 "nbformat_minor": 2
}
