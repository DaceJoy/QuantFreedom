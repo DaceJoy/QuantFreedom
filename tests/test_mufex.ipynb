{
 "cells": [
  {
   "cell_type": "code",
   "execution_count": 1,
   "metadata": {},
   "outputs": [],
   "source": [
    "from my_stuff import MufexKeys\n",
    "from quantfreedom.exchanges.mufex_exchange.mufex import Mufex\n",
    "from time import sleep\n",
    "import pandas as pd\n",
    "from time import mktime\n",
    "import numpy as np\n",
    "\n",
    "mufex_main = Mufex(\n",
    "    api_key=MufexKeys.api_key,\n",
    "    secret_key=MufexKeys.secret_key,\n",
    "    use_test_net=False,\n",
    ")\n",
    "symbol=\"BTCUSDT\"\n",
    "\n",
    "%load_ext autoreload\n",
    "%autoreload 2\n"
   ]
  },
  {
   "cell_type": "code",
   "execution_count": 2,
   "metadata": {},
   "outputs": [
    {
     "name": "stdout",
     "output_type": "stream",
     "text": [
      "It took 00 mins and 00 seconds to download 300 candles\n"
     ]
    }
   ],
   "source": [
    "candles = mufex_main.get_candles_df(\n",
    "    symbol=symbol,\n",
    "    timeframe='1m',\n",
    "    candles_to_dl=300,\n",
    "    limit=200\n",
    ")"
   ]
  },
  {
   "cell_type": "code",
   "execution_count": 11,
   "metadata": {},
   "outputs": [],
   "source": [
    "mufex_main.set_exchange_settings(symbol=symbol, position_mode=0, leverage_mode=0)"
   ]
  },
  {
   "cell_type": "code",
   "execution_count": 12,
   "metadata": {},
   "outputs": [
    {
     "data": {
      "text/plain": [
       "ExchangeSettings(limit_fee_pct=0.0003, max_leverage=150.0, market_fee_pct=0.0009, mmr_pct=0.004, min_leverage=1.0, max_asset_size=100.0, min_asset_size=0.001, asset_tick_step=3, position_mode=0, leverage_mode=0, price_tick_step=1, leverage_tick_step=2)"
      ]
     },
     "execution_count": 12,
     "metadata": {},
     "output_type": "execute_result"
    }
   ],
   "source": [
    "mufex_main.exchange_settings"
   ]
  },
  {
   "cell_type": "code",
   "execution_count": 3,
   "metadata": {},
   "outputs": [
    {
     "data": {
      "text/plain": [
       "[{'symbol': 'BTCUSDT',\n",
       "  'orderId': '473d8943-afee-4967-9b91-88fb9cb68cf5',\n",
       "  'side': 'Sell',\n",
       "  'qty': '0.003',\n",
       "  'orderPrice': '26683.80',\n",
       "  'orderType': 'Market',\n",
       "  'execType': 'Trade',\n",
       "  'closedSize': '0.003',\n",
       "  'cumEntryValue': '80.5885',\n",
       "  'avgEntryPrice': '26862.83',\n",
       "  'cumExitValue': '80.5365',\n",
       "  'avgExitPrice': '26845.50',\n",
       "  'closedPnl': '-0.20094022',\n",
       "  'fillCount': '1',\n",
       "  'leverage': '150',\n",
       "  'createdAt': '1697350386672'},\n",
       " {'symbol': 'BTCUSDT',\n",
       "  'orderId': '21b209c7-cd10-4520-af70-35b0a0edb2c0',\n",
       "  'side': 'Sell',\n",
       "  'qty': '0.003',\n",
       "  'orderPrice': '26644.30',\n",
       "  'orderType': 'Market',\n",
       "  'execType': 'Trade',\n",
       "  'closedSize': '0.003',\n",
       "  'cumEntryValue': '80.4692',\n",
       "  'avgEntryPrice': '26823.07',\n",
       "  'cumExitValue': '80.4186',\n",
       "  'avgExitPrice': '26806.20',\n",
       "  'closedPnl': '-0.19539902',\n",
       "  'fillCount': '1',\n",
       "  'leverage': '150',\n",
       "  'createdAt': '1697329685657'},\n",
       " {'symbol': 'BTCUSDT',\n",
       "  'orderId': 'cab0fde5-5d0a-43ee-9a99-4f2a6306b2af',\n",
       "  'side': 'Sell',\n",
       "  'qty': '0.001',\n",
       "  'orderPrice': '26678.70',\n",
       "  'orderType': 'Market',\n",
       "  'execType': 'Trade',\n",
       "  'closedSize': '0.001',\n",
       "  'cumEntryValue': '26.8577',\n",
       "  'avgEntryPrice': '26857.70',\n",
       "  'cumExitValue': '26.838',\n",
       "  'avgExitPrice': '26838.00',\n",
       "  'closedPnl': '-0.06802613',\n",
       "  'fillCount': '1',\n",
       "  'leverage': '150',\n",
       "  'createdAt': '1697309527193'},\n",
       " {'symbol': 'BTCUSDT',\n",
       "  'orderId': 'c153ea36-526b-4340-924b-4318af64fbb7',\n",
       "  'side': 'Sell',\n",
       "  'qty': '0.001',\n",
       "  'orderPrice': '26651.10',\n",
       "  'orderType': 'Market',\n",
       "  'execType': 'Trade',\n",
       "  'closedSize': '0.001',\n",
       "  'cumEntryValue': '26.8299',\n",
       "  'avgEntryPrice': '26829.90',\n",
       "  'cumExitValue': '26.8583',\n",
       "  'avgExitPrice': '26858.30',\n",
       "  'closedPnl': '-0.01991938',\n",
       "  'fillCount': '1',\n",
       "  'leverage': '150',\n",
       "  'createdAt': '1697247639924'},\n",
       " {'symbol': 'BTCUSDT',\n",
       "  'orderId': '8448a23e-c382-49c7-ad49-492c66c76721',\n",
       "  'side': 'Sell',\n",
       "  'qty': '0.001',\n",
       "  'orderPrice': '26536.80',\n",
       "  'orderType': 'Market',\n",
       "  'execType': 'Trade',\n",
       "  'closedSize': '0.001',\n",
       "  'cumEntryValue': '26.7148',\n",
       "  'avgEntryPrice': '26714.80',\n",
       "  'cumExitValue': '26.6945',\n",
       "  'avgExitPrice': '26694.50',\n",
       "  'closedPnl': '-0.06836837',\n",
       "  'fillCount': '1',\n",
       "  'leverage': '150',\n",
       "  'createdAt': '1697210643945'},\n",
       " {'symbol': 'BTCUSDT',\n",
       "  'orderId': '31e81679-134e-4620-81fb-92098ec943e5',\n",
       "  'side': 'Sell',\n",
       "  'qty': '0.001',\n",
       "  'orderPrice': '26600.60',\n",
       "  'orderType': 'Market',\n",
       "  'execType': 'Trade',\n",
       "  'closedSize': '0.001',\n",
       "  'cumEntryValue': '26.7791',\n",
       "  'avgEntryPrice': '26779.10',\n",
       "  'cumExitValue': '26.7879',\n",
       "  'avgExitPrice': '26787.90',\n",
       "  'closedPnl': '-0.0394103',\n",
       "  'fillCount': '1',\n",
       "  'leverage': '150',\n",
       "  'createdAt': '1697207579590'},\n",
       " {'symbol': 'BTCUSDT',\n",
       "  'orderId': '46bdf5d5-172c-4fba-b67c-9bf867d63879',\n",
       "  'side': 'Sell',\n",
       "  'qty': '0.001',\n",
       "  'orderPrice': '26618.50',\n",
       "  'orderType': 'Market',\n",
       "  'execType': 'Trade',\n",
       "  'closedSize': '0.001',\n",
       "  'cumEntryValue': '26.7971',\n",
       "  'avgEntryPrice': '26797.10',\n",
       "  'cumExitValue': '26.824',\n",
       "  'avgExitPrice': '26824.00',\n",
       "  'closedPnl': '-0.02135899',\n",
       "  'fillCount': '1',\n",
       "  'leverage': '150',\n",
       "  'createdAt': '1697206212949'},\n",
       " {'symbol': 'BTCUSDT',\n",
       "  'orderId': 'c56fddcc-e3e6-4255-ab9d-c40c1fbfe2fa',\n",
       "  'side': 'Sell',\n",
       "  'qty': '0.002',\n",
       "  'orderPrice': '26643.70',\n",
       "  'orderType': 'Market',\n",
       "  'execType': 'Trade',\n",
       "  'closedSize': '0.002',\n",
       "  'cumEntryValue': '53.6449',\n",
       "  'avgEntryPrice': '26822.45',\n",
       "  'cumExitValue': '53.5934',\n",
       "  'avgExitPrice': '26796.70',\n",
       "  'closedPnl': '-0.14801447',\n",
       "  'fillCount': '1',\n",
       "  'leverage': '150',\n",
       "  'createdAt': '1697205663469'},\n",
       " {'symbol': 'BTCUSDT',\n",
       "  'orderId': '6332e25e-d555-47ad-ae2d-cda2f5046d9a',\n",
       "  'side': 'Sell',\n",
       "  'qty': '0.002',\n",
       "  'orderPrice': '26495.80',\n",
       "  'orderType': 'Market',\n",
       "  'execType': 'Trade',\n",
       "  'closedSize': '0.002',\n",
       "  'cumEntryValue': '53.3471',\n",
       "  'avgEntryPrice': '26673.55',\n",
       "  'cumExitValue': '53.4018',\n",
       "  'avgExitPrice': '26700.90',\n",
       "  'closedPnl': '-0.04137401',\n",
       "  'fillCount': '1',\n",
       "  'leverage': '150',\n",
       "  'createdAt': '1697150585913'},\n",
       " {'symbol': 'BTCUSDT',\n",
       "  'orderId': '56cfe8e5-d1e2-4ebd-9fbd-b04e5461da88',\n",
       "  'side': 'Sell',\n",
       "  'qty': '0.001',\n",
       "  'orderPrice': '26380.60',\n",
       "  'orderType': 'Market',\n",
       "  'execType': 'Trade',\n",
       "  'closedSize': '0.001',\n",
       "  'cumEntryValue': '26.5576',\n",
       "  'avgEntryPrice': '26557.60',\n",
       "  'cumExitValue': '26.6062',\n",
       "  'avgExitPrice': '26606.20',\n",
       "  'closedPnl': '0.00075258',\n",
       "  'fillCount': '1',\n",
       "  'leverage': '150',\n",
       "  'createdAt': '1697132311057'}]"
      ]
     },
     "execution_count": 3,
     "metadata": {},
     "output_type": "execute_result"
    }
   ],
   "source": [
    "mufex_main.get_closed_pnl(symbol=symbol)"
   ]
  },
  {
   "cell_type": "code",
   "execution_count": 5,
   "metadata": {},
   "outputs": [
    {
     "data": {
      "text/plain": [
       "-0.20094022"
      ]
     },
     "execution_count": 5,
     "metadata": {},
     "output_type": "execute_result"
    }
   ],
   "source": [
    "mufex_main.get_latest_pnl_result(symbol=symbol)"
   ]
  }
 ],
 "metadata": {
  "kernelspec": {
   "display_name": "qfFree",
   "language": "python",
   "name": "python3"
  },
  "language_info": {
   "codemirror_mode": {
    "name": "ipython",
    "version": 3
   },
   "file_extension": ".py",
   "mimetype": "text/x-python",
   "name": "python",
   "nbconvert_exporter": "python",
   "pygments_lexer": "ipython3",
   "version": "3.10.10"
  },
  "orig_nbformat": 4
 },
 "nbformat": 4,
 "nbformat_minor": 2
}
