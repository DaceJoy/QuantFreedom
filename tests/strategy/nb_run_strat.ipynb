{
  "cells": [
    {
      "cell_type": "code",
      "execution_count": 1,
      "metadata": {},
      "outputs": [],
      "source": [
        "# import sys\n",
        "# import os\n",
        "# sys.dont_write_bytecode = True\n",
        "# os.environ[\"NUMBA_DISABLE_JIT\"] = \"1\""
      ]
    },
    {
      "cell_type": "code",
      "execution_count": 2,
      "metadata": {},
      "outputs": [],
      "source": [
        "import numpy as np\n",
        "from my_stuff import MufexKeys\n",
        "from quantfreedom.exchanges.mufex_exchange.mufex import Mufex\n",
        "from quantfreedom.enums import *\n",
        "from quantfreedom.nb_funcs.nb_simulate import nb_sim_df_backtest\n",
        "from quantfreedom.nb_funcs.nb_strategies.nb_strategy import *\n",
        "\n",
        "mufex_main = Mufex(\n",
        "    api_key=MufexKeys.api_key,\n",
        "    secret_key=MufexKeys.secret_key,\n",
        "    use_test_net=False,\n",
        ")\n",
        "\n",
        "%load_ext autoreload\n",
        "%autoreload 2"
      ]
    },
    {
      "cell_type": "code",
      "execution_count": 3,
      "metadata": {},
      "outputs": [],
      "source": [
        "candles_np = mufex_main.get_candles(\n",
        "    symbol=\"BTCUSDT\", timeframe=\"5m\", candles_to_dl=200)"
      ]
    },
    {
      "cell_type": "code",
      "execution_count": 4,
      "metadata": {},
      "outputs": [],
      "source": [
        "mufex_main.set_exchange_settings(\n",
        "    symbol=\"BTCUSDT\",\n",
        "    position_mode=PositionModeType.HedgeMode,\n",
        "    leverage_mode=LeverageModeType.Isolated,\n",
        ")\n",
        "\n",
        "# backtest_settings = BacktestSettings(\n",
        "#     array_size=1000,\n",
        "#     gains_pct_filter=0,\n",
        "#     total_trade_filter=40,\n",
        "#     upside_filter=0,\n",
        "# )\n",
        "\n",
        "backtest_settings = BacktestSettings()\n",
        "dos_arrays = DynamicOrderSettingsArrays(\n",
        "    max_equity_risk_pct=np.array([12]),\n",
        "    max_trades=np.array([5]),\n",
        "    risk_account_pct_size=np.array([3]),\n",
        "    risk_reward=np.array([2.5]),\n",
        "    sl_based_on_add_pct=np.array([0.05,]),\n",
        "    sl_based_on_lookback=np.array([20]),\n",
        "    sl_bcb_type=np.array([CandleBodyType.Low]),\n",
        "    sl_to_be_cb_type=np.array([CandleBodyType.Nothing]),\n",
        "    sl_to_be_when_pct=np.array([0]),\n",
        "    trail_sl_bcb_type=np.array([CandleBodyType.Low]),\n",
        "    trail_sl_by_pct=np.array([0.5]),\n",
        "    trail_sl_when_pct=np.array([1]),\n",
        ")\n",
        "static_os = StaticOrderSettings(\n",
        "    increase_position_type=IncreasePositionType.RiskPctAccountEntrySize,\n",
        "    leverage_strategy_type=LeverageStrategyType.Dynamic,\n",
        "    logger_bool=False,\n",
        "    pg_min_max_sl_bcb=\"min\",\n",
        "    sl_strategy_type=StopLossStrategyType.SLBasedOnCandleBody,\n",
        "    sl_to_be_bool=False,\n",
        "    starting_bar=50,\n",
        "    starting_equity=1000.0,\n",
        "    static_leverage=None,\n",
        "    tp_fee_type='limit',\n",
        "    tp_strategy_type=TakeProfitStrategyType.RiskReward,\n",
        "    trail_sl_bool=True,\n",
        "    z_or_e_type=None,\n",
        ")"
      ]
    },
    {
      "cell_type": "code",
      "execution_count": 5,
      "metadata": {},
      "outputs": [
        {
          "name": "stdout",
          "output_type": "stream",
          "text": [
            "Starting the backtest now ... and also here are some stats for your backtest.\n",
            "\n",
            "Total indicator settings to test: 1\n",
            "Total order settings to test: 1\n",
            "Total combinations of settings to test: 1\n",
            "Total candles: 200\n",
            "Total candles to test: 200\n"
          ]
        },
        {
          "ename": "TypingError",
          "evalue": "Failed in nopython mode pipeline (step: nopython frontend)\n\u001b[1mCannot infer the type of variable 'nb_calc_dynamic_lev.2', have imprecise type: UndefinedFunctionType[undefined(undefined, undefined, undefined)10]. \n\u001b[1m\nFile \"..\\..\\quantfreedom\\nb_funcs\\nb_simulate.py\", line 673:\u001b[0m\n\u001b[1mdef nb_run_df_backtest(\n    <source elided>\n                            logger=logger,\n\u001b[1m                            nb_calc_dynamic_lev=nb_calc_dynamic_lev,\n\u001b[0m                            \u001b[1m^\u001b[0m\u001b[0m\n\u001b[0m",
          "output_type": "error",
          "traceback": [
            "\u001b[1;31m---------------------------------------------------------------------------\u001b[0m",
            "\u001b[1;31mTypingError\u001b[0m                               Traceback (most recent call last)",
            "\u001b[1;32me:\\Coding\\backtesters\\QuantFreedom\\tests\\strategy\\nb_run_strat.ipynb Cell 5\u001b[0m line \u001b[0;36m1\n\u001b[1;32m----> <a href='vscode-notebook-cell:/e%3A/Coding/backtesters/QuantFreedom/tests/strategy/nb_run_strat.ipynb#W4sZmlsZQ%3D%3D?line=0'>1</a>\u001b[0m strat_records_df \u001b[39m=\u001b[39m nb_sim_df_backtest(\n\u001b[0;32m      <a href='vscode-notebook-cell:/e%3A/Coding/backtesters/QuantFreedom/tests/strategy/nb_run_strat.ipynb#W4sZmlsZQ%3D%3D?line=1'>2</a>\u001b[0m     backtest_settings\u001b[39m=\u001b[39;49mbacktest_settings,\n\u001b[0;32m      <a href='vscode-notebook-cell:/e%3A/Coding/backtesters/QuantFreedom/tests/strategy/nb_run_strat.ipynb#W4sZmlsZQ%3D%3D?line=2'>3</a>\u001b[0m     candles\u001b[39m=\u001b[39;49mcandles_np,\n\u001b[0;32m      <a href='vscode-notebook-cell:/e%3A/Coding/backtesters/QuantFreedom/tests/strategy/nb_run_strat.ipynb#W4sZmlsZQ%3D%3D?line=3'>4</a>\u001b[0m     dos_arrays\u001b[39m=\u001b[39;49mdos_arrays,\n\u001b[0;32m      <a href='vscode-notebook-cell:/e%3A/Coding/backtesters/QuantFreedom/tests/strategy/nb_run_strat.ipynb#W4sZmlsZQ%3D%3D?line=4'>5</a>\u001b[0m     exchange_settings\u001b[39m=\u001b[39;49mmufex_main\u001b[39m.\u001b[39;49mexchange_settings,\n\u001b[0;32m      <a href='vscode-notebook-cell:/e%3A/Coding/backtesters/QuantFreedom/tests/strategy/nb_run_strat.ipynb#W4sZmlsZQ%3D%3D?line=5'>6</a>\u001b[0m     long_short\u001b[39m=\u001b[39;49m\u001b[39m\"\u001b[39;49m\u001b[39mlong\u001b[39;49m\u001b[39m\"\u001b[39;49m,\n\u001b[0;32m      <a href='vscode-notebook-cell:/e%3A/Coding/backtesters/QuantFreedom/tests/strategy/nb_run_strat.ipynb#W4sZmlsZQ%3D%3D?line=6'>7</a>\u001b[0m     nb_strat_evaluate\u001b[39m=\u001b[39;49mnb_strat_long_evaluate,\n\u001b[0;32m      <a href='vscode-notebook-cell:/e%3A/Coding/backtesters/QuantFreedom/tests/strategy/nb_run_strat.ipynb#W4sZmlsZQ%3D%3D?line=7'>8</a>\u001b[0m     nb_strat_get_current_ind_settings\u001b[39m=\u001b[39;49mnb_strat_get_current_ind_settings,\n\u001b[0;32m      <a href='vscode-notebook-cell:/e%3A/Coding/backtesters/QuantFreedom/tests/strategy/nb_run_strat.ipynb#W4sZmlsZQ%3D%3D?line=8'>9</a>\u001b[0m     nb_strat_get_ind_set_str\u001b[39m=\u001b[39;49mnb_strat_get_ind_set_str,\n\u001b[0;32m     <a href='vscode-notebook-cell:/e%3A/Coding/backtesters/QuantFreedom/tests/strategy/nb_run_strat.ipynb#W4sZmlsZQ%3D%3D?line=9'>10</a>\u001b[0m     nb_strat_get_total_ind_settings\u001b[39m=\u001b[39;49mnb_strat_get_total_ind_settings,\n\u001b[0;32m     <a href='vscode-notebook-cell:/e%3A/Coding/backtesters/QuantFreedom/tests/strategy/nb_run_strat.ipynb#W4sZmlsZQ%3D%3D?line=10'>11</a>\u001b[0m     nb_strat_ind_creator\u001b[39m=\u001b[39;49mnb_strat_bt_create_ind,\n\u001b[0;32m     <a href='vscode-notebook-cell:/e%3A/Coding/backtesters/QuantFreedom/tests/strategy/nb_run_strat.ipynb#W4sZmlsZQ%3D%3D?line=11'>12</a>\u001b[0m     static_os\u001b[39m=\u001b[39;49mstatic_os,\n\u001b[0;32m     <a href='vscode-notebook-cell:/e%3A/Coding/backtesters/QuantFreedom/tests/strategy/nb_run_strat.ipynb#W4sZmlsZQ%3D%3D?line=12'>13</a>\u001b[0m )\n\u001b[0;32m     <a href='vscode-notebook-cell:/e%3A/Coding/backtesters/QuantFreedom/tests/strategy/nb_run_strat.ipynb#W4sZmlsZQ%3D%3D?line=13'>14</a>\u001b[0m strat_records_df\u001b[39m.\u001b[39msort_values(by\u001b[39m=\u001b[39m\u001b[39m\"\u001b[39m\u001b[39mqf_score\u001b[39m\u001b[39m\"\u001b[39m, ascending\u001b[39m=\u001b[39m\u001b[39mFalse\u001b[39;00m)\u001b[39m.\u001b[39mhead(\u001b[39m5\u001b[39m)\n",
            "File \u001b[1;32mE:\\Coding\\backtesters\\QuantFreedom\\quantfreedom\\nb_funcs\\nb_simulate.py:140\u001b[0m, in \u001b[0;36mnb_sim_df_backtest\u001b[1;34m(backtest_settings, candles, dos_arrays, exchange_settings, long_short, nb_strat_get_current_ind_settings, nb_strat_get_total_ind_settings, nb_strat_get_ind_set_str, nb_strat_ind_creator, nb_strat_evaluate, static_os)\u001b[0m\n\u001b[0;32m    137\u001b[0m \u001b[39mprint\u001b[39m(\u001b[39mf\u001b[39m\u001b[39m\"\u001b[39m\u001b[39mTotal candles: \u001b[39m\u001b[39m{\u001b[39;00mtotal_bars\u001b[39m:\u001b[39;00m\u001b[39m,\u001b[39m\u001b[39m}\u001b[39;00m\u001b[39m\"\u001b[39m)\n\u001b[0;32m    138\u001b[0m \u001b[39mprint\u001b[39m(\u001b[39mf\u001b[39m\u001b[39m\"\u001b[39m\u001b[39mTotal candles to test: \u001b[39m\u001b[39m{\u001b[39;00mtotal_indicator_settings\u001b[39m \u001b[39m\u001b[39m*\u001b[39m\u001b[39m \u001b[39mtotal_order_settings\u001b[39m \u001b[39m\u001b[39m*\u001b[39m\u001b[39m \u001b[39mtotal_bars\u001b[39m:\u001b[39;00m\u001b[39m,\u001b[39m\u001b[39m}\u001b[39;00m\u001b[39m\"\u001b[39m)\n\u001b[1;32m--> 140\u001b[0m strategy_result_records \u001b[39m=\u001b[39m nb_run_df_backtest(\n\u001b[0;32m    141\u001b[0m     backtest_settings\u001b[39m=\u001b[39;49mbacktest_settings,\n\u001b[0;32m    142\u001b[0m     candles\u001b[39m=\u001b[39;49mcandles,\n\u001b[0;32m    143\u001b[0m     dos_cart_arrays\u001b[39m=\u001b[39;49mdos_cart_arrays,\n\u001b[0;32m    144\u001b[0m     exchange_settings\u001b[39m=\u001b[39;49mexchange_settings,\n\u001b[0;32m    145\u001b[0m     logger\u001b[39m=\u001b[39;49mlogger,\n\u001b[0;32m    146\u001b[0m     long_short\u001b[39m=\u001b[39;49mlong_short,\n\u001b[0;32m    147\u001b[0m     nb_strat_evaluate\u001b[39m=\u001b[39;49mnb_strat_evaluate,\n\u001b[0;32m    148\u001b[0m     nb_strat_get_current_ind_settings\u001b[39m=\u001b[39;49mnb_strat_get_current_ind_settings,\n\u001b[0;32m    149\u001b[0m     nb_strat_get_ind_set_str\u001b[39m=\u001b[39;49mnb_strat_get_ind_set_str,\n\u001b[0;32m    150\u001b[0m     nb_strat_ind_creator\u001b[39m=\u001b[39;49mnb_strat_ind_creator,\n\u001b[0;32m    151\u001b[0m     static_os\u001b[39m=\u001b[39;49mstatic_os,\n\u001b[0;32m    152\u001b[0m     stringer\u001b[39m=\u001b[39;49mstringer,\n\u001b[0;32m    153\u001b[0m     total_bars\u001b[39m=\u001b[39;49mtotal_bars,\n\u001b[0;32m    154\u001b[0m     total_indicator_settings\u001b[39m=\u001b[39;49mtotal_indicator_settings,\n\u001b[0;32m    155\u001b[0m     total_order_settings\u001b[39m=\u001b[39;49mtotal_order_settings,\n\u001b[0;32m    156\u001b[0m )\n\u001b[0;32m    157\u001b[0m \u001b[39mreturn\u001b[39;00m pd\u001b[39m.\u001b[39mDataFrame(strategy_result_records)\n",
            "File \u001b[1;32me:\\Coding\\venvs\\qfree\\lib\\site-packages\\numba\\core\\dispatcher.py:468\u001b[0m, in \u001b[0;36m_DispatcherBase._compile_for_args\u001b[1;34m(self, *args, **kws)\u001b[0m\n\u001b[0;32m    464\u001b[0m         msg \u001b[39m=\u001b[39m (\u001b[39mf\u001b[39m\u001b[39m\"\u001b[39m\u001b[39m{\u001b[39;00m\u001b[39mstr\u001b[39m(e)\u001b[39m.\u001b[39mrstrip()\u001b[39m}\u001b[39;00m\u001b[39m \u001b[39m\u001b[39m\\n\u001b[39;00m\u001b[39m\\n\u001b[39;00m\u001b[39mThis error may have been caused \u001b[39m\u001b[39m\"\u001b[39m\n\u001b[0;32m    465\u001b[0m                \u001b[39mf\u001b[39m\u001b[39m\"\u001b[39m\u001b[39mby the following argument(s):\u001b[39m\u001b[39m\\n\u001b[39;00m\u001b[39m{\u001b[39;00margs_str\u001b[39m}\u001b[39;00m\u001b[39m\\n\u001b[39;00m\u001b[39m\"\u001b[39m)\n\u001b[0;32m    466\u001b[0m         e\u001b[39m.\u001b[39mpatch_message(msg)\n\u001b[1;32m--> 468\u001b[0m     error_rewrite(e, \u001b[39m'\u001b[39;49m\u001b[39mtyping\u001b[39;49m\u001b[39m'\u001b[39;49m)\n\u001b[0;32m    469\u001b[0m \u001b[39mexcept\u001b[39;00m errors\u001b[39m.\u001b[39mUnsupportedError \u001b[39mas\u001b[39;00m e:\n\u001b[0;32m    470\u001b[0m     \u001b[39m# Something unsupported is present in the user code, add help info\u001b[39;00m\n\u001b[0;32m    471\u001b[0m     error_rewrite(e, \u001b[39m'\u001b[39m\u001b[39munsupported_error\u001b[39m\u001b[39m'\u001b[39m)\n",
            "File \u001b[1;32me:\\Coding\\venvs\\qfree\\lib\\site-packages\\numba\\core\\dispatcher.py:409\u001b[0m, in \u001b[0;36m_DispatcherBase._compile_for_args.<locals>.error_rewrite\u001b[1;34m(e, issue_type)\u001b[0m\n\u001b[0;32m    407\u001b[0m     \u001b[39mraise\u001b[39;00m e\n\u001b[0;32m    408\u001b[0m \u001b[39melse\u001b[39;00m:\n\u001b[1;32m--> 409\u001b[0m     \u001b[39mraise\u001b[39;00m e\u001b[39m.\u001b[39mwith_traceback(\u001b[39mNone\u001b[39;00m)\n",
            "\u001b[1;31mTypingError\u001b[0m: Failed in nopython mode pipeline (step: nopython frontend)\n\u001b[1mCannot infer the type of variable 'nb_calc_dynamic_lev.2', have imprecise type: UndefinedFunctionType[undefined(undefined, undefined, undefined)10]. \n\u001b[1m\nFile \"..\\..\\quantfreedom\\nb_funcs\\nb_simulate.py\", line 673:\u001b[0m\n\u001b[1mdef nb_run_df_backtest(\n    <source elided>\n                            logger=logger,\n\u001b[1m                            nb_calc_dynamic_lev=nb_calc_dynamic_lev,\n\u001b[0m                            \u001b[1m^\u001b[0m\u001b[0m\n\u001b[0m"
          ]
        }
      ],
      "source": [
        "strat_records_df = nb_sim_df_backtest(\n",
        "    backtest_settings=backtest_settings,\n",
        "    candles=candles_np,\n",
        "    dos_arrays=dos_arrays,\n",
        "    exchange_settings=mufex_main.exchange_settings,\n",
        "    long_short=\"long\",\n",
        "    nb_strat_evaluate=nb_strat_long_evaluate,\n",
        "    nb_strat_get_current_ind_settings=nb_strat_get_current_ind_settings,\n",
        "    nb_strat_get_ind_set_str=nb_strat_get_ind_set_str,\n",
        "    nb_strat_get_total_ind_settings=nb_strat_get_total_ind_settings,\n",
        "    nb_strat_ind_creator=nb_strat_bt_create_ind,\n",
        "    static_os=static_os,\n",
        ")\n",
        "strat_records_df.sort_values(by=\"qf_score\", ascending=False).head(5)"
      ]
    }
  ],
  "metadata": {
    "kernelspec": {
      "display_name": "qfFree",
      "language": "python",
      "name": "python3"
    },
    "language_info": {
      "codemirror_mode": {
        "name": "ipython",
        "version": 3
      },
      "file_extension": ".py",
      "mimetype": "text/x-python",
      "name": "python",
      "nbconvert_exporter": "python",
      "pygments_lexer": "ipython3",
      "version": "3.10.10"
    },
    "orig_nbformat": 4
  },
  "nbformat": 4,
  "nbformat_minor": 2
}
