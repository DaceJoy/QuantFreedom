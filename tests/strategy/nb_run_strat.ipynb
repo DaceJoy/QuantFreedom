{
  "cells": [
    {
      "cell_type": "code",
      "execution_count": null,
      "metadata": {},
      "outputs": [],
      "source": [
        "# import sys\n",
        "# import os\n",
        "# sys.dont_write_bytecode = True\n",
        "# os.environ[\"NUMBA_DISABLE_JIT\"] = \"1\""
      ]
    },
    {
      "cell_type": "code",
      "execution_count": 1,
      "metadata": {},
      "outputs": [],
      "source": [
        "import numpy as np\n",
        "from my_stuff import MufexKeys\n",
        "from quantfreedom.exchanges.mufex_exchange.mufex import Mufex\n",
        "from quantfreedom.enums import DynamicOrderSettingsArrays\n",
        "from quantfreedom.enums import *\n",
        "from quantfreedom.helper_funcs import dos_cart_product\n",
        "from quantfreedom.nb_funcs.nb_strategies.nb_strategy import (\n",
        "    nb_strat_bt_create_ind,\n",
        "    nb_strat_evaluate,\n",
        "    nb_strat_get_current_ind_settings,\n",
        "    nb_strat_get_ind_set_str,\n",
        "    nb_strat_get_total_ind_settings,\n",
        ")\n",
        "from quantfreedom.nb_funcs.nb_simulate import nb_sim_df_backtest\n",
        "from quantfreedom.nb_funcs.nb_sim_order_records import nb_sim_get_or\n",
        "\n",
        "\n",
        "mufex_main = Mufex(\n",
        "    api_key=MufexKeys.api_key,\n",
        "    secret_key=MufexKeys.secret_key,\n",
        "    use_test_net=False,\n",
        ")\n",
        "\n",
        "%load_ext autoreload\n",
        "%autoreload 2"
      ]
    },
    {
      "cell_type": "code",
      "execution_count": 2,
      "metadata": {},
      "outputs": [],
      "source": [
        "candles_np = mufex_main.get_candles(\n",
        "    symbol=\"BTCUSDT\", timeframe=\"5m\", candles_to_dl=200)"
      ]
    },
    {
      "cell_type": "code",
      "execution_count": 3,
      "metadata": {},
      "outputs": [],
      "source": [
        "mufex_main.set_exchange_settings(\n",
        "    symbol=\"BTCUSDT\",\n",
        "    position_mode=PositionModeType.HedgeMode,\n",
        "    leverage_mode=LeverageModeType.Isolated,\n",
        ")\n",
        "\n",
        "# backtest_settings = BacktestSettings(\n",
        "#     array_size=1000,\n",
        "#     gains_pct_filter=0,\n",
        "#     total_trade_filter=40,\n",
        "#     upside_filter=0,\n",
        "# )\n",
        "\n",
        "backtest_settings = BacktestSettings()\n",
        "dos_arrays = DynamicOrderSettingsArrays(\n",
        "    max_equity_risk_pct=np.array([12]),\n",
        "    max_trades=np.array([5]),\n",
        "    risk_account_pct_size=np.array([3]),\n",
        "    risk_reward=np.array([2.5]),\n",
        "    sl_based_on_add_pct=np.array([0.05, 0.1, 0.15]),\n",
        "    sl_based_on_lookback=np.array([20]),\n",
        "    sl_bcb_type=np.array([CandleBodyType.Low]),\n",
        "    sl_to_be_cb_type=np.array([CandleBodyType.Nothing]),\n",
        "    sl_to_be_when_pct=np.array([0]),\n",
        "    trail_sl_bcb_type=np.array([CandleBodyType.Low]),\n",
        "    trail_sl_by_pct=np.array([0.5]),\n",
        "    trail_sl_when_pct=np.array([1]),\n",
        ")\n",
        "static_os = StaticOrderSettings(\n",
        "    increase_position_type=IncreasePositionType.RiskPctAccountEntrySize,\n",
        "    leverage_strategy_type=LeverageStrategyType.Dynamic,\n",
        "    logger_bool=True,\n",
        "    pg_min_max_sl_bcb=\"min\",\n",
        "    sl_strategy_type=StopLossStrategyType.SLBasedOnCandleBody,\n",
        "    sl_to_be_bool=False,\n",
        "    starting_bar=50,\n",
        "    starting_equity=1000.0,\n",
        "    static_leverage=None,\n",
        "    tp_fee_type=TakeProfitFeeType.Limit,\n",
        "    tp_strategy_type=TakeProfitStrategyType.RiskReward,\n",
        "    trail_sl_bool=True,\n",
        "    z_or_e_type=None,\n",
        ")"
      ]
    },
    {
      "cell_type": "code",
      "execution_count": 4,
      "metadata": {},
      "outputs": [
        {
          "ename": "AttributeError",
          "evalue": "'StaticOrderSettings' object has no attribute 'long_or_short'",
          "output_type": "error",
          "traceback": [
            "\u001b[1;31m---------------------------------------------------------------------------\u001b[0m",
            "\u001b[1;31mAttributeError\u001b[0m                            Traceback (most recent call last)",
            "\u001b[1;32me:\\Coding\\backtesters\\QuantFreedom\\tests\\strategy\\nb_run_strat.ipynb Cell 5\u001b[0m line \u001b[0;36m1\n\u001b[1;32m----> <a href='vscode-notebook-cell:/e%3A/Coding/backtesters/QuantFreedom/tests/strategy/nb_run_strat.ipynb#W4sZmlsZQ%3D%3D?line=0'>1</a>\u001b[0m strat_records_df \u001b[39m=\u001b[39m nb_sim_df_backtest(\n\u001b[0;32m      <a href='vscode-notebook-cell:/e%3A/Coding/backtesters/QuantFreedom/tests/strategy/nb_run_strat.ipynb#W4sZmlsZQ%3D%3D?line=1'>2</a>\u001b[0m     backtest_settings\u001b[39m=\u001b[39;49mbacktest_settings,\n\u001b[0;32m      <a href='vscode-notebook-cell:/e%3A/Coding/backtesters/QuantFreedom/tests/strategy/nb_run_strat.ipynb#W4sZmlsZQ%3D%3D?line=2'>3</a>\u001b[0m     candles\u001b[39m=\u001b[39;49mcandles_np,\n\u001b[0;32m      <a href='vscode-notebook-cell:/e%3A/Coding/backtesters/QuantFreedom/tests/strategy/nb_run_strat.ipynb#W4sZmlsZQ%3D%3D?line=3'>4</a>\u001b[0m     dos_arrays\u001b[39m=\u001b[39;49mdos_arrays,\n\u001b[0;32m      <a href='vscode-notebook-cell:/e%3A/Coding/backtesters/QuantFreedom/tests/strategy/nb_run_strat.ipynb#W4sZmlsZQ%3D%3D?line=4'>5</a>\u001b[0m     evaluate\u001b[39m=\u001b[39;49mnb_strat_evaluate,\n\u001b[0;32m      <a href='vscode-notebook-cell:/e%3A/Coding/backtesters/QuantFreedom/tests/strategy/nb_run_strat.ipynb#W4sZmlsZQ%3D%3D?line=5'>6</a>\u001b[0m     exchange_settings\u001b[39m=\u001b[39;49mmufex_main\u001b[39m.\u001b[39;49mexchange_settings,\n\u001b[0;32m      <a href='vscode-notebook-cell:/e%3A/Coding/backtesters/QuantFreedom/tests/strategy/nb_run_strat.ipynb#W4sZmlsZQ%3D%3D?line=6'>7</a>\u001b[0m     get_current_ind_settings\u001b[39m=\u001b[39;49mnb_strat_get_current_ind_settings,\n\u001b[0;32m      <a href='vscode-notebook-cell:/e%3A/Coding/backtesters/QuantFreedom/tests/strategy/nb_run_strat.ipynb#W4sZmlsZQ%3D%3D?line=7'>8</a>\u001b[0m     get_ind_set_str\u001b[39m=\u001b[39;49mnb_strat_get_ind_set_str,\n\u001b[0;32m      <a href='vscode-notebook-cell:/e%3A/Coding/backtesters/QuantFreedom/tests/strategy/nb_run_strat.ipynb#W4sZmlsZQ%3D%3D?line=8'>9</a>\u001b[0m     get_total_ind_settings\u001b[39m=\u001b[39;49mnb_strat_get_total_ind_settings,\n\u001b[0;32m     <a href='vscode-notebook-cell:/e%3A/Coding/backtesters/QuantFreedom/tests/strategy/nb_run_strat.ipynb#W4sZmlsZQ%3D%3D?line=9'>10</a>\u001b[0m     ind_creator\u001b[39m=\u001b[39;49mnb_strat_bt_create_ind,\n\u001b[0;32m     <a href='vscode-notebook-cell:/e%3A/Coding/backtesters/QuantFreedom/tests/strategy/nb_run_strat.ipynb#W4sZmlsZQ%3D%3D?line=10'>11</a>\u001b[0m     nb_logger_type\u001b[39m=\u001b[39;49mNBLoggerType\u001b[39m.\u001b[39;49mPass,\n\u001b[0;32m     <a href='vscode-notebook-cell:/e%3A/Coding/backtesters/QuantFreedom/tests/strategy/nb_run_strat.ipynb#W4sZmlsZQ%3D%3D?line=11'>12</a>\u001b[0m     starting_equity\u001b[39m=\u001b[39;49m\u001b[39m1000.0\u001b[39;49m,\n\u001b[0;32m     <a href='vscode-notebook-cell:/e%3A/Coding/backtesters/QuantFreedom/tests/strategy/nb_run_strat.ipynb#W4sZmlsZQ%3D%3D?line=12'>13</a>\u001b[0m     static_os\u001b[39m=\u001b[39;49mstatic_os,\n\u001b[0;32m     <a href='vscode-notebook-cell:/e%3A/Coding/backtesters/QuantFreedom/tests/strategy/nb_run_strat.ipynb#W4sZmlsZQ%3D%3D?line=13'>14</a>\u001b[0m )\n\u001b[0;32m     <a href='vscode-notebook-cell:/e%3A/Coding/backtesters/QuantFreedom/tests/strategy/nb_run_strat.ipynb#W4sZmlsZQ%3D%3D?line=14'>15</a>\u001b[0m strat_records_df\n",
            "File \u001b[1;32mE:\\Coding\\backtesters\\QuantFreedom\\quantfreedom\\nb_funcs\\nb_simulate.py:115\u001b[0m, in \u001b[0;36mnb_sim_df_backtest\u001b[1;34m(backtest_settings, candles, dos_arrays, evaluate, exchange_settings, get_current_ind_settings, get_ind_set_str, get_total_ind_settings, ind_creator, nb_logger_type, starting_equity, static_os)\u001b[0m\n\u001b[0;32m    103\u001b[0m     \u001b[39mraise\u001b[39;00m \u001b[39mException\u001b[39;00m(\u001b[39m\"\u001b[39m\u001b[39mYou need to select the correct logger type\u001b[39m\u001b[39m\"\u001b[39m)\n\u001b[0;32m    104\u001b[0m \u001b[39m\u001b[39m\u001b[39m\"\"\"\u001b[39;00m\n\u001b[0;32m    105\u001b[0m \u001b[39m#########################################\u001b[39;00m\n\u001b[0;32m    106\u001b[0m \u001b[39m#########################################\u001b[39;00m\n\u001b[1;32m   (...)\u001b[0m\n\u001b[0;32m    113\u001b[0m \u001b[39m#########################################\u001b[39;00m\n\u001b[0;32m    114\u001b[0m \u001b[39m\"\"\"\u001b[39;00m\n\u001b[1;32m--> 115\u001b[0m \u001b[39mif\u001b[39;00m static_os\u001b[39m.\u001b[39;49mlong_or_short \u001b[39m==\u001b[39m LongOrShortType\u001b[39m.\u001b[39mLong:\n\u001b[0;32m    116\u001b[0m     \u001b[39m# Decrease Position\u001b[39;00m\n\u001b[0;32m    117\u001b[0m     dec_pos_calculator \u001b[39m=\u001b[39m nb_decrease_position\n\u001b[0;32m    119\u001b[0m \u001b[39m    \u001b[39m\u001b[39m\"\"\"\u001b[39;00m\n\u001b[0;32m    120\u001b[0m \u001b[39m    #########################################\u001b[39;00m\n\u001b[0;32m    121\u001b[0m \u001b[39m    #########################################\u001b[39;00m\n\u001b[1;32m   (...)\u001b[0m\n\u001b[0;32m    128\u001b[0m \u001b[39m    #########################################\u001b[39;00m\n\u001b[0;32m    129\u001b[0m \u001b[39m    \"\"\"\u001b[39;00m\n",
            "\u001b[1;31mAttributeError\u001b[0m: 'StaticOrderSettings' object has no attribute 'long_or_short'"
          ]
        }
      ],
      "source": [
        "strat_records_df = nb_sim_df_backtest(\n",
        "    backtest_settings=backtest_settings,\n",
        "    candles=candles_np,\n",
        "    dos_arrays=dos_arrays,\n",
        "    evaluate=nb_strat_evaluate,\n",
        "    exchange_settings=mufex_main.exchange_settings,\n",
        "    get_current_ind_settings=nb_strat_get_current_ind_settings,\n",
        "    get_ind_set_str=nb_strat_get_ind_set_str,\n",
        "    get_total_ind_settings=nb_strat_get_total_ind_settings,\n",
        "    ind_creator=nb_strat_bt_create_ind,\n",
        "    nb_logger_type=NBLoggerType.Pass,\n",
        "    starting_equity=1000.0,\n",
        "    static_os=static_os,\n",
        ")\n",
        "strat_records_df"
      ]
    },
    {
      "cell_type": "code",
      "execution_count": null,
      "metadata": {},
      "outputs": [],
      "source": [
        "strat_records_df.sort_values(by='to_the_upside', ascending=False)"
      ]
    },
    {
      "cell_type": "code",
      "execution_count": null,
      "metadata": {},
      "outputs": [],
      "source": [
        "order_records_df, data = nb_sim_get_or(\n",
        "    backtest_settings=backtest_settings,\n",
        "    candles=candles_np,\n",
        "    dos_arrays=dos_arrays,\n",
        "    evaluate=nb_strat_evaluate,\n",
        "    exchange_settings=mufex_main.exchange_settings,\n",
        "    get_current_ind_settings=nb_strat_get_current_ind_settings,\n",
        "    get_ind_set_str=nb_strat_get_ind_set_str,\n",
        "    get_total_ind_settings=nb_strat_get_total_ind_settings,\n",
        "    ind_creator=nb_strat_bt_create_ind,\n",
        "    nb_logger_type=NBLoggerType.Pass,\n",
        "    starting_equity=1000.0,\n",
        "    static_os=static_os,\n",
        "    ind_set_index=4,\n",
        "    dos_index=194,\n",
        "    plot_results=True,\n",
        ")"
      ]
    },
    {
      "cell_type": "code",
      "execution_count": null,
      "metadata": {},
      "outputs": [],
      "source": [
        "# res = requests.post(\"http://127.0.0.1:7779/plot\", json=data)\n",
        "\n",
        "# returned_data = res.json()\n",
        "\n",
        "# print(returned_data)"
      ]
    }
  ],
  "metadata": {
    "kernelspec": {
      "display_name": "qfFree",
      "language": "python",
      "name": "python3"
    },
    "language_info": {
      "codemirror_mode": {
        "name": "ipython",
        "version": 3
      },
      "file_extension": ".py",
      "mimetype": "text/x-python",
      "name": "python",
      "nbconvert_exporter": "python",
      "pygments_lexer": "ipython3",
      "version": "3.10.10"
    },
    "orig_nbformat": 4
  },
  "nbformat": 4,
  "nbformat_minor": 2
}
