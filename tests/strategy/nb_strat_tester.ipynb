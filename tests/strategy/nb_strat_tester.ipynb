{
  "cells": [
    {
      "cell_type": "code",
      "execution_count": null,
      "metadata": {},
      "outputs": [],
      "source": [
        "# import sys\n",
        "# import os\n",
        "\n",
        "# sys.dont_write_bytecode = True\n",
        "# os.environ[\"NUMBA_DISABLE_JIT\"] = \"1\""
      ]
    },
    {
      "cell_type": "code",
      "execution_count": null,
      "metadata": {},
      "outputs": [],
      "source": [
        "import numpy as np\n",
        "from my_stuff import MufexKeys\n",
        "from quantfreedom.exchanges.mufex_exchange.mufex import Mufex\n",
        "from quantfreedom.enums import *\n",
        "from numba import njit, typed, types\n",
        "from quantfreedom.nb_funcs.nb_custom_logger import *\n",
        "from quantfreedom.nb_funcs.nb_helper_funcs import nb_float_to_str\n",
        "from quantfreedom.helper_funcs import dos_cart_product\n",
        "from quantfreedom.nb_funcs.nb_helper_funcs import nb_get_dos\n",
        "from quantfreedom.nb_funcs.nb_order_handler.nb_stop_loss import *\n",
        "\n",
        "\n",
        "\n",
        "mufex_main = Mufex(\n",
        "    api_key=MufexKeys.api_key,\n",
        "    secret_key=MufexKeys.secret_key,\n",
        "    use_test_net=False,\n",
        ")\n",
        "\n",
        "%load_ext autoreload\n",
        "%autoreload 2"
      ]
    },
    {
      "cell_type": "code",
      "execution_count": null,
      "metadata": {},
      "outputs": [],
      "source": [
        "candles = mufex_main.get_candles(\n",
        "    symbol=\"BTCUSDT\",\n",
        "    timeframe=\"5m\",\n",
        "    candles_to_dl=200,\n",
        ")"
      ]
    },
    {
      "cell_type": "code",
      "execution_count": null,
      "metadata": {},
      "outputs": [],
      "source": [
        "mufex_main.set_exchange_settings(\n",
        "    symbol=\"BTCUSDT\",\n",
        "    position_mode=PositionModeType.HedgeMode,\n",
        "    leverage_mode=LeverageModeType.Isolated,\n",
        ")\n",
        "\n",
        "# backtest_settings = BacktestSettings(\n",
        "#     array_size=1000,\n",
        "#     gains_pct_filter=0,\n",
        "#     total_trade_filter=40,\n",
        "#     upside_filter=0,\n",
        "# )\n",
        "\n",
        "backtest_settings = BacktestSettings()\n",
        "dos_arrays = DynamicOrderSettingsArrays(\n",
        "    max_equity_risk_pct=np.array([12]),\n",
        "    max_trades=np.array([5]),\n",
        "    risk_account_pct_size=np.array([3]),\n",
        "    risk_reward=np.array([2.5]),\n",
        "    sl_based_on_add_pct=np.array([0.05, 0.1, 0.15]),\n",
        "    sl_based_on_lookback=np.array([20]),\n",
        "    sl_bcb_type=np.array([CandleBodyType.Low]),\n",
        "    sl_to_be_cb_type=np.array([CandleBodyType.Nothing]),\n",
        "    sl_to_be_when_pct=np.array([0]),\n",
        "    trail_sl_bcb_type=np.array([CandleBodyType.Low]),\n",
        "    trail_sl_by_pct=np.array([0.5]),\n",
        "    trail_sl_when_pct=np.array([1]),\n",
        ")\n",
        "static_os = StaticOrderSettings(\n",
        "    increase_position_type=IncreasePositionType.RiskPctAccountEntrySize,\n",
        "    leverage_strategy_type=LeverageStrategyType.Dynamic,\n",
        "    logger_bool=True,\n",
        "    num_candles=50,\n",
        "    pg_min_max_sl_bcb=\"min\",\n",
        "    sl_strategy_type=StopLossStrategyType.SLBasedOnCandleBody,\n",
        "    sl_to_be_bool=False,\n",
        "    starting_bar=50,\n",
        "    starting_equity=1000.0,\n",
        "    static_leverage=None,\n",
        "    tp_fee_type=TakeProfitFeeType.Limit,\n",
        "    tp_strategy_type=TakeProfitStrategyType.RiskReward,\n",
        "    trail_sl_bool=True,\n",
        "    z_or_e_type=None,\n",
        ")"
      ]
    },
    {
      "cell_type": "code",
      "execution_count": null,
      "metadata": {},
      "outputs": [],
      "source": [
        "dos_cart_arrays = dos_cart_product(\n",
        "    dos_arrays=dos_arrays,\n",
        ")\n",
        "dynamic_order_settings = nb_get_dos(\n",
        "    dos_cart_arrays=dos_cart_arrays,\n",
        "    dos_index=0,\n",
        ")"
      ]
    },
    {
      "cell_type": "code",
      "execution_count": null,
      "metadata": {},
      "outputs": [],
      "source": [
        "log_func_type = types.void(types.unicode_type)\n",
        "log_func_list = typed.List.empty_list(log_func_type.as_type())\n",
        "\n",
        "str_func_type = types.unicode_type(types.float64)\n",
        "str_func_list = typed.List.empty_list(str_func_type.as_type())\n",
        "\n",
        "# log_func_list.append(nb_logger_pass)\n",
        "# log_func_list.append(nb_logger_pass)\n",
        "# log_func_list.append(nb_logger_pass)\n",
        "# log_func_list.append(nb_logger_pass)\n",
        "\n",
        "# str_func_list.append(nb_stringer_pass)\n",
        "# str_func_list.append(nb_stringer_pass)\n",
        "# str_func_list.append(nb_stringer_pass)\n",
        "# str_func_list.append(nb_stringer_pass)\n",
        "# str_func_list.append(nb_stringer_pass)\n",
        "\n",
        "log_func_list.append(nb_log_debug)\n",
        "log_func_list.append(nb_log_info)\n",
        "log_func_list.append(nb_log_warning)\n",
        "log_func_list.append(nb_log_error)\n",
        "\n",
        "str_func_list.append(nb_float_to_str)\n",
        "str_func_list.append(nb_log_datetime)\n",
        "str_func_list.append(nb_candle_body_str)\n",
        "str_func_list.append(nb_z_or_e_str)\n",
        "str_func_list.append(nb_os_to_str)"
      ]
    },
    {
      "cell_type": "code",
      "execution_count": null,
      "metadata": {},
      "outputs": [],
      "source": [
        "nb_sl_based_on_candle_body(\n",
        "    bar_index=60,\n",
        "    candles=candles,\n",
        "    logger=log_func_list,\n",
        "    price_tick_step=1,\n",
        "    sl_based_on_add_pct=0.0005,\n",
        "    sl_based_on_lookback=20,\n",
        "    sl_bcb_price_getter=nb_max_price_getter,\n",
        "    sl_bcb_type=CandleBodyType.High,\n",
        "    sl_price_calc=nb_short_sl_price_calc,\n",
        "    stringer=str_func_list,\n",
        ")"
      ]
    },
    {
      "cell_type": "code",
      "execution_count": null,
      "metadata": {},
      "outputs": [],
      "source": []
    }
  ],
  "metadata": {
    "kernelspec": {
      "display_name": "qfFree",
      "language": "python",
      "name": "python3"
    },
    "language_info": {
      "codemirror_mode": {
        "name": "ipython",
        "version": 3
      },
      "file_extension": ".py",
      "mimetype": "text/x-python",
      "name": "python",
      "nbconvert_exporter": "python",
      "pygments_lexer": "ipython3",
      "version": "3.10.10"
    },
    "orig_nbformat": 4
  },
  "nbformat": 4,
  "nbformat_minor": 2
}
