{
  "cells": [
    {
      "cell_type": "code",
      "execution_count": 6,
      "metadata": {},
      "outputs": [
        {
          "name": "stdout",
          "output_type": "stream",
          "text": [
            "The autoreload extension is already loaded. To reload it, use:\n",
            "  %reload_ext autoreload\n"
          ]
        }
      ],
      "source": [
        "import numpy as np\n",
        "import pandas as pd\n",
        "from my_stuff import MufexKeys\n",
        "from datetime import datetime\n",
        "from quantfreedom.exchanges.mufex_exchange.mufex import Mufex\n",
        "from quantfreedom.enums import *\n",
        "from quantfreedom.simulate import run_df_backtest, or_backtest\n",
        "from quantfreedom.strategies.strategy import Strategy\n",
        "from quantfreedom.strategies.ex_strat_01 import RSIBelowAbove\n",
        "\n",
        "mufex_main = Mufex(\n",
        "    api_key=MufexKeys.api_key,\n",
        "    secret_key=MufexKeys.secret_key,\n",
        "    use_test_net=False,\n",
        ")\n",
        "\n",
        "%load_ext autoreload\n",
        "%autoreload 2"
      ]
    },
    {
      "cell_type": "code",
      "execution_count": 2,
      "metadata": {},
      "outputs": [],
      "source": [
        "candles = mufex_main.get_candles(\n",
        "    symbol=\"BTCUSDT\",\n",
        "    timeframe=\"5m\",\n",
        "    since_datetime=datetime(2023, 10, 15),\n",
        "    until_datetime=datetime(2023, 10, 24),\n",
        ")"
      ]
    },
    {
      "cell_type": "code",
      "execution_count": 3,
      "metadata": {},
      "outputs": [],
      "source": [
        "mufex_main.set_exchange_settings(\n",
        "    symbol=\"BTCUSDT\",\n",
        "    position_mode=PositionModeType.HedgeMode,\n",
        "    leverage_mode=LeverageModeType.Isolated,\n",
        ")"
      ]
    },
    {
      "cell_type": "code",
      "execution_count": 4,
      "metadata": {},
      "outputs": [],
      "source": [
        "backtest_settings = BacktestSettings()\n",
        "dos_arrays = DynamicOrderSettingsArrays(\n",
        "    max_equity_risk_pct=np.array([12]),\n",
        "    max_trades=np.array([5]),\n",
        "    risk_account_pct_size=np.array([3]),\n",
        "    risk_reward=np.array([2.5]),\n",
        "    sl_based_on_add_pct=np.array([0.05, 0.1, 0.15]),\n",
        "    sl_based_on_lookback=np.array([20]),\n",
        "    sl_bcb_type=np.array([CandleBodyType.Low]),\n",
        "    sl_to_be_cb_type=np.array([CandleBodyType.Nothing]),\n",
        "    sl_to_be_when_pct=np.array([0]),\n",
        "    trail_sl_bcb_type=np.array([CandleBodyType.Low]),\n",
        "    trail_sl_by_pct=np.array([0.5]),\n",
        "    trail_sl_when_pct=np.array([1]),\n",
        ")\n",
        "static_os = StaticOrderSettings(\n",
        "    increase_position_type=IncreasePositionType.RiskPctAccountEntrySize,\n",
        "    leverage_strategy_type=LeverageStrategyType.Dynamic,\n",
        "    pg_min_max_sl_bcb=\"min\",\n",
        "    sl_strategy_type=StopLossStrategyType.SLBasedOnCandleBody,\n",
        "    sl_to_be_bool=False,\n",
        "    starting_bar=50,\n",
        "    starting_equity=1000.0,\n",
        "    static_leverage=None,\n",
        "    tp_fee_type=\"limit\",\n",
        "    tp_strategy_type=TakeProfitStrategyType.RiskReward,\n",
        "    trail_sl_bool=True,\n",
        "    z_or_e_type=None,\n",
        ")"
      ]
    },
    {
      "cell_type": "code",
      "execution_count": 7,
      "metadata": {},
      "outputs": [],
      "source": [
        "strategy = RSIBelowAbove(\n",
        "    rsi_is_below=np.array([60]),\n",
        "    rsi_length=np.array([14]),\n",
        "    long_short=\"long\",\n",
        ")"
      ]
    },
    {
      "cell_type": "code",
      "execution_count": 10,
      "metadata": {},
      "outputs": [
        {
          "ename": "AttributeError",
          "evalue": "'NoneType' object has no attribute 'market_fee_pct'",
          "output_type": "error",
          "traceback": [
            "\u001b[1;31m---------------------------------------------------------------------------\u001b[0m",
            "\u001b[1;31mAttributeError\u001b[0m                            Traceback (most recent call last)",
            "Cell \u001b[1;32mIn[10], line 1\u001b[0m\n\u001b[1;32m----> 1\u001b[0m \u001b[43mrun_df_backtest\u001b[49m\u001b[43m(\u001b[49m\n\u001b[0;32m      2\u001b[0m \u001b[43m    \u001b[49m\u001b[43mbacktest_settings\u001b[49m\u001b[38;5;241;43m=\u001b[39;49m\u001b[43mbacktest_settings\u001b[49m\u001b[43m,\u001b[49m\n\u001b[0;32m      3\u001b[0m \u001b[43m    \u001b[49m\u001b[43mcandles\u001b[49m\u001b[38;5;241;43m=\u001b[39;49m\u001b[43mcandles\u001b[49m\u001b[43m,\u001b[49m\n\u001b[0;32m      4\u001b[0m \u001b[43m    \u001b[49m\u001b[43mdos_arrays\u001b[49m\u001b[38;5;241;43m=\u001b[39;49m\u001b[43mdos_arrays\u001b[49m\u001b[43m,\u001b[49m\n\u001b[0;32m      5\u001b[0m \u001b[43m    \u001b[49m\u001b[43mexchange_settings\u001b[49m\u001b[38;5;241;43m=\u001b[39;49m\u001b[43mmufex_main\u001b[49m\u001b[38;5;241;43m.\u001b[39;49m\u001b[43mexchange_settings\u001b[49m\u001b[43m,\u001b[49m\n\u001b[0;32m      6\u001b[0m \u001b[43m    \u001b[49m\u001b[43mstatic_os\u001b[49m\u001b[38;5;241;43m=\u001b[39;49m\u001b[43mstatic_os\u001b[49m\u001b[43m,\u001b[49m\n\u001b[0;32m      7\u001b[0m \u001b[43m    \u001b[49m\u001b[43mstrategy\u001b[49m\u001b[38;5;241;43m=\u001b[39;49m\u001b[43mstrategy\u001b[49m\u001b[43m,\u001b[49m\n\u001b[0;32m      8\u001b[0m \u001b[43m    \u001b[49m\u001b[43mlogger_bool\u001b[49m\u001b[38;5;241;43m=\u001b[39;49m\u001b[38;5;28;43;01mTrue\u001b[39;49;00m\u001b[43m,\u001b[49m\n\u001b[0;32m      9\u001b[0m \u001b[43m)\u001b[49m\n",
            "File \u001b[1;32mE:\\Coding\\backtesters\\QuantFreedom\\quantfreedom\\simulate.py:47\u001b[0m, in \u001b[0;36mrun_df_backtest\u001b[1;34m(backtest_settings, candles, dos_arrays, exchange_settings, logger_bool, static_os, strategy)\u001b[0m\n\u001b[0;32m     41\u001b[0m starting_equity \u001b[38;5;241m=\u001b[39m static_os\u001b[38;5;241m.\u001b[39mstarting_equity\n\u001b[0;32m     43\u001b[0m dos_cart_arrays \u001b[38;5;241m=\u001b[39m dos_cart_product(\n\u001b[0;32m     44\u001b[0m     dos_arrays\u001b[38;5;241m=\u001b[39mdos_arrays,\n\u001b[0;32m     45\u001b[0m )\n\u001b[1;32m---> 47\u001b[0m order \u001b[38;5;241m=\u001b[39m \u001b[43mOrderHandler\u001b[49m\u001b[43m(\u001b[49m\n\u001b[0;32m     48\u001b[0m \u001b[43m    \u001b[49m\u001b[43mlong_short\u001b[49m\u001b[38;5;241;43m=\u001b[39;49m\u001b[43mstrategy\u001b[49m\u001b[38;5;241;43m.\u001b[39;49m\u001b[43mlong_short\u001b[49m\u001b[43m,\u001b[49m\n\u001b[0;32m     49\u001b[0m \u001b[43m    \u001b[49m\u001b[43mstatic_os\u001b[49m\u001b[38;5;241;43m=\u001b[39;49m\u001b[43mstatic_os\u001b[49m\u001b[43m,\u001b[49m\n\u001b[0;32m     50\u001b[0m \u001b[43m    \u001b[49m\u001b[43mexchange_settings\u001b[49m\u001b[38;5;241;43m=\u001b[39;49m\u001b[43mexchange_settings\u001b[49m\u001b[43m,\u001b[49m\n\u001b[0;32m     51\u001b[0m \u001b[43m\u001b[49m\u001b[43m)\u001b[49m\n\u001b[0;32m     53\u001b[0m \u001b[38;5;66;03m# Creating Settings Vars\u001b[39;00m\n\u001b[0;32m     54\u001b[0m total_order_settings \u001b[38;5;241m=\u001b[39m dos_cart_arrays[\u001b[38;5;241m0\u001b[39m]\u001b[38;5;241m.\u001b[39msize\n",
            "File \u001b[1;32mE:\\Coding\\backtesters\\QuantFreedom\\quantfreedom\\order_handler\\order.py:37\u001b[0m, in \u001b[0;36mOrderHandler.__init__\u001b[1;34m(self, exchange_settings, long_short, static_os)\u001b[0m\n\u001b[0;32m     32\u001b[0m \u001b[38;5;28;01melse\u001b[39;00m:\n\u001b[0;32m     33\u001b[0m     \u001b[38;5;28;01mraise\u001b[39;00m \u001b[38;5;167;01mException\u001b[39;00m(\u001b[38;5;124m\"\u001b[39m\u001b[38;5;124mlong or short are the only options for long_short\u001b[39m\u001b[38;5;124m\"\u001b[39m)\n\u001b[0;32m     35\u001b[0m \u001b[38;5;28mself\u001b[39m\u001b[38;5;241m.\u001b[39mobj_stop_loss \u001b[38;5;241m=\u001b[39m StopLoss(\n\u001b[0;32m     36\u001b[0m     long_short\u001b[38;5;241m=\u001b[39mlong_short,\n\u001b[1;32m---> 37\u001b[0m     market_fee_pct\u001b[38;5;241m=\u001b[39m\u001b[43mexchange_settings\u001b[49m\u001b[38;5;241;43m.\u001b[39;49m\u001b[43mmarket_fee_pct\u001b[49m,\n\u001b[0;32m     38\u001b[0m     pg_min_max_sl_bcb\u001b[38;5;241m=\u001b[39mstatic_os\u001b[38;5;241m.\u001b[39mpg_min_max_sl_bcb,\n\u001b[0;32m     39\u001b[0m     price_tick_step\u001b[38;5;241m=\u001b[39mexchange_settings\u001b[38;5;241m.\u001b[39mprice_tick_step,\n\u001b[0;32m     40\u001b[0m     sl_strategy_type\u001b[38;5;241m=\u001b[39mstatic_os\u001b[38;5;241m.\u001b[39msl_strategy_type,\n\u001b[0;32m     41\u001b[0m     sl_to_be_bool\u001b[38;5;241m=\u001b[39mstatic_os\u001b[38;5;241m.\u001b[39msl_to_be_bool,\n\u001b[0;32m     42\u001b[0m     trail_sl_bool\u001b[38;5;241m=\u001b[39mstatic_os\u001b[38;5;241m.\u001b[39mtrail_sl_bool,\n\u001b[0;32m     43\u001b[0m     z_or_e_type\u001b[38;5;241m=\u001b[39mstatic_os\u001b[38;5;241m.\u001b[39mz_or_e_type,\n\u001b[0;32m     44\u001b[0m )\n\u001b[0;32m     45\u001b[0m \u001b[38;5;28mself\u001b[39m\u001b[38;5;241m.\u001b[39mobj_inc_pos \u001b[38;5;241m=\u001b[39m IncreasePosition(\n\u001b[0;32m     46\u001b[0m     asset_tick_step\u001b[38;5;241m=\u001b[39mexchange_settings\u001b[38;5;241m.\u001b[39masset_tick_step,\n\u001b[0;32m     47\u001b[0m     increase_position_type\u001b[38;5;241m=\u001b[39mstatic_os\u001b[38;5;241m.\u001b[39mincrease_position_type,\n\u001b[1;32m   (...)\u001b[0m\n\u001b[0;32m     53\u001b[0m     sl_strategy_type\u001b[38;5;241m=\u001b[39mstatic_os\u001b[38;5;241m.\u001b[39msl_strategy_type,\n\u001b[0;32m     54\u001b[0m )\n\u001b[0;32m     55\u001b[0m \u001b[38;5;28mself\u001b[39m\u001b[38;5;241m.\u001b[39mobj_leverage \u001b[38;5;241m=\u001b[39m Leverage(\n\u001b[0;32m     56\u001b[0m     leverage_strategy_type\u001b[38;5;241m=\u001b[39mstatic_os\u001b[38;5;241m.\u001b[39mleverage_strategy_type,\n\u001b[0;32m     57\u001b[0m     leverage_tick_step\u001b[38;5;241m=\u001b[39mexchange_settings\u001b[38;5;241m.\u001b[39mleverage_tick_step,\n\u001b[1;32m   (...)\u001b[0m\n\u001b[0;32m     64\u001b[0m     static_leverage\u001b[38;5;241m=\u001b[39mstatic_os\u001b[38;5;241m.\u001b[39mstatic_leverage,\n\u001b[0;32m     65\u001b[0m )\n",
            "\u001b[1;31mAttributeError\u001b[0m: 'NoneType' object has no attribute 'market_fee_pct'"
          ]
        }
      ],
      "source": [
        "run_df_backtest(\n",
        "    backtest_settings=backtest_settings,\n",
        "    candles=candles,\n",
        "    dos_arrays=dos_arrays,\n",
        "    exchange_settings=mufex_main.exchange_settings,\n",
        "    static_os=static_os,\n",
        "    strategy=strategy,\n",
        "    logger_bool=True,\n",
        ")"
      ]
    },
    {
      "cell_type": "code",
      "execution_count": null,
      "metadata": {},
      "outputs": [],
      "source": [
        "order_records_df = or_backtest(\n",
        "    backtest_settings=backtest_settings,\n",
        "    candles=candles,\n",
        "    dos_arrays=dos_arrays,\n",
        "    exchange_settings=mufex_main.exchange_settings,\n",
        "    static_os=static_os,\n",
        "    strategy=strategy,\n",
        "    dos_index=1,\n",
        "    ind_set_index=0,\n",
        "    plot_results=True,\n",
        ")"
      ]
    },
    {
      "cell_type": "code",
      "execution_count": null,
      "metadata": {},
      "outputs": [],
      "source": [
        "order_records_df"
      ]
    }
  ],
  "metadata": {
    "kernelspec": {
      "display_name": "qfFree",
      "language": "python",
      "name": "python3"
    },
    "language_info": {
      "codemirror_mode": {
        "name": "ipython",
        "version": 3
      },
      "file_extension": ".py",
      "mimetype": "text/x-python",
      "name": "python",
      "nbconvert_exporter": "python",
      "pygments_lexer": "ipython3",
      "version": "3.10.10"
    },
    "orig_nbformat": 4
  },
  "nbformat": 4,
  "nbformat_minor": 2
}
