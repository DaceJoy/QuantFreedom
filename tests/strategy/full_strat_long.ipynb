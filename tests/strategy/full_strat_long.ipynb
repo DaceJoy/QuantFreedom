{
  "cells": [
    {
      "cell_type": "code",
      "execution_count": 1,
      "metadata": {},
      "outputs": [],
      "source": [
        "import numpy as np\n",
        "import pandas as pd\n",
        "from my_stuff import MufexKeys\n",
        "from quantfreedom.exchanges.mufex_exchange.mufex import Mufex\n",
        "from quantfreedom.enums import *\n",
        "from quantfreedom.simulate import run_df_backtest, or_backtest\n",
        "from quantfreedom.strategies.strategy import Strategy\n",
        "\n",
        "\n",
        "mufex_main = Mufex(\n",
        "    api_key=MufexKeys.api_key,\n",
        "    secret_key=MufexKeys.secret_key,\n",
        "    use_test_net=False,\n",
        ")\n",
        "\n",
        "%load_ext autoreload\n",
        "%autoreload 2"
      ]
    },
    {
      "cell_type": "code",
      "execution_count": 2,
      "metadata": {},
      "outputs": [],
      "source": [
        "candles = mufex_main.get_candles(\n",
        "    symbol=\"BTCUSDT\",\n",
        "    timeframe=\"5m\",\n",
        "    since_date_ms=1697328000000,\n",
        "    until_date_ms=1698105600000,\n",
        ")"
      ]
    },
    {
      "cell_type": "code",
      "execution_count": 3,
      "metadata": {},
      "outputs": [],
      "source": [
        "mufex_main.set_exchange_settings(\n",
        "    symbol=\"BTCUSDT\",\n",
        "    position_mode=PositionModeType.HedgeMode,\n",
        "    leverage_mode=LeverageModeType.Isolated,\n",
        ")"
      ]
    },
    {
      "cell_type": "code",
      "execution_count": 4,
      "metadata": {},
      "outputs": [
        {
          "ename": "TypeError",
          "evalue": "StaticOrderSettings.__new__() got an unexpected keyword argument 'starting_bar'",
          "output_type": "error",
          "traceback": [
            "\u001b[1;31m---------------------------------------------------------------------------\u001b[0m",
            "\u001b[1;31mTypeError\u001b[0m                                 Traceback (most recent call last)",
            "\u001b[1;32me:\\Coding\\backtesters\\private_qf\\tests\\strategy\\full_strat_long.ipynb Cell 4\u001b[0m line \u001b[0;36m2\n\u001b[0;32m      <a href='vscode-notebook-cell:/e%3A/Coding/backtesters/private_qf/tests/strategy/full_strat_long.ipynb#W3sZmlsZQ%3D%3D?line=6'>7</a>\u001b[0m backtest_settings \u001b[39m=\u001b[39m BacktestSettings()\n\u001b[0;32m      <a href='vscode-notebook-cell:/e%3A/Coding/backtesters/private_qf/tests/strategy/full_strat_long.ipynb#W3sZmlsZQ%3D%3D?line=7'>8</a>\u001b[0m dos_arrays \u001b[39m=\u001b[39m DynamicOrderSettingsArrays(\n\u001b[0;32m      <a href='vscode-notebook-cell:/e%3A/Coding/backtesters/private_qf/tests/strategy/full_strat_long.ipynb#W3sZmlsZQ%3D%3D?line=8'>9</a>\u001b[0m     max_equity_risk_pct\u001b[39m=\u001b[39mnp\u001b[39m.\u001b[39marray([\u001b[39m12\u001b[39m]),\n\u001b[0;32m     <a href='vscode-notebook-cell:/e%3A/Coding/backtesters/private_qf/tests/strategy/full_strat_long.ipynb#W3sZmlsZQ%3D%3D?line=9'>10</a>\u001b[0m     max_trades\u001b[39m=\u001b[39mnp\u001b[39m.\u001b[39marray([\u001b[39m5\u001b[39m]),\n\u001b[1;32m   (...)\u001b[0m\n\u001b[0;32m     <a href='vscode-notebook-cell:/e%3A/Coding/backtesters/private_qf/tests/strategy/full_strat_long.ipynb#W3sZmlsZQ%3D%3D?line=19'>20</a>\u001b[0m     trail_sl_when_pct\u001b[39m=\u001b[39mnp\u001b[39m.\u001b[39marray([\u001b[39m1\u001b[39m]),\n\u001b[0;32m     <a href='vscode-notebook-cell:/e%3A/Coding/backtesters/private_qf/tests/strategy/full_strat_long.ipynb#W3sZmlsZQ%3D%3D?line=20'>21</a>\u001b[0m )\n\u001b[1;32m---> <a href='vscode-notebook-cell:/e%3A/Coding/backtesters/private_qf/tests/strategy/full_strat_long.ipynb#W3sZmlsZQ%3D%3D?line=21'>22</a>\u001b[0m static_os \u001b[39m=\u001b[39m StaticOrderSettings(\n\u001b[0;32m     <a href='vscode-notebook-cell:/e%3A/Coding/backtesters/private_qf/tests/strategy/full_strat_long.ipynb#W3sZmlsZQ%3D%3D?line=22'>23</a>\u001b[0m     increase_position_type\u001b[39m=\u001b[39;49mIncreasePositionType\u001b[39m.\u001b[39;49mRiskPctAccountEntrySize,\n\u001b[0;32m     <a href='vscode-notebook-cell:/e%3A/Coding/backtesters/private_qf/tests/strategy/full_strat_long.ipynb#W3sZmlsZQ%3D%3D?line=23'>24</a>\u001b[0m     leverage_strategy_type\u001b[39m=\u001b[39;49mLeverageStrategyType\u001b[39m.\u001b[39;49mDynamic,\n\u001b[0;32m     <a href='vscode-notebook-cell:/e%3A/Coding/backtesters/private_qf/tests/strategy/full_strat_long.ipynb#W3sZmlsZQ%3D%3D?line=24'>25</a>\u001b[0m     logger_bool\u001b[39m=\u001b[39;49m\u001b[39mTrue\u001b[39;49;00m,\n\u001b[0;32m     <a href='vscode-notebook-cell:/e%3A/Coding/backtesters/private_qf/tests/strategy/full_strat_long.ipynb#W3sZmlsZQ%3D%3D?line=25'>26</a>\u001b[0m     pg_min_max_sl_bcb\u001b[39m=\u001b[39;49m\u001b[39m\"\u001b[39;49m\u001b[39mmin\u001b[39;49m\u001b[39m\"\u001b[39;49m,\n\u001b[0;32m     <a href='vscode-notebook-cell:/e%3A/Coding/backtesters/private_qf/tests/strategy/full_strat_long.ipynb#W3sZmlsZQ%3D%3D?line=26'>27</a>\u001b[0m     sl_strategy_type\u001b[39m=\u001b[39;49mStopLossStrategyType\u001b[39m.\u001b[39;49mSLBasedOnCandleBody,\n\u001b[0;32m     <a href='vscode-notebook-cell:/e%3A/Coding/backtesters/private_qf/tests/strategy/full_strat_long.ipynb#W3sZmlsZQ%3D%3D?line=27'>28</a>\u001b[0m     sl_to_be_bool\u001b[39m=\u001b[39;49m\u001b[39mFalse\u001b[39;49;00m,\n\u001b[0;32m     <a href='vscode-notebook-cell:/e%3A/Coding/backtesters/private_qf/tests/strategy/full_strat_long.ipynb#W3sZmlsZQ%3D%3D?line=28'>29</a>\u001b[0m     starting_bar\u001b[39m=\u001b[39;49m\u001b[39m50\u001b[39;49m,\n\u001b[0;32m     <a href='vscode-notebook-cell:/e%3A/Coding/backtesters/private_qf/tests/strategy/full_strat_long.ipynb#W3sZmlsZQ%3D%3D?line=29'>30</a>\u001b[0m     starting_equity\u001b[39m=\u001b[39;49m\u001b[39m1000.0\u001b[39;49m,\n\u001b[0;32m     <a href='vscode-notebook-cell:/e%3A/Coding/backtesters/private_qf/tests/strategy/full_strat_long.ipynb#W3sZmlsZQ%3D%3D?line=30'>31</a>\u001b[0m     static_leverage\u001b[39m=\u001b[39;49m\u001b[39mNone\u001b[39;49;00m,\n\u001b[0;32m     <a href='vscode-notebook-cell:/e%3A/Coding/backtesters/private_qf/tests/strategy/full_strat_long.ipynb#W3sZmlsZQ%3D%3D?line=31'>32</a>\u001b[0m     tp_fee_type\u001b[39m=\u001b[39;49m\u001b[39m\"\u001b[39;49m\u001b[39mlimit\u001b[39;49m\u001b[39m\"\u001b[39;49m,\n\u001b[0;32m     <a href='vscode-notebook-cell:/e%3A/Coding/backtesters/private_qf/tests/strategy/full_strat_long.ipynb#W3sZmlsZQ%3D%3D?line=32'>33</a>\u001b[0m     tp_strategy_type\u001b[39m=\u001b[39;49mTakeProfitStrategyType\u001b[39m.\u001b[39;49mRiskReward,\n\u001b[0;32m     <a href='vscode-notebook-cell:/e%3A/Coding/backtesters/private_qf/tests/strategy/full_strat_long.ipynb#W3sZmlsZQ%3D%3D?line=33'>34</a>\u001b[0m     trail_sl_bool\u001b[39m=\u001b[39;49m\u001b[39mTrue\u001b[39;49;00m,\n\u001b[0;32m     <a href='vscode-notebook-cell:/e%3A/Coding/backtesters/private_qf/tests/strategy/full_strat_long.ipynb#W3sZmlsZQ%3D%3D?line=34'>35</a>\u001b[0m     z_or_e_type\u001b[39m=\u001b[39;49m\u001b[39mNone\u001b[39;49;00m,\n\u001b[0;32m     <a href='vscode-notebook-cell:/e%3A/Coding/backtesters/private_qf/tests/strategy/full_strat_long.ipynb#W3sZmlsZQ%3D%3D?line=35'>36</a>\u001b[0m )\n",
            "\u001b[1;31mTypeError\u001b[0m: StaticOrderSettings.__new__() got an unexpected keyword argument 'starting_bar'"
          ]
        }
      ],
      "source": [
        "# backtest_settings = BacktestSettings(\n",
        "#     array_size=200,\n",
        "#     gains_pct_filter=-90,\n",
        "#     total_trade_filter=10,\n",
        "#     upside_filter=-np.inf,\n",
        "# )\n",
        "backtest_settings = BacktestSettings()\n",
        "dos_arrays = DynamicOrderSettingsArrays(\n",
        "    max_equity_risk_pct=np.array([12]),\n",
        "    max_trades=np.array([5]),\n",
        "    risk_account_pct_size=np.array([3]),\n",
        "    risk_reward=np.array([2.5]),\n",
        "    sl_based_on_add_pct=np.array([0.05, 0.1, 0.15]),\n",
        "    sl_based_on_lookback=np.array([20]),\n",
        "    sl_bcb_type=np.array([CandleBodyType.Low]),\n",
        "    sl_to_be_cb_type=np.array([CandleBodyType.Nothing]),\n",
        "    sl_to_be_when_pct=np.array([0]),\n",
        "    trail_sl_bcb_type=np.array([CandleBodyType.Low]),\n",
        "    trail_sl_by_pct=np.array([0.5]),\n",
        "    trail_sl_when_pct=np.array([1]),\n",
        ")\n",
        "static_os = StaticOrderSettings(\n",
        "    increase_position_type=IncreasePositionType.RiskPctAccountEntrySize,\n",
        "    leverage_strategy_type=LeverageStrategyType.Dynamic,\n",
        "    logger_bool=True,\n",
        "    pg_min_max_sl_bcb=\"min\",\n",
        "    sl_strategy_type=StopLossStrategyType.SLBasedOnCandleBody,\n",
        "    sl_to_be_bool=False,\n",
        "    starting_bar=50,\n",
        "    starting_equity=1000.0,\n",
        "    static_leverage=None,\n",
        "    tp_fee_type=\"limit\",\n",
        "    tp_strategy_type=TakeProfitStrategyType.RiskReward,\n",
        "    trail_sl_bool=True,\n",
        "    z_or_e_type=None,\n",
        ")"
      ]
    },
    {
      "cell_type": "code",
      "execution_count": null,
      "metadata": {},
      "outputs": [],
      "source": [
        "strategy = Strategy(\n",
        "    rsi_is_below=np.array([60]),\n",
        "    rsi_length=np.array([14]),\n",
        "    long_short=\"long\",\n",
        ")"
      ]
    },
    {
      "cell_type": "code",
      "execution_count": null,
      "metadata": {},
      "outputs": [],
      "source": [
        "run_df_backtest(\n",
        "    backtest_settings=backtest_settings,\n",
        "    candles=candles,\n",
        "    dos_arrays=dos_arrays,\n",
        "    exchange_settings=mufex_main.exchange_settings,\n",
        "    static_os=static_os,\n",
        "    strategy=strategy,\n",
        ")"
      ]
    },
    {
      "cell_type": "code",
      "execution_count": null,
      "metadata": {},
      "outputs": [],
      "source": [
        "order_records_df = or_backtest(\n",
        "    backtest_settings=backtest_settings,\n",
        "    candles=candles,\n",
        "    dos_arrays=dos_arrays,\n",
        "    exchange_settings=mufex_main.exchange_settings,\n",
        "    static_os=static_os,\n",
        "    strategy=strategy,\n",
        "    dos_index=1,\n",
        "    ind_set_index=0,\n",
        "    plot_results=True,\n",
        ")"
      ]
    },
    {
      "cell_type": "code",
      "execution_count": null,
      "metadata": {},
      "outputs": [],
      "source": [
        "order_records_df"
      ]
    }
  ],
  "metadata": {
    "kernelspec": {
      "display_name": "qfFree",
      "language": "python",
      "name": "python3"
    },
    "language_info": {
      "codemirror_mode": {
        "name": "ipython",
        "version": 3
      },
      "file_extension": ".py",
      "mimetype": "text/x-python",
      "name": "python",
      "nbconvert_exporter": "python",
      "pygments_lexer": "ipython3",
      "version": "3.10.10"
    },
    "orig_nbformat": 4
  },
  "nbformat": 4,
  "nbformat_minor": 2
}
