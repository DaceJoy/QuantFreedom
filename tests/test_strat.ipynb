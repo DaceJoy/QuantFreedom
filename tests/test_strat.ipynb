{
  "cells": [
    {
      "cell_type": "code",
      "execution_count": null,
      "metadata": {},
      "outputs": [],
      "source": [
        "import numpy as np\n",
        "from my_stuff import MufexKeys\n",
        "from quantfreedom.custom_logger import CustomLogger\n",
        "from quantfreedom.enums import CandleProcessingType\n",
        "from quantfreedom.exchanges.mufex_exchange.mufex import Mufex\n",
        "from quantfreedom.strategies.strategy import Strategy\n",
        "from quantfreedom.base import backtest_df_only\n",
        "from quantfreedom.enums import *\n",
        "from quantfreedom.helper_funcs import create_os_cart_product_nb\n",
        "\n",
        "mufex = Mufex(\n",
        "    api_key=MufexKeys.api_key,\n",
        "    secret_key=MufexKeys.secret_key,\n",
        ")\n",
        "symbol = \"BTCUSDT\"\n",
        "%load_ext autoreload\n",
        "%autoreload 2"
      ]
    },
    {
      "cell_type": "code",
      "execution_count": null,
      "metadata": {},
      "outputs": [],
      "source": [
        "candles = mufex.get_candles_df(symbol=symbol, timeframe='5m', candles_to_dl=500)"
      ]
    },
    {
      "cell_type": "code",
      "execution_count": null,
      "metadata": {},
      "outputs": [],
      "source": [
        "mufex.set_exchange_settings(\n",
        "    symbol=symbol,\n",
        "    position_mode=PositionModeType.HedgeMode,\n",
        "    leverage_mode=LeverageModeType.Isolated,\n",
        ")\n",
        "backtest_settings = BacktestSettings()\n",
        "order_settings_arrays = OrderSettingsArrays(\n",
        "    risk_account_pct_size=np.array([1.0]) / 100,\n",
        "    sl_based_on_add_pct=np.array([0.01]) / 100,\n",
        "    sl_based_on_lookback=np.array([50]),\n",
        "    risk_reward=np.array([1.0]),\n",
        "    leverage_type=np.array([LeverageStrategyType.Dynamic]),\n",
        "    sl_candle_body_type=np.array([CandleBodyType.Low]),\n",
        "    increase_position_type=np.array([IncreasePositionType.SmalletEntrySizeAsset]),\n",
        "    stop_loss_type=np.array([StopLossStrategyType.SLBasedOnCandleBody]),\n",
        "    take_profit_type=np.array([TakeProfitStrategyType.Provided]),\n",
        "    max_equity_risk_pct=np.array([4]) / 100,\n",
        "    long_or_short=np.array([LongOrShortType.Long]),\n",
        "    sl_to_be_based_on_candle_body_type=np.array([CandleBodyType.Nothing]),\n",
        "    sl_to_be_when_pct_from_candle_body=np.array([0.0]) / 100,\n",
        "    sl_to_be_zero_or_entry_type=np.array([SLToBeZeroOrEntryType.Nothing]),\n",
        "    trail_sl_based_on_candle_body_type=np.array([CandleBodyType.High]),\n",
        "    trail_sl_when_pct_from_candle_body=np.array([3.0]) / 100,\n",
        "    trail_sl_by_pct=np.array([1.0]) / 100,\n",
        "    static_leverage=np.array([0.0]),\n",
        "    tp_fee_type=np.array([TakeProfitFeeType.Limit]),\n",
        "    num_candles=np.array([150, 250]),\n",
        "    entry_size_asset=np.array([0.0]),\n",
        "    max_trades=np.array([3]),\n",
        ")\n",
        "os_cart_arrays = create_os_cart_product_nb(\n",
        "    order_settings_arrays=order_settings_arrays,\n",
        ")"
      ]
    },
    {
      "cell_type": "code",
      "execution_count": null,
      "metadata": {},
      "outputs": [],
      "source": [
        "logger = CustomLogger(log_debug=True, disable_logging=False)\n",
        "strategy = Strategy(\n",
        "    candle_processing_mode=CandleProcessingType.Backtest,\n",
        "    candles=candles.values,\n",
        "    logger=logger,\n",
        ")\n",
        "candles_reg = backtest_df_only(\n",
        "    starting_equity=1000.0,\n",
        "    backtest_settings=backtest_settings,\n",
        "    os_cart_arrays=os_cart_arrays,\n",
        "    exchange_settings=mufex.exchange_settings,\n",
        "    candles=candles,\n",
        "    strategy=strategy,\n",
        "    logger=logger,\n",
        ")"
      ]
    },
    {
      "cell_type": "code",
      "execution_count": null,
      "metadata": {},
      "outputs": [],
      "source": [
        "candles_reg.sort_values(['ind_set_idx','or_set_idx']).iloc[:]"
      ]
    },
    {
      "cell_type": "code",
      "execution_count": null,
      "metadata": {},
      "outputs": [],
      "source": [
        "logger = CustomLogger(log_debug=True, disable_logging=False)\n",
        "\n",
        "strategy = Strategy(\n",
        "    candle_processing_mode=CandleProcessingType.RealBacktest,\n",
        "    candles=candles.values,\n",
        "    logger=logger,\n",
        ")\n",
        "candle_backtest = backtest_df_only(\n",
        "    starting_equity=1000.0,\n",
        "    backtest_settings=backtest_settings,\n",
        "    os_cart_arrays=os_cart_arrays,\n",
        "    exchange_settings=mufex.exchange_settings,\n",
        "    candles=candles,\n",
        "    strategy=strategy,\n",
        "    logger=logger,\n",
        ")"
      ]
    },
    {
      "cell_type": "code",
      "execution_count": null,
      "metadata": {},
      "outputs": [],
      "source": [
        "candle_backtest.sort_values(['ind_set_idx','or_set_idx'])"
      ]
    }
  ],
  "metadata": {
    "kernelspec": {
      "display_name": "qfFree",
      "language": "python",
      "name": "python3"
    },
    "language_info": {
      "codemirror_mode": {
        "name": "ipython",
        "version": 3
      },
      "file_extension": ".py",
      "mimetype": "text/x-python",
      "name": "python",
      "nbconvert_exporter": "python",
      "pygments_lexer": "ipython3",
      "version": "3.10.10"
    },
    "orig_nbformat": 4
  },
  "nbformat": 4,
  "nbformat_minor": 2
}
