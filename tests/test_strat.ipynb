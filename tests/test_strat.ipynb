{
  "cells": [
    {
      "cell_type": "code",
      "execution_count": 1,
      "metadata": {},
      "outputs": [],
      "source": [
        "import numpy as np\n",
        "import pandas as pd\n",
        "\n",
        "from my_stuff import MufexKeys\n",
        "from quantfreedom.enums import CandleProcessingType\n",
        "from quantfreedom.exchanges.mufex_exchange.mufex import Mufex\n",
        "from quantfreedom.base import backtest_df_only, order_records_bt\n",
        "from quantfreedom.enums import *\n",
        "from quantfreedom.helper_funcs import create_os_cart_product_nb\n",
        "from quantfreedom.strategies.strategy_example import StrategyExample\n",
        "import requests\n",
        "\n",
        "\n",
        "mufex = Mufex(\n",
        "    api_key=MufexKeys.api_key,\n",
        "    secret_key=MufexKeys.secret_key,\n",
        "    use_test_net=False\n",
        ")\n",
        "symbol = \"BTCUSDT\"\n",
        "%load_ext autoreload\n",
        "%autoreload 2\n"
      ]
    },
    {
      "cell_type": "code",
      "execution_count": 2,
      "metadata": {},
      "outputs": [
        {
          "name": "stdout",
          "output_type": "stream",
          "text": [
            "It took 00 mins and 01 seconds to download 300 candles\n"
          ]
        }
      ],
      "source": [
        "candles = mufex.get_candles_df(\n",
        "    symbol=symbol, timeframe='5m', candles_to_dl=300)"
      ]
    },
    {
      "cell_type": "code",
      "execution_count": 3,
      "metadata": {},
      "outputs": [],
      "source": [
        "mufex.set_exchange_settings(\n",
        "    symbol=symbol,\n",
        "    position_mode=PositionModeType.HedgeMode,\n",
        "    leverage_mode=LeverageModeType.Isolated,\n",
        ")\n",
        "backtest_settings = BacktestSettings()\n",
        "order_settings_arrays = OrderSettingsArrays(\n",
        "    long_or_short=np.array([LongOrShortType.Long]),\n",
        "    increase_position_type=np.array(\n",
        "        [IncreasePositionType.RiskPctAccountEntrySize]),\n",
        "    risk_account_pct_size=np.array([1]),\n",
        "    max_equity_risk_pct=np.array([3]),\n",
        "    stop_loss_type=np.array([StopLossStrategyType.SLBasedOnCandleBody]),\n",
        "    sl_candle_body_type=np.array([CandleBodyType.Low]),\n",
        "    sl_based_on_add_pct=np.array([0.01]),\n",
        "    sl_based_on_lookback=np.array([20]),\n",
        "    sl_to_be_based_on_candle_body_type=np.array([CandleBodyType.Nothing]),\n",
        "    sl_to_be_when_pct_from_candle_body=np.array([0.0]),\n",
        "    sl_to_be_zero_or_entry_type=np.array([SLToBeZeroOrEntryType.Nothing]),\n",
        "    trail_sl_based_on_candle_body_type=np.array([CandleBodyType.High]),\n",
        "    trail_sl_when_pct_from_candle_body=np.array([3.0]),\n",
        "    trail_sl_by_pct=np.array([1.0]),\n",
        "    take_profit_type=np.array([TakeProfitStrategyType.RiskReward]),\n",
        "    risk_reward=np.array([2]),\n",
        "    tp_fee_type=np.array([TakeProfitFeeType.Limit]),\n",
        "    leverage_type=np.array([LeverageStrategyType.Dynamic]),\n",
        "    static_leverage=np.array([0.0]),\n",
        "    num_candles=np.array([200]),\n",
        "    entry_size_asset=np.array([0.0]),\n",
        "    max_trades=np.array([3]),\n",
        "\n",
        ")\n",
        "os_cart_arrays = create_os_cart_product_nb(\n",
        "    order_settings_arrays=order_settings_arrays,\n",
        ")"
      ]
    },
    {
      "cell_type": "code",
      "execution_count": 4,
      "metadata": {},
      "outputs": [
        {
          "name": "stdout",
          "output_type": "stream",
          "text": [
            "Starting the backtest now ... and also here are some stats for your backtest.\n",
            "\n",
            "Total indicator settings to test: 1\n",
            "Total order settings to test: 1\n",
            "Total combinations of settings to test: 1\n",
            "\n",
            "Total candles: 300\n",
            "Total candles to test: 300\n"
          ]
        }
      ],
      "source": [
        "strategy = StrategyExample(\n",
        "    candle_processing_mode=CandleProcessingType.Backtest,\n",
        "    candles=candles,\n",
        "    rsi_length=[14],\n",
        "    rsi_is_below=[50],\n",
        ")\n",
        "candles_reg = backtest_df_only(\n",
        "    starting_equity=1000.0,\n",
        "    os_cart_arrays=os_cart_arrays,\n",
        "    backtest_settings=backtest_settings,\n",
        "    exchange_settings=mufex.exchange_settings,\n",
        "    strategy=strategy,\n",
        "    candles=candles,\n",
        ")\n"
      ]
    },
    {
      "cell_type": "code",
      "execution_count": 5,
      "metadata": {},
      "outputs": [
        {
          "data": {
            "text/html": [
              "<div>\n",
              "<style scoped>\n",
              "    .dataframe tbody tr th:only-of-type {\n",
              "        vertical-align: middle;\n",
              "    }\n",
              "\n",
              "    .dataframe tbody tr th {\n",
              "        vertical-align: top;\n",
              "    }\n",
              "\n",
              "    .dataframe thead th {\n",
              "        text-align: right;\n",
              "    }\n",
              "</style>\n",
              "<table border=\"1\" class=\"dataframe\">\n",
              "  <thead>\n",
              "    <tr style=\"text-align: right;\">\n",
              "      <th></th>\n",
              "      <th>ind_set_idx</th>\n",
              "      <th>or_set_idx</th>\n",
              "      <th>total_trades</th>\n",
              "      <th>gains_pct</th>\n",
              "      <th>win_rate</th>\n",
              "      <th>to_the_upside</th>\n",
              "      <th>total_pnl</th>\n",
              "      <th>ending_eq</th>\n",
              "    </tr>\n",
              "  </thead>\n",
              "  <tbody>\n",
              "    <tr>\n",
              "      <th>0</th>\n",
              "      <td>0</td>\n",
              "      <td>0</td>\n",
              "      <td>24.0</td>\n",
              "      <td>-20.34</td>\n",
              "      <td>16.67</td>\n",
              "      <td>-0.8754</td>\n",
              "      <td>-203.4155</td>\n",
              "      <td>796.5845</td>\n",
              "    </tr>\n",
              "  </tbody>\n",
              "</table>\n",
              "</div>"
            ],
            "text/plain": [
              "   ind_set_idx  or_set_idx  total_trades  gains_pct  win_rate  to_the_upside  \\\n",
              "0            0           0          24.0     -20.34     16.67        -0.8754   \n",
              "\n",
              "   total_pnl  ending_eq  \n",
              "0  -203.4155   796.5845  "
            ]
          },
          "execution_count": 5,
          "metadata": {},
          "output_type": "execute_result"
        }
      ],
      "source": [
        "candles_reg.sort_values(['ind_set_idx', 'or_set_idx']).iloc[:]"
      ]
    },
    {
      "cell_type": "code",
      "execution_count": 6,
      "metadata": {},
      "outputs": [],
      "source": [
        "order_records = order_records_bt(\n",
        "    starting_equity=1000.0,\n",
        "    os_cart_arrays=os_cart_arrays,\n",
        "    exchange_settings=mufex.exchange_settings,\n",
        "    strategy=strategy,\n",
        "    candles=candles,\n",
        "    backtest_results=candles_reg,\n",
        "    backtest_index=0,\n",
        ")\n",
        "order_records.timestamp = pd.to_datetime(order_records.timestamp, unit=\"ms\")"
      ]
    },
    {
      "cell_type": "code",
      "execution_count": 7,
      "metadata": {},
      "outputs": [],
      "source": [
        "for i in range(len(OrderStatus._fields)):\n",
        "    order_records.replace(\n",
        "        {\"order_status\": {i: OrderStatus._fields[i]}}, inplace=True\n",
        "    )"
      ]
    },
    {
      "cell_type": "code",
      "execution_count": 8,
      "metadata": {},
      "outputs": [
        {
          "data": {
            "text/plain": [
              "array(['EntryFilled', 'StopLossFilled', 'TakeProfitFilled'], dtype=object)"
            ]
          },
          "execution_count": 8,
          "metadata": {},
          "output_type": "execute_result"
        }
      ],
      "source": [
        "order_records.order_status.unique()"
      ]
    },
    {
      "cell_type": "code",
      "execution_count": 9,
      "metadata": {},
      "outputs": [],
      "source": [
        "entry_filled_df = order_records[order_records[\"order_status\"] == \"EntryFilled\"][\n",
        "    [\"bar_idx\", \"entry_price\", \"average_entry\", \"liq_price\", \"sl_price\", \"tp_price\"]\n",
        "]\n",
        "\n",
        "entry_list = np.reshape(candles[\"timestamp\"], (-1, 1)).tolist()\n",
        "avg_entry_list = np.reshape(candles[\"timestamp\"], (-1, 1)).tolist()\n",
        "liq_price_list = np.reshape(candles[\"timestamp\"], (-1, 1)).tolist()\n",
        "sl_price_list = np.reshape(candles[\"timestamp\"], (-1, 1)).tolist()\n",
        "tp_price_list = np.reshape(candles[\"timestamp\"], (-1, 1)).tolist()\n",
        "\n",
        "for _, value in entry_filled_df.T.items():\n",
        "    bar_index = int(value[\"bar_idx\"])\n",
        "    entry_list[bar_index].append(value[\"entry_price\"])\n",
        "    avg_entry_list[bar_index].append(value[\"average_entry\"])\n",
        "    liq_price_list[bar_index].append(value[\"liq_price\"])\n",
        "    sl_price_list[bar_index].append(value[\"sl_price\"])\n",
        "    tp_price_list[bar_index].append(value[\"tp_price\"])"
      ]
    },
    {
      "cell_type": "code",
      "execution_count": 10,
      "metadata": {},
      "outputs": [],
      "source": [
        "exit_filled_df = order_records[order_records[\"order_status\"] != \"EntryFilled\"][\n",
        "    [\"bar_idx\", 'order_status', \"exit_price\"]\n",
        "]\n",
        "\n",
        "sl_filled_list = np.reshape(candles[\"timestamp\"], (-1, 1)).tolist()\n",
        "tp_filled_list = np.reshape(candles[\"timestamp\"], (-1, 1)).tolist()\n",
        "\n",
        "for _, value in exit_filled_df.T.items():\n",
        "    bar_index = int(value[\"bar_idx\"])\n",
        "    if value[\"order_status\"] == \"StopLossFilled\":\n",
        "        sl_filled_list[bar_index].append(value[\"exit_price\"])\n",
        "    else:\n",
        "        tp_filled_list[bar_index].append(value[\"exit_price\"])"
      ]
    },
    {
      "cell_type": "code",
      "execution_count": 17,
      "metadata": {},
      "outputs": [
        {
          "data": {
            "text/html": [
              "<div>\n",
              "<style scoped>\n",
              "    .dataframe tbody tr th:only-of-type {\n",
              "        vertical-align: middle;\n",
              "    }\n",
              "\n",
              "    .dataframe tbody tr th {\n",
              "        vertical-align: top;\n",
              "    }\n",
              "\n",
              "    .dataframe thead th {\n",
              "        text-align: right;\n",
              "    }\n",
              "</style>\n",
              "<table border=\"1\" class=\"dataframe\">\n",
              "  <thead>\n",
              "    <tr style=\"text-align: right;\">\n",
              "      <th></th>\n",
              "      <th>bar_idx</th>\n",
              "      <th>order_status</th>\n",
              "      <th>exit_price</th>\n",
              "    </tr>\n",
              "  </thead>\n",
              "  <tbody>\n",
              "    <tr>\n",
              "      <th>3</th>\n",
              "      <td>52</td>\n",
              "      <td>StopLossFilled</td>\n",
              "      <td>28378.1</td>\n",
              "    </tr>\n",
              "    <tr>\n",
              "      <th>6</th>\n",
              "      <td>54</td>\n",
              "      <td>StopLossFilled</td>\n",
              "      <td>28302.3</td>\n",
              "    </tr>\n",
              "    <tr>\n",
              "      <th>8</th>\n",
              "      <td>55</td>\n",
              "      <td>StopLossFilled</td>\n",
              "      <td>28246.2</td>\n",
              "    </tr>\n",
              "    <tr>\n",
              "      <th>12</th>\n",
              "      <td>94</td>\n",
              "      <td>StopLossFilled</td>\n",
              "      <td>28419.2</td>\n",
              "    </tr>\n",
              "    <tr>\n",
              "      <th>15</th>\n",
              "      <td>99</td>\n",
              "      <td>StopLossFilled</td>\n",
              "      <td>28294.5</td>\n",
              "    </tr>\n",
              "    <tr>\n",
              "      <th>17</th>\n",
              "      <td>100</td>\n",
              "      <td>StopLossFilled</td>\n",
              "      <td>28262.8</td>\n",
              "    </tr>\n",
              "    <tr>\n",
              "      <th>21</th>\n",
              "      <td>130</td>\n",
              "      <td>StopLossFilled</td>\n",
              "      <td>28274.2</td>\n",
              "    </tr>\n",
              "    <tr>\n",
              "      <th>23</th>\n",
              "      <td>131</td>\n",
              "      <td>StopLossFilled</td>\n",
              "      <td>28262.0</td>\n",
              "    </tr>\n",
              "    <tr>\n",
              "      <th>26</th>\n",
              "      <td>133</td>\n",
              "      <td>StopLossFilled</td>\n",
              "      <td>28252.3</td>\n",
              "    </tr>\n",
              "    <tr>\n",
              "      <th>29</th>\n",
              "      <td>135</td>\n",
              "      <td>StopLossFilled</td>\n",
              "      <td>28247.1</td>\n",
              "    </tr>\n",
              "    <tr>\n",
              "      <th>32</th>\n",
              "      <td>137</td>\n",
              "      <td>StopLossFilled</td>\n",
              "      <td>28236.4</td>\n",
              "    </tr>\n",
              "    <tr>\n",
              "      <th>34</th>\n",
              "      <td>138</td>\n",
              "      <td>StopLossFilled</td>\n",
              "      <td>28139.0</td>\n",
              "    </tr>\n",
              "    <tr>\n",
              "      <th>38</th>\n",
              "      <td>162</td>\n",
              "      <td>StopLossFilled</td>\n",
              "      <td>28126.6</td>\n",
              "    </tr>\n",
              "    <tr>\n",
              "      <th>42</th>\n",
              "      <td>167</td>\n",
              "      <td>StopLossFilled</td>\n",
              "      <td>28110.1</td>\n",
              "    </tr>\n",
              "    <tr>\n",
              "      <th>46</th>\n",
              "      <td>183</td>\n",
              "      <td>TakeProfitFilled</td>\n",
              "      <td>28376.8</td>\n",
              "    </tr>\n",
              "    <tr>\n",
              "      <th>48</th>\n",
              "      <td>212</td>\n",
              "      <td>TakeProfitFilled</td>\n",
              "      <td>28537.6</td>\n",
              "    </tr>\n",
              "    <tr>\n",
              "      <th>51</th>\n",
              "      <td>235</td>\n",
              "      <td>StopLossFilled</td>\n",
              "      <td>28390.5</td>\n",
              "    </tr>\n",
              "    <tr>\n",
              "      <th>53</th>\n",
              "      <td>236</td>\n",
              "      <td>StopLossFilled</td>\n",
              "      <td>28381.7</td>\n",
              "    </tr>\n",
              "    <tr>\n",
              "      <th>56</th>\n",
              "      <td>239</td>\n",
              "      <td>StopLossFilled</td>\n",
              "      <td>28377.7</td>\n",
              "    </tr>\n",
              "    <tr>\n",
              "      <th>58</th>\n",
              "      <td>240</td>\n",
              "      <td>StopLossFilled</td>\n",
              "      <td>28336.6</td>\n",
              "    </tr>\n",
              "    <tr>\n",
              "      <th>62</th>\n",
              "      <td>244</td>\n",
              "      <td>StopLossFilled</td>\n",
              "      <td>28300.6</td>\n",
              "    </tr>\n",
              "    <tr>\n",
              "      <th>64</th>\n",
              "      <td>245</td>\n",
              "      <td>StopLossFilled</td>\n",
              "      <td>28161.6</td>\n",
              "    </tr>\n",
              "    <tr>\n",
              "      <th>68</th>\n",
              "      <td>254</td>\n",
              "      <td>StopLossFilled</td>\n",
              "      <td>28125.2</td>\n",
              "    </tr>\n",
              "    <tr>\n",
              "      <th>71</th>\n",
              "      <td>270</td>\n",
              "      <td>TakeProfitFilled</td>\n",
              "      <td>28516.4</td>\n",
              "    </tr>\n",
              "  </tbody>\n",
              "</table>\n",
              "</div>"
            ],
            "text/plain": [
              "    bar_idx      order_status  exit_price\n",
              "3        52    StopLossFilled     28378.1\n",
              "6        54    StopLossFilled     28302.3\n",
              "8        55    StopLossFilled     28246.2\n",
              "12       94    StopLossFilled     28419.2\n",
              "15       99    StopLossFilled     28294.5\n",
              "17      100    StopLossFilled     28262.8\n",
              "21      130    StopLossFilled     28274.2\n",
              "23      131    StopLossFilled     28262.0\n",
              "26      133    StopLossFilled     28252.3\n",
              "29      135    StopLossFilled     28247.1\n",
              "32      137    StopLossFilled     28236.4\n",
              "34      138    StopLossFilled     28139.0\n",
              "38      162    StopLossFilled     28126.6\n",
              "42      167    StopLossFilled     28110.1\n",
              "46      183  TakeProfitFilled     28376.8\n",
              "48      212  TakeProfitFilled     28537.6\n",
              "51      235    StopLossFilled     28390.5\n",
              "53      236    StopLossFilled     28381.7\n",
              "56      239    StopLossFilled     28377.7\n",
              "58      240    StopLossFilled     28336.6\n",
              "62      244    StopLossFilled     28300.6\n",
              "64      245    StopLossFilled     28161.6\n",
              "68      254    StopLossFilled     28125.2\n",
              "71      270  TakeProfitFilled     28516.4"
            ]
          },
          "execution_count": 17,
          "metadata": {},
          "output_type": "execute_result"
        }
      ],
      "source": [
        "exit_filled_df"
      ]
    },
    {
      "cell_type": "code",
      "execution_count": 11,
      "metadata": {},
      "outputs": [],
      "source": [
        "rsi = np.reshape(candles['timestamp'], (-1, 1)).tolist()\n",
        "for index,value in enumerate(rsi):\n",
        "    if not np.isnan(strategy.rsi[index]):\n",
        "        value.append(strategy.rsi[index])"
      ]
    },
    {
      "cell_type": "code",
      "execution_count": 12,
      "metadata": {},
      "outputs": [],
      "source": [
        "entries_info = {\n",
        "    \"entries\": entry_list,\n",
        "    \"avg_entries\": avg_entry_list,\n",
        "    \"liq_prices\": liq_price_list,\n",
        "    \"sl_prices\": sl_price_list,\n",
        "    \"tp_prices\": tp_price_list,\n",
        "    \"sl_filled\": sl_filled_list,\n",
        "    \"tp_filled\": tp_filled_list,\n",
        "    \"rsi\": rsi,\n",
        "    \"candles\": pd.DataFrame(candles).values.tolist(),\n",
        "}"
      ]
    },
    {
      "cell_type": "code",
      "execution_count": 13,
      "metadata": {},
      "outputs": [
        {
          "data": {
            "text/plain": [
              "array([  nan,   nan,   nan,   nan,   nan,   nan,   nan,   nan,   nan,\n",
              "         nan,   nan,   nan,   nan,   nan, 57.99, 55.48, 62.31, 66.74,\n",
              "       68.97, 74.26])"
            ]
          },
          "execution_count": 13,
          "metadata": {},
          "output_type": "execute_result"
        }
      ],
      "source": [
        "strategy.rsi[:20]"
      ]
    },
    {
      "cell_type": "code",
      "execution_count": 14,
      "metadata": {},
      "outputs": [
        {
          "data": {
            "text/plain": [
              "[[1697474100000],\n",
              " [1697474400000],\n",
              " [1697474700000],\n",
              " [1697475000000],\n",
              " [1697475300000],\n",
              " [1697475600000],\n",
              " [1697475900000],\n",
              " [1697476200000],\n",
              " [1697476500000],\n",
              " [1697476800000],\n",
              " [1697477100000],\n",
              " [1697477400000],\n",
              " [1697477700000],\n",
              " [1697478000000],\n",
              " [1697478300000, 57.99],\n",
              " [1697478600000, 55.48],\n",
              " [1697478900000, 62.31],\n",
              " [1697479200000, 66.74],\n",
              " [1697479500000, 68.97],\n",
              " [1697479800000, 74.26],\n",
              " [1697480100000, 76.22],\n",
              " [1697480400000, 64.72],\n",
              " [1697480700000, 66.91],\n",
              " [1697481000000, 61.74],\n",
              " [1697481300000, 65.45],\n",
              " [1697481600000, 64.14],\n",
              " [1697481900000, 68.78],\n",
              " [1697482200000, 74.54],\n",
              " [1697482500000, 75.56],\n",
              " [1697482800000, 80.3]]"
            ]
          },
          "execution_count": 14,
          "metadata": {},
          "output_type": "execute_result"
        }
      ],
      "source": [
        "rsi[:30]"
      ]
    },
    {
      "cell_type": "code",
      "execution_count": 16,
      "metadata": {},
      "outputs": [
        {
          "name": "stdout",
          "output_type": "stream",
          "text": [
            "{'ok': True}\n"
          ]
        }
      ],
      "source": [
        "# The POST request to our NightVision server\n",
        "res = requests.post(\"http://127.0.0.1:7779/plot\", json=entries_info)\n",
        "\n",
        "# Convert response data to json\n",
        "returned_data = res.json()\n",
        "\n",
        "print(returned_data)\n"
      ]
    }
  ],
  "metadata": {
    "kernelspec": {
      "display_name": "qfFree",
      "language": "python",
      "name": "python3"
    },
    "language_info": {
      "codemirror_mode": {
        "name": "ipython",
        "version": 3
      },
      "file_extension": ".py",
      "mimetype": "text/x-python",
      "name": "python",
      "nbconvert_exporter": "python",
      "pygments_lexer": "ipython3",
      "version": "3.10.10"
    },
    "orig_nbformat": 4
  },
  "nbformat": 4,
  "nbformat_minor": 2
}
