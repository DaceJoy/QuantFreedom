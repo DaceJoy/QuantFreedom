{
  "cells": [
    {
      "cell_type": "code",
      "execution_count": 1,
      "metadata": {},
      "outputs": [],
      "source": [
        "import numpy as np\n",
        "from my_stuff import MufexKeys\n",
        "from quantfreedom.enums import CandleProcessingType\n",
        "from quantfreedom.exchanges.mufex_exchange.mufex import Mufex\n",
        "from quantfreedom.base import backtest_df_only\n",
        "from quantfreedom.enums import *\n",
        "from quantfreedom.helper_funcs import create_os_cart_product_nb\n",
        "from quantfreedom.strategies.strategy_example import StrategyExample\n",
        "\n",
        "mufex = Mufex(\n",
        "    api_key=MufexKeys.api_key,\n",
        "    secret_key=MufexKeys.secret_key,\n",
        "    use_test_net=False\n",
        ")\n",
        "symbol = \"BTCUSDT\"\n",
        "%load_ext autoreload\n",
        "%autoreload 2"
      ]
    },
    {
      "cell_type": "code",
      "execution_count": 2,
      "metadata": {},
      "outputs": [
        {
          "name": "stdout",
          "output_type": "stream",
          "text": [
            "It took 00 mins and 04 seconds to download 2000 candles\n"
          ]
        }
      ],
      "source": [
        "candles = mufex.get_candles_df(symbol=symbol, timeframe='5m', candles_to_dl=2000)"
      ]
    },
    {
      "cell_type": "code",
      "execution_count": 3,
      "metadata": {},
      "outputs": [],
      "source": [
        "mufex.set_exchange_settings(\n",
        "    symbol=symbol,\n",
        "    position_mode=PositionModeType.HedgeMode,\n",
        "    leverage_mode=LeverageModeType.Isolated,\n",
        ")\n",
        "backtest_settings = BacktestSettings()\n",
        "order_settings_arrays = OrderSettingsArrays(\n",
        "    long_or_short=np.array([LongOrShortType.Long]),\n",
        "    increase_position_type=np.array([IncreasePositionType.RiskPctAccountEntrySize]),\n",
        "    risk_account_pct_size=np.array([1]),\n",
        "    max_equity_risk_pct=np.array([3,10]),\n",
        "    stop_loss_type=np.array([StopLossStrategyType.SLBasedOnCandleBody]),\n",
        "    sl_candle_body_type=np.array([CandleBodyType.Low]),\n",
        "    sl_based_on_add_pct=np.array([0.01]),\n",
        "    sl_based_on_lookback=np.array([20]),\n",
        "    sl_to_be_based_on_candle_body_type=np.array([CandleBodyType.Nothing]),\n",
        "    sl_to_be_when_pct_from_candle_body=np.array([0.0]),\n",
        "    sl_to_be_zero_or_entry_type=np.array([SLToBeZeroOrEntryType.Nothing]),\n",
        "    trail_sl_based_on_candle_body_type=np.array([CandleBodyType.High]),\n",
        "    trail_sl_when_pct_from_candle_body=np.array([3.0]),\n",
        "    trail_sl_by_pct=np.array([1.0]),\n",
        "    take_profit_type=np.array([TakeProfitStrategyType.RiskReward]),\n",
        "    risk_reward=np.array([1,5]),\n",
        "    tp_fee_type=np.array([TakeProfitFeeType.Limit]),\n",
        "    leverage_type=np.array([LeverageStrategyType.Dynamic]),\n",
        "    static_leverage=np.array([0.0]),\n",
        "    num_candles=np.array([0]),\n",
        "    entry_size_asset=np.array([0.0]),\n",
        "    max_trades=np.array([3]),\n",
        "    \n",
        ")\n",
        "os_cart_arrays = create_os_cart_product_nb(\n",
        "    order_settings_arrays=order_settings_arrays,\n",
        ")"
      ]
    },
    {
      "cell_type": "code",
      "execution_count": 4,
      "metadata": {},
      "outputs": [
        {
          "ename": "KeyboardInterrupt",
          "evalue": "",
          "output_type": "error",
          "traceback": [
            "\u001b[1;31m---------------------------------------------------------------------------\u001b[0m",
            "\u001b[1;31mKeyboardInterrupt\u001b[0m                         Traceback (most recent call last)",
            "\u001b[1;32me:\\Coding\\backtesters\\QuantFreedom\\tests\\test_strat.ipynb Cell 4\u001b[0m line \u001b[0;36m7\n\u001b[0;32m      <a href='vscode-notebook-cell:/e%3A/Coding/backtesters/QuantFreedom/tests/test_strat.ipynb#W3sZmlsZQ%3D%3D?line=0'>1</a>\u001b[0m strategy \u001b[39m=\u001b[39m StrategyExample(\n\u001b[0;32m      <a href='vscode-notebook-cell:/e%3A/Coding/backtesters/QuantFreedom/tests/test_strat.ipynb#W3sZmlsZQ%3D%3D?line=1'>2</a>\u001b[0m     candle_processing_mode\u001b[39m=\u001b[39mCandleProcessingType\u001b[39m.\u001b[39mBacktest,\n\u001b[0;32m      <a href='vscode-notebook-cell:/e%3A/Coding/backtesters/QuantFreedom/tests/test_strat.ipynb#W3sZmlsZQ%3D%3D?line=2'>3</a>\u001b[0m     candles\u001b[39m=\u001b[39mcandles,\n\u001b[0;32m      <a href='vscode-notebook-cell:/e%3A/Coding/backtesters/QuantFreedom/tests/test_strat.ipynb#W3sZmlsZQ%3D%3D?line=3'>4</a>\u001b[0m     rsi_length\u001b[39m=\u001b[39m[\u001b[39m14\u001b[39m, \u001b[39m30\u001b[39m],\n\u001b[0;32m      <a href='vscode-notebook-cell:/e%3A/Coding/backtesters/QuantFreedom/tests/test_strat.ipynb#W3sZmlsZQ%3D%3D?line=4'>5</a>\u001b[0m     rsi_is_below\u001b[39m=\u001b[39m[\u001b[39m50\u001b[39m,\u001b[39m80\u001b[39m],\n\u001b[0;32m      <a href='vscode-notebook-cell:/e%3A/Coding/backtesters/QuantFreedom/tests/test_strat.ipynb#W3sZmlsZQ%3D%3D?line=5'>6</a>\u001b[0m )\n\u001b[1;32m----> <a href='vscode-notebook-cell:/e%3A/Coding/backtesters/QuantFreedom/tests/test_strat.ipynb#W3sZmlsZQ%3D%3D?line=6'>7</a>\u001b[0m candles_reg \u001b[39m=\u001b[39m backtest_df_only(\n\u001b[0;32m      <a href='vscode-notebook-cell:/e%3A/Coding/backtesters/QuantFreedom/tests/test_strat.ipynb#W3sZmlsZQ%3D%3D?line=7'>8</a>\u001b[0m     starting_equity\u001b[39m=\u001b[39;49m\u001b[39m1000.0\u001b[39;49m,\n\u001b[0;32m      <a href='vscode-notebook-cell:/e%3A/Coding/backtesters/QuantFreedom/tests/test_strat.ipynb#W3sZmlsZQ%3D%3D?line=8'>9</a>\u001b[0m     os_cart_arrays\u001b[39m=\u001b[39;49mos_cart_arrays,\n\u001b[0;32m     <a href='vscode-notebook-cell:/e%3A/Coding/backtesters/QuantFreedom/tests/test_strat.ipynb#W3sZmlsZQ%3D%3D?line=9'>10</a>\u001b[0m     backtest_settings\u001b[39m=\u001b[39;49mbacktest_settings,\n\u001b[0;32m     <a href='vscode-notebook-cell:/e%3A/Coding/backtesters/QuantFreedom/tests/test_strat.ipynb#W3sZmlsZQ%3D%3D?line=10'>11</a>\u001b[0m     exchange_settings\u001b[39m=\u001b[39;49mmufex\u001b[39m.\u001b[39;49mexchange_settings,\n\u001b[0;32m     <a href='vscode-notebook-cell:/e%3A/Coding/backtesters/QuantFreedom/tests/test_strat.ipynb#W3sZmlsZQ%3D%3D?line=11'>12</a>\u001b[0m     strategy\u001b[39m=\u001b[39;49mstrategy,\n\u001b[0;32m     <a href='vscode-notebook-cell:/e%3A/Coding/backtesters/QuantFreedom/tests/test_strat.ipynb#W3sZmlsZQ%3D%3D?line=12'>13</a>\u001b[0m )\n",
            "File \u001b[1;32me:\\coding\\backtesters\\quantfreedom\\quantfreedom\\base.py:131\u001b[0m, in \u001b[0;36mbacktest_df_only\u001b[1;34m(starting_equity, os_cart_arrays, backtest_settings, exchange_settings, strategy)\u001b[0m\n\u001b[0;32m    126\u001b[0m     order\u001b[39m.\u001b[39mcheck_take_profit_hit(\n\u001b[0;32m    127\u001b[0m         current_candle\u001b[39m=\u001b[39mstrategy\u001b[39m.\u001b[39mcandles[bar_index],\n\u001b[0;32m    128\u001b[0m         exit_signal\u001b[39m=\u001b[39mstrategy\u001b[39m.\u001b[39mcurrent_exit_signals[bar_index],\n\u001b[0;32m    129\u001b[0m     )\n\u001b[0;32m    130\u001b[0m     order\u001b[39m.\u001b[39mcheck_move_stop_loss_to_be(bar_index\u001b[39m=\u001b[39mbar_index, candles\u001b[39m=\u001b[39mstrategy\u001b[39m.\u001b[39mcandles)\n\u001b[1;32m--> 131\u001b[0m     order\u001b[39m.\u001b[39;49mcheck_move_trailing_stop_loss(bar_index\u001b[39m=\u001b[39;49mbar_index, candles\u001b[39m=\u001b[39;49mstrategy\u001b[39m.\u001b[39;49mcandles)\n\u001b[0;32m    132\u001b[0m \u001b[39mexcept\u001b[39;00m RejectedOrder \u001b[39mas\u001b[39;00m e:\n\u001b[0;32m    133\u001b[0m     info_logger\u001b[39m.\u001b[39mwarning(\u001b[39mf\u001b[39m\u001b[39m\"\u001b[39m\u001b[39mRejectedOrder -> \u001b[39m\u001b[39m{\u001b[39;00me\u001b[39m.\u001b[39mmsg\u001b[39m}\u001b[39;00m\u001b[39m\"\u001b[39m)\n",
            "File \u001b[1;32me:\\coding\\backtesters\\quantfreedom\\quantfreedom\\order_handler\\order_handler.py:368\u001b[0m, in \u001b[0;36mLongOrder.check_move_trailing_stop_loss\u001b[1;34m(self, bar_index, candles)\u001b[0m\n\u001b[0;32m    367\u001b[0m \u001b[39mdef\u001b[39;00m \u001b[39mcheck_move_trailing_stop_loss\u001b[39m(\u001b[39mself\u001b[39m, bar_index, candles):\n\u001b[1;32m--> 368\u001b[0m     \u001b[39mself\u001b[39;49m\u001b[39m.\u001b[39;49mobj_stop_loss\u001b[39m.\u001b[39;49mmove_tsl_checker(\n\u001b[0;32m    369\u001b[0m         average_entry\u001b[39m=\u001b[39;49m\u001b[39mself\u001b[39;49m\u001b[39m.\u001b[39;49maverage_entry,\n\u001b[0;32m    370\u001b[0m         bar_index\u001b[39m=\u001b[39;49mbar_index,\n\u001b[0;32m    371\u001b[0m         candles\u001b[39m=\u001b[39;49mcandles,\n\u001b[0;32m    372\u001b[0m     )\n",
            "File \u001b[1;32me:\\coding\\backtesters\\quantfreedom\\quantfreedom\\order_handler\\stop_loss.py:215\u001b[0m, in \u001b[0;36mStopLossLong.check_move_trailing_stop_loss\u001b[1;34m(self, average_entry, bar_index, candles)\u001b[0m\n\u001b[0;32m    209\u001b[0m \u001b[39mdef\u001b[39;00m \u001b[39mcheck_move_trailing_stop_loss\u001b[39m(\n\u001b[0;32m    210\u001b[0m     \u001b[39mself\u001b[39m,\n\u001b[0;32m    211\u001b[0m     average_entry,\n\u001b[0;32m    212\u001b[0m     bar_index,\n\u001b[0;32m    213\u001b[0m     candles,\n\u001b[0;32m    214\u001b[0m ):\n\u001b[1;32m--> 215\u001b[0m     candle_body_ohlc \u001b[39m=\u001b[39m \u001b[39mself\u001b[39;49m\u001b[39m.\u001b[39;49mtsl_price_getter(\n\u001b[0;32m    216\u001b[0m         lookback\u001b[39m=\u001b[39;49mbar_index,\n\u001b[0;32m    217\u001b[0m         bar_index\u001b[39m=\u001b[39;49mbar_index \u001b[39m+\u001b[39;49m \u001b[39m1\u001b[39;49m,\n\u001b[0;32m    218\u001b[0m         candles\u001b[39m=\u001b[39;49mcandles,\n\u001b[0;32m    219\u001b[0m     )\n\u001b[0;32m    220\u001b[0m     pct_from_ae \u001b[39m=\u001b[39m \u001b[39mround\u001b[39m((candle_body_ohlc \u001b[39m-\u001b[39m average_entry) \u001b[39m/\u001b[39m average_entry, \u001b[39m2\u001b[39m)\n\u001b[0;32m    221\u001b[0m     possible_move_tsl \u001b[39m=\u001b[39m pct_from_ae \u001b[39m>\u001b[39m \u001b[39mself\u001b[39m\u001b[39m.\u001b[39mtrail_sl_when_pct_from_candle_body\n",
            "File \u001b[1;32me:\\coding\\backtesters\\quantfreedom\\quantfreedom\\order_handler\\stop_loss.py:131\u001b[0m, in \u001b[0;36mStopLossLong.__get_candle_body_price_high\u001b[1;34m(self, lookback, bar_index, candles)\u001b[0m\n\u001b[0;32m    129\u001b[0m \u001b[39mdef\u001b[39;00m \u001b[39m__get_candle_body_price_high\u001b[39m(\u001b[39mself\u001b[39m, lookback, bar_index, candles):\n\u001b[0;32m    130\u001b[0m     price \u001b[39m=\u001b[39m candles[\u001b[39m'\u001b[39m\u001b[39mhigh\u001b[39m\u001b[39m'\u001b[39m][lookback:bar_index]\u001b[39m.\u001b[39mmin()\n\u001b[1;32m--> 131\u001b[0m     info_logger\u001b[39m.\u001b[39;49mdebug(\u001b[39mf\u001b[39;49m\u001b[39m\"\u001b[39;49m\u001b[39mHigh Price = \u001b[39;49m\u001b[39m{\u001b[39;49;00mprice\u001b[39m}\u001b[39;49;00m\u001b[39m\"\u001b[39;49m)\n\u001b[0;32m    132\u001b[0m     \u001b[39mreturn\u001b[39;00m price\n",
            "File \u001b[1;32m~\\AppData\\Local\\Programs\\Python\\Python310\\lib\\logging\\__init__.py:1465\u001b[0m, in \u001b[0;36mLogger.debug\u001b[1;34m(self, msg, *args, **kwargs)\u001b[0m\n\u001b[0;32m   1456\u001b[0m \u001b[39m\u001b[39m\u001b[39m\"\"\"\u001b[39;00m\n\u001b[0;32m   1457\u001b[0m \u001b[39mLog 'msg % args' with severity 'DEBUG'.\u001b[39;00m\n\u001b[0;32m   1458\u001b[0m \n\u001b[1;32m   (...)\u001b[0m\n\u001b[0;32m   1462\u001b[0m \u001b[39mlogger.debug(\"Houston, we have a %s\", \"thorny problem\", exc_info=1)\u001b[39;00m\n\u001b[0;32m   1463\u001b[0m \u001b[39m\"\"\"\u001b[39;00m\n\u001b[0;32m   1464\u001b[0m \u001b[39mif\u001b[39;00m \u001b[39mself\u001b[39m\u001b[39m.\u001b[39misEnabledFor(DEBUG):\n\u001b[1;32m-> 1465\u001b[0m     \u001b[39mself\u001b[39m\u001b[39m.\u001b[39m_log(DEBUG, msg, args, \u001b[39m*\u001b[39m\u001b[39m*\u001b[39mkwargs)\n",
            "File \u001b[1;32m~\\AppData\\Local\\Programs\\Python\\Python310\\lib\\logging\\__init__.py:1624\u001b[0m, in \u001b[0;36mLogger._log\u001b[1;34m(self, level, msg, args, exc_info, extra, stack_info, stacklevel)\u001b[0m\n\u001b[0;32m   1621\u001b[0m         exc_info \u001b[39m=\u001b[39m sys\u001b[39m.\u001b[39mexc_info()\n\u001b[0;32m   1622\u001b[0m record \u001b[39m=\u001b[39m \u001b[39mself\u001b[39m\u001b[39m.\u001b[39mmakeRecord(\u001b[39mself\u001b[39m\u001b[39m.\u001b[39mname, level, fn, lno, msg, args,\n\u001b[0;32m   1623\u001b[0m                          exc_info, func, extra, sinfo)\n\u001b[1;32m-> 1624\u001b[0m \u001b[39mself\u001b[39;49m\u001b[39m.\u001b[39;49mhandle(record)\n",
            "File \u001b[1;32m~\\AppData\\Local\\Programs\\Python\\Python310\\lib\\logging\\__init__.py:1634\u001b[0m, in \u001b[0;36mLogger.handle\u001b[1;34m(self, record)\u001b[0m\n\u001b[0;32m   1627\u001b[0m \u001b[39m\u001b[39m\u001b[39m\"\"\"\u001b[39;00m\n\u001b[0;32m   1628\u001b[0m \u001b[39mCall the handlers for the specified record.\u001b[39;00m\n\u001b[0;32m   1629\u001b[0m \n\u001b[0;32m   1630\u001b[0m \u001b[39mThis method is used for unpickled records received from a socket, as\u001b[39;00m\n\u001b[0;32m   1631\u001b[0m \u001b[39mwell as those created locally. Logger-level filtering is applied.\u001b[39;00m\n\u001b[0;32m   1632\u001b[0m \u001b[39m\"\"\"\u001b[39;00m\n\u001b[0;32m   1633\u001b[0m \u001b[39mif\u001b[39;00m (\u001b[39mnot\u001b[39;00m \u001b[39mself\u001b[39m\u001b[39m.\u001b[39mdisabled) \u001b[39mand\u001b[39;00m \u001b[39mself\u001b[39m\u001b[39m.\u001b[39mfilter(record):\n\u001b[1;32m-> 1634\u001b[0m     \u001b[39mself\u001b[39;49m\u001b[39m.\u001b[39;49mcallHandlers(record)\n",
            "File \u001b[1;32m~\\AppData\\Local\\Programs\\Python\\Python310\\lib\\logging\\__init__.py:1696\u001b[0m, in \u001b[0;36mLogger.callHandlers\u001b[1;34m(self, record)\u001b[0m\n\u001b[0;32m   1694\u001b[0m     found \u001b[39m=\u001b[39m found \u001b[39m+\u001b[39m \u001b[39m1\u001b[39m\n\u001b[0;32m   1695\u001b[0m     \u001b[39mif\u001b[39;00m record\u001b[39m.\u001b[39mlevelno \u001b[39m>\u001b[39m\u001b[39m=\u001b[39m hdlr\u001b[39m.\u001b[39mlevel:\n\u001b[1;32m-> 1696\u001b[0m         hdlr\u001b[39m.\u001b[39;49mhandle(record)\n\u001b[0;32m   1697\u001b[0m \u001b[39mif\u001b[39;00m \u001b[39mnot\u001b[39;00m c\u001b[39m.\u001b[39mpropagate:\n\u001b[0;32m   1698\u001b[0m     c \u001b[39m=\u001b[39m \u001b[39mNone\u001b[39;00m    \u001b[39m#break out\u001b[39;00m\n",
            "File \u001b[1;32m~\\AppData\\Local\\Programs\\Python\\Python310\\lib\\logging\\__init__.py:968\u001b[0m, in \u001b[0;36mHandler.handle\u001b[1;34m(self, record)\u001b[0m\n\u001b[0;32m    966\u001b[0m \u001b[39mself\u001b[39m\u001b[39m.\u001b[39macquire()\n\u001b[0;32m    967\u001b[0m \u001b[39mtry\u001b[39;00m:\n\u001b[1;32m--> 968\u001b[0m     \u001b[39mself\u001b[39;49m\u001b[39m.\u001b[39;49memit(record)\n\u001b[0;32m    969\u001b[0m \u001b[39mfinally\u001b[39;00m:\n\u001b[0;32m    970\u001b[0m     \u001b[39mself\u001b[39m\u001b[39m.\u001b[39mrelease()\n",
            "File \u001b[1;32m~\\AppData\\Local\\Programs\\Python\\Python310\\lib\\logging\\__init__.py:1218\u001b[0m, in \u001b[0;36mFileHandler.emit\u001b[1;34m(self, record)\u001b[0m\n\u001b[0;32m   1216\u001b[0m         \u001b[39mself\u001b[39m\u001b[39m.\u001b[39mstream \u001b[39m=\u001b[39m \u001b[39mself\u001b[39m\u001b[39m.\u001b[39m_open()\n\u001b[0;32m   1217\u001b[0m \u001b[39mif\u001b[39;00m \u001b[39mself\u001b[39m\u001b[39m.\u001b[39mstream:\n\u001b[1;32m-> 1218\u001b[0m     StreamHandler\u001b[39m.\u001b[39;49memit(\u001b[39mself\u001b[39;49m, record)\n",
            "File \u001b[1;32m~\\AppData\\Local\\Programs\\Python\\Python310\\lib\\logging\\__init__.py:1104\u001b[0m, in \u001b[0;36mStreamHandler.emit\u001b[1;34m(self, record)\u001b[0m\n\u001b[0;32m   1102\u001b[0m     \u001b[39m# issue 35046: merged two stream.writes into one.\u001b[39;00m\n\u001b[0;32m   1103\u001b[0m     stream\u001b[39m.\u001b[39mwrite(msg \u001b[39m+\u001b[39m \u001b[39mself\u001b[39m\u001b[39m.\u001b[39mterminator)\n\u001b[1;32m-> 1104\u001b[0m     \u001b[39mself\u001b[39;49m\u001b[39m.\u001b[39;49mflush()\n\u001b[0;32m   1105\u001b[0m \u001b[39mexcept\u001b[39;00m \u001b[39mRecursionError\u001b[39;00m:  \u001b[39m# See issue 36272\u001b[39;00m\n\u001b[0;32m   1106\u001b[0m     \u001b[39mraise\u001b[39;00m\n",
            "File \u001b[1;32m~\\AppData\\Local\\Programs\\Python\\Python310\\lib\\logging\\__init__.py:1084\u001b[0m, in \u001b[0;36mStreamHandler.flush\u001b[1;34m(self)\u001b[0m\n\u001b[0;32m   1082\u001b[0m \u001b[39mtry\u001b[39;00m:\n\u001b[0;32m   1083\u001b[0m     \u001b[39mif\u001b[39;00m \u001b[39mself\u001b[39m\u001b[39m.\u001b[39mstream \u001b[39mand\u001b[39;00m \u001b[39mhasattr\u001b[39m(\u001b[39mself\u001b[39m\u001b[39m.\u001b[39mstream, \u001b[39m\"\u001b[39m\u001b[39mflush\u001b[39m\u001b[39m\"\u001b[39m):\n\u001b[1;32m-> 1084\u001b[0m         \u001b[39mself\u001b[39;49m\u001b[39m.\u001b[39;49mstream\u001b[39m.\u001b[39;49mflush()\n\u001b[0;32m   1085\u001b[0m \u001b[39mfinally\u001b[39;00m:\n\u001b[0;32m   1086\u001b[0m     \u001b[39mself\u001b[39m\u001b[39m.\u001b[39mrelease()\n",
            "\u001b[1;31mKeyboardInterrupt\u001b[0m: "
          ]
        }
      ],
      "source": [
        "strategy = StrategyExample(\n",
        "    candle_processing_mode=CandleProcessingType.Backtest,\n",
        "    candles=candles,\n",
        "    rsi_length=[14, 30],\n",
        "    rsi_is_below=[50,80],\n",
        ")\n",
        "candles_reg = backtest_df_only(\n",
        "    starting_equity=1000.0,\n",
        "    os_cart_arrays=os_cart_arrays,\n",
        "    backtest_settings=backtest_settings,\n",
        "    exchange_settings=mufex.exchange_settings,\n",
        "    strategy=strategy,\n",
        ")"
      ]
    },
    {
      "cell_type": "code",
      "execution_count": null,
      "metadata": {},
      "outputs": [],
      "source": [
        "candles_reg.sort_values(['ind_set_idx','or_set_idx']).iloc[:]"
      ]
    },
    {
      "cell_type": "code",
      "execution_count": null,
      "metadata": {},
      "outputs": [],
      "source": [
        "strategy.indicator_cart_product"
      ]
    }
  ],
  "metadata": {
    "kernelspec": {
      "display_name": "qfFree",
      "language": "python",
      "name": "python3"
    },
    "language_info": {
      "codemirror_mode": {
        "name": "ipython",
        "version": 3
      },
      "file_extension": ".py",
      "mimetype": "text/x-python",
      "name": "python",
      "nbconvert_exporter": "python",
      "pygments_lexer": "ipython3",
      "version": "3.10.10"
    },
    "orig_nbformat": 4
  },
  "nbformat": 4,
  "nbformat_minor": 2
}
