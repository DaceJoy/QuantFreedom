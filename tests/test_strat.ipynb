{
  "cells": [
    {
      "cell_type": "code",
      "execution_count": 1,
      "metadata": {},
      "outputs": [],
      "source": [
        "import numpy as np\n",
        "from my_stuff import MufexKeys\n",
        "from quantfreedom.enums import CandleProcessingType\n",
        "from quantfreedom.exchanges.mufex_exchange.mufex import Mufex\n",
        "from quantfreedom.base import backtest_df_only\n",
        "from quantfreedom.enums import *\n",
        "from quantfreedom.helper_funcs import create_os_cart_product_nb\n",
        "from quantfreedom.strategies.strategy_example import StrategyExample\n",
        "\n",
        "mufex = Mufex(\n",
        "    api_key=MufexKeys.api_key,\n",
        "    secret_key=MufexKeys.secret_key,\n",
        "    use_test_net=False\n",
        ")\n",
        "symbol = \"BTCUSDT\"\n",
        "%load_ext autoreload\n",
        "%autoreload 2"
      ]
    },
    {
      "cell_type": "code",
      "execution_count": 2,
      "metadata": {},
      "outputs": [
        {
          "name": "stdout",
          "output_type": "stream",
          "text": [
            "It took 00 mins and 04 seconds to download 2000 candles\n"
          ]
        }
      ],
      "source": [
        "candles = mufex.get_candles_df(symbol=symbol, timeframe='5m', candles_to_dl=2000)"
      ]
    },
    {
      "cell_type": "code",
      "execution_count": 7,
      "metadata": {},
      "outputs": [],
      "source": [
        "mufex.set_exchange_settings(\n",
        "    symbol=symbol,\n",
        "    position_mode=PositionModeType.HedgeMode,\n",
        "    leverage_mode=LeverageModeType.Isolated,\n",
        ")\n",
        "backtest_settings = BacktestSettings()\n",
        "order_settings_arrays = OrderSettingsArrays(\n",
        "    long_or_short=np.array([LongOrShortType.Long]),\n",
        "    increase_position_type=np.array([IncreasePositionType.RiskPctAccountEntrySize]),\n",
        "    risk_account_pct_size=np.array([1]),\n",
        "    max_equity_risk_pct=np.array([3]),\n",
        "    stop_loss_type=np.array([StopLossStrategyType.SLBasedOnCandleBody]),\n",
        "    sl_candle_body_type=np.array([CandleBodyType.Low]),\n",
        "    sl_based_on_add_pct=np.array([0.01]),\n",
        "    sl_based_on_lookback=np.array([20]),\n",
        "    sl_to_be_based_on_candle_body_type=np.array([CandleBodyType.Nothing]),\n",
        "    sl_to_be_when_pct_from_candle_body=np.array([0.0]),\n",
        "    sl_to_be_zero_or_entry_type=np.array([SLToBeZeroOrEntryType.Nothing]),\n",
        "    trail_sl_based_on_candle_body_type=np.array([CandleBodyType.High]),\n",
        "    trail_sl_when_pct_from_candle_body=np.array([3.0]),\n",
        "    trail_sl_by_pct=np.array([1.0]),\n",
        "    take_profit_type=np.array([TakeProfitStrategyType.RiskReward]),\n",
        "    risk_reward=np.array([3,5]),\n",
        "    tp_fee_type=np.array([TakeProfitFeeType.Limit]),\n",
        "    leverage_type=np.array([LeverageStrategyType.Dynamic]),\n",
        "    static_leverage=np.array([0.0]),\n",
        "    num_candles=np.array([200]),\n",
        "    entry_size_asset=np.array([0.0]),\n",
        "    max_trades=np.array([3]),\n",
        "    \n",
        ")\n",
        "os_cart_arrays = create_os_cart_product_nb(\n",
        "    order_settings_arrays=order_settings_arrays,\n",
        ")"
      ]
    },
    {
      "cell_type": "code",
      "execution_count": 8,
      "metadata": {},
      "outputs": [
        {
          "name": "stdout",
          "output_type": "stream",
          "text": [
            "Starting the backtest now ... and also here are some stats for your backtest.\n",
            "\n",
            "Total indicator settings to test: 2\n",
            "Total order settings to test: 2\n",
            "Total combinations of settings to test: 4\n",
            "\n",
            "Total candles: 2,000\n",
            "Total candles to test: 8,000\n"
          ]
        }
      ],
      "source": [
        "strategy = StrategyExample(\n",
        "    candle_processing_mode=CandleProcessingType.RealBacktest,\n",
        "    candles=candles,\n",
        "    rsi_length=[14],\n",
        "    rsi_is_below=[50,80],\n",
        ")\n",
        "candles_reg = backtest_df_only(\n",
        "    starting_equity=1000.0,\n",
        "    os_cart_arrays=os_cart_arrays,\n",
        "    backtest_settings=backtest_settings,\n",
        "    exchange_settings=mufex.exchange_settings,\n",
        "    strategy=strategy,\n",
        ")"
      ]
    },
    {
      "cell_type": "code",
      "execution_count": 9,
      "metadata": {},
      "outputs": [
        {
          "data": {
            "text/html": [
              "<div>\n",
              "<style scoped>\n",
              "    .dataframe tbody tr th:only-of-type {\n",
              "        vertical-align: middle;\n",
              "    }\n",
              "\n",
              "    .dataframe tbody tr th {\n",
              "        vertical-align: top;\n",
              "    }\n",
              "\n",
              "    .dataframe thead th {\n",
              "        text-align: right;\n",
              "    }\n",
              "</style>\n",
              "<table border=\"1\" class=\"dataframe\">\n",
              "  <thead>\n",
              "    <tr style=\"text-align: right;\">\n",
              "      <th></th>\n",
              "      <th>ind_set_idx</th>\n",
              "      <th>or_set_idx</th>\n",
              "      <th>total_trades</th>\n",
              "      <th>gains_pct</th>\n",
              "      <th>win_rate</th>\n",
              "      <th>to_the_upside</th>\n",
              "      <th>total_pnl</th>\n",
              "      <th>ending_eq</th>\n",
              "    </tr>\n",
              "  </thead>\n",
              "  <tbody>\n",
              "    <tr>\n",
              "      <th>2</th>\n",
              "      <td>0</td>\n",
              "      <td>0</td>\n",
              "      <td>150.0</td>\n",
              "      <td>-86.44</td>\n",
              "      <td>8.67</td>\n",
              "      <td>-0.9297</td>\n",
              "      <td>-864.4374</td>\n",
              "      <td>135.5626</td>\n",
              "    </tr>\n",
              "    <tr>\n",
              "      <th>3</th>\n",
              "      <td>0</td>\n",
              "      <td>1</td>\n",
              "      <td>146.0</td>\n",
              "      <td>-87.84</td>\n",
              "      <td>8.90</td>\n",
              "      <td>-0.9352</td>\n",
              "      <td>-878.4266</td>\n",
              "      <td>121.5734</td>\n",
              "    </tr>\n",
              "    <tr>\n",
              "      <th>0</th>\n",
              "      <td>1</td>\n",
              "      <td>0</td>\n",
              "      <td>151.0</td>\n",
              "      <td>-86.21</td>\n",
              "      <td>7.95</td>\n",
              "      <td>-0.0000</td>\n",
              "      <td>-862.1102</td>\n",
              "      <td>137.8898</td>\n",
              "    </tr>\n",
              "    <tr>\n",
              "      <th>1</th>\n",
              "      <td>1</td>\n",
              "      <td>1</td>\n",
              "      <td>147.0</td>\n",
              "      <td>-88.20</td>\n",
              "      <td>8.84</td>\n",
              "      <td>-0.0000</td>\n",
              "      <td>-881.9556</td>\n",
              "      <td>118.0444</td>\n",
              "    </tr>\n",
              "  </tbody>\n",
              "</table>\n",
              "</div>"
            ],
            "text/plain": [
              "   ind_set_idx  or_set_idx  total_trades  gains_pct  win_rate  to_the_upside  \\\n",
              "2            0           0         150.0     -86.44      8.67        -0.9297   \n",
              "3            0           1         146.0     -87.84      8.90        -0.9352   \n",
              "0            1           0         151.0     -86.21      7.95        -0.0000   \n",
              "1            1           1         147.0     -88.20      8.84        -0.0000   \n",
              "\n",
              "   total_pnl  ending_eq  \n",
              "2  -864.4374   135.5626  \n",
              "3  -878.4266   121.5734  \n",
              "0  -862.1102   137.8898  \n",
              "1  -881.9556   118.0444  "
            ]
          },
          "execution_count": 9,
          "metadata": {},
          "output_type": "execute_result"
        }
      ],
      "source": [
        "candles_reg.sort_values(['ind_set_idx','or_set_idx']).iloc[:]"
      ]
    },
    {
      "cell_type": "code",
      "execution_count": 6,
      "metadata": {},
      "outputs": [
        {
          "data": {
            "text/plain": [
              "ExchangeSettings(limit_fee_pct=0.0003, max_leverage=150.0, market_fee_pct=0.0009, mmr_pct=0.004, min_leverage=1.0, max_asset_size=100.0, min_asset_size=0.001, asset_tick_step=3, position_mode=1, leverage_mode=1, price_tick_step=1, leverage_tick_step=2)"
            ]
          },
          "execution_count": 6,
          "metadata": {},
          "output_type": "execute_result"
        }
      ],
      "source": [
        "mufex.exchange_settings"
      ]
    }
  ],
  "metadata": {
    "kernelspec": {
      "display_name": "qfFree",
      "language": "python",
      "name": "python3"
    },
    "language_info": {
      "codemirror_mode": {
        "name": "ipython",
        "version": 3
      },
      "file_extension": ".py",
      "mimetype": "text/x-python",
      "name": "python",
      "nbconvert_exporter": "python",
      "pygments_lexer": "ipython3",
      "version": "3.10.10"
    },
    "orig_nbformat": 4
  },
  "nbformat": 4,
  "nbformat_minor": 2
}
