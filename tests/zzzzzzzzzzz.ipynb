{
  "cells": [
    {
      "cell_type": "code",
      "execution_count": 1,
      "metadata": {},
      "outputs": [],
      "source": [
        "import numpy as np\n",
        "import pandas as pd\n",
        "from my_stuff import MufexKeys, MufexTestKeys\n",
        "from quantfreedom.exchanges.mufex_exchange.mufex import Mufex\n",
        "from quantfreedom.indicators.tv_indicators import *\n",
        "from quantfreedom.plotting.plotting_base import *\n",
        "from quantfreedom.exchanges.exchange import Exchange\n",
        "from quantfreedom.helper_funcs import dl_ex_candles, candles_to_df\n",
        "from my_stuff import BybitTestKeys\n",
        "from quantfreedom.exchanges.bybit_exchange.bybit import Bybit\n",
        "from plotly.subplots import make_subplots\n",
        "\n",
        "\n",
        "np.set_printoptions(formatter={\"float_kind\": \"{:0.2f}\".format})\n",
        "\n",
        "%load_ext autoreload\n",
        "%autoreload 2"
      ]
    },
    {
      "cell_type": "code",
      "execution_count": 2,
      "metadata": {},
      "outputs": [],
      "source": [
        "candles = dl_ex_candles(\n",
        "    exchange=\"binance_us\",\n",
        "    symbol=\"BTCUSDT\",\n",
        "    timeframe=\"1h\",\n",
        "    # candles_to_dl=3000,\n",
        "    since_timestamp=1626768000000,\n",
        "    until_timestamp=1634745600000,\n",
        ")\n",
        "timestamps = candles[:, CandleBodyType.Timestamp]\n",
        "open = candles[:, CandleBodyType.Open]\n",
        "high = candles[:, CandleBodyType.High]\n",
        "low = candles[:, CandleBodyType.Low]\n",
        "close = candles[:, CandleBodyType.Close]\n",
        "volume = candles[:, CandleBodyType.Volume]"
      ]
    },
    {
      "cell_type": "code",
      "execution_count": 13,
      "metadata": {},
      "outputs": [
        {
          "name": "stdout",
          "output_type": "stream",
          "text": [
            "2021-07-20T08:00:00.000\n"
          ]
        }
      ],
      "source": [
        "print(np.array(1626768000000).astype(\"datetime64[ms]\"))"
      ]
    },
    {
      "cell_type": "code",
      "execution_count": 14,
      "metadata": {},
      "outputs": [
        {
          "name": "stdout",
          "output_type": "stream",
          "text": [
            "2021-07-20 08:00:00\n"
          ]
        }
      ],
      "source": [
        "print(pd.to_datetime(1626768000000, unit='ms'))"
      ]
    }
  ],
  "metadata": {
    "kernelspec": {
      "display_name": "qfFree",
      "language": "python",
      "name": "python3"
    },
    "language_info": {
      "codemirror_mode": {
        "name": "ipython",
        "version": 3
      },
      "file_extension": ".py",
      "mimetype": "text/x-python",
      "name": "python",
      "nbconvert_exporter": "python",
      "pygments_lexer": "ipython3",
      "version": "3.10.10"
    },
    "orig_nbformat": 4
  },
  "nbformat": 4,
  "nbformat_minor": 2
}
