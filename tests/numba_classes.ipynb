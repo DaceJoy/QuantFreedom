{
 "cells": [
  {
   "cell_type": "code",
   "execution_count": 1,
   "metadata": {},
   "outputs": [],
   "source": [
    "from numba.experimental import jitclass\n",
    "from numba import njit\n",
    "%load_ext autoreload\n",
    "%autoreload 2\n"
   ]
  },
  {
   "cell_type": "code",
   "execution_count": 2,
   "metadata": {},
   "outputs": [],
   "source": [
    "template = \"\"\"\n",
    "@jitclass()\n",
    "class LeverageLong:\n",
    "    def __init__(self):\n",
    "        pass\n",
    "\n",
    "    def leverage_calculator(self, number):\n",
    "        {}\n",
    "\"\"\""
   ]
  },
  {
   "cell_type": "code",
   "execution_count": 3,
   "metadata": {},
   "outputs": [],
   "source": [
    "# fucntion body inside quotes\n",
    "\n",
    "static_lev = \"\"\"thing = number - 10\n",
    "        return thing\n",
    "\"\"\"\n",
    "dynamic_lev = \"\"\"thing = number + 10\n",
    "        return thing\n",
    "\"\"\"\n",
    "return_values = (static_lev, dynamic_lev)\n",
    "\n",
    "\n",
    "def generate_jitclass(leverage_type):\n",
    "    return template.format(return_values[leverage_type])"
   ]
  },
  {
   "cell_type": "code",
   "execution_count": 4,
   "metadata": {},
   "outputs": [
    {
     "name": "stdout",
     "output_type": "stream",
     "text": [
      "\n",
      "@jitclass()\n",
      "class LeverageLong:\n",
      "    def __init__(self):\n",
      "        pass\n",
      "\n",
      "    def leverage_calculator(self, number):\n",
      "        thing = number - 10\n",
      "        return thing\n",
      "\n",
      "\n"
     ]
    }
   ],
   "source": [
    "jc = generate_jitclass(0)\n",
    "print(jc)"
   ]
  },
  {
   "cell_type": "code",
   "execution_count": 5,
   "metadata": {},
   "outputs": [
    {
     "data": {
      "text/plain": [
       "<numba.experimental.jitclass.boxing.LeverageLong at 0x2bd9ace1ea0>"
      ]
     },
     "execution_count": 5,
     "metadata": {},
     "output_type": "execute_result"
    }
   ],
   "source": [
    "exec(jc)\n",
    "lev=LeverageLong()\n",
    "lev"
   ]
  },
  {
   "cell_type": "code",
   "execution_count": 8,
   "metadata": {},
   "outputs": [
    {
     "data": {
      "text/plain": [
       "10"
      ]
     },
     "execution_count": 8,
     "metadata": {},
     "output_type": "execute_result"
    }
   ],
   "source": [
    "lev.leverage_calculator(20)"
   ]
  },
  {
   "cell_type": "code",
   "execution_count": 7,
   "metadata": {},
   "outputs": [
    {
     "name": "stdout",
     "output_type": "stream",
     "text": [
      "-10\n",
      "-9\n",
      "-8\n",
      "-7\n",
      "-6\n",
      "-5\n",
      "-4\n",
      "-3\n",
      "-2\n",
      "-1\n"
     ]
    }
   ],
   "source": [
    "@njit\n",
    "def lev_calc(lev_obj: LeverageLong):\n",
    "    acc = 0\n",
    "    for i in range(10):\n",
    "        acc += lev_obj.leverage_calculator(i)\n",
    "        print(lev_obj.leverage_calculator(i))\n",
    "        # print(acc)\n",
    "    \n",
    "lev_calc(lev_obj=lev)"
   ]
  }
 ],
 "metadata": {
  "kernelspec": {
   "display_name": "qfFree",
   "language": "python",
   "name": "python3"
  },
  "language_info": {
   "codemirror_mode": {
    "name": "ipython",
    "version": 3
   },
   "file_extension": ".py",
   "mimetype": "text/x-python",
   "name": "python",
   "nbconvert_exporter": "python",
   "pygments_lexer": "ipython3",
   "version": "3.10.10"
  },
  "orig_nbformat": 4
 },
 "nbformat": 4,
 "nbformat_minor": 2
}
