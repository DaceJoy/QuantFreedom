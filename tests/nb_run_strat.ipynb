{
  "cells": [
    {
      "cell_type": "code",
      "execution_count": null,
      "metadata": {},
      "outputs": [],
      "source": [
        "# import sys\n",
        "# import os\n",
        "# sys.dont_write_bytecode = True\n",
        "# os.environ[\"NUMBA_DISABLE_JIT\"] = \"1\""
      ]
    },
    {
      "cell_type": "code",
      "execution_count": null,
      "metadata": {},
      "outputs": [],
      "source": [
        "import numpy as np\n",
        "\n",
        "from my_stuff import MufexKeys\n",
        "import requests\n",
        "from quantfreedom.exchanges.mufex_exchange.mufex import Mufex\n",
        "from quantfreedom.enums import DynamicOrderSettingsArrays\n",
        "from quantfreedom.enums import *\n",
        "from quantfreedom.helper_funcs import dos_cart_product\n",
        "from quantfreedom.nb_funcs.nb_strategies.nb_strategy import (\n",
        "    nb_strat_bt_create_ind,\n",
        "    nb_strat_evaluate,\n",
        "    nb_strat_get_current_ind_settings,\n",
        "    nb_strat_get_ind_set_str,\n",
        "    nb_strat_get_total_ind_settings,\n",
        ")\n",
        "from quantfreedom.nb_funcs.nb_simulate import nb_sim_df_backtest\n",
        "from quantfreedom.nb_funcs.nb_sim_order_records import nb_sim_get_or\n",
        "\n",
        "\n",
        "mufex_main = Mufex(\n",
        "    api_key=MufexKeys.api_key,\n",
        "    secret_key=MufexKeys.secret_key,\n",
        "    use_test_net=False,\n",
        ")\n",
        "\n",
        "%load_ext autoreload\n",
        "%autoreload 2"
      ]
    },
    {
      "cell_type": "code",
      "execution_count": null,
      "metadata": {},
      "outputs": [],
      "source": [
        "candles_np = mufex_main.get_candles(\n",
        "    symbol=\"BTCUSDT\", timeframe=\"5m\", candles_to_dl=4000)"
      ]
    },
    {
      "cell_type": "code",
      "execution_count": null,
      "metadata": {},
      "outputs": [],
      "source": [
        "mufex_main.set_exchange_settings(\n",
        "    symbol=\"BTCUSDT\",\n",
        "    position_mode=PositionModeType.HedgeMode,\n",
        "    leverage_mode=LeverageModeType.Isolated,\n",
        ")\n",
        "\n",
        "backtest_settings = BacktestSettings(\n",
        "    array_size=1000,\n",
        "    gains_pct_filter=0,\n",
        "    total_trade_filter=40,\n",
        "    upside_filter=0,\n",
        ")\n",
        "\n",
        "# backtest_settings = BacktestSettings()\n",
        "\n",
        "dos_arrays = DynamicOrderSettingsArrays(\n",
        "    max_equity_risk_pct=np.array([2, 3, 4, 5, 6]) * 3,\n",
        "    max_trades=np.array([5]),\n",
        "    num_candles=np.array([100]),\n",
        "    risk_account_pct_size=np.array([3]),\n",
        "    risk_reward=np.array([2, 4, 6, 10]),\n",
        "    sl_based_on_add_pct=np.array([0.01, 0.05, 0.1]),\n",
        "    sl_based_on_lookback=np.array([20, 40, 60]),\n",
        "    sl_bcb_type=np.array([CandleBodyType.Low]),\n",
        "    sl_to_be_cb_type=np.array([CandleBodyType.Nothing]),\n",
        "    sl_to_be_when_pct=np.array([0]),\n",
        "    static_leverage=np.array([0]),\n",
        "    trail_sl_bcb_type=np.array([CandleBodyType.Low]),\n",
        "    trail_sl_by_pct=np.array([0.2, 0.5, 1.0, 1.5]),\n",
        "    trail_sl_when_pct=np.array([0.2, 0.4, 0.8, 1, 2]),\n",
        ")\n",
        "\n",
        "static_os = StaticOrderSettings(\n",
        "    increase_position_type=IncreasePositionType.RiskPctAccountEntrySize,\n",
        "    leverage_strategy_type=LeverageStrategyType.Dynamic,\n",
        "    logger_bool=False,\n",
        "    long_or_short=LongOrShortType.Long,\n",
        "    pg_min_max_sl_bcb=PriceGetterType.Min,\n",
        "    sl_strategy_type=StopLossStrategyType.SLBasedOnCandleBody,\n",
        "    sl_to_be_bool=False,\n",
        "    starting_equity=1000.0,\n",
        "    tp_fee_type=TakeProfitFeeType.Limit,\n",
        "    tp_strategy_type=TakeProfitStrategyType.RiskReward,\n",
        "    trail_sl_bool=True,\n",
        "    z_or_e_type=ZeroOrEntryType.Nothing,\n",
        ")"
      ]
    },
    {
      "cell_type": "code",
      "execution_count": null,
      "metadata": {},
      "outputs": [],
      "source": [
        "strat_records_df = nb_sim_df_backtest(\n",
        "    backtest_settings=backtest_settings,\n",
        "    candles=candles_np,\n",
        "    dos_arrays=dos_arrays,\n",
        "    evaluate=nb_strat_evaluate,\n",
        "    exchange_settings=mufex_main.exchange_settings,\n",
        "    get_current_ind_settings=nb_strat_get_current_ind_settings,\n",
        "    get_ind_set_str=nb_strat_get_ind_set_str,\n",
        "    get_total_ind_settings=nb_strat_get_total_ind_settings,\n",
        "    ind_creator=nb_strat_bt_create_ind,\n",
        "    nb_logger_type=NBLoggerType.Pass,\n",
        "    starting_equity=1000.0,\n",
        "    static_os=static_os,\n",
        ")\n",
        "strat_records_df"
      ]
    },
    {
      "cell_type": "code",
      "execution_count": null,
      "metadata": {},
      "outputs": [],
      "source": [
        "strat_records_df.sort_values(by='to_the_upside', ascending=False)"
      ]
    },
    {
      "cell_type": "code",
      "execution_count": null,
      "metadata": {},
      "outputs": [],
      "source": [
        "order_records_df, data = nb_sim_get_or(\n",
        "    backtest_settings=backtest_settings,\n",
        "    candles=candles_np,\n",
        "    dos_arrays=dos_arrays,\n",
        "    evaluate=nb_strat_evaluate,\n",
        "    exchange_settings=mufex_main.exchange_settings,\n",
        "    get_current_ind_settings=nb_strat_get_current_ind_settings,\n",
        "    get_ind_set_str=nb_strat_get_ind_set_str,\n",
        "    get_total_ind_settings=nb_strat_get_total_ind_settings,\n",
        "    ind_creator=nb_strat_bt_create_ind,\n",
        "    nb_logger_type=NBLoggerType.Pass,\n",
        "    starting_equity=1000.0,\n",
        "    static_os=static_os,\n",
        "    ind_set_index=2,\n",
        "    dos_index=29,\n",
        "    plot_results=True,\n",
        ")"
      ]
    },
    {
      "cell_type": "code",
      "execution_count": null,
      "metadata": {},
      "outputs": [],
      "source": [
        "res = requests.post(\"http://127.0.0.1:7779/plot\", json=data)\n",
        "\n",
        "returned_data = res.json()\n",
        "\n",
        "print(returned_data)"
      ]
    }
  ],
  "metadata": {
    "kernelspec": {
      "display_name": "qfFree",
      "language": "python",
      "name": "python3"
    },
    "language_info": {
      "codemirror_mode": {
        "name": "ipython",
        "version": 3
      },
      "file_extension": ".py",
      "mimetype": "text/x-python",
      "name": "python",
      "nbconvert_exporter": "python",
      "pygments_lexer": "ipython3",
      "version": "3.10.10"
    },
    "orig_nbformat": 4
  },
  "nbformat": 4,
  "nbformat_minor": 2
}
