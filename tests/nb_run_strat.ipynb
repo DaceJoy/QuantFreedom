{
  "cells": [
    {
      "cell_type": "code",
      "execution_count": 1,
      "metadata": {},
      "outputs": [],
      "source": [
        "# import sys\n",
        "# import os\n",
        "# sys.dont_write_bytecode = True\n",
        "# os.environ[\"NUMBA_DISABLE_JIT\"] = \"1\""
      ]
    },
    {
      "cell_type": "code",
      "execution_count": 2,
      "metadata": {},
      "outputs": [],
      "source": [
        "import numpy as np\n",
        "import pandas as pd\n",
        "from my_stuff import MufexKeys\n",
        "from quantfreedom.exchanges.mufex_exchange.mufex import Mufex\n",
        "from quantfreedom.enums import DynamicOrderSettingsArrays\n",
        "from quantfreedom.utils import pretty_qf\n",
        "from requests import get\n",
        "from numba import njit, types, typed\n",
        "from numba.experimental import jitclass\n",
        "import logging\n",
        "from quantfreedom.enums import *\n",
        "from quantfreedom.helper_funcs import dos_cart_product\n",
        "from quantfreedom.strategies.strategy import (\n",
        "    strat_bt_create_ind,\n",
        "    strat_evaluate,\n",
        "    strat_get_current_ind_settings,\n",
        "    strat_get_ind_set_str,\n",
        "    strat_get_total_ind_settings,\n",
        ")\n",
        "from quantfreedom.simulate import sim_df_backtest\n",
        "from quantfreedom.sim_order_records import sim_get_or\n",
        "import requests\n",
        "\n",
        "mufex_main = Mufex(\n",
        "    api_key=MufexKeys.api_key,\n",
        "    secret_key=MufexKeys.secret_key,\n",
        "    use_test_net=False,\n",
        ")\n",
        "\n",
        "%load_ext autoreload\n",
        "%autoreload 2"
      ]
    },
    {
      "cell_type": "code",
      "execution_count": 3,
      "metadata": {},
      "outputs": [
        {
          "name": "stdout",
          "output_type": "stream",
          "text": [
            "It took 00 mins and 01 seconds to download 1000 candles\n"
          ]
        }
      ],
      "source": [
        "candles_np = mufex_main.get_candles_df(symbol=\"BTCUSDT\", timeframe=\"5m\", candles_to_dl=1000)"
      ]
    },
    {
      "cell_type": "code",
      "execution_count": 4,
      "metadata": {},
      "outputs": [
        {
          "name": "stdout",
          "output_type": "stream",
          "text": [
            "ExchangeSettings(\n",
            "    limit_fee_pct = 0.0003,\n",
            "    max_leverage = 150.0,\n",
            "    market_fee_pct = 0.0009,\n",
            "    mmr_pct = 0.004,\n",
            "    min_leverage = 1.0,\n",
            "    max_asset_size = 100.0,\n",
            "    min_asset_size = 0.001,\n",
            "    asset_tick_step = 3,\n",
            "    position_mode = 1,\n",
            "    leverage_mode = 1,\n",
            "    price_tick_step = 1,\n",
            "    leverage_tick_step = 2,\n",
            ")\n"
          ]
        }
      ],
      "source": [
        "mufex_main.set_exchange_settings(\n",
        "    symbol=\"BTCUSDT\",\n",
        "    position_mode=PositionModeType.HedgeMode,\n",
        "    leverage_mode=LeverageModeType.Isolated,\n",
        ")\n",
        "backtest_settings = BacktestSettings(\n",
        "    divide_records_array_size_by=15,\n",
        "    gains_pct_filter=-90,\n",
        "    total_trade_filter=60,\n",
        "    upside_filter=-np.inf,\n",
        ")\n",
        "dos_arrays = DynamicOrderSettingsArrays(\n",
        "    entry_size_asset=np.array([0]),\n",
        "    max_equity_risk_pct=np.array([6, 9, 12]),\n",
        "    max_trades=np.array([5]),\n",
        "    num_candles=np.array([100]),\n",
        "    risk_account_pct_size=np.array([3]),\n",
        "    risk_reward=np.array([2, 4, 6]),\n",
        "    sl_based_on_add_pct=np.array([0.01, 0.06]),\n",
        "    sl_based_on_lookback=np.array([10, 30]),\n",
        "    sl_bcb_type=np.array([CandleBodyType.Low]),\n",
        "    sl_to_be_cb_type=np.array([CandleBodyType.Nothing]),\n",
        "    sl_to_be_when_pct=np.array([0]),\n",
        "    sl_to_be_ze_type=np.array([0]),\n",
        "    static_leverage=np.array([0]),\n",
        "    trail_sl_bcb_type=np.array([CandleBodyType.Low]),\n",
        "    trail_sl_by_pct=np.array([0.5, 1.0]),\n",
        "    trail_sl_when_pct=np.array([1, 2, 4]),\n",
        ")\n",
        "static_os = StaticOrderSettings(\n",
        "    increase_position_type=IncreasePositionType.RiskPctAccountEntrySize,\n",
        "    leverage_strategy_type=LeverageStrategyType.Dynamic,\n",
        "    long_or_short=LongOrShortType.Long,\n",
        "    logger_bool=True,\n",
        "    pg_min_max_sl_bcb=PriceGetterType.Min,\n",
        "    sl_to_be_bool=False,\n",
        "    z_or_e_type=ZeroOrEntryType.Nothing,\n",
        "    sl_strategy_type=StopLossStrategyType.SLBasedOnCandleBody,\n",
        "    tp_strategy_type=TakeProfitStrategyType.RiskReward,\n",
        "    tp_fee_type=TakeProfitFeeType.Limit,\n",
        "    trail_sl_bool=True,\n",
        ")\n",
        "dos_cart_arrays = dos_cart_product(\n",
        "    dos_arrays=dos_arrays,\n",
        ")"
      ]
    },
    {
      "cell_type": "code",
      "execution_count": 6,
      "metadata": {},
      "outputs": [],
      "source": [
        "sim_df_backtest(\n",
        "    backtest_settings=backtest_settings,\n",
        "    candles=candles_np,\n",
        "    dos_cart_arrays=dos_cart_arrays,\n",
        "    evaluate=strat_evaluate,\n",
        "    exchange_settings=mufex_main.exchange_settings,\n",
        "    get_current_ind_settings=strat_get_current_ind_settings,\n",
        "    get_ind_set_str=strat_get_ind_set_str,\n",
        "    get_total_ind_settings=strat_get_total_ind_settings,\n",
        "    ind_creator=strat_bt_create_ind,\n",
        "    logger_type=LoggerType.Print,\n",
        "    starting_equity=1000.0,\n",
        "    static_os=static_os,\n",
        ")"
      ]
    },
    {
      "cell_type": "code",
      "execution_count": null,
      "metadata": {},
      "outputs": [],
      "source": [
        "order_records_df = sim_get_or(\n",
        "    backtest_settings=backtest_settings,\n",
        "    candles=candles_np,\n",
        "    dos_cart_arrays=dos_cart_arrays,\n",
        "    evaluate=strat_evaluate,\n",
        "    exchange_settings=mufex_main.exchange_settings,\n",
        "    get_current_ind_settings=strat_get_current_ind_settings,\n",
        "    get_ind_set_str=strat_get_ind_set_str,\n",
        "    get_total_ind_settings=strat_get_total_ind_settings,\n",
        "    ind_creator=strat_bt_create_ind,\n",
        "    logger_type=LoggerType.Pass,\n",
        "    starting_equity=1000.0,\n",
        "    static_os=static_os,\n",
        "    ind_set_index=3,\n",
        "    dos_index=0,\n",
        ")"
      ]
    },
    {
      "cell_type": "code",
      "execution_count": null,
      "metadata": {},
      "outputs": [],
      "source": [
        "data = {\n",
        "    \"candles\": candles_np.tolist(),\n",
        "}\n",
        "timestamp_list = candles_np[:, 0].tolist()\n",
        "\n",
        "temp_entries_df = order_records_df[\n",
        "    [\"order_status\", \"timestamp\", \"average_entry\", \"entry_price\", \"liq_price\", \"sl_price\", \"tp_price\"]\n",
        "]\n",
        "entries_df = temp_entries_df[temp_entries_df[\"order_status\"] == \"EntryFilled\"]\n",
        "entries_list_df = entries_df.values[:, 1:].tolist()\n",
        "\n",
        "entries_list = np.vstack(candles_np[:, 0]).tolist()\n",
        "sl_list = np.vstack(candles_np[:, 0]).tolist()\n",
        "tp_list = np.vstack(candles_np[:, 0]).tolist()\n",
        "\n",
        "for idx, timestamp in enumerate(timestamp_list):\n",
        "    if timestamp == entries_list_df[0][0]:\n",
        "        current_entry = entries_list_df[0]\n",
        "        entries_list[idx] = [current_entry[0], current_entry[2]]\n",
        "        sl_list[idx] = [current_entry[0], current_entry[4]]\n",
        "        tp_list[idx] = [current_entry[0], current_entry[5]]\n",
        "        del entries_list_df[0]\n",
        "        if len(entries_list_df) == 0:\n",
        "            break\n",
        "data['entries'] = entries_list\n",
        "data[\"sl_prices\"]= sl_list\n",
        "data[\"tp_prices\"]= tp_list"
      ]
    },
    {
      "cell_type": "code",
      "execution_count": null,
      "metadata": {},
      "outputs": [],
      "source": [
        "temp_sl_filled_df = order_records_df[[\"order_status\", \"timestamp\", \"exit_price\"]]\n",
        "sl_filled_df = temp_sl_filled_df[temp_sl_filled_df[\"order_status\"] == \"StopLossFilled\"]\n",
        "sl_filled_list_df = sl_filled_df.values[:, 1:].tolist()\n",
        "filled_sl_list = np.vstack(candles_np[:, 0]).tolist()\n",
        "\n",
        "for idx, timestamp in enumerate(timestamp_list):\n",
        "    if timestamp == sl_filled_list_df[0][0]:\n",
        "        filled_sl_list[idx] = sl_filled_list_df[0]\n",
        "        del sl_filled_list_df[0]\n",
        "        if len(sl_filled_list_df) == 0:\n",
        "            break\n",
        "data[\"sl_filled\"] = filled_sl_list"
      ]
    },
    {
      "cell_type": "code",
      "execution_count": null,
      "metadata": {},
      "outputs": [],
      "source": [
        "temp_tp_filled_df = order_records_df[[\"order_status\", \"timestamp\", \"exit_price\"]]\n",
        "tp_filled_df = temp_tp_filled_df[temp_tp_filled_df[\"order_status\"] == \"TakeProfitFilled\"]\n",
        "tp_filled_list_df = tp_filled_df.values[:, 1:].tolist()\n",
        "filled_tp_list = np.vstack(candles_np[:, 0]).tolist()\n",
        "\n",
        "for idx, timestamp in enumerate(timestamp_list):\n",
        "    if timestamp == tp_filled_list_df[0][0]:\n",
        "        filled_tp_list[idx] = tp_filled_list_df[0]\n",
        "        del tp_filled_list_df[0]\n",
        "        if len(tp_filled_list_df) == 0:\n",
        "            break\n",
        "data[\"tp_filled\"] = filled_tp_list"
      ]
    },
    {
      "cell_type": "code",
      "execution_count": null,
      "metadata": {},
      "outputs": [],
      "source": [
        "res = requests.post(\"http://127.0.0.1:7779/plot\", json=data)\n",
        "\n",
        "# Convert response data to json\n",
        "returned_data = res.json()\n",
        "\n",
        "print(returned_data)"
      ]
    }
  ],
  "metadata": {
    "kernelspec": {
      "display_name": "qfFree",
      "language": "python",
      "name": "python3"
    },
    "language_info": {
      "codemirror_mode": {
        "name": "ipython",
        "version": 3
      },
      "file_extension": ".py",
      "mimetype": "text/x-python",
      "name": "python",
      "nbconvert_exporter": "python",
      "pygments_lexer": "ipython3",
      "version": "3.10.10"
    },
    "orig_nbformat": 4
  },
  "nbformat": 4,
  "nbformat_minor": 2
}
