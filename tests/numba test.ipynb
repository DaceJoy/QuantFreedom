{
  "cells": [
    {
      "cell_type": "code",
      "execution_count": 3,
      "metadata": {},
      "outputs": [
        {
          "name": "stdout",
          "output_type": "stream",
          "text": [
            "The autoreload extension is already loaded. To reload it, use:\n",
            "  %reload_ext autoreload\n"
          ]
        }
      ],
      "source": [
        "import numpy as np\n",
        "from numba import int32, float32    # import the types\n",
        "from numba.experimental import jitclass\n",
        "%load_ext autoreload\n",
        "%autoreload 2"
      ]
    },
    {
      "cell_type": "code",
      "execution_count": 4,
      "metadata": {},
      "outputs": [],
      "source": [
        "spec = [\n",
        "    ('value', int32),               # a simple scalar field\n",
        "    ('array', float32[:]),          # an array field\n",
        "]\n",
        "\n",
        "@jitclass(spec)\n",
        "class Bag(object):\n",
        "    def __init__(self, value):\n",
        "        self.value = value\n",
        "        self.array = np.zeros(value, dtype=np.float32)\n",
        "\n",
        "    @property\n",
        "    def size(self):\n",
        "        return self.array.size\n",
        "\n",
        "    def increment(self, val):\n",
        "        for i in range(self.size):\n",
        "            self.array[i] += val\n",
        "        return self.array\n",
        "\n",
        "    @staticmethod\n",
        "    def add(x, y):\n",
        "        return x + y\n",
        "\n",
        "n = 21\n",
        "mybag = Bag(n)"
      ]
    },
    {
      "cell_type": "code",
      "execution_count": 10,
      "metadata": {},
      "outputs": [
        {
          "data": {
            "text/plain": [
              "21"
            ]
          },
          "execution_count": 10,
          "metadata": {},
          "output_type": "execute_result"
        }
      ],
      "source": [
        "len(mybag.increment(4))"
      ]
    }
  ],
  "metadata": {
    "kernelspec": {
      "display_name": "qfFree",
      "language": "python",
      "name": "python3"
    },
    "language_info": {
      "codemirror_mode": {
        "name": "ipython",
        "version": 3
      },
      "file_extension": ".py",
      "mimetype": "text/x-python",
      "name": "python",
      "nbconvert_exporter": "python",
      "pygments_lexer": "ipython3",
      "version": "3.10.10"
    },
    "orig_nbformat": 4
  },
  "nbformat": 4,
  "nbformat_minor": 2
}
