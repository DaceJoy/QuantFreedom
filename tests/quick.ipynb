{
  "cells": [
    {
      "cell_type": "code",
      "execution_count": 1,
      "metadata": {},
      "outputs": [],
      "source": [
        "import numpy as np\n",
        "import pandas as pd\n",
        "from numba import njit\n",
        "from my_stuff import MufexKeys\n",
        "from quantfreedom.enums import *\n",
        "from quantfreedom.exchanges.mufex_exchange.mufex import Mufex\n",
        "from quantfreedom.indicators.indicators import *\n",
        "from quantfreedom.plotting.plot_funcs import plot_candles_1_ind_dif_pane, plot_candles_1_ind_same_pane\n",
        "from quantfreedom.exchanges.exchange import Exchange\n",
        "np.set_printoptions(formatter={\"float_kind\": \"{:0.4f}\".format})\n",
        "from my_stuff import MufexTestKeys\n",
        "\n",
        "\n",
        "mufex_test = Mufex(api_key=MufexTestKeys.api_key, secret_key=MufexTestKeys.secret_key, use_test_net=True,)\n",
        "mufex_main = Mufex(\n",
        "    api_key=MufexKeys.api_key,\n",
        "    secret_key=MufexKeys.secret_key,\n",
        "    use_test_net=False,\n",
        ")\n",
        "\n",
        "%load_ext autoreload\n",
        "%autoreload 2"
      ]
    },
    {
      "cell_type": "code",
      "execution_count": null,
      "metadata": {},
      "outputs": [],
      "source": [
        "candles = mufex_main.get_candles(symbol=\"BTCUSDT\", timeframe=\"5m\", candles_to_dl=200)\n",
        "open = candles[:1]\n",
        "high = candles[:, 2]\n",
        "low = candles[:, 3]\n",
        "close = candles[:, 4]\n",
        "close_shift = np.roll(candles[:, 4],1)"
      ]
    }
  ],
  "metadata": {
    "kernelspec": {
      "display_name": "qfFree",
      "language": "python",
      "name": "python3"
    },
    "language_info": {
      "codemirror_mode": {
        "name": "ipython",
        "version": 3
      },
      "file_extension": ".py",
      "mimetype": "text/x-python",
      "name": "python",
      "nbconvert_exporter": "python",
      "pygments_lexer": "ipython3",
      "version": "3.10.10"
    },
    "orig_nbformat": 4
  },
  "nbformat": 4,
  "nbformat_minor": 2
}
