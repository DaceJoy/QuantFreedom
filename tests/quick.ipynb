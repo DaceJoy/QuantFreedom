{
  "cells": [
    {
      "cell_type": "code",
      "execution_count": 1,
      "metadata": {},
      "outputs": [],
      "source": [
        "import numpy as np\n",
        "import pandas as pd\n",
        "pd.options.plotting.backend = 'plotly'\n",
        "from my_stuff import MufexKeys\n",
        "from quantfreedom.enums import *\n",
        "from quantfreedom.exchanges.mufex_exchange.mufex import Mufex\n",
        "from numba import njit\n",
        "mufex_main = Mufex(\n",
        "    api_key=MufexKeys.api_key,\n",
        "    secret_key=MufexKeys.secret_key,\n",
        "    use_test_net=False,\n",
        ")\n",
        "\n",
        "%load_ext autoreload\n",
        "%autoreload 2"
      ]
    },
    {
      "cell_type": "code",
      "execution_count": 2,
      "metadata": {},
      "outputs": [
        {
          "name": "stdout",
          "output_type": "stream",
          "text": [
            "It took 00 mins and 01 seconds to download 200 candles\n"
          ]
        }
      ],
      "source": [
        "candles = mufex_main.get_candles(symbol=\"BTCUSDT\", timeframe='5m', candles_to_dl=200)"
      ]
    }
  ],
  "metadata": {
    "kernelspec": {
      "display_name": "qfFree",
      "language": "python",
      "name": "python3"
    },
    "language_info": {
      "codemirror_mode": {
        "name": "ipython",
        "version": 3
      },
      "file_extension": ".py",
      "mimetype": "text/x-python",
      "name": "python",
      "nbconvert_exporter": "python",
      "pygments_lexer": "ipython3",
      "version": "3.10.10"
    },
    "orig_nbformat": 4
  },
  "nbformat": 4,
  "nbformat_minor": 2
}
