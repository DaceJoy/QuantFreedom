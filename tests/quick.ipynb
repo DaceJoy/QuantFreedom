{
  "cells": [
    {
      "cell_type": "code",
      "execution_count": 1,
      "metadata": {},
      "outputs": [],
      "source": [
        "import numpy as np\n",
        "import pandas as pd\n",
        "from my_stuff import MufexKeys\n",
        "from quantfreedom.exchanges.mufex_exchange.mufex import Mufex\n",
        "from quantfreedom.indicators.tv_indicators import *\n",
        "from quantfreedom.plotting.plotting_base import *\n",
        "from quantfreedom.exchanges.exchange import Exchange\n",
        "from quantfreedom.helper_funcs import dl_ex_candles, candles_to_df\n",
        "np.set_printoptions(formatter={\"float_kind\": \"{:0.2f}\".format})\n",
        "\n",
        "mufex_main = Mufex(use_test_net=False)\n",
        "\n",
        "%load_ext autoreload\n",
        "%autoreload 2"
      ]
    },
    {
      "cell_type": "code",
      "execution_count": 2,
      "metadata": {},
      "outputs": [
        {
          "ename": "Exception",
          "evalue": "Apex get_candles - > (451, 0, \"Service unavailable from a restricted location according to 'b. Eligibility' in https://www.binance.com/en/terms. Please contact customer service if you believe you received this message in error.\", {'Server': 'awselb/2.0', 'Date': 'Mon, 13 Nov 2023 02:22:02 GMT', 'Content-Length': '224', 'Connection': 'keep-alive', 'Content-Type': 'application/json'})",
          "output_type": "error",
          "traceback": [
            "\u001b[1;31m---------------------------------------------------------------------------\u001b[0m",
            "\u001b[1;31mClientError\u001b[0m                               Traceback (most recent call last)",
            "File \u001b[1;32mE:\\Coding\\backtesters\\QuantFreedom\\quantfreedom\\exchanges\\binance_exchange\\binance_usdm.py:106\u001b[0m, in \u001b[0;36mBinanceUSDM.get_candles\u001b[1;34m(self, symbol, timeframe, since_date_ms, until_date_ms, candles_to_dl)\u001b[0m\n\u001b[0;32m    105\u001b[0m \u001b[39mtry\u001b[39;00m:\n\u001b[1;32m--> 106\u001b[0m     b_data \u001b[39m=\u001b[39m \u001b[39mself\u001b[39;49m\u001b[39m.\u001b[39;49mbinance_ex\u001b[39m.\u001b[39;49mklines(\n\u001b[0;32m    107\u001b[0m         symbol\u001b[39m=\u001b[39;49msymbol,\n\u001b[0;32m    108\u001b[0m         interval\u001b[39m=\u001b[39;49mex_timeframe,\n\u001b[0;32m    109\u001b[0m         startTime\u001b[39m=\u001b[39;49msince_date_ms,\n\u001b[0;32m    110\u001b[0m         endTime\u001b[39m=\u001b[39;49muntil_date_ms,\n\u001b[0;32m    111\u001b[0m         limit\u001b[39m=\u001b[39;49m\u001b[39m1500\u001b[39;49m,\n\u001b[0;32m    112\u001b[0m     )\n\u001b[0;32m    113\u001b[0m     last_candle_time_ms \u001b[39m=\u001b[39m b_data[\u001b[39m-\u001b[39m\u001b[39m1\u001b[39m][\u001b[39m0\u001b[39m]\n",
            "File \u001b[1;32mE:\\Coding\\backtesters\\QuantFreedom\\quantfreedom\\exchanges\\binance_exchange\\binance_github\\usdm_futures\\um_futures\\market.py:147\u001b[0m, in \u001b[0;36mklines\u001b[1;34m(self, symbol, interval, **kwargs)\u001b[0m\n\u001b[0;32m    146\u001b[0m params \u001b[39m=\u001b[39m {\u001b[39m\"\u001b[39m\u001b[39msymbol\u001b[39m\u001b[39m\"\u001b[39m: symbol, \u001b[39m\"\u001b[39m\u001b[39minterval\u001b[39m\u001b[39m\"\u001b[39m: interval, \u001b[39m*\u001b[39m\u001b[39m*\u001b[39mkwargs}\n\u001b[1;32m--> 147\u001b[0m \u001b[39mreturn\u001b[39;00m \u001b[39mself\u001b[39;49m\u001b[39m.\u001b[39;49mquery(\u001b[39m\"\u001b[39;49m\u001b[39m/fapi/v1/klines\u001b[39;49m\u001b[39m\"\u001b[39;49m, params)\n",
            "File \u001b[1;32mE:\\Coding\\backtesters\\QuantFreedom\\quantfreedom\\exchanges\\binance_exchange\\binance_github\\usdm_futures\\api.py:72\u001b[0m, in \u001b[0;36mAPI.query\u001b[1;34m(self, url_path, payload)\u001b[0m\n\u001b[0;32m     71\u001b[0m \u001b[39mdef\u001b[39;00m \u001b[39mquery\u001b[39m(\u001b[39mself\u001b[39m, url_path, payload\u001b[39m=\u001b[39m\u001b[39mNone\u001b[39;00m):\n\u001b[1;32m---> 72\u001b[0m     \u001b[39mreturn\u001b[39;00m \u001b[39mself\u001b[39;49m\u001b[39m.\u001b[39;49msend_request(\u001b[39m\"\u001b[39;49m\u001b[39mGET\u001b[39;49m\u001b[39m\"\u001b[39;49m, url_path, payload\u001b[39m=\u001b[39;49mpayload)\n",
            "File \u001b[1;32mE:\\Coding\\backtesters\\QuantFreedom\\quantfreedom\\exchanges\\binance_exchange\\binance_github\\usdm_futures\\api.py:119\u001b[0m, in \u001b[0;36mAPI.send_request\u001b[1;34m(self, http_method, url_path, payload, special)\u001b[0m\n\u001b[0;32m    118\u001b[0m logging\u001b[39m.\u001b[39mdebug(\u001b[39m\"\u001b[39m\u001b[39mraw response from server:\u001b[39m\u001b[39m\"\u001b[39m \u001b[39m+\u001b[39m response\u001b[39m.\u001b[39mtext)\n\u001b[1;32m--> 119\u001b[0m \u001b[39mself\u001b[39;49m\u001b[39m.\u001b[39;49m_handle_exception(response)\n\u001b[0;32m    121\u001b[0m \u001b[39mtry\u001b[39;00m:\n",
            "File \u001b[1;32mE:\\Coding\\backtesters\\QuantFreedom\\quantfreedom\\exchanges\\binance_exchange\\binance_github\\usdm_futures\\api.py:173\u001b[0m, in \u001b[0;36mAPI._handle_exception\u001b[1;34m(self, response)\u001b[0m\n\u001b[0;32m    172\u001b[0m         \u001b[39mraise\u001b[39;00m ClientError(status_code, \u001b[39mNone\u001b[39;00m, response\u001b[39m.\u001b[39mtext, response\u001b[39m.\u001b[39mheaders)\n\u001b[1;32m--> 173\u001b[0m     \u001b[39mraise\u001b[39;00m ClientError(status_code, err[\u001b[39m\"\u001b[39m\u001b[39mcode\u001b[39m\u001b[39m\"\u001b[39m], err[\u001b[39m\"\u001b[39m\u001b[39mmsg\u001b[39m\u001b[39m\"\u001b[39m], response\u001b[39m.\u001b[39mheaders)\n\u001b[0;32m    174\u001b[0m \u001b[39mraise\u001b[39;00m ServerError(status_code, response\u001b[39m.\u001b[39mtext)\n",
            "\u001b[1;31mClientError\u001b[0m: (451, 0, \"Service unavailable from a restricted location according to 'b. Eligibility' in https://www.binance.com/en/terms. Please contact customer service if you believe you received this message in error.\", {'Server': 'awselb/2.0', 'Date': 'Mon, 13 Nov 2023 02:22:02 GMT', 'Content-Length': '224', 'Connection': 'keep-alive', 'Content-Type': 'application/json'})",
            "\nDuring handling of the above exception, another exception occurred:\n",
            "\u001b[1;31mException\u001b[0m                                 Traceback (most recent call last)",
            "\u001b[1;32me:\\Coding\\backtesters\\QuantFreedom\\tests\\quick.ipynb Cell 2\u001b[0m line \u001b[0;36m1\n\u001b[1;32m----> <a href='vscode-notebook-cell:/e%3A/Coding/backtesters/QuantFreedom/tests/quick.ipynb#W1sZmlsZQ%3D%3D?line=0'>1</a>\u001b[0m candles \u001b[39m=\u001b[39m dl_ex_candles(exchange\u001b[39m=\u001b[39;49m\u001b[39m\"\u001b[39;49m\u001b[39mbinance_usdm\u001b[39;49m\u001b[39m\"\u001b[39;49m, symbol\u001b[39m=\u001b[39;49m\u001b[39m\"\u001b[39;49m\u001b[39mBTCUSDT\u001b[39;49m\u001b[39m\"\u001b[39;49m, timeframe\u001b[39m=\u001b[39;49m\u001b[39m\"\u001b[39;49m\u001b[39m1h\u001b[39;49m\u001b[39m\"\u001b[39;49m, candles_to_dl\u001b[39m=\u001b[39;49m\u001b[39m200\u001b[39;49m)\n\u001b[0;32m      <a href='vscode-notebook-cell:/e%3A/Coding/backtesters/QuantFreedom/tests/quick.ipynb#W1sZmlsZQ%3D%3D?line=1'>2</a>\u001b[0m \u001b[39mopen\u001b[39m \u001b[39m=\u001b[39m candles[:, \u001b[39m1\u001b[39m]\n\u001b[0;32m      <a href='vscode-notebook-cell:/e%3A/Coding/backtesters/QuantFreedom/tests/quick.ipynb#W1sZmlsZQ%3D%3D?line=2'>3</a>\u001b[0m high \u001b[39m=\u001b[39m candles[:, \u001b[39m2\u001b[39m]\n",
            "File \u001b[1;32mE:\\Coding\\backtesters\\QuantFreedom\\quantfreedom\\helper_funcs.py:29\u001b[0m, in \u001b[0;36mdl_ex_candles\u001b[1;34m(symbol, exchange, timeframe, since_date_ms, until_date_ms, candles_to_dl)\u001b[0m\n\u001b[0;32m     22\u001b[0m \u001b[39m\u001b[39m\u001b[39m\"\"\"\u001b[39;00m\n\u001b[0;32m     23\u001b[0m \u001b[39mexchange param\u001b[39;00m\n\u001b[0;32m     24\u001b[0m \u001b[39m    binance futures = binance_usdm | default candles to dl is 1500\u001b[39;00m\n\u001b[0;32m     25\u001b[0m \u001b[39m    apex = apex | default candles to dl is 200\u001b[39;00m\n\u001b[0;32m     26\u001b[0m \u001b[39m    mufex = mufex | default candles to dl is 1500\u001b[39;00m\n\u001b[0;32m     27\u001b[0m \u001b[39m\"\"\"\u001b[39;00m\n\u001b[0;32m     28\u001b[0m \u001b[39mif\u001b[39;00m exchange\u001b[39m.\u001b[39mlower() \u001b[39m==\u001b[39m \u001b[39m\"\u001b[39m\u001b[39mbinance_usdm\u001b[39m\u001b[39m\"\u001b[39m:\n\u001b[1;32m---> 29\u001b[0m     \u001b[39mreturn\u001b[39;00m BinanceUSDM(use_test_net\u001b[39m=\u001b[39;49m\u001b[39mFalse\u001b[39;49;00m)\u001b[39m.\u001b[39;49mget_candles(\n\u001b[0;32m     30\u001b[0m         symbol\u001b[39m=\u001b[39;49msymbol,\n\u001b[0;32m     31\u001b[0m         timeframe\u001b[39m=\u001b[39;49mtimeframe,\n\u001b[0;32m     32\u001b[0m         since_date_ms\u001b[39m=\u001b[39;49msince_date_ms,\n\u001b[0;32m     33\u001b[0m         until_date_ms\u001b[39m=\u001b[39;49muntil_date_ms,\n\u001b[0;32m     34\u001b[0m         candles_to_dl\u001b[39m=\u001b[39;49m\u001b[39m1500\u001b[39;49m \u001b[39mif\u001b[39;49;00m candles_to_dl \u001b[39mis\u001b[39;49;00m \u001b[39mNone\u001b[39;49;00m \u001b[39melse\u001b[39;49;00m candles_to_dl,\n\u001b[0;32m     35\u001b[0m     )\n\u001b[0;32m     36\u001b[0m \u001b[39melif\u001b[39;00m exchange\u001b[39m.\u001b[39mlower() \u001b[39m==\u001b[39m \u001b[39m\"\u001b[39m\u001b[39mapex\u001b[39m\u001b[39m\"\u001b[39m:\n\u001b[0;32m     37\u001b[0m     \u001b[39mreturn\u001b[39;00m Apex(use_test_net\u001b[39m=\u001b[39m\u001b[39mFalse\u001b[39;00m)\u001b[39m.\u001b[39mget_candles(\n\u001b[0;32m     38\u001b[0m         symbol\u001b[39m=\u001b[39msymbol,\n\u001b[0;32m     39\u001b[0m         timeframe\u001b[39m=\u001b[39mtimeframe,\n\u001b[1;32m   (...)\u001b[0m\n\u001b[0;32m     42\u001b[0m         candles_to_dl\u001b[39m=\u001b[39m\u001b[39m200\u001b[39m \u001b[39mif\u001b[39;00m candles_to_dl \u001b[39mis\u001b[39;00m \u001b[39mNone\u001b[39;00m \u001b[39melse\u001b[39;00m candles_to_dl,\n\u001b[0;32m     43\u001b[0m     )\n",
            "File \u001b[1;32mE:\\Coding\\backtesters\\QuantFreedom\\quantfreedom\\exchanges\\binance_exchange\\binance_usdm.py:120\u001b[0m, in \u001b[0;36mBinanceUSDM.get_candles\u001b[1;34m(self, symbol, timeframe, since_date_ms, until_date_ms, candles_to_dl)\u001b[0m\n\u001b[0;32m    118\u001b[0m             since_date_ms \u001b[39m=\u001b[39m last_candle_time_ms \u001b[39m+\u001b[39m \u001b[39m2000\u001b[39m\n\u001b[0;32m    119\u001b[0m     \u001b[39mexcept\u001b[39;00m \u001b[39mException\u001b[39;00m \u001b[39mas\u001b[39;00m e:\n\u001b[1;32m--> 120\u001b[0m         \u001b[39mraise\u001b[39;00m \u001b[39mException\u001b[39;00m(\u001b[39mf\u001b[39m\u001b[39m\"\u001b[39m\u001b[39mApex get_candles - > \u001b[39m\u001b[39m{\u001b[39;00me\u001b[39m}\u001b[39;00m\u001b[39m\"\u001b[39m)\n\u001b[0;32m    121\u001b[0m candles_np \u001b[39m=\u001b[39m np\u001b[39m.\u001b[39marray(b_candles, dtype\u001b[39m=\u001b[39mnp\u001b[39m.\u001b[39mfloat_)[:, :\u001b[39m5\u001b[39m]\n\u001b[0;32m    122\u001b[0m \u001b[39mreturn\u001b[39;00m candles_np\n",
            "\u001b[1;31mException\u001b[0m: Apex get_candles - > (451, 0, \"Service unavailable from a restricted location according to 'b. Eligibility' in https://www.binance.com/en/terms. Please contact customer service if you believe you received this message in error.\", {'Server': 'awselb/2.0', 'Date': 'Mon, 13 Nov 2023 02:22:02 GMT', 'Content-Length': '224', 'Connection': 'keep-alive', 'Content-Type': 'application/json'})"
          ]
        }
      ],
      "source": [
        "candles = dl_ex_candles(exchange=\"binance_usdm\", symbol=\"BTCUSDT\", timeframe=\"1h\", candles_to_dl=200)\n",
        "open = candles[:, 1]\n",
        "high = candles[:, 2]\n",
        "low = candles[:, 3]\n",
        "close = candles[:, 4]\n",
        "close_shift = np.roll(candles[:, 4], 1)"
      ]
    },
    {
      "cell_type": "code",
      "execution_count": null,
      "metadata": {},
      "outputs": [],
      "source": [
        "candles_to_df(candles)"
      ]
    },
    {
      "cell_type": "code",
      "execution_count": null,
      "metadata": {},
      "outputs": [],
      "source": [
        "stdev = stdev_tv_calc(source=close, length=50)"
      ]
    },
    {
      "cell_type": "code",
      "execution_count": null,
      "metadata": {},
      "outputs": [],
      "source": [
        "stdev"
      ]
    },
    {
      "cell_type": "code",
      "execution_count": null,
      "metadata": {},
      "outputs": [],
      "source": [
        "np.where(~np.isnan(rsi_tv_calc(source=close, length=14)))"
      ]
    },
    {
      "cell_type": "code",
      "execution_count": null,
      "metadata": {},
      "outputs": [],
      "source": [
        "rsi_tv_calc(source=close, length=14)"
      ]
    },
    {
      "cell_type": "code",
      "execution_count": null,
      "metadata": {},
      "outputs": [],
      "source": [
        "stdev_tv_calc(source=rsi_tv_calc(source=close, length=14), length=20)"
      ]
    },
    {
      "cell_type": "code",
      "execution_count": null,
      "metadata": {},
      "outputs": [],
      "source": [
        "macd_tv_calc(source=close)"
      ]
    }
  ],
  "metadata": {
    "kernelspec": {
      "display_name": "qfFree",
      "language": "python",
      "name": "python3"
    },
    "language_info": {
      "codemirror_mode": {
        "name": "ipython",
        "version": 3
      },
      "file_extension": ".py",
      "mimetype": "text/x-python",
      "name": "python",
      "nbconvert_exporter": "python",
      "pygments_lexer": "ipython3",
      "version": "3.10.10"
    },
    "orig_nbformat": 4
  },
  "nbformat": 4,
  "nbformat_minor": 2
}
