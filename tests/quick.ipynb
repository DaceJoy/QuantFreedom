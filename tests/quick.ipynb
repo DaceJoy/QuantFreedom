{
  "cells": [
    {
      "cell_type": "code",
      "execution_count": 3,
      "metadata": {},
      "outputs": [],
      "source": [
        "import os\n",
        "import sys\n",
        "\n",
        "sys.dont_write_bytecode = True\n",
        "os.environ[\"NUMBA_DISABLE_JIT\"] = \"1\"\n",
        "os.environ[\"NUMBA_DEBUG_CACHE\"] = \"1\""
      ]
    },
    {
      "cell_type": "code",
      "execution_count": 4,
      "metadata": {},
      "outputs": [
        {
          "name": "stdout",
          "output_type": "stream",
          "text": [
            "The autoreload extension is already loaded. To reload it, use:\n",
            "  %reload_ext autoreload\n"
          ]
        }
      ],
      "source": [
        "import numpy as np\n",
        "import pandas as pd\n",
        "from my_stuff import BinanceFuturesTestKeys\n",
        "from requests import get\n",
        "from quantfreedom.enums import *\n",
        "from quantfreedom.exchanges.binance_exchange.binance_futures import BinanceFutures\n",
        "\n",
        "# mufex_main = Mufex(\n",
        "#     api_key=MufexKeys.api_key,\n",
        "#     secret_key=MufexKeys.secret_key,\n",
        "#     use_test_net=False,\n",
        "# )\n",
        "\n",
        "binance_futures_test = BinanceFutures(\n",
        "    api_key=BinanceFuturesTestKeys.api_key,\n",
        "    secret_key=BinanceFuturesTestKeys.secret_key,\n",
        "    use_test_net=True,\n",
        ")\n",
        "\n",
        "%load_ext autoreload\n",
        "%autoreload 2\n"
      ]
    },
    {
      "cell_type": "code",
      "execution_count": 38,
      "metadata": {},
      "outputs": [
        {
          "data": {
            "text/plain": [
              "{'code': 0,\n",
              " 'msg': \"Service unavailable from a restricted location according to 'b. Eligibility' in https://www.binance.com/en/terms. Please contact customer service if you believe you received this message in error.\"}"
            ]
          },
          "execution_count": 38,
          "metadata": {},
          "output_type": "execute_result"
        }
      ],
      "source": [
        "symbol = \"BTCUSDT\"\n",
        "binance_futures_timeframe = \"4m\"\n",
        "\n",
        "params = {\n",
        "    \"symbol\": symbol,\n",
        "    \"interval\": binance_futures_timeframe,\n",
        "    \"limit\": 2,\n",
        "}\n",
        "url_start = \"https://fapi.binance.com\"\n",
        "end_point = \"/fapi/v1/klines\"\n",
        "entries = params.items()\n",
        "params_as_path = \"&\".join(\"{key}={value}\".format(\n",
        "    key=x[0], value=x[1]) for x in entries if x[1] is not None)\n",
        "\n",
        "get(url=url_start + end_point + \"?\" + params_as_path).json()"
      ]
    },
    {
      "cell_type": "code",
      "execution_count": 37,
      "metadata": {},
      "outputs": [
        {
          "ename": "ValueError",
          "evalue": "'4m' is not in list",
          "output_type": "error",
          "traceback": [
            "\u001b[1;31m---------------------------------------------------------------------------\u001b[0m",
            "\u001b[1;31mValueError\u001b[0m                                Traceback (most recent call last)",
            "\u001b[1;32me:\\Coding\\backtesters\\QuantFreedom\\tests\\quick.ipynb Cell 4\u001b[0m line \u001b[0;36m4\n\u001b[0;32m      <a href='vscode-notebook-cell:/e%3A/Coding/backtesters/QuantFreedom/tests/quick.ipynb#W4sZmlsZQ%3D%3D?line=0'>1</a>\u001b[0m symbol \u001b[39m=\u001b[39m \u001b[39m\"\u001b[39m\u001b[39mBTCUSDT\u001b[39m\u001b[39m\"\u001b[39m\n\u001b[0;32m      <a href='vscode-notebook-cell:/e%3A/Coding/backtesters/QuantFreedom/tests/quick.ipynb#W4sZmlsZQ%3D%3D?line=1'>2</a>\u001b[0m binance_futures_timeframe \u001b[39m=\u001b[39m \u001b[39m\"\u001b[39m\u001b[39m4m\u001b[39m\u001b[39m\"\u001b[39m\n\u001b[1;32m----> <a href='vscode-notebook-cell:/e%3A/Coding/backtesters/QuantFreedom/tests/quick.ipynb#W4sZmlsZQ%3D%3D?line=3'>4</a>\u001b[0m binance_futures_test\u001b[39m.\u001b[39;49mget_candles_main_no_keys(symbol\u001b[39m=\u001b[39;49msymbol, timeframe\u001b[39m=\u001b[39;49mbinance_futures_timeframe, limit\u001b[39m=\u001b[39;49m\u001b[39m5\u001b[39;49m)\n",
            "File \u001b[1;32mE:\\Coding\\backtesters\\QuantFreedom\\quantfreedom\\exchanges\\binance_exchange\\binance_futures.py:218\u001b[0m, in \u001b[0;36mBinanceFutures.get_candles_main_no_keys\u001b[1;34m(self, symbol, timeframe, since_date_ms, until_date_ms, candles_to_dl, limit)\u001b[0m\n\u001b[0;32m    184\u001b[0m \u001b[39mdef\u001b[39;00m \u001b[39mget_candles_main_no_keys\u001b[39m(\n\u001b[0;32m    185\u001b[0m     \u001b[39mself\u001b[39m,\n\u001b[0;32m    186\u001b[0m     symbol: \u001b[39mstr\u001b[39m,\n\u001b[1;32m   (...)\u001b[0m\n\u001b[0;32m    191\u001b[0m     limit: \u001b[39mint\u001b[39m \u001b[39m=\u001b[39m \u001b[39m1500\u001b[39m,\n\u001b[0;32m    192\u001b[0m ):\n\u001b[0;32m    193\u001b[0m \u001b[39m    \u001b[39m\u001b[39m\"\"\"\u001b[39;00m\n\u001b[0;32m    194\u001b[0m \u001b[39m    https://binance-docs.github.io/apidocs/futures/en/#kline-candlestick-data\u001b[39;00m\n\u001b[0;32m    195\u001b[0m \n\u001b[1;32m   (...)\u001b[0m\n\u001b[0;32m    216\u001b[0m \u001b[39m        use link to see all Request Parameters\u001b[39;00m\n\u001b[0;32m    217\u001b[0m \u001b[39m    \"\"\"\u001b[39;00m\n\u001b[1;32m--> 218\u001b[0m     binance_futures_timeframe \u001b[39m=\u001b[39m \u001b[39mself\u001b[39;49m\u001b[39m.\u001b[39;49m__get_binance_futures_timeframe(timeframe\u001b[39m=\u001b[39;49mtimeframe)\n\u001b[0;32m    219\u001b[0m     timeframe_in_ms \u001b[39m=\u001b[39m \u001b[39mself\u001b[39m\u001b[39m.\u001b[39mget_timeframe_in_ms(timeframe\u001b[39m=\u001b[39mtimeframe)\n\u001b[0;32m    220\u001b[0m     candles_to_dl_ms \u001b[39m=\u001b[39m \u001b[39mself\u001b[39m\u001b[39m.\u001b[39mget_candles_to_dl_in_ms(candles_to_dl, timeframe_in_ms\u001b[39m=\u001b[39mtimeframe_in_ms, limit\u001b[39m=\u001b[39mlimit)\n",
            "File \u001b[1;32mE:\\Coding\\backtesters\\QuantFreedom\\quantfreedom\\exchanges\\binance_exchange\\binance_futures.py:264\u001b[0m, in \u001b[0;36mBinanceFutures.__get_binance_futures_timeframe\u001b[1;34m(self, timeframe)\u001b[0m\n\u001b[0;32m    263\u001b[0m \u001b[39mdef\u001b[39;00m \u001b[39m__get_binance_futures_timeframe\u001b[39m(\u001b[39mself\u001b[39m, timeframe):\n\u001b[1;32m--> 264\u001b[0m     timeframe \u001b[39m=\u001b[39m BINANCE_FUTURES_TIMEFRAMES[UNIVERSAL_TIMEFRAMES\u001b[39m.\u001b[39;49mindex(timeframe)]\n\u001b[0;32m    265\u001b[0m     \u001b[39mreturn\u001b[39;00m timeframe\n",
            "\u001b[1;31mValueError\u001b[0m: '4m' is not in list"
          ]
        }
      ],
      "source": [
        "symbol = \"BTCUSDT\"\n",
        "binance_futures_timeframe = \"4m\"\n",
        "\n",
        "binance_futures_test.get_candles_main_no_keys(symbol=symbol, timeframe=binance_futures_timeframe, limit=5)"
      ]
    },
    {
      "cell_type": "code",
      "execution_count": 27,
      "metadata": {},
      "outputs": [
        {
          "data": {
            "text/plain": [
              "[[1698358500000,\n",
              "  '34179.10',\n",
              "  '34198',\n",
              "  '34169.30',\n",
              "  '34177.60',\n",
              "  '282.248',\n",
              "  1698358799999,\n",
              "  '9649287.42570',\n",
              "  7197,\n",
              "  '151.355',\n",
              "  '5174417.22950',\n",
              "  '0'],\n",
              " [1698358800000,\n",
              "  '34177.60',\n",
              "  '34184',\n",
              "  '34169',\n",
              "  '34171.20',\n",
              "  '82.958',\n",
              "  1698359099999,\n",
              "  '2835198.31840',\n",
              "  1377,\n",
              "  '29.817',\n",
              "  '1019015.68580',\n",
              "  '0']]"
            ]
          },
          "execution_count": 27,
          "metadata": {},
          "output_type": "execute_result"
        }
      ],
      "source": [
        "candles = []\n",
        "candles.appresponse)[:, :5]"
      ]
    }
  ],
  "metadata": {
    "kernelspec": {
      "display_name": "qfFree",
      "language": "python",
      "name": "python3"
    },
    "language_info": {
      "codemirror_mode": {
        "name": "ipython",
        "version": 3
      },
      "file_extension": ".py",
      "mimetype": "text/x-python",
      "name": "python",
      "nbconvert_exporter": "python",
      "pygments_lexer": "ipython3",
      "version": "3.10.10"
    },
    "orig_nbformat": 4
  },
  "nbformat": 4,
  "nbformat_minor": 2
}
