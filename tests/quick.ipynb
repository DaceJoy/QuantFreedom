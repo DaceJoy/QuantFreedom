{
  "cells": [
    {
      "cell_type": "code",
      "execution_count": 8,
      "metadata": {},
      "outputs": [
        {
          "name": "stdout",
          "output_type": "stream",
          "text": [
            "The autoreload extension is already loaded. To reload it, use:\n",
            "  %reload_ext autoreload\n"
          ]
        }
      ],
      "source": [
        "import numpy as np\n",
        "import pandas as pd\n",
        "from my_stuff import MufexKeys\n",
        "from quantfreedom.exchanges.mufex_exchange.mufex import Mufex\n",
        "from quantfreedom.indicators.tv_indicators import *\n",
        "from quantfreedom.plotting.plotting_base import *\n",
        "from quantfreedom.exchanges.exchange import Exchange\n",
        "from quantfreedom.helper_funcs import dl_ex_candles, candles_to_df\n",
        "np.set_printoptions(formatter={\"float_kind\": \"{:0.4f}\".format})\n",
        "import plotly.graph_objects as go\n",
        "from plotly.subplots import make_subplots\n",
        "from dash import Dash\n",
        "from dash_bootstrap_templates import load_figure_template\n",
        "from jupyter_dash import JupyterDash\n",
        "from IPython import get_ipython\n",
        "import dash_bootstrap_components as dbc\n",
        "\n",
        "load_figure_template(\"darkly\")\n",
        "dbc_css = \"https://cdn.jsdelivr.net/gh/AnnMarieW/dash-bootstrap-templates/dbc.min.css\"\n",
        "try:\n",
        "    shell = str(get_ipython())\n",
        "    if \"ZMQInteractiveShell\" in shell:\n",
        "        app = JupyterDash(__name__, external_stylesheets=[dbc.themes.DARKLY, dbc_css])\n",
        "    elif shell == \"TerminalInteractiveShell\":\n",
        "        app = JupyterDash(__name__, external_stylesheets=[dbc.themes.DARKLY, dbc_css])\n",
        "    else:\n",
        "        app = Dash(__name__, external_stylesheets=[dbc.themes.DARKLY, dbc_css])\n",
        "except NameError:\n",
        "    app = Dash(__name__, external_stylesheets=[dbc.themes.DARKLY, dbc_css])\n",
        "\n",
        "bg_color = \"#0b0b18\"\n",
        "\n",
        "mufex_main = Mufex(use_test_net=False)\n",
        "\n",
        "%load_ext autoreload\n",
        "%autoreload 2"
      ]
    },
    {
      "cell_type": "code",
      "execution_count": 9,
      "metadata": {},
      "outputs": [],
      "source": [
        "candles = dl_ex_candles(exchange=\"binance_usdm\", symbol=\"BTCUSDT\", timeframe=\"30m\", candles_to_dl=400)\n",
        "open = candles[:, 1]\n",
        "high = candles[:, 2]\n",
        "low = candles[:, 3]\n",
        "close = candles[:, 4]\n",
        "close_shift = np.roll(candles[:, 4], 1)"
      ]
    },
    {
      "cell_type": "code",
      "execution_count": 27,
      "metadata": {},
      "outputs": [],
      "source": [
        "source = close\n",
        "length = 50"
      ]
    },
    {
      "cell_type": "code",
      "execution_count": 24,
      "metadata": {},
      "outputs": [],
      "source": [
        "rsi = rsi_tv_calc(source=close, length=60)"
      ]
    },
    {
      "cell_type": "code",
      "execution_count": 31,
      "metadata": {},
      "outputs": [
        {
          "ename": "ValueError",
          "evalue": "operands could not be broadcast together with shapes (60,) (20,) ",
          "output_type": "error",
          "traceback": [
            "\u001b[1;31m---------------------------------------------------------------------------\u001b[0m",
            "\u001b[1;31mValueError\u001b[0m                                Traceback (most recent call last)",
            "\u001b[1;32me:\\Coding\\backtesters\\QuantFreedom\\tests\\quick.ipynb Cell 5\u001b[0m line \u001b[0;36m1\n\u001b[1;32m----> <a href='vscode-notebook-cell:/e%3A/Coding/backtesters/QuantFreedom/tests/quick.ipynb#X10sZmlsZQ%3D%3D?line=0'>1</a>\u001b[0m wma_tv_calc(source\u001b[39m=\u001b[39;49mrsi, length\u001b[39m=\u001b[39;49m\u001b[39m20\u001b[39;49m)\n",
            "File \u001b[1;32mE:\\Coding\\backtesters\\QuantFreedom\\quantfreedom\\indicators\\tv_indicators.py:101\u001b[0m, in \u001b[0;36mwma_tv_calc\u001b[1;34m(source, length)\u001b[0m\n\u001b[0;32m     99\u001b[0m looper \u001b[39m=\u001b[39m new_length \u001b[39m-\u001b[39m \u001b[39m1\u001b[39m\n\u001b[0;32m    100\u001b[0m \u001b[39mfor\u001b[39;00m i \u001b[39min\u001b[39;00m \u001b[39mrange\u001b[39m(new_length \u001b[39m-\u001b[39m \u001b[39m1\u001b[39m, source\u001b[39m.\u001b[39msize):\n\u001b[1;32m--> 101\u001b[0m     the_sum \u001b[39m=\u001b[39m (source[i \u001b[39m-\u001b[39;49m looper : i \u001b[39m+\u001b[39;49m \u001b[39m1\u001b[39;49m] \u001b[39m*\u001b[39;49m weight)\u001b[39m.\u001b[39msum()\n\u001b[0;32m    102\u001b[0m     wma[i] \u001b[39m=\u001b[39m the_sum \u001b[39m/\u001b[39m norm\n\u001b[0;32m    103\u001b[0m \u001b[39mreturn\u001b[39;00m wma\n",
            "\u001b[1;31mValueError\u001b[0m: operands could not be broadcast together with shapes (60,) (20,) "
          ]
        }
      ],
      "source": [
        "wma_tv_calc(source=rsi, length=20)"
      ]
    },
    {
      "cell_type": "code",
      "execution_count": 26,
      "metadata": {},
      "outputs": [
        {
          "data": {
            "text/plain": [
              "60"
            ]
          },
          "execution_count": 26,
          "metadata": {},
          "output_type": "execute_result"
        }
      ],
      "source": [
        "max(source.size - arr.size, length)"
      ]
    }
  ],
  "metadata": {
    "kernelspec": {
      "display_name": "qfFree",
      "language": "python",
      "name": "python3"
    },
    "language_info": {
      "codemirror_mode": {
        "name": "ipython",
        "version": 3
      },
      "file_extension": ".py",
      "mimetype": "text/x-python",
      "name": "python",
      "nbconvert_exporter": "python",
      "pygments_lexer": "ipython3",
      "version": "3.10.10"
    },
    "orig_nbformat": 4
  },
  "nbformat": 4,
  "nbformat_minor": 2
}
