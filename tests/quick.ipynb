{
  "cells": [
    {
      "cell_type": "code",
      "execution_count": 1,
      "metadata": {},
      "outputs": [],
      "source": [
        "import numpy as np\n",
        "import pandas as pd\n",
        "pd.options.plotting.backend = 'plotly'\n",
        "from my_stuff import MufexKeys\n",
        "from quantfreedom.enums import *\n",
        "from quantfreedom.exchanges.mufex_exchange.mufex import Mufex\n",
        "from quantfreedom.indicators.indicators import ema_calc, rsi_calc\n",
        "from quantfreedom.exchanges.exchange import Exchange\n",
        "from numba import njit\n",
        "mufex_main = Mufex(\n",
        "    api_key=MufexKeys.api_key,\n",
        "    secret_key=MufexKeys.secret_key,\n",
        "    use_test_net=False,\n",
        ")\n",
        "\n",
        "%load_ext autoreload\n",
        "%autoreload 2"
      ]
    },
    {
      "cell_type": "code",
      "execution_count": 2,
      "metadata": {},
      "outputs": [
        {
          "name": "stdout",
          "output_type": "stream",
          "text": [
            "It took 00 mins and 01 seconds to download 300 candles\n"
          ]
        }
      ],
      "source": [
        "candles = mufex_main.get_candles(\n",
        "    symbol=\"BTCUSDT\", timeframe='5m', candles_to_dl=300)"
      ]
    },
    {
      "cell_type": "code",
      "execution_count": 3,
      "metadata": {},
      "outputs": [
        {
          "name": "stdout",
          "output_type": "stream",
          "text": [
            "It took 00 mins and 02 seconds to download 300 candles\n"
          ]
        }
      ],
      "source": [
        "b_candles = Exchange(api_key='d', secret_key='s', use_test_net=False).get_binance_futures_candles(symbol='BTCUSDT', timeframe='5m', candles_to_dl=300)"
      ]
    },
    {
      "cell_type": "code",
      "execution_count": 4,
      "metadata": {},
      "outputs": [],
      "source": [
        "closes = candles[:,4]\n",
        "b_closes = b_candles[:,4]"
      ]
    },
    {
      "cell_type": "code",
      "execution_count": 6,
      "metadata": {},
      "outputs": [
        {
          "data": {
            "text/plain": [
              "array([    nan,     nan,     nan,     nan,     nan,     nan,     nan,\n",
              "           nan,     nan,     nan,     nan,     nan,     nan,     nan,\n",
              "       70.1243, 68.9809, 62.6044, 64.5907, 65.8271, 59.5446, 53.0821,\n",
              "       59.5768, 63.2341, 65.0184, 62.164 , 56.1511, 54.6476, 56.8037,\n",
              "       54.7787, 48.3771, 49.1209, 51.3003, 56.7993, 48.2934, 49.4892,\n",
              "       54.0412, 50.0209, 51.3651, 56.3913, 55.7678, 60.1132, 57.079 ,\n",
              "       59.2238, 54.5723, 54.9776, 57.0674, 60.6157, 54.5572, 54.013 ,\n",
              "       57.495 , 67.4209, 80.1479, 81.2807, 68.1506, 68.5046, 73.1384,\n",
              "       69.932 , 60.6869, 59.1405, 60.4459, 63.1444, 60.126 , 59.5625,\n",
              "       61.6007, 62.0359, 60.9938, 57.6182, 57.043 , 53.7515, 56.3998,\n",
              "       57.5846, 55.6747, 58.2828, 62.6204, 60.9924, 65.3079, 64.9065,\n",
              "       70.3529, 71.1767, 72.5183, 75.7115, 69.3498, 62.2358, 53.6538,\n",
              "       60.1715, 60.602 , 54.7007, 53.1951, 50.4782, 55.1046, 56.2394,\n",
              "       57.0192, 51.8363, 52.679 , 54.1662, 48.62  , 47.5163, 47.1235,\n",
              "       43.1535, 44.9585, 42.057 , 45.001 , 40.4029, 44.52  , 48.1249,\n",
              "       48.7227, 50.25  , 51.6039, 52.6199, 49.4175, 45.5623, 48.6713,\n",
              "       40.7737, 44.0726, 40.085 , 47.5224, 49.0175, 53.6327, 47.1222,\n",
              "       52.5226, 52.9251, 57.3221, 59.3895, 55.9945, 55.1186, 47.5715,\n",
              "       53.1671, 52.1201, 52.1201, 47.5394, 46.9467, 51.071 , 55.9927,\n",
              "       56.4301, 54.3524, 60.3304, 51.6349, 55.2482, 55.9389, 55.0635,\n",
              "       49.6954, 48.5031, 55.6261, 48.2048, 52.9291, 45.3737, 50.4183,\n",
              "       50.947 , 55.1527, 63.2891, 66.9444, 67.3468, 69.2238, 85.9821,\n",
              "       72.8368, 76.4327, 54.388 , 54.028 , 51.5664, 53.7703, 50.6337,\n",
              "       53.3489, 52.9373, 46.6389, 45.9235, 46.7537, 48.6538, 46.4871,\n",
              "       45.5975, 47.1578, 32.9721, 36.0165, 38.0358, 36.1915, 40.7229,\n",
              "       43.2215, 44.9106, 47.4814, 45.3028, 47.1043, 46.1541, 45.468 ,\n",
              "       45.4534, 47.5161, 55.829 , 48.9203, 52.9568, 57.1454, 52.405 ,\n",
              "       48.6139, 49.5601, 49.3157, 49.283 , 48.7259, 46.9057, 48.5302,\n",
              "       49.1789, 48.8368, 53.0572, 53.7417, 56.0901, 58.0867, 59.9444,\n",
              "       53.8872, 59.685 , 64.8928, 66.2379, 72.0107, 60.9324, 56.7956,\n",
              "       54.3995, 48.2076, 47.2619, 51.8145, 52.1893, 49.1044, 50.9976,\n",
              "       46.5705, 48.0553, 47.6021, 50.0194, 47.0295, 46.9351, 44.5731,\n",
              "       45.4482, 46.2051, 49.8575, 45.9797, 45.8658, 45.3518, 42.9718,\n",
              "       43.4228, 51.912 , 45.4993, 41.9885, 40.2744, 44.5065, 38.6381,\n",
              "       38.9911, 49.4052, 58.8366, 53.9627, 60.7946, 63.0263, 58.8119,\n",
              "       58.8528, 56.4105, 54.3701, 55.2671, 59.615 , 53.7401, 49.7892,\n",
              "       49.6478, 50.2866, 47.5928, 44.7437, 41.8746, 46.7436, 50.5733,\n",
              "       45.7768, 49.5221, 45.5962, 44.8419, 40.9931, 48.6826, 45.0141,\n",
              "       49.4078, 45.6254, 48.9791, 53.9938, 51.5192, 62.4532, 62.9545,\n",
              "       55.3619, 59.1708, 59.0489, 62.4818, 59.613 , 59.613 , 59.8318,\n",
              "       61.0929, 54.3661, 50.8702, 51.4414, 47.6315, 43.5246, 36.8967,\n",
              "       33.5662, 33.7284, 42.9824, 40.2405, 39.6325, 38.1909, 37.8077,\n",
              "       34.2104, 33.1626, 35.2511, 40.4011, 41.8121, 36.3403])"
            ]
          },
          "execution_count": 6,
          "metadata": {},
          "output_type": "execute_result"
        }
      ],
      "source": [
        "np.around(rsi_calc(closes, 14),4)"
      ]
    }
  ],
  "metadata": {
    "kernelspec": {
      "display_name": "qfFree",
      "language": "python",
      "name": "python3"
    },
    "language_info": {
      "codemirror_mode": {
        "name": "ipython",
        "version": 3
      },
      "file_extension": ".py",
      "mimetype": "text/x-python",
      "name": "python",
      "nbconvert_exporter": "python",
      "pygments_lexer": "ipython3",
      "version": "3.10.10"
    },
    "orig_nbformat": 4
  },
  "nbformat": 4,
  "nbformat_minor": 2
}
