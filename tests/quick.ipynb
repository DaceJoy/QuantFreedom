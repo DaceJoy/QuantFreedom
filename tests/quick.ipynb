{
  "cells": [
    {
      "cell_type": "code",
      "execution_count": 4,
      "metadata": {},
      "outputs": [
        {
          "name": "stdout",
          "output_type": "stream",
          "text": [
            "The autoreload extension is already loaded. To reload it, use:\n",
            "  %reload_ext autoreload\n"
          ]
        }
      ],
      "source": [
        "import numpy as np\n",
        "import pandas as pd\n",
        "from my_stuff import MufexKeys\n",
        "from quantfreedom.enums import *\n",
        "from quantfreedom.exchanges.mufex_exchange.mufex import Mufex\n",
        "from quantfreedom.indicators.tv_indicators import *\n",
        "from quantfreedom.plotting.plot_funcs import *\n",
        "from quantfreedom.exchanges.exchange import Exchange\n",
        "from my_stuff import MufexTestKeys, ApexTestKeys\n",
        "np.set_printoptions(formatter={\"float_kind\": \"{:0.1f}\".format})\n",
        "\n",
        "mufex_main = Mufex(use_test_net=False)\n",
        "\n",
        "%load_ext autoreload\n",
        "%autoreload 2"
      ]
    },
    {
      "cell_type": "code",
      "execution_count": 10,
      "metadata": {},
      "outputs": [
        {
          "name": "stdout",
          "output_type": "stream",
          "text": [
            "It took 00 mins and 01 seconds to download 400 candles\n"
          ]
        }
      ],
      "source": [
        "candles = mufex_main.get_candles(symbol=\"BTCUSDT\", timeframe=\"5m\", candles_to_dl=400)\n",
        "open = candles[:1]\n",
        "high = candles[:, 2]\n",
        "low = candles[:, 3]\n",
        "close = candles[:, 4]\n",
        "close_shift = np.roll(candles[:, 4],1)"
      ]
    },
    {
      "cell_type": "code",
      "execution_count": 11,
      "metadata": {},
      "outputs": [
        {
          "data": {
            "text/plain": [
              "array([[1699357500000.0, 34690.1, 34701.3, 34669.1, 34673.0],\n",
              "       [1699357800000.0, 34673.0, 34678.8, 34635.6, 34648.8],\n",
              "       [1699358100000.0, 34648.8, 34660.3, 34619.3, 34633.5],\n",
              "       ...,\n",
              "       [1699476600000.0, 35570.4, 35615.1, 35570.4, 35614.7],\n",
              "       [1699476900000.0, 35614.7, 35630.2, 35586.4, 35619.9],\n",
              "       [1699477200000.0, 35619.9, 35927.9, 35576.0, 35756.6]])"
            ]
          },
          "execution_count": 11,
          "metadata": {},
          "output_type": "execute_result"
        }
      ],
      "source": [
        "candles"
      ]
    },
    {
      "cell_type": "code",
      "execution_count": null,
      "metadata": {},
      "outputs": [],
      "source": [
        "bb = bb_sma_tv_calc(\n",
        "    source=close,\n",
        "    length=20,\n",
        "    multi=2,\n",
        ")"
      ]
    },
    {
      "cell_type": "code",
      "execution_count": 22,
      "metadata": {},
      "outputs": [],
      "source": [
        "from quantfreedom.exchanges.binance_exchange.binance_usdm import BinanceUSDM\n",
        "\n",
        "\n",
        "b_candles = BinanceUSDM(use_test_net=False).get_candles(symbol=\"BTCUSDT\", timeframe=\"5m\", candles_to_dl=5)"
      ]
    }
  ],
  "metadata": {
    "kernelspec": {
      "display_name": "qfFree",
      "language": "python",
      "name": "python3"
    },
    "language_info": {
      "codemirror_mode": {
        "name": "ipython",
        "version": 3
      },
      "file_extension": ".py",
      "mimetype": "text/x-python",
      "name": "python",
      "nbconvert_exporter": "python",
      "pygments_lexer": "ipython3",
      "version": "3.10.10"
    },
    "orig_nbformat": 4
  },
  "nbformat": 4,
  "nbformat_minor": 2
}
