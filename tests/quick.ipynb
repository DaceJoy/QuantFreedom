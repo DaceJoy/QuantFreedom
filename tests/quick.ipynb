{
  "cells": [
    {
      "cell_type": "code",
      "execution_count": 42,
      "metadata": {},
      "outputs": [
        {
          "name": "stdout",
          "output_type": "stream",
          "text": [
            "The autoreload extension is already loaded. To reload it, use:\n",
            "  %reload_ext autoreload\n"
          ]
        }
      ],
      "source": [
        "import numpy as np\n",
        "import pandas as pd\n",
        "from my_stuff import MufexKeys\n",
        "from quantfreedom.enums import *\n",
        "from quantfreedom.exchanges.mufex_exchange.mufex import Mufex\n",
        "from quantfreedom.indicators.tv_indicators import *\n",
        "from quantfreedom.plotting.plot_funcs import *\n",
        "from quantfreedom.exchanges.exchange import Exchange\n",
        "from quantfreedom.helper_funcs import dl_ex_candles, candles_to_df\n",
        "np.set_printoptions(formatter={\"float_kind\": \"{:0.1f}\".format})\n",
        "\n",
        "mufex_main = Mufex(use_test_net=False)\n",
        "\n",
        "%load_ext autoreload\n",
        "%autoreload 2"
      ]
    },
    {
      "cell_type": "code",
      "execution_count": 43,
      "metadata": {},
      "outputs": [
        {
          "name": "stdout",
          "output_type": "stream",
          "text": [
            "It took 00 mins and 01 seconds to download 400 candles\n"
          ]
        }
      ],
      "source": [
        "candles = mufex_main.get_candles(symbol=\"BTCUSDT\", timeframe=\"5m\", candles_to_dl=400)\n",
        "open = candles[:1]\n",
        "high = candles[:, 2]\n",
        "low = candles[:, 3]\n",
        "close = candles[:, 4]\n",
        "close_shift = np.roll(candles[:, 4],1)"
      ]
    },
    {
      "cell_type": "code",
      "execution_count": 44,
      "metadata": {},
      "outputs": [
        {
          "name": "stdout",
          "output_type": "stream",
          "text": [
            "It took 00 mins and 00 seconds to download 400 candles\n"
          ]
        },
        {
          "data": {
            "text/plain": [
              "array([[1699360800000.0, 34706.8, 34732.1, 34706.8, 34721.0],\n",
              "       [1699361100000.0, 34721.0, 34738.7, 34712.8, 34738.3],\n",
              "       [1699361400000.0, 34738.3, 34755.3, 34720.7, 34740.1],\n",
              "       ...,\n",
              "       [1699479900000.0, 35486.6, 35556.8, 35476.6, 35554.8],\n",
              "       [1699480200000.0, 35554.8, 35555.1, 35522.0, 35550.4],\n",
              "       [1699480500000.0, 35550.4, 35599.9, 35538.4, 35592.2]])"
            ]
          },
          "execution_count": 44,
          "metadata": {},
          "output_type": "execute_result"
        }
      ],
      "source": [
        "dl_ex_candles(\n",
        "    exchange=\"mufex\",\n",
        "    symbol=\"BTCUSDT\",\n",
        "    timeframe=\"5m\",\n",
        "    candles_to_dl=400,\n",
        ")"
      ]
    },
    {
      "cell_type": "code",
      "execution_count": 46,
      "metadata": {},
      "outputs": [
        {
          "data": {
            "text/html": [
              "<div>\n",
              "<style scoped>\n",
              "    .dataframe tbody tr th:only-of-type {\n",
              "        vertical-align: middle;\n",
              "    }\n",
              "\n",
              "    .dataframe tbody tr th {\n",
              "        vertical-align: top;\n",
              "    }\n",
              "\n",
              "    .dataframe thead th {\n",
              "        text-align: right;\n",
              "    }\n",
              "</style>\n",
              "<table border=\"1\" class=\"dataframe\">\n",
              "  <thead>\n",
              "    <tr style=\"text-align: right;\">\n",
              "      <th></th>\n",
              "      <th>timestamp</th>\n",
              "      <th>open</th>\n",
              "      <th>high</th>\n",
              "      <th>low</th>\n",
              "      <th>close</th>\n",
              "    </tr>\n",
              "    <tr>\n",
              "      <th>datetime</th>\n",
              "      <th></th>\n",
              "      <th></th>\n",
              "      <th></th>\n",
              "      <th></th>\n",
              "      <th></th>\n",
              "    </tr>\n",
              "  </thead>\n",
              "  <tbody>\n",
              "    <tr>\n",
              "      <th>2023-11-07 12:40:00</th>\n",
              "      <td>1699360800000</td>\n",
              "      <td>34706.8</td>\n",
              "      <td>34732.1</td>\n",
              "      <td>34706.8</td>\n",
              "      <td>34721.0</td>\n",
              "    </tr>\n",
              "    <tr>\n",
              "      <th>2023-11-07 12:45:00</th>\n",
              "      <td>1699361100000</td>\n",
              "      <td>34721.0</td>\n",
              "      <td>34738.7</td>\n",
              "      <td>34712.8</td>\n",
              "      <td>34738.3</td>\n",
              "    </tr>\n",
              "    <tr>\n",
              "      <th>2023-11-07 12:50:00</th>\n",
              "      <td>1699361400000</td>\n",
              "      <td>34738.3</td>\n",
              "      <td>34755.3</td>\n",
              "      <td>34720.7</td>\n",
              "      <td>34740.1</td>\n",
              "    </tr>\n",
              "    <tr>\n",
              "      <th>2023-11-07 12:55:00</th>\n",
              "      <td>1699361700000</td>\n",
              "      <td>34740.1</td>\n",
              "      <td>34747.7</td>\n",
              "      <td>34724.4</td>\n",
              "      <td>34741.8</td>\n",
              "    </tr>\n",
              "    <tr>\n",
              "      <th>2023-11-07 13:00:00</th>\n",
              "      <td>1699362000000</td>\n",
              "      <td>34741.8</td>\n",
              "      <td>34765.3</td>\n",
              "      <td>34741.8</td>\n",
              "      <td>34750.2</td>\n",
              "    </tr>\n",
              "    <tr>\n",
              "      <th>...</th>\n",
              "      <td>...</td>\n",
              "      <td>...</td>\n",
              "      <td>...</td>\n",
              "      <td>...</td>\n",
              "      <td>...</td>\n",
              "    </tr>\n",
              "    <tr>\n",
              "      <th>2023-11-08 21:35:00</th>\n",
              "      <td>1699479300000</td>\n",
              "      <td>35513.9</td>\n",
              "      <td>35520.3</td>\n",
              "      <td>35424.5</td>\n",
              "      <td>35471.0</td>\n",
              "    </tr>\n",
              "    <tr>\n",
              "      <th>2023-11-08 21:40:00</th>\n",
              "      <td>1699479600000</td>\n",
              "      <td>35471.0</td>\n",
              "      <td>35494.7</td>\n",
              "      <td>35407.4</td>\n",
              "      <td>35486.6</td>\n",
              "    </tr>\n",
              "    <tr>\n",
              "      <th>2023-11-08 21:45:00</th>\n",
              "      <td>1699479900000</td>\n",
              "      <td>35486.6</td>\n",
              "      <td>35556.8</td>\n",
              "      <td>35476.6</td>\n",
              "      <td>35554.8</td>\n",
              "    </tr>\n",
              "    <tr>\n",
              "      <th>2023-11-08 21:50:00</th>\n",
              "      <td>1699480200000</td>\n",
              "      <td>35554.8</td>\n",
              "      <td>35555.1</td>\n",
              "      <td>35522.0</td>\n",
              "      <td>35550.4</td>\n",
              "    </tr>\n",
              "    <tr>\n",
              "      <th>2023-11-08 21:55:00</th>\n",
              "      <td>1699480500000</td>\n",
              "      <td>35550.4</td>\n",
              "      <td>35599.9</td>\n",
              "      <td>35538.4</td>\n",
              "      <td>35592.2</td>\n",
              "    </tr>\n",
              "  </tbody>\n",
              "</table>\n",
              "<p>400 rows × 5 columns</p>\n",
              "</div>"
            ],
            "text/plain": [
              "                         timestamp     open     high      low    close\n",
              "datetime                                                              \n",
              "2023-11-07 12:40:00  1699360800000  34706.8  34732.1  34706.8  34721.0\n",
              "2023-11-07 12:45:00  1699361100000  34721.0  34738.7  34712.8  34738.3\n",
              "2023-11-07 12:50:00  1699361400000  34738.3  34755.3  34720.7  34740.1\n",
              "2023-11-07 12:55:00  1699361700000  34740.1  34747.7  34724.4  34741.8\n",
              "2023-11-07 13:00:00  1699362000000  34741.8  34765.3  34741.8  34750.2\n",
              "...                            ...      ...      ...      ...      ...\n",
              "2023-11-08 21:35:00  1699479300000  35513.9  35520.3  35424.5  35471.0\n",
              "2023-11-08 21:40:00  1699479600000  35471.0  35494.7  35407.4  35486.6\n",
              "2023-11-08 21:45:00  1699479900000  35486.6  35556.8  35476.6  35554.8\n",
              "2023-11-08 21:50:00  1699480200000  35554.8  35555.1  35522.0  35550.4\n",
              "2023-11-08 21:55:00  1699480500000  35550.4  35599.9  35538.4  35592.2\n",
              "\n",
              "[400 rows x 5 columns]"
            ]
          },
          "execution_count": 46,
          "metadata": {},
          "output_type": "execute_result"
        }
      ],
      "source": [
        "candles_to_df(candles=candles)"
      ]
    }
  ],
  "metadata": {
    "kernelspec": {
      "display_name": "qfFree",
      "language": "python",
      "name": "python3"
    },
    "language_info": {
      "codemirror_mode": {
        "name": "ipython",
        "version": 3
      },
      "file_extension": ".py",
      "mimetype": "text/x-python",
      "name": "python",
      "nbconvert_exporter": "python",
      "pygments_lexer": "ipython3",
      "version": "3.10.10"
    },
    "orig_nbformat": 4
  },
  "nbformat": 4,
  "nbformat_minor": 2
}
