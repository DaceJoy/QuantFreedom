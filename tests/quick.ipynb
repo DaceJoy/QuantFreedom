{
  "cells": [
    {
      "cell_type": "code",
      "execution_count": 1,
      "metadata": {},
      "outputs": [],
      "source": [
        "import numpy as np\n",
        "import pandas as pd\n",
        "from my_stuff import MufexKeys, MufexTestKeys\n",
        "from quantfreedom.exchanges.mufex_exchange.mufex import Mufex\n",
        "from quantfreedom.indicators.tv_indicators import *\n",
        "from quantfreedom.plotting.plotting_base import *\n",
        "from quantfreedom.exchanges.exchange import Exchange\n",
        "from quantfreedom.helper_funcs import dl_ex_candles, candles_to_df\n",
        "from my_stuff import BybitTestKeys\n",
        "from quantfreedom.exchanges.bybit_exchange.bybit import Bybit\n",
        "\n",
        "\n",
        "np.set_printoptions(formatter={\"float_kind\": \"{:0.2f}\".format})\n",
        "\n",
        "%load_ext autoreload\n",
        "%autoreload 2"
      ]
    },
    {
      "cell_type": "code",
      "execution_count": 18,
      "metadata": {},
      "outputs": [],
      "source": [
        "candles = dl_ex_candles(exchange=\"binance_us\", symbol=\"BTCUSDT\", timeframe=\"5m\", candles_to_dl=200)\n",
        "open = candles[:, 1]\n",
        "high = candles[:, 2]\n",
        "low = candles[:, 3]\n",
        "close = candles[:, 4]\n",
        "close_shift = np.roll(candles[:, 4], 1)"
      ]
    },
    {
      "cell_type": "code",
      "execution_count": 19,
      "metadata": {},
      "outputs": [
        {
          "data": {
            "text/plain": [
              "array([nan, nan, nan, nan, nan, nan, nan, nan, nan, nan, nan, nan, nan,\n",
              "       nan, nan, nan, nan, nan, nan, nan, nan, nan, nan, nan, nan, nan,\n",
              "       nan, nan, nan, nan, nan, nan, nan, nan, nan, nan, nan, nan, nan,\n",
              "       nan, nan, nan, nan, nan, nan, nan, nan, nan, nan, 37419.48,\n",
              "       37420.18, 37420.88, 37421.75, 37423.23, 37425.59, 37428.69,\n",
              "       37432.22, 37434.77, 37437.03, 37438.42, 37441.12, 37443.62,\n",
              "       37446.65, 37448.20, 37449.84, 37450.27, 37450.67, 37450.65,\n",
              "       37450.42, 37449.98, 37446.72, 37442.80, 37437.12, 37432.73,\n",
              "       37428.79, 37426.24, 37424.71, 37421.97, 37416.73, 37411.23,\n",
              "       37405.62, 37403.52, 37403.75, 37403.11, 37403.59, 37401.55,\n",
              "       37398.33, 37393.96, 37388.46, 37386.84, 37384.53, 37382.92,\n",
              "       37381.71, 37380.21, 37379.18, 37378.25, 37377.62, 37376.16,\n",
              "       37373.19, 37369.55, 37365.66, 37363.03, 37359.54, 37358.63,\n",
              "       37359.35, 37361.36, 37366.32, 37369.94, 37374.97, 37377.67,\n",
              "       37380.02, 37378.95, 37376.36, 37368.22, 37363.53, 37356.74,\n",
              "       37353.35, 37350.22, 37342.84, 37332.92, 37322.81, 37318.15,\n",
              "       37313.16, 37308.30, 37304.09, 37297.29, 37289.60, 37282.61,\n",
              "       37272.67, 37260.80, 37247.23, 37233.18, 37217.63, 37200.35,\n",
              "       37186.62, 37168.41, 37152.03, 37137.23, 37120.03, 37105.47,\n",
              "       37084.82, 37064.87, 37044.24, 37020.67, 36997.29, 36980.18,\n",
              "       36963.83, 36948.63, 36937.14, 36924.67, 36910.45, 36899.59,\n",
              "       36889.93, 36879.14, 36870.95, 36865.91, 36861.00, 36854.99,\n",
              "       36846.46, 36829.57, 36809.90, 36787.23, 36767.26, 36752.37,\n",
              "       36737.54, 36723.33, 36712.32, 36701.70, 36691.97, 36684.04,\n",
              "       36677.29, 36668.05, 36658.65, 36649.64, 36642.99, 36635.17,\n",
              "       36626.49, 36617.86, 36613.46, 36606.93, 36602.48, 36599.86,\n",
              "       36595.15, 36590.53, 36586.72, 36578.45, 36566.65, 36552.84,\n",
              "       36543.74, 36534.03, 36518.98, 36499.82, 36488.72, 36477.24,\n",
              "       36466.06, 36452.63, 36437.44, 36425.99, 36415.57, 36403.64])"
            ]
          },
          "execution_count": 19,
          "metadata": {},
          "output_type": "execute_result"
        }
      ],
      "source": [
        "wma_tv(source=close, length=50)"
      ]
    },
    {
      "cell_type": "code",
      "execution_count": 20,
      "metadata": {},
      "outputs": [
        {
          "data": {
            "text/plain": [
              "array([nan, nan, nan, nan, nan, nan, nan, nan, nan, nan, nan, nan, nan,\n",
              "       nan, nan, nan, nan, nan, nan, nan, nan, nan, nan, nan, nan, nan,\n",
              "       nan, 56.73, 56.01, 55.69, 54.74, 53.55, 52.22, 51.18, 49.95, 48.65,\n",
              "       47.64, 47.22, 47.02, 47.26, 47.25, 47.37, 48.10, 48.58, 49.29,\n",
              "       50.31, 51.17, 51.06, 51.25, 50.95, 51.59, 52.15, 52.70, 53.57,\n",
              "       54.83, 56.31, 57.81, 58.22, 58.30, 57.64, 57.86, 57.90, 58.31,\n",
              "       57.53, 56.93, 55.56, 54.34, 53.03, 51.74, 50.46, 47.84, 45.29,\n",
              "       42.48, 41.10, 40.24, 40.47, 41.28, 41.33, 40.36, 39.39, 38.46,\n",
              "       39.64, 41.64, 43.00, 44.62, 44.98, 44.87, 44.38, 43.58, 44.45,\n",
              "       44.95, 45.64, 46.38, 46.88, 47.50, 48.06, 48.66, 48.74, 48.09,\n",
              "       47.23, 46.34, 46.23, 45.71, 46.51, 47.85, 49.46, 51.74, 53.03,\n",
              "       54.56, 54.82, 54.90, 53.68, 52.14, 49.49, 48.31, 46.81, 46.49,\n",
              "       46.25, 45.12, 43.67, 42.33, 42.68, 42.90, 43.10, 43.44, 43.12,\n",
              "       42.62, 42.34, 41.45, 40.29, 38.96, 37.69, 36.30, 34.79, 34.65,\n",
              "       33.78, 33.49, 33.63, 33.31, 33.75, 33.18, 32.73, 32.19, 31.29,\n",
              "       30.46, 31.44, 32.34, 33.29, 34.97, 36.13, 36.71, 37.97, 39.25,\n",
              "       40.02, 41.23, 42.90, 44.27, 45.04, 45.00, 43.44, 41.66, 39.71,\n",
              "       38.53, 38.55, 38.51, 38.48, 39.09, 39.60, 40.12, 40.92, 41.82,\n",
              "       41.96, 41.94, 41.89, 42.41, 42.45, 42.18, 41.84, 42.72, 42.86,\n",
              "       43.47, 44.42, 44.63, 44.77, 45.07, 44.19, 42.75, 41.12, 40.98,\n",
              "       40.70, 39.56, 38.02, 38.50, 38.81, 39.10, 38.97, 38.54, 38.96,\n",
              "       39.48, 39.59])"
            ]
          },
          "execution_count": 20,
          "metadata": {},
          "output_type": "execute_result"
        }
      ],
      "source": [
        "ema_tv(source=rsi_tv(source=close, length=14), length=14)"
      ]
    }
  ],
  "metadata": {
    "kernelspec": {
      "display_name": "qfFree",
      "language": "python",
      "name": "python3"
    },
    "language_info": {
      "codemirror_mode": {
        "name": "ipython",
        "version": 3
      },
      "file_extension": ".py",
      "mimetype": "text/x-python",
      "name": "python",
      "nbconvert_exporter": "python",
      "pygments_lexer": "ipython3",
      "version": "3.10.10"
    },
    "orig_nbformat": 4
  },
  "nbformat": 4,
  "nbformat_minor": 2
}
