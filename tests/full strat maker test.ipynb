{
 "cells": [
  {
   "cell_type": "code",
   "execution_count": 1,
   "metadata": {},
   "outputs": [],
   "source": [
    "# import os\n",
    "# import sys\n",
    "\n",
    "# sys.dont_write_bytecode = True\n",
    "# os.environ[\"NUMBA_DISABLE_JIT\"] = \"1\"\n",
    "\n",
    "# import os\n",
    "# os.environ[\"NUMBA_DEBUG\"] = \"1\"\n",
    "# os.environ[\"NUMBA_DEBUGINFO\"] = \"1\"\n",
    "# os.environ[\"NUMBA_DEBUG_TYPEINFER\"] = \"1\""
   ]
  },
  {
   "cell_type": "code",
   "execution_count": 2,
   "metadata": {
    "collapsed": true
   },
   "outputs": [],
   "source": [
    "import numpy as np\n",
    "import pandas as pd\n",
    "from quantfreedom.base.strategy_maker_cls import StrategyMaker\n",
    "from quantfreedom.enums.enums import (\n",
    "    CandleBody,\n",
    "    LeverageMode,\n",
    "    OrderType,\n",
    "    SizeType,\n",
    "    OrderSettingsArrays,\n",
    "    StaticVariables,\n",
    ")\n",
    "\n",
    "np.set_printoptions(formatter={\"float_kind\": \"{:.2f}\".format})\n",
    "pd.options.display.float_format = \"{:,.2f}\".format\n",
    "\n",
    "# prices = data_download_from_ccxt(\n",
    "#     exchange='bybit',\n",
    "#     start='2020-10-01T00:00:00Z',\n",
    "#     end='2021-04-15T00:00:00Z',\n",
    "#     symbols=['BTCUSDT', 'ETHUSD'],\n",
    "#     timeframe='30m',\n",
    "# )\n",
    "\n",
    "sm = StrategyMaker()\n",
    "\n",
    "price_data = pd.read_hdf(\"../tests/data/prices.hd5\")"
   ]
  },
  {
   "cell_type": "code",
   "execution_count": 3,
   "metadata": {},
   "outputs": [
    {
     "ename": "TypeError",
     "evalue": "from_talib() got an unexpected keyword argument 'cart_product'",
     "output_type": "error",
     "traceback": [
      "\u001b[1;31m---------------------------------------------------------------------------\u001b[0m",
      "\u001b[1;31mTypeError\u001b[0m                                 Traceback (most recent call last)",
      "Cell \u001b[1;32mIn[3], line 1\u001b[0m\n\u001b[1;32m----> 1\u001b[0m rsi_ind \u001b[39m=\u001b[39m sm\u001b[39m.\u001b[39;49mfrom_talib(\n\u001b[0;32m      2\u001b[0m     func_name\u001b[39m=\u001b[39;49m\u001b[39m\"\u001b[39;49m\u001b[39mrsi\u001b[39;49m\u001b[39m\"\u001b[39;49m,\n\u001b[0;32m      3\u001b[0m     price_data\u001b[39m=\u001b[39;49mprice_data,\n\u001b[0;32m      4\u001b[0m     cart_product\u001b[39m=\u001b[39;49m\u001b[39mFalse\u001b[39;49;00m,\n\u001b[0;32m      5\u001b[0m     combos\u001b[39m=\u001b[39;49m\u001b[39mFalse\u001b[39;49;00m,\n\u001b[0;32m      6\u001b[0m     timeperiod\u001b[39m=\u001b[39;49m[\u001b[39m15\u001b[39;49m, \u001b[39m30\u001b[39;49m],\n\u001b[0;32m      7\u001b[0m )\n\u001b[0;32m      9\u001b[0m entries \u001b[39m=\u001b[39m rsi_ind\u001b[39m.\u001b[39mis_below(\n\u001b[0;32m     10\u001b[0m     user_args\u001b[39m=\u001b[39m[\u001b[39m40\u001b[39m, \u001b[39m50\u001b[39m],\n\u001b[0;32m     11\u001b[0m     candle_ohlc\u001b[39m=\u001b[39m\u001b[39m\"\u001b[39m\u001b[39mclose\u001b[39m\u001b[39m\"\u001b[39m,\n\u001b[0;32m     12\u001b[0m )\n\u001b[0;32m     14\u001b[0m entries \u001b[39m=\u001b[39m sm\u001b[39m.\u001b[39mcombined_data_frame()\n",
      "File \u001b[1;32me:\\coding\\backtesters\\quantfreedom\\quantfreedom\\base\\strategy_maker_cls.py:88\u001b[0m, in \u001b[0;36mStrategyMaker.from_talib\u001b[1;34m(self, func_name, price_data, indicator_data, all_possible_combos, column_wise_combos, plot_results, plot_on_data, **kwargs)\u001b[0m\n\u001b[0;32m     77\u001b[0m \u001b[39mdef\u001b[39;00m \u001b[39mfrom_talib\u001b[39m(\n\u001b[0;32m     78\u001b[0m     \u001b[39mself\u001b[39m,\n\u001b[0;32m     79\u001b[0m     func_name: \u001b[39mstr\u001b[39m,\n\u001b[1;32m   (...)\u001b[0m\n\u001b[0;32m     86\u001b[0m     \u001b[39m*\u001b[39m\u001b[39m*\u001b[39mkwargs,\n\u001b[0;32m     87\u001b[0m ):\n\u001b[1;32m---> 88\u001b[0m     indicator \u001b[39m=\u001b[39m from_talib(\n\u001b[0;32m     89\u001b[0m         func_name,\n\u001b[0;32m     90\u001b[0m         price_data,\n\u001b[0;32m     91\u001b[0m         indicator_data,\n\u001b[0;32m     92\u001b[0m         all_possible_combos,\n\u001b[0;32m     93\u001b[0m         column_wise_combos,\n\u001b[0;32m     94\u001b[0m         plot_results,\n\u001b[0;32m     95\u001b[0m         plot_on_data,\n\u001b[0;32m     96\u001b[0m         \u001b[39m*\u001b[39m\u001b[39m*\u001b[39mkwargs,\n\u001b[0;32m     97\u001b[0m     )\n\u001b[0;32m     98\u001b[0m     \u001b[39mself\u001b[39m\u001b[39m.\u001b[39mindicators\u001b[39m.\u001b[39mappend(indicator)\n\u001b[0;32m     99\u001b[0m     \u001b[39mreturn\u001b[39;00m indicator\n",
      "\u001b[1;31mTypeError\u001b[0m: from_talib() got an unexpected keyword argument 'cart_product'"
     ]
    }
   ],
   "source": [
    "rsi_ind = sm.from_talib(\n",
    "    func_name=\"rsi\",\n",
    "    price_data=price_data,\n",
    "    cart_product=False,\n",
    "    combos=False,\n",
    "    timeperiod=[15, 30],\n",
    ")\n",
    "\n",
    "entries = rsi_ind.is_below(\n",
    "    user_args=[40, 50],\n",
    "    candle_ohlc=\"close\",\n",
    ")\n",
    "\n",
    "entries = sm.combined_data_frame()"
   ]
  },
  {
   "cell_type": "code",
   "execution_count": null,
   "metadata": {},
   "outputs": [],
   "source": [
    "static_vars = StaticVariables(\n",
    "    equity=1000.,\n",
    "    lev_mode=LeverageMode.LeastFreeCashUsed,\n",
    "    order_type=OrderType.LongEntry,\n",
    "    size_type=SizeType.RiskPercentOfAccount,\n",
    ")\n",
    "order_settings = OrderSettingsArrays(\n",
    "    max_equity_risk_pct=6.,\n",
    "    risk_reward=[2,4,5],\n",
    "    size_pct=1.,\n",
    "    sl_based_on=CandleBody.low,\n",
    "    sl_based_on_lookback=30,\n",
    "    sl_based_on_add_pct=.2,\n",
    ")"
   ]
  },
  {
   "cell_type": "code",
   "execution_count": null,
   "metadata": {
    "collapsed": false
   },
   "outputs": [
    {
     "ename": "ValueError",
     "evalue": "You have to call combine data method first.",
     "output_type": "error",
     "traceback": [
      "\u001b[1;31m---------------------------------------------------------------------------\u001b[0m",
      "\u001b[1;31mValueError\u001b[0m                                Traceback (most recent call last)",
      "Cell \u001b[1;32mIn[5], line 1\u001b[0m\n\u001b[1;32m----> 1\u001b[0m strat_results_df, settings_results_df \u001b[39m=\u001b[39m sm\u001b[39m.\u001b[39;49mbacktest_df(\n\u001b[0;32m      2\u001b[0m     price_data\u001b[39m=\u001b[39;49mprice_data,\n\u001b[0;32m      3\u001b[0m     static_variables_tuple\u001b[39m=\u001b[39;49mstatic_vars,\n\u001b[0;32m      4\u001b[0m     order_settings_arrays_tuple\u001b[39m=\u001b[39;49morder_settings,\n\u001b[0;32m      5\u001b[0m )\n",
      "File \u001b[1;32me:\\coding\\backtesters\\quantfreedom\\quantfreedom\\base\\strategy_maker_cls.py:125\u001b[0m, in \u001b[0;36mStrategyMaker.backtest_df\u001b[1;34m(self, price_data, static_variables_tuple, order_settings_arrays_tuple)\u001b[0m\n\u001b[0;32m    123\u001b[0m entries \u001b[39m=\u001b[39m \u001b[39mself\u001b[39m\u001b[39m.\u001b[39mcombined_data\n\u001b[0;32m    124\u001b[0m \u001b[39mif\u001b[39;00m entries \u001b[39mis\u001b[39;00m \u001b[39mNone\u001b[39;00m:\n\u001b[1;32m--> 125\u001b[0m     \u001b[39mraise\u001b[39;00m \u001b[39mValueError\u001b[39;00m(\u001b[39m\"\u001b[39m\u001b[39mYou have to call combine data method first.\u001b[39m\u001b[39m\"\u001b[39m)\n\u001b[0;32m    127\u001b[0m \u001b[39mself\u001b[39m\u001b[39m.\u001b[39mprice_data \u001b[39m=\u001b[39m price_data\n\u001b[0;32m    128\u001b[0m \u001b[39mself\u001b[39m\u001b[39m.\u001b[39mstatic_vars \u001b[39m=\u001b[39m static_variables_tuple\n",
      "\u001b[1;31mValueError\u001b[0m: You have to call combine data method first."
     ]
    }
   ],
   "source": [
    "strat_results_df, settings_results_df = sm.backtest_df(\n",
    "    price_data=price_data,\n",
    "    static_variables_tuple=static_vars,\n",
    "    order_settings_arrays_tuple=order_settings,\n",
    ")"
   ]
  },
  {
   "cell_type": "code",
   "execution_count": null,
   "metadata": {},
   "outputs": [],
   "source": [
    "settings_results_df"
   ]
  },
  {
   "cell_type": "code",
   "execution_count": null,
   "metadata": {},
   "outputs": [],
   "source": [
    "sm.strategy_dashboard([1,18, 8, 6])"
   ]
  },
  {
   "cell_type": "code",
   "execution_count": null,
   "metadata": {},
   "outputs": [],
   "source": []
  }
 ],
 "metadata": {
  "kernelspec": {
   "display_name": "Python 3 (ipykernel)",
   "language": "python",
   "name": "python3"
  },
  "language_info": {
   "codemirror_mode": {
    "name": "ipython",
    "version": 3
   },
   "file_extension": ".py",
   "mimetype": "text/x-python",
   "name": "python",
   "nbconvert_exporter": "python",
   "pygments_lexer": "ipython3",
   "version": "3.10.10"
  }
 },
 "nbformat": 4,
 "nbformat_minor": 1
}
