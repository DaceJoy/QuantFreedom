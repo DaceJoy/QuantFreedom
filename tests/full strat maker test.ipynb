{
 "cells": [
  {
   "cell_type": "code",
   "execution_count": 1,
   "metadata": {
    "collapsed": true
   },
   "outputs": [],
   "source": [
    "# import os\n",
    "# import sys\n",
    "\n",
    "# sys.dont_write_bytecode = True\n",
    "# os.environ[\"NUMBA_DISABLE_JIT\"] = \"1\"\n",
    "\n",
    "# import os\n",
    "# os.environ[\"NUMBA_DEBUG\"] = \"1\"\n",
    "# os.environ[\"NUMBA_DEBUGINFO\"] = \"1\"\n",
    "# os.environ[\"NUMBA_DEBUG_TYPEINFER\"] = \"1\"\n",
    "\n",
    "import numpy as np\n",
    "import pandas as pd\n",
    "from quantfreedom.base.strategy_maker_cls import StrategyMaker\n",
    "from quantfreedom.enums.enums import (\n",
    "    CandleBody,\n",
    "    LeverageMode,\n",
    "    OrderType,\n",
    "    SizeType,\n",
    "    OrderSettingsArrays,\n",
    "    StaticVariables,\n",
    ")\n",
    "\n",
    "np.set_printoptions(formatter={\"float_kind\": \"{:.2f}\".format})\n",
    "pd.options.display.float_format = \"{:,.2f}\".format\n",
    "\n",
    "# prices = data_download_from_ccxt(\n",
    "#     exchange='bybit',\n",
    "#     start='2020-10-01T00:00:00Z',\n",
    "#     end='2021-04-15T00:00:00Z',\n",
    "#     symbols=['BTCUSDT', 'ETHUSD'],\n",
    "#     timeframe='30m',\n",
    "# )\n",
    "sm = StrategyMaker()\n",
    "price_data = pd.read_hdf(\"../tests/data/prices.hd5\")\n",
    "rsi_ind = sm.from_talib(\n",
    "    func_name=\"rsi\",\n",
    "    price_data=price_data,\n",
    "    cart_product=False,\n",
    "    combos=False,\n",
    "    timeperiod=[15, 30],\n",
    ")\n",
    "entries = rsi_ind.is_below(\n",
    "    user_args=[40, 50],\n",
    "    candle_ohlc=\"close\",\n",
    ")\n",
    "entries = sm.combined_data_frame()"
   ]
  },
  {
   "cell_type": "code",
   "execution_count": 2,
   "metadata": {},
   "outputs": [],
   "source": [
    "static_vars = StaticVariables(\n",
    "    equity=1000.,\n",
    "    lev_mode=LeverageMode.LeastFreeCashUsed,\n",
    "    order_type=OrderType.LongEntry,\n",
    "    size_type=SizeType.RiskPercentOfAccount,\n",
    ")\n",
    "order_settings = OrderSettingsArrays(\n",
    "    max_equity_risk_pct=6.,\n",
    "    risk_reward=5,\n",
    "    size_pct=1.,\n",
    "    sl_based_on=CandleBody.low,\n",
    "    sl_based_on_lookback=30,\n",
    "    sl_based_on_add_pct=.2,\n",
    ")"
   ]
  },
  {
   "cell_type": "code",
   "execution_count": 3,
   "metadata": {
    "collapsed": false
   },
   "outputs": [
    {
     "name": "stdout",
     "output_type": "stream",
     "text": [
      "Checking static variables for errors or conflicts.\n",
      "Turning all variables into arrays.\n",
      "Checking arrays for errors or conflicts ... the backtest will begin shortly, please hold.\n",
      "Creating cartesian product ... after this the backtest will start, I promise :).\n",
      "\n",
      "Starting the backtest now ... and also here are some stats for your backtest.\n",
      "\n",
      "Total symbols: 5\n",
      "Total indicator settings per symbol: 4\n",
      "Total indicator settings to test: 20\n",
      "Total order settings per symbol: 1\n",
      "Total order settings to test: 5\n",
      "Total candles per symbol: 9,408\n",
      "Total candles to test: 188,160\n",
      "\n",
      "Total combinations to test: 20\n"
     ]
    },
    {
     "ename": "TypingError",
     "evalue": "Failed in nopython mode pipeline (step: nopython frontend)\n\u001b[1m\u001b[1m\u001b[1m\u001b[1m\u001b[1m\u001b[1m\u001b[1m\u001b[1mFailed in nopython mode pipeline (step: nopython frontend)\n\u001b[1m\u001b[1m\u001b[1m\u001b[1m\u001b[1m\u001b[1m\u001b[1m\u001b[1mFailed in nopython mode pipeline (step: nopython frontend)\n\u001b[1m\u001b[1mUnknown attribute 'min' of type float64\n\u001b[1m\nFile \"..\\quantfreedom\\nb\\buy_funcs.py\", line 72:\u001b[0m\n\u001b[1mdef long_increase_nb(\n    <source elided>\n            if sl_based_on == CandleBody.low:\n\u001b[1m                sl_price_new = prices.low.min() - (\n\u001b[0m                \u001b[1m^\u001b[0m\u001b[0m\n\u001b[0m\n\u001b[0m\u001b[1mDuring: typing of get attribute at e:\\coding\\backtesters\\quantfreedom\\quantfreedom\\nb\\buy_funcs.py (72)\u001b[0m\n\u001b[1m\nFile \"..\\quantfreedom\\nb\\buy_funcs.py\", line 72:\u001b[0m\n\u001b[1mdef long_increase_nb(\n    <source elided>\n            if sl_based_on == CandleBody.low:\n\u001b[1m                sl_price_new = prices.low.min() - (\n\u001b[0m                \u001b[1m^\u001b[0m\u001b[0m\n\n\u001b[0m\u001b[1mDuring: resolving callee type: type(CPUDispatcher(<function long_increase_nb at 0x00000211286C6950>))\u001b[0m\n\u001b[0m\u001b[1mDuring: typing of call at e:\\coding\\backtesters\\quantfreedom\\quantfreedom\\nb\\execute_funcs.py (257)\n\u001b[0m\n\u001b[0m\u001b[1mDuring: resolving callee type: type(CPUDispatcher(<function long_increase_nb at 0x00000211286C6950>))\u001b[0m\n\u001b[0m\u001b[1mDuring: typing of call at e:\\coding\\backtesters\\quantfreedom\\quantfreedom\\nb\\execute_funcs.py (257)\n\u001b[0m\n\u001b[0m\u001b[1mDuring: resolving callee type: type(CPUDispatcher(<function long_increase_nb at 0x00000211286C6950>))\u001b[0m\n\u001b[0m\u001b[1mDuring: typing of call at e:\\coding\\backtesters\\quantfreedom\\quantfreedom\\nb\\execute_funcs.py (257)\n\u001b[0m\n\u001b[0m\u001b[1mDuring: resolving callee type: type(CPUDispatcher(<function long_increase_nb at 0x00000211286C6950>))\u001b[0m\n\u001b[0m\u001b[1mDuring: typing of call at e:\\coding\\backtesters\\quantfreedom\\quantfreedom\\nb\\execute_funcs.py (257)\n\u001b[0m\n\u001b[1m\nFile \"..\\quantfreedom\\nb\\execute_funcs.py\", line 257:\u001b[0m\n\u001b[1mdef process_order_nb(\n    <source elided>\n    if order_type == OrderType.LongEntry:\n\u001b[1m        account_state_new, order_result_new = long_increase_nb(\n\u001b[0m        \u001b[1m^\u001b[0m\u001b[0m\n\n\u001b[0m\u001b[1mDuring: resolving callee type: type(CPUDispatcher(<function process_order_nb at 0x00000211287C5360>))\u001b[0m\n\u001b[0m\u001b[1mDuring: typing of call at e:\\coding\\backtesters\\quantfreedom\\quantfreedom\\nb\\simulate.py (227)\n\u001b[0m\n\u001b[0m\u001b[1mDuring: resolving callee type: type(CPUDispatcher(<function process_order_nb at 0x00000211287C5360>))\u001b[0m\n\u001b[0m\u001b[1mDuring: typing of call at e:\\coding\\backtesters\\quantfreedom\\quantfreedom\\nb\\simulate.py (227)\n\u001b[0m\n\u001b[0m\u001b[1mDuring: resolving callee type: type(CPUDispatcher(<function process_order_nb at 0x00000211287C5360>))\u001b[0m\n\u001b[0m\u001b[1mDuring: typing of call at e:\\coding\\backtesters\\quantfreedom\\quantfreedom\\nb\\simulate.py (227)\n\u001b[0m\n\u001b[0m\u001b[1mDuring: resolving callee type: type(CPUDispatcher(<function process_order_nb at 0x00000211287C5360>))\u001b[0m\n\u001b[0m\u001b[1mDuring: typing of call at e:\\coding\\backtesters\\quantfreedom\\quantfreedom\\nb\\simulate.py (227)\n\u001b[0m\n\u001b[1m\nFile \"..\\quantfreedom\\nb\\simulate.py\", line 227:\u001b[0m\n\u001b[1mdef backtest_df_only_nb(\n    <source elided>\n                        if not np.isnan(order_result.size_value):\n\u001b[1m                            account_state, order_result = process_order_nb(\n\u001b[0m                            \u001b[1m^\u001b[0m\u001b[0m\n",
     "output_type": "error",
     "traceback": [
      "\u001b[1;31m---------------------------------------------------------------------------\u001b[0m",
      "\u001b[1;31mTypingError\u001b[0m                               Traceback (most recent call last)",
      "Cell \u001b[1;32mIn[3], line 1\u001b[0m\n\u001b[1;32m----> 1\u001b[0m strat_results_df, settings_results_df \u001b[39m=\u001b[39m sm\u001b[39m.\u001b[39;49mbacktest_df(\n\u001b[0;32m      2\u001b[0m     price_data\u001b[39m=\u001b[39;49mprice_data,\n\u001b[0;32m      3\u001b[0m     static_variables_tuple\u001b[39m=\u001b[39;49mstatic_vars,\n\u001b[0;32m      4\u001b[0m     order_settings_arrays_tuple\u001b[39m=\u001b[39;49morder_settings,\n\u001b[0;32m      5\u001b[0m )\n",
      "File \u001b[1;32me:\\coding\\backtesters\\quantfreedom\\quantfreedom\\base\\strategy_maker_cls.py:130\u001b[0m, in \u001b[0;36mStrategyMaker.backtest_df\u001b[1;34m(self, price_data, static_variables_tuple, order_settings_arrays_tuple)\u001b[0m\n\u001b[0;32m    127\u001b[0m \u001b[39mself\u001b[39m\u001b[39m.\u001b[39mprice_data \u001b[39m=\u001b[39m price_data\n\u001b[0;32m    128\u001b[0m \u001b[39mself\u001b[39m\u001b[39m.\u001b[39mstatic_vars \u001b[39m=\u001b[39m static_variables_tuple\n\u001b[1;32m--> 130\u001b[0m \u001b[39mself\u001b[39m\u001b[39m.\u001b[39mstrat_results_df, \u001b[39mself\u001b[39m\u001b[39m.\u001b[39msettings_results_df \u001b[39m=\u001b[39m backtest_df_only(\n\u001b[0;32m    131\u001b[0m     price_data\u001b[39m=\u001b[39;49mprice_data,\n\u001b[0;32m    132\u001b[0m     entries\u001b[39m=\u001b[39;49mentries,\n\u001b[0;32m    133\u001b[0m     static_variables_tuple\u001b[39m=\u001b[39;49mstatic_variables_tuple,\n\u001b[0;32m    134\u001b[0m     order_settings_arrays_tuple\u001b[39m=\u001b[39;49morder_settings_arrays_tuple,\n\u001b[0;32m    135\u001b[0m )\n\u001b[0;32m    136\u001b[0m \u001b[39mreturn\u001b[39;00m \u001b[39mself\u001b[39m\u001b[39m.\u001b[39mstrat_results_df, \u001b[39mself\u001b[39m\u001b[39m.\u001b[39msettings_results_df\n",
      "File \u001b[1;32me:\\coding\\backtesters\\quantfreedom\\quantfreedom\\base\\base.py:79\u001b[0m, in \u001b[0;36mbacktest_df_only\u001b[1;34m(price_data, entries, static_variables_tuple, order_settings_arrays_tuple)\u001b[0m\n\u001b[0;32m     72\u001b[0m \u001b[39mprint\u001b[39m(\n\u001b[0;32m     73\u001b[0m     \u001b[39mf\u001b[39m\u001b[39m\"\u001b[39m\u001b[39mTotal candles to test: \u001b[39m\u001b[39m{\u001b[39;00mtotal_indicator_settings\u001b[39m \u001b[39m\u001b[39m*\u001b[39m\u001b[39m \u001b[39mtotal_order_settings\u001b[39m \u001b[39m\u001b[39m*\u001b[39m\u001b[39m \u001b[39mtotal_bars\u001b[39m:\u001b[39;00m\u001b[39m,\u001b[39m\u001b[39m}\u001b[39;00m\u001b[39m\"\u001b[39m\n\u001b[0;32m     74\u001b[0m )\n\u001b[0;32m     75\u001b[0m \u001b[39mprint\u001b[39m(\n\u001b[0;32m     76\u001b[0m     \u001b[39mf\u001b[39m\u001b[39m\"\u001b[39m\u001b[39m\\n\u001b[39;00m\u001b[39mTotal combinations to test: \u001b[39m\u001b[39m{\u001b[39;00mtotal_indicator_settings\u001b[39m \u001b[39m\u001b[39m*\u001b[39m\u001b[39m \u001b[39mtotal_order_settings\u001b[39m:\u001b[39;00m\u001b[39m,\u001b[39m\u001b[39m}\u001b[39;00m\u001b[39m\"\u001b[39m\n\u001b[0;32m     77\u001b[0m )\n\u001b[1;32m---> 79\u001b[0m strat_array, settings_array \u001b[39m=\u001b[39m backtest_df_only_nb(\n\u001b[0;32m     80\u001b[0m     entries\u001b[39m=\u001b[39;49mentries\u001b[39m.\u001b[39;49mvalues,\n\u001b[0;32m     81\u001b[0m     num_of_symbols\u001b[39m=\u001b[39;49mnum_of_symbols,\n\u001b[0;32m     82\u001b[0m     os_cart_arrays_tuple\u001b[39m=\u001b[39;49mos_cart_arrays_tuple,\n\u001b[0;32m     83\u001b[0m     price_data\u001b[39m=\u001b[39;49mprice_data\u001b[39m.\u001b[39;49mvalues,\n\u001b[0;32m     84\u001b[0m     static_variables_tuple\u001b[39m=\u001b[39;49mstatic_variables_tuple,\n\u001b[0;32m     85\u001b[0m     total_bars\u001b[39m=\u001b[39;49mtotal_bars,\n\u001b[0;32m     86\u001b[0m     total_indicator_settings\u001b[39m=\u001b[39;49mtotal_indicator_settings,\n\u001b[0;32m     87\u001b[0m     total_order_settings\u001b[39m=\u001b[39;49mtotal_order_settings,\n\u001b[0;32m     88\u001b[0m )\n\u001b[0;32m     90\u001b[0m strat_results_df \u001b[39m=\u001b[39m pd\u001b[39m.\u001b[39mDataFrame(strat_array)\u001b[39m.\u001b[39msort_values(\n\u001b[0;32m     91\u001b[0m     by\u001b[39m=\u001b[39m[\u001b[39m\"\u001b[39m\u001b[39mto_the_upside\u001b[39m\u001b[39m\"\u001b[39m, \u001b[39m\"\u001b[39m\u001b[39mgains_pct\u001b[39m\u001b[39m\"\u001b[39m], ascending\u001b[39m=\u001b[39m\u001b[39mFalse\u001b[39;00m\n\u001b[0;32m     92\u001b[0m )\n\u001b[0;32m     94\u001b[0m symbols \u001b[39m=\u001b[39m \u001b[39mlist\u001b[39m(price_data\u001b[39m.\u001b[39mcolumns\u001b[39m.\u001b[39mlevels[\u001b[39m0\u001b[39m])\n",
      "File \u001b[1;32me:\\Coding\\virtual environments\\qfFree\\lib\\site-packages\\numba\\core\\dispatcher.py:468\u001b[0m, in \u001b[0;36m_DispatcherBase._compile_for_args\u001b[1;34m(self, *args, **kws)\u001b[0m\n\u001b[0;32m    464\u001b[0m         msg \u001b[39m=\u001b[39m (\u001b[39mf\u001b[39m\u001b[39m\"\u001b[39m\u001b[39m{\u001b[39;00m\u001b[39mstr\u001b[39m(e)\u001b[39m.\u001b[39mrstrip()\u001b[39m}\u001b[39;00m\u001b[39m \u001b[39m\u001b[39m\\n\u001b[39;00m\u001b[39m\\n\u001b[39;00m\u001b[39mThis error may have been caused \u001b[39m\u001b[39m\"\u001b[39m\n\u001b[0;32m    465\u001b[0m                \u001b[39mf\u001b[39m\u001b[39m\"\u001b[39m\u001b[39mby the following argument(s):\u001b[39m\u001b[39m\\n\u001b[39;00m\u001b[39m{\u001b[39;00margs_str\u001b[39m}\u001b[39;00m\u001b[39m\\n\u001b[39;00m\u001b[39m\"\u001b[39m)\n\u001b[0;32m    466\u001b[0m         e\u001b[39m.\u001b[39mpatch_message(msg)\n\u001b[1;32m--> 468\u001b[0m     error_rewrite(e, \u001b[39m'\u001b[39;49m\u001b[39mtyping\u001b[39;49m\u001b[39m'\u001b[39;49m)\n\u001b[0;32m    469\u001b[0m \u001b[39mexcept\u001b[39;00m errors\u001b[39m.\u001b[39mUnsupportedError \u001b[39mas\u001b[39;00m e:\n\u001b[0;32m    470\u001b[0m     \u001b[39m# Something unsupported is present in the user code, add help info\u001b[39;00m\n\u001b[0;32m    471\u001b[0m     error_rewrite(e, \u001b[39m'\u001b[39m\u001b[39munsupported_error\u001b[39m\u001b[39m'\u001b[39m)\n",
      "File \u001b[1;32me:\\Coding\\virtual environments\\qfFree\\lib\\site-packages\\numba\\core\\dispatcher.py:409\u001b[0m, in \u001b[0;36m_DispatcherBase._compile_for_args.<locals>.error_rewrite\u001b[1;34m(e, issue_type)\u001b[0m\n\u001b[0;32m    407\u001b[0m     \u001b[39mraise\u001b[39;00m e\n\u001b[0;32m    408\u001b[0m \u001b[39melse\u001b[39;00m:\n\u001b[1;32m--> 409\u001b[0m     \u001b[39mraise\u001b[39;00m e\u001b[39m.\u001b[39mwith_traceback(\u001b[39mNone\u001b[39;00m)\n",
      "\u001b[1;31mTypingError\u001b[0m: Failed in nopython mode pipeline (step: nopython frontend)\n\u001b[1m\u001b[1m\u001b[1m\u001b[1m\u001b[1m\u001b[1m\u001b[1m\u001b[1mFailed in nopython mode pipeline (step: nopython frontend)\n\u001b[1m\u001b[1m\u001b[1m\u001b[1m\u001b[1m\u001b[1m\u001b[1m\u001b[1mFailed in nopython mode pipeline (step: nopython frontend)\n\u001b[1m\u001b[1mUnknown attribute 'min' of type float64\n\u001b[1m\nFile \"..\\quantfreedom\\nb\\buy_funcs.py\", line 72:\u001b[0m\n\u001b[1mdef long_increase_nb(\n    <source elided>\n            if sl_based_on == CandleBody.low:\n\u001b[1m                sl_price_new = prices.low.min() - (\n\u001b[0m                \u001b[1m^\u001b[0m\u001b[0m\n\u001b[0m\n\u001b[0m\u001b[1mDuring: typing of get attribute at e:\\coding\\backtesters\\quantfreedom\\quantfreedom\\nb\\buy_funcs.py (72)\u001b[0m\n\u001b[1m\nFile \"..\\quantfreedom\\nb\\buy_funcs.py\", line 72:\u001b[0m\n\u001b[1mdef long_increase_nb(\n    <source elided>\n            if sl_based_on == CandleBody.low:\n\u001b[1m                sl_price_new = prices.low.min() - (\n\u001b[0m                \u001b[1m^\u001b[0m\u001b[0m\n\n\u001b[0m\u001b[1mDuring: resolving callee type: type(CPUDispatcher(<function long_increase_nb at 0x00000211286C6950>))\u001b[0m\n\u001b[0m\u001b[1mDuring: typing of call at e:\\coding\\backtesters\\quantfreedom\\quantfreedom\\nb\\execute_funcs.py (257)\n\u001b[0m\n\u001b[0m\u001b[1mDuring: resolving callee type: type(CPUDispatcher(<function long_increase_nb at 0x00000211286C6950>))\u001b[0m\n\u001b[0m\u001b[1mDuring: typing of call at e:\\coding\\backtesters\\quantfreedom\\quantfreedom\\nb\\execute_funcs.py (257)\n\u001b[0m\n\u001b[0m\u001b[1mDuring: resolving callee type: type(CPUDispatcher(<function long_increase_nb at 0x00000211286C6950>))\u001b[0m\n\u001b[0m\u001b[1mDuring: typing of call at e:\\coding\\backtesters\\quantfreedom\\quantfreedom\\nb\\execute_funcs.py (257)\n\u001b[0m\n\u001b[0m\u001b[1mDuring: resolving callee type: type(CPUDispatcher(<function long_increase_nb at 0x00000211286C6950>))\u001b[0m\n\u001b[0m\u001b[1mDuring: typing of call at e:\\coding\\backtesters\\quantfreedom\\quantfreedom\\nb\\execute_funcs.py (257)\n\u001b[0m\n\u001b[1m\nFile \"..\\quantfreedom\\nb\\execute_funcs.py\", line 257:\u001b[0m\n\u001b[1mdef process_order_nb(\n    <source elided>\n    if order_type == OrderType.LongEntry:\n\u001b[1m        account_state_new, order_result_new = long_increase_nb(\n\u001b[0m        \u001b[1m^\u001b[0m\u001b[0m\n\n\u001b[0m\u001b[1mDuring: resolving callee type: type(CPUDispatcher(<function process_order_nb at 0x00000211287C5360>))\u001b[0m\n\u001b[0m\u001b[1mDuring: typing of call at e:\\coding\\backtesters\\quantfreedom\\quantfreedom\\nb\\simulate.py (227)\n\u001b[0m\n\u001b[0m\u001b[1mDuring: resolving callee type: type(CPUDispatcher(<function process_order_nb at 0x00000211287C5360>))\u001b[0m\n\u001b[0m\u001b[1mDuring: typing of call at e:\\coding\\backtesters\\quantfreedom\\quantfreedom\\nb\\simulate.py (227)\n\u001b[0m\n\u001b[0m\u001b[1mDuring: resolving callee type: type(CPUDispatcher(<function process_order_nb at 0x00000211287C5360>))\u001b[0m\n\u001b[0m\u001b[1mDuring: typing of call at e:\\coding\\backtesters\\quantfreedom\\quantfreedom\\nb\\simulate.py (227)\n\u001b[0m\n\u001b[0m\u001b[1mDuring: resolving callee type: type(CPUDispatcher(<function process_order_nb at 0x00000211287C5360>))\u001b[0m\n\u001b[0m\u001b[1mDuring: typing of call at e:\\coding\\backtesters\\quantfreedom\\quantfreedom\\nb\\simulate.py (227)\n\u001b[0m\n\u001b[1m\nFile \"..\\quantfreedom\\nb\\simulate.py\", line 227:\u001b[0m\n\u001b[1mdef backtest_df_only_nb(\n    <source elided>\n                        if not np.isnan(order_result.size_value):\n\u001b[1m                            account_state, order_result = process_order_nb(\n\u001b[0m                            \u001b[1m^\u001b[0m\u001b[0m\n"
     ]
    }
   ],
   "source": [
    "strat_results_df, settings_results_df = sm.backtest_df(\n",
    "    price_data=price_data,\n",
    "    static_variables_tuple=static_vars,\n",
    "    order_settings_arrays_tuple=order_settings,\n",
    ")"
   ]
  },
  {
   "cell_type": "code",
   "execution_count": null,
   "metadata": {},
   "outputs": [],
   "source": [
    "sm.strategy_dashboard([1,18, 8, 6])"
   ]
  }
 ],
 "metadata": {
  "kernelspec": {
   "display_name": "qfFree",
   "language": "python",
   "name": "python3"
  },
  "language_info": {
   "codemirror_mode": {
    "name": "ipython",
    "version": 3
   },
   "file_extension": ".py",
   "mimetype": "text/x-python",
   "name": "python",
   "nbconvert_exporter": "python",
   "pygments_lexer": "ipython3",
   "version": "3.10.10"
  }
 },
 "nbformat": 4,
 "nbformat_minor": 0
}
