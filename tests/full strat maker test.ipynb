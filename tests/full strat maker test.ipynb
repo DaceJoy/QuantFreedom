{
 "cells": [
  {
   "cell_type": "code",
   "execution_count": 1,
   "metadata": {},
   "outputs": [],
   "source": [
    "# import os\n",
    "# import sys\n",
    "\n",
    "# sys.dont_write_bytecode = True\n",
    "# os.environ[\"NUMBA_DISABLE_JIT\"] = \"1\"\n",
    "\n",
    "# import os\n",
    "# os.environ[\"NUMBA_DEBUG\"] = \"1\"\n",
    "# os.environ[\"NUMBA_DEBUGINFO\"] = \"1\"\n",
    "# os.environ[\"NUMBA_DEBUG_TYPEINFER\"] = \"1\""
   ]
  },
  {
   "cell_type": "code",
   "execution_count": 2,
   "metadata": {
    "collapsed": true
   },
   "outputs": [],
   "source": [
    "import numpy as np\n",
    "import pandas as pd\n",
    "from quantfreedom.base.strategy_maker_cls import StrategyMaker\n",
    "from quantfreedom.enums.enums import (\n",
    "    CandleBody,\n",
    "    LeverageMode,\n",
    "    OrderType,\n",
    "    SizeType,\n",
    "    OrderSettingsArrays,\n",
    "    StaticVariables,\n",
    ")\n",
    "\n",
    "np.set_printoptions(formatter={\"float_kind\": \"{:.2f}\".format})\n",
    "pd.options.display.float_format = \"{:,.2f}\".format\n",
    "\n",
    "# prices = data_download_from_ccxt(\n",
    "#     exchange='bybit',\n",
    "#     start='2020-10-01T00:00:00Z',\n",
    "#     end='2021-04-15T00:00:00Z',\n",
    "#     symbols=['BTCUSDT', 'ETHUSD'],\n",
    "#     timeframe='30m',\n",
    "# )\n",
    "\n",
    "sm = StrategyMaker()\n",
    "\n",
    "price_data = pd.read_hdf(\"../tests/data/prices.hd5\")"
   ]
  },
  {
   "cell_type": "code",
   "execution_count": 6,
   "metadata": {},
   "outputs": [
    {
     "ename": "ValueError",
     "evalue": "Cannot remove 3 levels from an index with 3 levels: at least one level must be left.",
     "output_type": "error",
     "traceback": [
      "\u001b[1;31m---------------------------------------------------------------------------\u001b[0m",
      "\u001b[1;31mValueError\u001b[0m                                Traceback (most recent call last)",
      "Cell \u001b[1;32mIn[6], line 14\u001b[0m\n\u001b[0;32m      1\u001b[0m rsi_ind \u001b[39m=\u001b[39m sm\u001b[39m.\u001b[39mfrom_talib(\n\u001b[0;32m      2\u001b[0m     func_name\u001b[39m=\u001b[39m\u001b[39m\"\u001b[39m\u001b[39mrsi\u001b[39m\u001b[39m\"\u001b[39m,\n\u001b[0;32m      3\u001b[0m     price_data\u001b[39m=\u001b[39mprice_data,\n\u001b[1;32m   (...)\u001b[0m\n\u001b[0;32m      6\u001b[0m     timeperiod\u001b[39m=\u001b[39m[\u001b[39m15\u001b[39m, \u001b[39m30\u001b[39m],\n\u001b[0;32m      7\u001b[0m )\n\u001b[0;32m      9\u001b[0m entries \u001b[39m=\u001b[39m rsi_ind\u001b[39m.\u001b[39mis_below(\n\u001b[0;32m     10\u001b[0m     user_args\u001b[39m=\u001b[39m[\u001b[39m40\u001b[39m, \u001b[39m50\u001b[39m],\n\u001b[0;32m     11\u001b[0m     candle_ohlc\u001b[39m=\u001b[39m\u001b[39m\"\u001b[39m\u001b[39mclose\u001b[39m\u001b[39m\"\u001b[39m,\n\u001b[0;32m     12\u001b[0m )\n\u001b[1;32m---> 14\u001b[0m entries \u001b[39m=\u001b[39m sm\u001b[39m.\u001b[39;49mcombined_data_frame()\n",
      "File \u001b[1;32me:\\coding\\backtesters\\quantfreedom\\quantfreedom\\base\\strategy_maker_cls.py:113\u001b[0m, in \u001b[0;36mStrategyMaker.combined_data_frame\u001b[1;34m(self)\u001b[0m\n\u001b[0;32m    111\u001b[0m             b \u001b[39m=\u001b[39m v\n\u001b[0;32m    112\u001b[0m         \u001b[39melse\u001b[39;00m:\n\u001b[1;32m--> 113\u001b[0m             b \u001b[39m=\u001b[39m _combine_evals(b, v)\n\u001b[0;32m    114\u001b[0m \u001b[39mself\u001b[39m\u001b[39m.\u001b[39mcombined_data \u001b[39m=\u001b[39m b\n\u001b[0;32m    115\u001b[0m \u001b[39mreturn\u001b[39;00m b\n",
      "File \u001b[1;32me:\\coding\\backtesters\\quantfreedom\\quantfreedom\\evaluators\\evaluators.py:97\u001b[0m, in \u001b[0;36m_combine_evals\u001b[1;34m(first_eval_data, second_eval_data, plot_results, first_eval_data_needs_prices, second_eval_data_needs_prices, price_data, first_ind_data, second_ind_data)\u001b[0m\n\u001b[0;32m     92\u001b[0m         pd_col_names\u001b[39m.\u001b[39mappend(first_eval_data\u001b[39m.\u001b[39mcolumns\u001b[39m.\u001b[39mnames[x])\n\u001b[0;32m     93\u001b[0m levels \u001b[39m=\u001b[39m \u001b[39mlist\u001b[39m(product(\u001b[39m*\u001b[39mlist_for_product))\n\u001b[0;32m     95\u001b[0m pd_col_names \u001b[39m=\u001b[39m (\n\u001b[0;32m     96\u001b[0m     pd_col_names\n\u001b[1;32m---> 97\u001b[0m     \u001b[39m+\u001b[39m \u001b[39mlist\u001b[39m(first_eval_data\u001b[39m.\u001b[39;49mdroplevel(pd_col_names, axis\u001b[39m=\u001b[39;49m\u001b[39m1\u001b[39;49m)\u001b[39m.\u001b[39mcolumns\u001b[39m.\u001b[39mnames)\n\u001b[0;32m     98\u001b[0m     \u001b[39m+\u001b[39m \u001b[39mlist\u001b[39m(second_eval_data\u001b[39m.\u001b[39mdroplevel(pd_col_names, axis\u001b[39m=\u001b[39m\u001b[39m1\u001b[39m)\u001b[39m.\u001b[39mcolumns\u001b[39m.\u001b[39mnames)\n\u001b[0;32m     99\u001b[0m )\n\u001b[0;32m    101\u001b[0m combine_array \u001b[39m=\u001b[39m np\u001b[39m.\u001b[39mempty(\n\u001b[0;32m    102\u001b[0m     (\n\u001b[0;32m    103\u001b[0m         first_eval_data\u001b[39m.\u001b[39mshape[\u001b[39m0\u001b[39m],\n\u001b[1;32m   (...)\u001b[0m\n\u001b[0;32m    108\u001b[0m     dtype\u001b[39m=\u001b[39mnp\u001b[39m.\u001b[39mbool_,\n\u001b[0;32m    109\u001b[0m )\n\u001b[0;32m    111\u001b[0m \u001b[39mtry\u001b[39;00m:\n",
      "File \u001b[1;32me:\\Coding\\virtual environments\\qfFree\\lib\\site-packages\\pandas\\core\\generic.py:919\u001b[0m, in \u001b[0;36mNDFrame.droplevel\u001b[1;34m(self, level, axis)\u001b[0m\n\u001b[0;32m    860\u001b[0m \u001b[39m\u001b[39m\u001b[39m\"\"\"\u001b[39;00m\n\u001b[0;32m    861\u001b[0m \u001b[39mReturn {klass} with requested index / column level(s) removed.\u001b[39;00m\n\u001b[0;32m    862\u001b[0m \n\u001b[1;32m   (...)\u001b[0m\n\u001b[0;32m    916\u001b[0m \u001b[39m9 10    11  12\u001b[39;00m\n\u001b[0;32m    917\u001b[0m \u001b[39m\"\"\"\u001b[39;00m\n\u001b[0;32m    918\u001b[0m labels \u001b[39m=\u001b[39m \u001b[39mself\u001b[39m\u001b[39m.\u001b[39m_get_axis(axis)\n\u001b[1;32m--> 919\u001b[0m new_labels \u001b[39m=\u001b[39m labels\u001b[39m.\u001b[39;49mdroplevel(level)\n\u001b[0;32m    920\u001b[0m \u001b[39mreturn\u001b[39;00m \u001b[39mself\u001b[39m\u001b[39m.\u001b[39mset_axis(new_labels, axis\u001b[39m=\u001b[39maxis)\n",
      "File \u001b[1;32me:\\Coding\\virtual environments\\qfFree\\lib\\site-packages\\pandas\\core\\indexes\\base.py:2182\u001b[0m, in \u001b[0;36mIndex.droplevel\u001b[1;34m(self, level)\u001b[0m\n\u001b[0;32m   2178\u001b[0m     level \u001b[39m=\u001b[39m [level]\n\u001b[0;32m   2180\u001b[0m levnums \u001b[39m=\u001b[39m \u001b[39msorted\u001b[39m(\u001b[39mself\u001b[39m\u001b[39m.\u001b[39m_get_level_number(lev) \u001b[39mfor\u001b[39;00m lev \u001b[39min\u001b[39;00m level)[::\u001b[39m-\u001b[39m\u001b[39m1\u001b[39m]\n\u001b[1;32m-> 2182\u001b[0m \u001b[39mreturn\u001b[39;00m \u001b[39mself\u001b[39;49m\u001b[39m.\u001b[39;49m_drop_level_numbers(levnums)\n",
      "File \u001b[1;32me:\\Coding\\virtual environments\\qfFree\\lib\\site-packages\\pandas\\core\\indexes\\base.py:2193\u001b[0m, in \u001b[0;36mIndex._drop_level_numbers\u001b[1;34m(self, levnums)\u001b[0m\n\u001b[0;32m   2191\u001b[0m     \u001b[39mreturn\u001b[39;00m \u001b[39mself\u001b[39m\n\u001b[0;32m   2192\u001b[0m \u001b[39mif\u001b[39;00m \u001b[39mlen\u001b[39m(levnums) \u001b[39m>\u001b[39m\u001b[39m=\u001b[39m \u001b[39mself\u001b[39m\u001b[39m.\u001b[39mnlevels:\n\u001b[1;32m-> 2193\u001b[0m     \u001b[39mraise\u001b[39;00m \u001b[39mValueError\u001b[39;00m(\n\u001b[0;32m   2194\u001b[0m         \u001b[39mf\u001b[39m\u001b[39m\"\u001b[39m\u001b[39mCannot remove \u001b[39m\u001b[39m{\u001b[39;00m\u001b[39mlen\u001b[39m(levnums)\u001b[39m}\u001b[39;00m\u001b[39m levels from an index with \u001b[39m\u001b[39m\"\u001b[39m\n\u001b[0;32m   2195\u001b[0m         \u001b[39mf\u001b[39m\u001b[39m\"\u001b[39m\u001b[39m{\u001b[39;00m\u001b[39mself\u001b[39m\u001b[39m.\u001b[39mnlevels\u001b[39m}\u001b[39;00m\u001b[39m levels: at least one level must be left.\u001b[39m\u001b[39m\"\u001b[39m\n\u001b[0;32m   2196\u001b[0m     )\n\u001b[0;32m   2197\u001b[0m \u001b[39m# The two checks above guarantee that here self is a MultiIndex\u001b[39;00m\n\u001b[0;32m   2198\u001b[0m \u001b[39mself\u001b[39m \u001b[39m=\u001b[39m cast(\u001b[39m\"\u001b[39m\u001b[39mMultiIndex\u001b[39m\u001b[39m\"\u001b[39m, \u001b[39mself\u001b[39m)\n",
      "\u001b[1;31mValueError\u001b[0m: Cannot remove 3 levels from an index with 3 levels: at least one level must be left."
     ]
    }
   ],
   "source": [
    "rsi_ind = sm.from_talib(\n",
    "    func_name=\"rsi\",\n",
    "    price_data=price_data,\n",
    "    cart_product=False,\n",
    "    combos=False,\n",
    "    timeperiod=[15, 30],\n",
    ")\n",
    "\n",
    "entries = rsi_ind.is_below(\n",
    "    user_args=[40, 50],\n",
    "    candle_ohlc=\"close\",\n",
    ")\n",
    "\n",
    "entries = sm.combined_data_frame()"
   ]
  },
  {
   "cell_type": "code",
   "execution_count": 3,
   "metadata": {},
   "outputs": [],
   "source": [
    "static_vars = StaticVariables(\n",
    "    equity=1000.,\n",
    "    lev_mode=LeverageMode.LeastFreeCashUsed,\n",
    "    order_type=OrderType.LongEntry,\n",
    "    size_type=SizeType.RiskPercentOfAccount,\n",
    ")\n",
    "order_settings = OrderSettingsArrays(\n",
    "    max_equity_risk_pct=6.,\n",
    "    risk_reward=[2,4,5],\n",
    "    size_pct=1.,\n",
    "    sl_based_on=CandleBody.low,\n",
    "    sl_based_on_lookback=30,\n",
    "    sl_based_on_add_pct=.2,\n",
    ")"
   ]
  },
  {
   "cell_type": "code",
   "execution_count": 5,
   "metadata": {
    "collapsed": false
   },
   "outputs": [
    {
     "ename": "ValueError",
     "evalue": "You have to call combine data method first.",
     "output_type": "error",
     "traceback": [
      "\u001b[1;31m---------------------------------------------------------------------------\u001b[0m",
      "\u001b[1;31mValueError\u001b[0m                                Traceback (most recent call last)",
      "Cell \u001b[1;32mIn[5], line 1\u001b[0m\n\u001b[1;32m----> 1\u001b[0m strat_results_df, settings_results_df \u001b[39m=\u001b[39m sm\u001b[39m.\u001b[39;49mbacktest_df(\n\u001b[0;32m      2\u001b[0m     price_data\u001b[39m=\u001b[39;49mprice_data,\n\u001b[0;32m      3\u001b[0m     static_variables_tuple\u001b[39m=\u001b[39;49mstatic_vars,\n\u001b[0;32m      4\u001b[0m     order_settings_arrays_tuple\u001b[39m=\u001b[39;49morder_settings,\n\u001b[0;32m      5\u001b[0m )\n",
      "File \u001b[1;32me:\\coding\\backtesters\\quantfreedom\\quantfreedom\\base\\strategy_maker_cls.py:125\u001b[0m, in \u001b[0;36mStrategyMaker.backtest_df\u001b[1;34m(self, price_data, static_variables_tuple, order_settings_arrays_tuple)\u001b[0m\n\u001b[0;32m    123\u001b[0m entries \u001b[39m=\u001b[39m \u001b[39mself\u001b[39m\u001b[39m.\u001b[39mcombined_data\n\u001b[0;32m    124\u001b[0m \u001b[39mif\u001b[39;00m entries \u001b[39mis\u001b[39;00m \u001b[39mNone\u001b[39;00m:\n\u001b[1;32m--> 125\u001b[0m     \u001b[39mraise\u001b[39;00m \u001b[39mValueError\u001b[39;00m(\u001b[39m\"\u001b[39m\u001b[39mYou have to call combine data method first.\u001b[39m\u001b[39m\"\u001b[39m)\n\u001b[0;32m    127\u001b[0m \u001b[39mself\u001b[39m\u001b[39m.\u001b[39mprice_data \u001b[39m=\u001b[39m price_data\n\u001b[0;32m    128\u001b[0m \u001b[39mself\u001b[39m\u001b[39m.\u001b[39mstatic_vars \u001b[39m=\u001b[39m static_variables_tuple\n",
      "\u001b[1;31mValueError\u001b[0m: You have to call combine data method first."
     ]
    }
   ],
   "source": [
    "strat_results_df, settings_results_df = sm.backtest_df(\n",
    "    price_data=price_data,\n",
    "    static_variables_tuple=static_vars,\n",
    "    order_settings_arrays_tuple=order_settings,\n",
    ")"
   ]
  },
  {
   "cell_type": "code",
   "execution_count": null,
   "metadata": {},
   "outputs": [],
   "source": [
    "settings_results_df"
   ]
  },
  {
   "cell_type": "code",
   "execution_count": null,
   "metadata": {},
   "outputs": [],
   "source": [
    "sm.strategy_dashboard([1,18, 8, 6])"
   ]
  },
  {
   "cell_type": "code",
   "execution_count": null,
   "metadata": {},
   "outputs": [],
   "source": []
  }
 ],
 "metadata": {
  "kernelspec": {
   "display_name": "Python 3 (ipykernel)",
   "language": "python",
   "name": "python3"
  },
  "language_info": {
   "codemirror_mode": {
    "name": "ipython",
    "version": 3
   },
   "file_extension": ".py",
   "mimetype": "text/x-python",
   "name": "python",
   "nbconvert_exporter": "python",
   "pygments_lexer": "ipython3",
   "version": "3.10.10"
  }
 },
 "nbformat": 4,
 "nbformat_minor": 1
}
