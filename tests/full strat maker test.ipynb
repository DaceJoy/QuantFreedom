{
 "cells": [
  {
   "cell_type": "code",
   "execution_count": 1,
   "metadata": {},
   "outputs": [],
   "source": [
    "# import os\n",
    "# import sys\n",
    "\n",
    "# sys.dont_write_bytecode = True\n",
    "# os.environ[\"NUMBA_DISABLE_JIT\"] = \"1\"\n",
    "\n",
    "# import os\n",
    "# os.environ[\"NUMBA_DEBUG\"] = \"1\"\n",
    "# os.environ[\"NUMBA_DEBUGINFO\"] = \"1\"\n",
    "# os.environ[\"NUMBA_DEBUG_TYPEINFER\"] = \"1\""
   ]
  },
  {
   "cell_type": "code",
   "execution_count": 2,
   "metadata": {
    "collapsed": true
   },
   "outputs": [],
   "source": [
    "import numpy as np\n",
    "import pandas as pd\n",
    "from quantfreedom.base.strategy_maker_cls import StrategyMaker\n",
    "from quantfreedom.enums.enums import (\n",
    "    CandleBody,\n",
    "    LeverageMode,\n",
    "    OrderType,\n",
    "    SizeType,\n",
    "    OrderSettingsArrays,\n",
    "    StaticVariables,\n",
    ")\n",
    "\n",
    "np.set_printoptions(formatter={\"float_kind\": \"{:.2f}\".format})\n",
    "pd.options.display.float_format = \"{:,.2f}\".format\n",
    "\n",
    "# prices = data_download_from_ccxt(\n",
    "#     exchange='bybit',\n",
    "#     start='2020-10-01T00:00:00Z',\n",
    "#     end='2021-04-15T00:00:00Z',\n",
    "#     symbols=['BTCUSDT', 'ETHUSD'],\n",
    "#     timeframe='30m',\n",
    "# )\n",
    "\n",
    "sm = StrategyMaker()\n",
    "\n",
    "price_data = pd.read_hdf(\"../tests/data/prices.hd5\")\n",
    "\n",
    "rsi_ind = sm.from_talib(\n",
    "    func_name=\"rsi\",\n",
    "    price_data=price_data,\n",
    "    cart_product=False,\n",
    "    combos=False,\n",
    "    timeperiod=[15, 30],\n",
    ")\n",
    "\n",
    "entries = rsi_ind.is_below(\n",
    "    user_args=[40, 50],\n",
    "    candle_ohlc=\"close\",\n",
    ")\n",
    "\n",
    "entries = sm.combined_data_frame()"
   ]
  },
  {
   "cell_type": "code",
   "execution_count": 3,
   "metadata": {},
   "outputs": [],
   "source": [
    "static_vars = StaticVariables(\n",
    "    equity=1000.,\n",
    "    lev_mode=LeverageMode.LeastFreeCashUsed,\n",
    "    order_type=OrderType.LongEntry,\n",
    "    size_type=SizeType.RiskPercentOfAccount,\n",
    ")\n",
    "order_settings = OrderSettingsArrays(\n",
    "    max_equity_risk_pct=6.,\n",
    "    risk_reward=[2,4,5],\n",
    "    size_pct=1.,\n",
    "    sl_based_on=CandleBody.low,\n",
    "    sl_based_on_lookback=30,\n",
    "    sl_based_on_add_pct=.2,\n",
    ")"
   ]
  },
  {
   "cell_type": "code",
   "execution_count": 4,
   "metadata": {
    "collapsed": false
   },
   "outputs": [
    {
     "name": "stdout",
     "output_type": "stream",
     "text": [
      "Checking static variables for errors or conflicts.\n",
      "Turning all variables into arrays.\n",
      "Checking arrays for errors or conflicts ... the backtest will begin shortly, please hold.\n",
      "Creating cartesian product ... after this the backtest will start, I promise :).\n",
      "\n",
      "Starting the backtest now ... and also here are some stats for your backtest.\n",
      "\n",
      "Total symbols: 5\n",
      "Total indicator settings per symbol: 4\n",
      "Total indicator settings to test: 20\n",
      "Total order settings per symbol: 3\n",
      "Total order settings to test: 15\n",
      "Total candles per symbol: 9,408\n",
      "Total candles to test: 564,480\n",
      "\n",
      "Total combinations to test: 60\n"
     ]
    }
   ],
   "source": [
    "strat_results_df, settings_results_df = sm.backtest_df(\n",
    "    price_data=price_data,\n",
    "    static_variables_tuple=static_vars,\n",
    "    order_settings_arrays_tuple=order_settings,\n",
    ")"
   ]
  },
  {
   "cell_type": "code",
   "execution_count": null,
   "metadata": {},
   "outputs": [],
   "source": [
    "# sm.strategy_dashboard([1,18, 8, 6])"
   ]
  },
  {
   "cell_type": "code",
   "execution_count": null,
   "metadata": {},
   "outputs": [],
   "source": []
  }
 ],
 "metadata": {
  "kernelspec": {
   "display_name": "Python 3 (ipykernel)",
   "language": "python",
   "name": "python3"
  },
  "language_info": {
   "codemirror_mode": {
    "name": "ipython",
    "version": 3
   },
   "file_extension": ".py",
   "mimetype": "text/x-python",
   "name": "python",
   "nbconvert_exporter": "python",
   "pygments_lexer": "ipython3",
   "version": "3.10.6"
  }
 },
 "nbformat": 4,
 "nbformat_minor": 1
}
