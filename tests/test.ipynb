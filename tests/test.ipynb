{
  "cells": [
    {
      "cell_type": "code",
      "execution_count": 6,
      "metadata": {},
      "outputs": [],
      "source": [
        "from pathlib import Path\n",
        "import os\n",
        "\n",
        "import mkdocs_gen_files"
      ]
    },
    {
      "cell_type": "code",
      "execution_count": 11,
      "metadata": {},
      "outputs": [
        {
          "name": "stdout",
          "output_type": "stream",
          "text": [
            "e:\\Coding\\backtesters\\QuantFreedom\\tests\n"
          ]
        }
      ],
      "source": [
        "import pathlib\n",
        "dir_file = os.path.abspath('')\n",
        "p = pathlib.Path(dir_file)\n",
        "print(p)"
      ]
    },
    {
      "cell_type": "code",
      "execution_count": 3,
      "metadata": {},
      "outputs": [],
      "source": [
        "for path in sorted(Path(\"src\").rglob(\"*.py\")):  \n",
        "    module_path = path.relative_to(\"src\").with_suffix(\"\")  \n",
        "    doc_path = path.relative_to(\"src\").with_suffix(\".md\")  \n",
        "    full_doc_path = Path(\"reference\", doc_path)  \n",
        "\n",
        "    parts = list(module_path.parts)\n",
        "\n",
        "    if parts[-1] == \"__init__\":  # \n",
        "        parts = parts[:-1]\n",
        "    elif parts[-1] == \"__main__\":\n",
        "        continue\n",
        "\n",
        "    with mkdocs_gen_files.open(full_doc_path, \"w\") as fd:  \n",
        "        identifier = \".\".join(parts)  \n",
        "        print(\"::: \" + identifier, file=fd)  \n",
        "\n",
        "    mkdocs_gen_files.set_edit_path(full_doc_path, path)  \n"
      ]
    }
  ],
  "metadata": {
    "kernelspec": {
      "display_name": "qfFree",
      "language": "python",
      "name": "python3"
    },
    "language_info": {
      "codemirror_mode": {
        "name": "ipython",
        "version": 3
      },
      "file_extension": ".py",
      "mimetype": "text/x-python",
      "name": "python",
      "nbconvert_exporter": "python",
      "pygments_lexer": "ipython3",
      "version": "3.10.10"
    },
    "orig_nbformat": 4
  },
  "nbformat": 4,
  "nbformat_minor": 2
}
