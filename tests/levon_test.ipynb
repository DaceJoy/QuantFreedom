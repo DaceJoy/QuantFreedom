{
 "cells": [
  {
   "cell_type": "code",
   "execution_count": 1,
   "metadata": {},
   "outputs": [
    {
     "ename": "ImportError",
     "evalue": "cannot import name 'from_talib' from 'quantfreedom.levon_qf.talib_ind_levon' (d:\\coding\\quantfreedom\\quantfreedom\\levon_qf\\talib_ind_levon.py)",
     "output_type": "error",
     "traceback": [
      "\u001b[1;31m---------------------------------------------------------------------------\u001b[0m",
      "\u001b[1;31mImportError\u001b[0m                               Traceback (most recent call last)",
      "Cell \u001b[1;32mIn[1], line 3\u001b[0m\n\u001b[0;32m      1\u001b[0m \u001b[39mfrom\u001b[39;00m \u001b[39mquantfreedom\u001b[39;00m \u001b[39mimport\u001b[39;00m generate_candles\n\u001b[0;32m      2\u001b[0m \u001b[39mfrom\u001b[39;00m \u001b[39mquantfreedom\u001b[39;00m\u001b[39m.\u001b[39;00m\u001b[39mlevon_qf\u001b[39;00m\u001b[39m.\u001b[39;00m\u001b[39mstrategy_maker_cls_levon\u001b[39;00m \u001b[39mimport\u001b[39;00m StrategyMaker\n\u001b[1;32m----> 3\u001b[0m \u001b[39mfrom\u001b[39;00m \u001b[39mquantfreedom\u001b[39;00m\u001b[39m.\u001b[39;00m\u001b[39mlevon_qf\u001b[39;00m\u001b[39m.\u001b[39;00m\u001b[39mtalib_ind_levon\u001b[39;00m \u001b[39mimport\u001b[39;00m from_talib\n\u001b[0;32m      5\u001b[0m price_data \u001b[39m=\u001b[39m generate_candles(\n\u001b[0;32m      6\u001b[0m     number_of_candles\u001b[39m=\u001b[39m\u001b[39m200\u001b[39m,\n\u001b[0;32m      7\u001b[0m     plot_candles\u001b[39m=\u001b[39m\u001b[39mFalse\u001b[39;00m,\n\u001b[0;32m      8\u001b[0m     seed\u001b[39m=\u001b[39m\u001b[39mNone\u001b[39;00m,\n\u001b[0;32m      9\u001b[0m )\n\u001b[0;32m     10\u001b[0m sm \u001b[39m=\u001b[39m StrategyMaker()\n",
      "\u001b[1;31mImportError\u001b[0m: cannot import name 'from_talib' from 'quantfreedom.levon_qf.talib_ind_levon' (d:\\coding\\quantfreedom\\quantfreedom\\levon_qf\\talib_ind_levon.py)"
     ]
    }
   ],
   "source": [
    "from quantfreedom import generate_candles\n",
    "from quantfreedom.levon_qf.strategy_maker_cls_levon import StrategyMaker\n",
    "from quantfreedom.levon_qf.talib_ind_levon import from_talib\n",
    "\n",
    "price_data = generate_candles(\n",
    "    number_of_candles=200,\n",
    "    plot_candles=False,\n",
    "    seed=None,\n",
    ")\n",
    "sm = StrategyMaker()\n",
    "rsi_data = sm.from_talib(\n",
    "    func_name=\"rsi\",\n",
    "    price_data=price_data,\n",
    "    timeperiod=15,\n",
    "    plot_results=False,\n",
    "    # price=\"low\",\n",
    ")\n",
    "\n",
    "ema_data = sm.from_talib(\n",
    "    func_name=\"ema\",\n",
    "    price_data=price_data,\n",
    "    timeperiod=15,\n",
    "    plot_results=False,\n",
    "    # price=\"low\",\n",
    ")\n",
    "ema_data.is_below(price_data=price_data, cand_ohlc=\"close\")\n",
    "rsi_ema_ind = sm.from_talib(\n",
    "    func_name='ema',\n",
    "    indicator_data=rsi_data.data,\n",
    "    cart_product=False,\n",
    "    combos=False,\n",
    "    timeperiod=30,\n",
    ")\n",
    "rsi_data.is_below(user_args=45)\n",
    "rsi_ema_ind.data\n",
    "rsi_data.is_below(indicator_data=rsi_ema_ind.data)\n",
    "sm.combined_data_frame()"
   ]
  },
  {
   "cell_type": "code",
   "execution_count": null,
   "metadata": {},
   "outputs": [],
   "source": [
    "sm.backtest()"
   ]
  }
 ],
 "metadata": {
  "kernelspec": {
   "display_name": "qfFree",
   "language": "python",
   "name": "python3"
  },
  "language_info": {
   "codemirror_mode": {
    "name": "ipython",
    "version": 3
   },
   "file_extension": ".py",
   "mimetype": "text/x-python",
   "name": "python",
   "nbconvert_exporter": "python",
   "pygments_lexer": "ipython3",
   "version": "3.10.10"
  },
  "orig_nbformat": 4
 },
 "nbformat": 4,
 "nbformat_minor": 2
}
