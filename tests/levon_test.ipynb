{
 "cells": [
  {
   "cell_type": "code",
   "execution_count": 9,
   "metadata": {},
   "outputs": [],
   "source": [
    "from quantfreedom import generate_candles\n",
    "from quantfreedom.levon_qf.strategy_maker_cls_levon import StrategyMaker\n",
    "from quantfreedom.levon_qf.talib_ind_levon import from_talib\n",
    "\n",
    "price_data = generate_candles(\n",
    "    number_of_candles=200,\n",
    "    plot_candles=False,\n",
    "    seed=None,\n",
    ")\n",
    "sm = StrategyMaker\n",
    "rsi_data = sm.from_talib(\n",
    "     func_name=\"rsi\",\n",
    "     price_data=price_data,\n",
    "    timeperiod=15,\n",
    "    plot_results=False,\n",
    "    # price=\"low\",\n",
    ")\n",
    "rsi_ema_ind = sm.from_talib(\n",
    "    func_name='ema',\n",
    "    indicator_data=rsi_data.data,\n",
    "    cart_product=False,\n",
    "    combos=False,\n",
    "    timeperiod=30,\n",
    ")\n",
    "rsi_data.is_below(user_args=45)\n",
    "rsi_ema_ind.data\n",
    "rsi_data.is_below(indicator_data=rsi_ema_ind.data)\n",
    "# rsi_data.combined_data_frame(['is_below0', 'is_below1']\n",
    "\n",
    "sm.print()\n",
    "\n"
   ]
  }
 ],
 "metadata": {
  "kernelspec": {
   "display_name": "qfFree",
   "language": "python",
   "name": "python3"
  },
  "language_info": {
   "codemirror_mode": {
    "name": "ipython",
    "version": 3
   },
   "file_extension": ".py",
   "mimetype": "text/x-python",
   "name": "python",
   "nbconvert_exporter": "python",
   "pygments_lexer": "ipython3",
   "version": "3.10.10"
  },
  "orig_nbformat": 4
 },
 "nbformat": 4,
 "nbformat_minor": 2
}
