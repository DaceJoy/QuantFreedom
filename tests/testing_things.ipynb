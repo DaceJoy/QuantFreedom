{
 "cells": [
  {
   "cell_type": "code",
   "execution_count": 1,
   "metadata": {},
   "outputs": [],
   "source": [
    "import os\n",
    "import sys\n",
    "\n",
    "sys.dont_write_bytecode = True\n",
    "os.environ[\"NUMBA_DISABLE_JIT\"] = \"1\"\n",
    "\n",
    "import numpy as np\n",
    "import pandas as pd\n",
    "\n",
    "from quantfreedom.evaluators.evaluators import is_below\n",
    "from quantfreedom.indicators.talib_ind import from_talib\n",
    "from quantfreedom.testing_stuff.base_testing import backtest_df_only_testing\n",
    "from quantfreedom.testing_stuff.enums_testing import (\n",
    "    CandleBody,\n",
    "    LeverageMode,\n",
    "    OrderSettingsArrays,\n",
    "    OrderType,\n",
    "    SizeType,\n",
    "    StaticVariables,\n",
    ")\n",
    "\n",
    "\n",
    "np.set_printoptions(formatter={\"float_kind\": \"{:.2f}\".format})\n",
    "pd.options.display.float_format = \"{:,.2f}\".format\n",
    "\n",
    "# prices = data_download_from_ccxt(\n",
    "#     exchange='bybit',\n",
    "#     start='2020-10-01T00:00:00Z',\n",
    "#     end='2021-04-15T00:00:00Z',\n",
    "#     symbols=['BTCUSDT', 'ETHUSD'],\n",
    "#     timeframe='30m',\n",
    "# )\n",
    "\n",
    "# prices.to_hdf(\"yt_prices.hd5\", key='data')\n",
    "price_data = pd.read_hdf(\"data/prices.hd5\")\n",
    "rsi_ind = from_talib(\n",
    "    func_name=\"rsi\",\n",
    "    price_data=price_data,\n",
    "    cart_product=False,\n",
    "    combos=False,\n",
    "    timeperiod=[15, 30],\n",
    ")\n",
    "entries = is_below(\n",
    "    want_to_evaluate=rsi_ind,\n",
    "    user_args=[40, 50],\n",
    "    candle_ohlc=\"close\",\n",
    ")"
   ]
  },
  {
   "cell_type": "code",
   "execution_count": 4,
   "metadata": {},
   "outputs": [
    {
     "name": "stdout",
     "output_type": "stream",
     "text": [
      "Checking static variables for errors or conflicts.\n",
      "Turning all variables into arrays.\n",
      "Checking arrays for errors or conflicts ... the backtest will begin shortly, please hold.\n",
      "Creating cartesian product ... after this the backtest will start, I promise :).\n",
      "\n",
      "Starting the backtest now ... and also here are some stats for your backtest.\n",
      "\n",
      "Total symbols: 5\n",
      "Total indicator settings per symbol: 4\n",
      "Total indicator settings to test: 20\n",
      "Total order settings per symbol: 1\n",
      "Total order settings to test: 5\n",
      "Total candles per symbol: 9,408\n",
      "Total candles to test: 188,160\n",
      "\n",
      "Total combinations to test: 20\n"
     ]
    },
    {
     "ename": "RejectedOrderError",
     "evalue": "Long Increase - Size Value is either to big or too small",
     "output_type": "error",
     "traceback": [
      "\u001b[1;31m---------------------------------------------------------------------------\u001b[0m",
      "\u001b[1;31mRejectedOrderError\u001b[0m                        Traceback (most recent call last)",
      "Cell \u001b[1;32mIn[4], line 15\u001b[0m\n\u001b[0;32m      1\u001b[0m static_vars \u001b[39m=\u001b[39m StaticVariables(\n\u001b[0;32m      2\u001b[0m     equity\u001b[39m=\u001b[39m\u001b[39m1000.\u001b[39m,\n\u001b[0;32m      3\u001b[0m     lev_mode\u001b[39m=\u001b[39mLeverageMode\u001b[39m.\u001b[39mLeastFreeCashUsed,\n\u001b[0;32m      4\u001b[0m     order_type\u001b[39m=\u001b[39mOrderType\u001b[39m.\u001b[39mLongEntry,\n\u001b[0;32m      5\u001b[0m     size_type\u001b[39m=\u001b[39mSizeType\u001b[39m.\u001b[39mRiskPercentOfAccount,\n\u001b[0;32m      6\u001b[0m )\n\u001b[0;32m      7\u001b[0m order_settings \u001b[39m=\u001b[39m OrderSettingsArrays(\n\u001b[0;32m      8\u001b[0m     max_equity_risk_pct\u001b[39m=\u001b[39m\u001b[39m6.\u001b[39m,\n\u001b[0;32m      9\u001b[0m     risk_reward\u001b[39m=\u001b[39m\u001b[39m5\u001b[39m,\n\u001b[1;32m   (...)\u001b[0m\n\u001b[0;32m     13\u001b[0m     sl_based_on_add_pct\u001b[39m=\u001b[39m\u001b[39m.2\u001b[39m,\n\u001b[0;32m     14\u001b[0m )\n\u001b[1;32m---> 15\u001b[0m asdf \u001b[39m=\u001b[39m backtest_df_only_testing(\n\u001b[0;32m     16\u001b[0m     price_data\u001b[39m=\u001b[39;49mprice_data,\n\u001b[0;32m     17\u001b[0m     entries\u001b[39m=\u001b[39;49mentries,\n\u001b[0;32m     18\u001b[0m     static_variables_tuple\u001b[39m=\u001b[39;49mstatic_vars,\n\u001b[0;32m     19\u001b[0m     order_settings_arrays_tuple\u001b[39m=\u001b[39;49morder_settings,\n\u001b[0;32m     20\u001b[0m )\n",
      "File \u001b[1;32md:\\coding\\quantfreedom\\quantfreedom\\testing_stuff\\base_testing.py:80\u001b[0m, in \u001b[0;36mbacktest_df_only_testing\u001b[1;34m(price_data, entries, static_variables_tuple, order_settings_arrays_tuple)\u001b[0m\n\u001b[0;32m     73\u001b[0m \u001b[39mprint\u001b[39m(\n\u001b[0;32m     74\u001b[0m     \u001b[39mf\u001b[39m\u001b[39m\"\u001b[39m\u001b[39mTotal candles to test: \u001b[39m\u001b[39m{\u001b[39;00mtotal_indicator_settings\u001b[39m \u001b[39m\u001b[39m*\u001b[39m\u001b[39m \u001b[39mtotal_order_settings\u001b[39m \u001b[39m\u001b[39m*\u001b[39m\u001b[39m \u001b[39mtotal_bars\u001b[39m:\u001b[39;00m\u001b[39m,\u001b[39m\u001b[39m}\u001b[39;00m\u001b[39m\"\u001b[39m\n\u001b[0;32m     75\u001b[0m )\n\u001b[0;32m     76\u001b[0m \u001b[39mprint\u001b[39m(\n\u001b[0;32m     77\u001b[0m     \u001b[39mf\u001b[39m\u001b[39m\"\u001b[39m\u001b[39m\\n\u001b[39;00m\u001b[39mTotal combinations to test: \u001b[39m\u001b[39m{\u001b[39;00mtotal_indicator_settings\u001b[39m \u001b[39m\u001b[39m*\u001b[39m\u001b[39m \u001b[39mtotal_order_settings\u001b[39m:\u001b[39;00m\u001b[39m,\u001b[39m\u001b[39m}\u001b[39;00m\u001b[39m\"\u001b[39m\n\u001b[0;32m     78\u001b[0m )\n\u001b[1;32m---> 80\u001b[0m strat_array, settings_array \u001b[39m=\u001b[39m backtest_df_only_nb_testing(\n\u001b[0;32m     81\u001b[0m     entries\u001b[39m=\u001b[39;49mentries\u001b[39m.\u001b[39;49mvalues,\n\u001b[0;32m     82\u001b[0m     num_of_symbols\u001b[39m=\u001b[39;49mnum_of_symbols,\n\u001b[0;32m     83\u001b[0m     os_cart_arrays_tuple\u001b[39m=\u001b[39;49mos_cart_arrays_tuple,\n\u001b[0;32m     84\u001b[0m     price_data\u001b[39m=\u001b[39;49mprice_data\u001b[39m.\u001b[39;49mvalues,\n\u001b[0;32m     85\u001b[0m     static_variables_tuple\u001b[39m=\u001b[39;49mstatic_variables_tuple,\n\u001b[0;32m     86\u001b[0m     total_bars\u001b[39m=\u001b[39;49mtotal_bars,\n\u001b[0;32m     87\u001b[0m     total_indicator_settings\u001b[39m=\u001b[39;49mtotal_indicator_settings,\n\u001b[0;32m     88\u001b[0m     total_order_settings\u001b[39m=\u001b[39;49mtotal_order_settings,\n\u001b[0;32m     89\u001b[0m )\n\u001b[0;32m     91\u001b[0m strat_results_df \u001b[39m=\u001b[39m pd\u001b[39m.\u001b[39mDataFrame(strat_array)\u001b[39m.\u001b[39msort_values(\n\u001b[0;32m     92\u001b[0m     by\u001b[39m=\u001b[39m[\u001b[39m\"\u001b[39m\u001b[39mto_the_upside\u001b[39m\u001b[39m\"\u001b[39m, \u001b[39m\"\u001b[39m\u001b[39mgains_pct\u001b[39m\u001b[39m\"\u001b[39m], ascending\u001b[39m=\u001b[39m\u001b[39mFalse\u001b[39;00m\n\u001b[0;32m     93\u001b[0m )\n\u001b[0;32m     95\u001b[0m symbols \u001b[39m=\u001b[39m \u001b[39mlist\u001b[39m(price_data\u001b[39m.\u001b[39mcolumns\u001b[39m.\u001b[39mlevels[\u001b[39m0\u001b[39m])\n",
      "File \u001b[1;32md:\\coding\\quantfreedom\\quantfreedom\\testing_stuff\\simulate_testing.py:191\u001b[0m, in \u001b[0;36mbacktest_df_only_nb_testing\u001b[1;34m(num_of_symbols, total_indicator_settings, total_order_settings, total_bars, entries, price_data, static_variables_tuple, os_cart_arrays_tuple)\u001b[0m\n\u001b[0;32m    183\u001b[0m         prices \u001b[39m=\u001b[39m PriceTuple(\n\u001b[0;32m    184\u001b[0m             entry\u001b[39m=\u001b[39mopen_prices[bar],\n\u001b[0;32m    185\u001b[0m             \u001b[39mopen\u001b[39m\u001b[39m=\u001b[39mopen_prices[bar],\n\u001b[1;32m   (...)\u001b[0m\n\u001b[0;32m    188\u001b[0m             close\u001b[39m=\u001b[39mclose_prices[bar],\n\u001b[0;32m    189\u001b[0m         )\n\u001b[0;32m    190\u001b[0m     \u001b[39m# Process Order nb\u001b[39;00m\n\u001b[1;32m--> 191\u001b[0m     account_state, order_result \u001b[39m=\u001b[39m process_order_nb_testing(\n\u001b[0;32m    192\u001b[0m         account_state\u001b[39m=\u001b[39;49maccount_state,\n\u001b[0;32m    193\u001b[0m         bar\u001b[39m=\u001b[39;49mbar,\n\u001b[0;32m    194\u001b[0m         entries_col\u001b[39m=\u001b[39;49mentries_col,\n\u001b[0;32m    195\u001b[0m         order_result\u001b[39m=\u001b[39;49morder_result,\n\u001b[0;32m    196\u001b[0m         order_settings_counter\u001b[39m=\u001b[39;49morder_settings_counter,\n\u001b[0;32m    197\u001b[0m         order_settings\u001b[39m=\u001b[39;49morder_settings,\n\u001b[0;32m    198\u001b[0m         prices\u001b[39m=\u001b[39;49mprices,\n\u001b[0;32m    199\u001b[0m         static_variables_tuple\u001b[39m=\u001b[39;49mstatic_variables_tuple,\n\u001b[0;32m    200\u001b[0m         symbol_counter\u001b[39m=\u001b[39;49msymbol_counter,\n\u001b[0;32m    201\u001b[0m         strat_records_filled\u001b[39m=\u001b[39;49mstrat_records_filled,\n\u001b[0;32m    202\u001b[0m         strat_records\u001b[39m=\u001b[39;49mstrat_records[strat_records_filled[\u001b[39m0\u001b[39;49m]],\n\u001b[0;32m    203\u001b[0m     )\n\u001b[0;32m    204\u001b[0m \u001b[39mif\u001b[39;00m order_result\u001b[39m.\u001b[39mposition \u001b[39m>\u001b[39m \u001b[39m0\u001b[39m:\n\u001b[0;32m    205\u001b[0m     prices \u001b[39m=\u001b[39m PriceTuple(\n\u001b[0;32m    206\u001b[0m         entry\u001b[39m=\u001b[39mopen_prices[bar],\n\u001b[0;32m    207\u001b[0m         \u001b[39mopen\u001b[39m\u001b[39m=\u001b[39mopen_prices[bar],\n\u001b[1;32m   (...)\u001b[0m\n\u001b[0;32m    210\u001b[0m         close\u001b[39m=\u001b[39mclose_prices[bar],\n\u001b[0;32m    211\u001b[0m     )\n",
      "File \u001b[1;32md:\\coding\\quantfreedom\\quantfreedom\\testing_stuff\\execute_funcs_testing.py:264\u001b[0m, in \u001b[0;36mprocess_order_nb_testing\u001b[1;34m(account_state, bar, entries_col, order_result, order_settings_counter, order_settings, prices, static_variables_tuple, symbol_counter, order_records, order_records_id, strat_records, strat_records_filled)\u001b[0m\n\u001b[0;32m    262\u001b[0m fill_strat \u001b[39m=\u001b[39m \u001b[39mFalse\u001b[39;00m\n\u001b[0;32m    263\u001b[0m \u001b[39mif\u001b[39;00m static_variables_tuple\u001b[39m.\u001b[39morder_type \u001b[39m==\u001b[39m OrderType\u001b[39m.\u001b[39mLongEntry:\n\u001b[1;32m--> 264\u001b[0m     account_state_new, order_result_new \u001b[39m=\u001b[39m long_increase_nb_testing(\n\u001b[0;32m    265\u001b[0m         bar\u001b[39m=\u001b[39;49mbar,\n\u001b[0;32m    266\u001b[0m         prices\u001b[39m=\u001b[39;49mprices,\n\u001b[0;32m    267\u001b[0m         order_settings\u001b[39m=\u001b[39;49morder_settings,\n\u001b[0;32m    268\u001b[0m         order_result\u001b[39m=\u001b[39;49morder_result,\n\u001b[0;32m    269\u001b[0m         account_state\u001b[39m=\u001b[39;49maccount_state,\n\u001b[0;32m    270\u001b[0m         static_variables_tuple\u001b[39m=\u001b[39;49mstatic_variables_tuple,\n\u001b[0;32m    271\u001b[0m     )\n\u001b[0;32m    272\u001b[0m \u001b[39m# elif order_type == OrderType.ShortEntry:\u001b[39;00m\n\u001b[0;32m    273\u001b[0m \u001b[39m#     account_state_new, order_result_new = short_increase_nb(\u001b[39;00m\n\u001b[0;32m    274\u001b[0m \u001b[39m#         price=prices,\u001b[39;00m\n\u001b[1;32m   (...)\u001b[0m\n\u001b[0;32m    278\u001b[0m \u001b[39m#         static_variables_tuple=static_variables_tuple,\u001b[39;00m\n\u001b[0;32m    279\u001b[0m \u001b[39m#     )\u001b[39;00m\n\u001b[0;32m    280\u001b[0m \u001b[39melif\u001b[39;00m OrderType\u001b[39m.\u001b[39mLongLiq \u001b[39m<\u001b[39m\u001b[39m=\u001b[39m static_variables_tuple\u001b[39m.\u001b[39morder_type \u001b[39m<\u001b[39m\u001b[39m=\u001b[39m OrderType\u001b[39m.\u001b[39mLongTSL:\n",
      "File \u001b[1;32md:\\coding\\quantfreedom\\quantfreedom\\testing_stuff\\buy_testing.py:174\u001b[0m, in \u001b[0;36mlong_increase_nb_testing\u001b[1;34m(bar, prices, account_state, order_settings, order_result, static_variables_tuple)\u001b[0m\n\u001b[0;32m    165\u001b[0m     \u001b[39mraise\u001b[39;00m \u001b[39mTypeError\u001b[39;00m(\n\u001b[0;32m    166\u001b[0m         \u001b[39m\"\u001b[39m\u001b[39mI have no clue what is wrong but something is wrong with making the size_value using size_value type\u001b[39m\u001b[39m\"\u001b[39m\n\u001b[0;32m    167\u001b[0m     )\n\u001b[0;32m    169\u001b[0m \u001b[39mif\u001b[39;00m (\n\u001b[0;32m    170\u001b[0m     size_value \u001b[39m<\u001b[39m \u001b[39m1\u001b[39m\n\u001b[0;32m    171\u001b[0m     \u001b[39mor\u001b[39;00m size_value \u001b[39m>\u001b[39m static_variables_tuple\u001b[39m.\u001b[39mmax_order_size_value\n\u001b[0;32m    172\u001b[0m     \u001b[39mor\u001b[39;00m size_value \u001b[39m<\u001b[39m static_variables_tuple\u001b[39m.\u001b[39mmin_order_size_value\n\u001b[0;32m    173\u001b[0m ):\n\u001b[1;32m--> 174\u001b[0m     \u001b[39mraise\u001b[39;00m RejectedOrderError(\n\u001b[0;32m    175\u001b[0m         \u001b[39m\"\u001b[39m\u001b[39mLong Increase - Size Value is either to big or too small\u001b[39m\u001b[39m\"\u001b[39m\n\u001b[0;32m    176\u001b[0m     )\n\u001b[0;32m    178\u001b[0m \u001b[39m# Get average Entry\u001b[39;00m\n\u001b[0;32m    179\u001b[0m \u001b[39mif\u001b[39;00m position_old \u001b[39m!=\u001b[39m \u001b[39m0.0\u001b[39m:\n",
      "\u001b[1;31mRejectedOrderError\u001b[0m: Long Increase - Size Value is either to big or too small"
     ]
    }
   ],
   "source": [
    "static_vars = StaticVariables(\n",
    "    equity=1000.,\n",
    "    lev_mode=LeverageMode.LeastFreeCashUsed,\n",
    "    order_type=OrderType.LongEntry,\n",
    "    size_type=SizeType.RiskPercentOfAccount,\n",
    ")\n",
    "order_settings = OrderSettingsArrays(\n",
    "    max_equity_risk_pct=6.,\n",
    "    risk_reward=5,\n",
    "    size_pct=1.,\n",
    "    sl_based_on=CandleBody.low,\n",
    "    sl_based_on_lookback=30,\n",
    "    sl_based_on_add_pct=.2,\n",
    ")\n",
    "asdf = backtest_df_only_testing(\n",
    "    price_data=price_data,\n",
    "    entries=entries,\n",
    "    static_variables_tuple=static_vars,\n",
    "    order_settings_arrays_tuple=order_settings,\n",
    ")"
   ]
  }
 ],
 "metadata": {
  "kernelspec": {
   "display_name": "qfFree",
   "language": "python",
   "name": "python3"
  },
  "language_info": {
   "codemirror_mode": {
    "name": "ipython",
    "version": 3
   },
   "file_extension": ".py",
   "mimetype": "text/x-python",
   "name": "python",
   "nbconvert_exporter": "python",
   "pygments_lexer": "ipython3",
   "version": "3.10.10"
  },
  "orig_nbformat": 4
 },
 "nbformat": 4,
 "nbformat_minor": 2
}
