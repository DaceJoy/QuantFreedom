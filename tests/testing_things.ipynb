{
 "cells": [
  {
   "cell_type": "code",
   "execution_count": 3,
   "metadata": {},
   "outputs": [
    {
     "ename": "AttributeError",
     "evalue": "module 'quantfreedom.testing_stuff.enums_testing' has no attribute 'final_array_dt'",
     "output_type": "error",
     "traceback": [
      "\u001b[1;31m---------------------------------------------------------------------------\u001b[0m",
      "\u001b[1;31mAttributeError\u001b[0m                            Traceback (most recent call last)",
      "Cell \u001b[1;32mIn[3], line 10\u001b[0m\n\u001b[0;32m      7\u001b[0m \u001b[39mimport\u001b[39;00m \u001b[39mnumpy\u001b[39;00m \u001b[39mas\u001b[39;00m \u001b[39mnp\u001b[39;00m\n\u001b[0;32m      8\u001b[0m \u001b[39mimport\u001b[39;00m \u001b[39mpandas\u001b[39;00m \u001b[39mas\u001b[39;00m \u001b[39mpd\u001b[39;00m\n\u001b[1;32m---> 10\u001b[0m \u001b[39mfrom\u001b[39;00m \u001b[39mquantfreedom\u001b[39;00m\u001b[39m.\u001b[39;00m\u001b[39mevaluators\u001b[39;00m\u001b[39m.\u001b[39;00m\u001b[39mevaluators\u001b[39;00m \u001b[39mimport\u001b[39;00m is_below\n\u001b[0;32m     11\u001b[0m \u001b[39mfrom\u001b[39;00m \u001b[39mquantfreedom\u001b[39;00m\u001b[39m.\u001b[39;00m\u001b[39mindicators\u001b[39;00m\u001b[39m.\u001b[39;00m\u001b[39mtalib_ind\u001b[39;00m \u001b[39mimport\u001b[39;00m from_talib\n\u001b[0;32m     12\u001b[0m \u001b[39mfrom\u001b[39;00m \u001b[39mquantfreedom\u001b[39;00m\u001b[39m.\u001b[39;00m\u001b[39mtesting_stuff\u001b[39;00m\u001b[39m.\u001b[39;00m\u001b[39mbase_testing\u001b[39;00m \u001b[39mimport\u001b[39;00m backtest_df_only_testing\n",
      "File \u001b[1;32md:\\coding\\qfFree\\lib\\site-packages\\quantfreedom\\__init__.py:12\u001b[0m\n\u001b[0;32m     10\u001b[0m \u001b[39m# Most important classes\u001b[39;00m\n\u001b[0;32m     11\u001b[0m \u001b[39mfrom\u001b[39;00m \u001b[39mquantfreedom\u001b[39;00m \u001b[39mimport\u001b[39;00m \u001b[39m*\u001b[39m\n\u001b[1;32m---> 12\u001b[0m \u001b[39mfrom\u001b[39;00m \u001b[39mquantfreedom\u001b[39;00m\u001b[39m.\u001b[39;00m\u001b[39mtesting_stuff\u001b[39;00m \u001b[39mimport\u001b[39;00m \u001b[39m*\u001b[39m\n\u001b[0;32m     13\u001b[0m \u001b[39mfrom\u001b[39;00m \u001b[39mquantfreedom\u001b[39;00m\u001b[39m.\u001b[39;00m\u001b[39mlevon_qf\u001b[39;00m \u001b[39mimport\u001b[39;00m \u001b[39m*\u001b[39m\n\u001b[0;32m     14\u001b[0m \u001b[39mfrom\u001b[39;00m \u001b[39mquantfreedom\u001b[39;00m\u001b[39m.\u001b[39;00m\u001b[39mutils\u001b[39;00m \u001b[39mimport\u001b[39;00m \u001b[39m*\u001b[39m\n",
      "File \u001b[1;32md:\\coding\\qfFree\\lib\\site-packages\\quantfreedom\\testing_stuff\\__init__.py:1\u001b[0m\n\u001b[1;32m----> 1\u001b[0m \u001b[39mfrom\u001b[39;00m \u001b[39mquantfreedom\u001b[39;00m\u001b[39m.\u001b[39;00m\u001b[39mtesting_stuff\u001b[39;00m\u001b[39m.\u001b[39;00m\u001b[39mbase_testing\u001b[39;00m \u001b[39mimport\u001b[39;00m \u001b[39m*\u001b[39m\n\u001b[0;32m      2\u001b[0m \u001b[39mfrom\u001b[39;00m \u001b[39mquantfreedom\u001b[39;00m\u001b[39m.\u001b[39;00m\u001b[39mtesting_stuff\u001b[39;00m\u001b[39m.\u001b[39;00m\u001b[39mbuy_testing\u001b[39;00m \u001b[39mimport\u001b[39;00m \u001b[39m*\u001b[39m\n\u001b[0;32m      3\u001b[0m \u001b[39mfrom\u001b[39;00m \u001b[39mquantfreedom\u001b[39;00m\u001b[39m.\u001b[39;00m\u001b[39mtesting_stuff\u001b[39;00m\u001b[39m.\u001b[39;00m\u001b[39menums_testing\u001b[39;00m \u001b[39mimport\u001b[39;00m \u001b[39m*\u001b[39m\n",
      "File \u001b[1;32md:\\coding\\qfFree\\lib\\site-packages\\quantfreedom\\testing_stuff\\base_testing.py:5\u001b[0m\n\u001b[0;32m      2\u001b[0m \u001b[39mimport\u001b[39;00m \u001b[39mpandas\u001b[39;00m \u001b[39mas\u001b[39;00m \u001b[39mpd\u001b[39;00m\n\u001b[0;32m      4\u001b[0m \u001b[39mfrom\u001b[39;00m \u001b[39mquantfreedom\u001b[39;00m\u001b[39m.\u001b[39;00m\u001b[39m_typing\u001b[39;00m \u001b[39mimport\u001b[39;00m pdFrame\n\u001b[1;32m----> 5\u001b[0m \u001b[39mfrom\u001b[39;00m \u001b[39mquantfreedom\u001b[39;00m\u001b[39m.\u001b[39;00m\u001b[39mtesting_stuff\u001b[39;00m\u001b[39m.\u001b[39;00m\u001b[39mbuy_testing\u001b[39;00m \u001b[39mimport\u001b[39;00m \u001b[39m*\u001b[39m\n\u001b[0;32m      6\u001b[0m \u001b[39mfrom\u001b[39;00m \u001b[39mquantfreedom\u001b[39;00m\u001b[39m.\u001b[39;00m\u001b[39mtesting_stuff\u001b[39;00m\u001b[39m.\u001b[39;00m\u001b[39menums_testing\u001b[39;00m \u001b[39mimport\u001b[39;00m \u001b[39m*\u001b[39m\n\u001b[0;32m      7\u001b[0m \u001b[39mfrom\u001b[39;00m \u001b[39mquantfreedom\u001b[39;00m\u001b[39m.\u001b[39;00m\u001b[39mtesting_stuff\u001b[39;00m\u001b[39m.\u001b[39;00m\u001b[39mexecute_funcs_testing\u001b[39;00m \u001b[39mimport\u001b[39;00m \u001b[39m*\u001b[39m\n",
      "File \u001b[1;32md:\\coding\\qfFree\\lib\\site-packages\\quantfreedom\\testing_stuff\\buy_testing.py:6\u001b[0m\n\u001b[0;32m      4\u001b[0m \u001b[39mfrom\u001b[39;00m \u001b[39mquantfreedom\u001b[39;00m\u001b[39m.\u001b[39;00m\u001b[39m_typing\u001b[39;00m \u001b[39mimport\u001b[39;00m Tuple\n\u001b[0;32m      5\u001b[0m \u001b[39mfrom\u001b[39;00m \u001b[39mquantfreedom\u001b[39;00m\u001b[39m.\u001b[39;00m\u001b[39mtesting_stuff\u001b[39;00m\u001b[39m.\u001b[39;00m\u001b[39mbase_testing\u001b[39;00m \u001b[39mimport\u001b[39;00m \u001b[39m*\u001b[39m\n\u001b[1;32m----> 6\u001b[0m \u001b[39mfrom\u001b[39;00m \u001b[39mquantfreedom\u001b[39;00m\u001b[39m.\u001b[39;00m\u001b[39mtesting_stuff\u001b[39;00m\u001b[39m.\u001b[39;00m\u001b[39menums_testing\u001b[39;00m \u001b[39mimport\u001b[39;00m \u001b[39m*\u001b[39m\n\u001b[0;32m      7\u001b[0m \u001b[39mfrom\u001b[39;00m \u001b[39mquantfreedom\u001b[39;00m\u001b[39m.\u001b[39;00m\u001b[39mtesting_stuff\u001b[39;00m\u001b[39m.\u001b[39;00m\u001b[39mexecute_funcs_testing\u001b[39;00m \u001b[39mimport\u001b[39;00m \u001b[39m*\u001b[39m\n\u001b[0;32m      8\u001b[0m \u001b[39mfrom\u001b[39;00m \u001b[39mquantfreedom\u001b[39;00m\u001b[39m.\u001b[39;00m\u001b[39mtesting_stuff\u001b[39;00m\u001b[39m.\u001b[39;00m\u001b[39mhelper_funcs_testing\u001b[39;00m \u001b[39mimport\u001b[39;00m \u001b[39m*\u001b[39m\n",
      "\u001b[1;31mAttributeError\u001b[0m: module 'quantfreedom.testing_stuff.enums_testing' has no attribute 'final_array_dt'"
     ]
    }
   ],
   "source": [
    "import os\n",
    "import sys\n",
    "\n",
    "sys.dont_write_bytecode = True\n",
    "os.environ[\"NUMBA_DISABLE_JIT\"] = \"1\"\n",
    "\n",
    "import numpy as np\n",
    "import pandas as pd\n",
    "\n",
    "from quantfreedom.evaluators.evaluators import is_below\n",
    "from quantfreedom.indicators.talib_ind import from_talib\n",
    "from quantfreedom.testing_stuff.base_testing import backtest_df_only_testing\n",
    "\n",
    "np.set_printoptions(formatter={\"float_kind\": \"{:.2f}\".format})\n",
    "pd.options.display.float_format = \"{:,.2f}\".format\n",
    "\n",
    "# prices = data_download_from_ccxt(\n",
    "#     exchange='bybit',\n",
    "#     start='2020-10-01T00:00:00Z',\n",
    "#     end='2021-04-15T00:00:00Z',\n",
    "#     symbols=['BTCUSDT', 'ETHUSD'],\n",
    "#     timeframe='30m',\n",
    "# )\n",
    "\n",
    "# prices.to_hdf(\"yt_prices.hd5\", key='data')\n",
    "price_data = pd.read_hdf('../../tests/data/prices.hd5')\n",
    "rsi_ind = from_talib(\n",
    "    func_name=\"rsi\",\n",
    "    price_data=price_data,\n",
    "    cart_product=False,\n",
    "    combos=False,\n",
    "    timeperiod=[15, 30],\n",
    ")\n",
    "entries = is_below(\n",
    "    want_to_evaluate=rsi_ind,\n",
    "    user_args=[40, 50],\n",
    "    candle_ohlc=\"close\",\n",
    ")"
   ]
  },
  {
   "cell_type": "code",
   "execution_count": null,
   "metadata": {},
   "outputs": [],
   "source": [
    "static_vars = StaticVariables(\n",
    "    equity=1000.,\n",
    "    lev_mode=LeverageMode.Isolated,\n",
    "    order_type=OrderType.LongEntry,\n",
    "    size_type=SizeType.RiskPercentOfAccount,\n",
    ")\n",
    "order_settings = OrderSettingsArrays(\n",
    "    max_equity_risk_pct=6.,\n",
    "    risk_reward=5,\n",
    "    size_pct=1.,\n",
    "    sl_based_on=CandleBody.low,\n",
    "    sl_based_on_lookback=30,\n",
    "    sl_based_on_add_pct=.2,\n",
    ")\n",
    "asdf = backtest_df_only_testing(\n",
    "    price_data=price_data,\n",
    "    entries=entries,\n",
    "    static_variables_tuple=static_vars,\n",
    "    order_settings_arrays_tuple=order_settings,\n",
    ")"
   ]
  },
  {
   "cell_type": "code",
   "execution_count": null,
   "metadata": {},
   "outputs": [],
   "source": []
  }
 ],
 "metadata": {
  "kernelspec": {
   "display_name": "qfFree",
   "language": "python",
   "name": "python3"
  },
  "language_info": {
   "codemirror_mode": {
    "name": "ipython",
    "version": 3
   },
   "file_extension": ".py",
   "mimetype": "text/x-python",
   "name": "python",
   "nbconvert_exporter": "python",
   "pygments_lexer": "ipython3",
   "version": "3.10.10"
  },
  "orig_nbformat": 4
 },
 "nbformat": 4,
 "nbformat_minor": 2
}
