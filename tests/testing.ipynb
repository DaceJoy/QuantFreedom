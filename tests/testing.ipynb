{
 "cells": [
  {
   "cell_type": "code",
   "execution_count": 1,
   "metadata": {},
   "outputs": [],
   "source": [
    "import os\n",
    "import sys\n",
    "sys.dont_write_bytecode = True\n",
    "os.environ[\"NUMBA_DISABLE_JIT\"] = \"1\"\n",
    "import plotly.express as px\n",
    "import plotly.graph_objects as go\n",
    "\n",
    "\n",
    "import pandas as pd\n",
    "import numpy as np\n",
    "from quantfreedom.utils.caching import clear_cache\n",
    "from quantfreedom.backtester.base.base import  plot_trades_all_info\n",
    "from quantfreedom.backtester.nb.simulate import simulate_up_to_6\n",
    "from quantfreedom.backtester.enums.enums import (\n",
    "    LeverageMode,\n",
    "    SizeType,\n",
    "    OrderType,\n",
    "    SL_BE_or_Trail_BasedOn,\n",
    ")\n",
    "from quantfreedom.backtester.indicators.talib_ind import from_talib\n",
    "from quantfreedom.backtester.evaluators.evaluators import eval_is_below\n",
    "\n",
    "pd.options.display.float_format = '{:,.2f}'.format\n",
    "\n",
    "prices = pd.read_csv(\n",
    "    'E:/Coding/backtesters/QuantFreedom/tests/data/30min.csv', index_col='time')\n",
    "\n",
    "rsi_ind = from_talib(\n",
    "    func_name='rsi',\n",
    "    df_prices=prices,\n",
    "    cart_product=False,\n",
    "    combos=False,\n",
    "    timeperiod=15,\n",
    ")\n",
    "rsi_eval = eval_is_below(\n",
    "    rsi_ind,\n",
    "    np.arange(40, 61, 10),\n",
    ")\n"
   ]
  },
  {
   "cell_type": "code",
   "execution_count": 2,
   "metadata": {},
   "outputs": [],
   "source": [
    "clear_cache()"
   ]
  },
  {
   "cell_type": "code",
   "execution_count": 5,
   "metadata": {},
   "outputs": [],
   "source": [
    "final_array, order_records = simulate_up_to_6(\n",
    "    open_prices=prices.open.values,\n",
    "    high_prices=prices.high.values,\n",
    "    low_prices=prices.low.values,\n",
    "    close_prices=prices.close.values,\n",
    "    entries=rsi_eval.values,\n",
    "    equity=1000.,\n",
    "    fee_pct=.06,\n",
    "    mmr=.5,\n",
    "    lev_mode=LeverageMode.LeastFreeCashUsed,\n",
    "    size_type=SizeType.RiskPercentOfAccount,\n",
    "    order_type=OrderType.LongEntry,\n",
    "    max_equity_risk_pct=4,\n",
    "    risk_rewards=[3,5,6],\n",
    "    size_pct=1.,\n",
    "    # sl_pcts=[2,3,4],\n",
    "    tsl_true_or_false=True,\n",
    "    tsl_pcts_init=np.arange(2,5,1),\n",
    "    tsl_based_on=SL_BE_or_Trail_BasedOn.low_price,\n",
    "    tsl_trail_by_pct=np.arange(1,4,1),\n",
    "    tsl_when_pct_from_avg_entry=np.arange(1,4,1),\n",
    ")\n"
   ]
  }
 ],
 "metadata": {
  "kernelspec": {
   "display_name": "qfFree",
   "language": "python",
   "name": "python3"
  },
  "language_info": {
   "codemirror_mode": {
    "name": "ipython",
    "version": 3
   },
   "file_extension": ".py",
   "mimetype": "text/x-python",
   "name": "python",
   "nbconvert_exporter": "python",
   "pygments_lexer": "ipython3",
   "version": "3.10.10"
  },
  "orig_nbformat": 4
 },
 "nbformat": 4,
 "nbformat_minor": 2
}
