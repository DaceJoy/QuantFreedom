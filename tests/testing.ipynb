{
  "cells": [
    {
      "cell_type": "code",
      "execution_count": 2,
      "metadata": {},
      "outputs": [
        {
          "data": {
            "text/plain": [
              "['e:\\\\Coding\\\\backtesters\\\\QuantFreedom\\\\tests',\n",
              " 'C:\\\\Users\\\\User\\\\AppData\\\\Local\\\\Programs\\\\Python\\\\Python310\\\\python310.zip',\n",
              " 'C:\\\\Users\\\\User\\\\AppData\\\\Local\\\\Programs\\\\Python\\\\Python310\\\\DLLs',\n",
              " 'C:\\\\Users\\\\User\\\\AppData\\\\Local\\\\Programs\\\\Python\\\\Python310\\\\lib',\n",
              " 'C:\\\\Users\\\\User\\\\AppData\\\\Local\\\\Programs\\\\Python\\\\Python310',\n",
              " 'e:\\\\Coding\\\\virtual environments\\\\qfFree',\n",
              " '',\n",
              " 'e:\\\\Coding\\\\virtual environments\\\\qfFree\\\\lib\\\\site-packages',\n",
              " 'e:\\\\coding\\\\backtesters\\\\quantfreedom',\n",
              " 'e:\\\\Coding\\\\virtual environments\\\\qfFree\\\\lib\\\\site-packages\\\\win32',\n",
              " 'e:\\\\Coding\\\\virtual environments\\\\qfFree\\\\lib\\\\site-packages\\\\win32\\\\lib',\n",
              " 'e:\\\\Coding\\\\virtual environments\\\\qfFree\\\\lib\\\\site-packages\\\\Pythonwin']"
            ]
          },
          "execution_count": 2,
          "metadata": {},
          "output_type": "execute_result"
        }
      ],
      "source": [
        "\n",
        "# importing module\n",
        "import sys\n",
        "  \n",
        "  \n",
        "# printing all paths\n",
        "sys.path"
      ]
    }
  ],
  "metadata": {
    "kernelspec": {
      "display_name": "qfFree",
      "language": "python",
      "name": "python3"
    },
    "language_info": {
      "codemirror_mode": {
        "name": "ipython",
        "version": 3
      },
      "file_extension": ".py",
      "mimetype": "text/x-python",
      "name": "python",
      "nbconvert_exporter": "python",
      "pygments_lexer": "ipython3",
      "version": "3.10.10"
    },
    "orig_nbformat": 4
  },
  "nbformat": 4,
  "nbformat_minor": 2
}
