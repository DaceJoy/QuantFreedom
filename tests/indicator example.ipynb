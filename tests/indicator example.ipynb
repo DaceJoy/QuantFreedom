{
  "cells": [
    {
      "cell_type": "code",
      "execution_count": 6,
      "metadata": {},
      "outputs": [
        {
          "name": "stdout",
          "output_type": "stream",
          "text": [
            "The autoreload extension is already loaded. To reload it, use:\n",
            "  %reload_ext autoreload\n"
          ]
        }
      ],
      "source": [
        "import numpy as np\n",
        "import pandas as pd\n",
        "from my_stuff import MufexKeys\n",
        "from quantfreedom.exchanges.mufex_exchange.mufex import Mufex\n",
        "from quantfreedom.indicators.indicators import *\n",
        "from my_stuff import MufexTestKeys\n",
        "np.set_printoptions(formatter={\"float_kind\": \"{:0.4f}\".format})\n",
        "\n",
        "\n",
        "mufex_main = Mufex(\n",
        "    api_key=MufexKeys.api_key,\n",
        "    secret_key=MufexKeys.secret_key,\n",
        "    use_test_net=False,\n",
        ")\n",
        "\n",
        "%load_ext autoreload\n",
        "%autoreload 2"
      ]
    },
    {
      "cell_type": "code",
      "execution_count": 7,
      "metadata": {},
      "outputs": [
        {
          "name": "stdout",
          "output_type": "stream",
          "text": [
            "It took 00 mins and 00 seconds to download 200 candles\n"
          ]
        }
      ],
      "source": [
        "candles = mufex_main.get_candles(symbol=\"BTCUSDT\", timeframe=\"5m\", candles_to_dl=200)\n",
        "open = candles[:1]\n",
        "high = candles[:, 2]\n",
        "low = candles[:, 3]\n",
        "close = candles[:, 4]\n",
        "close_shift = np.roll(candles[:, 4],1)"
      ]
    },
    {
      "cell_type": "code",
      "execution_count": 8,
      "metadata": {},
      "outputs": [
        {
          "data": {
            "text/plain": [
              "array([nan, nan, nan, nan, nan, nan, nan, nan, nan, nan, nan, nan, nan,\n",
              "       77.3089, 79.1170, 82.4883, 70.8932, 66.4411, 69.3582, 69.8018,\n",
              "       71.2748, 61.2635, 59.5481, 46.7300, 39.5505, 44.0292, 43.0693,\n",
              "       44.7504, 47.9859, 51.1023, 47.8630, 51.9365, 55.8234, 48.9821,\n",
              "       45.3674, 48.8108, 54.4164, 45.9445, 43.3175, 36.3871, 35.6034,\n",
              "       34.6047, 40.9543, 42.4126, 43.1682, 44.3651, 45.0899, 45.3650,\n",
              "       44.8123, 34.0060, 39.8445, 46.3324, 39.9645, 43.7216, 48.6990,\n",
              "       47.0426, 50.1806, 55.1826, 52.2815, 52.1393, 41.3926, 41.4416,\n",
              "       39.4082, 40.6308, 42.0954, 43.5186, 44.5887, 42.1072, 34.7150,\n",
              "       44.0315, 47.3343, 47.5519, 49.9992, 51.7123, 51.9580, 44.1348,\n",
              "       46.2723, 48.7449, 52.7099, 50.8993, 54.0976, 57.2475, 51.6114,\n",
              "       45.2400, 44.0045, 42.8584, 41.4947, 43.6838, 41.1190, 38.0905,\n",
              "       53.0702, 52.8249, 52.6033, 47.2833, 44.3874, 47.3731, 51.1197,\n",
              "       46.8572, 45.6921, 49.7311, 54.7004, 48.2585, 53.7341, 53.7139,\n",
              "       56.2953, 53.4178, 53.0388, 53.6019, 57.3920, 53.4034, 50.1923,\n",
              "       54.3138, 57.9586, 61.0137, 61.7131, 65.2893, 62.5387, 55.7545,\n",
              "       57.2101, 55.9812, 53.0522, 44.2218, 43.2414, 42.6991, 45.3844,\n",
              "       50.4901, 54.5473, 54.1420, 55.9301, 56.6227, 64.2054, 61.4364,\n",
              "       54.6924, 47.6416, 44.7740, 39.0910, 42.3532, 42.6694, 49.9289,\n",
              "       47.8289, 48.2333, 40.9816, 41.7826, 36.9077, 34.1452, 35.9545,\n",
              "       38.2464, 34.2150, 24.1155, 40.2806, 51.8683, 50.2987, 39.2406,\n",
              "       36.1657, 30.3067, 33.4786, 32.5043, 31.0935, 36.7441, 37.9201,\n",
              "       35.9487, 31.3095, 28.8920, 28.4968, 34.1538, 38.3490, 39.9979,\n",
              "       44.2314, 45.8844, 47.2472, 44.6145, 47.1855, 41.4545, 43.2107,\n",
              "       40.9055, 37.8284, 35.9841, 44.1187, 32.9065, 40.1223, 49.9740,\n",
              "       49.2033, 45.2909, 49.9577, 51.6387, 53.2393, 55.1846, 55.3924,\n",
              "       55.6018, 56.6838, 57.6106, 57.7080, 57.7080, 53.3220, 45.9367,\n",
              "       45.1730, 38.6920, 43.8393, 55.3739, 52.9624])"
            ]
          },
          "execution_count": 8,
          "metadata": {},
          "output_type": "execute_result"
        }
      ],
      "source": [
        "rsi_calc(source=close, length=14)"
      ]
    }
  ],
  "metadata": {
    "kernelspec": {
      "display_name": "qfFree",
      "language": "python",
      "name": "python3"
    },
    "language_info": {
      "codemirror_mode": {
        "name": "ipython",
        "version": 3
      },
      "file_extension": ".py",
      "mimetype": "text/x-python",
      "name": "python",
      "nbconvert_exporter": "python",
      "pygments_lexer": "ipython3",
      "version": "3.10.10"
    },
    "orig_nbformat": 4
  },
  "nbformat": 4,
  "nbformat_minor": 2
}
