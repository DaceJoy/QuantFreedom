{
  "cells": [
    {
      "cell_type": "code",
      "execution_count": null,
      "metadata": {},
      "outputs": [],
      "source": [
        "import numpy as np\n",
        "from my_stuff import BinanceUSDMTestKeys, ApexTestKeys, MufexTestKeys, BybitTestKeys,MufexKeys\n",
        "from quantfreedom.helper_funcs import candles_to_df\n",
        "from quantfreedom.exchanges.binance_exchange.binance_usdm import BinanceUSDM\n",
        "from quantfreedom.exchanges.bybit_exchange.bybit import Bybit\n",
        "from quantfreedom.enums import *\n",
        "from quantfreedom.exchanges.mufex_exchange.mufex import Mufex\n",
        "from quantfreedom.exchanges.apex_exchange.apex import Apex\n",
        "from quantfreedom.simulate import run_df_backtest, or_backtest\n",
        "from quantfreedom.strategies.strategy import Strategy\n",
        "\n",
        "%load_ext autoreload\n",
        "%autoreload 2"
      ]
    },
    {
      "cell_type": "code",
      "execution_count": null,
      "metadata": {},
      "outputs": [],
      "source": [
        "mufex_main = Mufex(\n",
        "    api_key=MufexKeys.api_key,\n",
        "    secret_key=MufexKeys.secret_key,\n",
        "    use_test_net=False,\n",
        ")\n",
        "\n",
        "%load_ext autoreload\n",
        "%autoreload 2"
      ]
    },
    {
      "cell_type": "code",
      "execution_count": null,
      "metadata": {},
      "outputs": [],
      "source": [
        "candles = mufex_main.get_candles(\n",
        "    symbol=\"BTCUSDT\",\n",
        "    timeframe=\"5m\",\n",
        "    candles_to_dl=550,\n",
        "    since_date_ms=1699988400000,\n",
        "    until_date_ms=1700092800000,\n",
        ")\n",
        "\n",
        "candles_to_df(candles=candles)"
      ]
    },
    {
      "cell_type": "code",
      "execution_count": null,
      "metadata": {},
      "outputs": [],
      "source": [
        "mufex_main.set_exchange_settings(\n",
        "    symbol=\"BTCUSDT\",\n",
        "    position_mode=PositionModeType.HedgeMode,\n",
        "    leverage_mode=LeverageModeType.Isolated,\n",
        ")\n",
        "\n",
        "# backtest_settings = BacktestSettings(\n",
        "#     array_size=200,\n",
        "#     gains_pct_filter=-90,\n",
        "#     total_trade_filter=10,\n",
        "#     upside_filter=-np.inf,\n",
        "# )\n",
        "backtest_settings = BacktestSettings()\n",
        "dos_arrays = DynamicOrderSettingsArrays(\n",
        "    max_equity_risk_pct=np.array([12]),\n",
        "    max_trades=np.array([5]),\n",
        "    risk_account_pct_size=np.array([3]),\n",
        "    risk_reward=np.array([2.5]),\n",
        "    sl_based_on_add_pct=np.array([0.05, 0.1, 0.15]),\n",
        "    sl_based_on_lookback=np.array([20]),\n",
        "    sl_bcb_type=np.array([CandleBodyType.Low]),\n",
        "    sl_to_be_cb_type=np.array([CandleBodyType.Nothing]),\n",
        "    sl_to_be_when_pct=np.array([0]),\n",
        "    trail_sl_bcb_type=np.array([CandleBodyType.Low]),\n",
        "    trail_sl_by_pct=np.array([0.5]),\n",
        "    trail_sl_when_pct=np.array([1]),\n",
        ")\n",
        "static_os = StaticOrderSettings(\n",
        "    starting_bar=50,\n",
        "    increase_position_type=IncreasePositionType.RiskPctAccountEntrySize,\n",
        "    leverage_strategy_type=LeverageStrategyType.Dynamic,\n",
        "    pg_min_max_sl_bcb=\"min\",\n",
        "    sl_strategy_type=StopLossStrategyType.SLBasedOnCandleBody,\n",
        "    sl_to_be_bool=False,\n",
        "    starting_equity=1000.0,\n",
        "    static_leverage=None,\n",
        "    tp_fee_type=\"limit\",\n",
        "    tp_strategy_type=TakeProfitStrategyType.RiskReward,\n",
        "    trail_sl_bool=True,\n",
        "    z_or_e_type=None,\n",
        ")\n",
        "strategy = Strategy(\n",
        "    rsi_is_below=np.array([60]),\n",
        "    rsi_length=np.array([14]),\n",
        "    long_short=\"long\",\n",
        ")"
      ]
    },
    {
      "cell_type": "code",
      "execution_count": null,
      "metadata": {},
      "outputs": [],
      "source": [
        "run_df_backtest(\n",
        "    backtest_settings=backtest_settings,\n",
        "    candles=candles,\n",
        "    dos_arrays=dos_arrays,\n",
        "    exchange_settings=mufex_main.exchange_settings,\n",
        "    static_os=static_os,\n",
        "    strategy=strategy,\n",
        "    logger_bool=False,\n",
        ")"
      ]
    },
    {
      "cell_type": "code",
      "execution_count": null,
      "metadata": {},
      "outputs": [],
      "source": [
        "order_records_df = or_backtest(\n",
        "    backtest_settings=backtest_settings,\n",
        "    candles=candles,\n",
        "    dos_arrays=dos_arrays,\n",
        "    exchange_settings=mufex_main.exchange_settings,\n",
        "    static_os=static_os,\n",
        "    strategy=strategy,\n",
        "    dos_index=2,\n",
        "    ind_set_index=0,\n",
        "    plot_results=True,\n",
        "    logger_bool=True,\n",
        ")"
      ]
    },
    {
      "cell_type": "code",
      "execution_count": null,
      "metadata": {},
      "outputs": [],
      "source": [
        "order_records_df"
      ]
    },
    {
      "cell_type": "code",
      "execution_count": null,
      "metadata": {},
      "outputs": [],
      "source": [
        "Mufex(\n",
        "    api_key=MufexTestKeys.api_key,\n",
        "    secret_key=MufexTestKeys.secret_key,\n",
        "    use_test_net=True,\n",
        ").create_order(\n",
        "    symbol=\"BTCUSDT\",\n",
        "    position_mode=PositionModeType.BuySide,\n",
        "    buy_sell=\"buy\",\n",
        "    order_type=\"market\",\n",
        "    asset_size=0.001,\n",
        "    time_in_force=\"GoodTillCancel\",\n",
        ")"
      ]
    },
    {
      "cell_type": "code",
      "execution_count": null,
      "metadata": {},
      "outputs": [],
      "source": [
        "Apex(\n",
        "    api_key=ApexTestKeys.api_key,\n",
        "    secret_key=ApexTestKeys.secret_key,\n",
        "    passphrase=ApexTestKeys.passphrase,\n",
        "    stark_key_private=ApexTestKeys.stark_key_private,\n",
        "    stark_key_public=ApexTestKeys.stark_key_public,\n",
        "    stark_key_y=ApexTestKeys.stark_key_y,\n",
        "    use_test_net=True,\n",
        ").create_entry_market_order(\n",
        "    symbol=\"BTC-USDC\",\n",
        "    buy_sell=\"sell\",\n",
        "    asset_size=0.005,\n",
        ")"
      ]
    },
    {
      "cell_type": "code",
      "execution_count": null,
      "metadata": {},
      "outputs": [],
      "source": [
        "BinanceUSDM(\n",
        "    api_key=BinanceUSDMTestKeys.api_key,\n",
        "    secret_key=BinanceUSDMTestKeys.secret_key,\n",
        "    use_test_net=True,\n",
        ").create_order(\n",
        "    symbol=\"BTCUSDT\",\n",
        "    side=\"BUY\",\n",
        "    type=\"MARKET\",\n",
        "    quantity=0.005,\n",
        "    timeInForce=None,\n",
        ")"
      ]
    },
    {
      "cell_type": "code",
      "execution_count": null,
      "metadata": {},
      "outputs": [],
      "source": [
        "Bybit(\n",
        "    use_test_net=True,\n",
        "    api_key=BybitTestKeys.api_key,\n",
        "    secret_key=BybitTestKeys.secret_key,\n",
        ").create_order(\n",
        "    symbol=\"BTCUSDT\",\n",
        "    buy_sell=\"buy\",\n",
        "    position_mode=1,\n",
        "    order_type=\"market\",\n",
        "    asset_size=0.01,\n",
        ")"
      ]
    }
  ],
  "metadata": {
    "kernelspec": {
      "display_name": "qfFree",
      "language": "python",
      "name": "python3"
    },
    "language_info": {
      "codemirror_mode": {
        "name": "ipython",
        "version": 3
      },
      "file_extension": ".py",
      "mimetype": "text/x-python",
      "name": "python",
      "nbconvert_exporter": "python",
      "pygments_lexer": "ipython3",
      "version": "3.10.10"
    },
    "orig_nbformat": 4
  },
  "nbformat": 4,
  "nbformat_minor": 2
}
