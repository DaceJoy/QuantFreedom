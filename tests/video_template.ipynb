{
  "cells": [
    {
      "cell_type": "code",
      "execution_count": null,
      "metadata": {},
      "outputs": [],
      "source": [
        "import numpy as np\n",
        "import pandas as pd\n",
        "from my_stuff import MufexKeys, BinanceUSDMTestKeys, ApexTestKeys, MufexTestKeys\n",
        "from quantfreedom.helper_funcs import dl_ex_candles, candles_to_df\n",
        "from quantfreedom.exchanges.binance_exchange.binance_usdm import BinanceUSDM\n",
        "from quantfreedom.enums import PositionModeType\n",
        "from quantfreedom.exchanges.mufex_exchange.mufex import Mufex\n",
        "from quantfreedom.exchanges.apex_exchange.apex import Apex\n",
        "from quantfreedom.indicators.tv_indicators import *\n",
        "np.set_printoptions(formatter={\"float_kind\": \"{:0.1f}\".format})\n",
        "\n",
        "\n",
        "%load_ext autoreload\n",
        "%autoreload 2"
      ]
    },
    {
      "cell_type": "code",
      "execution_count": null,
      "metadata": {},
      "outputs": [],
      "source": [
        "mufex_main = Mufex(\n",
        "    api_key=MufexKeys.api_key,\n",
        "    secret_key=MufexKeys.secret_key,\n",
        "    use_test_net=False,\n",
        ")\n",
        "mufex_candles = mufex_main.get_candles(\n",
        "    symbol=\"BTCUSDT\",\n",
        "    timeframe=\"5m\",\n",
        "    candles_to_dl=200,\n",
        ")\n",
        "\n",
        "mufex_open = mufex_candles[:, 1]\n",
        "mufex_high = mufex_candles[:, 2]\n",
        "mufex_low = mufex_candles[:, 3]\n",
        "mufex_close = mufex_candles[:, 4]\n",
        "\n",
        "\n",
        "mufex_close_shift = np.roll(mufex_candles[:, 4], 1)\n",
        "mufex_close_shift[0] = np.nan\n",
        "mufex_close"
      ]
    },
    {
      "cell_type": "code",
      "execution_count": null,
      "metadata": {},
      "outputs": [],
      "source": [
        "mufex_main.create_order(\n",
        "    symbol=\"BTCUSDT\",\n",
        "    position_mode=PositionModeType.BuySide,\n",
        "    buy_sell=\"buy\",\n",
        "    order_type=\"limit\",\n",
        "    price=35600,\n",
        "    asset_size=0.005,\n",
        "    time_in_force=\"GoodTillCancel\",\n",
        ")"
      ]
    },
    {
      "cell_type": "code",
      "execution_count": null,
      "metadata": {},
      "outputs": [],
      "source": [
        "dl_ex_candles(\n",
        "    exchange=\"apex\",\n",
        "    symbol=\"BTCUSDC\",\n",
        "    timeframe=\"5m\",\n",
        "    candles_to_dl=200,\n",
        ")"
      ]
    },
    {
      "cell_type": "code",
      "execution_count": null,
      "metadata": {},
      "outputs": [],
      "source": [
        "apex_test = Apex(\n",
        "    api_key=ApexTestKeys.api_key,\n",
        "    secret_key=ApexTestKeys.secret_key,\n",
        "    passphrase=ApexTestKeys.passphrase,\n",
        "    stark_key_private=ApexTestKeys.stark_key_private,\n",
        "    stark_key_public=ApexTestKeys.stark_key_public,\n",
        "    stark_key_y=ApexTestKeys.stark_key_y,\n",
        "    use_test_net=True\n",
        ")\n",
        "apex_test.create_entry_market_order(\n",
        "    symbol=\"BTC-USDC\",\n",
        "    buy_sell=\"sell\",\n",
        "    asset_size=0.005,\n",
        ")"
      ]
    },
    {
      "cell_type": "code",
      "execution_count": null,
      "metadata": {},
      "outputs": [],
      "source": [
        "b_candles = dl_ex_candles(\n",
        "    exchange=\"binance_usdm\",\n",
        "    symbol=\"BTCUSDT\",\n",
        "    timeframe=\"5m\",\n",
        "    candles_to_dl=200,\n",
        ")\n",
        "b_candles"
      ]
    },
    {
      "cell_type": "code",
      "execution_count": null,
      "metadata": {},
      "outputs": [],
      "source": [
        "candles_to_df(candles=b_candles)"
      ]
    },
    {
      "cell_type": "code",
      "execution_count": null,
      "metadata": {},
      "outputs": [],
      "source": [
        "binance_test = BinanceUSDM(\n",
        "    api_key=BinanceUSDMTestKeys.api_key,\n",
        "    secret_key=BinanceUSDMTestKeys.secret_key,\n",
        "    use_test_net=True,\n",
        ")\n",
        "binance_test.create_order(\n",
        "    symbol=\"BTCUSDT\",\n",
        "    side=\"BUY\",\n",
        "    type=\"MARKET\",\n",
        "    quantity=0.005,\n",
        "    timeInForce=None,\n",
        ")"
      ]
    }
  ],
  "metadata": {
    "kernelspec": {
      "display_name": "qfFree",
      "language": "python",
      "name": "python3"
    },
    "language_info": {
      "codemirror_mode": {
        "name": "ipython",
        "version": 3
      },
      "file_extension": ".py",
      "mimetype": "text/x-python",
      "name": "python",
      "nbconvert_exporter": "python",
      "pygments_lexer": "ipython3",
      "version": "3.10.10"
    },
    "orig_nbformat": 4
  },
  "nbformat": 4,
  "nbformat_minor": 2
}
