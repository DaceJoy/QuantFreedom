{
  "cells": [
    {
      "cell_type": "code",
      "execution_count": 1,
      "metadata": {},
      "outputs": [],
      "source": [
        "import numpy as np\n",
        "import pandas as pd\n",
        "from numba import njit\n",
        "from my_stuff import MufexKeys, BinanceUSDMTestKeys, ApexTestKeys\n",
        "from quantfreedom.enums import *\n",
        "from quantfreedom.exchanges.mufex_exchange.mufex import Mufex\n",
        "from quantfreedom.indicators.indicators import *\n",
        "from quantfreedom.plotting.plot_funcs import plot_candles_1_ind_dif_pane, plot_candles_1_ind_same_pane\n",
        "from quantfreedom.exchanges.binance_exchange.binance_usdm import BinanceUSDM\n",
        "from quantfreedom.exchanges.apex_exchange.apex import Apex\n",
        "\n",
        "\n",
        "from quantfreedom.exchanges.exchange import Exchange\n",
        "np.set_printoptions(formatter={\"float_kind\": \"{:0.1f}\".format})\n",
        "from my_stuff import MufexTestKeys\n",
        "\n",
        "\n",
        "mufex_test = Mufex(api_key=MufexTestKeys.api_key, \n",
        "                   secret_key=MufexTestKeys.secret_key, \n",
        "                   use_test_net=True,\n",
        "                   )\n",
        "\n",
        "mufex_main = Mufex(\n",
        "    api_key=MufexKeys.api_key,\n",
        "    secret_key=MufexKeys.secret_key,use_test_net=False,\n",
        "    \n",
        ")\n",
        "\n",
        "%load_ext autoreload\n",
        "%autoreload 2"
      ]
    },
    {
      "cell_type": "code",
      "execution_count": null,
      "metadata": {},
      "outputs": [],
      "source": [
        "candles = mufex_main.get_candles(\n",
        "    symbol=\"BTCUSDT\",\n",
        "    timeframe=\"5m\",\n",
        "    candles_to_dl=200,\n",
        ")\n",
        "open = candles[:1]\n",
        "high = candles[:, 2]\n",
        "low = candles[:, 3]\n",
        "close = candles[:, 4]\n",
        "\n",
        "\n",
        "close_shift = np.roll(candles[:, 4], 1)\n",
        "candles"
      ]
    },
    {
      "cell_type": "code",
      "execution_count": null,
      "metadata": {},
      "outputs": [],
      "source": [
        "mufex_test.create_order(\n",
        "    params={\n",
        "        \"symbol\": \"BTCUSDT\",\n",
        "        \"positionIdx\": 1,\n",
        "        \"side\": \"Buy\",\n",
        "        \"orderType\": \"Market\",\n",
        "        \"qty\": str(0.01),\n",
        "        \"timeInForce\": \"ImmediateOrCancel\",\n",
        "    }\n",
        ")"
      ]
    },
    {
      "cell_type": "code",
      "execution_count": 2,
      "metadata": {},
      "outputs": [],
      "source": [
        "apex_test = Apex(\n",
        "    api_key=ApexTestKeys.api_key,\n",
        "    secret_key=ApexTestKeys.secret_key,\n",
        "    passphrase=ApexTestKeys.passphrase,\n",
        "    stark_key_private=ApexTestKeys.stark_key_private,\n",
        "    stark_key_public=ApexTestKeys.stark_key_public,\n",
        "    stark_key_y=ApexTestKeys.stark_key_y,\n",
        "    use_test_net=True\n",
        ")"
      ]
    },
    {
      "cell_type": "code",
      "execution_count": 3,
      "metadata": {},
      "outputs": [
        {
          "ename": "TypeError",
          "evalue": "conversion from NoneType to Decimal is not supported",
          "output_type": "error",
          "traceback": [
            "\u001b[1;31m---------------------------------------------------------------------------\u001b[0m",
            "\u001b[1;31mTypeError\u001b[0m                                 Traceback (most recent call last)",
            "\u001b[1;32me:\\Coding\\backtesters\\QuantFreedom\\tests\\video_template.ipynb Cell 5\u001b[0m line \u001b[0;36m1\n\u001b[1;32m----> <a href='vscode-notebook-cell:/e%3A/Coding/backtesters/QuantFreedom/tests/video_template.ipynb#W6sZmlsZQ%3D%3D?line=0'>1</a>\u001b[0m apex_test\u001b[39m.\u001b[39;49mcreate_order(\n\u001b[0;32m      <a href='vscode-notebook-cell:/e%3A/Coding/backtesters/QuantFreedom/tests/video_template.ipynb#W6sZmlsZQ%3D%3D?line=1'>2</a>\u001b[0m     symbol\u001b[39m=\u001b[39;49m\u001b[39m\"\u001b[39;49m\u001b[39mBTC-USDC\u001b[39;49m\u001b[39m\"\u001b[39;49m,\n\u001b[0;32m      <a href='vscode-notebook-cell:/e%3A/Coding/backtesters/QuantFreedom/tests/video_template.ipynb#W6sZmlsZQ%3D%3D?line=2'>3</a>\u001b[0m     side\u001b[39m=\u001b[39;49m\u001b[39m\"\u001b[39;49m\u001b[39mBUY\u001b[39;49m\u001b[39m\"\u001b[39;49m,\n\u001b[0;32m      <a href='vscode-notebook-cell:/e%3A/Coding/backtesters/QuantFreedom/tests/video_template.ipynb#W6sZmlsZQ%3D%3D?line=3'>4</a>\u001b[0m     \u001b[39mtype\u001b[39;49m\u001b[39m=\u001b[39;49m\u001b[39m\"\u001b[39;49m\u001b[39mLIMIT\u001b[39;49m\u001b[39m\"\u001b[39;49m,\n\u001b[0;32m      <a href='vscode-notebook-cell:/e%3A/Coding/backtesters/QuantFreedom/tests/video_template.ipynb#W6sZmlsZQ%3D%3D?line=4'>5</a>\u001b[0m     size\u001b[39m=\u001b[39;49m\u001b[39m.005\u001b[39;49m,\n\u001b[0;32m      <a href='vscode-notebook-cell:/e%3A/Coding/backtesters/QuantFreedom/tests/video_template.ipynb#W6sZmlsZQ%3D%3D?line=5'>6</a>\u001b[0m     price\u001b[39m=\u001b[39;49m\u001b[39m34575\u001b[39;49m,\n\u001b[0;32m      <a href='vscode-notebook-cell:/e%3A/Coding/backtesters/QuantFreedom/tests/video_template.ipynb#W6sZmlsZQ%3D%3D?line=6'>7</a>\u001b[0m     \u001b[39m# expirationEpochSeconds=currentTime,\u001b[39;49;00m\n\u001b[0;32m      <a href='vscode-notebook-cell:/e%3A/Coding/backtesters/QuantFreedom/tests/video_template.ipynb#W6sZmlsZQ%3D%3D?line=7'>8</a>\u001b[0m     \u001b[39m# limitFeeRate=limitFeeRate,\u001b[39;49;00m\n\u001b[0;32m      <a href='vscode-notebook-cell:/e%3A/Coding/backtesters/QuantFreedom/tests/video_template.ipynb#W6sZmlsZQ%3D%3D?line=8'>9</a>\u001b[0m )\n",
            "File \u001b[1;32mE:\\Coding\\backtesters\\QuantFreedom\\quantfreedom\\exchanges\\apex_exchange\\apex.py:62\u001b[0m, in \u001b[0;36mApex.create_order\u001b[1;34m(self, symbol, side, type, size, limitFeeRate, limitFee, price, accountId, timeInForce, reduceOnly, triggerPrice, triggerPriceType, trailingPercent, clientId, expiration, expirationEpochSeconds, isPositionTpsl, signature, sourceFlag)\u001b[0m\n\u001b[0;32m     40\u001b[0m \u001b[39mdef\u001b[39;00m \u001b[39mcreate_order\u001b[39m(\n\u001b[0;32m     41\u001b[0m     \u001b[39mself\u001b[39m,\n\u001b[0;32m     42\u001b[0m     symbol,\n\u001b[1;32m   (...)\u001b[0m\n\u001b[0;32m     60\u001b[0m     sourceFlag\u001b[39m=\u001b[39m\u001b[39mNone\u001b[39;00m,\n\u001b[0;32m     61\u001b[0m ):\n\u001b[1;32m---> 62\u001b[0m     \u001b[39mreturn\u001b[39;00m \u001b[39mself\u001b[39;49m\u001b[39m.\u001b[39;49mapex_stark\u001b[39m.\u001b[39;49mcreate_order(\n\u001b[0;32m     63\u001b[0m         symbol\u001b[39m=\u001b[39;49msymbol,\n\u001b[0;32m     64\u001b[0m         side\u001b[39m=\u001b[39;49mside,\n\u001b[0;32m     65\u001b[0m         \u001b[39mtype\u001b[39;49m\u001b[39m=\u001b[39;49m\u001b[39mtype\u001b[39;49m,\n\u001b[0;32m     66\u001b[0m         size\u001b[39m=\u001b[39;49msize,\n\u001b[0;32m     67\u001b[0m         limitFeeRate\u001b[39m=\u001b[39;49mlimitFeeRate,\n\u001b[0;32m     68\u001b[0m         limitFee\u001b[39m=\u001b[39;49mlimitFee,\n\u001b[0;32m     69\u001b[0m         price\u001b[39m=\u001b[39;49mprice,\n\u001b[0;32m     70\u001b[0m         accountId\u001b[39m=\u001b[39;49maccountId,\n\u001b[0;32m     71\u001b[0m         timeInForce\u001b[39m=\u001b[39;49mtimeInForce,\n\u001b[0;32m     72\u001b[0m         reduceOnly\u001b[39m=\u001b[39;49mreduceOnly,\n\u001b[0;32m     73\u001b[0m         triggerPrice\u001b[39m=\u001b[39;49mtriggerPrice,\n\u001b[0;32m     74\u001b[0m         triggerPriceType\u001b[39m=\u001b[39;49mtriggerPriceType,\n\u001b[0;32m     75\u001b[0m         trailingPercent\u001b[39m=\u001b[39;49mtrailingPercent,\n\u001b[0;32m     76\u001b[0m         clientId\u001b[39m=\u001b[39;49mclientId,\n\u001b[0;32m     77\u001b[0m         expiration\u001b[39m=\u001b[39;49mexpiration,\n\u001b[0;32m     78\u001b[0m         expirationEpochSeconds\u001b[39m=\u001b[39;49mexpirationEpochSeconds,\n\u001b[0;32m     79\u001b[0m         isPositionTpsl\u001b[39m=\u001b[39;49misPositionTpsl,\n\u001b[0;32m     80\u001b[0m         signature\u001b[39m=\u001b[39;49msignature,\n\u001b[0;32m     81\u001b[0m         sourceFlag\u001b[39m=\u001b[39;49msourceFlag,\n\u001b[0;32m     82\u001b[0m     )\n",
            "File \u001b[1;32mE:\\Coding\\backtesters\\QuantFreedom\\quantfreedom\\exchanges\\apex_exchange\\apex_github\\http_private_stark_key_sign.py:98\u001b[0m, in \u001b[0;36mHttpPrivateStark.create_order\u001b[1;34m(self, symbol, side, type, size, limitFeeRate, limitFee, price, accountId, timeInForce, reduceOnly, triggerPrice, triggerPriceType, trailingPercent, clientId, expiration, expirationEpochSeconds, isPositionTpsl, signature, sourceFlag)\u001b[0m\n\u001b[0;32m     95\u001b[0m     \u001b[39mif\u001b[39;00m number \u001b[39m>\u001b[39m \u001b[39mint\u001b[39m(number):\n\u001b[0;32m     96\u001b[0m         \u001b[39mraise\u001b[39;00m \u001b[39mException\u001b[39;00m(\u001b[39m\"\u001b[39m\u001b[39mthe price must Multiple of tickSize\u001b[39m\u001b[39m\"\u001b[39m)\n\u001b[1;32m---> 98\u001b[0m order_to_sign \u001b[39m=\u001b[39m SignableOrder(\n\u001b[0;32m     99\u001b[0m     position_id\u001b[39m=\u001b[39;49maccountId,\n\u001b[0;32m    100\u001b[0m     client_id\u001b[39m=\u001b[39;49mclientId,\n\u001b[0;32m    101\u001b[0m     market\u001b[39m=\u001b[39;49msymbol,\n\u001b[0;32m    102\u001b[0m     side\u001b[39m=\u001b[39;49mside,\n\u001b[0;32m    103\u001b[0m     human_size\u001b[39m=\u001b[39;49msize,\n\u001b[0;32m    104\u001b[0m     human_price\u001b[39m=\u001b[39;49mprice,\n\u001b[0;32m    105\u001b[0m     limit_fee\u001b[39m=\u001b[39;49mlimitFeeRate,\n\u001b[0;32m    106\u001b[0m     expiration_epoch_seconds\u001b[39m=\u001b[39;49mexpirationEpochSeconds,\n\u001b[0;32m    107\u001b[0m     synthetic_resolution\u001b[39m=\u001b[39;49msymbolData\u001b[39m.\u001b[39;49mget(\u001b[39m\"\u001b[39;49m\u001b[39mstarkExResolution\u001b[39;49m\u001b[39m\"\u001b[39;49m),\n\u001b[0;32m    108\u001b[0m     synthetic_id\u001b[39m=\u001b[39;49msymbolData\u001b[39m.\u001b[39;49mget(\u001b[39m\"\u001b[39;49m\u001b[39mstarkExSyntheticAssetId\u001b[39;49m\u001b[39m\"\u001b[39;49m),\n\u001b[0;32m    109\u001b[0m     collateral_id\u001b[39m=\u001b[39;49mcurrency\u001b[39m.\u001b[39;49mget(\u001b[39m\"\u001b[39;49m\u001b[39mstarkExAssetId\u001b[39;49m\u001b[39m\"\u001b[39;49m),\n\u001b[0;32m    110\u001b[0m )\n\u001b[0;32m    111\u001b[0m signature \u001b[39m=\u001b[39m order_to_sign\u001b[39m.\u001b[39msign(\u001b[39mself\u001b[39m\u001b[39m.\u001b[39mstark_private_key)\n\u001b[0;32m    113\u001b[0m \u001b[39mif\u001b[39;00m side \u001b[39m==\u001b[39m ORDER_SIDE_BUY:\n",
            "File \u001b[1;32mE:\\Coding\\backtesters\\QuantFreedom\\quantfreedom\\exchanges\\apex_exchange\\apex_github\\starkex\\order.py:91\u001b[0m, in \u001b[0;36mSignableOrder.__init__\u001b[1;34m(self, market, side, position_id, human_size, human_price, limit_fee, client_id, expiration_epoch_seconds, synthetic_resolution, synthetic_id, collateral_id)\u001b[0m\n\u001b[0;32m     81\u001b[0m     quantums_amount_collateral \u001b[39m=\u001b[39m to_quantums_round_down(\n\u001b[0;32m     82\u001b[0m         human_cost,\n\u001b[0;32m     83\u001b[0m         ASSET_RESOLUTION[COLLATERAL_ASSET],\n\u001b[0;32m     84\u001b[0m     )\n\u001b[0;32m     86\u001b[0m \u001b[39m# The limitFee is a fraction, e.g. 0.01 is a 1 % fee.\u001b[39;00m\n\u001b[0;32m     87\u001b[0m \u001b[39m# It is always paid in the collateral asset.\u001b[39;00m\n\u001b[0;32m     88\u001b[0m \u001b[39m# Constrain the limit fee to six decimals of precision.\u001b[39;00m\n\u001b[0;32m     89\u001b[0m \u001b[39m# The final fee amount must be rounded up.\u001b[39;00m\n\u001b[0;32m     90\u001b[0m limit_fee_rounded \u001b[39m=\u001b[39m DECIMAL_CONTEXT_ROUND_DOWN\u001b[39m.\u001b[39mquantize(\n\u001b[1;32m---> 91\u001b[0m     decimal\u001b[39m.\u001b[39;49mDecimal(limit_fee),\n\u001b[0;32m     92\u001b[0m     decimal\u001b[39m.\u001b[39mDecimal(\u001b[39m\"\u001b[39m\u001b[39m0.000001\u001b[39m\u001b[39m\"\u001b[39m),\n\u001b[0;32m     93\u001b[0m )\n\u001b[0;32m     94\u001b[0m quantums_amount_fee_decimal \u001b[39m=\u001b[39m DECIMAL_CONTEXT_ROUND_UP\u001b[39m.\u001b[39mmultiply(\n\u001b[0;32m     95\u001b[0m     limit_fee_rounded,\n\u001b[0;32m     96\u001b[0m     quantums_amount_collateral,\n\u001b[0;32m     97\u001b[0m )\u001b[39m.\u001b[39mto_integral_value(context\u001b[39m=\u001b[39mDECIMAL_CONTEXT_ROUND_UP)\n\u001b[0;32m     99\u001b[0m \u001b[39m# Orders may have a short time-to-live on the orderbook, but we need\u001b[39;00m\n\u001b[0;32m    100\u001b[0m \u001b[39m# to ensure their signatures are valid by the time they reach the\u001b[39;00m\n\u001b[0;32m    101\u001b[0m \u001b[39m# blockchain. Therefore, we enforce that the signed expiration includes\u001b[39;00m\n\u001b[0;32m    102\u001b[0m \u001b[39m# a buffer relative to the expiration timestamp sent to the dYdX API.\u001b[39;00m\n",
            "\u001b[1;31mTypeError\u001b[0m: conversion from NoneType to Decimal is not supported"
          ]
        }
      ],
      "source": [
        "apex_test.create_order(\n",
        "    symbol=\"BTC-USDC\",\n",
        "    side=\"BUY\",\n",
        "    type=\"LIMIT\",\n",
        "    size=.005,\n",
        "    price=34575,\n",
        "    # expirationEpochSeconds=currentTime,\n",
        "    # limitFeeRate=limitFeeRate,\n",
        ")"
      ]
    },
    {
      "cell_type": "code",
      "execution_count": null,
      "metadata": {},
      "outputs": [],
      "source": [
        "binance_test = BinanceUSDM(\n",
        "    api_key=BinanceUSDMTestKeys.api_key,\n",
        "    secret_key=BinanceUSDMTestKeys.secret_key,\n",
        "    use_test_net=True,\n",
        ")"
      ]
    },
    {
      "cell_type": "code",
      "execution_count": null,
      "metadata": {},
      "outputs": [],
      "source": [
        "binance_test.create_order(symbol=\"BTCUSDT\", side=\"BUY\", type=\"Limit\")"
      ]
    }
  ],
  "metadata": {
    "kernelspec": {
      "display_name": "qfFree",
      "language": "python",
      "name": "python3"
    },
    "language_info": {
      "codemirror_mode": {
        "name": "ipython",
        "version": 3
      },
      "file_extension": ".py",
      "mimetype": "text/x-python",
      "name": "python",
      "nbconvert_exporter": "python",
      "pygments_lexer": "ipython3",
      "version": "3.10.10"
    },
    "orig_nbformat": 4
  },
  "nbformat": 4,
  "nbformat_minor": 2
}
