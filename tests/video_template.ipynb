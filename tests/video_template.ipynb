{
  "cells": [
    {
      "cell_type": "code",
      "execution_count": 14,
      "metadata": {},
      "outputs": [
        {
          "name": "stdout",
          "output_type": "stream",
          "text": [
            "The autoreload extension is already loaded. To reload it, use:\n",
            "  %reload_ext autoreload\n"
          ]
        }
      ],
      "source": [
        "import numpy as np\n",
        "import pandas as pd\n",
        "from numba import njit\n",
        "from my_stuff import MufexKeys\n",
        "from quantfreedom.enums import *\n",
        "from quantfreedom.exchanges.mufex_exchange.mufex import Mufex\n",
        "from quantfreedom.indicators.indicators import *\n",
        "from quantfreedom.plotting.plot_funcs import plot_candles_1_ind_dif_pane, plot_candles_1_ind_same_pane\n",
        "from quantfreedom.exchanges.exchange import Exchange\n",
        "np.set_printoptions(formatter={\"float_kind\": \"{:0.4f}\".format})\n",
        "from my_stuff import MufexTestKeys\n",
        "\n",
        "\n",
        "mufex_test = Mufex(api_key=MufexTestKeys.api_key, secret_key=MufexTestKeys.secret_key, use_test_net=True,)\n",
        "mufex_main = Mufex(\n",
        "    api_key=MufexKeys.api_key,\n",
        "    secret_key=MufexKeys.secret_key,\n",
        "    use_test_net=False,\n",
        ")\n",
        "\n",
        "%load_ext autoreload\n",
        "%autoreload 2"
      ]
    },
    {
      "cell_type": "code",
      "execution_count": 15,
      "metadata": {},
      "outputs": [
        {
          "name": "stdout",
          "output_type": "stream",
          "text": [
            "It took 00 mins and 00 seconds to download 200 candles\n"
          ]
        }
      ],
      "source": [
        "candles = mufex_main.get_candles(symbol=\"BTCUSDT\", timeframe=\"5m\", candles_to_dl=200)\n",
        "open = candles[:1]\n",
        "high = candles[:, 2]\n",
        "low = candles[:, 3]\n",
        "close = candles[:, 4]\n",
        "close_shift = np.roll(candles[:, 4],1)"
      ]
    },
    {
      "cell_type": "code",
      "execution_count": 18,
      "metadata": {},
      "outputs": [
        {
          "data": {
            "text/plain": [
              "'d0b969a5-b2fe-48ce-b1e7-4535830aa25f'"
            ]
          },
          "execution_count": 18,
          "metadata": {},
          "output_type": "execute_result"
        }
      ],
      "source": [
        "mufex_test.create_order(\n",
        "    params={\n",
        "        \"symbol\": 'BTCUSDT',\n",
        "        \"positionIdx\": 1,\n",
        "        \"side\": \"Buy\",\n",
        "        \"orderType\": \"Market\",\n",
        "        \"qty\": str(.01),\n",
        "        \"timeInForce\": 'ImmediateOrCancel',\n",
        "    }\n",
        ")"
      ]
    }
  ],
  "metadata": {
    "kernelspec": {
      "display_name": "qfFree",
      "language": "python",
      "name": "python3"
    },
    "language_info": {
      "codemirror_mode": {
        "name": "ipython",
        "version": 3
      },
      "file_extension": ".py",
      "mimetype": "text/x-python",
      "name": "python",
      "nbconvert_exporter": "python",
      "pygments_lexer": "ipython3",
      "version": "3.10.10"
    },
    "orig_nbformat": 4
  },
  "nbformat": 4,
  "nbformat_minor": 2
}
