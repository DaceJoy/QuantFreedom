{
  "cells": [
    {
      "cell_type": "code",
      "execution_count": 2,
      "metadata": {},
      "outputs": [
        {
          "name": "stdout",
          "output_type": "stream",
          "text": [
            "The autoreload extension is already loaded. To reload it, use:\n",
            "  %reload_ext autoreload\n"
          ]
        }
      ],
      "source": [
        "import numpy as np\n",
        "import pandas as pd\n",
        "from my_stuff import MufexKeys, BinanceUSDMTestKeys, ApexTestKeys, MufexTestKeys\n",
        "from quantfreedom.helper_funcs import dl_ex_candles, candles_to_df\n",
        "from quantfreedom.exchanges.binance_exchange.binance_usdm import BinanceUSDM\n",
        "from quantfreedom.enums import PositionModeType\n",
        "from quantfreedom.exchanges.mufex_exchange.mufex import Mufex\n",
        "from quantfreedom.exchanges.apex_exchange.apex import Apex\n",
        "from quantfreedom.indicators.tv_indicators import *\n",
        "np.set_printoptions(formatter={\"float_kind\": \"{:0.1f}\".format})\n",
        "\n",
        "\n",
        "%load_ext autoreload\n",
        "%autoreload 2"
      ]
    },
    {
      "cell_type": "code",
      "execution_count": null,
      "metadata": {},
      "outputs": [],
      "source": [
        "candles = dl_ex_candles(exchange=\"binance_usdm\", symbol=\"BTCUSDT\", timeframe=\"30m\", candles_to_dl=400)\n",
        "open = candles[:, 1]\n",
        "high = candles[:, 2]\n",
        "low = candles[:, 3]\n",
        "close = candles[:, 4]\n",
        "close_shift = np.roll(candles[:, 4], 1)\n",
        "candles"
      ]
    },
    {
      "cell_type": "code",
      "execution_count": null,
      "metadata": {},
      "outputs": [],
      "source": [
        "candles_to_df(candles=candles)"
      ]
    },
    {
      "cell_type": "code",
      "execution_count": 2,
      "metadata": {},
      "outputs": [
        {
          "data": {
            "text/plain": [
              "array([37111.2, 37111.1, 37130.9, 37125.7, 37124.1, 37114.4, 37110.8,\n",
              "       37122.6, 37116.8, 37080.2, 37122.4, 37123.7, 37089.4, 37065.2,\n",
              "       37060.8, 37063.9, 37101.3, 37090.8, 37070.7, 37015.2, 36964.0,\n",
              "       37011.6, 37085.0, 37063.6, 37045.4, 37093.3, 37088.0, 37105.0,\n",
              "       37104.4, 37119.2, 37105.2, 37149.7, 37145.2, 37143.3, 37133.2,\n",
              "       37095.3, 37129.3, 37110.9, 37098.1, 37082.0, 37058.0, 37046.5,\n",
              "       37030.1, 37069.1, 37091.8, 37094.1, 37118.6, 37145.7, 37125.0,\n",
              "       37121.8, 37115.3, 37118.9, 37088.9, 37077.0, 37055.1, 37080.6,\n",
              "       37090.3, 37114.1, 37079.1, 37043.2, 36987.3, 36975.4, 37030.5,\n",
              "       36997.1, 36988.3, 36984.7, 37022.9, 37023.5, 37040.3, 37009.9,\n",
              "       37014.5, 36987.2, 37000.4, 36984.3, 36989.8, 36981.6, 36968.2,\n",
              "       36981.9, 37044.0, 37079.0, 37073.7, 37067.9, 37024.1, 37050.0,\n",
              "       37020.6, 37050.8, 37058.6, 37041.0, 37039.6, 37030.0, 37031.8,\n",
              "       37019.7, 36981.6, 37003.7, 37002.2, 37015.7, 36987.4, 37019.8,\n",
              "       37036.7, 37009.9, 37011.5, 36991.3, 36957.9, 37030.2, 37004.7,\n",
              "       37028.2, 37029.1, 37041.9, 37014.3, 37012.4, 37014.3, 36991.7,\n",
              "       36999.9, 37026.6, 37068.9, 37091.4, 37122.8, 37071.1, 37071.3,\n",
              "       37067.1, 37095.8, 37132.5, 37125.8, 37126.2, 37089.5, 37115.7,\n",
              "       37127.1, 37084.9, 37110.4, 37155.1, 37215.1, 37170.4, 37147.0,\n",
              "       37165.6, 37165.3, 37203.1, 37179.1, 37199.6, 37192.0, 37202.3,\n",
              "       37235.1, 37211.6, 37207.8, 37244.2, 37281.0, 37274.2, 37260.1,\n",
              "       37203.4, 37191.7, 37211.2, 37174.3, 37171.1, 37163.0, 37140.1,\n",
              "       37162.8, 37155.7, 37119.8, 37078.9, 37068.4, 37108.7, 37160.1,\n",
              "       37143.4, 37139.1, 37131.1, 37147.9, 37148.0, 37180.9, 37180.5,\n",
              "       37167.6, 37193.5, 37155.4, 37127.9, 37100.9, 37080.8, 37076.6,\n",
              "       37128.4, 37135.1, 37147.8, 37120.2, 37142.0, 37159.5, 37174.9,\n",
              "       37133.6, 37149.0, 37115.2, 37117.6, 37115.2, 37127.4, 37122.1,\n",
              "       37140.6, 37157.8, 37155.3, 37164.8, 37150.2, 37140.1, 37143.9,\n",
              "       37136.6, 37112.8, 37119.2, 37120.3])"
            ]
          },
          "execution_count": 2,
          "metadata": {},
          "output_type": "execute_result"
        }
      ],
      "source": [
        "mufex_main = Mufex(\n",
        "    api_key=MufexKeys.api_key,\n",
        "    secret_key=MufexKeys.secret_key,\n",
        "    use_test_net=False,\n",
        ")\n",
        "mufex_main.create_order(\n",
        "    symbol=\"BTCUSDT\",\n",
        "    position_mode=PositionModeType.BuySide,\n",
        "    buy_sell=\"buy\",\n",
        "    order_type=\"limit\",\n",
        "    price=35000,\n",
        "    asset_size=0.001,\n",
        "    time_in_force=\"GoodTillCancel\",\n",
        ")"
      ]
    },
    {
      "cell_type": "code",
      "execution_count": 6,
      "metadata": {},
      "outputs": [
        {
          "data": {
            "text/plain": [
              "'511564387115336300'"
            ]
          },
          "execution_count": 6,
          "metadata": {},
          "output_type": "execute_result"
        }
      ],
      "source": [
        "apex_test = Apex(\n",
        "    api_key=ApexTestKeys.api_key,\n",
        "    secret_key=ApexTestKeys.secret_key,\n",
        "    passphrase=ApexTestKeys.passphrase,\n",
        "    stark_key_private=ApexTestKeys.stark_key_private,\n",
        "    stark_key_public=ApexTestKeys.stark_key_public,\n",
        "    stark_key_y=ApexTestKeys.stark_key_y,\n",
        "    use_test_net=True\n",
        ")\n",
        "apex_test.create_entry_market_order(\n",
        "    symbol=\"BTC-USDC\",\n",
        "    buy_sell=\"buy\",\n",
        "    asset_size=0.005,\n",
        ")"
      ]
    },
    {
      "cell_type": "code",
      "execution_count": 4,
      "metadata": {},
      "outputs": [
        {
          "data": {
            "text/plain": [
              "{'orderId': 3522307233,\n",
              " 'symbol': 'BTCUSDT',\n",
              " 'status': 'NEW',\n",
              " 'clientOrderId': 'JZftPu68aWkaTdEO8nX0Ae',\n",
              " 'price': '0.00',\n",
              " 'avgPrice': '0.00',\n",
              " 'origQty': '0.005',\n",
              " 'executedQty': '0.000',\n",
              " 'cumQty': '0.000',\n",
              " 'cumQuote': '0.00000',\n",
              " 'timeInForce': 'GTC',\n",
              " 'type': 'MARKET',\n",
              " 'reduceOnly': False,\n",
              " 'closePosition': False,\n",
              " 'side': 'BUY',\n",
              " 'positionSide': 'BOTH',\n",
              " 'stopPrice': '0.00',\n",
              " 'workingType': 'CONTRACT_PRICE',\n",
              " 'priceProtect': False,\n",
              " 'origType': 'MARKET',\n",
              " 'priceMatch': 'NONE',\n",
              " 'selfTradePreventionMode': 'NONE',\n",
              " 'goodTillDate': 0,\n",
              " 'updateTime': 1699803228655}"
            ]
          },
          "execution_count": 4,
          "metadata": {},
          "output_type": "execute_result"
        }
      ],
      "source": [
        "binance_test = BinanceUSDM(\n",
        "    api_key=BinanceUSDMTestKeys.api_key,\n",
        "    secret_key=BinanceUSDMTestKeys.secret_key,\n",
        "    use_test_net=True,\n",
        ")\n",
        "binance_test.create_order(\n",
        "    symbol=\"BTCUSDT\",\n",
        "    side=\"BUY\",\n",
        "    type=\"MARKET\",\n",
        "    quantity=0.005,\n",
        "    timeInForce=None,\n",
        ")"
      ]
    }
  ],
  "metadata": {
    "kernelspec": {
      "display_name": "qfFree",
      "language": "python",
      "name": "python3"
    },
    "language_info": {
      "codemirror_mode": {
        "name": "ipython",
        "version": 3
      },
      "file_extension": ".py",
      "mimetype": "text/x-python",
      "name": "python",
      "nbconvert_exporter": "python",
      "pygments_lexer": "ipython3",
      "version": "3.10.10"
    },
    "orig_nbformat": 4
  },
  "nbformat": 4,
  "nbformat_minor": 2
}
