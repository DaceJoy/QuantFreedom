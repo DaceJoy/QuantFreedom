{
 "cells": [
  {
   "cell_type": "code",
   "execution_count": 35,
   "metadata": {},
   "outputs": [
    {
     "name": "stdout",
     "output_type": "stream",
     "text": [
      "It took 00 mins and 01 seconds to download 300 candles\n",
      "The autoreload extension is already loaded. To reload it, use:\n",
      "  %reload_ext autoreload\n"
     ]
    }
   ],
   "source": [
    "from my_stuff import MufexKeys\n",
    "from quantfreedom.exchanges.mufex_exchange.mufex import Mufex\n",
    "from lightweight_charts import Chart\n",
    "from time import sleep\n",
    "import pandas_ta as pta\n",
    "from numba.experimental import jitclass\n",
    "from numba import njit\n",
    "\n",
    "mufex_main = Mufex(\n",
    "    api_key=MufexKeys.api_key,\n",
    "    secret_key=MufexKeys.secret_key,\n",
    "    use_test_net=False,\n",
    ")\n",
    "symbol=\"BTCUSDT\"\n",
    "candles = mufex_main.get_candles_df(\n",
    "    symbol=symbol,\n",
    "    timeframe='1m',\n",
    "    candles_to_dl=300,\n",
    "    limit=200\n",
    ")\n",
    "%load_ext autoreload\n",
    "%autoreload 2\n"
   ]
  },
  {
   "cell_type": "code",
   "execution_count": 16,
   "metadata": {},
   "outputs": [
    {
     "data": {
      "text/plain": [
       "90.0"
      ]
     },
     "execution_count": 16,
     "metadata": {},
     "output_type": "execute_result"
    }
   ],
   "source": [
    "round(((1000 - 100) / 1000) * 100, 2)"
   ]
  },
  {
   "cell_type": "code",
   "execution_count": 31,
   "metadata": {},
   "outputs": [],
   "source": [
    "def tester():\n",
    "        lookback_rsi = self.rsi[-self.lookback_div_period : -1]\n",
    "        filter = lookback_rsi[(lookback_rsi < (self.current_rsi - self.rsi_buffer))]\n",
    "        if filter.any():\n",
    "                filtered = filter[filter.notna()]\n",
    "                for i in range(len(filter) - 1, -1, -1):\n",
    "                rsi_divergence_index = filtered.index[i]\n",
    "                div_candle_close = self.candles.close[rsi_divergence_index]\n",
    "                if (self.current_candle_close < div_candle_close) & (\n",
    "                        div_candle_close < self.candles.open[rsi_divergence_index]\n",
    "                ):\n",
    "                        info_logger.info(f\"There is divergence {rsi_divergence_index}\")\n",
    "                        self.rsi_divergence_graph = [lookback_rsi[rsi_divergence_index] - 0.2, self.current_rsi - 0.2]\n",
    "\n",
    "                        self.divergence_graph_index = [rsi_divergence_index, self.current_timestamp]\n",
    "\n",
    "                        self.candle_divergence_graph = [\n",
    "                        self.candles.low[rsi_divergence_index] - 2,\n",
    "                        self.current_candle_low - 2,\n",
    "                        ]\n",
    "                        return True\n",
    "                else:\n",
    "                        info_logger.debug(f\"No div because rsi lower but candle isn't or is green\")\n",
    "        else:\n",
    "                info_logger.info(\"No divergence detected\")\n",
    "                return False"
   ]
  },
  {
   "cell_type": "code",
   "execution_count": 32,
   "metadata": {},
   "outputs": [
    {
     "name": "stdout",
     "output_type": "stream",
     "text": [
      "\n",
      "@jitclass()\n",
      "class LeverageLong:\n",
      "    def __init__(self):\n",
      "        pass\n",
      "\n",
      "    def leverage_calculator(self, number):\n",
      "        thing = number - 10\n",
      "        return thing\n",
      "\n",
      "\n"
     ]
    }
   ],
   "source": [
    "def get_strategy_plot_filename(self):\n",
    "    info_logger.debug(\"Creating strategy plot file\")\n",
    "    last_30 = self.candles[-30:]\n",
    "    fig = make_subplots(\n",
    "        rows=2,\n",
    "        cols=1,\n",
    "        row_heights=[0.7, 0.3],\n",
    "        shared_xaxes=True,\n",
    "        vertical_spacing=0.02,\n",
    "    )\n",
    "    fig.add_candlestick(\n",
    "        x=last_30.index,\n",
    "        open=last_30.open,\n",
    "        high=last_30.high,\n",
    "        low=last_30.low,\n",
    "        close=last_30.close,\n",
    "        name=\"Candles\",\n",
    "        row=1,\n",
    "        col=1,\n",
    "    )\n",
    "    try:\n",
    "        # enter range\n",
    "        fig.add_scatter(\n",
    "            x=[self.entered_range_index],\n",
    "            y=[last_30.high[self.entered_range_index]],\n",
    "            mode=\"markers\",\n",
    "            marker=dict(size=10, symbol=\"hexagram\", color=\"yellow\"),\n",
    "            name=f\"Entered Range\",\n",
    "            row=1,\n",
    "            col=1,\n",
    "        )\n",
    "    except:\n",
    "        pass\n",
    "    try:\n",
    "        # exit range\n",
    "        fig.add_scatter(\n",
    "            x=[self.exit_range_index],\n",
    "            y=[last_30.high[self.exit_range_index]],\n",
    "            mode=\"markers\",\n",
    "            marker=dict(size=10, symbol=\"hexagram\", color=\"yellow\"),\n",
    "            name=f\"Exit Range\",\n",
    "            row=1,\n",
    "            col=1,\n",
    "        )\n",
    "    except:\n",
    "        pass\n",
    "\n",
    "    # fig.add_hline(\n",
    "    #     y=self.price_range_high,\n",
    "    #     name=f\"Rnage High\",\n",
    "    #     row=1,\n",
    "    #     col=1,\n",
    "    # )\n",
    "    # fig.add_hline(\n",
    "    #     y=self.price_range_low,\n",
    "    #     name=f\"Range Low\",\n",
    "    #     row=1,\n",
    "    #     col=1,\n",
    "    # )\n",
    "    # candle divergence graph\n",
    "    fig.add_scatter(\n",
    "        x=self.divergence_graph_index,\n",
    "        y=self.candle_divergence_graph,\n",
    "        name=f\"candle divergence\",\n",
    "        marker=dict(color=\"orange\"),\n",
    "        row=1,\n",
    "        col=1,\n",
    "    )\n",
    "    # RSI\n",
    "    rsi = pta.rsi(close=self.candles.close, length=self.rsi_length).round(decimals=2)[-30:]\n",
    "    fig.add_scatter(\n",
    "        x=rsi.index,\n",
    "        y=rsi,\n",
    "        name=\"RSI\",\n",
    "        marker=dict(color=\"lightblue\"),\n",
    "        row=2,\n",
    "        col=1,\n",
    "    )\n",
    "    # rsi divergence graph\n",
    "    fig.add_scatter(\n",
    "        x=self.divergence_graph_index,\n",
    "        y=self.rsi_divergence_graph,\n",
    "        name=f\"rsi divergence\",\n",
    "        marker=dict(color=\"orange\"),\n",
    "        row=2,\n",
    "        col=1,\n",
    "    )\n",
    "    fig.update_layout(xaxis_rangeslider_visible=False)\n",
    "    fig.show()\n",
    "    strategy_filename = os.path.join(\n",
    "        \".\",\n",
    "        \"logs\",\n",
    "        \"images\",\n",
    "        f'strat_{datetime.now().strftime(\"%m-%d-%Y_%H-%M-%S\")}.png',\n",
    "    )\n",
    "    fig.write_image(strategy_filename)\n",
    "    return strategy_filename"
   ]
  },
  {
   "cell_type": "code",
   "execution_count": 33,
   "metadata": {},
   "outputs": [
    {
     "data": {
      "text/plain": [
       "<numba.experimental.jitclass.boxing.LeverageLong at 0x1e47f9a8280>"
      ]
     },
     "execution_count": 33,
     "metadata": {},
     "output_type": "execute_result"
    }
   ],
   "source": [
    "exec(jc)\n",
    "lev=LeverageLong()\n",
    "lev"
   ]
  },
  {
   "cell_type": "code",
   "execution_count": 34,
   "metadata": {},
   "outputs": [
    {
     "data": {
      "text/plain": [
       "0"
      ]
     },
     "execution_count": 34,
     "metadata": {},
     "output_type": "execute_result"
    }
   ],
   "source": [
    "lev.leverage_calculator(10)"
   ]
  },
  {
   "cell_type": "code",
   "execution_count": 42,
   "metadata": {},
   "outputs": [
    {
     "name": "stdout",
     "output_type": "stream",
     "text": [
      "-10\n",
      "-9\n",
      "-8\n",
      "-7\n",
      "-6\n",
      "-5\n",
      "-4\n",
      "-3\n",
      "-2\n",
      "-1\n"
     ]
    }
   ],
   "source": [
    "@njit\n",
    "def lev_calc(lev_obj: LeverageLong):\n",
    "    acc = 0\n",
    "    for i in range(10):\n",
    "        acc += lev_obj.leverage_calculator(i)\n",
    "        print(lev_obj.leverage_calculator(i))\n",
    "        # print(acc)\n",
    "    \n",
    "lev_calc(lev_obj=lev)"
   ]
  }
 ],
 "metadata": {
  "kernelspec": {
   "display_name": "qfFree",
   "language": "python",
   "name": "python3"
  },
  "language_info": {
   "codemirror_mode": {
    "name": "ipython",
    "version": 3
   },
   "file_extension": ".py",
   "mimetype": "text/x-python",
   "name": "python",
   "nbconvert_exporter": "python",
   "pygments_lexer": "ipython3",
   "version": "3.10.10"
  },
  "orig_nbformat": 4
 },
 "nbformat": 4,
 "nbformat_minor": 2
}
