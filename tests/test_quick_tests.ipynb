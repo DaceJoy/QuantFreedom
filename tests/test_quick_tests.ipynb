{
 "cells": [
  {
   "cell_type": "code",
   "execution_count": 1,
   "metadata": {},
   "outputs": [],
   "source": [
    "# import os\n",
    "# import sys\n",
    "\n",
    "# sys.dont_write_bytecode = True\n",
    "# os.environ[\"NUMBA_DISABLE_JIT\"] = \"1\"\n",
    "\n",
    "from my_stuff import MufexKeys\n",
    "from quantfreedom.exchanges.mufex_exchange.mufex import Mufex\n",
    "from lightweight_charts import Chart\n",
    "from time import sleep\n",
    "import pandas_ta as pta\n",
    "from numba.experimental import jitclass\n",
    "from numba import njit\n",
    "import numpy as np\n",
    "import talib\n",
    "import pandas as pd\n",
    "from numba import njit\n",
    "\n",
    "\n",
    "mufex_main = Mufex(\n",
    "    api_key=MufexKeys.api_key,\n",
    "    secret_key=MufexKeys.secret_key,\n",
    "    use_test_net=False,\n",
    ")\n",
    "symbol=\"BTCUSDT\"\n",
    "\n",
    "%load_ext autoreload\n",
    "%autoreload 2\n"
   ]
  },
  {
   "cell_type": "code",
   "execution_count": 2,
   "metadata": {},
   "outputs": [
    {
     "name": "stdout",
     "output_type": "stream",
     "text": [
      "It took 00 mins and 01 seconds to download 300 candles\n"
     ]
    }
   ],
   "source": [
    "candles_np = mufex_main.get_candles_df(\n",
    "    symbol=symbol,\n",
    "    timeframe='1m',\n",
    "    candles_to_dl=300,\n",
    "    limit=200\n",
    ")"
   ]
  },
  {
   "cell_type": "code",
   "execution_count": 13,
   "metadata": {},
   "outputs": [],
   "source": [
    "@njit\n",
    "def printerthing(candles_np: np.array):\n",
    "    for i in range(100):\n",
    "        for a in range(1000):\n",
    "            for x in range(300):\n",
    "                candles_np['open'][x] * candles_np['close'][x] * candles_np['high'][x]\n",
    "printerthing(candles_np)"
   ]
  },
  {
   "cell_type": "code",
   "execution_count": 14,
   "metadata": {},
   "outputs": [],
   "source": [
    "def printerthing(candles_np: np.array):\n",
    "    for i in range(100):\n",
    "        for a in range(1000):\n",
    "            for x in range(300):\n",
    "                candles_np['open'][x] * candles_np['close'][x] * candles_np['high'][x]\n",
    "printerthing(candles_np)"
   ]
  },
  {
   "cell_type": "code",
   "execution_count": 15,
   "metadata": {},
   "outputs": [],
   "source": [
    "candles_df = pd.DataFrame(candles_np)"
   ]
  },
  {
   "cell_type": "code",
   "execution_count": 16,
   "metadata": {},
   "outputs": [],
   "source": [
    "def printerthing(candles_df: pd.DataFrame):\n",
    "    for i in range(100):\n",
    "        for a in range(1000):\n",
    "            for x in range(300):\n",
    "                candles_df['open'][x] * candles_df['close'][x] * candles_df['high'][x]\n",
    "printerthing(candles_df)"
   ]
  },
  {
   "cell_type": "code",
   "execution_count": null,
   "metadata": {},
   "outputs": [],
   "source": []
  },
  {
   "cell_type": "code",
   "execution_count": null,
   "metadata": {},
   "outputs": [],
   "source": [
    "candles_np_raw = np.array(candles.values.tolist(), dtype=np.float_)"
   ]
  },
  {
   "cell_type": "code",
   "execution_count": null,
   "metadata": {},
   "outputs": [],
   "source": [
    "candles_np_raw"
   ]
  },
  {
   "cell_type": "code",
   "execution_count": null,
   "metadata": {},
   "outputs": [],
   "source": [
    "hello = np.empty(len(candles.values.tolist()), dtype=np.dtype(\n",
    "    [\n",
    "        (\"timestamp\", np.int64),\n",
    "        (\"open\", np.float_),\n",
    "        (\"high\", np.float_),\n",
    "        (\"low\", np.float_),\n",
    "        (\"close\", np.float_),\n",
    "    ],\n",
    "    align=True,\n",
    "))"
   ]
  },
  {
   "cell_type": "code",
   "execution_count": null,
   "metadata": {},
   "outputs": [],
   "source": [
    "hello['timestamp'] = candles_np_raw[:,0]\n",
    "hello['open'] = candles.open\n",
    "hello['high'] = candles.high\n",
    "hello['low'] = candles.low\n",
    "hello['close'] = candles.close"
   ]
  },
  {
   "cell_type": "code",
   "execution_count": null,
   "metadata": {},
   "outputs": [],
   "source": [
    "hello"
   ]
  }
 ],
 "metadata": {
  "kernelspec": {
   "display_name": "qfFree",
   "language": "python",
   "name": "python3"
  },
  "language_info": {
   "codemirror_mode": {
    "name": "ipython",
    "version": 3
   },
   "file_extension": ".py",
   "mimetype": "text/x-python",
   "name": "python",
   "nbconvert_exporter": "python",
   "pygments_lexer": "ipython3",
   "version": "3.10.10"
  },
  "orig_nbformat": 4
 },
 "nbformat": 4,
 "nbformat_minor": 2
}
